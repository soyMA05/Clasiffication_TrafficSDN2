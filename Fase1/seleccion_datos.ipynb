{
 "cells": [
  {
   "attachments": {},
   "cell_type": "markdown",
   "metadata": {},
   "source": [
    "# Fase 1: Seleccion y reconocimiento de datos"
   ]
  },
  {
   "cell_type": "code",
   "execution_count": 4,
   "metadata": {},
   "outputs": [],
   "source": [
    "#libraries\n",
    "import pandas as pd\n",
    "import numpy as np\n",
    "import matplotlib.pyplot as plt\n",
    "import pathlib as pl\n",
    "from libmac import listar_archivos, etiquetar_unirdatosdeclase"
   ]
  },
  {
   "attachments": {},
   "cell_type": "markdown",
   "metadata": {},
   "source": [
    "## 1. Dataset del autor (flujos presentados)"
   ]
  },
  {
   "cell_type": "code",
   "execution_count": 3,
   "metadata": {},
   "outputs": [],
   "source": [
    "#import data\n",
    "dfa_normal = pd.read_csv('InSDN_DatasetCSV/Normal_data.csv')\n",
    "dfa_ataques = pd.read_csv('InSDN_DatasetCSV/OVS.csv')"
   ]
  },
  {
   "attachments": {},
   "cell_type": "markdown",
   "metadata": {},
   "source": [
    "### 1.1 Tráfico normal"
   ]
  },
  {
   "cell_type": "code",
   "execution_count": 4,
   "metadata": {},
   "outputs": [
    {
     "name": "stdout",
     "output_type": "stream",
     "text": [
      "<class 'pandas.core.frame.DataFrame'>\n",
      "RangeIndex: 68424 entries, 0 to 68423\n",
      "Data columns (total 84 columns):\n",
      " #   Column             Non-Null Count  Dtype  \n",
      "---  ------             --------------  -----  \n",
      " 0   Flow ID            68424 non-null  object \n",
      " 1   Src IP             68424 non-null  object \n",
      " 2   Src Port           68424 non-null  int64  \n",
      " 3   Dst IP             68424 non-null  object \n",
      " 4   Dst Port           68424 non-null  int64  \n",
      " 5   Protocol           68424 non-null  int64  \n",
      " 6   Timestamp          68424 non-null  object \n",
      " 7   Flow Duration      68424 non-null  int64  \n",
      " 8   Tot Fwd Pkts       68424 non-null  int64  \n",
      " 9   Tot Bwd Pkts       68424 non-null  int64  \n",
      " 10  TotLen Fwd Pkts    68424 non-null  float64\n",
      " 11  TotLen Bwd Pkts    68424 non-null  float64\n",
      " 12  Fwd Pkt Len Max    68424 non-null  int64  \n",
      " 13  Fwd Pkt Len Min    68424 non-null  int64  \n",
      " 14  Fwd Pkt Len Mean   68424 non-null  float64\n",
      " 15  Fwd Pkt Len Std    68424 non-null  float64\n",
      " 16  Bwd Pkt Len Max    68424 non-null  int64  \n",
      " 17  Bwd Pkt Len Min    68424 non-null  int64  \n",
      " 18  Bwd Pkt Len Mean   68424 non-null  float64\n",
      " 19  Bwd Pkt Len Std    68424 non-null  float64\n",
      " 20  Flow Byts/s        68424 non-null  float64\n",
      " 21  Flow Pkts/s        68424 non-null  float64\n",
      " 22  Flow IAT Mean      68424 non-null  float64\n",
      " 23  Flow IAT Std       68424 non-null  float64\n",
      " 24  Flow IAT Max       68424 non-null  float64\n",
      " 25  Flow IAT Min       68424 non-null  float64\n",
      " 26  Fwd IAT Tot        68424 non-null  float64\n",
      " 27  Fwd IAT Mean       68424 non-null  float64\n",
      " 28  Fwd IAT Std        68424 non-null  float64\n",
      " 29  Fwd IAT Max        68424 non-null  float64\n",
      " 30  Fwd IAT Min        68424 non-null  float64\n",
      " 31  Bwd IAT Tot        68424 non-null  float64\n",
      " 32  Bwd IAT Mean       68424 non-null  float64\n",
      " 33  Bwd IAT Std        68424 non-null  float64\n",
      " 34  Bwd IAT Max        68424 non-null  float64\n",
      " 35  Bwd IAT Min        68424 non-null  float64\n",
      " 36  Fwd PSH Flags      68424 non-null  int64  \n",
      " 37  Bwd PSH Flags      68424 non-null  int64  \n",
      " 38  Fwd URG Flags      68424 non-null  int64  \n",
      " 39  Bwd URG Flags      68424 non-null  int64  \n",
      " 40  Fwd Header Len     68424 non-null  int64  \n",
      " 41  Bwd Header Len     68424 non-null  int64  \n",
      " 42  Fwd Pkts/s         68424 non-null  float64\n",
      " 43  Bwd Pkts/s         68424 non-null  float64\n",
      " 44  Pkt Len Min        68424 non-null  int64  \n",
      " 45  Pkt Len Max        68424 non-null  int64  \n",
      " 46  Pkt Len Mean       68424 non-null  float64\n",
      " 47  Pkt Len Std        68424 non-null  float64\n",
      " 48  Pkt Len Var        68424 non-null  float64\n",
      " 49  FIN Flag Cnt       68424 non-null  int64  \n",
      " 50  SYN Flag Cnt       68424 non-null  int64  \n",
      " 51  RST Flag Cnt       68424 non-null  int64  \n",
      " 52  PSH Flag Cnt       68424 non-null  int64  \n",
      " 53  ACK Flag Cnt       68424 non-null  int64  \n",
      " 54  URG Flag Cnt       68424 non-null  int64  \n",
      " 55  CWE Flag Count     68424 non-null  int64  \n",
      " 56  ECE Flag Cnt       68424 non-null  int64  \n",
      " 57  Down/Up Ratio      68424 non-null  int64  \n",
      " 58  Pkt Size Avg       68424 non-null  float64\n",
      " 59  Fwd Seg Size Avg   68424 non-null  float64\n",
      " 60  Bwd Seg Size Avg   68424 non-null  float64\n",
      " 61  Fwd Byts/b Avg     68424 non-null  int64  \n",
      " 62  Fwd Pkts/b Avg     68424 non-null  int64  \n",
      " 63  Fwd Blk Rate Avg   68424 non-null  int64  \n",
      " 64  Bwd Byts/b Avg     68424 non-null  int64  \n",
      " 65  Bwd Pkts/b Avg     68424 non-null  int64  \n",
      " 66  Bwd Blk Rate Avg   68424 non-null  int64  \n",
      " 67  Subflow Fwd Pkts   68424 non-null  int64  \n",
      " 68  Subflow Fwd Byts   68424 non-null  int64  \n",
      " 69  Subflow Bwd Pkts   68424 non-null  int64  \n",
      " 70  Subflow Bwd Byts   68424 non-null  int64  \n",
      " 71  Init Fwd Win Byts  68424 non-null  int64  \n",
      " 72  Init Bwd Win Byts  68424 non-null  int64  \n",
      " 73  Fwd Act Data Pkts  68424 non-null  int64  \n",
      " 74  Fwd Seg Size Min   68424 non-null  int64  \n",
      " 75  Active Mean        68424 non-null  float64\n",
      " 76  Active Std         68424 non-null  float64\n",
      " 77  Active Max         68424 non-null  float64\n",
      " 78  Active Min         68424 non-null  float64\n",
      " 79  Idle Mean          68424 non-null  float64\n",
      " 80  Idle Std           68424 non-null  float64\n",
      " 81  Idle Max           68424 non-null  float64\n",
      " 82  Idle Min           68424 non-null  float64\n",
      " 83  Label              68424 non-null  object \n",
      "dtypes: float64(38), int64(41), object(5)\n",
      "memory usage: 43.9+ MB\n"
     ]
    }
   ],
   "source": [
    "#show features db normal\n",
    "dfa_normal.info(verbose=True)"
   ]
  },
  {
   "cell_type": "code",
   "execution_count": 5,
   "metadata": {},
   "outputs": [
    {
     "data": {
      "text/html": [
       "<div>\n",
       "<style scoped>\n",
       "    .dataframe tbody tr th:only-of-type {\n",
       "        vertical-align: middle;\n",
       "    }\n",
       "\n",
       "    .dataframe tbody tr th {\n",
       "        vertical-align: top;\n",
       "    }\n",
       "\n",
       "    .dataframe thead th {\n",
       "        text-align: right;\n",
       "    }\n",
       "</style>\n",
       "<table border=\"1\" class=\"dataframe\">\n",
       "  <thead>\n",
       "    <tr style=\"text-align: right;\">\n",
       "      <th></th>\n",
       "      <th>Src Port</th>\n",
       "      <th>Dst Port</th>\n",
       "      <th>Protocol</th>\n",
       "      <th>Flow Duration</th>\n",
       "      <th>Tot Fwd Pkts</th>\n",
       "      <th>Tot Bwd Pkts</th>\n",
       "      <th>TotLen Fwd Pkts</th>\n",
       "      <th>TotLen Bwd Pkts</th>\n",
       "      <th>Fwd Pkt Len Max</th>\n",
       "      <th>Fwd Pkt Len Min</th>\n",
       "      <th>...</th>\n",
       "      <th>Fwd Act Data Pkts</th>\n",
       "      <th>Fwd Seg Size Min</th>\n",
       "      <th>Active Mean</th>\n",
       "      <th>Active Std</th>\n",
       "      <th>Active Max</th>\n",
       "      <th>Active Min</th>\n",
       "      <th>Idle Mean</th>\n",
       "      <th>Idle Std</th>\n",
       "      <th>Idle Max</th>\n",
       "      <th>Idle Min</th>\n",
       "    </tr>\n",
       "  </thead>\n",
       "  <tbody>\n",
       "    <tr>\n",
       "      <th>count</th>\n",
       "      <td>68424.000000</td>\n",
       "      <td>68424.000000</td>\n",
       "      <td>68424.000000</td>\n",
       "      <td>6.842400e+04</td>\n",
       "      <td>68424.000000</td>\n",
       "      <td>68424.000000</td>\n",
       "      <td>6.842400e+04</td>\n",
       "      <td>6.842400e+04</td>\n",
       "      <td>68424.000000</td>\n",
       "      <td>68424.000000</td>\n",
       "      <td>...</td>\n",
       "      <td>68424.000000</td>\n",
       "      <td>68424.0</td>\n",
       "      <td>6.842400e+04</td>\n",
       "      <td>6.842400e+04</td>\n",
       "      <td>6.842400e+04</td>\n",
       "      <td>6.842400e+04</td>\n",
       "      <td>6.842400e+04</td>\n",
       "      <td>6.842400e+04</td>\n",
       "      <td>6.842400e+04</td>\n",
       "      <td>6.842400e+04</td>\n",
       "    </tr>\n",
       "    <tr>\n",
       "      <th>mean</th>\n",
       "      <td>37361.032459</td>\n",
       "      <td>9733.738557</td>\n",
       "      <td>11.418947</td>\n",
       "      <td>1.362636e+07</td>\n",
       "      <td>11.807217</td>\n",
       "      <td>18.592628</td>\n",
       "      <td>3.354497e+03</td>\n",
       "      <td>4.128116e+04</td>\n",
       "      <td>425.863644</td>\n",
       "      <td>22.297469</td>\n",
       "      <td>...</td>\n",
       "      <td>3.891266</td>\n",
       "      <td>0.0</td>\n",
       "      <td>1.887697e+05</td>\n",
       "      <td>1.434025e+05</td>\n",
       "      <td>3.980718e+05</td>\n",
       "      <td>8.563484e+04</td>\n",
       "      <td>4.508770e+06</td>\n",
       "      <td>6.041184e+05</td>\n",
       "      <td>5.066966e+06</td>\n",
       "      <td>3.975015e+06</td>\n",
       "    </tr>\n",
       "    <tr>\n",
       "      <th>std</th>\n",
       "      <td>20305.851419</td>\n",
       "      <td>19352.308798</td>\n",
       "      <td>5.551915</td>\n",
       "      <td>3.360107e+07</td>\n",
       "      <td>112.712183</td>\n",
       "      <td>235.949827</td>\n",
       "      <td>1.560998e+05</td>\n",
       "      <td>7.680108e+05</td>\n",
       "      <td>1425.400448</td>\n",
       "      <td>67.228213</td>\n",
       "      <td>...</td>\n",
       "      <td>57.082340</td>\n",
       "      <td>0.0</td>\n",
       "      <td>1.373001e+06</td>\n",
       "      <td>1.105629e+06</td>\n",
       "      <td>2.467808e+06</td>\n",
       "      <td>1.027435e+06</td>\n",
       "      <td>1.314630e+07</td>\n",
       "      <td>3.486207e+06</td>\n",
       "      <td>1.448106e+07</td>\n",
       "      <td>1.246315e+07</td>\n",
       "    </tr>\n",
       "    <tr>\n",
       "      <th>min</th>\n",
       "      <td>0.000000</td>\n",
       "      <td>0.000000</td>\n",
       "      <td>0.000000</td>\n",
       "      <td>-1.540000e+02</td>\n",
       "      <td>0.000000</td>\n",
       "      <td>1.000000</td>\n",
       "      <td>0.000000e+00</td>\n",
       "      <td>0.000000e+00</td>\n",
       "      <td>0.000000</td>\n",
       "      <td>0.000000</td>\n",
       "      <td>...</td>\n",
       "      <td>0.000000</td>\n",
       "      <td>0.0</td>\n",
       "      <td>0.000000e+00</td>\n",
       "      <td>0.000000e+00</td>\n",
       "      <td>0.000000e+00</td>\n",
       "      <td>0.000000e+00</td>\n",
       "      <td>0.000000e+00</td>\n",
       "      <td>0.000000e+00</td>\n",
       "      <td>0.000000e+00</td>\n",
       "      <td>0.000000e+00</td>\n",
       "    </tr>\n",
       "    <tr>\n",
       "      <th>25%</th>\n",
       "      <td>34213.500000</td>\n",
       "      <td>53.000000</td>\n",
       "      <td>6.000000</td>\n",
       "      <td>3.134000e+03</td>\n",
       "      <td>1.000000</td>\n",
       "      <td>2.000000</td>\n",
       "      <td>3.000000e+01</td>\n",
       "      <td>1.370000e+02</td>\n",
       "      <td>30.000000</td>\n",
       "      <td>0.000000</td>\n",
       "      <td>...</td>\n",
       "      <td>1.000000</td>\n",
       "      <td>0.0</td>\n",
       "      <td>0.000000e+00</td>\n",
       "      <td>0.000000e+00</td>\n",
       "      <td>0.000000e+00</td>\n",
       "      <td>0.000000e+00</td>\n",
       "      <td>0.000000e+00</td>\n",
       "      <td>0.000000e+00</td>\n",
       "      <td>0.000000e+00</td>\n",
       "      <td>0.000000e+00</td>\n",
       "    </tr>\n",
       "    <tr>\n",
       "      <th>50%</th>\n",
       "      <td>43383.000000</td>\n",
       "      <td>443.000000</td>\n",
       "      <td>6.000000</td>\n",
       "      <td>4.799000e+03</td>\n",
       "      <td>1.000000</td>\n",
       "      <td>3.000000</td>\n",
       "      <td>3.600000e+01</td>\n",
       "      <td>5.020000e+02</td>\n",
       "      <td>36.000000</td>\n",
       "      <td>0.000000</td>\n",
       "      <td>...</td>\n",
       "      <td>1.000000</td>\n",
       "      <td>0.0</td>\n",
       "      <td>0.000000e+00</td>\n",
       "      <td>0.000000e+00</td>\n",
       "      <td>0.000000e+00</td>\n",
       "      <td>0.000000e+00</td>\n",
       "      <td>0.000000e+00</td>\n",
       "      <td>0.000000e+00</td>\n",
       "      <td>0.000000e+00</td>\n",
       "      <td>0.000000e+00</td>\n",
       "    </tr>\n",
       "    <tr>\n",
       "      <th>75%</th>\n",
       "      <td>52105.250000</td>\n",
       "      <td>443.000000</td>\n",
       "      <td>17.000000</td>\n",
       "      <td>7.122470e+05</td>\n",
       "      <td>6.000000</td>\n",
       "      <td>5.000000</td>\n",
       "      <td>5.990000e+02</td>\n",
       "      <td>7.620000e+02</td>\n",
       "      <td>249.000000</td>\n",
       "      <td>34.000000</td>\n",
       "      <td>...</td>\n",
       "      <td>3.000000</td>\n",
       "      <td>0.0</td>\n",
       "      <td>0.000000e+00</td>\n",
       "      <td>0.000000e+00</td>\n",
       "      <td>0.000000e+00</td>\n",
       "      <td>0.000000e+00</td>\n",
       "      <td>0.000000e+00</td>\n",
       "      <td>0.000000e+00</td>\n",
       "      <td>0.000000e+00</td>\n",
       "      <td>0.000000e+00</td>\n",
       "    </tr>\n",
       "    <tr>\n",
       "      <th>max</th>\n",
       "      <td>65513.000000</td>\n",
       "      <td>60998.000000</td>\n",
       "      <td>17.000000</td>\n",
       "      <td>1.200000e+08</td>\n",
       "      <td>16928.000000</td>\n",
       "      <td>34094.000000</td>\n",
       "      <td>3.160000e+07</td>\n",
       "      <td>1.070000e+08</td>\n",
       "      <td>64239.000000</td>\n",
       "      <td>3900.000000</td>\n",
       "      <td>...</td>\n",
       "      <td>11180.000000</td>\n",
       "      <td>0.0</td>\n",
       "      <td>1.040000e+08</td>\n",
       "      <td>6.830000e+07</td>\n",
       "      <td>1.040000e+08</td>\n",
       "      <td>1.040000e+08</td>\n",
       "      <td>1.190000e+08</td>\n",
       "      <td>7.300000e+07</td>\n",
       "      <td>1.190000e+08</td>\n",
       "      <td>1.190000e+08</td>\n",
       "    </tr>\n",
       "  </tbody>\n",
       "</table>\n",
       "<p>8 rows × 79 columns</p>\n",
       "</div>"
      ],
      "text/plain": [
       "           Src Port      Dst Port      Protocol  Flow Duration  Tot Fwd Pkts  \\\n",
       "count  68424.000000  68424.000000  68424.000000   6.842400e+04  68424.000000   \n",
       "mean   37361.032459   9733.738557     11.418947   1.362636e+07     11.807217   \n",
       "std    20305.851419  19352.308798      5.551915   3.360107e+07    112.712183   \n",
       "min        0.000000      0.000000      0.000000  -1.540000e+02      0.000000   \n",
       "25%    34213.500000     53.000000      6.000000   3.134000e+03      1.000000   \n",
       "50%    43383.000000    443.000000      6.000000   4.799000e+03      1.000000   \n",
       "75%    52105.250000    443.000000     17.000000   7.122470e+05      6.000000   \n",
       "max    65513.000000  60998.000000     17.000000   1.200000e+08  16928.000000   \n",
       "\n",
       "       Tot Bwd Pkts  TotLen Fwd Pkts  TotLen Bwd Pkts  Fwd Pkt Len Max  \\\n",
       "count  68424.000000     6.842400e+04     6.842400e+04     68424.000000   \n",
       "mean      18.592628     3.354497e+03     4.128116e+04       425.863644   \n",
       "std      235.949827     1.560998e+05     7.680108e+05      1425.400448   \n",
       "min        1.000000     0.000000e+00     0.000000e+00         0.000000   \n",
       "25%        2.000000     3.000000e+01     1.370000e+02        30.000000   \n",
       "50%        3.000000     3.600000e+01     5.020000e+02        36.000000   \n",
       "75%        5.000000     5.990000e+02     7.620000e+02       249.000000   \n",
       "max    34094.000000     3.160000e+07     1.070000e+08     64239.000000   \n",
       "\n",
       "       Fwd Pkt Len Min  ...  Fwd Act Data Pkts  Fwd Seg Size Min  \\\n",
       "count     68424.000000  ...       68424.000000           68424.0   \n",
       "mean         22.297469  ...           3.891266               0.0   \n",
       "std          67.228213  ...          57.082340               0.0   \n",
       "min           0.000000  ...           0.000000               0.0   \n",
       "25%           0.000000  ...           1.000000               0.0   \n",
       "50%           0.000000  ...           1.000000               0.0   \n",
       "75%          34.000000  ...           3.000000               0.0   \n",
       "max        3900.000000  ...       11180.000000               0.0   \n",
       "\n",
       "        Active Mean    Active Std    Active Max    Active Min     Idle Mean  \\\n",
       "count  6.842400e+04  6.842400e+04  6.842400e+04  6.842400e+04  6.842400e+04   \n",
       "mean   1.887697e+05  1.434025e+05  3.980718e+05  8.563484e+04  4.508770e+06   \n",
       "std    1.373001e+06  1.105629e+06  2.467808e+06  1.027435e+06  1.314630e+07   \n",
       "min    0.000000e+00  0.000000e+00  0.000000e+00  0.000000e+00  0.000000e+00   \n",
       "25%    0.000000e+00  0.000000e+00  0.000000e+00  0.000000e+00  0.000000e+00   \n",
       "50%    0.000000e+00  0.000000e+00  0.000000e+00  0.000000e+00  0.000000e+00   \n",
       "75%    0.000000e+00  0.000000e+00  0.000000e+00  0.000000e+00  0.000000e+00   \n",
       "max    1.040000e+08  6.830000e+07  1.040000e+08  1.040000e+08  1.190000e+08   \n",
       "\n",
       "           Idle Std      Idle Max      Idle Min  \n",
       "count  6.842400e+04  6.842400e+04  6.842400e+04  \n",
       "mean   6.041184e+05  5.066966e+06  3.975015e+06  \n",
       "std    3.486207e+06  1.448106e+07  1.246315e+07  \n",
       "min    0.000000e+00  0.000000e+00  0.000000e+00  \n",
       "25%    0.000000e+00  0.000000e+00  0.000000e+00  \n",
       "50%    0.000000e+00  0.000000e+00  0.000000e+00  \n",
       "75%    0.000000e+00  0.000000e+00  0.000000e+00  \n",
       "max    7.300000e+07  1.190000e+08  1.190000e+08  \n",
       "\n",
       "[8 rows x 79 columns]"
      ]
     },
     "execution_count": 5,
     "metadata": {},
     "output_type": "execute_result"
    }
   ],
   "source": [
    "#show statics of db normal\n",
    "dfa_normal.describe()"
   ]
  },
  {
   "cell_type": "code",
   "execution_count": 6,
   "metadata": {},
   "outputs": [
    {
     "data": {
      "text/plain": [
       "array([ 6,  0, 17], dtype=int64)"
      ]
     },
     "execution_count": 6,
     "metadata": {},
     "output_type": "execute_result"
    }
   ],
   "source": [
    "#encontrar tipos de protocolos\n",
    "dfa_normal.Protocol.unique()"
   ]
  },
  {
   "cell_type": "code",
   "execution_count": 7,
   "metadata": {},
   "outputs": [
    {
     "data": {
      "text/plain": [
       "array(['Normal'], dtype=object)"
      ]
     },
     "execution_count": 7,
     "metadata": {},
     "output_type": "execute_result"
    }
   ],
   "source": [
    "#tipo de trafico\n",
    "dfa_normal.Label.unique()"
   ]
  },
  {
   "attachments": {},
   "cell_type": "markdown",
   "metadata": {},
   "source": [
    "**Descripción subconjunto de tráfico normal:**<br>\n",
    "El subconjunto de tráfico normal cuenta con un total de 84 caracteríticas y 68424 muestras. Los registros de flujo analizados contiene tres tipos de datos: object, float e int. Las caracteristicas de tipo object son: \n",
    "- Flow ID (contiene la IP de origen y destino, puerto de origen y destino, y protocolo L4).\n",
    "- Src IP (direccion ip de origen).\n",
    "- Dst IP (direccion ip de destino). \n",
    "- Timestamp: marca de tiempo.\n",
    "- Label: etiqueta.\n",
    "\n",
    "La caracteristica Protocolo es de tipo Int y contiene 3 valores; HOPOPT, UDP, TCP, además estos datos ya se encuentran enumerados.\n",
    "También, existen conjuntos de atributos estadísticos referentes a los flujos de tráficos, intervalos de tiempo, bytes, paquetes, entre otros. Estos últimos se analizarán con más detalle en la siguiente fase."
   ]
  },
  {
   "attachments": {},
   "cell_type": "markdown",
   "metadata": {},
   "source": [
    "### 1.2 Tráfico de ataque"
   ]
  },
  {
   "cell_type": "code",
   "execution_count": 10,
   "metadata": {},
   "outputs": [
    {
     "name": "stdout",
     "output_type": "stream",
     "text": [
      "<class 'pandas.core.frame.DataFrame'>\n",
      "RangeIndex: 138722 entries, 0 to 138721\n",
      "Data columns (total 84 columns):\n",
      " #   Column             Non-Null Count   Dtype  \n",
      "---  ------             --------------   -----  \n",
      " 0   Flow ID            138722 non-null  object \n",
      " 1   Src IP             138722 non-null  object \n",
      " 2   Src Port           138722 non-null  int64  \n",
      " 3   Dst IP             138722 non-null  object \n",
      " 4   Dst Port           138722 non-null  int64  \n",
      " 5   Protocol           138722 non-null  int64  \n",
      " 6   Timestamp          138722 non-null  object \n",
      " 7   Flow Duration      138722 non-null  int64  \n",
      " 8   Tot Fwd Pkts       138722 non-null  int64  \n",
      " 9   Tot Bwd Pkts       138722 non-null  int64  \n",
      " 10  TotLen Fwd Pkts    138722 non-null  int64  \n",
      " 11  TotLen Bwd Pkts    138722 non-null  int64  \n",
      " 12  Fwd Pkt Len Max    138722 non-null  int64  \n",
      " 13  Fwd Pkt Len Min    138722 non-null  int64  \n",
      " 14  Fwd Pkt Len Mean   138722 non-null  float64\n",
      " 15  Fwd Pkt Len Std    138722 non-null  float64\n",
      " 16  Bwd Pkt Len Max    138722 non-null  int64  \n",
      " 17  Bwd Pkt Len Min    138722 non-null  int64  \n",
      " 18  Bwd Pkt Len Mean   138722 non-null  float64\n",
      " 19  Bwd Pkt Len Std    138722 non-null  float64\n",
      " 20  Flow Byts/s        138722 non-null  float64\n",
      " 21  Flow Pkts/s        138722 non-null  float64\n",
      " 22  Flow IAT Mean      138722 non-null  float64\n",
      " 23  Flow IAT Std       138722 non-null  float64\n",
      " 24  Flow IAT Max       138722 non-null  float64\n",
      " 25  Flow IAT Min       138722 non-null  float64\n",
      " 26  Fwd IAT Tot        138722 non-null  float64\n",
      " 27  Fwd IAT Mean       138722 non-null  float64\n",
      " 28  Fwd IAT Std        138722 non-null  float64\n",
      " 29  Fwd IAT Max        138722 non-null  float64\n",
      " 30  Fwd IAT Min        138722 non-null  float64\n",
      " 31  Bwd IAT Tot        138722 non-null  float64\n",
      " 32  Bwd IAT Mean       138722 non-null  float64\n",
      " 33  Bwd IAT Std        138722 non-null  float64\n",
      " 34  Bwd IAT Max        138722 non-null  float64\n",
      " 35  Bwd IAT Min        138722 non-null  float64\n",
      " 36  Fwd PSH Flags      138722 non-null  int64  \n",
      " 37  Bwd PSH Flags      138722 non-null  int64  \n",
      " 38  Fwd URG Flags      138722 non-null  int64  \n",
      " 39  Bwd URG Flags      138722 non-null  int64  \n",
      " 40  Fwd Header Len     138722 non-null  int64  \n",
      " 41  Bwd Header Len     138722 non-null  int64  \n",
      " 42  Fwd Pkts/s         138722 non-null  float64\n",
      " 43  Bwd Pkts/s         138722 non-null  float64\n",
      " 44  Pkt Len Min        138722 non-null  int64  \n",
      " 45  Pkt Len Max        138722 non-null  int64  \n",
      " 46  Pkt Len Mean       138722 non-null  float64\n",
      " 47  Pkt Len Std        138722 non-null  float64\n",
      " 48  Pkt Len Var        138722 non-null  float64\n",
      " 49  FIN Flag Cnt       138722 non-null  int64  \n",
      " 50  SYN Flag Cnt       138722 non-null  int64  \n",
      " 51  RST Flag Cnt       138722 non-null  int64  \n",
      " 52  PSH Flag Cnt       138722 non-null  int64  \n",
      " 53  ACK Flag Cnt       138722 non-null  int64  \n",
      " 54  URG Flag Cnt       138722 non-null  int64  \n",
      " 55  CWE Flag Count     138722 non-null  int64  \n",
      " 56  ECE Flag Cnt       138722 non-null  int64  \n",
      " 57  Down/Up Ratio      138722 non-null  int64  \n",
      " 58  Pkt Size Avg       138722 non-null  float64\n",
      " 59  Fwd Seg Size Avg   138722 non-null  float64\n",
      " 60  Bwd Seg Size Avg   138722 non-null  float64\n",
      " 61  Fwd Byts/b Avg     138722 non-null  int64  \n",
      " 62  Fwd Pkts/b Avg     138722 non-null  int64  \n",
      " 63  Fwd Blk Rate Avg   138722 non-null  int64  \n",
      " 64  Bwd Byts/b Avg     138722 non-null  int64  \n",
      " 65  Bwd Pkts/b Avg     138722 non-null  int64  \n",
      " 66  Bwd Blk Rate Avg   138722 non-null  int64  \n",
      " 67  Subflow Fwd Pkts   138722 non-null  int64  \n",
      " 68  Subflow Fwd Byts   138722 non-null  int64  \n",
      " 69  Subflow Bwd Pkts   138722 non-null  int64  \n",
      " 70  Subflow Bwd Byts   138722 non-null  int64  \n",
      " 71  Init Fwd Win Byts  138722 non-null  int64  \n",
      " 72  Init Bwd Win Byts  138722 non-null  int64  \n",
      " 73  Fwd Act Data Pkts  138722 non-null  int64  \n",
      " 74  Fwd Seg Size Min   138722 non-null  int64  \n",
      " 75  Active Mean        138722 non-null  float64\n",
      " 76  Active Std         138722 non-null  float64\n",
      " 77  Active Max         138722 non-null  float64\n",
      " 78  Active Min         138722 non-null  float64\n",
      " 79  Idle Mean          138722 non-null  float64\n",
      " 80  Idle Std           138722 non-null  float64\n",
      " 81  Idle Max           138722 non-null  float64\n",
      " 82  Idle Min           138722 non-null  float64\n",
      " 83  Label              138722 non-null  object \n",
      "dtypes: float64(36), int64(43), object(5)\n",
      "memory usage: 88.9+ MB\n"
     ]
    }
   ],
   "source": [
    "#mostrar caracteristicas de los datos de ataques\n",
    "dfa_ataques.info(verbose=True)"
   ]
  },
  {
   "cell_type": "code",
   "execution_count": 9,
   "metadata": {},
   "outputs": [
    {
     "data": {
      "text/html": [
       "<div>\n",
       "<style scoped>\n",
       "    .dataframe tbody tr th:only-of-type {\n",
       "        vertical-align: middle;\n",
       "    }\n",
       "\n",
       "    .dataframe tbody tr th {\n",
       "        vertical-align: top;\n",
       "    }\n",
       "\n",
       "    .dataframe thead th {\n",
       "        text-align: right;\n",
       "    }\n",
       "</style>\n",
       "<table border=\"1\" class=\"dataframe\">\n",
       "  <thead>\n",
       "    <tr style=\"text-align: right;\">\n",
       "      <th></th>\n",
       "      <th>Src Port</th>\n",
       "      <th>Dst Port</th>\n",
       "      <th>Protocol</th>\n",
       "      <th>Flow Duration</th>\n",
       "      <th>Tot Fwd Pkts</th>\n",
       "      <th>Tot Bwd Pkts</th>\n",
       "      <th>TotLen Fwd Pkts</th>\n",
       "      <th>TotLen Bwd Pkts</th>\n",
       "      <th>Fwd Pkt Len Max</th>\n",
       "      <th>Fwd Pkt Len Min</th>\n",
       "      <th>...</th>\n",
       "      <th>Fwd Act Data Pkts</th>\n",
       "      <th>Fwd Seg Size Min</th>\n",
       "      <th>Active Mean</th>\n",
       "      <th>Active Std</th>\n",
       "      <th>Active Max</th>\n",
       "      <th>Active Min</th>\n",
       "      <th>Idle Mean</th>\n",
       "      <th>Idle Std</th>\n",
       "      <th>Idle Max</th>\n",
       "      <th>Idle Min</th>\n",
       "    </tr>\n",
       "  </thead>\n",
       "  <tbody>\n",
       "    <tr>\n",
       "      <th>count</th>\n",
       "      <td>68424.000000</td>\n",
       "      <td>68424.000000</td>\n",
       "      <td>68424.000000</td>\n",
       "      <td>6.842400e+04</td>\n",
       "      <td>68424.000000</td>\n",
       "      <td>68424.000000</td>\n",
       "      <td>6.842400e+04</td>\n",
       "      <td>6.842400e+04</td>\n",
       "      <td>68424.000000</td>\n",
       "      <td>68424.000000</td>\n",
       "      <td>...</td>\n",
       "      <td>68424.000000</td>\n",
       "      <td>68424.0</td>\n",
       "      <td>6.842400e+04</td>\n",
       "      <td>6.842400e+04</td>\n",
       "      <td>6.842400e+04</td>\n",
       "      <td>6.842400e+04</td>\n",
       "      <td>6.842400e+04</td>\n",
       "      <td>6.842400e+04</td>\n",
       "      <td>6.842400e+04</td>\n",
       "      <td>6.842400e+04</td>\n",
       "    </tr>\n",
       "    <tr>\n",
       "      <th>mean</th>\n",
       "      <td>37361.032459</td>\n",
       "      <td>9733.738557</td>\n",
       "      <td>11.418947</td>\n",
       "      <td>1.362636e+07</td>\n",
       "      <td>11.807217</td>\n",
       "      <td>18.592628</td>\n",
       "      <td>3.354497e+03</td>\n",
       "      <td>4.128116e+04</td>\n",
       "      <td>425.863644</td>\n",
       "      <td>22.297469</td>\n",
       "      <td>...</td>\n",
       "      <td>3.891266</td>\n",
       "      <td>0.0</td>\n",
       "      <td>1.887697e+05</td>\n",
       "      <td>1.434025e+05</td>\n",
       "      <td>3.980718e+05</td>\n",
       "      <td>8.563484e+04</td>\n",
       "      <td>4.508770e+06</td>\n",
       "      <td>6.041184e+05</td>\n",
       "      <td>5.066966e+06</td>\n",
       "      <td>3.975015e+06</td>\n",
       "    </tr>\n",
       "    <tr>\n",
       "      <th>std</th>\n",
       "      <td>20305.851419</td>\n",
       "      <td>19352.308798</td>\n",
       "      <td>5.551915</td>\n",
       "      <td>3.360107e+07</td>\n",
       "      <td>112.712183</td>\n",
       "      <td>235.949827</td>\n",
       "      <td>1.560998e+05</td>\n",
       "      <td>7.680108e+05</td>\n",
       "      <td>1425.400448</td>\n",
       "      <td>67.228213</td>\n",
       "      <td>...</td>\n",
       "      <td>57.082340</td>\n",
       "      <td>0.0</td>\n",
       "      <td>1.373001e+06</td>\n",
       "      <td>1.105629e+06</td>\n",
       "      <td>2.467808e+06</td>\n",
       "      <td>1.027435e+06</td>\n",
       "      <td>1.314630e+07</td>\n",
       "      <td>3.486207e+06</td>\n",
       "      <td>1.448106e+07</td>\n",
       "      <td>1.246315e+07</td>\n",
       "    </tr>\n",
       "    <tr>\n",
       "      <th>min</th>\n",
       "      <td>0.000000</td>\n",
       "      <td>0.000000</td>\n",
       "      <td>0.000000</td>\n",
       "      <td>-1.540000e+02</td>\n",
       "      <td>0.000000</td>\n",
       "      <td>1.000000</td>\n",
       "      <td>0.000000e+00</td>\n",
       "      <td>0.000000e+00</td>\n",
       "      <td>0.000000</td>\n",
       "      <td>0.000000</td>\n",
       "      <td>...</td>\n",
       "      <td>0.000000</td>\n",
       "      <td>0.0</td>\n",
       "      <td>0.000000e+00</td>\n",
       "      <td>0.000000e+00</td>\n",
       "      <td>0.000000e+00</td>\n",
       "      <td>0.000000e+00</td>\n",
       "      <td>0.000000e+00</td>\n",
       "      <td>0.000000e+00</td>\n",
       "      <td>0.000000e+00</td>\n",
       "      <td>0.000000e+00</td>\n",
       "    </tr>\n",
       "    <tr>\n",
       "      <th>25%</th>\n",
       "      <td>34213.500000</td>\n",
       "      <td>53.000000</td>\n",
       "      <td>6.000000</td>\n",
       "      <td>3.134000e+03</td>\n",
       "      <td>1.000000</td>\n",
       "      <td>2.000000</td>\n",
       "      <td>3.000000e+01</td>\n",
       "      <td>1.370000e+02</td>\n",
       "      <td>30.000000</td>\n",
       "      <td>0.000000</td>\n",
       "      <td>...</td>\n",
       "      <td>1.000000</td>\n",
       "      <td>0.0</td>\n",
       "      <td>0.000000e+00</td>\n",
       "      <td>0.000000e+00</td>\n",
       "      <td>0.000000e+00</td>\n",
       "      <td>0.000000e+00</td>\n",
       "      <td>0.000000e+00</td>\n",
       "      <td>0.000000e+00</td>\n",
       "      <td>0.000000e+00</td>\n",
       "      <td>0.000000e+00</td>\n",
       "    </tr>\n",
       "    <tr>\n",
       "      <th>50%</th>\n",
       "      <td>43383.000000</td>\n",
       "      <td>443.000000</td>\n",
       "      <td>6.000000</td>\n",
       "      <td>4.799000e+03</td>\n",
       "      <td>1.000000</td>\n",
       "      <td>3.000000</td>\n",
       "      <td>3.600000e+01</td>\n",
       "      <td>5.020000e+02</td>\n",
       "      <td>36.000000</td>\n",
       "      <td>0.000000</td>\n",
       "      <td>...</td>\n",
       "      <td>1.000000</td>\n",
       "      <td>0.0</td>\n",
       "      <td>0.000000e+00</td>\n",
       "      <td>0.000000e+00</td>\n",
       "      <td>0.000000e+00</td>\n",
       "      <td>0.000000e+00</td>\n",
       "      <td>0.000000e+00</td>\n",
       "      <td>0.000000e+00</td>\n",
       "      <td>0.000000e+00</td>\n",
       "      <td>0.000000e+00</td>\n",
       "    </tr>\n",
       "    <tr>\n",
       "      <th>75%</th>\n",
       "      <td>52105.250000</td>\n",
       "      <td>443.000000</td>\n",
       "      <td>17.000000</td>\n",
       "      <td>7.122470e+05</td>\n",
       "      <td>6.000000</td>\n",
       "      <td>5.000000</td>\n",
       "      <td>5.990000e+02</td>\n",
       "      <td>7.620000e+02</td>\n",
       "      <td>249.000000</td>\n",
       "      <td>34.000000</td>\n",
       "      <td>...</td>\n",
       "      <td>3.000000</td>\n",
       "      <td>0.0</td>\n",
       "      <td>0.000000e+00</td>\n",
       "      <td>0.000000e+00</td>\n",
       "      <td>0.000000e+00</td>\n",
       "      <td>0.000000e+00</td>\n",
       "      <td>0.000000e+00</td>\n",
       "      <td>0.000000e+00</td>\n",
       "      <td>0.000000e+00</td>\n",
       "      <td>0.000000e+00</td>\n",
       "    </tr>\n",
       "    <tr>\n",
       "      <th>max</th>\n",
       "      <td>65513.000000</td>\n",
       "      <td>60998.000000</td>\n",
       "      <td>17.000000</td>\n",
       "      <td>1.200000e+08</td>\n",
       "      <td>16928.000000</td>\n",
       "      <td>34094.000000</td>\n",
       "      <td>3.160000e+07</td>\n",
       "      <td>1.070000e+08</td>\n",
       "      <td>64239.000000</td>\n",
       "      <td>3900.000000</td>\n",
       "      <td>...</td>\n",
       "      <td>11180.000000</td>\n",
       "      <td>0.0</td>\n",
       "      <td>1.040000e+08</td>\n",
       "      <td>6.830000e+07</td>\n",
       "      <td>1.040000e+08</td>\n",
       "      <td>1.040000e+08</td>\n",
       "      <td>1.190000e+08</td>\n",
       "      <td>7.300000e+07</td>\n",
       "      <td>1.190000e+08</td>\n",
       "      <td>1.190000e+08</td>\n",
       "    </tr>\n",
       "  </tbody>\n",
       "</table>\n",
       "<p>8 rows × 79 columns</p>\n",
       "</div>"
      ],
      "text/plain": [
       "           Src Port      Dst Port      Protocol  Flow Duration  Tot Fwd Pkts  \\\n",
       "count  68424.000000  68424.000000  68424.000000   6.842400e+04  68424.000000   \n",
       "mean   37361.032459   9733.738557     11.418947   1.362636e+07     11.807217   \n",
       "std    20305.851419  19352.308798      5.551915   3.360107e+07    112.712183   \n",
       "min        0.000000      0.000000      0.000000  -1.540000e+02      0.000000   \n",
       "25%    34213.500000     53.000000      6.000000   3.134000e+03      1.000000   \n",
       "50%    43383.000000    443.000000      6.000000   4.799000e+03      1.000000   \n",
       "75%    52105.250000    443.000000     17.000000   7.122470e+05      6.000000   \n",
       "max    65513.000000  60998.000000     17.000000   1.200000e+08  16928.000000   \n",
       "\n",
       "       Tot Bwd Pkts  TotLen Fwd Pkts  TotLen Bwd Pkts  Fwd Pkt Len Max  \\\n",
       "count  68424.000000     6.842400e+04     6.842400e+04     68424.000000   \n",
       "mean      18.592628     3.354497e+03     4.128116e+04       425.863644   \n",
       "std      235.949827     1.560998e+05     7.680108e+05      1425.400448   \n",
       "min        1.000000     0.000000e+00     0.000000e+00         0.000000   \n",
       "25%        2.000000     3.000000e+01     1.370000e+02        30.000000   \n",
       "50%        3.000000     3.600000e+01     5.020000e+02        36.000000   \n",
       "75%        5.000000     5.990000e+02     7.620000e+02       249.000000   \n",
       "max    34094.000000     3.160000e+07     1.070000e+08     64239.000000   \n",
       "\n",
       "       Fwd Pkt Len Min  ...  Fwd Act Data Pkts  Fwd Seg Size Min  \\\n",
       "count     68424.000000  ...       68424.000000           68424.0   \n",
       "mean         22.297469  ...           3.891266               0.0   \n",
       "std          67.228213  ...          57.082340               0.0   \n",
       "min           0.000000  ...           0.000000               0.0   \n",
       "25%           0.000000  ...           1.000000               0.0   \n",
       "50%           0.000000  ...           1.000000               0.0   \n",
       "75%          34.000000  ...           3.000000               0.0   \n",
       "max        3900.000000  ...       11180.000000               0.0   \n",
       "\n",
       "        Active Mean    Active Std    Active Max    Active Min     Idle Mean  \\\n",
       "count  6.842400e+04  6.842400e+04  6.842400e+04  6.842400e+04  6.842400e+04   \n",
       "mean   1.887697e+05  1.434025e+05  3.980718e+05  8.563484e+04  4.508770e+06   \n",
       "std    1.373001e+06  1.105629e+06  2.467808e+06  1.027435e+06  1.314630e+07   \n",
       "min    0.000000e+00  0.000000e+00  0.000000e+00  0.000000e+00  0.000000e+00   \n",
       "25%    0.000000e+00  0.000000e+00  0.000000e+00  0.000000e+00  0.000000e+00   \n",
       "50%    0.000000e+00  0.000000e+00  0.000000e+00  0.000000e+00  0.000000e+00   \n",
       "75%    0.000000e+00  0.000000e+00  0.000000e+00  0.000000e+00  0.000000e+00   \n",
       "max    1.040000e+08  6.830000e+07  1.040000e+08  1.040000e+08  1.190000e+08   \n",
       "\n",
       "           Idle Std      Idle Max      Idle Min  \n",
       "count  6.842400e+04  6.842400e+04  6.842400e+04  \n",
       "mean   6.041184e+05  5.066966e+06  3.975015e+06  \n",
       "std    3.486207e+06  1.448106e+07  1.246315e+07  \n",
       "min    0.000000e+00  0.000000e+00  0.000000e+00  \n",
       "25%    0.000000e+00  0.000000e+00  0.000000e+00  \n",
       "50%    0.000000e+00  0.000000e+00  0.000000e+00  \n",
       "75%    0.000000e+00  0.000000e+00  0.000000e+00  \n",
       "max    7.300000e+07  1.190000e+08  1.190000e+08  \n",
       "\n",
       "[8 rows x 79 columns]"
      ]
     },
     "execution_count": 9,
     "metadata": {},
     "output_type": "execute_result"
    }
   ],
   "source": [
    "#mostrar estadisticas del trafico de ataques\n",
    "dfa_ataques.describe()"
   ]
  },
  {
   "cell_type": "code",
   "execution_count": 11,
   "metadata": {},
   "outputs": [
    {
     "data": {
      "text/plain": [
       "array([ 6,  0, 17], dtype=int64)"
      ]
     },
     "execution_count": 11,
     "metadata": {},
     "output_type": "execute_result"
    }
   ],
   "source": [
    "#encontrar tipos de protocolos\n",
    "dfa_ataques.Protocol.unique()"
   ]
  },
  {
   "cell_type": "code",
   "execution_count": 12,
   "metadata": {},
   "outputs": [
    {
     "data": {
      "text/plain": [
       "array(['BFA', 'DDoS ', 'DoS', 'Probe', 'Web-Attack', 'BOTNET'],\n",
       "      dtype=object)"
      ]
     },
     "execution_count": 12,
     "metadata": {},
     "output_type": "execute_result"
    }
   ],
   "source": [
    "# tipos de ataques\n",
    "dfa_ataques.Label.unique()"
   ]
  },
  {
   "attachments": {},
   "cell_type": "markdown",
   "metadata": {},
   "source": [
    "**Descripción subconjunto de tráfico de ataque:**<br>\n",
    "El subconjunto de tráfico de ataque cuenta con 84 caracteríticas y 138722 muestras. Los tipos de ataque son: fuerza bruta (BFA), DDoS, Dos, Probe, Web y botnet, cuyas muestras están desequilibradas. Así mismo, los registros de flujo contiene tres tipos de datos: object, float e int. Las caracteristicas de tipo object siguen siendo las mismas del anterior (normal). Se repiten los mismos protocolos codificados de L4 HOPOPT, UDP y TCP.\n",
    "También, existen los mismos conjuntos de atributos estadísticos referentes a los flujos de tráficos, intervalos de tiempo, bytes, paquetes, etc, los cuales serán analizados con más detalle en la siguiente fase."
   ]
  },
  {
   "attachments": {},
   "cell_type": "markdown",
   "metadata": {},
   "source": [
    "### 1.3 Total de datos"
   ]
  },
  {
   "cell_type": "code",
   "execution_count": 13,
   "metadata": {},
   "outputs": [
    {
     "data": {
      "text/plain": [
       "(207146, 84)"
      ]
     },
     "execution_count": 13,
     "metadata": {},
     "output_type": "execute_result"
    }
   ],
   "source": [
    "#concatenar dataset\n",
    "df_unido = pd.concat([dfa_normal,dfa_ataques], axis=0)\n",
    "#dimension del conjunto total \n",
    "df_unido.shape"
   ]
  },
  {
   "cell_type": "code",
   "execution_count": 15,
   "metadata": {},
   "outputs": [],
   "source": [
    "#seleccion de variable independiente\n",
    "X = df_unido.iloc[:,:-1].values\n",
    "#seleccion de variable dependiente u objetivo\n",
    "y=df_unido.iloc[:,83]"
   ]
  },
  {
   "cell_type": "code",
   "execution_count": 16,
   "metadata": {},
   "outputs": [
    {
     "name": "stdout",
     "output_type": "stream",
     "text": [
      "Normal        68424\n",
      "DoS           52471\n",
      "DDoS          48413\n",
      "Probe         36372\n",
      "BFA            1110\n",
      "Web-Attack      192\n",
      "BOTNET          164\n",
      "Name: Label, dtype: int64 207146\n"
     ]
    }
   ],
   "source": [
    "#cantidad de muestras por clase\n",
    "print(f\"{y.value_counts()}\",f\"{y.value_counts().sum()}\" )"
   ]
  },
  {
   "attachments": {},
   "cell_type": "markdown",
   "metadata": {},
   "source": [
    "# 2. Datos extraídos con cicflowmeter version Java"
   ]
  },
  {
   "cell_type": "code",
   "execution_count": 2,
   "metadata": {},
   "outputs": [],
   "source": [
    "#diccionario de acceso a archivos de extraccion de flujos\n",
    "dir_trafico = pl.Path(\"/ML-Tesis-Attacks/PcapToCsv/windows/trafico/\")\n",
    "\"\"\"crear diccionario para el acceso de archivos\"\"\"\n",
    "dicc_traficoJ = {\n",
    "    'Normal':list(dir_trafico.glob('normal/*.csv')),\n",
    "    'BOTNET': list(dir_trafico.glob('Botnet/*.csv')),\n",
    "    'BFA': list(dir_trafico.glob('brute-force-attack/*.csv')),  \n",
    "    'DDoS': list(dir_trafico.glob('DDoS/*.csv')),  \n",
    "    'Dos': list(dir_trafico.glob('dos/**/*.csv')),  \n",
    "    'Probe': list(dir_trafico.glob('Probe/*.csv')),  \n",
    "    'Web-Attack': list(dir_trafico.glob('web_attack/*.csv'))  \n",
    "}"
   ]
  },
  {
   "cell_type": "code",
   "execution_count": 3,
   "metadata": {},
   "outputs": [
    {
     "name": "stdout",
     "output_type": "stream",
     "text": [
      "Clase: Normal\n",
      "1\n",
      "2\n",
      "3\n",
      "4\n",
      "5\n",
      "6\n",
      "7\n",
      "8\n",
      "9\n",
      "10\n",
      "11\n",
      "12\n",
      "13\n",
      "14\n",
      "15\n",
      "16\n",
      "17\n",
      "18\n",
      "19\n",
      "20\n",
      "21\n",
      "22\n",
      "Clase: BOTNET\n",
      "1\n",
      "Clase: BFA\n",
      "1\n",
      "2\n",
      "3\n",
      "4\n",
      "Clase: DDoS\n",
      "1\n",
      "2\n",
      "3\n",
      "Clase: Dos\n",
      "1\n",
      "2\n",
      "3\n",
      "4\n",
      "5\n",
      "6\n",
      "7\n",
      "8\n",
      "9\n",
      "10\n",
      "11\n",
      "12\n",
      "13\n",
      "14\n",
      "15\n",
      "16\n",
      "17\n",
      "18\n",
      "Clase: Probe\n",
      "1\n",
      "2\n",
      "3\n",
      "4\n",
      "Clase: Web-Attack\n",
      "1\n",
      "2\n",
      "3\n",
      "4\n",
      "5\n",
      "6\n"
     ]
    }
   ],
   "source": [
    "#mostrar nro de archivos\n",
    "listar_archivos(dicc_traficoJ)"
   ]
  },
  {
   "cell_type": "code",
   "execution_count": 4,
   "metadata": {},
   "outputs": [
    {
     "name": "stdout",
     "output_type": "stream",
     "text": [
      "En proceso de clase Normal...\n",
      "Proceso completado.... \n",
      " Total de archivos unidos: 22\n",
      "En proceso de clase BOTNET...\n",
      "Proceso completado.... \n",
      " Total de archivos unidos: 1\n",
      "En proceso de clase BFA...\n",
      "Proceso completado.... \n",
      " Total de archivos unidos: 4\n",
      "En proceso de clase DDoS...\n",
      "Proceso completado.... \n",
      " Total de archivos unidos: 3\n",
      "En proceso de clase Dos...\n",
      "Proceso completado.... \n",
      " Total de archivos unidos: 18\n",
      "En proceso de clase Probe...\n",
      "Proceso completado.... \n",
      " Total de archivos unidos: 4\n",
      "En proceso de clase Web-Attack...\n",
      "Proceso completado.... \n",
      " Total de archivos unidos: 6\n"
     ]
    }
   ],
   "source": [
    "#unir datos extraidos de la misma clase y etiquetarlos\n",
    "etiquetar_unirdatosdeclase(dicc_traficoJ, 'Label', '/ML-Tesis-Attacks/datos_SDN/claseDatosJW/')"
   ]
  },
  {
   "cell_type": "code",
   "execution_count": 5,
   "metadata": {},
   "outputs": [],
   "source": [
    "#importar\n",
    "df_bfajw=pd.read_csv('/ML-Tesis-Attacks/datos_SDN/claseDatosJW/BFA.csv')\n",
    "df_botnetjw=pd.read_csv('/ML-Tesis-Attacks/datos_SDN/claseDatosJW/BOTNET.csv')\n",
    "df_ddosjw=pd.read_csv('/ML-Tesis-Attacks/datos_SDN/claseDatosJW/DDoS.csv')\n",
    "df_dosjw=pd.read_csv('/ML-Tesis-Attacks/datos_SDN/claseDatosJW/Dos.csv')\n",
    "df_normaljw=pd.read_csv('/ML-Tesis-Attacks/datos_SDN/claseDatosJW/Normal.csv')\n",
    "df_probejw=pd.read_csv('/ML-Tesis-Attacks/datos_SDN/claseDatosJW/Probe.csv')\n",
    "df_webattackjw=pd.read_csv('/ML-Tesis-Attacks/datos_SDN/claseDatosJW/Web-Attack.csv')"
   ]
  },
  {
   "cell_type": "code",
   "execution_count": 6,
   "metadata": {},
   "outputs": [],
   "source": [
    "#concatenar dataset\n",
    "df_jw = pd.concat([df_bfajw, df_botnetjw, df_ddosjw, df_dosjw, df_normaljw, df_probejw, df_webattackjw], axis=0)"
   ]
  },
  {
   "cell_type": "code",
   "execution_count": 7,
   "metadata": {},
   "outputs": [
    {
     "data": {
      "text/plain": [
       "Dos           69651\n",
       "Normal        60114\n",
       "Probe         36723\n",
       "BFA            1136\n",
       "Web-Attack      204\n",
       "BOTNET          164\n",
       "DDoS             25\n",
       "Name: Label, dtype: int64"
      ]
     },
     "execution_count": 7,
     "metadata": {},
     "output_type": "execute_result"
    }
   ],
   "source": [
    "#cantidad de muestras por clase\n",
    "df_jw.Label.value_counts()"
   ]
  },
  {
   "attachments": {},
   "cell_type": "markdown",
   "metadata": {},
   "source": [
    "# 3. Datos extraídos con cicflowmeter version Python"
   ]
  },
  {
   "cell_type": "code",
   "execution_count": 3,
   "metadata": {},
   "outputs": [],
   "source": [
    "#diccionario de acceso a archivos de extraccion de flujos\n",
    "dir_traficoP = pl.Path(\"/ML-Tesis-Attacks/PcapToCsv/ubuntu/trafico/\")\n",
    "\"\"\"crear diccionario para el acceso de archivos\"\"\"\n",
    "dicc_traficoP = {\n",
    "    'Normal':list(dir_traficoP.glob('normal/**/*.csv')),\n",
    "    'BOTNET': list(dir_traficoP.glob('Botnet/*.csv')),\n",
    "    'BFA': list(dir_traficoP.glob('brute-force-attack/*.csv')),  \n",
    "    'DDoS': list(dir_traficoP.glob('DDoS/*.csv')),  \n",
    "    'Dos': list(dir_traficoP.glob('dos/**/*.csv')),  \n",
    "    'Probe': list(dir_traficoP.glob('Probe/*.csv')),  \n",
    "    'Web-Attack': list(dir_traficoP.glob('web_attack/*.csv'))  \n",
    "}"
   ]
  },
  {
   "cell_type": "code",
   "execution_count": 4,
   "metadata": {},
   "outputs": [
    {
     "name": "stdout",
     "output_type": "stream",
     "text": [
      "Clase: Normal\n",
      "1\n",
      "2\n",
      "3\n",
      "4\n",
      "5\n",
      "6\n",
      "7\n",
      "8\n",
      "9\n",
      "10\n",
      "11\n",
      "12\n",
      "13\n",
      "14\n",
      "15\n",
      "16\n",
      "17\n",
      "18\n",
      "19\n",
      "20\n",
      "21\n",
      "22\n",
      "Clase: BOTNET\n",
      "1\n",
      "2\n",
      "Clase: BFA\n",
      "1\n",
      "2\n",
      "3\n",
      "4\n",
      "Clase: DDoS\n",
      "1\n",
      "2\n",
      "3\n",
      "4\n",
      "Clase: Dos\n",
      "1\n",
      "2\n",
      "3\n",
      "4\n",
      "5\n",
      "6\n",
      "7\n",
      "8\n",
      "9\n",
      "10\n",
      "11\n",
      "12\n",
      "13\n",
      "14\n",
      "15\n",
      "16\n",
      "17\n",
      "18\n",
      "Clase: Probe\n",
      "1\n",
      "2\n",
      "3\n",
      "4\n",
      "Clase: Web-Attack\n",
      "1\n",
      "2\n",
      "3\n",
      "4\n",
      "5\n",
      "6\n"
     ]
    }
   ],
   "source": [
    "listar_archivos(dicc_traficoP)"
   ]
  },
  {
   "cell_type": "code",
   "execution_count": 5,
   "metadata": {},
   "outputs": [
    {
     "name": "stdout",
     "output_type": "stream",
     "text": [
      "En proceso de clase Normal...\n",
      "Proceso completado.... \n",
      " Total de archivos unidos: 22\n",
      "En proceso de clase BOTNET...\n",
      "Proceso completado.... \n",
      " Total de archivos unidos: 2\n",
      "En proceso de clase BFA...\n",
      "Proceso completado.... \n",
      " Total de archivos unidos: 4\n",
      "En proceso de clase DDoS...\n",
      "Proceso completado.... \n",
      " Total de archivos unidos: 4\n",
      "En proceso de clase Dos...\n",
      "Proceso completado.... \n",
      " Total de archivos unidos: 18\n",
      "En proceso de clase Probe...\n",
      "Proceso completado.... \n",
      " Total de archivos unidos: 4\n",
      "En proceso de clase Web-Attack...\n",
      "Proceso completado.... \n",
      " Total de archivos unidos: 6\n"
     ]
    }
   ],
   "source": [
    "#unir datos por clase\n",
    "etiquetar_unirdatosdeclase(dicc_traficoP,'Label', '/ML-Tesis-Attacks/datos_SDN/claseDatosPU/')"
   ]
  },
  {
   "cell_type": "code",
   "execution_count": 6,
   "metadata": {},
   "outputs": [],
   "source": [
    "#importar archivos de datos generados\n",
    "df_bfapu=pd.read_csv('/ML-Tesis-Attacks/datos_SDN/claseDatosPU/BFA.csv')\n",
    "df_botnetpu=pd.read_csv('/ML-Tesis-Attacks/datos_SDN/claseDatosPU/BOTNET.csv')\n",
    "df_ddospu=pd.read_csv('/ML-Tesis-Attacks/datos_SDN/claseDatosPU/DDoS.csv')\n",
    "df_dospu=pd.read_csv('/ML-Tesis-Attacks/datos_SDN/claseDatosPU/Dos.csv')\n",
    "df_normalpu=pd.read_csv('/ML-Tesis-Attacks/datos_SDN/claseDatosPU/Normal.csv')\n",
    "df_probepu=pd.read_csv('/ML-Tesis-Attacks/datos_SDN/claseDatosPU/Probe.csv')\n",
    "df_webattackpu=pd.read_csv('/ML-Tesis-Attacks/datos_SDN/claseDatosPU/Web-Attack.csv')"
   ]
  },
  {
   "cell_type": "code",
   "execution_count": 7,
   "metadata": {},
   "outputs": [],
   "source": [
    "#concatenar dataset\n",
    "df_pu = pd.concat([df_bfapu, df_botnetpu, df_ddospu, df_dospu, df_normalpu, df_probepu, df_webattackpu], axis=0)"
   ]
  },
  {
   "cell_type": "code",
   "execution_count": 8,
   "metadata": {},
   "outputs": [
    {
     "data": {
      "text/plain": [
       "DDoS          398643\n",
       "Normal         53784\n",
       "Probe          41980\n",
       "Dos            33842\n",
       "BFA              582\n",
       "Web-Attack       120\n",
       "BOTNET            92\n",
       "Name: Label, dtype: int64"
      ]
     },
     "execution_count": 8,
     "metadata": {},
     "output_type": "execute_result"
    }
   ],
   "source": [
    "#cantidad de muestras por clase\n",
    "df_pu.Label.value_counts()"
   ]
  },
  {
   "attachments": {},
   "cell_type": "markdown",
   "metadata": {},
   "source": [
    "# 4. Extraccion de datos con Argus"
   ]
  },
  {
   "cell_type": "code",
   "execution_count": 2,
   "metadata": {},
   "outputs": [],
   "source": [
    "#diccionario de acceso a archivos de extraccion de flujos\n",
    "dir_traficoAr = pl.Path(\"/ML-Tesis-Attacks/argus_espec/\")\n",
    "\"\"\"crear diccionario para el acceso de archivos\"\"\"\n",
    "dicc_traficoAr = {\n",
    "    'Normal':list(dir_traficoAr.glob('normal/**/*.csv')),  \n",
    "    'Botnet': list(dir_traficoAr.glob('Botnet/*.csv')),  \n",
    "    'Dos': list(dir_traficoAr.glob('dos/**/*.csv')),  \n",
    "    'Probe': list(dir_traficoAr.glob('Probe/*.csv'))  \n",
    "}"
   ]
  },
  {
   "cell_type": "code",
   "execution_count": 3,
   "metadata": {},
   "outputs": [
    {
     "name": "stdout",
     "output_type": "stream",
     "text": [
      "En proceso de clase Normal...\n"
     ]
    },
    {
     "name": "stderr",
     "output_type": "stream",
     "text": [
      "d:\\ML-Tesis-Attacks\\Clasiffication_TrafficSDN\\Fase1\\libmac.py:37: DtypeWarning: Columns (113) have mixed types. Specify dtype option on import or set low_memory=False.\n",
      "  df = pd.read_csv(archivo_exdata)\n",
      "d:\\ML-Tesis-Attacks\\Clasiffication_TrafficSDN\\Fase1\\libmac.py:37: DtypeWarning: Columns (113) have mixed types. Specify dtype option on import or set low_memory=False.\n",
      "  df = pd.read_csv(archivo_exdata)\n",
      "d:\\ML-Tesis-Attacks\\Clasiffication_TrafficSDN\\Fase1\\libmac.py:37: DtypeWarning: Columns (113) have mixed types. Specify dtype option on import or set low_memory=False.\n",
      "  df = pd.read_csv(archivo_exdata)\n",
      "d:\\ML-Tesis-Attacks\\Clasiffication_TrafficSDN\\Fase1\\libmac.py:37: DtypeWarning: Columns (113) have mixed types. Specify dtype option on import or set low_memory=False.\n",
      "  df = pd.read_csv(archivo_exdata)\n"
     ]
    },
    {
     "name": "stdout",
     "output_type": "stream",
     "text": [
      "Proceso completado.... \n",
      " Total de archivos unidos: 22\n",
      "En proceso de clase Botnet...\n",
      "Proceso completado.... \n",
      " Total de archivos unidos: 2\n",
      "En proceso de clase Dos...\n"
     ]
    },
    {
     "name": "stderr",
     "output_type": "stream",
     "text": [
      "d:\\ML-Tesis-Attacks\\Clasiffication_TrafficSDN\\Fase1\\libmac.py:37: DtypeWarning: Columns (22) have mixed types. Specify dtype option on import or set low_memory=False.\n",
      "  df = pd.read_csv(archivo_exdata)\n",
      "d:\\ML-Tesis-Attacks\\Clasiffication_TrafficSDN\\Fase1\\libmac.py:37: DtypeWarning: Columns (22) have mixed types. Specify dtype option on import or set low_memory=False.\n",
      "  df = pd.read_csv(archivo_exdata)\n"
     ]
    },
    {
     "name": "stdout",
     "output_type": "stream",
     "text": [
      "Proceso completado.... \n",
      " Total de archivos unidos: 18\n",
      "En proceso de clase Probe...\n"
     ]
    },
    {
     "name": "stderr",
     "output_type": "stream",
     "text": [
      "d:\\ML-Tesis-Attacks\\Clasiffication_TrafficSDN\\Fase1\\libmac.py:37: DtypeWarning: Columns (27,35,112,113) have mixed types. Specify dtype option on import or set low_memory=False.\n",
      "  df = pd.read_csv(archivo_exdata)\n"
     ]
    },
    {
     "name": "stdout",
     "output_type": "stream",
     "text": [
      "Proceso completado.... \n",
      " Total de archivos unidos: 4\n"
     ]
    }
   ],
   "source": [
    "etiquetar_unirdatosdeclase(dicc_traficoAr, 'Label', '/ML-Tesis-Attacks/datos_SDN/argDatos/')"
   ]
  },
  {
   "cell_type": "code",
   "execution_count": 3,
   "metadata": {},
   "outputs": [
    {
     "name": "stderr",
     "output_type": "stream",
     "text": [
      "C:\\Users\\miancastillo\\AppData\\Local\\Temp\\ipykernel_21728\\1916635651.py:3: DtypeWarning: Columns (22,113) have mixed types. Specify dtype option on import or set low_memory=False.\n",
      "  df_dosA=pd.read_csv('/ML-Tesis-Attacks/datos_SDN/argDatos/Dos.csv')\n",
      "C:\\Users\\miancastillo\\AppData\\Local\\Temp\\ipykernel_21728\\1916635651.py:4: DtypeWarning: Columns (113) have mixed types. Specify dtype option on import or set low_memory=False.\n",
      "  df_normalA=pd.read_csv('/ML-Tesis-Attacks/datos_SDN/argDatos/Normal.csv')\n",
      "C:\\Users\\miancastillo\\AppData\\Local\\Temp\\ipykernel_21728\\1916635651.py:5: DtypeWarning: Columns (22,113) have mixed types. Specify dtype option on import or set low_memory=False.\n",
      "  df_probeA=pd.read_csv('/ML-Tesis-Attacks/datos_SDN/argDatos/Probe.csv')\n"
     ]
    }
   ],
   "source": [
    "#importar archivos de datos generados\n",
    "df_botA=pd.read_csv('/ML-Tesis-Attacks/datos_SDN/argDatos/Botnet.csv')\n",
    "df_dosA=pd.read_csv('/ML-Tesis-Attacks/datos_SDN/argDatos/Dos.csv')\n",
    "df_normalA=pd.read_csv('/ML-Tesis-Attacks/datos_SDN/argDatos/Normal.csv')\n",
    "df_probeA=pd.read_csv('/ML-Tesis-Attacks/datos_SDN/argDatos/Probe.csv')"
   ]
  },
  {
   "cell_type": "code",
   "execution_count": 5,
   "metadata": {},
   "outputs": [],
   "source": [
    "#concatenar datasets\n",
    "df_a = pd.concat([ df_botA, df_dosA, df_normalA, df_probeA], axis=0)"
   ]
  },
  {
   "cell_type": "code",
   "execution_count": 6,
   "metadata": {},
   "outputs": [
    {
     "name": "stdout",
     "output_type": "stream",
     "text": [
      "<class 'pandas.core.frame.DataFrame'>\n",
      "Int64Index: 188674 entries, 0 to 51665\n",
      "Data columns (total 123 columns):\n",
      " #    Column       Dtype  \n",
      "---   ------       -----  \n",
      " 0    SrcId        object \n",
      " 1    Rank         float64\n",
      " 2    StartTime    object \n",
      " 3    LastTime     object \n",
      " 4    Trans        float64\n",
      " 5    Flgs         object \n",
      " 6    Seq          int64  \n",
      " 7    Dur          float64\n",
      " 8    RunTime      float64\n",
      " 9    IdleTime     float64\n",
      " 10   Mean         float64\n",
      " 11   StdDev       float64\n",
      " 12   Sum          float64\n",
      " 13   Min          float64\n",
      " 14   Max          float64\n",
      " 15   SrcMac       object \n",
      " 16   DstMac       object \n",
      " 17   SrcOui       float64\n",
      " 18   DstOui       float64\n",
      " 19   SrcAddr      object \n",
      " 20   DstAddr      object \n",
      " 21   Proto        object \n",
      " 22   Sport        object \n",
      " 23   Dport        object \n",
      " 24   sTos         float64\n",
      " 25   dTos         float64\n",
      " 26   sDSb         object \n",
      " 27   dDSb         object \n",
      " 28   sCo          float64\n",
      " 29   dCo          float64\n",
      " 30   sTtl         float64\n",
      " 31   dTtl         float64\n",
      " 32   sHops        float64\n",
      " 33   dHops        float64\n",
      " 34   sIpId        object \n",
      " 35   dIpId        object \n",
      " 36   sMpls        float64\n",
      " 37   dMpls        float64\n",
      " 38   AutoId       int64  \n",
      " 39   sAS          float64\n",
      " 40   dAS          float64\n",
      " 41   iAS          float64\n",
      " 42   Cause        object \n",
      " 43   NStrok       float64\n",
      " 44   sNStrok      float64\n",
      " 45   dNStrok      float64\n",
      " 46   TotPkts      int64  \n",
      " 47   SrcPkts      int64  \n",
      " 48   DstPkts      int64  \n",
      " 49   TotBytes     int64  \n",
      " 50   SrcBytes     int64  \n",
      " 51   DstBytes     int64  \n",
      " 52   TotAppByte   int64  \n",
      " 53   SAppBytes    int64  \n",
      " 54   DAppBytes    int64  \n",
      " 55   PCRatio      float64\n",
      " 56   Load         float64\n",
      " 57   SrcLoad      float64\n",
      " 58   DstLoad      float64\n",
      " 59   Loss         int64  \n",
      " 60   SrcLoss      int64  \n",
      " 61   DstLoss      int64  \n",
      " 62   pLoss        float64\n",
      " 63   pSrcLoss     float64\n",
      " 64   pDstLoss     float64\n",
      " 65   Retrans      int64  \n",
      " 66   SrcRetra     int64  \n",
      " 67   DstRetra     int64  \n",
      " 68   pRetran      float64\n",
      " 69   pSrcRetr     float64\n",
      " 70   pDstRetr     float64\n",
      " 71   SrcGap       float64\n",
      " 72   DstGap       float64\n",
      " 73   Rate         float64\n",
      " 74   SrcRate      float64\n",
      " 75   DstRate      float64\n",
      " 76   Dir          object \n",
      " 77   SIntPkt      float64\n",
      " 78   SIntDist     float64\n",
      " 79   SIntPktAct   float64\n",
      " 80   SIntActDist  float64\n",
      " 81   SIntPktIdl   float64\n",
      " 82   SIntIdlDist  float64\n",
      " 83   DIntPkt      float64\n",
      " 84   DIntDist     float64\n",
      " 85   DIntPktAct   float64\n",
      " 86   DIntActDist  float64\n",
      " 87   DIntPktIdl   float64\n",
      " 88   DIntIdlDist  float64\n",
      " 89   SrcJitter    float64\n",
      " 90   SrcJitAct    float64\n",
      " 91   DstJitter    float64\n",
      " 92   DstJitAct    float64\n",
      " 93   State        object \n",
      " 94   Label        object \n",
      " 95   srcUdata     float64\n",
      " 96   dstUdata     float64\n",
      " 97   SrcWin       float64\n",
      " 98   DstWin       float64\n",
      " 99   sVlan        float64\n",
      " 100  dVlan        float64\n",
      " 101  sVid         float64\n",
      " 102  dVid         float64\n",
      " 103  sVpri        float64\n",
      " 104  dVpri        float64\n",
      " 105  SRange       float64\n",
      " 106  ERange       float64\n",
      " 107  SrcTCPBase   float64\n",
      " 108  DstTCPBase   float64\n",
      " 109  TcpRtt       float64\n",
      " 110  SynAck       float64\n",
      " 111  AckDat       float64\n",
      " 112  TcpOpt       object \n",
      " 113  Inode        object \n",
      " 114  Offset       int64  \n",
      " 115  sMeanPktSz   float64\n",
      " 116  dMeanPktSz   float64\n",
      " 117  sPktSz       float64\n",
      " 118  sMaxPktSz    float64\n",
      " 119  dPktSz       float64\n",
      " 120  dMaxPktSz    float64\n",
      " 121  sMinPktSz    float64\n",
      " 122  dMinPktSz    float64\n",
      "dtypes: float64(84), int64(18), object(21)\n",
      "memory usage: 178.5+ MB\n"
     ]
    }
   ],
   "source": [
    "df_a.info(verbose=True)"
   ]
  },
  {
   "cell_type": "code",
   "execution_count": 22,
   "metadata": {},
   "outputs": [
    {
     "name": "stderr",
     "output_type": "stream",
     "text": [
      "C:\\Users\\miancastillo\\AppData\\Local\\Temp\\ipykernel_22116\\977376132.py:4: DtypeWarning: Columns (27,35) have mixed types. Specify dtype option on import or set low_memory=False.\n",
      "  df_d4=pd.read_csv('/ML-Tesis-Attacks/argus_2/DDoS/fa-h4-DDoS-ICMP.csv')\n",
      "C:\\Users\\miancastillo\\AppData\\Local\\Temp\\ipykernel_22116\\977376132.py:5: DtypeWarning: Columns (22) have mixed types. Specify dtype option on import or set low_memory=False.\n",
      "  df_d5=pd.read_csv('/ML-Tesis-Attacks/argus_2/DDoS/fa-h4-DDoS-SYN.csv')\n"
     ]
    }
   ],
   "source": [
    "#importa por separado archivos DDoS\n",
    "df_d1=pd.read_csv('/ML-Tesis-Attacks/argus_2/DDoS/fa-ONOS-DDoS-ICMP.csv')\n",
    "df_d2=pd.read_csv('/ML-Tesis-Attacks/argus_2/DDoS/fa-ONOS-DDoS-SYN.csv')\n",
    "df_d3=pd.read_csv('/ML-Tesis-Attacks/argus_2/DDoS/fa-ONOS-DDoS-UDP.csv')\n",
    "df_d4=pd.read_csv('/ML-Tesis-Attacks/argus_2/DDoS/fa-h4-DDoS-ICMP.csv')\n",
    "df_d5=pd.read_csv('/ML-Tesis-Attacks/argus_2/DDoS/fa-h4-DDoS-SYN.csv')\n",
    "df_d6=pd.read_csv('/ML-Tesis-Attacks/argus_2/DDoS/fa-h4-DDoS-UDP.csv')"
   ]
  },
  {
   "cell_type": "code",
   "execution_count": 3,
   "metadata": {},
   "outputs": [
    {
     "data": {
      "text/html": [
       "<div>\n",
       "<style scoped>\n",
       "    .dataframe tbody tr th:only-of-type {\n",
       "        vertical-align: middle;\n",
       "    }\n",
       "\n",
       "    .dataframe tbody tr th {\n",
       "        vertical-align: top;\n",
       "    }\n",
       "\n",
       "    .dataframe thead th {\n",
       "        text-align: right;\n",
       "    }\n",
       "</style>\n",
       "<table border=\"1\" class=\"dataframe\">\n",
       "  <thead>\n",
       "    <tr style=\"text-align: right;\">\n",
       "      <th></th>\n",
       "      <th>SrcId</th>\n",
       "      <th>Rank</th>\n",
       "      <th>StartTime</th>\n",
       "      <th>LastTime</th>\n",
       "      <th>Trans</th>\n",
       "      <th>Flgs</th>\n",
       "      <th>Seq</th>\n",
       "      <th>Dur</th>\n",
       "      <th>RunTime</th>\n",
       "      <th>IdleTime</th>\n",
       "      <th>...</th>\n",
       "      <th>Inode</th>\n",
       "      <th>Offset</th>\n",
       "      <th>sMeanPktSz</th>\n",
       "      <th>dMeanPktSz</th>\n",
       "      <th>sPktSz</th>\n",
       "      <th>sMaxPktSz</th>\n",
       "      <th>dPktSz</th>\n",
       "      <th>dMaxPktSz</th>\n",
       "      <th>sMinPktSz</th>\n",
       "      <th>dMinPktSz</th>\n",
       "    </tr>\n",
       "  </thead>\n",
       "  <tbody>\n",
       "    <tr>\n",
       "      <th>0</th>\n",
       "      <td>0.0.0.0</td>\n",
       "      <td>NaN</td>\n",
       "      <td>12:24:23.274088</td>\n",
       "      <td>12:24:23.266110</td>\n",
       "      <td>NaN</td>\n",
       "      <td></td>\n",
       "      <td>0</td>\n",
       "      <td>0.007978</td>\n",
       "      <td>NaN</td>\n",
       "      <td>NaN</td>\n",
       "      <td>...</td>\n",
       "      <td>NaN</td>\n",
       "      <td>0</td>\n",
       "      <td>0.000000</td>\n",
       "      <td>0.000000</td>\n",
       "      <td>NaN</td>\n",
       "      <td>NaN</td>\n",
       "      <td>NaN</td>\n",
       "      <td>NaN</td>\n",
       "      <td>NaN</td>\n",
       "      <td>NaN</td>\n",
       "    </tr>\n",
       "    <tr>\n",
       "      <th>1</th>\n",
       "      <td>0.0.0.0</td>\n",
       "      <td>1.0</td>\n",
       "      <td>10:20:45.697407</td>\n",
       "      <td>10:20:45.697407</td>\n",
       "      <td>1.0</td>\n",
       "      <td>e</td>\n",
       "      <td>1</td>\n",
       "      <td>0.000000</td>\n",
       "      <td>0.000000</td>\n",
       "      <td>1.672696e+09</td>\n",
       "      <td>...</td>\n",
       "      <td>NaN</td>\n",
       "      <td>128</td>\n",
       "      <td>216.000000</td>\n",
       "      <td>0.000000</td>\n",
       "      <td>NaN</td>\n",
       "      <td>216.0</td>\n",
       "      <td>NaN</td>\n",
       "      <td>NaN</td>\n",
       "      <td>216.0</td>\n",
       "      <td>NaN</td>\n",
       "    </tr>\n",
       "    <tr>\n",
       "      <th>2</th>\n",
       "      <td>0.0.0.0</td>\n",
       "      <td>2.0</td>\n",
       "      <td>10:20:45.697867</td>\n",
       "      <td>10:22:03.366429</td>\n",
       "      <td>1.0</td>\n",
       "      <td>e *@</td>\n",
       "      <td>2</td>\n",
       "      <td>77.668564</td>\n",
       "      <td>77.668564</td>\n",
       "      <td>1.672696e+09</td>\n",
       "      <td>...</td>\n",
       "      <td>NaN</td>\n",
       "      <td>240</td>\n",
       "      <td>1165.389038</td>\n",
       "      <td>262.508453</td>\n",
       "      <td>NaN</td>\n",
       "      <td>65226.0</td>\n",
       "      <td>NaN</td>\n",
       "      <td>65226.0</td>\n",
       "      <td>66.0</td>\n",
       "      <td>66.0</td>\n",
       "    </tr>\n",
       "    <tr>\n",
       "      <th>3</th>\n",
       "      <td>0.0.0.0</td>\n",
       "      <td>3.0</td>\n",
       "      <td>10:20:45.697882</td>\n",
       "      <td>10:21:53.693519</td>\n",
       "      <td>1.0</td>\n",
       "      <td>e</td>\n",
       "      <td>3</td>\n",
       "      <td>67.995636</td>\n",
       "      <td>67.995636</td>\n",
       "      <td>1.672696e+09</td>\n",
       "      <td>...</td>\n",
       "      <td>NaN</td>\n",
       "      <td>600</td>\n",
       "      <td>837.449524</td>\n",
       "      <td>127.814369</td>\n",
       "      <td>NaN</td>\n",
       "      <td>6178.0</td>\n",
       "      <td>NaN</td>\n",
       "      <td>1143.0</td>\n",
       "      <td>60.0</td>\n",
       "      <td>66.0</td>\n",
       "    </tr>\n",
       "    <tr>\n",
       "      <th>4</th>\n",
       "      <td>0.0.0.0</td>\n",
       "      <td>4.0</td>\n",
       "      <td>10:20:45.697886</td>\n",
       "      <td>10:21:53.824121</td>\n",
       "      <td>1.0</td>\n",
       "      <td>e *</td>\n",
       "      <td>4</td>\n",
       "      <td>68.126236</td>\n",
       "      <td>68.126236</td>\n",
       "      <td>1.672696e+09</td>\n",
       "      <td>...</td>\n",
       "      <td>NaN</td>\n",
       "      <td>960</td>\n",
       "      <td>709.027771</td>\n",
       "      <td>127.238098</td>\n",
       "      <td>NaN</td>\n",
       "      <td>6178.0</td>\n",
       "      <td>NaN</td>\n",
       "      <td>322.0</td>\n",
       "      <td>60.0</td>\n",
       "      <td>66.0</td>\n",
       "    </tr>\n",
       "    <tr>\n",
       "      <th>5</th>\n",
       "      <td>0.0.0.0</td>\n",
       "      <td>5.0</td>\n",
       "      <td>10:21:37.317502</td>\n",
       "      <td>10:21:37.617097</td>\n",
       "      <td>1.0</td>\n",
       "      <td>e     A</td>\n",
       "      <td>5</td>\n",
       "      <td>0.299595</td>\n",
       "      <td>0.299595</td>\n",
       "      <td>1.672696e+09</td>\n",
       "      <td>...</td>\n",
       "      <td>NaN</td>\n",
       "      <td>1320</td>\n",
       "      <td>90.000000</td>\n",
       "      <td>0.000000</td>\n",
       "      <td>NaN</td>\n",
       "      <td>90.0</td>\n",
       "      <td>NaN</td>\n",
       "      <td>NaN</td>\n",
       "      <td>90.0</td>\n",
       "      <td>NaN</td>\n",
       "    </tr>\n",
       "    <tr>\n",
       "      <th>6</th>\n",
       "      <td>0.0.0.0</td>\n",
       "      <td>6.0</td>\n",
       "      <td>10:21:37.317514</td>\n",
       "      <td>10:21:37.317514</td>\n",
       "      <td>1.0</td>\n",
       "      <td>e     A</td>\n",
       "      <td>6</td>\n",
       "      <td>0.000000</td>\n",
       "      <td>0.000000</td>\n",
       "      <td>1.672696e+09</td>\n",
       "      <td>...</td>\n",
       "      <td>NaN</td>\n",
       "      <td>1516</td>\n",
       "      <td>60.000000</td>\n",
       "      <td>0.000000</td>\n",
       "      <td>NaN</td>\n",
       "      <td>60.0</td>\n",
       "      <td>NaN</td>\n",
       "      <td>NaN</td>\n",
       "      <td>60.0</td>\n",
       "      <td>NaN</td>\n",
       "    </tr>\n",
       "    <tr>\n",
       "      <th>7</th>\n",
       "      <td>0.0.0.0</td>\n",
       "      <td>7.0</td>\n",
       "      <td>10:21:37.341897</td>\n",
       "      <td>10:21:37.341897</td>\n",
       "      <td>1.0</td>\n",
       "      <td>e     A</td>\n",
       "      <td>7</td>\n",
       "      <td>0.000000</td>\n",
       "      <td>0.000000</td>\n",
       "      <td>1.672696e+09</td>\n",
       "      <td>...</td>\n",
       "      <td>NaN</td>\n",
       "      <td>1632</td>\n",
       "      <td>60.000000</td>\n",
       "      <td>0.000000</td>\n",
       "      <td>NaN</td>\n",
       "      <td>60.0</td>\n",
       "      <td>NaN</td>\n",
       "      <td>NaN</td>\n",
       "      <td>60.0</td>\n",
       "      <td>NaN</td>\n",
       "    </tr>\n",
       "    <tr>\n",
       "      <th>8</th>\n",
       "      <td>0.0.0.0</td>\n",
       "      <td>8.0</td>\n",
       "      <td>10:21:37.342495</td>\n",
       "      <td>10:21:37.342495</td>\n",
       "      <td>1.0</td>\n",
       "      <td>e     A</td>\n",
       "      <td>8</td>\n",
       "      <td>0.000000</td>\n",
       "      <td>0.000000</td>\n",
       "      <td>1.672696e+09</td>\n",
       "      <td>...</td>\n",
       "      <td>NaN</td>\n",
       "      <td>1748</td>\n",
       "      <td>60.000000</td>\n",
       "      <td>0.000000</td>\n",
       "      <td>NaN</td>\n",
       "      <td>60.0</td>\n",
       "      <td>NaN</td>\n",
       "      <td>NaN</td>\n",
       "      <td>60.0</td>\n",
       "      <td>NaN</td>\n",
       "    </tr>\n",
       "    <tr>\n",
       "      <th>9</th>\n",
       "      <td>0.0.0.0</td>\n",
       "      <td>9.0</td>\n",
       "      <td>10:21:37.342981</td>\n",
       "      <td>10:21:37.342981</td>\n",
       "      <td>1.0</td>\n",
       "      <td>e     A</td>\n",
       "      <td>9</td>\n",
       "      <td>0.000000</td>\n",
       "      <td>0.000000</td>\n",
       "      <td>1.672696e+09</td>\n",
       "      <td>...</td>\n",
       "      <td>NaN</td>\n",
       "      <td>1864</td>\n",
       "      <td>60.000000</td>\n",
       "      <td>0.000000</td>\n",
       "      <td>NaN</td>\n",
       "      <td>60.0</td>\n",
       "      <td>NaN</td>\n",
       "      <td>NaN</td>\n",
       "      <td>60.0</td>\n",
       "      <td>NaN</td>\n",
       "    </tr>\n",
       "    <tr>\n",
       "      <th>10</th>\n",
       "      <td>0.0.0.0</td>\n",
       "      <td>10.0</td>\n",
       "      <td>10:21:37.344577</td>\n",
       "      <td>10:21:37.359571</td>\n",
       "      <td>1.0</td>\n",
       "      <td>e</td>\n",
       "      <td>10</td>\n",
       "      <td>0.014994</td>\n",
       "      <td>0.014994</td>\n",
       "      <td>1.672696e+09</td>\n",
       "      <td>...</td>\n",
       "      <td>NaN</td>\n",
       "      <td>1980</td>\n",
       "      <td>99.000000</td>\n",
       "      <td>0.000000</td>\n",
       "      <td>NaN</td>\n",
       "      <td>118.0</td>\n",
       "      <td>NaN</td>\n",
       "      <td>NaN</td>\n",
       "      <td>80.0</td>\n",
       "      <td>NaN</td>\n",
       "    </tr>\n",
       "    <tr>\n",
       "      <th>11</th>\n",
       "      <td>0.0.0.0</td>\n",
       "      <td>11.0</td>\n",
       "      <td>10:21:37.347127</td>\n",
       "      <td>10:21:37.356283</td>\n",
       "      <td>1.0</td>\n",
       "      <td>e</td>\n",
       "      <td>11</td>\n",
       "      <td>0.009156</td>\n",
       "      <td>0.009156</td>\n",
       "      <td>1.672696e+09</td>\n",
       "      <td>...</td>\n",
       "      <td>NaN</td>\n",
       "      <td>2124</td>\n",
       "      <td>119.000000</td>\n",
       "      <td>0.000000</td>\n",
       "      <td>NaN</td>\n",
       "      <td>138.0</td>\n",
       "      <td>NaN</td>\n",
       "      <td>NaN</td>\n",
       "      <td>100.0</td>\n",
       "      <td>NaN</td>\n",
       "    </tr>\n",
       "    <tr>\n",
       "      <th>12</th>\n",
       "      <td>0.0.0.0</td>\n",
       "      <td>12.0</td>\n",
       "      <td>10:21:37.351545</td>\n",
       "      <td>10:21:52.364580</td>\n",
       "      <td>1.0</td>\n",
       "      <td>e</td>\n",
       "      <td>12</td>\n",
       "      <td>15.013035</td>\n",
       "      <td>15.013035</td>\n",
       "      <td>1.672696e+09</td>\n",
       "      <td>...</td>\n",
       "      <td>NaN</td>\n",
       "      <td>2292</td>\n",
       "      <td>179.000000</td>\n",
       "      <td>0.000000</td>\n",
       "      <td>NaN</td>\n",
       "      <td>179.0</td>\n",
       "      <td>NaN</td>\n",
       "      <td>NaN</td>\n",
       "      <td>179.0</td>\n",
       "      <td>NaN</td>\n",
       "    </tr>\n",
       "    <tr>\n",
       "      <th>13</th>\n",
       "      <td>0.0.0.0</td>\n",
       "      <td>13.0</td>\n",
       "      <td>10:21:37.356270</td>\n",
       "      <td>10:21:37.356270</td>\n",
       "      <td>1.0</td>\n",
       "      <td>e</td>\n",
       "      <td>13</td>\n",
       "      <td>0.000000</td>\n",
       "      <td>0.000000</td>\n",
       "      <td>1.672696e+09</td>\n",
       "      <td>...</td>\n",
       "      <td>NaN</td>\n",
       "      <td>2436</td>\n",
       "      <td>94.000000</td>\n",
       "      <td>0.000000</td>\n",
       "      <td>NaN</td>\n",
       "      <td>94.0</td>\n",
       "      <td>NaN</td>\n",
       "      <td>NaN</td>\n",
       "      <td>94.0</td>\n",
       "      <td>NaN</td>\n",
       "    </tr>\n",
       "    <tr>\n",
       "      <th>14</th>\n",
       "      <td>0.0.0.0</td>\n",
       "      <td>14.0</td>\n",
       "      <td>10:21:37.356293</td>\n",
       "      <td>10:21:37.356293</td>\n",
       "      <td>1.0</td>\n",
       "      <td>e</td>\n",
       "      <td>14</td>\n",
       "      <td>0.000000</td>\n",
       "      <td>0.000000</td>\n",
       "      <td>1.672696e+09</td>\n",
       "      <td>...</td>\n",
       "      <td>NaN</td>\n",
       "      <td>2572</td>\n",
       "      <td>74.000000</td>\n",
       "      <td>0.000000</td>\n",
       "      <td>NaN</td>\n",
       "      <td>74.0</td>\n",
       "      <td>NaN</td>\n",
       "      <td>NaN</td>\n",
       "      <td>74.0</td>\n",
       "      <td>NaN</td>\n",
       "    </tr>\n",
       "    <tr>\n",
       "      <th>15</th>\n",
       "      <td>0.0.0.0</td>\n",
       "      <td>15.0</td>\n",
       "      <td>10:21:37.616972</td>\n",
       "      <td>10:21:37.616972</td>\n",
       "      <td>1.0</td>\n",
       "      <td>e     A</td>\n",
       "      <td>15</td>\n",
       "      <td>0.000000</td>\n",
       "      <td>0.000000</td>\n",
       "      <td>1.672696e+09</td>\n",
       "      <td>...</td>\n",
       "      <td>NaN</td>\n",
       "      <td>2684</td>\n",
       "      <td>60.000000</td>\n",
       "      <td>0.000000</td>\n",
       "      <td>NaN</td>\n",
       "      <td>60.0</td>\n",
       "      <td>NaN</td>\n",
       "      <td>NaN</td>\n",
       "      <td>60.0</td>\n",
       "      <td>NaN</td>\n",
       "    </tr>\n",
       "    <tr>\n",
       "      <th>16</th>\n",
       "      <td>0.0.0.0</td>\n",
       "      <td>16.0</td>\n",
       "      <td>10:21:52.456953</td>\n",
       "      <td>10:21:54.366382</td>\n",
       "      <td>1.0</td>\n",
       "      <td>e</td>\n",
       "      <td>16</td>\n",
       "      <td>1.909429</td>\n",
       "      <td>1.909429</td>\n",
       "      <td>1.672696e+09</td>\n",
       "      <td>...</td>\n",
       "      <td>NaN</td>\n",
       "      <td>2800</td>\n",
       "      <td>65.714287</td>\n",
       "      <td>71.333336</td>\n",
       "      <td>NaN</td>\n",
       "      <td>74.0</td>\n",
       "      <td>NaN</td>\n",
       "      <td>82.0</td>\n",
       "      <td>60.0</td>\n",
       "      <td>66.0</td>\n",
       "    </tr>\n",
       "    <tr>\n",
       "      <th>17</th>\n",
       "      <td>0.0.0.0</td>\n",
       "      <td>17.0</td>\n",
       "      <td>10:21:54.453754</td>\n",
       "      <td>10:21:55.494735</td>\n",
       "      <td>1.0</td>\n",
       "      <td>e</td>\n",
       "      <td>17</td>\n",
       "      <td>1.040981</td>\n",
       "      <td>1.040981</td>\n",
       "      <td>1.672696e+09</td>\n",
       "      <td>...</td>\n",
       "      <td>NaN</td>\n",
       "      <td>3128</td>\n",
       "      <td>70.000000</td>\n",
       "      <td>68.666664</td>\n",
       "      <td>NaN</td>\n",
       "      <td>74.0</td>\n",
       "      <td>NaN</td>\n",
       "      <td>74.0</td>\n",
       "      <td>66.0</td>\n",
       "      <td>66.0</td>\n",
       "    </tr>\n",
       "    <tr>\n",
       "      <th>18</th>\n",
       "      <td>0.0.0.0</td>\n",
       "      <td>18.0</td>\n",
       "      <td>10:21:55.453619</td>\n",
       "      <td>10:21:55.736960</td>\n",
       "      <td>1.0</td>\n",
       "      <td>e</td>\n",
       "      <td>18</td>\n",
       "      <td>0.283341</td>\n",
       "      <td>0.283341</td>\n",
       "      <td>1.672696e+09</td>\n",
       "      <td>...</td>\n",
       "      <td>NaN</td>\n",
       "      <td>3436</td>\n",
       "      <td>175.666672</td>\n",
       "      <td>74.307693</td>\n",
       "      <td>NaN</td>\n",
       "      <td>1138.0</td>\n",
       "      <td>NaN</td>\n",
       "      <td>94.0</td>\n",
       "      <td>66.0</td>\n",
       "      <td>66.0</td>\n",
       "    </tr>\n",
       "    <tr>\n",
       "      <th>19</th>\n",
       "      <td>0.0.0.0</td>\n",
       "      <td>19.0</td>\n",
       "      <td>10:21:57.453660</td>\n",
       "      <td>10:21:59.495024</td>\n",
       "      <td>1.0</td>\n",
       "      <td>e</td>\n",
       "      <td>19</td>\n",
       "      <td>2.041364</td>\n",
       "      <td>2.041364</td>\n",
       "      <td>1.672696e+09</td>\n",
       "      <td>...</td>\n",
       "      <td>NaN</td>\n",
       "      <td>3784</td>\n",
       "      <td>70.000000</td>\n",
       "      <td>68.666664</td>\n",
       "      <td>NaN</td>\n",
       "      <td>74.0</td>\n",
       "      <td>NaN</td>\n",
       "      <td>74.0</td>\n",
       "      <td>66.0</td>\n",
       "      <td>66.0</td>\n",
       "    </tr>\n",
       "    <tr>\n",
       "      <th>20</th>\n",
       "      <td>0.0.0.0</td>\n",
       "      <td>20.0</td>\n",
       "      <td>10:21:59.453585</td>\n",
       "      <td>10:21:59.500730</td>\n",
       "      <td>1.0</td>\n",
       "      <td>e</td>\n",
       "      <td>20</td>\n",
       "      <td>0.047145</td>\n",
       "      <td>0.047145</td>\n",
       "      <td>1.672696e+09</td>\n",
       "      <td>...</td>\n",
       "      <td>NaN</td>\n",
       "      <td>4092</td>\n",
       "      <td>175.666672</td>\n",
       "      <td>75.818184</td>\n",
       "      <td>NaN</td>\n",
       "      <td>1138.0</td>\n",
       "      <td>NaN</td>\n",
       "      <td>94.0</td>\n",
       "      <td>66.0</td>\n",
       "      <td>66.0</td>\n",
       "    </tr>\n",
       "    <tr>\n",
       "      <th>21</th>\n",
       "      <td>0.0.0.0</td>\n",
       "      <td>20.0</td>\n",
       "      <td>12:24:24.284465</td>\n",
       "      <td>12:24:23.266110</td>\n",
       "      <td>NaN</td>\n",
       "      <td></td>\n",
       "      <td>0</td>\n",
       "      <td>1.018355</td>\n",
       "      <td>NaN</td>\n",
       "      <td>NaN</td>\n",
       "      <td>...</td>\n",
       "      <td>NaN</td>\n",
       "      <td>4092</td>\n",
       "      <td>0.000000</td>\n",
       "      <td>0.000000</td>\n",
       "      <td>NaN</td>\n",
       "      <td>NaN</td>\n",
       "      <td>NaN</td>\n",
       "      <td>NaN</td>\n",
       "      <td>NaN</td>\n",
       "      <td>NaN</td>\n",
       "    </tr>\n",
       "  </tbody>\n",
       "</table>\n",
       "<p>22 rows × 123 columns</p>\n",
       "</div>"
      ],
      "text/plain": [
       "      SrcId  Rank        StartTime         LastTime  Trans        Flgs  Seq  \\\n",
       "0   0.0.0.0   NaN  12:24:23.274088  12:24:23.266110    NaN                0   \n",
       "1   0.0.0.0   1.0  10:20:45.697407  10:20:45.697407    1.0   e            1   \n",
       "2   0.0.0.0   2.0  10:20:45.697867  10:22:03.366429    1.0   e *@         2   \n",
       "3   0.0.0.0   3.0  10:20:45.697882  10:21:53.693519    1.0   e            3   \n",
       "4   0.0.0.0   4.0  10:20:45.697886  10:21:53.824121    1.0   e *          4   \n",
       "5   0.0.0.0   5.0  10:21:37.317502  10:21:37.617097    1.0   e     A      5   \n",
       "6   0.0.0.0   6.0  10:21:37.317514  10:21:37.317514    1.0   e     A      6   \n",
       "7   0.0.0.0   7.0  10:21:37.341897  10:21:37.341897    1.0   e     A      7   \n",
       "8   0.0.0.0   8.0  10:21:37.342495  10:21:37.342495    1.0   e     A      8   \n",
       "9   0.0.0.0   9.0  10:21:37.342981  10:21:37.342981    1.0   e     A      9   \n",
       "10  0.0.0.0  10.0  10:21:37.344577  10:21:37.359571    1.0   e           10   \n",
       "11  0.0.0.0  11.0  10:21:37.347127  10:21:37.356283    1.0   e           11   \n",
       "12  0.0.0.0  12.0  10:21:37.351545  10:21:52.364580    1.0   e           12   \n",
       "13  0.0.0.0  13.0  10:21:37.356270  10:21:37.356270    1.0   e           13   \n",
       "14  0.0.0.0  14.0  10:21:37.356293  10:21:37.356293    1.0   e           14   \n",
       "15  0.0.0.0  15.0  10:21:37.616972  10:21:37.616972    1.0   e     A     15   \n",
       "16  0.0.0.0  16.0  10:21:52.456953  10:21:54.366382    1.0   e           16   \n",
       "17  0.0.0.0  17.0  10:21:54.453754  10:21:55.494735    1.0   e           17   \n",
       "18  0.0.0.0  18.0  10:21:55.453619  10:21:55.736960    1.0   e           18   \n",
       "19  0.0.0.0  19.0  10:21:57.453660  10:21:59.495024    1.0   e           19   \n",
       "20  0.0.0.0  20.0  10:21:59.453585  10:21:59.500730    1.0   e           20   \n",
       "21  0.0.0.0  20.0  12:24:24.284465  12:24:23.266110    NaN                0   \n",
       "\n",
       "          Dur    RunTime      IdleTime  ...  Inode  Offset   sMeanPktSz  \\\n",
       "0    0.007978        NaN           NaN  ...    NaN       0     0.000000   \n",
       "1    0.000000   0.000000  1.672696e+09  ...    NaN     128   216.000000   \n",
       "2   77.668564  77.668564  1.672696e+09  ...    NaN     240  1165.389038   \n",
       "3   67.995636  67.995636  1.672696e+09  ...    NaN     600   837.449524   \n",
       "4   68.126236  68.126236  1.672696e+09  ...    NaN     960   709.027771   \n",
       "5    0.299595   0.299595  1.672696e+09  ...    NaN    1320    90.000000   \n",
       "6    0.000000   0.000000  1.672696e+09  ...    NaN    1516    60.000000   \n",
       "7    0.000000   0.000000  1.672696e+09  ...    NaN    1632    60.000000   \n",
       "8    0.000000   0.000000  1.672696e+09  ...    NaN    1748    60.000000   \n",
       "9    0.000000   0.000000  1.672696e+09  ...    NaN    1864    60.000000   \n",
       "10   0.014994   0.014994  1.672696e+09  ...    NaN    1980    99.000000   \n",
       "11   0.009156   0.009156  1.672696e+09  ...    NaN    2124   119.000000   \n",
       "12  15.013035  15.013035  1.672696e+09  ...    NaN    2292   179.000000   \n",
       "13   0.000000   0.000000  1.672696e+09  ...    NaN    2436    94.000000   \n",
       "14   0.000000   0.000000  1.672696e+09  ...    NaN    2572    74.000000   \n",
       "15   0.000000   0.000000  1.672696e+09  ...    NaN    2684    60.000000   \n",
       "16   1.909429   1.909429  1.672696e+09  ...    NaN    2800    65.714287   \n",
       "17   1.040981   1.040981  1.672696e+09  ...    NaN    3128    70.000000   \n",
       "18   0.283341   0.283341  1.672696e+09  ...    NaN    3436   175.666672   \n",
       "19   2.041364   2.041364  1.672696e+09  ...    NaN    3784    70.000000   \n",
       "20   0.047145   0.047145  1.672696e+09  ...    NaN    4092   175.666672   \n",
       "21   1.018355        NaN           NaN  ...    NaN    4092     0.000000   \n",
       "\n",
       "    dMeanPktSz  sPktSz sMaxPktSz dPktSz  dMaxPktSz  sMinPktSz dMinPktSz  \n",
       "0     0.000000     NaN       NaN    NaN        NaN        NaN       NaN  \n",
       "1     0.000000     NaN     216.0    NaN        NaN      216.0       NaN  \n",
       "2   262.508453     NaN   65226.0    NaN    65226.0       66.0      66.0  \n",
       "3   127.814369     NaN    6178.0    NaN     1143.0       60.0      66.0  \n",
       "4   127.238098     NaN    6178.0    NaN      322.0       60.0      66.0  \n",
       "5     0.000000     NaN      90.0    NaN        NaN       90.0       NaN  \n",
       "6     0.000000     NaN      60.0    NaN        NaN       60.0       NaN  \n",
       "7     0.000000     NaN      60.0    NaN        NaN       60.0       NaN  \n",
       "8     0.000000     NaN      60.0    NaN        NaN       60.0       NaN  \n",
       "9     0.000000     NaN      60.0    NaN        NaN       60.0       NaN  \n",
       "10    0.000000     NaN     118.0    NaN        NaN       80.0       NaN  \n",
       "11    0.000000     NaN     138.0    NaN        NaN      100.0       NaN  \n",
       "12    0.000000     NaN     179.0    NaN        NaN      179.0       NaN  \n",
       "13    0.000000     NaN      94.0    NaN        NaN       94.0       NaN  \n",
       "14    0.000000     NaN      74.0    NaN        NaN       74.0       NaN  \n",
       "15    0.000000     NaN      60.0    NaN        NaN       60.0       NaN  \n",
       "16   71.333336     NaN      74.0    NaN       82.0       60.0      66.0  \n",
       "17   68.666664     NaN      74.0    NaN       74.0       66.0      66.0  \n",
       "18   74.307693     NaN    1138.0    NaN       94.0       66.0      66.0  \n",
       "19   68.666664     NaN      74.0    NaN       74.0       66.0      66.0  \n",
       "20   75.818184     NaN    1138.0    NaN       94.0       66.0      66.0  \n",
       "21    0.000000     NaN       NaN    NaN        NaN        NaN       NaN  \n",
       "\n",
       "[22 rows x 123 columns]"
      ]
     },
     "execution_count": 3,
     "metadata": {},
     "output_type": "execute_result"
    }
   ],
   "source": [
    "df_d1"
   ]
  },
  {
   "cell_type": "code",
   "execution_count": 4,
   "metadata": {},
   "outputs": [
    {
     "name": "stdout",
     "output_type": "stream",
     "text": [
      "<class 'pandas.core.frame.DataFrame'>\n",
      "RangeIndex: 22 entries, 0 to 21\n",
      "Columns: 123 entries, SrcId to dMinPktSz\n",
      "dtypes: float64(86), int64(18), object(19)\n",
      "memory usage: 21.3+ KB\n"
     ]
    }
   ],
   "source": [
    "df_d1.info()"
   ]
  },
  {
   "cell_type": "code",
   "execution_count": 5,
   "metadata": {},
   "outputs": [
    {
     "data": {
      "text/plain": [
       "array([     0,      1, 116601,    276,    255,      5,      4,      6,\n",
       "           13,      7,     25,     23], dtype=int64)"
      ]
     },
     "execution_count": 5,
     "metadata": {},
     "output_type": "execute_result"
    }
   ],
   "source": [
    "df_d1.TotPkts.unique()"
   ]
  },
  {
   "cell_type": "code",
   "execution_count": 6,
   "metadata": {},
   "outputs": [
    {
     "data": {
      "text/plain": [
       "array([       0,      216, 49008553,   112627,    95279,      450,\n",
       "             60,      396,      476,     1074,       94,       74,\n",
       "            888,      486,     3074,     2942, 10965204], dtype=int64)"
      ]
     },
     "execution_count": 6,
     "metadata": {},
     "output_type": "execute_result"
    }
   ],
   "source": [
    "df_d1.TotBytes.unique()"
   ]
  },
  {
   "cell_type": "code",
   "execution_count": 7,
   "metadata": {},
   "outputs": [
    {
     "data": {
      "text/plain": [
       "array([7.9780000e-03, 0.0000000e+00, 7.7668564e+01, 6.7995636e+01,\n",
       "       6.8126236e+01, 2.9959500e-01, 1.4994000e-02, 9.1560000e-03,\n",
       "       1.5013035e+01, 1.9094290e+00, 1.0409810e+00, 2.8334100e-01,\n",
       "       2.0413640e+00, 4.7145000e-02, 1.0183550e+00])"
      ]
     },
     "execution_count": 7,
     "metadata": {},
     "output_type": "execute_result"
    }
   ],
   "source": [
    "df_d1.Dur.unique()"
   ]
  },
  {
   "cell_type": "code",
   "execution_count": 9,
   "metadata": {},
   "outputs": [
    {
     "data": {
      "text/plain": [
       "array([          nan, 0.0000000e+00, 7.7668564e+01, 6.7995636e+01,\n",
       "       6.8126236e+01, 2.9959500e-01, 1.4994000e-02, 9.1560000e-03,\n",
       "       1.5013035e+01, 1.9094290e+00, 1.0409810e+00, 2.8334100e-01,\n",
       "       2.0413640e+00, 4.7145000e-02])"
      ]
     },
     "execution_count": 9,
     "metadata": {},
     "output_type": "execute_result"
    }
   ],
   "source": [
    "df_d1.Mean.unique()"
   ]
  },
  {
   "cell_type": "code",
   "execution_count": 10,
   "metadata": {},
   "outputs": [
    {
     "data": {
      "text/plain": [
       "array([nan,  0.])"
      ]
     },
     "execution_count": 10,
     "metadata": {},
     "output_type": "execute_result"
    }
   ],
   "source": [
    "df_d1.StdDev.unique()"
   ]
  },
  {
   "cell_type": "code",
   "execution_count": 11,
   "metadata": {},
   "outputs": [
    {
     "data": {
      "text/plain": [
       "array([          nan, 0.0000000e+00, 7.7668564e+01, 6.7995636e+01,\n",
       "       6.8126236e+01, 2.9959500e-01, 1.4994000e-02, 9.1560000e-03,\n",
       "       1.5013035e+01, 1.9094290e+00, 1.0409810e+00, 2.8334100e-01,\n",
       "       2.0413640e+00, 4.7145000e-02])"
      ]
     },
     "execution_count": 11,
     "metadata": {},
     "output_type": "execute_result"
    }
   ],
   "source": [
    "df_d1.Sum.unique()"
   ]
  },
  {
   "cell_type": "code",
   "execution_count": 12,
   "metadata": {},
   "outputs": [
    {
     "data": {
      "text/plain": [
       "array([          nan, 0.0000000e+00, 7.7668564e+01, 6.7995636e+01,\n",
       "       6.8126236e+01, 2.9959500e-01, 1.4994000e-02, 9.1560000e-03,\n",
       "       1.5013035e+01, 1.9094290e+00, 1.0409810e+00, 2.8334100e-01,\n",
       "       2.0413640e+00, 4.7145000e-02])"
      ]
     },
     "execution_count": 12,
     "metadata": {},
     "output_type": "execute_result"
    }
   ],
   "source": [
    "df_d1.Min.unique()"
   ]
  },
  {
   "cell_type": "code",
   "execution_count": 13,
   "metadata": {},
   "outputs": [
    {
     "data": {
      "text/plain": [
       "array([          nan, 0.0000000e+00, 7.7668564e+01, 6.7995636e+01,\n",
       "       6.8126236e+01, 2.9959500e-01, 1.4994000e-02, 9.1560000e-03,\n",
       "       1.5013035e+01, 1.9094290e+00, 1.0409810e+00, 2.8334100e-01,\n",
       "       2.0413640e+00, 4.7145000e-02])"
      ]
     },
     "execution_count": 13,
     "metadata": {},
     "output_type": "execute_result"
    }
   ],
   "source": [
    "df_d1.Max.unique()"
   ]
  },
  {
   "cell_type": "code",
   "execution_count": 14,
   "metadata": {},
   "outputs": [
    {
     "data": {
      "text/plain": [
       "array([    0,     1, 20379,   109,   108,     5,     4,     6,     7,\n",
       "          12], dtype=int64)"
      ]
     },
     "execution_count": 14,
     "metadata": {},
     "output_type": "execute_result"
    }
   ],
   "source": [
    "df_d1.SrcPkts.unique()"
   ]
  },
  {
   "cell_type": "code",
   "execution_count": 15,
   "metadata": {},
   "outputs": [
    {
     "data": {
      "text/plain": [
       "array([    0, 96222,   167,   147,     6,     3,    13,    11,    21],\n",
       "      dtype=int64)"
      ]
     },
     "execution_count": 15,
     "metadata": {},
     "output_type": "execute_result"
    }
   ],
   "source": [
    "df_d1.DstPkts.unique()"
   ]
  },
  {
   "cell_type": "code",
   "execution_count": 16,
   "metadata": {},
   "outputs": [
    {
     "data": {
      "text/plain": [
       "array([       0,      216, 23749465,    91282,    76575,      450,\n",
       "             60,      396,      476,     1074,       94,       74,\n",
       "            460,      280,     2108], dtype=int64)"
      ]
     },
     "execution_count": 16,
     "metadata": {},
     "output_type": "execute_result"
    }
   ],
   "source": [
    "df_d1.SrcBytes.unique()"
   ]
  },
  {
   "cell_type": "code",
   "execution_count": 17,
   "metadata": {},
   "outputs": [
    {
     "data": {
      "text/plain": [
       "array([       0, 25259088,    21345,    18704,      428,      206,\n",
       "            966,      834], dtype=int64)"
      ]
     },
     "execution_count": 17,
     "metadata": {},
     "output_type": "execute_result"
    }
   ],
   "source": [
    "df_d1.DstBytes.unique()"
   ]
  },
  {
   "cell_type": "code",
   "execution_count": 19,
   "metadata": {},
   "outputs": [
    {
     "data": {
      "text/plain": [
       "array([0.00000000e+00, 1.50125085e+03, 4.04437700e+00, 3.72837300e+00,\n",
       "       1.33513570e+01, 2.00080032e+02, 3.27653992e+02, 3.33044000e-01,\n",
       "       6.28460200e+00, 5.76379300e+00, 8.47035900e+01, 2.93921100e+00,\n",
       "       4.66645447e+02])"
      ]
     },
     "execution_count": 19,
     "metadata": {},
     "output_type": "execute_result"
    }
   ],
   "source": [
    "df_d1.Rate.unique()"
   ]
  },
  {
   "cell_type": "code",
   "execution_count": 20,
   "metadata": {},
   "outputs": [
    {
     "data": {
      "text/plain": [
       "array([  0.      , 262.424591,   1.588337,   1.570614,  13.351357,\n",
       "       200.080032, 327.653992,   0.333044,   3.142301,   3.000957,\n",
       "        38.825356,   1.500106, 233.476257])"
      ]
     },
     "execution_count": 20,
     "metadata": {},
     "output_type": "execute_result"
    }
   ],
   "source": [
    "df_d1.SrcRate.unique()"
   ]
  },
  {
   "cell_type": "code",
   "execution_count": 21,
   "metadata": {},
   "outputs": [
    {
     "data": {
      "text/plain": [
       "array([0.00000000e+00, 1.23888611e+03, 2.44138100e+00, 2.14312800e+00,\n",
       "       2.61962000e+00, 1.92255200e+00, 4.23535880e+01, 9.79748000e-01,\n",
       "       2.12197098e+02])"
      ]
     },
     "execution_count": 21,
     "metadata": {},
     "output_type": "execute_result"
    }
   ],
   "source": [
    "df_d1.DstRate.unique()"
   ]
  },
  {
   "cell_type": "code",
   "execution_count": 23,
   "metadata": {},
   "outputs": [],
   "source": [
    "df_ddost=pd.concat([df_d1,df_d2,df_d3,df_d4,df_d5,df_d6],axis=0)"
   ]
  },
  {
   "cell_type": "code",
   "execution_count": 26,
   "metadata": {},
   "outputs": [],
   "source": [
    "df_ddost.Label= 'DDoS'"
   ]
  },
  {
   "cell_type": "code",
   "execution_count": 6,
   "metadata": {},
   "outputs": [
    {
     "data": {
      "text/plain": [
       "Normal    101066\n",
       "Probe      51666\n",
       "Dos        35810\n",
       "Botnet       132\n",
       "Name: Label, dtype: int64"
      ]
     },
     "execution_count": 6,
     "metadata": {},
     "output_type": "execute_result"
    }
   ],
   "source": [
    "#mostrar total de muestras por clase\n",
    "df_a.Label.value_counts()"
   ]
  },
  {
   "cell_type": "code",
   "execution_count": 27,
   "metadata": {},
   "outputs": [
    {
     "data": {
      "text/plain": [
       "DDoS    5847197\n",
       "Name: Label, dtype: int64"
      ]
     },
     "execution_count": 27,
     "metadata": {},
     "output_type": "execute_result"
    }
   ],
   "source": [
    "df_ddost.Label.value_counts()"
   ]
  },
  {
   "cell_type": "code",
   "execution_count": 13,
   "metadata": {},
   "outputs": [],
   "source": [
    "df_b1=pd.read_csv('/ML-Tesis-Attacks/argus_bots/fa-2017-06-24_win3emotet.csv')\n",
    "df_b2=pd.read_csv('/ML-Tesis-Attacks/argus_bots/fa-botnet-capture-20110815-fast-flux-2.csv')\n",
    "df_b3=pd.read_csv('/ML-Tesis-Attacks/argus_bots/fa-ONOS_Botnet.csv')\n",
    "df_b4=pd.read_csv('/ML-Tesis-Attacks/argus_bots/fa-S1_Botnet.csv')"
   ]
  },
  {
   "cell_type": "code",
   "execution_count": 14,
   "metadata": {},
   "outputs": [],
   "source": [
    "df_bts=pd.concat([df_b3, df_b4], axis=0)"
   ]
  },
  {
   "cell_type": "code",
   "execution_count": 16,
   "metadata": {},
   "outputs": [
    {
     "data": {
      "text/plain": [
       "(102, 123)"
      ]
     },
     "execution_count": 16,
     "metadata": {},
     "output_type": "execute_result"
    }
   ],
   "source": [
    "df_bts.shape"
   ]
  },
  {
   "cell_type": "code",
   "execution_count": 19,
   "metadata": {},
   "outputs": [],
   "source": [
    "df_btst=pd.concat([df_b1,df_b2,df_b3, df_b4], axis=0)"
   ]
  },
  {
   "cell_type": "code",
   "execution_count": 20,
   "metadata": {},
   "outputs": [
    {
     "data": {
      "text/plain": [
       "(106622, 123)"
      ]
     },
     "execution_count": 20,
     "metadata": {},
     "output_type": "execute_result"
    }
   ],
   "source": [
    "df_btst.shape"
   ]
  },
  {
   "attachments": {},
   "cell_type": "markdown",
   "metadata": {},
   "source": [
    "# Verificacion"
   ]
  },
  {
   "cell_type": "code",
   "execution_count": 2,
   "metadata": {},
   "outputs": [],
   "source": [
    "#diccionario de acceso a archivos de extraccion de flujos\n",
    "dir_traficoFA = pl.Path(\"/ML-Tesis-Attacks/argus_ra/\")\n",
    "\"\"\"crear diccionario para el acceso de archivos\"\"\"\n",
    "dicc_traficoFA = {\n",
    "    'Normal':list(dir_traficoFA.glob('Normal/**/*.csv')),\n",
    "    'BOTNET': list(dir_traficoFA.glob('botnet/*.csv')),\n",
    "    'BFA': list(dir_traficoFA.glob('BFA/*.csv')),    \n",
    "    'Dos': list(dir_traficoFA.glob('DoS/**/*.csv')),  \n",
    "    'Probe': list(dir_traficoFA.glob('Probe/*.csv')),  \n",
    "    'WebAttack': list(dir_traficoFA.glob('webattack/*.csv'))  \n",
    "}"
   ]
  },
  {
   "cell_type": "code",
   "execution_count": 3,
   "metadata": {},
   "outputs": [
    {
     "name": "stdout",
     "output_type": "stream",
     "text": [
      "En proceso de clase Normal...\n"
     ]
    },
    {
     "name": "stderr",
     "output_type": "stream",
     "text": [
      "d:\\ML-Tesis-Attacks\\Clasiffication_TrafficSDN2\\Fase1\\libmac.py:37: DtypeWarning: Columns (117) have mixed types. Specify dtype option on import or set low_memory=False.\n",
      "  df = pd.read_csv(archivo_exdata)\n",
      "d:\\ML-Tesis-Attacks\\Clasiffication_TrafficSDN2\\Fase1\\libmac.py:37: DtypeWarning: Columns (117) have mixed types. Specify dtype option on import or set low_memory=False.\n",
      "  df = pd.read_csv(archivo_exdata)\n",
      "d:\\ML-Tesis-Attacks\\Clasiffication_TrafficSDN2\\Fase1\\libmac.py:37: DtypeWarning: Columns (117) have mixed types. Specify dtype option on import or set low_memory=False.\n",
      "  df = pd.read_csv(archivo_exdata)\n"
     ]
    },
    {
     "name": "stdout",
     "output_type": "stream",
     "text": [
      "Proceso completado.... \n",
      " Total de archivos unidos: 22\n",
      "En proceso de clase BOTNET...\n",
      "Proceso completado.... \n",
      " Total de archivos unidos: 2\n",
      "En proceso de clase BFA...\n",
      "Proceso completado.... \n",
      " Total de archivos unidos: 4\n",
      "En proceso de clase Dos...\n"
     ]
    },
    {
     "name": "stderr",
     "output_type": "stream",
     "text": [
      "d:\\ML-Tesis-Attacks\\Clasiffication_TrafficSDN2\\Fase1\\libmac.py:37: DtypeWarning: Columns (21) have mixed types. Specify dtype option on import or set low_memory=False.\n",
      "  df = pd.read_csv(archivo_exdata)\n",
      "d:\\ML-Tesis-Attacks\\Clasiffication_TrafficSDN2\\Fase1\\libmac.py:37: DtypeWarning: Columns (21) have mixed types. Specify dtype option on import or set low_memory=False.\n",
      "  df = pd.read_csv(archivo_exdata)\n"
     ]
    },
    {
     "name": "stdout",
     "output_type": "stream",
     "text": [
      "Proceso completado.... \n",
      " Total de archivos unidos: 18\n",
      "En proceso de clase Probe...\n"
     ]
    },
    {
     "name": "stderr",
     "output_type": "stream",
     "text": [
      "d:\\ML-Tesis-Attacks\\Clasiffication_TrafficSDN2\\Fase1\\libmac.py:37: DtypeWarning: Columns (26,34,116,117) have mixed types. Specify dtype option on import or set low_memory=False.\n",
      "  df = pd.read_csv(archivo_exdata)\n"
     ]
    },
    {
     "name": "stdout",
     "output_type": "stream",
     "text": [
      "Proceso completado.... \n",
      " Total de archivos unidos: 4\n",
      "En proceso de clase WebAttack...\n",
      "Proceso completado.... \n",
      " Total de archivos unidos: 6\n"
     ]
    }
   ],
   "source": [
    "#unir datos por clase\n",
    "etiquetar_unirdatosdeclase(dicc_traficoFA,'Label', '/ML-Tesis-Attacks/datos_SDN/ArgusDatos/')"
   ]
  },
  {
   "cell_type": "code",
   "execution_count": 2,
   "metadata": {},
   "outputs": [],
   "source": [
    "#importar archivos de datos generados\n",
    "df_botnetAr=pd.read_csv('/ML-Tesis-Attacks/datos_SDN/ArgusDatos/BOTNET.csv',low_memory=False)\n",
    "df_dosAr=pd.read_csv('/ML-Tesis-Attacks/datos_SDN/ArgusDatos/Dos.csv',low_memory=False)\n",
    "df_normalAr=pd.read_csv('/ML-Tesis-Attacks/datos_SDN/ArgusDatos/Normal.csv',low_memory=False)\n",
    "df_probeAr=pd.read_csv('/ML-Tesis-Attacks/datos_SDN/ArgusDatos/Probe.csv',low_memory=False)\n",
    "df_bfAr=pd.read_csv('/ML-Tesis-Attacks/datos_SDN/ArgusDatos/BFA.csv',low_memory=False)\n",
    "df_webAr=pd.read_csv('/ML-Tesis-Attacks/datos_SDN/ArgusDatos/WebAttack.csv',low_memory=False)"
   ]
  },
  {
   "cell_type": "code",
   "execution_count": 3,
   "metadata": {},
   "outputs": [],
   "source": [
    "#concatenar\n",
    "datos=pd.concat([df_botnetAr,df_dosAr,df_normalAr,df_probeAr,df_bfAr,df_webAr],axis=0)"
   ]
  },
  {
   "cell_type": "code",
   "execution_count": 6,
   "metadata": {},
   "outputs": [
    {
     "name": "stdout",
     "output_type": "stream",
     "text": [
      "<class 'pandas.core.frame.DataFrame'>\n",
      "RangeIndex: 111720 entries, 0 to 111719\n",
      "Data columns (total 126 columns):\n",
      " #    Column        Dtype  \n",
      "---   ------        -----  \n",
      " 0    SrcId         object \n",
      " 1    Rank          float64\n",
      " 2    StartTime     object \n",
      " 3    LastTime      object \n",
      " 4    SrcStartTime  object \n",
      " 5    DstStartTime  object \n",
      " 6    SrcLastTime   object \n",
      " 7    DstLastTime   object \n",
      " 8    Trans         float64\n",
      " 9    Seq           int64  \n",
      " 10   Flgs          object \n",
      " 11   Dur           float64\n",
      " 12   SrcDur        float64\n",
      " 13   DstDur        float64\n",
      " 14   StdDev        float64\n",
      " 15   SrcMac        object \n",
      " 16   DstMac        object \n",
      " 17   SrcAddr       object \n",
      " 18   DstAddr       object \n",
      " 19   Dir           object \n",
      " 20   Proto         object \n",
      " 21   Sport         object \n",
      " 22   Dport         object \n",
      " 23   sTos          float64\n",
      " 24   dTos          float64\n",
      " 25   sDSb          object \n",
      " 26   dDSb          object \n",
      " 27   sCo           float64\n",
      " 28   dCo           float64\n",
      " 29   sTtl          float64\n",
      " 30   dTtl          float64\n",
      " 31   sHops         float64\n",
      " 32   dHops         float64\n",
      " 33   sIpId         object \n",
      " 34   dIpId         object \n",
      " 35   sMpls         float64\n",
      " 36   dMpls         float64\n",
      " 37   Cause         object \n",
      " 38   TotPkts       int64  \n",
      " 39   SrcPkts       int64  \n",
      " 40   DstPkts       int64  \n",
      " 41   TotBytes      int64  \n",
      " 42   SrcBytes      int64  \n",
      " 43   DstBytes      int64  \n",
      " 44   TotAppByte    int64  \n",
      " 45   SAppBytes     int64  \n",
      " 46   DAppBytes     int64  \n",
      " 47   PCRatio       float64\n",
      " 48   Load          float64\n",
      " 49   SrcLoad       float64\n",
      " 50   DstLoad       float64\n",
      " 51   Loss          int64  \n",
      " 52   SrcLoss       int64  \n",
      " 53   DstLoss       int64  \n",
      " 54   pLoss         float64\n",
      " 55   pSrcLoss      float64\n",
      " 56   pDstLoss      float64\n",
      " 57   SrcGap        float64\n",
      " 58   DstGap        float64\n",
      " 59   Rate          float64\n",
      " 60   SrcRate       float64\n",
      " 61   DstRate       float64\n",
      " 62   SIntPkt       float64\n",
      " 63   DIntPkt       float64\n",
      " 64   SIntPktAct    float64\n",
      " 65   DIntPktAct    float64\n",
      " 66   SIntPktIdl    float64\n",
      " 67   DIntPktIdl    float64\n",
      " 68   SIntPktMax    float64\n",
      " 69   SIntPktMin    float64\n",
      " 70   DIntPktMax    float64\n",
      " 71   DIntPktMin    float64\n",
      " 72   SIPActMax     float64\n",
      " 73   SIPActMin     float64\n",
      " 74   DIPActMax     float64\n",
      " 75   DIPActMin     float64\n",
      " 76   SIPIdlMax     float64\n",
      " 77   SIPIdlMin     float64\n",
      " 78   DIPIdlMax     float64\n",
      " 79   DIPIdlMin     float64\n",
      " 80   SrcJitter     float64\n",
      " 81   DstJitter     float64\n",
      " 82   SrcJitAct     float64\n",
      " 83   DstJitAct     float64\n",
      " 84   SrcJitIdl     float64\n",
      " 85   DstJitIdl     float64\n",
      " 86   State         object \n",
      " 87   dsPkts        float64\n",
      " 88   ddPkts        float64\n",
      " 89   dsBytes       float64\n",
      " 90   ddBytes       float64\n",
      " 91   pdsPkt        float64\n",
      " 92   pddPkt        float64\n",
      " 93   pdsByte       float64\n",
      " 94   pddByte       float64\n",
      " 95   srcUdata      object \n",
      " 96   dstUdata      object \n",
      " 97   (null)        float64\n",
      " 98   SrcWin        float64\n",
      " 99   DstWin        float64\n",
      " 100  sVlan         float64\n",
      " 101  dVlan         float64\n",
      " 102  sVid          float64\n",
      " 103  dVid          float64\n",
      " 104  sVpri         float64\n",
      " 105  dVpri         float64\n",
      " 106  SRange        float64\n",
      " 107  JDelay        float64\n",
      " 108  LDelay        float64\n",
      " 109  Bins          float64\n",
      " 110  Bin           float64\n",
      " 111  SrcTCPBase    float64\n",
      " 112  DstTCPBase    float64\n",
      " 113  TcpRtt        float64\n",
      " 114  SynAck        float64\n",
      " 115  AckDat        float64\n",
      " 116  TcpOpt        object \n",
      " 117  Inode         object \n",
      " 118  Offset        int64  \n",
      " 119  sMeanPktSz    float64\n",
      " 120  dMeanPktSz    float64\n",
      " 121  sMaxPktSz     float64\n",
      " 122  dMaxPktSz     float64\n",
      " 123  sMinPktSz     float64\n",
      " 124  dMinPktSz     float64\n",
      " 125  Label         object \n",
      "dtypes: float64(85), int64(14), object(27)\n",
      "memory usage: 107.4+ MB\n"
     ]
    }
   ],
   "source": [
    "df_normalAr.info(verbose=True)"
   ]
  },
  {
   "cell_type": "code",
   "execution_count": 5,
   "metadata": {},
   "outputs": [
    {
     "data": {
      "text/plain": [
       "Normal       111720\n",
       "Probe         51666\n",
       "Dos           35030\n",
       "BFA             886\n",
       "WebAttack       564\n",
       "BOTNET          193\n",
       "Name: Label, dtype: int64"
      ]
     },
     "execution_count": 5,
     "metadata": {},
     "output_type": "execute_result"
    }
   ],
   "source": [
    "datos.Label.value_counts()"
   ]
  },
  {
   "cell_type": "code",
   "execution_count": 3,
   "metadata": {},
   "outputs": [],
   "source": [
    "\"\"\"directorio principal de datos\"\"\"\n",
    "dir_trafico = pl.Path(\"/ML-Tesis-Attacks/araData/\")\n",
    "\"\"\"crear diccionario para el acceso de archivos\"\"\"\n",
    "dicc_trafico = {\n",
    "    'Normal':list(dir_trafico.glob('Normal/**/*.csv')),    \n",
    "    'Dos': list(dir_trafico.glob('DoS/**/*.csv')),  \n",
    "    'Probe': list(dir_trafico.glob('Probe/*.csv'))   \n",
    "}"
   ]
  },
  {
   "cell_type": "code",
   "execution_count": 5,
   "metadata": {},
   "outputs": [
    {
     "name": "stdout",
     "output_type": "stream",
     "text": [
      "En proceso de clase Normal...\n"
     ]
    },
    {
     "name": "stderr",
     "output_type": "stream",
     "text": [
      "d:\\ML-Tesis-Attacks\\Clasiffication_TrafficSDN2\\Fase1\\libmac.py:37: DtypeWarning: Columns (111) have mixed types. Specify dtype option on import or set low_memory=False.\n",
      "  df = pd.read_csv(archivo_exdata, low_memory=False)\n",
      "d:\\ML-Tesis-Attacks\\Clasiffication_TrafficSDN2\\Fase1\\libmac.py:37: DtypeWarning: Columns (111) have mixed types. Specify dtype option on import or set low_memory=False.\n",
      "  df = pd.read_csv(archivo_exdata, low_memory=False)\n",
      "d:\\ML-Tesis-Attacks\\Clasiffication_TrafficSDN2\\Fase1\\libmac.py:37: DtypeWarning: Columns (111) have mixed types. Specify dtype option on import or set low_memory=False.\n",
      "  df = pd.read_csv(archivo_exdata, low_memory=False)\n"
     ]
    },
    {
     "name": "stdout",
     "output_type": "stream",
     "text": [
      "Proceso completado.... \n",
      " Total de archivos unidos: 22\n",
      "En proceso de clase Dos...\n"
     ]
    },
    {
     "name": "stderr",
     "output_type": "stream",
     "text": [
      "d:\\ML-Tesis-Attacks\\Clasiffication_TrafficSDN2\\Fase1\\libmac.py:37: DtypeWarning: Columns (24) have mixed types. Specify dtype option on import or set low_memory=False.\n",
      "  df = pd.read_csv(archivo_exdata, low_memory=False)\n",
      "d:\\ML-Tesis-Attacks\\Clasiffication_TrafficSDN2\\Fase1\\libmac.py:37: DtypeWarning: Columns (24) have mixed types. Specify dtype option on import or set low_memory=False.\n",
      "  df = pd.read_csv(archivo_exdata, low_memory=False)\n"
     ]
    },
    {
     "name": "stdout",
     "output_type": "stream",
     "text": [
      "Proceso completado.... \n",
      " Total de archivos unidos: 18\n",
      "En proceso de clase Probe...\n"
     ]
    },
    {
     "name": "stderr",
     "output_type": "stream",
     "text": [
      "d:\\ML-Tesis-Attacks\\Clasiffication_TrafficSDN2\\Fase1\\libmac.py:37: DtypeWarning: Columns (29,33,110,111) have mixed types. Specify dtype option on import or set low_memory=False.\n",
      "  df = pd.read_csv(archivo_exdata, low_memory=False)\n"
     ]
    },
    {
     "name": "stdout",
     "output_type": "stream",
     "text": [
      "Proceso completado.... \n",
      " Total de archivos unidos: 4\n"
     ]
    }
   ],
   "source": [
    "\"\"\"unir datos por clase\"\"\"\n",
    "etiquetar_unirdatosdeclase(dicc_trafico,'Label', '/ML-Tesis-Attacks/datos_SDN/araData/')"
   ]
  },
  {
   "cell_type": "code",
   "execution_count": 6,
   "metadata": {},
   "outputs": [
    {
     "data": {
      "text/plain": [
       "Normal    111719\n",
       "Probe      49452\n",
       "Dos        35030\n",
       "Name: Label, dtype: int64"
      ]
     },
     "execution_count": 6,
     "metadata": {},
     "output_type": "execute_result"
    }
   ],
   "source": [
    "\"\"\"importar datos generados\"\"\"\n",
    "df_dos=pd.read_csv('/ML-Tesis-Attacks/datos_SDN/araData/Dos.csv',low_memory=False)\n",
    "df_normal=pd.read_csv('/ML-Tesis-Attacks/datos_SDN/araData/Normal.csv',low_memory=False)\n",
    "df_probe=pd.read_csv('/ML-Tesis-Attacks/datos_SDN/araData/Probe.csv',low_memory=False)\n",
    "\"\"\"concatenar datos\"\"\"\n",
    "df_data = pd.concat([df_dos, df_normal, df_probe], axis=0)\n",
    "\"\"\"ver cantidad de muestras por clase\"\"\"\n",
    "df_data.Label.value_counts()"
   ]
  }
 ],
 "metadata": {
  "kernelspec": {
   "display_name": "Python 3",
   "language": "python",
   "name": "python3"
  },
  "language_info": {
   "codemirror_mode": {
    "name": "ipython",
    "version": 3
   },
   "file_extension": ".py",
   "mimetype": "text/x-python",
   "name": "python",
   "nbconvert_exporter": "python",
   "pygments_lexer": "ipython3",
   "version": "3.8.10 (tags/v3.8.10:3d8993a, May  3 2021, 11:48:03) [MSC v.1928 64 bit (AMD64)]"
  },
  "orig_nbformat": 4,
  "vscode": {
   "interpreter": {
    "hash": "5c3d121086e35f129a20ca7f553230286826dfcc08161000ccf738c6df1a7518"
   }
  }
 },
 "nbformat": 4,
 "nbformat_minor": 2
}
