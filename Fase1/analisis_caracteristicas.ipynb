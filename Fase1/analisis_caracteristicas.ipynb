{
 "cells": [
  {
   "cell_type": "code",
   "execution_count": 9,
   "metadata": {},
   "outputs": [],
   "source": [
    "\"\"\"librerias\"\"\"\n",
    "import pandas as pd"
   ]
  },
  {
   "attachments": {},
   "cell_type": "markdown",
   "metadata": {},
   "source": [
    "## Analisis de datos de trafico Normal"
   ]
  },
  {
   "cell_type": "code",
   "execution_count": 10,
   "metadata": {},
   "outputs": [
    {
     "name": "stdout",
     "output_type": "stream",
     "text": [
      "<class 'pandas.core.frame.DataFrame'>\n",
      "RangeIndex: 111719 entries, 0 to 111718\n",
      "Data columns (total 122 columns):\n",
      " #    Column        Dtype  \n",
      "---   ------        -----  \n",
      " 0    SrcId         object \n",
      " 1    Rank          float64\n",
      " 2    StartTime     object \n",
      " 3    LastTime      object \n",
      " 4    SrcStartTime  object \n",
      " 5    DstStartTime  object \n",
      " 6    SrcLastTime   object \n",
      " 7    DstLastTime   object \n",
      " 8    Trans         float64\n",
      " 9    Seq           int64  \n",
      " 10   Flgs          object \n",
      " 11   RunTime       float64\n",
      " 12   Dur           float64\n",
      " 13   SrcDur        float64\n",
      " 14   DstDur        float64\n",
      " 15   Mean          float64\n",
      " 16   StdDev        float64\n",
      " 17   Sum           float64\n",
      " 18   Min           float64\n",
      " 19   Max           float64\n",
      " 20   Dir           object \n",
      " 21   SrcAddr       object \n",
      " 22   DstAddr       object \n",
      " 23   Proto         object \n",
      " 24   Sport         object \n",
      " 25   Dport         object \n",
      " 26   sTos          float64\n",
      " 27   dTos          float64\n",
      " 28   sDSb          object \n",
      " 29   dDSb          object \n",
      " 30   sTtl          float64\n",
      " 31   dTtl          float64\n",
      " 32   sIpId         object \n",
      " 33   dIpId         object \n",
      " 34   Cause         object \n",
      " 35   TotPkts       int64  \n",
      " 36   SrcPkts       int64  \n",
      " 37   DstPkts       int64  \n",
      " 38   TotBytes      int64  \n",
      " 39   SrcBytes      int64  \n",
      " 40   DstBytes      int64  \n",
      " 41   TotAppByte    int64  \n",
      " 42   SAppBytes     int64  \n",
      " 43   DAppBytes     int64  \n",
      " 44   PCRatio       float64\n",
      " 45   Load          float64\n",
      " 46   SrcLoad       float64\n",
      " 47   DstLoad       float64\n",
      " 48   Loss          int64  \n",
      " 49   SrcLoss       int64  \n",
      " 50   DstLoss       int64  \n",
      " 51   pLoss         float64\n",
      " 52   pSrcLoss      float64\n",
      " 53   pDstLoss      float64\n",
      " 54   Retrans       int64  \n",
      " 55   SrcRetra      int64  \n",
      " 56   DstRetra      int64  \n",
      " 57   pRetran       float64\n",
      " 58   pSrcRetr      float64\n",
      " 59   pDstRetr      float64\n",
      " 60   SrcGap        float64\n",
      " 61   DstGap        float64\n",
      " 62   Rate          float64\n",
      " 63   SrcRate       float64\n",
      " 64   DstRate       float64\n",
      " 65   SIntPkt       float64\n",
      " 66   DIntPkt       float64\n",
      " 67   SIntPktAct    float64\n",
      " 68   DIntPktAct    float64\n",
      " 69   SIntPktIdl    float64\n",
      " 70   DIntPktIdl    float64\n",
      " 71   SIntPktMax    float64\n",
      " 72   SIntPktMin    float64\n",
      " 73   DIntPktMax    float64\n",
      " 74   DIntPktMin    float64\n",
      " 75   SIPActMax     float64\n",
      " 76   SIPActMin     float64\n",
      " 77   DIPActMax     float64\n",
      " 78   DIPActMin     float64\n",
      " 79   SIPIdlMax     float64\n",
      " 80   SIPIdlMin     float64\n",
      " 81   DIPIdlMax     float64\n",
      " 82   DIPIdlMin     float64\n",
      " 83   SrcJitter     float64\n",
      " 84   DstJitter     float64\n",
      " 85   SrcJitAct     float64\n",
      " 86   DstJitAct     float64\n",
      " 87   SrcJitIdl     float64\n",
      " 88   DstJitIdl     float64\n",
      " 89   State         object \n",
      " 90   dsPkts        float64\n",
      " 91   ddPkts        float64\n",
      " 92   dsBytes       float64\n",
      " 93   ddBytes       float64\n",
      " 94   pdsPkt        float64\n",
      " 95   pddPkt        float64\n",
      " 96   pdsByte       float64\n",
      " 97   pddByte       float64\n",
      " 98   (null)        float64\n",
      " 99   SrcWin        float64\n",
      " 100  DstWin        float64\n",
      " 101  JDelay        float64\n",
      " 102  LDelay        float64\n",
      " 103  Bins          float64\n",
      " 104  Bin           float64\n",
      " 105  SrcTCPBase    float64\n",
      " 106  DstTCPBase    float64\n",
      " 107  TcpRtt        float64\n",
      " 108  SynAck        float64\n",
      " 109  AckDat        float64\n",
      " 110  TcpOpt        object \n",
      " 111  Inode         object \n",
      " 112  Offset        int64  \n",
      " 113  sPktSz        float64\n",
      " 114  dPktSz        float64\n",
      " 115  sMeanPktSz    float64\n",
      " 116  dMeanPktSz    float64\n",
      " 117  sMaxPktSz     float64\n",
      " 118  dMaxPktSz     float64\n",
      " 119  sMinPktSz     float64\n",
      " 120  dMinPktSz     float64\n",
      " 121  Label         object \n",
      "dtypes: float64(82), int64(17), object(23)\n",
      "memory usage: 104.0+ MB\n"
     ]
    }
   ],
   "source": [
    "df_normal = pd.read_csv('../../datos_SDN/araData/Normal.csv', low_memory=False)\n",
    "df_normal.info(verbose=True)"
   ]
  },
  {
   "cell_type": "code",
   "execution_count": 11,
   "metadata": {},
   "outputs": [
    {
     "data": {
      "text/plain": [
       "array(['127.0.1.1'], dtype=object)"
      ]
     },
     "execution_count": 11,
     "metadata": {},
     "output_type": "execute_result"
    }
   ],
   "source": [
    "\"\"\"identificador de origen argus = BAJA\"\"\" \n",
    "df_normal.SrcId.unique()"
   ]
  },
  {
   "cell_type": "code",
   "execution_count": 12,
   "metadata": {},
   "outputs": [
    {
     "data": {
      "text/plain": [
       "array([       nan, 1.0000e+00, 2.0000e+00, ..., 2.3480e+04, 2.3481e+04,\n",
       "       2.3482e+04])"
      ]
     },
     "execution_count": 12,
     "metadata": {},
     "output_type": "execute_result"
    }
   ],
   "source": [
    "\"\"\" numero de secuencia del registro de flujo = BAJA \"\"\"\n",
    "df_normal.Rank.unique()"
   ]
  },
  {
   "cell_type": "code",
   "execution_count": 13,
   "metadata": {},
   "outputs": [
    {
     "data": {
      "text/plain": [
       "array(['19:55:39.616135', '09:25:49.449442', '09:25:49.639147', ...,\n",
       "       '14:24:01.768778', '14:24:16.452088', '20:30:27.483326'],\n",
       "      dtype=object)"
      ]
     },
     "execution_count": 13,
     "metadata": {},
     "output_type": "execute_result"
    }
   ],
   "source": [
    "\"\"\"hora de inicio del registro del flujo = MEDIA\"\"\"\n",
    "df_normal.StartTime.unique()"
   ]
  },
  {
   "cell_type": "code",
   "execution_count": 14,
   "metadata": {},
   "outputs": [
    {
     "data": {
      "text/plain": [
       "array(['19:55:39.614701', '09:26:00.900429', '09:26:02.413292', ...,\n",
       "       '14:24:18.269593', '14:24:18.569875', '14:24:19.391770'],\n",
       "      dtype=object)"
      ]
     },
     "execution_count": 14,
     "metadata": {},
     "output_type": "execute_result"
    }
   ],
   "source": [
    "\"\"\"hora en que finaliza el flujo registrado = MEDIA \"\"\"\n",
    "df_normal.LastTime.unique()"
   ]
  },
  {
   "cell_type": "code",
   "execution_count": 15,
   "metadata": {},
   "outputs": [
    {
     "data": {
      "text/plain": [
       "array(['19:55:39.614701', '09:25:49.449442', '09:25:49.639147', ...,\n",
       "       '14:24:00.069120', '14:24:01.769407', '14:24:16.452088'],\n",
       "      dtype=object)"
      ]
     },
     "execution_count": 15,
     "metadata": {},
     "output_type": "execute_result"
    }
   ],
   "source": [
    "\"\"\"hora en que se inicia el flujo por parte del host origen = MEDIA\"\"\"\n",
    "df_normal.SrcStartTime.unique()"
   ]
  },
  {
   "cell_type": "code",
   "execution_count": 16,
   "metadata": {},
   "outputs": [
    {
     "data": {
      "text/plain": [
       "array(['19:55:39.614701', '09:25:49.451096', '09:25:49.640548', ...,\n",
       "       '14:24:00.068618', '14:24:01.768778', '14:24:16.452760'],\n",
       "      dtype=object)"
      ]
     },
     "execution_count": 16,
     "metadata": {},
     "output_type": "execute_result"
    }
   ],
   "source": [
    "\"\"\"hora en que se inicia el flujo por parte del host destino = MEDIA\"\"\"\n",
    "df_normal.DstStartTime.unique()"
   ]
  },
  {
   "cell_type": "code",
   "execution_count": 17,
   "metadata": {},
   "outputs": [
    {
     "data": {
      "text/plain": [
       "array(['19:55:39.616135', '09:26:00.899239', '09:26:02.413292', ...,\n",
       "       '14:24:18.569872', '14:24:19.391770', '20:30:27.483326'],\n",
       "      dtype=object)"
      ]
     },
     "execution_count": 17,
     "metadata": {},
     "output_type": "execute_result"
    }
   ],
   "source": [
    "\"\"\"hora en que se finaliza el flujo por parte del host origen = MEDIA\"\"\"\n",
    "df_normal.SrcLastTime.unique()"
   ]
  },
  {
   "cell_type": "code",
   "execution_count": 18,
   "metadata": {},
   "outputs": [
    {
     "data": {
      "text/plain": [
       "array(['19:55:39.616135', '09:26:00.900429', '09:26:02.413245', ...,\n",
       "       '14:24:18.569875', '14:24:19.348016', '20:30:27.483326'],\n",
       "      dtype=object)"
      ]
     },
     "execution_count": 18,
     "metadata": {},
     "output_type": "execute_result"
    }
   ],
   "source": [
    "\"\"\"hora en que se finaliza el flujo por parte del host destino = MEDIA\"\"\"\n",
    "df_normal.DstLastTime.unique()"
   ]
  },
  {
   "cell_type": "code",
   "execution_count": 19,
   "metadata": {},
   "outputs": [
    {
     "data": {
      "text/plain": [
       "array([nan,  1.])"
      ]
     },
     "execution_count": 19,
     "metadata": {},
     "output_type": "execute_result"
    }
   ],
   "source": [
    "\"\"\" contador de registros de flujos agregados = BAJA\"\"\"\n",
    "df_normal.Trans.unique()"
   ]
  },
  {
   "cell_type": "code",
   "execution_count": 20,
   "metadata": {},
   "outputs": [
    {
     "data": {
      "text/plain": [
       "array([    0,     1,     2, ..., 18662, 18663, 18664], dtype=int64)"
      ]
     },
     "execution_count": 20,
     "metadata": {},
     "output_type": "execute_result"
    }
   ],
   "source": [
    "\"\"\"número de secuencia argus = ?+ \"\"\"\n",
    "df_normal.Seq.unique()"
   ]
  },
  {
   "cell_type": "code",
   "execution_count": 21,
   "metadata": {},
   "outputs": [
    {
     "data": {
      "text/plain": [
       "array(['          ', ' M        ', ' e        ', ' M g      ',\n",
       "       ' M r      ', ' M dS     ', ' e g      ', ' e     A  ',\n",
       "       ' eU       ', ' M d      ', ' e s      ', ' e d      ',\n",
       "       ' M i      ', ' M s      ', ' M  S     ', ' M  D     ',\n",
       "       ' M sD     ', ' M &      ', ' e *      ', ' M *      ',\n",
       "       ' e dD     '], dtype=object)"
      ]
     },
     "execution_count": 21,
     "metadata": {},
     "output_type": "execute_result"
    }
   ],
   "source": [
    "\"\"\"Indicadores de estado de flujo vistos en la transacción = MEDIA\n",
    "(indica el proposito que tiene el paquete o segmento)\"\"\"\n",
    "df_normal.Flgs.unique()"
   ]
  },
  {
   "cell_type": "code",
   "execution_count": 22,
   "metadata": {},
   "outputs": [
    {
     "data": {
      "text/plain": [
       "array([      nan, 11.450987, 12.774145, ..., 18.200975, 16.801098,\n",
       "        2.939682])"
      ]
     },
     "execution_count": 22,
     "metadata": {},
     "output_type": "execute_result"
    }
   ],
   "source": [
    "\"\"\" tiempo total de ejecución de flujo activo = ALTA\"\"\"\n",
    "df_normal.RunTime.unique()"
   ]
  },
  {
   "cell_type": "code",
   "execution_count": 23,
   "metadata": {},
   "outputs": [
    {
     "data": {
      "text/plain": [
       "array([1.4340000e-03, 1.1450987e+01, 1.2774145e+01, ..., 1.6801098e+01,\n",
       "       2.9396820e+00, 1.0040930e+00])"
      ]
     },
     "execution_count": 23,
     "metadata": {},
     "output_type": "execute_result"
    }
   ],
   "source": [
    "\"\"\" duracion total del flujo = ALTA\"\"\"\n",
    "df_normal.Dur.unique()"
   ]
  },
  {
   "cell_type": "code",
   "execution_count": 24,
   "metadata": {},
   "outputs": [
    {
     "data": {
      "text/plain": [
       "array([1.4340000e-03, 1.1449797e+01, 1.2774145e+01, ..., 1.6800465e+01,\n",
       "       2.9396820e+00, 1.0040930e+00])"
      ]
     },
     "execution_count": 24,
     "metadata": {},
     "output_type": "execute_result"
    }
   ],
   "source": [
    "\"\"\" duracion del flujo por parte del host origen = MEDIA\"\"\"\n",
    "df_normal.SrcDur.unique()"
   ]
  },
  {
   "cell_type": "code",
   "execution_count": 25,
   "metadata": {},
   "outputs": [
    {
     "data": {
      "text/plain": [
       "array([1.4340000e-03, 1.1449333e+01, 1.2772697e+01, ..., 1.6801098e+01,\n",
       "       2.8952560e+00, 1.0040930e+00])"
      ]
     },
     "execution_count": 25,
     "metadata": {},
     "output_type": "execute_result"
    }
   ],
   "source": [
    "\"\"\" duracion del flujo por parte del host destino = MEDIA\"\"\"\n",
    "df_normal.DstDur.unique()"
   ]
  },
  {
   "cell_type": "code",
   "execution_count": 26,
   "metadata": {},
   "outputs": [
    {
     "data": {
      "text/plain": [
       "array([      nan, 11.450987, 12.774145, ..., 18.200975, 16.801098,\n",
       "        2.939682])"
      ]
     },
     "execution_count": 26,
     "metadata": {},
     "output_type": "execute_result"
    }
   ],
   "source": [
    "\"\"\" duración promedio de registros de flujo agregado == ALTA \"\"\"\n",
    "df_normal.Mean.unique()"
   ]
  },
  {
   "cell_type": "code",
   "execution_count": 27,
   "metadata": {},
   "outputs": [
    {
     "data": {
      "text/plain": [
       "array([nan,  0.])"
      ]
     },
     "execution_count": 27,
     "metadata": {},
     "output_type": "execute_result"
    }
   ],
   "source": [
    "\"\"\" desviación estándar de tiempos de duración de flujo agregados == MEDIA\"\"\"\n",
    "df_normal.StdDev.unique()"
   ]
  },
  {
   "cell_type": "code",
   "execution_count": 28,
   "metadata": {},
   "outputs": [
    {
     "data": {
      "text/plain": [
       "array([      nan, 11.450987, 12.774145, ..., 18.200975, 16.801098,\n",
       "        2.939682])"
      ]
     },
     "execution_count": 28,
     "metadata": {},
     "output_type": "execute_result"
    }
   ],
   "source": [
    "\"\"\" Suma total de la duracion del flujo = MEDIA\n",
    "indica el tiempo total que dura la transaccion, posible atributo redundante al Dur\"\"\"\n",
    "df_normal.Sum.unique()"
   ]
  },
  {
   "cell_type": "code",
   "execution_count": 29,
   "metadata": {},
   "outputs": [
    {
     "data": {
      "text/plain": [
       "array([      nan, 11.450987, 12.774145, ..., 18.200975, 16.801098,\n",
       "        2.939682])"
      ]
     },
     "execution_count": 29,
     "metadata": {},
     "output_type": "execute_result"
    }
   ],
   "source": [
    "\"\"\" duración mínima del registro de flujo == ALTA \"\"\"\n",
    "df_normal.Min.unique()"
   ]
  },
  {
   "cell_type": "code",
   "execution_count": 30,
   "metadata": {},
   "outputs": [
    {
     "data": {
      "text/plain": [
       "array([      nan, 11.450987, 12.774145, ..., 18.200975, 16.801098,\n",
       "        2.939682])"
      ]
     },
     "execution_count": 30,
     "metadata": {},
     "output_type": "execute_result"
    }
   ],
   "source": [
    "\"\"\" duración maxima del registro de flujo agregado == ALTA \"\"\"\n",
    "df_normal.Max.unique()"
   ]
  },
  {
   "cell_type": "code",
   "execution_count": 31,
   "metadata": {},
   "outputs": [
    {
     "data": {
      "text/plain": [
       "array([nan, '  <?>', '  <->', '   ->', '  who', '  <-'], dtype=object)"
      ]
     },
     "execution_count": 31,
     "metadata": {},
     "output_type": "execute_result"
    }
   ],
   "source": [
    "\"\"\"dirección de la transacción == ALTA \"\"\"\n",
    "df_normal.Dir.unique()"
   ]
  },
  {
   "cell_type": "code",
   "execution_count": 33,
   "metadata": {},
   "outputs": [
    {
     "data": {
      "text/plain": [
       "array(['0', '192.168.20.133', '192.168.8.128', '192.168.8.129',\n",
       "       '192.168.8.1', 'fe80::a9c8:a7bc:187d:eb55',\n",
       "       'fe80::20c:29ff:fe2d:746b', '01:80:c2:00:00:0e',\n",
       "       '02:eb:9f:67:c9:42', '192.168.20.2', '192.168.20.129',\n",
       "       '192.168.20.1', 'fe80::381f:c0ff:fec6:500', 'fe80::200:ff:fe00:3',\n",
       "       '169.254.5.255', 'fe80::20c:29ff:fe92:12ba', 'ff02::1:3'],\n",
       "      dtype=object)"
      ]
     },
     "execution_count": 33,
     "metadata": {},
     "output_type": "execute_result"
    }
   ],
   "source": [
    "\"\"\" Direccion IP origen = BAJA+ \"\"\"\n",
    "df_normal.SrcAddr.unique()"
   ]
  },
  {
   "cell_type": "code",
   "execution_count": 32,
   "metadata": {},
   "outputs": [
    {
     "data": {
      "text/plain": [
       "array(['0', '173.194.129.231', '74.125.193.94', ..., '52.26.57.93', '167',\n",
       "       '22'], dtype=object)"
      ]
     },
     "execution_count": 32,
     "metadata": {},
     "output_type": "execute_result"
    }
   ],
   "source": [
    "\"\"\" Direccion IP destino = BAJA+\"\"\"\n",
    "df_normal.DstAddr.unique()"
   ]
  },
  {
   "cell_type": "code",
   "execution_count": 34,
   "metadata": {},
   "outputs": [
    {
     "data": {
      "text/plain": [
       "array(['man', 'tcp', 'udp', 'ipv6-icmp', 'igmp', 'lldp', 'unknown', 'arp',\n",
       "       'icmp', 'rtcp'], dtype=object)"
      ]
     },
     "execution_count": 34,
     "metadata": {},
     "output_type": "execute_result"
    }
   ],
   "source": [
    "\"\"\" protocolo de transacción = ALTA \"\"\"\n",
    "df_normal.Proto.unique()"
   ]
  },
  {
   "cell_type": "code",
   "execution_count": 35,
   "metadata": {},
   "outputs": [
    {
     "data": {
      "text/plain": [
       "array(['0', '51780', '36764', ..., '35153', '53368', '61636'],\n",
       "      dtype=object)"
      ]
     },
     "execution_count": 35,
     "metadata": {},
     "output_type": "execute_result"
    }
   ],
   "source": [
    "\"\"\"Puerto de origen = BAJA+ \"\"\"\n",
    "df_normal.Sport.unique()"
   ]
  },
  {
   "cell_type": "code",
   "execution_count": 37,
   "metadata": {},
   "outputs": [
    {
     "data": {
      "text/plain": [
       "array(['0', 'https', 'http', ..., '52815', '38627', '38338'], dtype=object)"
      ]
     },
     "execution_count": 37,
     "metadata": {},
     "output_type": "execute_result"
    }
   ],
   "source": [
    "\"\"\" Puerto de destino = ALTA\"\"\"\n",
    "df_normal.Dport.unique()"
   ]
  },
  {
   "cell_type": "code",
   "execution_count": 38,
   "metadata": {},
   "outputs": [
    {
     "data": {
      "text/plain": [
       "array([ nan,   0., 192., 195., 112., 244., 124.,  45., 206.,  27., 252.,\n",
       "        66.,  24., 247., 169., 128., 233., 106.,  98., 123.,   1.,  28.,\n",
       "       102.,  31.,  37.,  44.,  22.,  88.,  46., 117., 141.,  69., 212.,\n",
       "        90.,  93.,  85.,  82., 119., 236., 108.,  70.,  71., 187.,  79.,\n",
       "        32., 172., 137., 158.,  55., 136., 177.,  13.,  72.,  48.,  26.,\n",
       "        30., 208.,  86.,  77.,  64., 110., 198.,  36.,  15., 122., 157.,\n",
       "       243., 159.,  17.,  68., 222., 210., 248., 191.,   9.,  54., 194.,\n",
       "       140., 144., 234., 184., 209.,  59., 229., 203., 178., 181., 168.,\n",
       "         3., 121.,  35., 246.,  83., 213., 255.,  16., 230., 216.,  65.,\n",
       "        95.,  97., 235.,  49., 227., 113.,  87., 156., 224.,  73., 142.,\n",
       "        61., 151., 201., 138.,  58., 135., 253., 111.,  18., 132., 237.,\n",
       "        81., 182., 251., 228., 167., 164.,  62., 185.,  63.,  67., 103.,\n",
       "       146., 154., 202.,  78., 100., 231.,  74., 238., 139., 197., 221.,\n",
       "       129., 155., 125.,  11., 218.,  99., 186., 211., 104., 120.,  80.,\n",
       "       175., 126.,  19.,  39.,  50., 163.,  25., 143.,  60., 170., 134.,\n",
       "       160., 205.])"
      ]
     },
     "execution_count": 38,
     "metadata": {},
     "output_type": "execute_result"
    }
   ],
   "source": [
    "\"\"\" valor de byte para indicar el tipo de servicio requerido por el host origen = MEDIA\"\"\"\n",
    "df_normal.sTos.unique()"
   ]
  },
  {
   "cell_type": "code",
   "execution_count": 40,
   "metadata": {},
   "outputs": [
    {
     "data": {
      "text/plain": [
       "array([ nan,   0., 192.,   8.,  71.,  16.])"
      ]
     },
     "execution_count": 40,
     "metadata": {},
     "output_type": "execute_result"
    }
   ],
   "source": [
    "\"\"\" valor de byte para brindar el tipo de servicio en el host destino = MEDIA\"\"\"\n",
    "df_normal.dTos.unique()"
   ]
  },
  {
   "cell_type": "code",
   "execution_count": 41,
   "metadata": {},
   "outputs": [
    {
     "data": {
      "text/plain": [
       "array([nan, 'cs0', 'cs6', 'af32', '61', '31', '11', '51', ' 6', '63',\n",
       "       'cs2', '42', 'cs4', '58', 'af31', 'cs3', 'af33', ' 7', '25', ' 9',\n",
       "       ' 5', 'af23', '29', '35', '17', '53', '23', '21', 'af22', '59',\n",
       "       '27', 'ef', '19', 'cs1', '43', 'af41', '39', '13', '44', ' 3',\n",
       "       'af21', 'af12', '52', '49', '60', ' 4', '55', '62', '47', ' 2',\n",
       "       'af42', 'af13', '57', '50', '45', '54', 'cs7', '15', '37', '33',\n",
       "       '41', 'af43', 'cs5'], dtype=object)"
      ]
     },
     "execution_count": 41,
     "metadata": {},
     "output_type": "execute_result"
    }
   ],
   "source": [
    "\"\"\"Byte de estado del dispositivo origen = ?x \"\"\"\n",
    "df_normal.sDSb.unique()"
   ]
  },
  {
   "cell_type": "code",
   "execution_count": 42,
   "metadata": {},
   "outputs": [
    {
     "data": {
      "text/plain": [
       "array([nan, 'cs0', 'cs6', ' 2', '17', ' 4'], dtype=object)"
      ]
     },
     "execution_count": 42,
     "metadata": {},
     "output_type": "execute_result"
    }
   ],
   "source": [
    "\"\"\"Byte de estado del dispositivo destino = ?x \"\"\"\n",
    "df_normal.dDSb.unique()"
   ]
  },
  {
   "cell_type": "code",
   "execution_count": 43,
   "metadata": {},
   "outputs": [
    {
     "data": {
      "text/plain": [
       "array([ nan,  64., 128.,   1., 255.,   4.,  63.])"
      ]
     },
     "execution_count": 43,
     "metadata": {},
     "output_type": "execute_result"
    }
   ],
   "source": [
    "\"\"\" Tiempo de vida del paquete origen = MEDIA\"\"\"\n",
    "df_normal.sTtl.unique()"
   ]
  },
  {
   "cell_type": "code",
   "execution_count": 44,
   "metadata": {},
   "outputs": [
    {
     "data": {
      "text/plain": [
       "array([ nan, 128.,  64.,   1.,  63.])"
      ]
     },
     "execution_count": 44,
     "metadata": {},
     "output_type": "execute_result"
    }
   ],
   "source": [
    "\"\"\" Tiempo de vida del paquete destino = MEDIA\"\"\"\n",
    "df_normal.dTtl.unique()"
   ]
  },
  {
   "cell_type": "code",
   "execution_count": 45,
   "metadata": {},
   "outputs": [
    {
     "data": {
      "text/plain": [
       "array([nan, '0x70fe', '0x0000', ..., '0x8779', '0x741a', '0x3586'],\n",
       "      dtype=object)"
      ]
     },
     "execution_count": 45,
     "metadata": {},
     "output_type": "execute_result"
    }
   ],
   "source": [
    "\"\"\" identificador de IP de origen = BAJA\"\"\"\n",
    "df_normal.sIpId.unique()"
   ]
  },
  {
   "cell_type": "code",
   "execution_count": 46,
   "metadata": {},
   "outputs": [
    {
     "data": {
      "text/plain": [
       "array([nan, '0xae22', '0xbf22', ..., '0x2090', '0xa596', '0x411f'],\n",
       "      dtype=object)"
      ]
     },
     "execution_count": 46,
     "metadata": {},
     "output_type": "execute_result"
    }
   ],
   "source": [
    "\"\"\" identificador de IP de host destino = BAJA\"\"\"\n",
    "df_normal.dIpId.unique()"
   ]
  },
  {
   "cell_type": "code",
   "execution_count": 47,
   "metadata": {},
   "outputs": [
    {
     "data": {
      "text/plain": [
       "array(['Start', 'Status', 'Stop'], dtype=object)"
      ]
     },
     "execution_count": 47,
     "metadata": {},
     "output_type": "execute_result"
    }
   ],
   "source": [
    "\"\"\" valor de estado del flujo == ALTA\"\"\"\n",
    "df_normal.Cause.unique()"
   ]
  },
  {
   "cell_type": "code",
   "execution_count": 48,
   "metadata": {},
   "outputs": [
    {
     "data": {
      "text/plain": [
       "array([   0,  786,    8, ..., 7974, 4680, 1847], dtype=int64)"
      ]
     },
     "execution_count": 48,
     "metadata": {},
     "output_type": "execute_result"
    }
   ],
   "source": [
    "\"\"\" Nro total de paquetes de transacciones == ALTA\"\"\"\n",
    "df_normal.TotPkts.unique()"
   ]
  },
  {
   "cell_type": "code",
   "execution_count": 49,
   "metadata": {},
   "outputs": [
    {
     "data": {
      "text/plain": [
       "array([   0,  194,    4, ..., 2536, 1897, 1011], dtype=int64)"
      ]
     },
     "execution_count": 49,
     "metadata": {},
     "output_type": "execute_result"
    }
   ],
   "source": [
    "\"\"\" Nro total de paquetes en el flujo por parte del host Origen == ALTA\"\"\"\n",
    "df_normal.SrcPkts.unique()"
   ]
  },
  {
   "cell_type": "code",
   "execution_count": 50,
   "metadata": {},
   "outputs": [
    {
     "data": {
      "text/plain": [
       "array([   0,  592,    4, ..., 3512, 3686,  836], dtype=int64)"
      ]
     },
     "execution_count": 50,
     "metadata": {},
     "output_type": "execute_result"
    }
   ],
   "source": [
    "\"\"\" Nro total de paquetes en el flujo por parte del host destino == ALTA\"\"\"\n",
    "df_normal.DstPkts.unique()"
   ]
  },
  {
   "cell_type": "code",
   "execution_count": 51,
   "metadata": {},
   "outputs": [
    {
     "data": {
      "text/plain": [
       "array([       0,  1983312,      456, ...,   850154,   630694, 11007152],\n",
       "      dtype=int64)"
      ]
     },
     "execution_count": 51,
     "metadata": {},
     "output_type": "execute_result"
    }
   ],
   "source": [
    "\"\"\" Total de bytes en todo el flujo actual = ALTA  \"\"\"\n",
    "df_normal.TotBytes.unique()"
   ]
  },
  {
   "cell_type": "code",
   "execution_count": 52,
   "metadata": {},
   "outputs": [
    {
     "data": {
      "text/plain": [
       "array([     0,  12954,    216, ..., 331458,  21936,  35795], dtype=int64)"
      ]
     },
     "execution_count": 52,
     "metadata": {},
     "output_type": "execute_result"
    }
   ],
   "source": [
    "\"\"\" cantidad de bytes emitidos de origen a destino = ALTA  \"\"\"\n",
    "df_normal.SrcBytes.unique()"
   ]
  },
  {
   "cell_type": "code",
   "execution_count": 53,
   "metadata": {},
   "outputs": [
    {
     "data": {
      "text/plain": [
       "array([      0, 1970358,     240, ...,  405933,  299236,   35645],\n",
       "      dtype=int64)"
      ]
     },
     "execution_count": 53,
     "metadata": {},
     "output_type": "execute_result"
    }
   ],
   "source": [
    "\"\"\" cantidad de bytes emitidos de destino a origen = ALTA  \"\"\"\n",
    "df_normal.DstBytes.unique()"
   ]
  },
  {
   "cell_type": "code",
   "execution_count": 54,
   "metadata": {},
   "outputs": [
    {
     "data": {
      "text/plain": [
       "array([       0,  1940850,       77, ...,    22892,    46954, 11007152],\n",
       "      dtype=int64)"
      ]
     },
     "execution_count": 54,
     "metadata": {},
     "output_type": "execute_result"
    }
   ],
   "source": [
    "\"\"\"total de bytes de aplicacion usada en el flujo = MEDIA\"\"\"\n",
    "df_normal.TotAppByte.unique()"
   ]
  },
  {
   "cell_type": "code",
   "execution_count": 55,
   "metadata": {},
   "outputs": [
    {
     "data": {
      "text/plain": [
       "array([     0,   2478,     77, ..., 319019, 264732,  22727], dtype=int64)"
      ]
     },
     "execution_count": 55,
     "metadata": {},
     "output_type": "execute_result"
    }
   ],
   "source": [
    "\"\"\"total de bytes de la aplicacion cliente - servidor = MEDIA\"\"\"\n",
    "df_normal.SAppBytes.unique()"
   ]
  },
  {
   "cell_type": "code",
   "execution_count": 56,
   "metadata": {},
   "outputs": [
    {
     "data": {
      "text/plain": [
       "array([      0, 1938372,      46, ...,  244048,    2540,   24227],\n",
       "      dtype=int64)"
      ]
     },
     "execution_count": 56,
     "metadata": {},
     "output_type": "execute_result"
    }
   ],
   "source": [
    "\"\"\"total de bytes de la aplicacion servidor-cliente = MEDIA\"\"\"\n",
    "df_normal.DAppBytes.unique()"
   ]
  },
  {
   "cell_type": "code",
   "execution_count": 57,
   "metadata": {},
   "outputs": [
    {
     "data": {
      "text/plain": [
       "array([      nan, -0.997446, -0.      , ...,  0.040654,  0.778088,\n",
       "       -0.031946])"
      ]
     },
     "execution_count": 57,
     "metadata": {},
     "output_type": "execute_result"
    }
   ],
   "source": [
    "\"\"\"porcentaje de interaccion entre hosts origen y destino = MEDIA\"\"\"\n",
    "df_normal.PCRatio.unique()"
   ]
  },
  {
   "cell_type": "code",
   "execution_count": 62,
   "metadata": {},
   "outputs": [
    {
     "data": {
      "text/plain": [
       "array([0.00000000e+00, 1.38322962e+06, 2.14182632e+02, ...,\n",
       "       1.50326816e+04, 1.25756494e+04, 1.93365125e+05])"
      ]
     },
     "execution_count": 62,
     "metadata": {},
     "output_type": "execute_result"
    }
   ],
   "source": [
    "\"\"\" Nro de bits por segundo en el flujo = MEDIA\"\"\"\n",
    "df_normal.Load.unique()"
   ]
  },
  {
   "cell_type": "code",
   "execution_count": 63,
   "metadata": {},
   "outputs": [
    {
     "data": {
      "text/plain": [
       "array([    0.      ,  9004.875977,   101.454933, ...,  2675.072998,\n",
       "        2565.546631, 96922.046875])"
      ]
     },
     "execution_count": 63,
     "metadata": {},
     "output_type": "execute_result"
    }
   ],
   "source": [
    "\"\"\" Nro de bits emitidos por el host origen == MEDIA\"\"\"\n",
    "df_normal.SrcLoad.unique()"
   ]
  },
  {
   "cell_type": "code",
   "execution_count": 64,
   "metadata": {},
   "outputs": [
    {
     "data": {
      "text/plain": [
       "array([0.00000000e+00, 1.37442412e+06, 1.12740479e+02, ...,\n",
       "       1.23579199e+04, 1.00101992e+04, 9.79229453e+04])"
      ]
     },
     "execution_count": 64,
     "metadata": {},
     "output_type": "execute_result"
    }
   ],
   "source": [
    "\"\"\" Nro de bits emitidos por el host destino == MEDIA\"\"\"\n",
    "df_normal.DstLoad.unique()"
   ]
  },
  {
   "cell_type": "code",
   "execution_count": 65,
   "metadata": {},
   "outputs": [
    {
     "data": {
      "text/plain": [
       "array([ 0,  1,  2,  4,  3,  6,  5,  7, 16, 14, 17, 10,  8,  9, 11, 15, 12],\n",
       "      dtype=int64)"
      ]
     },
     "execution_count": 65,
     "metadata": {},
     "output_type": "execute_result"
    }
   ],
   "source": [
    "\"\"\" total de paquetes perdidos en el flujo == MEDIA\"\"\"\n",
    "df_normal.Loss.unique()"
   ]
  },
  {
   "cell_type": "code",
   "execution_count": 66,
   "metadata": {},
   "outputs": [
    {
     "data": {
      "text/plain": [
       "array([ 0,  4,  1, 17, 14,  3,  2,  6,  5], dtype=int64)"
      ]
     },
     "execution_count": 66,
     "metadata": {},
     "output_type": "execute_result"
    }
   ],
   "source": [
    "\"\"\" total de paquetes perdidos en el flujo por el host origen== MEDIA\"\"\"\n",
    "df_normal.SrcLoss.unique()"
   ]
  },
  {
   "cell_type": "code",
   "execution_count": 67,
   "metadata": {},
   "outputs": [
    {
     "data": {
      "text/plain": [
       "array([ 0,  1,  2,  3,  6,  5,  7, 16, 14,  4,  8,  9, 11, 13, 10],\n",
       "      dtype=int64)"
      ]
     },
     "execution_count": 67,
     "metadata": {},
     "output_type": "execute_result"
    }
   ],
   "source": [
    "\"\"\" total de paquetes perdidos en el flujo por el host destino== MEDIA \"\"\"\n",
    "df_normal.DstLoss.unique()"
   ]
  },
  {
   "cell_type": "code",
   "execution_count": 68,
   "metadata": {},
   "outputs": [
    {
     "data": {
      "text/plain": [
       "array([0.0000000e+00, 1.8797000e-01, 1.1293100e-01, 8.7108000e-02,\n",
       "       3.4013600e-01, 7.5415000e-02, 4.4444444e+01, 4.8543700e-01,\n",
       "       5.9523800e-01, 6.2500000e-01, 1.2345680e+00, 2.9110000e-03,\n",
       "       5.1440000e-02, 2.7871000e-02, 1.2150700e-01, 4.2253520e+00,\n",
       "       3.5294120e+00, 4.3630000e-02, 1.7921100e-01, 4.5454550e+00,\n",
       "       3.9215700e-01, 3.3670000e-01, 4.3478260e+00, 1.3351100e-01,\n",
       "       1.3908200e-01, 2.6881700e-01, 2.7472500e-01, 6.8027200e-01,\n",
       "       1.5408300e-01, 2.9411800e-01, 1.9305000e-01, 1.7793600e-01,\n",
       "       1.1627900e-01, 3.5971200e-01, 1.6313200e-01, 1.1111111e+01,\n",
       "       5.3362000e-02, 5.8823530e+00, 5.2631580e+00, 4.3535000e-02,\n",
       "       5.4171000e-02, 3.3333330e+00, 4.0000000e-01, 1.1627910e+00,\n",
       "       6.2893000e-02, 1.2048190e+00, 5.6022000e-02, 5.5617000e-02,\n",
       "       4.1666670e+00, 2.1008400e+00, 3.0303030e+00, 3.9062500e-01,\n",
       "       5.2910100e-01, 1.5384615e+01, 8.1081080e+00, 2.0588235e+01,\n",
       "       3.8461540e+00, 7.4074070e+00, 4.4247800e-01, 2.8169010e+00,\n",
       "       1.1494250e+00, 1.2448130e+00, 4.6439600e-01, 5.5772000e-02,\n",
       "       7.3153000e-02, 7.5949400e-01, 1.1904760e+00, 2.1708800e-01,\n",
       "       1.1467900e-01, 1.9971500e-01, 2.5136800e-01, 1.7180000e-01,\n",
       "       4.2857143e+01, 1.0928960e+00, 7.9681300e-01, 2.4345000e-02,\n",
       "       6.2840000e-03, 4.8100000e-02, 8.4034000e-02, 5.7251900e-01,\n",
       "       1.0787500e-01, 6.9832000e-02, 4.3478000e-02, 6.4103000e-02,\n",
       "       5.9809000e-02, 8.1169000e-02, 3.6832400e-01, 2.5940300e-01,\n",
       "       6.4433000e-02, 6.1350000e-02, 1.0810810e+00, 2.1254000e-01,\n",
       "       2.5641030e+00, 5.9242000e-02, 8.0128000e-02, 2.5252500e-01,\n",
       "       8.3333300e-01, 3.5714286e+01, 1.3636364e+01, 5.4054050e+00,\n",
       "       1.6216216e+01, 1.5873016e+01, 2.2222222e+01, 1.6666667e+01,\n",
       "       8.3333330e+00, 2.2857143e+01, 9.6774190e+00, 1.9047619e+01,\n",
       "       2.5000000e+01, 1.9354839e+01, 1.7857143e+01, 2.0000000e+01,\n",
       "       2.1428571e+01, 2.0930233e+01, 1.4754098e+01, 1.5151515e+01,\n",
       "       1.4492754e+01, 2.3809524e+01, 6.6666670e+00, 7.5862070e+00,\n",
       "       1.7948718e+01, 2.1568627e+01, 1.4583333e+01, 2.3529412e+01,\n",
       "       1.5789474e+01, 1.4516129e+01, 3.3333333e+01, 1.2195122e+01,\n",
       "       2.6470588e+01, 1.4285714e+01, 1.3043478e+01, 2.8571429e+01,\n",
       "       2.5423729e+01, 2.3076923e+01, 1.3157895e+01, 1.1428571e+01,\n",
       "       1.1764706e+01, 3.6363636e+01, 2.4000000e+01, 2.2727273e+01,\n",
       "       1.8604651e+01, 2.6315789e+01, 1.2173913e+01, 1.6949153e+01,\n",
       "       1.7741935e+01, 1.8750000e+01, 2.0754717e+01, 3.1250000e+01,\n",
       "       3.2258065e+01, 2.7272727e+01, 3.4782609e+01, 1.4084510e+00,\n",
       "       2.6930000e-01, 3.5026300e-01, 5.5555560e+00, 6.2500000e+00,\n",
       "       3.4482760e+00, 1.6339900e-01, 1.0526316e+01, 4.0000000e+00,\n",
       "       9.4967000e-02, 1.2195120e+00, 3.6341600e-01, 1.0261700e-01,\n",
       "       2.0325200e-01, 1.6835000e-01, 3.6144600e-01, 6.1538500e-01,\n",
       "       2.0746900e-01, 6.3559300e-01, 1.0526320e+00, 5.0000000e+00,\n",
       "       1.2820510e+00, 2.5893000e-02, 3.0779000e-02, 1.6409000e-02,\n",
       "       1.7153000e-02, 3.2689000e-02, 1.8898000e-02, 2.2130000e-02,\n",
       "       5.5835000e-02, 2.6361000e-02, 1.3157890e+00, 3.5149000e-02,\n",
       "       2.0218000e-02, 1.0240000e-02, 1.7730000e-02, 1.2703000e-02,\n",
       "       1.7241380e+00, 9.4937000e-02, 1.7636700e-01, 8.2440000e-02,\n",
       "       2.1231400e-01, 2.0979020e+00, 2.8248600e-01, 4.3383900e-01,\n",
       "       5.7471300e-01, 4.5766600e-01, 3.8610000e-01, 3.1897900e-01,\n",
       "       5.5710300e-01, 2.7894000e-01, 6.6006600e-01, 2.5740000e-01,\n",
       "       3.1221000e-02, 8.5251000e-02, 6.3412000e-02, 7.9650000e-02,\n",
       "       6.8729000e-02, 6.2972000e-02, 9.0909090e+00, 2.3255810e+00,\n",
       "       1.0256400e-01, 3.0769200e-01, 1.2658230e+00, 3.1133000e-02,\n",
       "       1.6260200e-01, 2.6455000e-01, 2.7816400e-01, 7.6628000e-02,\n",
       "       1.7436800e-01, 1.2360900e-01, 5.6786000e-02, 9.0827000e-02,\n",
       "       9.5693800e-01, 7.7821000e-01, 1.8867920e+00, 6.0716000e-02,\n",
       "       2.1276600e+00, 2.7322400e-01, 1.1267610e+00, 3.6738000e-02,\n",
       "       4.6041000e-02, 6.0496000e-02, 8.8495600e-01, 4.6685000e-02,\n",
       "       5.8106000e-02, 7.8125000e-01, 6.9204000e-02, 4.1152300e-01,\n",
       "       1.0152280e+00, 5.8962000e-02, 5.9761000e-01, 1.0238910e+00,\n",
       "       3.0349000e-01, 4.4576500e-01, 1.4577300e-01, 2.3809520e+00,\n",
       "       2.6350500e-01, 5.4347800e-01, 8.5470100e-01, 6.3291100e-01,\n",
       "       3.5461000e-01, 5.2173900e-01, 2.1739130e+00, 5.0251300e-01,\n",
       "       7.6923080e+00, 1.3333333e+01, 1.0344828e+01, 2.3935000e-02,\n",
       "       5.4113000e-02])"
      ]
     },
     "execution_count": 68,
     "metadata": {},
     "output_type": "execute_result"
    }
   ],
   "source": [
    "\"\"\" porcentaje de paquetes perdidos en el flujo == MEDIA \"\"\"\n",
    "df_normal.pLoss.unique()"
   ]
  },
  {
   "cell_type": "code",
   "execution_count": 69,
   "metadata": {},
   "outputs": [
    {
     "data": {
      "text/plain": [
       "array([0.0000000e+00, 4.4444444e+01, 5.4980000e-03, 5.2770000e-02,\n",
       "       2.3640700e-01, 8.7336000e-02, 3.5714300e-01, 8.0000000e-01,\n",
       "       2.7322400e-01, 2.6954200e-01, 3.9062500e-01, 7.6335900e-01,\n",
       "       1.6666667e+01, 1.0000000e+01, 9.0909090e+00, 6.6666670e+00,\n",
       "       1.2165500e-01, 1.0695200e-01, 1.0204080e+00, 9.7645000e-01,\n",
       "       6.9033500e-01, 4.2857143e+01, 1.5775000e-02, 5.8590000e-03,\n",
       "       8.7642000e-02, 1.1111111e+01, 2.2222222e+01, 3.6363636e+01,\n",
       "       2.9411760e+00, 1.3333333e+01, 1.4285714e+01, 1.5384615e+01,\n",
       "       7.1428570e+00, 2.0000000e+01, 6.8965520e+00, 8.3333330e+00,\n",
       "       1.3636364e+01, 4.5454550e+00, 4.1666670e+00, 4.0000000e+00,\n",
       "       8.6956520e+00, 2.5000000e+01, 2.6666667e+01, 6.2500000e+00,\n",
       "       2.9940100e-01, 1.4018690e+00, 3.8314200e-01, 7.6628400e-01,\n",
       "       5.5096400e-01, 1.3574660e+00, 7.0671400e-01, 4.8520000e-02,\n",
       "       5.5310000e-02, 3.0139000e-02, 4.2359000e-02, 2.8927000e-02,\n",
       "       4.0483000e-02, 2.5284000e-02, 2.3057000e-02, 4.7619050e+00,\n",
       "       5.2356000e-01, 5.7274000e-02, 3.7037040e+00, 1.9230770e+00,\n",
       "       4.3478260e+00, 1.2500000e+01, 9.8814000e-02])"
      ]
     },
     "execution_count": 69,
     "metadata": {},
     "output_type": "execute_result"
    }
   ],
   "source": [
    "\"\"\" porcentaje de paquetes perdidos en el flujo por el host origen == MEDIA\"\"\"\n",
    "df_normal.pSrcLoss.unique()"
   ]
  },
  {
   "cell_type": "code",
   "execution_count": 70,
   "metadata": {},
   "outputs": [
    {
     "data": {
      "text/plain": [
       "array([0.0000000e+00, 2.7173900e-01, 1.7436800e-01, 1.3624000e-01,\n",
       "       5.7971000e-01, 1.2239900e-01, 8.7719300e-01, 1.0638300e+00,\n",
       "       1.0989010e+00, 2.0408160e+00, 1.1001100e-01, 6.3829790e+00,\n",
       "       5.6603770e+00, 2.2222220e+00, 7.6923080e+00, 6.5359500e-01,\n",
       "       8.3333330e+00, 5.4347800e-01, 5.1546400e-01, 1.2987010e+00,\n",
       "       3.0769200e-01, 5.8823500e-01, 3.2679700e-01, 2.2727300e-01,\n",
       "       3.2258100e-01, 8.4746000e-02, 6.0277000e-02, 7.4349000e-02,\n",
       "       7.2463800e-01, 1.8181820e+00, 1.8867920e+00, 1.2077300e-01,\n",
       "       7.5000000e+00, 4.0650410e+00, 8.0000000e-01, 1.0152280e+00,\n",
       "       2.0000000e+01, 1.0714286e+01, 2.6923077e+01, 7.1428570e+00,\n",
       "       1.3333333e+01, 4.9844240e+00, 2.0000000e+00, 2.2388060e+00,\n",
       "       7.1090000e-01, 1.1792500e-01, 1.5015000e-01, 1.1494250e+00,\n",
       "       2.0689660e+00, 3.0010700e-01, 1.3473500e-01, 2.3325600e-01,\n",
       "       6.4102600e-01, 1.8348620e+00, 1.4285710e+00, 3.3422000e-02,\n",
       "       6.7760000e-03, 1.1848300e-01, 9.4339600e-01, 1.6000000e-01,\n",
       "       8.9366000e-02, 5.5556000e-02, 8.7489000e-02, 7.4906000e-02,\n",
       "       1.0661000e-01, 4.8661800e-01, 4.3763700e-01, 8.0000000e-02,\n",
       "       9.8135000e-02, 1.8018020e+00, 2.8735600e-01, 4.7058820e+00,\n",
       "       7.5643000e-02, 9.9800000e-02, 3.5335700e-01, 1.4925370e+00,\n",
       "       3.3333333e+01, 2.5000000e+01, 2.3076923e+01, 2.8571429e+01,\n",
       "       1.8181818e+01, 1.4285714e+01, 3.8095238e+01, 1.8750000e+01,\n",
       "       3.2000000e+01, 3.1578947e+01, 2.7272727e+01, 2.1212121e+01,\n",
       "       2.2222222e+01, 1.5384615e+01, 1.2500000e+01, 1.3580247e+01,\n",
       "       3.1818182e+01, 3.1034483e+01, 2.5925926e+01, 4.0000000e+01,\n",
       "       2.6666667e+01, 5.0000000e+01, 2.1739130e+01, 4.0909091e+01,\n",
       "       4.6153846e+01, 2.1052632e+01, 2.6086957e+01, 3.7142857e+01,\n",
       "       9.0909090e+00, 1.9047619e+01, 3.2142857e+01, 2.4000000e+01,\n",
       "       3.0000000e+01, 3.4375000e+01, 2.0289855e+01, 2.5714286e+01,\n",
       "       2.7027027e+01, 3.7500000e+01, 4.2857143e+01, 2.1739130e+00,\n",
       "       3.5046700e-01, 1.0582000e-01, 4.6242800e-01, 1.1764706e+01,\n",
       "       1.0526316e+01, 2.8901700e-01, 2.0833330e+00, 1.2000000e+00,\n",
       "       1.9230770e+00, 3.0012000e-02, 2.0812000e-02, 1.1159000e-02,\n",
       "       1.0427500e-01, 1.8518520e+00, 2.7533000e-02, 7.6336000e-02,\n",
       "       4.1771000e-02, 2.2941000e-02, 3.9588000e-02, 3.8461540e+00,\n",
       "       1.3617800e-01, 2.9615000e-01, 1.2690400e-01, 3.9525700e-01,\n",
       "       3.7037040e+00, 4.8309200e-01, 2.3809520e+00, 8.0645200e-01,\n",
       "       9.8039200e-01, 6.6889600e-01, 6.0790300e-01, 1.0471200e+00,\n",
       "       4.7846900e-01, 1.2048190e+00, 4.4843000e-01, 3.7189000e-02,\n",
       "       1.0111200e-01, 7.5216000e-02, 9.5057000e-02, 8.1268000e-02,\n",
       "       7.9365000e-02, 2.2371400e-01, 1.9607840e+00, 2.1119300e-01,\n",
       "       4.4642900e-01, 3.7383200e-01, 9.4518000e-02, 2.2099400e-01,\n",
       "       1.5083000e-01, 6.8493000e-02, 1.1280300e-01, 1.3333330e+00,\n",
       "       7.4129000e-02, 5.2356000e-01, 2.0202020e+00, 8.1699000e-02,\n",
       "       5.9137000e-02, 7.5358000e-02, 5.7703000e-02, 7.1942000e-02,\n",
       "       1.3986010e+00, 8.7642000e-02, 6.4516100e-01, 1.7094020e+00,\n",
       "       6.9930000e-02, 1.1235960e+00, 1.7543860e+00, 5.1020400e-01,\n",
       "       2.6954200e-01, 4.0000000e+00, 4.9261100e-01, 9.1743100e-01,\n",
       "       1.3888890e+00, 1.1173180e+00, 3.2258060e+00, 9.3750000e-01,\n",
       "       8.6956500e-01, 4.9652000e-02])"
      ]
     },
     "execution_count": 70,
     "metadata": {},
     "output_type": "execute_result"
    }
   ],
   "source": [
    "\"\"\" porcentaje de paquetes perdidos en el flujo por el host destino == MEDIA\"\"\"\n",
    "df_normal.pDstLoss.unique()"
   ]
  },
  {
   "cell_type": "code",
   "execution_count": 71,
   "metadata": {},
   "outputs": [
    {
     "data": {
      "text/plain": [
       "array([0], dtype=int64)"
      ]
     },
     "execution_count": 71,
     "metadata": {},
     "output_type": "execute_result"
    }
   ],
   "source": [
    "\"\"\"total de paquetes retransimitidos en el flujo actual == BAJA+\"\"\"\n",
    "df_normal.Retrans.unique()"
   ]
  },
  {
   "cell_type": "code",
   "execution_count": 72,
   "metadata": {},
   "outputs": [
    {
     "data": {
      "text/plain": [
       "array([0], dtype=int64)"
      ]
     },
     "execution_count": 72,
     "metadata": {},
     "output_type": "execute_result"
    }
   ],
   "source": [
    "\"\"\"total de paquetes retransimitidos en el flujo por el host origen == BAJA+\"\"\"\n",
    "df_normal.SrcRetra.unique()"
   ]
  },
  {
   "cell_type": "code",
   "execution_count": 73,
   "metadata": {},
   "outputs": [
    {
     "data": {
      "text/plain": [
       "array([0], dtype=int64)"
      ]
     },
     "execution_count": 73,
     "metadata": {},
     "output_type": "execute_result"
    }
   ],
   "source": [
    "\"\"\"total de paquetes retransimitidos en el flujo por el host destino == BAJA+\"\"\"\n",
    "df_normal.DstRetra.unique()"
   ]
  },
  {
   "cell_type": "code",
   "execution_count": 74,
   "metadata": {},
   "outputs": [
    {
     "data": {
      "text/plain": [
       "array([0.])"
      ]
     },
     "execution_count": 74,
     "metadata": {},
     "output_type": "execute_result"
    }
   ],
   "source": [
    "\"\"\"porcentaje de paquetes retransimitidos en el flujo == BAJA+\"\"\"\n",
    "df_normal.pRetran.unique()"
   ]
  },
  {
   "cell_type": "code",
   "execution_count": 75,
   "metadata": {},
   "outputs": [
    {
     "data": {
      "text/plain": [
       "array([0.])"
      ]
     },
     "execution_count": 75,
     "metadata": {},
     "output_type": "execute_result"
    }
   ],
   "source": [
    "\"\"\"porcentaje de paquetes retransimitidos en el flujo por el host origen == BAJA+\"\"\"\n",
    "df_normal.pSrcRetr.unique()"
   ]
  },
  {
   "cell_type": "code",
   "execution_count": 76,
   "metadata": {},
   "outputs": [
    {
     "data": {
      "text/plain": [
       "array([0.])"
      ]
     },
     "execution_count": 76,
     "metadata": {},
     "output_type": "execute_result"
    }
   ],
   "source": [
    "\"porcentaje de paquetes retransimitidos en el flujo por el host destino == BAJA+\"\"\"\n",
    "df_normal.pDstRetr.unique()"
   ]
  },
  {
   "cell_type": "code",
   "execution_count": 77,
   "metadata": {},
   "outputs": [
    {
     "data": {
      "text/plain": [
       "array([        nan, 0.00000e+00, 5.12000e+02, 1.77000e+02, 1.00000e+00,\n",
       "       1.92000e+02, 4.77100e+03, 1.60000e+01, 1.79000e+02, 1.07000e+02,\n",
       "       9.60000e+01, 1.60000e+02, 3.80000e+01, 4.18000e+02, 1.09600e+03,\n",
       "       3.78000e+02, 3.41000e+02, 8.37100e+03, 8.14000e+02, 2.16000e+02,\n",
       "       3.58000e+02, 1.19231e+05, 6.55900e+03, 6.51100e+03, 1.09800e+03,\n",
       "       8.46600e+03, 4.83000e+02, 8.60000e+01, 1.15300e+03, 4.32000e+02,\n",
       "       3.54000e+02, 1.09440e+04, 2.19000e+02, 2.17000e+02, 6.33000e+02,\n",
       "       1.26900e+03, 4.33000e+02, 1.09520e+04, 1.15000e+02])"
      ]
     },
     "execution_count": 77,
     "metadata": {},
     "output_type": "execute_result"
    }
   ],
   "source": [
    "\"\"\" bytes de origen que faltan en el flujo === BAJA\"\"\"\n",
    "df_normal.SrcGap.unique()"
   ]
  },
  {
   "cell_type": "code",
   "execution_count": 78,
   "metadata": {},
   "outputs": [
    {
     "data": {
      "text/plain": [
       "array([         nan, 0.000000e+00, 1.770000e+02, 7.160000e+02,\n",
       "       1.600000e+01, 4.000000e+01, 6.016780e+05, 4.620000e+02,\n",
       "       3.305165e+06, 4.890000e+02, 4.250000e+02, 5.600000e+01,\n",
       "       1.560000e+04])"
      ]
     },
     "execution_count": 78,
     "metadata": {},
     "output_type": "execute_result"
    }
   ],
   "source": [
    "\"\"\" bytes del host destino que faltan en el flujo === BAJA\"\"\"\n",
    "df_normal.DstGap.unique()"
   ]
  },
  {
   "cell_type": "code",
   "execution_count": 79,
   "metadata": {},
   "outputs": [
    {
     "data": {
      "text/plain": [
       "array([  0.      ,  68.553047,   0.547982, ...,   4.560195,   4.047355,\n",
       "       125.863953])"
      ]
     },
     "execution_count": 79,
     "metadata": {},
     "output_type": "execute_result"
    }
   ],
   "source": [
    "\"\"\" cantidad de paquetes por segundo == ALTA \"\"\"\n",
    "df_normal.Rate.unique()"
   ]
  },
  {
   "cell_type": "code",
   "execution_count": 80,
   "metadata": {},
   "outputs": [
    {
     "data": {
      "text/plain": [
       "array([ 0.      , 16.856195,  0.234849, ...,  1.593365,  1.36901 ,\n",
       "       67.014053])"
      ]
     },
     "execution_count": 80,
     "metadata": {},
     "output_type": "execute_result"
    }
   ],
   "source": [
    "\"\"\" cantidad de paquetes por segundo emitido por el host Origen == ALTA \"\"\"\n",
    "df_normal.SrcRate.unique()"
   ]
  },
  {
   "cell_type": "code",
   "execution_count": 81,
   "metadata": {},
   "outputs": [
    {
     "data": {
      "text/plain": [
       "array([ 0.      , 51.618725,  0.234876, ...,  2.911988,  2.618876,\n",
       "       59.407528])"
      ]
     },
     "execution_count": 81,
     "metadata": {},
     "output_type": "execute_result"
    }
   ],
   "source": [
    "\"\"\" cantidad de paquetes por segundo emitido por el host Destino == ALTA \"\"\"\n",
    "df_normal.DstRate.unique()"
   ]
  },
  {
   "cell_type": "code",
   "execution_count": 83,
   "metadata": {},
   "outputs": [
    {
     "data": {
      "text/plain": [
       "array([        nan,   59.325375, 4258.0485  , ...,  619.993062,\n",
       "        791.109   ,   15.534966])"
      ]
     },
     "execution_count": 83,
     "metadata": {},
     "output_type": "execute_result"
    }
   ],
   "source": [
    "\"\"\"tiempo de llegada entre paquetes o espaciado de datagramas enviados desde el host origen == ALTA \"\"\"\n",
    "df_normal.SIntPkt.unique()"
   ]
  },
  {
   "cell_type": "code",
   "execution_count": 90,
   "metadata": {},
   "outputs": [
    {
     "data": {
      "text/plain": [
       "array([        nan,   20.016316, 4257.5655  , ...,  344.441156,\n",
       "        421.007125,   17.806393])"
      ]
     },
     "execution_count": 90,
     "metadata": {},
     "output_type": "execute_result"
    }
   ],
   "source": [
    "\"\"\"tiempo de llegada entre paquetes o espaciado de datagramas en el flujo que son enviados desde el host destino == ALTA \"\"\"\n",
    "df_normal.DIntPkt.unique()"
   ]
  },
  {
   "cell_type": "code",
   "execution_count": 85,
   "metadata": {},
   "outputs": [
    {
     "data": {
      "text/plain": [
       "array([     nan, 0.      , 0.616   , ..., 0.3321  , 0.242786, 0.245949])"
      ]
     },
     "execution_count": 85,
     "metadata": {},
     "output_type": "execute_result"
    }
   ],
   "source": [
    "\"\"\" Tiempo de llegada que permanece activo los intervalos de paquetes en el host origen == ALTA \"\"\"\n",
    "df_normal.SIntPktAct.unique()"
   ]
  },
  {
   "cell_type": "code",
   "execution_count": 86,
   "metadata": {},
   "outputs": [
    {
     "data": {
      "text/plain": [
       "array([     nan, 0.110966, 0.      , ..., 0.792913, 0.125769, 0.198612])"
      ]
     },
     "execution_count": 86,
     "metadata": {},
     "output_type": "execute_result"
    }
   ],
   "source": [
    "\"\"\" Tiempo que permanece activo los intervalos de paquetes en el flujo por parte del host destino == ALTA \"\"\"\n",
    "df_normal.DIntPktAct.unique()"
   ]
  },
  {
   "cell_type": "code",
   "execution_count": 87,
   "metadata": {},
   "outputs": [
    {
     "data": {
      "text/plain": [
       "array([        nan,   59.325375, 4258.0485  , ...,  619.993062,\n",
       "        791.109   ,   19.285102])"
      ]
     },
     "execution_count": 87,
     "metadata": {},
     "output_type": "execute_result"
    }
   ],
   "source": [
    "\"\"\" Tiempo que permanece inactivo los intervalos de paquetes en el flujo del host origen == ALTA \"\"\"\n",
    "df_normal.SIntPktIdl.unique()"
   ]
  },
  {
   "cell_type": "code",
   "execution_count": 88,
   "metadata": {},
   "outputs": [
    {
     "data": {
      "text/plain": [
       "array([        nan,   61.990641, 4257.5655  , ...,  464.945187,\n",
       "        591.990125,   28.93584 ])"
      ]
     },
     "execution_count": 88,
     "metadata": {},
     "output_type": "execute_result"
    }
   ],
   "source": [
    "\"\"\" Tiempo que permanece inactivo los intervalos de paquetes en el flujo del host destino == ALTA \"\"\"\n",
    "df_normal.DIntPktIdl.unique()"
   ]
  },
  {
   "cell_type": "code",
   "execution_count": 89,
   "metadata": {},
   "outputs": [
    {
     "data": {
      "text/plain": [
       "array([      nan, 10206.25 , 10236.29 , ...,  3099.401,  1000.475,\n",
       "         163.082])"
      ]
     },
     "execution_count": 89,
     "metadata": {},
     "output_type": "execute_result"
    }
   ],
   "source": [
    "\"\"\"tiempo de llegada maximo entre paquetes enviados en el flujo desde el host origen == ALTA \"\"\"\n",
    "df_normal.SIntPktMax.unique()"
   ]
  },
  {
   "cell_type": "code",
   "execution_count": 91,
   "metadata": {},
   "outputs": [
    {
     "data": {
      "text/plain": [
       "array([         nan, 1.100000e-02, 4.473000e+00, ..., 1.775000e+00,\n",
       "       1.001324e+03, 7.504920e+02])"
      ]
     },
     "execution_count": 91,
     "metadata": {},
     "output_type": "execute_result"
    }
   ],
   "source": [
    "\"\"\"tiempo de llegada minimo entre paquetes existentes en el flujo que son enviados por el host origen == ALTA \"\"\"\n",
    "df_normal.SIntPktMin.unique()"
   ]
  },
  {
   "cell_type": "code",
   "execution_count": 92,
   "metadata": {},
   "outputs": [
    {
     "data": {
      "text/plain": [
       "array([   nan,  2.145,  0.   , ..., 27.262, 37.061, 37.22 ])"
      ]
     },
     "execution_count": 92,
     "metadata": {},
     "output_type": "execute_result"
    }
   ],
   "source": [
    "\"\"\"tiempo de llegada maximo entre paquetes enviados en el flujo desde el host destino == ALTA \"\"\"\n",
    "df_normal.DIntPktMax.unique()"
   ]
  },
  {
   "cell_type": "code",
   "execution_count": 93,
   "metadata": {},
   "outputs": [
    {
     "data": {
      "text/plain": [
       "array([       nan, 1.0000e-03, 0.0000e+00, ..., 2.2196e+01, 2.5770e+00,\n",
       "       1.9761e+01])"
      ]
     },
     "execution_count": 93,
     "metadata": {},
     "output_type": "execute_result"
    }
   ],
   "source": [
    "\"\"\"tiempo de llegada minimo entre paquetes del flujo enviados por el host origen == ALTA \"\"\"\n",
    "df_normal.DIntPktMin.unique()"
   ]
  },
  {
   "cell_type": "code",
   "execution_count": 95,
   "metadata": {},
   "outputs": [
    {
     "data": {
      "text/plain": [
       "array([   nan,  0.   ,  0.616, ..., 35.915, 30.511, 38.746])"
      ]
     },
     "execution_count": 95,
     "metadata": {},
     "output_type": "execute_result"
    }
   ],
   "source": [
    "\"\"\" tiempo de llegada mas alto entre paquetes activos de host origen = MEDIA \"\"\"\n",
    "df_normal.SIPActMax.unique()"
   ]
  },
  {
   "cell_type": "code",
   "execution_count": 96,
   "metadata": {},
   "outputs": [
    {
     "data": {
      "text/plain": [
       "array([        nan, 0.00000e+00, 6.16000e-01, ..., 7.50492e+02,\n",
       "       2.70200e+00, 2.12700e+00])"
      ]
     },
     "execution_count": 96,
     "metadata": {},
     "output_type": "execute_result"
    }
   ],
   "source": [
    "\"\"\" tiempo de llegada mas bajo entre paquetes activos de host origen = MEDIA \"\"\"\n",
    "df_normal.SIPActMin.unique()"
   ]
  },
  {
   "cell_type": "code",
   "execution_count": 97,
   "metadata": {},
   "outputs": [
    {
     "data": {
      "text/plain": [
       "array([   nan,  2.145,  0.   , ..., 27.262, 37.061, 37.22 ])"
      ]
     },
     "execution_count": 97,
     "metadata": {},
     "output_type": "execute_result"
    }
   ],
   "source": [
    "\"\"\" tiempo de llegada mas alto entre paquetes activos de host destino = MEDIA \"\"\"\n",
    "df_normal.DIPActMax.unique()"
   ]
  },
  {
   "cell_type": "code",
   "execution_count": 98,
   "metadata": {},
   "outputs": [
    {
     "data": {
      "text/plain": [
       "array([       nan, 1.0000e-03, 0.0000e+00, ..., 2.2196e+01, 2.5770e+00,\n",
       "       1.9761e+01])"
      ]
     },
     "execution_count": 98,
     "metadata": {},
     "output_type": "execute_result"
    }
   ],
   "source": [
    "\"\"\" tiempo de llegada mas bajo entre paquetes activos de host destino = MEDIA \"\"\"\n",
    "df_normal.DIPActMin.unique()"
   ]
  },
  {
   "cell_type": "code",
   "execution_count": 99,
   "metadata": {},
   "outputs": [
    {
     "data": {
      "text/plain": [
       "array([      nan, 10206.25 , 10236.29 , ...,  3099.401,  1000.475,\n",
       "         163.082])"
      ]
     },
     "execution_count": 99,
     "metadata": {},
     "output_type": "execute_result"
    }
   ],
   "source": [
    "\"\"\" tiempo mas alto que ha permanecido inactivo la llegada o espaciado de paquetes = MEDIA\"\"\"\n",
    "df_normal.SIPIdlMax.unique()"
   ]
  },
  {
   "cell_type": "code",
   "execution_count": 100,
   "metadata": {},
   "outputs": [
    {
     "data": {
      "text/plain": [
       "array([          nan, 1.1000000e-02, 4.4730000e+00, ..., 2.3370000e+00,\n",
       "       1.0240241e+04, 1.0243853e+04])"
      ]
     },
     "execution_count": 100,
     "metadata": {},
     "output_type": "execute_result"
    }
   ],
   "source": [
    "\"\"\" tiempo mas bajo que ha permanecido inactivo el espaciado de paquetes en el flujo = MEDIA\"\"\"\n",
    "df_normal.SIPIdlMin.unique()"
   ]
  },
  {
   "cell_type": "code",
   "execution_count": 101,
   "metadata": {},
   "outputs": [
    {
     "data": {
      "text/plain": [
       "array([      nan, 11227.101, 10236.268, ...,   488.08 ,  1001.418,\n",
       "         199.902])"
      ]
     },
     "execution_count": 101,
     "metadata": {},
     "output_type": "execute_result"
    }
   ],
   "source": [
    "\"\"\" tiempo mas alto que ha permanecido inactivo el espaciado de paquetes en el host destino= MEDIA\"\"\"\n",
    "df_normal.DIPIdlMax.unique()"
   ]
  },
  {
   "cell_type": "code",
   "execution_count": null,
   "metadata": {},
   "outputs": [],
   "source": [
    "\"\"\" tiempo mas bajo que ha permanecido inactivo el espaciado de paquetes en el flujo del host destino = MEDIA\"\"\"\n",
    "df_normal.DIPIdlMin.unique()"
   ]
  },
  {
   "cell_type": "code",
   "execution_count": 102,
   "metadata": {},
   "outputs": [
    {
     "data": {
      "text/plain": [
       "array([        nan,  735.935938, 4351.5035  , ...,  961.693062,\n",
       "       1108.836375, 1088.333424])"
      ]
     },
     "execution_count": 102,
     "metadata": {},
     "output_type": "execute_result"
    }
   ],
   "source": [
    "\"\"\" tiempo de fluctuación  en el host origen = MEDIA\"\"\"\n",
    "df_normal.SrcJitter.unique()"
   ]
  },
  {
   "cell_type": "code",
   "execution_count": 103,
   "metadata": {},
   "outputs": [
    {
     "data": {
      "text/plain": [
       "array([         nan, 14844.695978,  4351.9485  , ..., 26752.549818,\n",
       "       31260.654989,  1364.949054])"
      ]
     },
     "execution_count": 103,
     "metadata": {},
     "output_type": "execute_result"
    }
   ],
   "source": [
    "\"\"\" tiempo de fluctuación  en el host destino = MEDIA\"\"\"\n",
    "df_normal.DstJitter.unique()"
   ]
  },
  {
   "cell_type": "code",
   "execution_count": 105,
   "metadata": {},
   "outputs": [
    {
     "data": {
      "text/plain": [
       "array([     nan, 0.      , 0.9655  , ..., 0.874985, 3.44962 , 0.317494])"
      ]
     },
     "execution_count": 105,
     "metadata": {},
     "output_type": "execute_result"
    }
   ],
   "source": [
    "\"\"\" tiempo que permanece activo la fluctuacion de paquetes en el host origen = MEDIA\"\"\"\n",
    "df_normal.SrcJitAct.unique()"
   ]
  },
  {
   "cell_type": "code",
   "execution_count": 106,
   "metadata": {},
   "outputs": [
    {
     "data": {
      "text/plain": [
       "array([     nan, 0.283343, 0.265443, ..., 3.875471, 0.040096, 0.279369])"
      ]
     },
     "execution_count": 106,
     "metadata": {},
     "output_type": "execute_result"
    }
   ],
   "source": [
    "\"\"\" tiempo que permanece activo la fluctuacion de paquetes en el host destino = MEDIA\"\"\"\n",
    "df_normal.DstJitAct.unique()"
   ]
  },
  {
   "cell_type": "code",
   "execution_count": 107,
   "metadata": {},
   "outputs": [
    {
     "data": {
      "text/plain": [
       "array([        nan,  735.935938, 4351.5035  , ...,  961.693062,\n",
       "       1108.836375,   33.216648])"
      ]
     },
     "execution_count": 107,
     "metadata": {},
     "output_type": "execute_result"
    }
   ],
   "source": [
    "\"\"\" tiempo que no hay fluctuacion de paquetes en el host origen = ALTA \"\"\"\n",
    "df_normal.SrcJitIdl.unique()"
   ]
  },
  {
   "cell_type": "code",
   "execution_count": 108,
   "metadata": {},
   "outputs": [
    {
     "data": {
      "text/plain": [
       "array([        nan,  825.352   , 4351.9485  , ...,  866.129125,\n",
       "       1011.941   ,   46.945258])"
      ]
     },
     "execution_count": 108,
     "metadata": {},
     "output_type": "execute_result"
    }
   ],
   "source": [
    "\"\"\" tiempo que no hay fluctuacion de paquetes en el host destino = ALTA \"\"\"\n",
    "df_normal.DstJitIdl.unique()"
   ]
  },
  {
   "cell_type": "code",
   "execution_count": 109,
   "metadata": {},
   "outputs": [
    {
     "data": {
      "text/plain": [
       "array(['STA', 'CON', 'FIN', 'RST', 'STP', 'INT', 'NRS', 'MHR', 'URP',\n",
       "       'RSP', 'REQ', 'ECO', 'CLO'], dtype=object)"
      ]
     },
     "execution_count": 109,
     "metadata": {},
     "output_type": "execute_result"
    }
   ],
   "source": [
    "\"\"\" estado de la transaccion o comunicacion = MEDIA\"\"\"\n",
    "df_normal.State.unique()"
   ]
  },
  {
   "cell_type": "code",
   "execution_count": 111,
   "metadata": {},
   "outputs": [
    {
     "data": {
      "text/plain": [
       "array([nan])"
      ]
     },
     "execution_count": 111,
     "metadata": {},
     "output_type": "execute_result"
    }
   ],
   "source": [
    "\"\"\" paquetes delta de origen = ?\"\"\"\n",
    "df_normal.dsPkts.unique()"
   ]
  },
  {
   "cell_type": "code",
   "execution_count": 112,
   "metadata": {},
   "outputs": [
    {
     "data": {
      "text/plain": [
       "array([nan])"
      ]
     },
     "execution_count": 112,
     "metadata": {},
     "output_type": "execute_result"
    }
   ],
   "source": [
    "\"\"\" paquetes delta de destino = ?\"\"\"\n",
    "df_normal.ddPkts.unique()"
   ]
  },
  {
   "cell_type": "code",
   "execution_count": 113,
   "metadata": {},
   "outputs": [
    {
     "data": {
      "text/plain": [
       "array([nan])"
      ]
     },
     "execution_count": 113,
     "metadata": {},
     "output_type": "execute_result"
    }
   ],
   "source": [
    "\"\"\" = ?\"\"\"\n",
    "df_normal.dsBytes.unique()"
   ]
  },
  {
   "cell_type": "code",
   "execution_count": 114,
   "metadata": {},
   "outputs": [
    {
     "data": {
      "text/plain": [
       "array([nan])"
      ]
     },
     "execution_count": 114,
     "metadata": {},
     "output_type": "execute_result"
    }
   ],
   "source": [
    "\"\"\" = ?\"\"\"\n",
    "df_normal.ddBytes.unique()"
   ]
  },
  {
   "cell_type": "code",
   "execution_count": 115,
   "metadata": {},
   "outputs": [
    {
     "data": {
      "text/plain": [
       "array([nan])"
      ]
     },
     "execution_count": 115,
     "metadata": {},
     "output_type": "execute_result"
    }
   ],
   "source": [
    "\"\"\" = ?\"\"\"\n",
    "df_normal.pdsPkt.unique()"
   ]
  },
  {
   "cell_type": "code",
   "execution_count": 116,
   "metadata": {},
   "outputs": [
    {
     "data": {
      "text/plain": [
       "array([nan])"
      ]
     },
     "execution_count": 116,
     "metadata": {},
     "output_type": "execute_result"
    }
   ],
   "source": [
    "\"\"\" = ?\"\"\"\n",
    "df_normal.pddPkt.unique()"
   ]
  },
  {
   "cell_type": "code",
   "execution_count": 117,
   "metadata": {},
   "outputs": [
    {
     "data": {
      "text/plain": [
       "array([nan])"
      ]
     },
     "execution_count": 117,
     "metadata": {},
     "output_type": "execute_result"
    }
   ],
   "source": [
    "\"\"\" = ?\"\"\"\n",
    "df_normal.pdsByte.unique()"
   ]
  },
  {
   "cell_type": "code",
   "execution_count": 118,
   "metadata": {},
   "outputs": [
    {
     "data": {
      "text/plain": [
       "array([nan])"
      ]
     },
     "execution_count": 118,
     "metadata": {},
     "output_type": "execute_result"
    }
   ],
   "source": [
    "\"\"\" = ?\"\"\"\n",
    "df_normal.pddByte.unique()"
   ]
  },
  {
   "cell_type": "code",
   "execution_count": 119,
   "metadata": {},
   "outputs": [
    {
     "data": {
      "text/plain": [
       "array([nan])"
      ]
     },
     "execution_count": 119,
     "metadata": {},
     "output_type": "execute_result"
    }
   ],
   "source": [
    "\"\"\" = ? \"\"\"\n",
    "df_normal['(null)'].unique()"
   ]
  },
  {
   "cell_type": "code",
   "execution_count": 122,
   "metadata": {},
   "outputs": [
    {
     "data": {
      "text/plain": [
       "array([   nan, 65535., 41418., ...,   261.,   305.,   343.])"
      ]
     },
     "execution_count": 122,
     "metadata": {},
     "output_type": "execute_result"
    }
   ],
   "source": [
    "\"\"\" tamaño ventana origen \n",
    "indica solo para TCP = BAJA \"\"\"\n",
    "df_normal.SrcWin.unique()"
   ]
  },
  {
   "cell_type": "code",
   "execution_count": null,
   "metadata": {},
   "outputs": [],
   "source": [
    "\"\"\" tamaño ventana destino \n",
    "indica solo para TCP = BAJA \"\"\"\n",
    "df_normal.DstWin.unique()"
   ]
  },
  {
   "cell_type": "code",
   "execution_count": 123,
   "metadata": {},
   "outputs": [
    {
     "data": {
      "text/plain": [
       "array([nan])"
      ]
     },
     "execution_count": 123,
     "metadata": {},
     "output_type": "execute_result"
    }
   ],
   "source": [
    "\"\"\" retraso de entrada = BAJA\"\"\"\n",
    "df_normal.JDelay.unique()"
   ]
  },
  {
   "cell_type": "code",
   "execution_count": 124,
   "metadata": {},
   "outputs": [
    {
     "data": {
      "text/plain": [
       "array([nan])"
      ]
     },
     "execution_count": 124,
     "metadata": {},
     "output_type": "execute_result"
    }
   ],
   "source": [
    "\"\"\" retraso de salida = BAJA \"\"\"\n",
    "df_normal.LDelay.unique()"
   ]
  },
  {
   "cell_type": "code",
   "execution_count": 125,
   "metadata": {},
   "outputs": [
    {
     "data": {
      "text/plain": [
       "array([nan])"
      ]
     },
     "execution_count": 125,
     "metadata": {},
     "output_type": "execute_result"
    }
   ],
   "source": [
    "\"\"\" = ? \"\"\"\n",
    "df_normal.Bins.unique()"
   ]
  },
  {
   "cell_type": "code",
   "execution_count": 126,
   "metadata": {},
   "outputs": [
    {
     "data": {
      "text/plain": [
       "array([nan])"
      ]
     },
     "execution_count": 126,
     "metadata": {},
     "output_type": "execute_result"
    }
   ],
   "source": [
    "\"\"\" = ? \"\"\"\n",
    "df_normal.Bin.unique()"
   ]
  },
  {
   "cell_type": "code",
   "execution_count": 128,
   "metadata": {},
   "outputs": [
    {
     "data": {
      "text/plain": [
       "array([           nan, 3.73649588e+09, 3.03609234e+09, ...,\n",
       "       1.48380258e+09, 8.77167055e+08, 2.31790396e+09])"
      ]
     },
     "execution_count": 128,
     "metadata": {},
     "output_type": "execute_result"
    }
   ],
   "source": [
    "\"\"\" número de secuencia base de TCP del host origen = BAJA\"\"\"\n",
    "df_normal.SrcTCPBase.unique()"
   ]
  },
  {
   "cell_type": "code",
   "execution_count": 129,
   "metadata": {},
   "outputs": [
    {
     "data": {
      "text/plain": [
       "array([           nan, 3.06614840e+07, 3.90088038e+08, ...,\n",
       "       2.70147262e+09, 7.11811560e+07, 1.34070477e+08])"
      ]
     },
     "execution_count": 129,
     "metadata": {},
     "output_type": "execute_result"
    }
   ],
   "source": [
    "\"\"\" número de secuencia base de TCP del host destino = BAJA\"\"\"\n",
    "df_normal.DstTCPBase.unique()"
   ]
  },
  {
   "cell_type": "code",
   "execution_count": 130,
   "metadata": {},
   "outputs": [
    {
     "data": {
      "text/plain": [
       "array([0.      , 0.152041, 0.016229, ..., 0.025128, 0.020968, 0.014697])"
      ]
     },
     "execution_count": 130,
     "metadata": {},
     "output_type": "execute_result"
    }
   ],
   "source": [
    "\"\"\"Configuración de la conexión TCP en tiempo de ida y vuelta = ALTA \n",
    "(probable util para diferenciar trafico en TCP) \"\"\"\n",
    "df_normal.TcpRtt.unique()"
   ]
  },
  {
   "cell_type": "code",
   "execution_count": 131,
   "metadata": {},
   "outputs": [
    {
     "data": {
      "text/plain": [
       "array([0.      , 0.152015, 0.01619 , ..., 0.022171, 0.020935, 0.014651])"
      ]
     },
     "execution_count": 131,
     "metadata": {},
     "output_type": "execute_result"
    }
   ],
   "source": [
    "\"\"\"tiempo de configuracion de sincronizacion TCP cuando se crea la conexion == ALTA\"\"\"\n",
    "df_normal.SynAck.unique()"
   ]
  },
  {
   "cell_type": "code",
   "execution_count": 133,
   "metadata": {},
   "outputs": [
    {
     "data": {
      "text/plain": [
       "array([0.000e+00, 2.600e-05, 3.900e-05, 1.190e-04, 3.800e-05, 3.200e-05,\n",
       "       1.420e-04, 2.700e-05, 4.600e-05, 3.300e-05, 3.000e-05, 4.800e-05,\n",
       "       8.000e-06, 6.800e-05, 1.300e-05, 4.130e-04, 1.560e-04, 2.200e-05,\n",
       "       2.300e-05, 5.400e-05, 3.140e-04, 2.500e-05, 3.600e-05, 2.400e-05,\n",
       "       1.200e-05, 8.100e-05, 4.300e-05, 4.440e-04, 2.800e-05, 3.100e-05,\n",
       "       4.180e-04, 1.000e-05, 1.440e-04, 5.500e-05, 5.700e-05, 7.900e-05,\n",
       "       6.900e-05, 2.900e-05, 2.510e-04, 7.300e-05, 1.410e-04, 6.600e-05,\n",
       "       4.400e-05, 8.700e-05, 3.500e-05, 4.240e-04, 5.000e-05, 5.200e-05,\n",
       "       4.900e-05, 7.000e-06, 9.000e-06, 4.200e-05, 1.100e-05, 6.000e-05,\n",
       "       3.400e-05, 5.300e-05, 5.100e-05, 7.100e-05, 2.000e-05, 1.800e-05,\n",
       "       1.600e-05, 1.400e-05, 5.000e-06, 8.500e-05, 9.000e-05, 5.900e-05,\n",
       "       8.900e-05, 2.750e-04, 2.800e-04, 9.300e-05, 9.400e-05, 5.800e-05,\n",
       "       7.400e-05, 1.500e-05, 4.700e-05, 4.100e-05, 1.700e-05, 6.100e-05,\n",
       "       6.300e-05, 6.500e-05, 3.700e-05, 1.900e-05, 2.100e-05, 2.790e-04,\n",
       "       1.050e-04, 7.000e-05, 1.770e-04, 5.600e-05, 4.500e-05, 6.700e-05,\n",
       "       5.490e-03, 4.176e-03, 8.300e-05, 9.100e-05, 4.000e-05, 8.400e-05,\n",
       "       4.273e-03, 3.870e-04, 7.800e-05, 7.600e-05, 7.500e-05, 6.200e-05,\n",
       "       8.200e-05, 8.600e-05, 1.080e-04, 1.320e-04, 4.031e-03, 4.520e-04,\n",
       "       4.630e-04, 3.270e-04, 1.720e-04, 5.390e-04, 5.270e-04, 5.470e-04,\n",
       "       4.610e-04, 1.130e-04, 9.900e-05, 7.200e-05, 1.120e-04, 1.610e-04,\n",
       "       1.670e-04, 1.160e-04, 1.300e-04, 1.240e-04, 1.330e-04, 7.700e-05,\n",
       "       1.640e-04, 1.020e-04, 3.380e-04, 2.120e-04, 7.390e-04, 7.370e-04,\n",
       "       7.420e-04, 6.300e-04, 9.200e-05, 2.840e-04, 3.560e-04, 3.630e-04,\n",
       "       9.800e-05, 1.000e-04, 3.250e-04, 1.503e-03, 1.230e-04, 1.620e-04,\n",
       "       1.100e-04, 1.010e-04, 1.570e-04, 3.940e-04, 1.290e-04, 8.000e-05,\n",
       "       1.480e-04, 6.280e-04, 1.030e-04, 1.430e-04, 4.000e-04, 1.090e-04,\n",
       "       3.740e-04, 2.230e-04, 1.210e-04, 1.150e-04, 2.690e-04, 1.200e-04,\n",
       "       1.550e-04, 4.350e-04, 1.520e-04, 1.060e-04, 1.350e-04, 1.490e-04,\n",
       "       1.352e-03, 6.400e-05, 1.370e-04, 5.450e-04, 1.760e-04, 4.105e-03,\n",
       "       6.970e-04, 9.600e-05, 1.524e-03, 6.240e-04, 5.630e-04, 3.340e-04,\n",
       "       4.030e-04, 1.450e-04, 2.100e-04, 1.340e-04, 1.070e-04, 1.390e-04,\n",
       "       2.590e-04, 2.640e-04, 2.610e-04, 9.700e-05, 2.910e-04, 1.380e-04,\n",
       "       2.890e-04, 8.800e-05, 4.400e-04, 2.900e-04, 1.650e-04, 1.840e-04,\n",
       "       1.500e-04, 9.500e-05, 1.750e-04, 4.090e-04, 1.040e-04, 1.260e-04,\n",
       "       1.360e-04, 2.200e-04, 2.540e-04, 3.710e-04, 1.890e-04, 6.870e-04,\n",
       "       3.760e-04, 1.400e-04, 5.940e-04, 1.220e-04, 3.480e-04, 1.730e-04,\n",
       "       1.920e-04, 4.840e-04, 1.810e-04, 1.180e-04, 1.630e-04, 1.530e-04,\n",
       "       1.960e-04, 4.140e-04, 4.220e-04, 1.250e-04, 2.190e-04, 6.480e-04,\n",
       "       2.880e-04, 3.260e-04, 3.090e-04, 4.720e-04, 4.010e-04, 1.170e-04,\n",
       "       1.460e-04, 1.540e-04, 1.270e-04, 3.080e-04, 5.420e-04, 5.890e-04,\n",
       "       1.790e-04, 2.090e-04, 5.670e-04, 1.590e-04, 1.110e-04, 5.520e-04,\n",
       "       2.480e-04, 5.010e-04, 2.760e-04, 3.070e-04, 3.180e-04, 5.100e-04,\n",
       "       2.550e-04, 3.550e-04, 4.441e-03, 4.040e-04, 2.660e-04, 1.280e-04,\n",
       "       3.750e-04, 3.810e-04, 2.450e-04, 3.020e-04, 7.180e-04, 2.460e-04,\n",
       "       1.990e-04, 3.840e-04, 2.040e-04, 1.140e-04, 3.130e-04, 3.060e-04,\n",
       "       9.280e-04, 4.540e-04, 4.490e-04, 4.890e-04, 3.010e-04, 2.920e-04,\n",
       "       3.110e-04, 2.330e-04, 3.850e-04, 3.910e-04, 5.360e-04, 4.810e-04,\n",
       "       1.470e-04, 1.180e-03, 1.660e-04, 1.690e-04, 2.010e-04, 8.020e-04,\n",
       "       2.000e-04, 4.920e-04, 4.320e-04, 8.130e-04, 6.890e-04, 5.980e-04,\n",
       "       7.240e-04, 3.590e-04, 4.280e-04, 7.780e-04, 1.680e-04, 3.360e-04,\n",
       "       5.020e-04, 5.300e-04, 6.340e-04, 1.850e-04, 2.620e-04, 3.790e-04,\n",
       "       3.210e-04, 2.420e-04, 1.510e-04, 9.240e-04, 9.150e-04, 9.210e-04,\n",
       "       1.600e-04, 2.340e-04, 1.910e-04, 2.310e-04, 4.340e-04, 5.190e-04,\n",
       "       2.710e-04, 2.410e-04, 3.470e-04, 2.320e-04, 5.640e-04, 1.900e-04,\n",
       "       5.570e-04, 4.250e-04, 4.310e-04, 5.550e-04, 3.650e-04, 3.600e-04,\n",
       "       2.270e-04, 2.300e-04, 2.280e-04, 1.700e-04, 1.970e-04, 3.620e-04,\n",
       "       4.560e-04, 5.110e-04, 1.740e-04, 1.357e-03, 3.570e-04, 4.990e-04,\n",
       "       1.870e-04, 7.800e-04, 1.780e-04, 3.700e-04, 3.610e-04, 4.480e-04,\n",
       "       2.630e-04, 2.070e-04, 2.870e-04, 3.410e-04, 2.350e-04, 2.520e-04,\n",
       "       5.700e-04, 3.400e-04, 2.290e-04, 1.860e-04, 4.710e-04, 3.050e-04,\n",
       "       3.460e-04, 1.310e-04, 1.830e-04, 2.960e-04, 4.410e-04, 3.330e-04,\n",
       "       1.800e-04, 5.160e-04, 1.710e-04, 4.420e-04, 3.220e-04, 4.160e-04,\n",
       "       2.150e-04, 3.420e-04, 1.880e-04, 3.290e-04, 3.920e-04, 3.370e-04,\n",
       "       2.860e-04, 1.130e-03, 4.750e-04, 4.590e-04, 3.980e-04, 5.500e-04,\n",
       "       2.240e-04, 3.120e-04, 7.100e-04, 1.580e-04, 2.170e-04, 2.060e-04,\n",
       "       1.260e-03, 3.540e-04, 2.950e-04, 4.980e-04, 3.500e-04])"
      ]
     },
     "execution_count": 133,
     "metadata": {},
     "output_type": "execute_result"
    }
   ],
   "source": [
    "\"\"\"tiempo de confirmacion TCP del destino == ALTA\"\"\"\n",
    "df_normal.AckDat.unique()"
   ]
  },
  {
   "cell_type": "code",
   "execution_count": 134,
   "metadata": {},
   "outputs": [
    {
     "data": {
      "text/plain": [
       "array([nan, 'Mws   T', '      T', 'M', '   S  T', 'MwsS  T'], dtype=object)"
      ]
     },
     "execution_count": 134,
     "metadata": {},
     "output_type": "execute_result"
    }
   ],
   "source": [
    "\"\"\" indicadores de estado de las operaciones que se ejecutan en TCP == MEDIA\"\"\"\n",
    "df_normal.TcpOpt.unique()"
   ]
  },
  {
   "cell_type": "code",
   "execution_count": 135,
   "metadata": {},
   "outputs": [
    {
     "data": {
      "text/plain": [
       "array([nan, '192.168.20.133'], dtype=object)"
      ]
     },
     "execution_count": 135,
     "metadata": {},
     "output_type": "execute_result"
    }
   ],
   "source": [
    "\"\"\"nodo intermedio entre origen y destino = BAJA\"\"\"\n",
    "df_normal.Inode.unique()"
   ]
  },
  {
   "cell_type": "code",
   "execution_count": 136,
   "metadata": {},
   "outputs": [
    {
     "data": {
      "text/plain": [
       "array([    0,   128,   468, ..., 24884, 25212, 25540], dtype=int64)"
      ]
     },
     "execution_count": 136,
     "metadata": {},
     "output_type": "execute_result"
    }
   ],
   "source": [
    "\"\"\" byte de desplazamiento sobre flujo == ?+\"\"\"\n",
    "df_normal.Offset.unique()"
   ]
  },
  {
   "cell_type": "code",
   "execution_count": 137,
   "metadata": {},
   "outputs": [
    {
     "data": {
      "text/plain": [
       "array([nan])"
      ]
     },
     "execution_count": 137,
     "metadata": {},
     "output_type": "execute_result"
    }
   ],
   "source": [
    "\"\"\" tamaño de paquete en el origen = ALTA \"\"\"\n",
    "df_normal.sPktSz.unique()"
   ]
  },
  {
   "cell_type": "code",
   "execution_count": 138,
   "metadata": {},
   "outputs": [
    {
     "data": {
      "text/plain": [
       "array([nan])"
      ]
     },
     "execution_count": 138,
     "metadata": {},
     "output_type": "execute_result"
    }
   ],
   "source": [
    "\"\"\" tamaño de paquete en el destino = ALTA \"\"\"\n",
    "df_normal.dPktSz.unique()"
   ]
  },
  {
   "cell_type": "code",
   "execution_count": 139,
   "metadata": {},
   "outputs": [
    {
     "data": {
      "text/plain": [
       "array([  0.      ,  66.773193,  54.      , ..., 327.851624, 914.      ,\n",
       "       180.782822])"
      ]
     },
     "execution_count": 139,
     "metadata": {},
     "output_type": "execute_result"
    }
   ],
   "source": [
    "\"\"\"Promedio del tamanio del paquete emitido por el host origen ==ALTA\"\"\"\n",
    "df_normal.sMeanPktSz.unique()"
   ]
  },
  {
   "cell_type": "code",
   "execution_count": 140,
   "metadata": {},
   "outputs": [
    {
     "data": {
      "text/plain": [
       "array([   0.      , 3328.307373,   60.      , ...,  357.937805,\n",
       "        122.444443,  206.040466])"
      ]
     },
     "execution_count": 140,
     "metadata": {},
     "output_type": "execute_result"
    }
   ],
   "source": [
    "\"\"\"Promedio del tamanio del paquete emitido por el host destino ==ALTA\"\"\"\n",
    "df_normal.dMeanPktSz.unique()"
   ]
  },
  {
   "cell_type": "code",
   "execution_count": 141,
   "metadata": {},
   "outputs": [
    {
     "data": {
      "text/plain": [
       "array([  nan, 1348.,   54., ..., 2077., 2520., 6994.])"
      ]
     },
     "execution_count": 141,
     "metadata": {},
     "output_type": "execute_result"
    }
   ],
   "source": [
    "\"\"\" tamaño máximo del paquete del origen == ALTA\"\"\"\n",
    "df_normal.sMaxPktSz.unique()"
   ]
  },
  {
   "cell_type": "code",
   "execution_count": 142,
   "metadata": {},
   "outputs": [
    {
     "data": {
      "text/plain": [
       "array([   nan, 45927.,    60., ...,  1857., 54703.,  3637.])"
      ]
     },
     "execution_count": 142,
     "metadata": {},
     "output_type": "execute_result"
    }
   ],
   "source": [
    "\"\"\" tamaño máximo del paquete del destino == ALTA\"\"\"\n",
    "df_normal.dMaxPktSz.unique()"
   ]
  },
  {
   "cell_type": "code",
   "execution_count": 143,
   "metadata": {},
   "outputs": [
    {
     "data": {
      "text/plain": [
       "array([  nan,   54.,   75.,   92.,  100.,   97.,   77.,   95.,   84.,\n",
       "         76.,   74.,   71.,   86.,   87.,   79.,   88.,   72.,   69.,\n",
       "         80.,   82.,   81.,   78.,   73.,   85.,   89.,   93.,   91.,\n",
       "         90.,   96.,   66.,   60.,  215.,   70.,   64.,   94.,  139.,\n",
       "        220.,  137.,   42.,  579.,  216.,   83.,   98.,  250.,  242.,\n",
       "        243.,  103.,  107.,  102.,  266.,  175.,  151.,  153.,  490.,\n",
       "        530.,  257.,  249.,  359.,  351.,  179.,  125.,  540.,  183.,\n",
       "        203.,  113.,   62.,   67.,   99.,  188.,  176.,   65.,  132.,\n",
       "        213.,  551.,  381.,  483.,  548.,  101., 1048.,  301.,  324.])"
      ]
     },
     "execution_count": 143,
     "metadata": {},
     "output_type": "execute_result"
    }
   ],
   "source": [
    "\"\"\" tamaño minimo del paquete del origen == ALTA\"\"\"\n",
    "df_normal.sMinPktSz.unique()"
   ]
  },
  {
   "cell_type": "code",
   "execution_count": 144,
   "metadata": {},
   "outputs": [
    {
     "data": {
      "text/plain": [
       "array([  nan,   60.,  453.,  385.,  392.,  404.,  421.,  507.,  231.,\n",
       "        514.,  546.,  373.,  512.,  544.,  501.,  205.,  364.,  376.,\n",
       "        224.,  236.,  261.,  167.,  532.,  232.,  454.,  143.,  418.,\n",
       "        350.,  553.,  194.,  358.,  361.,  347.,  359.,  211.,  223.,\n",
       "        220.,  217.,  229.,  371.,  383.,  365.,  377.,  340.,  352.,\n",
       "        367.,  379.,  389.,  360.,  372.,  422.,  354.,  346.,  440.,\n",
       "        285.,  297.,  432.,  396.,  441.,  405.,  434.,  398.,  414.,\n",
       "        378.,  343.,  355.,  351.,  363.,  397.,  362.,  472.,  353.,\n",
       "        452.,  384.,  419.,  395.,  387.,  399.,  438.,  370.,  447.,\n",
       "        444.,  439.,  357.,  369.,  382.,  176.,  248.,  473.,  253.,\n",
       "        344.,  356.,  550.,  342.,  401.,   66.,  437.,   42.,  551.,\n",
       "        531.,  548.,  540.,  302.,  174.,  368.,  448.,  412.,  508.,\n",
       "        216.,  411.,  407.,  331.,  542.,  337.,  349.,  179.,  159.,\n",
       "        244.,  268.,  290.,  442.,  203.,  245.,  269.,  466.,  170.,\n",
       "        465.,  492.,  255.,  279.,  463.,  461.,  168.,  408.,  246.,\n",
       "        270.,  469.,  427.,  391.,  549.,  182.,  543.,  529.,  533.,\n",
       "        199.,  425.,  163.,  504.,  528.,  322.,  186.,  275.,  287.,\n",
       "        273.,  433.,  171.,  227.,  239.,  479.,  221.,  257.,  547.,\n",
       "        233.,  242.,  181.,  318.,  497.,  537.,  193.,  113.,  490.,\n",
       "        530.,   98.,  213.,  225.,  195.,  207.,  237.,  375.,  316.,\n",
       "        235.,  500.,  524.,  240.,  475.,  166.,  477.,  552.,  545.,\n",
       "        483.,  534.,  196.,  293.,  266.,  249.,  206.,  462.,  218.,\n",
       "        198.,  539.,  281.,  265.,  243.,  515.,  527.,  535.,  197.,\n",
       "         54.,  456.,  212.,  180.,  423.,  464.,  175.,  250.,  137.,\n",
       "        335.,  145.,  126.,  445.,  278.,  317.,  127.,  169.,  403.,\n",
       "        204.,  141.,  334.,  144.,  139.,  502.,  192.,  458.,  435.,\n",
       "        172.,  541.,  386.,  136.,  295.,  312.,  187.,  333.,  325.,\n",
       "        298.,  538.,  289.,  326.,  288.,  313.,  513.,  516.,  142.,\n",
       "        291.,  303.,  299.,  190.,  487.,  276.,  417.,  388.,  189.,\n",
       "        306.,  426.,  520.,  511.,  294.,  345.,  251.,  277.,  443.,\n",
       "        153.,  309.,  305.,  338.,  247.,  263.,  310.,  330.,  191.,\n",
       "        374.,  286.,  173.,  499.,  219.,  185.,  420.,  467.,  209.,\n",
       "        482.,  296.,  470.,  300.,  133.,  519.,  165.,  272.,  178.,\n",
       "        457.,  390.,  202.,  283.,  307.,  148.,  238.,  114.,  341.,\n",
       "        495.,  491., 1173.,  188.,  200.,  324.,  581.,   84.,  489.,\n",
       "        208.,  158.,  267.,  210.,  228.,  215.,  402.,  157.,  282.,\n",
       "        131.,  424.,  498.,  494.,  292.,  308.,  284.,  280.,  304.,\n",
       "        394.,  311.,  450.,  554.,  252.,  156.,  256.,  138.,  160.,\n",
       "        536.,  140.,  258.,  478.,  449.,  259.,  150.,  201.,  485.,\n",
       "        488.,  506.,  446.,  518.,  301.,  135.,  154.,  476.,  474.,\n",
       "        161.,  468.,  484.,  226.,  460.,  406.,  147.,  329.,  151.,\n",
       "        336.,  222.,  526.,  119.,  112.,  241.,  471.,  393.,  459.,\n",
       "        129.,  505.,  177.,  274.,  254.,  480.,  496.,  525.,  327.,\n",
       "        493.,  146.,  260.,  117.,  481.,  130.,  118.,  409.,  125.,\n",
       "        509.,  319.,  431.,  155.,  410.,  455.,  264.,  271.,  415.,\n",
       "       1739.,  162.,  413.,  594., 1194., 1354.,  874., 1034.,  815.,\n",
       "         74.,  523., 1094.,  436.,  503.,  262.,  183.,  366.,  400.,\n",
       "        184.,  149.,  510., 1261., 1187.,  124.,  105.,  121.,  339.,\n",
       "        123.,  122.,  132.,  593.,  104.,  451.,  128.,  521.,   90.])"
      ]
     },
     "execution_count": 144,
     "metadata": {},
     "output_type": "execute_result"
    }
   ],
   "source": [
    "\"\"\" tamaño minimo del paquete del destino == ALTA\"\"\"\n",
    "df_normal.dMinPktSz.unique()"
   ]
  },
  {
   "cell_type": "code",
   "execution_count": 145,
   "metadata": {},
   "outputs": [
    {
     "data": {
      "text/plain": [
       "array(['Normal'], dtype=object)"
      ]
     },
     "execution_count": 145,
     "metadata": {},
     "output_type": "execute_result"
    }
   ],
   "source": [
    "\"\"\" etiqueta\"\"\"\n",
    "df_normal.Label.unique()"
   ]
  },
  {
   "attachments": {},
   "cell_type": "markdown",
   "metadata": {},
   "source": [
    "## Analisis de datos de Probe y DoS"
   ]
  },
  {
   "cell_type": "code",
   "execution_count": 147,
   "metadata": {},
   "outputs": [
    {
     "name": "stdout",
     "output_type": "stream",
     "text": [
      "<class 'pandas.core.frame.DataFrame'>\n",
      "RangeIndex: 35030 entries, 0 to 35029\n",
      "Data columns (total 122 columns):\n",
      " #    Column        Dtype  \n",
      "---   ------        -----  \n",
      " 0    SrcId         object \n",
      " 1    Rank          float64\n",
      " 2    StartTime     object \n",
      " 3    LastTime      object \n",
      " 4    SrcStartTime  object \n",
      " 5    DstStartTime  object \n",
      " 6    SrcLastTime   object \n",
      " 7    DstLastTime   object \n",
      " 8    Trans         float64\n",
      " 9    Seq           int64  \n",
      " 10   Flgs          object \n",
      " 11   RunTime       float64\n",
      " 12   Dur           float64\n",
      " 13   SrcDur        float64\n",
      " 14   DstDur        float64\n",
      " 15   Mean          float64\n",
      " 16   StdDev        float64\n",
      " 17   Sum           float64\n",
      " 18   Min           float64\n",
      " 19   Max           float64\n",
      " 20   Dir           object \n",
      " 21   SrcAddr       object \n",
      " 22   DstAddr       object \n",
      " 23   Proto         object \n",
      " 24   Sport         object \n",
      " 25   Dport         object \n",
      " 26   sTos          float64\n",
      " 27   dTos          float64\n",
      " 28   sDSb          object \n",
      " 29   dDSb          object \n",
      " 30   sTtl          float64\n",
      " 31   dTtl          float64\n",
      " 32   sIpId         object \n",
      " 33   dIpId         object \n",
      " 34   Cause         object \n",
      " 35   TotPkts       int64  \n",
      " 36   SrcPkts       int64  \n",
      " 37   DstPkts       int64  \n",
      " 38   TotBytes      int64  \n",
      " 39   SrcBytes      int64  \n",
      " 40   DstBytes      int64  \n",
      " 41   TotAppByte    int64  \n",
      " 42   SAppBytes     int64  \n",
      " 43   DAppBytes     int64  \n",
      " 44   PCRatio       float64\n",
      " 45   Load          float64\n",
      " 46   SrcLoad       float64\n",
      " 47   DstLoad       float64\n",
      " 48   Loss          int64  \n",
      " 49   SrcLoss       int64  \n",
      " 50   DstLoss       int64  \n",
      " 51   pLoss         float64\n",
      " 52   pSrcLoss      float64\n",
      " 53   pDstLoss      float64\n",
      " 54   Retrans       int64  \n",
      " 55   SrcRetra      int64  \n",
      " 56   DstRetra      int64  \n",
      " 57   pRetran       float64\n",
      " 58   pSrcRetr      float64\n",
      " 59   pDstRetr      float64\n",
      " 60   SrcGap        float64\n",
      " 61   DstGap        float64\n",
      " 62   Rate          float64\n",
      " 63   SrcRate       float64\n",
      " 64   DstRate       float64\n",
      " 65   SIntPkt       float64\n",
      " 66   DIntPkt       float64\n",
      " 67   SIntPktAct    float64\n",
      " 68   DIntPktAct    float64\n",
      " 69   SIntPktIdl    float64\n",
      " 70   DIntPktIdl    float64\n",
      " 71   SIntPktMax    float64\n",
      " 72   SIntPktMin    float64\n",
      " 73   DIntPktMax    float64\n",
      " 74   DIntPktMin    float64\n",
      " 75   SIPActMax     float64\n",
      " 76   SIPActMin     float64\n",
      " 77   DIPActMax     float64\n",
      " 78   DIPActMin     float64\n",
      " 79   SIPIdlMax     float64\n",
      " 80   SIPIdlMin     float64\n",
      " 81   DIPIdlMax     float64\n",
      " 82   DIPIdlMin     float64\n",
      " 83   SrcJitter     float64\n",
      " 84   DstJitter     float64\n",
      " 85   SrcJitAct     float64\n",
      " 86   DstJitAct     float64\n",
      " 87   SrcJitIdl     float64\n",
      " 88   DstJitIdl     float64\n",
      " 89   State         object \n",
      " 90   dsPkts        float64\n",
      " 91   ddPkts        float64\n",
      " 92   dsBytes       float64\n",
      " 93   ddBytes       float64\n",
      " 94   pdsPkt        float64\n",
      " 95   pddPkt        float64\n",
      " 96   pdsByte       float64\n",
      " 97   pddByte       float64\n",
      " 98   (null)        float64\n",
      " 99   SrcWin        float64\n",
      " 100  DstWin        float64\n",
      " 101  JDelay        float64\n",
      " 102  LDelay        float64\n",
      " 103  Bins          float64\n",
      " 104  Bin           float64\n",
      " 105  SrcTCPBase    float64\n",
      " 106  DstTCPBase    float64\n",
      " 107  TcpRtt        float64\n",
      " 108  SynAck        float64\n",
      " 109  AckDat        float64\n",
      " 110  TcpOpt        object \n",
      " 111  Inode         object \n",
      " 112  Offset        int64  \n",
      " 113  sPktSz        float64\n",
      " 114  dPktSz        float64\n",
      " 115  sMeanPktSz    float64\n",
      " 116  dMeanPktSz    float64\n",
      " 117  sMaxPktSz     float64\n",
      " 118  dMaxPktSz     float64\n",
      " 119  sMinPktSz     float64\n",
      " 120  dMinPktSz     float64\n",
      " 121  Label         object \n",
      "dtypes: float64(82), int64(17), object(23)\n",
      "memory usage: 32.6+ MB\n"
     ]
    }
   ],
   "source": [
    "df_dos = pd.read_csv('../../datos_SDN/araData/Dos.csv', low_memory=False)\n",
    "df_dos.info(verbose=True)"
   ]
  },
  {
   "cell_type": "code",
   "execution_count": 148,
   "metadata": {},
   "outputs": [
    {
     "name": "stdout",
     "output_type": "stream",
     "text": [
      "<class 'pandas.core.frame.DataFrame'>\n",
      "RangeIndex: 49452 entries, 0 to 49451\n",
      "Data columns (total 122 columns):\n",
      " #    Column        Dtype  \n",
      "---   ------        -----  \n",
      " 0    SrcId         object \n",
      " 1    Rank          float64\n",
      " 2    StartTime     object \n",
      " 3    LastTime      object \n",
      " 4    SrcStartTime  object \n",
      " 5    DstStartTime  object \n",
      " 6    SrcLastTime   object \n",
      " 7    DstLastTime   object \n",
      " 8    Trans         float64\n",
      " 9    Seq           int64  \n",
      " 10   Flgs          object \n",
      " 11   RunTime       float64\n",
      " 12   Dur           float64\n",
      " 13   SrcDur        float64\n",
      " 14   DstDur        float64\n",
      " 15   Mean          float64\n",
      " 16   StdDev        float64\n",
      " 17   Sum           float64\n",
      " 18   Min           float64\n",
      " 19   Max           float64\n",
      " 20   Dir           object \n",
      " 21   SrcAddr       object \n",
      " 22   DstAddr       object \n",
      " 23   Proto         object \n",
      " 24   Sport         object \n",
      " 25   Dport         object \n",
      " 26   sTos          float64\n",
      " 27   dTos          float64\n",
      " 28   sDSb          object \n",
      " 29   dDSb          object \n",
      " 30   sTtl          float64\n",
      " 31   dTtl          float64\n",
      " 32   sIpId         object \n",
      " 33   dIpId         object \n",
      " 34   Cause         object \n",
      " 35   TotPkts       int64  \n",
      " 36   SrcPkts       int64  \n",
      " 37   DstPkts       int64  \n",
      " 38   TotBytes      int64  \n",
      " 39   SrcBytes      int64  \n",
      " 40   DstBytes      int64  \n",
      " 41   TotAppByte    int64  \n",
      " 42   SAppBytes     int64  \n",
      " 43   DAppBytes     int64  \n",
      " 44   PCRatio       float64\n",
      " 45   Load          float64\n",
      " 46   SrcLoad       float64\n",
      " 47   DstLoad       float64\n",
      " 48   Loss          int64  \n",
      " 49   SrcLoss       int64  \n",
      " 50   DstLoss       int64  \n",
      " 51   pLoss         float64\n",
      " 52   pSrcLoss      float64\n",
      " 53   pDstLoss      float64\n",
      " 54   Retrans       int64  \n",
      " 55   SrcRetra      int64  \n",
      " 56   DstRetra      int64  \n",
      " 57   pRetran       float64\n",
      " 58   pSrcRetr      float64\n",
      " 59   pDstRetr      float64\n",
      " 60   SrcGap        float64\n",
      " 61   DstGap        float64\n",
      " 62   Rate          float64\n",
      " 63   SrcRate       float64\n",
      " 64   DstRate       float64\n",
      " 65   SIntPkt       float64\n",
      " 66   DIntPkt       float64\n",
      " 67   SIntPktAct    float64\n",
      " 68   DIntPktAct    float64\n",
      " 69   SIntPktIdl    float64\n",
      " 70   DIntPktIdl    float64\n",
      " 71   SIntPktMax    float64\n",
      " 72   SIntPktMin    float64\n",
      " 73   DIntPktMax    float64\n",
      " 74   DIntPktMin    float64\n",
      " 75   SIPActMax     float64\n",
      " 76   SIPActMin     float64\n",
      " 77   DIPActMax     float64\n",
      " 78   DIPActMin     float64\n",
      " 79   SIPIdlMax     float64\n",
      " 80   SIPIdlMin     float64\n",
      " 81   DIPIdlMax     float64\n",
      " 82   DIPIdlMin     float64\n",
      " 83   SrcJitter     float64\n",
      " 84   DstJitter     float64\n",
      " 85   SrcJitAct     float64\n",
      " 86   DstJitAct     float64\n",
      " 87   SrcJitIdl     float64\n",
      " 88   DstJitIdl     float64\n",
      " 89   State         object \n",
      " 90   dsPkts        float64\n",
      " 91   ddPkts        float64\n",
      " 92   dsBytes       float64\n",
      " 93   ddBytes       float64\n",
      " 94   pdsPkt        float64\n",
      " 95   pddPkt        float64\n",
      " 96   pdsByte       float64\n",
      " 97   pddByte       float64\n",
      " 98   (null)        float64\n",
      " 99   SrcWin        float64\n",
      " 100  DstWin        float64\n",
      " 101  JDelay        float64\n",
      " 102  LDelay        float64\n",
      " 103  Bins          float64\n",
      " 104  Bin           float64\n",
      " 105  SrcTCPBase    float64\n",
      " 106  DstTCPBase    float64\n",
      " 107  TcpRtt        float64\n",
      " 108  SynAck        float64\n",
      " 109  AckDat        float64\n",
      " 110  TcpOpt        object \n",
      " 111  Inode         object \n",
      " 112  Offset        int64  \n",
      " 113  sPktSz        float64\n",
      " 114  dPktSz        float64\n",
      " 115  sMeanPktSz    float64\n",
      " 116  dMeanPktSz    float64\n",
      " 117  sMaxPktSz     float64\n",
      " 118  dMaxPktSz     float64\n",
      " 119  sMinPktSz     float64\n",
      " 120  dMinPktSz     float64\n",
      " 121  Label         object \n",
      "dtypes: float64(82), int64(17), object(23)\n",
      "memory usage: 46.0+ MB\n"
     ]
    }
   ],
   "source": [
    "df_probe = pd.read_csv('../../datos_SDN/araData/Probe.csv', low_memory=False)\n",
    "df_probe.info(verbose=True)"
   ]
  },
  {
   "cell_type": "code",
   "execution_count": 4,
   "metadata": {},
   "outputs": [],
   "source": [
    "\"\"\"caracteristicas\"\"\"\n",
    "caracteristicas=['SrcId','Rank','StartTime','LastTime','SrcStartTime','DstStartTime','SrcLastTime','DstLastTime','Trans','Seq','Flgs','RunTime',\n",
    "'Dur','SrcDur','DstDur','Mean','StdDev','Sum','Min','Max','Dir','SrcAddr','DstAddr','Proto','Sport','Dport','sTos','dTos','sDSb','dDSb','sTtl',\n",
    "'dTtl','sIpId','dIpId','Cause','TotPkts','SrcPkts','DstPkts','TotBytes','SrcBytes','DstBytes','TotAppByte','SAppBytes','DAppBytes','PCRatio','Load',\n",
    "'SrcLoad','DstLoad','Loss','SrcLoss','DstLoss','pLoss','pSrcLoss','pDstLoss','Retrans','SrcRetra','DstRetra','pRetran','pSrcRetr','pDstRetr','SrcGap',\n",
    "'DstGap','Rate','SrcRate','DstRate','SIntPkt','DIntPkt','SIntPktAct','DIntPktAct','SIntPktIdl','DIntPktIdl','SIntPktMax','SIntPktMin','DIntPktMax','DIntPktMin',\n",
    "'SIPActMax','SIPActMin','DIPActMax','DIPActMin','SIPIdlMax','SIPIdlMin','DIPIdlMax','DIPIdlMin','SrcJitter','DstJitter','SrcJitAct','DstJitAct','SrcJitIdl',\n",
    "'DstJitIdl','State','dsPkts','ddPkts','dsBytes','ddBytes','pdsPkt','pddPkt','pdsByte','pddByte','(null)','SrcWin','DstWin','JDelay','LDelay','Bins','Bin',\n",
    "'SrcTCPBase','DstTCPBase','TcpRtt','SynAck','AckDat','TcpOpt','Inode','Offset','sPktSz','dPktSz','sMeanPktSz','dMeanPktSz','sMaxPktSz','dMaxPktSz','sMinPktSz',\n",
    "'dMinPktSz','Label']"
   ]
  },
  {
   "cell_type": "code",
   "execution_count": 146,
   "metadata": {},
   "outputs": [],
   "source": [
    "\"\"\" funcion para encontrar cada uno de los valores unicos de las caracteristicas \"\"\"\n",
    "def valores_unicos(_dataframe:pd.DataFrame,_caracteristicas:list):\n",
    "    assert type(_dataframe)==pd.DataFrame, \"Tipo de dato incorrecto\"\n",
    "    assert type(_caracteristicas)==list, \"Tipo de dato incorrecto\"\n",
    "    \"\"\" recorrer lista de características \"\"\"\n",
    "    for i in _caracteristicas:\n",
    "        \"\"\"mostrar caracteristica y sus valores \"\"\"\n",
    "        display(i, _dataframe[i].unique())"
   ]
  },
  {
   "cell_type": "code",
   "execution_count": 152,
   "metadata": {},
   "outputs": [
    {
     "data": {
      "text/plain": [
       "'SrcId'"
      ]
     },
     "metadata": {},
     "output_type": "display_data"
    },
    {
     "data": {
      "text/plain": [
       "array(['127.0.1.1'], dtype=object)"
      ]
     },
     "metadata": {},
     "output_type": "display_data"
    },
    {
     "data": {
      "text/plain": [
       "'Rank'"
      ]
     },
     "metadata": {},
     "output_type": "display_data"
    },
    {
     "data": {
      "text/plain": [
       "array([       nan, 1.0000e+00, 2.0000e+00, ..., 1.7240e+04, 1.7241e+04,\n",
       "       1.7242e+04])"
      ]
     },
     "metadata": {},
     "output_type": "display_data"
    },
    {
     "data": {
      "text/plain": [
       "'StartTime'"
      ]
     },
     "metadata": {},
     "output_type": "display_data"
    },
    {
     "data": {
      "text/plain": [
       "array(['21:22:33.941729', '13:03:32.178768', '13:03:32.178911', ...,\n",
       "       '17:49:49.309836', '17:49:50.602400', '21:15:54.417121'],\n",
       "      dtype=object)"
      ]
     },
     "metadata": {},
     "output_type": "display_data"
    },
    {
     "data": {
      "text/plain": [
       "'LastTime'"
      ]
     },
     "metadata": {},
     "output_type": "display_data"
    },
    {
     "data": {
      "text/plain": [
       "array(['21:22:33.937320', '13:03:32.219546', '13:03:42.215561', ...,\n",
       "       '17:49:57.703163', '17:49:57.702922', '17:49:56.803398'],\n",
       "      dtype=object)"
      ]
     },
     "metadata": {},
     "output_type": "display_data"
    },
    {
     "data": {
      "text/plain": [
       "'SrcStartTime'"
      ]
     },
     "metadata": {},
     "output_type": "display_data"
    },
    {
     "data": {
      "text/plain": [
       "array(['21:22:33.937320', '13:03:32.178768', '13:03:32.178911', ...,\n",
       "       '17:49:49.290003', '17:49:49.309836', '17:49:50.603090'],\n",
       "      dtype=object)"
      ]
     },
     "metadata": {},
     "output_type": "display_data"
    },
    {
     "data": {
      "text/plain": [
       "'DstStartTime'"
      ]
     },
     "metadata": {},
     "output_type": "display_data"
    },
    {
     "data": {
      "text/plain": [
       "array(['21:22:33.937320', '13:03:32.178796', '13:03:32.178944', ...,\n",
       "       '17:49:49.289403', '17:49:49.309850', '17:49:50.602400'],\n",
       "      dtype=object)"
      ]
     },
     "metadata": {},
     "output_type": "display_data"
    },
    {
     "data": {
      "text/plain": [
       "'SrcLastTime'"
      ]
     },
     "metadata": {},
     "output_type": "display_data"
    },
    {
     "data": {
      "text/plain": [
       "array(['21:22:33.941729', '13:03:32.219538', '13:03:42.215551', ...,\n",
       "       '17:49:57.702922', '17:49:56.803398', '21:15:54.417121'],\n",
       "      dtype=object)"
      ]
     },
     "metadata": {},
     "output_type": "display_data"
    },
    {
     "data": {
      "text/plain": [
       "'DstLastTime'"
      ]
     },
     "metadata": {},
     "output_type": "display_data"
    },
    {
     "data": {
      "text/plain": [
       "array(['21:22:33.941729', '13:03:32.219546', '13:03:42.215561', ...,\n",
       "       '17:49:57.702326', '17:49:56.803245', '21:15:54.417121'],\n",
       "      dtype=object)"
      ]
     },
     "metadata": {},
     "output_type": "display_data"
    },
    {
     "data": {
      "text/plain": [
       "'Trans'"
      ]
     },
     "metadata": {},
     "output_type": "display_data"
    },
    {
     "data": {
      "text/plain": [
       "array([nan,  1.])"
      ]
     },
     "metadata": {},
     "output_type": "display_data"
    },
    {
     "data": {
      "text/plain": [
       "'Seq'"
      ]
     },
     "metadata": {},
     "output_type": "display_data"
    },
    {
     "data": {
      "text/plain": [
       "array([    0,     1,     2, ..., 16369, 16370, 16371], dtype=int64)"
      ]
     },
     "metadata": {},
     "output_type": "display_data"
    },
    {
     "data": {
      "text/plain": [
       "'Flgs'"
      ]
     },
     "metadata": {},
     "output_type": "display_data"
    },
    {
     "data": {
      "text/plain": [
       "array(['          ', ' e        ', ' e s      ', ' e  S     ',\n",
       "       ' e d      ', ' e *      ', ' e g      ', ' e     A  ',\n",
       "       ' e i      ', ' eU       ', ' e dS     '], dtype=object)"
      ]
     },
     "metadata": {},
     "output_type": "display_data"
    },
    {
     "data": {
      "text/plain": [
       "'RunTime'"
      ]
     },
     "metadata": {},
     "output_type": "display_data"
    },
    {
     "data": {
      "text/plain": [
       "array([      nan,  0.040778, 10.03665 , ...,  8.41376 ,  8.393086,\n",
       "        6.200998])"
      ]
     },
     "metadata": {},
     "output_type": "display_data"
    },
    {
     "data": {
      "text/plain": [
       "'Dur'"
      ]
     },
     "metadata": {},
     "output_type": "display_data"
    },
    {
     "data": {
      "text/plain": [
       "array([4.409000e-03, 4.077800e-02, 1.003665e+01, ..., 8.393086e+00,\n",
       "       6.200998e+00, 1.043927e+00])"
      ]
     },
     "metadata": {},
     "output_type": "display_data"
    },
    {
     "data": {
      "text/plain": [
       "'SrcDur'"
      ]
     },
     "metadata": {},
     "output_type": "display_data"
    },
    {
     "data": {
      "text/plain": [
       "array([4.409000e-03, 4.077000e-02, 1.003664e+01, ..., 8.393086e+00,\n",
       "       6.200308e+00, 1.043927e+00])"
      ]
     },
     "metadata": {},
     "output_type": "display_data"
    },
    {
     "data": {
      "text/plain": [
       "'DstDur'"
      ]
     },
     "metadata": {},
     "output_type": "display_data"
    },
    {
     "data": {
      "text/plain": [
       "array([4.4090000e-03, 4.0750000e-02, 1.0036617e+01, ..., 8.3924760e+00,\n",
       "       6.2008450e+00, 1.0439270e+00])"
      ]
     },
     "metadata": {},
     "output_type": "display_data"
    },
    {
     "data": {
      "text/plain": [
       "'Mean'"
      ]
     },
     "metadata": {},
     "output_type": "display_data"
    },
    {
     "data": {
      "text/plain": [
       "array([      nan,  0.040778, 10.03665 , ...,  8.41376 ,  8.393086,\n",
       "        6.200998])"
      ]
     },
     "metadata": {},
     "output_type": "display_data"
    },
    {
     "data": {
      "text/plain": [
       "'StdDev'"
      ]
     },
     "metadata": {},
     "output_type": "display_data"
    },
    {
     "data": {
      "text/plain": [
       "array([nan,  0.])"
      ]
     },
     "metadata": {},
     "output_type": "display_data"
    },
    {
     "data": {
      "text/plain": [
       "'Sum'"
      ]
     },
     "metadata": {},
     "output_type": "display_data"
    },
    {
     "data": {
      "text/plain": [
       "array([      nan,  0.040778, 10.03665 , ...,  8.41376 ,  8.393086,\n",
       "        6.200998])"
      ]
     },
     "metadata": {},
     "output_type": "display_data"
    },
    {
     "data": {
      "text/plain": [
       "'Min'"
      ]
     },
     "metadata": {},
     "output_type": "display_data"
    },
    {
     "data": {
      "text/plain": [
       "array([      nan,  0.040778, 10.03665 , ...,  8.41376 ,  8.393086,\n",
       "        6.200998])"
      ]
     },
     "metadata": {},
     "output_type": "display_data"
    },
    {
     "data": {
      "text/plain": [
       "'Max'"
      ]
     },
     "metadata": {},
     "output_type": "display_data"
    },
    {
     "data": {
      "text/plain": [
       "array([      nan,  0.040778, 10.03665 , ...,  8.41376 ,  8.393086,\n",
       "        6.200998])"
      ]
     },
     "metadata": {},
     "output_type": "display_data"
    },
    {
     "data": {
      "text/plain": [
       "'Dir'"
      ]
     },
     "metadata": {},
     "output_type": "display_data"
    },
    {
     "data": {
      "text/plain": [
       "array([nan, '   ->', '  <?>'], dtype=object)"
      ]
     },
     "metadata": {},
     "output_type": "display_data"
    },
    {
     "data": {
      "text/plain": [
       "'SrcAddr'"
      ]
     },
     "metadata": {},
     "output_type": "display_data"
    },
    {
     "data": {
      "text/plain": [
       "array(['0', '200.175.2.130', '192.168.8.128', '192.168.8.129',\n",
       "       '192.168.8.1', 'fe80::20c:29ff:fe92:12c4',\n",
       "       'fe80::a9c8:a7bc:187d:eb55', '192.168.20.134', '00:50:56:c0:00:01'],\n",
       "      dtype=object)"
      ]
     },
     "metadata": {},
     "output_type": "display_data"
    },
    {
     "data": {
      "text/plain": [
       "'DstAddr'"
      ]
     },
     "metadata": {},
     "output_type": "display_data"
    },
    {
     "data": {
      "text/plain": [
       "array(['0', '192.168.20.134', '51', '45', '215', '2014', '703',\n",
       "       '192.168.8.129', '192.168.8.128', '239.255.255.250', '16',\n",
       "       'ff02::2', 'ff02::16', '0.0.0.1', '224.0.0.251', 'ff02::fb',\n",
       "       'ff02::1:3', '224.0.0.252', '15', '30', '29', '20', '55',\n",
       "       '200.175.2.130', '65', '24', '01:80:c2:00:00:0e', '17', '21'],\n",
       "      dtype=object)"
      ]
     },
     "metadata": {},
     "output_type": "display_data"
    },
    {
     "data": {
      "text/plain": [
       "'Proto'"
      ]
     },
     "metadata": {},
     "output_type": "display_data"
    },
    {
     "data": {
      "text/plain": [
       "array(['man', 'tcp', 'udp', 'ipv6-icmp', 'igmp', 'icmp', 'lldp'],\n",
       "      dtype=object)"
      ]
     },
     "metadata": {},
     "output_type": "display_data"
    },
    {
     "data": {
      "text/plain": [
       "'Sport'"
      ]
     },
     "metadata": {},
     "output_type": "display_data"
    },
    {
     "data": {
      "text/plain": [
       "array(['0', '43738', '43740', ..., '48310.0', '48308.0', '48312.0'],\n",
       "      dtype=object)"
      ]
     },
     "metadata": {},
     "output_type": "display_data"
    },
    {
     "data": {
      "text/plain": [
       "'Dport'"
      ]
     },
     "metadata": {},
     "output_type": "display_data"
    },
    {
     "data": {
      "text/plain": [
       "array(['0', 'http', '1', '40532', '6653', '1900', '40634', '0x0000', nan,\n",
       "       'mdns', 'hostmon', '80', '0x5000', '48312', '0.0', '48312.0',\n",
       "       '6653.0', '1.0', '48308'], dtype=object)"
      ]
     },
     "metadata": {},
     "output_type": "display_data"
    },
    {
     "data": {
      "text/plain": [
       "'sTos'"
      ]
     },
     "metadata": {},
     "output_type": "display_data"
    },
    {
     "data": {
      "text/plain": [
       "array([ nan,   0., 192., 149., 243.])"
      ]
     },
     "metadata": {},
     "output_type": "display_data"
    },
    {
     "data": {
      "text/plain": [
       "'dTos'"
      ]
     },
     "metadata": {},
     "output_type": "display_data"
    },
    {
     "data": {
      "text/plain": [
       "array([ nan,   0., 192.])"
      ]
     },
     "metadata": {},
     "output_type": "display_data"
    },
    {
     "data": {
      "text/plain": [
       "'sDSb'"
      ]
     },
     "metadata": {},
     "output_type": "display_data"
    },
    {
     "data": {
      "text/plain": [
       "array([nan, 'cs0', 'cs6', '37', '60'], dtype=object)"
      ]
     },
     "metadata": {},
     "output_type": "display_data"
    },
    {
     "data": {
      "text/plain": [
       "'dDSb'"
      ]
     },
     "metadata": {},
     "output_type": "display_data"
    },
    {
     "data": {
      "text/plain": [
       "array([nan, 'cs0', 'cs6'], dtype=object)"
      ]
     },
     "metadata": {},
     "output_type": "display_data"
    },
    {
     "data": {
      "text/plain": [
       "'sTtl'"
      ]
     },
     "metadata": {},
     "output_type": "display_data"
    },
    {
     "data": {
      "text/plain": [
       "array([ nan,  63.,  64.,   4.,   1., 255.])"
      ]
     },
     "metadata": {},
     "output_type": "display_data"
    },
    {
     "data": {
      "text/plain": [
       "'dTtl'"
      ]
     },
     "metadata": {},
     "output_type": "display_data"
    },
    {
     "data": {
      "text/plain": [
       "array([nan, 64.])"
      ]
     },
     "metadata": {},
     "output_type": "display_data"
    },
    {
     "data": {
      "text/plain": [
       "'sIpId'"
      ]
     },
     "metadata": {},
     "output_type": "display_data"
    },
    {
     "data": {
      "text/plain": [
       "array([nan, '0x4c96', '0x6ed0', ..., '0xb846', '0x0977', '0x1d77'],\n",
       "      dtype=object)"
      ]
     },
     "metadata": {},
     "output_type": "display_data"
    },
    {
     "data": {
      "text/plain": [
       "'dIpId'"
      ]
     },
     "metadata": {},
     "output_type": "display_data"
    },
    {
     "data": {
      "text/plain": [
       "array([nan, '0x8890', '0x37f8', ..., '0x3846', '0x6653', '0x5046'],\n",
       "      dtype=object)"
      ]
     },
     "metadata": {},
     "output_type": "display_data"
    },
    {
     "data": {
      "text/plain": [
       "'Cause'"
      ]
     },
     "metadata": {},
     "output_type": "display_data"
    },
    {
     "data": {
      "text/plain": [
       "array(['Start', 'Status', 'Stop'], dtype=object)"
      ]
     },
     "metadata": {},
     "output_type": "display_data"
    },
    {
     "data": {
      "text/plain": [
       "'TotPkts'"
      ]
     },
     "metadata": {},
     "output_type": "display_data"
    },
    {
     "data": {
      "text/plain": [
       "array([     0,     12,      7,      9,      5,      3,      2,     28,\n",
       "           29,     10,     22,     14,      1,     11,     13,     15,\n",
       "           17,     16,     18,     20,     19,     21,     23,     27,\n",
       "            8,      6,     24,      4,     75,  39647,  52629,     81,\n",
       "        32973,  39870,     69,    181,   1665,     70,  31273,  36510,\n",
       "           44,  38467,  42360,    232,    700,     65,    173,    122,\n",
       "           66,   1506,     30,   1612,    746,     58,    686,   1662,\n",
       "           63,   1486,    341,    266,     64,    316,    256,     67,\n",
       "          164,     77,    280,    186,     92,    171,    133,   7909,\n",
       "         8156,  42380,  38493,     83,  33661,  30255,     41,   4081,\n",
       "          757,    786,    896,    895,    898,    892,   3581,    727,\n",
       "          729,    849,    876,    880,    884,   1241,   3591,    735,\n",
       "          731,    841,    873,    878,    709,    707,    798,    856,\n",
       "          858,    864,   2361,   3633,    723,    770,    877,    875,\n",
       "         3603,    761,    872,   3646,    716,    846,    838,    678,\n",
       "          100,     98,     60,    780,    779,    778,    781,    777,\n",
       "          783,    782,    706,    705,    704,    703,    908,    907,\n",
       "         1644,   1643,   1642,   1641,   1640,   1639,   1597,   1596,\n",
       "         1598,   1599,   1595,   1224,   1223,  48848,     71,  41154,\n",
       "        53130,  42106,     78,     25,  13849,  14355,  17030,  16569,\n",
       "        17206,     76,  16745,  17222,  16989,   1967,   1274,    403,\n",
       "       100777,     73,    257,  68502,     74,    149,     80,     36,\n",
       "           34], dtype=int64)"
      ]
     },
     "metadata": {},
     "output_type": "display_data"
    },
    {
     "data": {
      "text/plain": [
       "'SrcPkts'"
      ]
     },
     "metadata": {},
     "output_type": "display_data"
    },
    {
     "data": {
      "text/plain": [
       "array([    0,     6,     4,     5,     3,     1,    14,    15,    11,\n",
       "           8,     7,     9,    10,    12,    13,    17,    16,     2,\n",
       "          45, 18723, 24516,    34, 15501, 17547,    27,    78,   893,\n",
       "          24, 14963, 16570, 19021, 20520,   136,   356,    23,    70,\n",
       "          67,   819,   806,   381,    30,   339,   835,   769,   158,\n",
       "         134,    25,   151,   129,   123,    86,    32,   142,   101,\n",
       "          51,    83,    44,    19,    46,  3581,  3786,    26, 20121,\n",
       "       18594,    36, 15884, 14578,  2040,   378,   393,   448,   447,\n",
       "         449,   446,  1790,   363,   364,   424,   438,   440,   442,\n",
       "         623,  1795,   367,   365,   420,   436,   439,   354,   353,\n",
       "         399,   428,   429,   432,  1180,  1816,   361,   385,   437,\n",
       "        1801,   380,  1823,   358,   423,   340,    50,    31,   780,\n",
       "         779,   778,   781,   777,   783,   782,   706,   705,   704,\n",
       "         703,   908,   907,  1644,  1643,  1642,  1641,  1640,  1639,\n",
       "        1597,  1596,  1598,  1599,  1595,  1224,  1223, 25949, 21513,\n",
       "       25345, 22324,  6838,  7214,  8641,    28,  8329,  8623,  8362,\n",
       "        8613,  8430,   978,   630,   216, 57973,   100, 10842,    41,\n",
       "          21], dtype=int64)"
      ]
     },
     "metadata": {},
     "output_type": "display_data"
    },
    {
     "data": {
      "text/plain": [
       "'DstPkts'"
      ]
     },
     "metadata": {},
     "output_type": "display_data"
    },
    {
     "data": {
      "text/plain": [
       "array([    0,     6,     3,     4,     1,    58,    14,    52,     5,\n",
       "          11,   222,     7,    10,     8,     9,     2, 17243,  6601,\n",
       "          30, 20924, 28113,    47, 17472, 22323,    42,   103,   772,\n",
       "          46, 16310, 19940,    27, 19446, 21840,    18,    96,   344,\n",
       "          55,    32,    19,   687,   806,   365,    28,   347,   827,\n",
       "          40,   717,   183,   132,    39,   165,   127,   133,    78,\n",
       "          45,   138,    85,    41,    88,    89,    25,    21,    23,\n",
       "        4328,  4370,    49, 22259, 19899, 17777, 15677,    33,    13,\n",
       "       10389,  2041,   379,   393,   448,   449,   446,  1791,   364,\n",
       "         425,   438,   440,   442,   618,  1796,   368,   366,   421,\n",
       "         437,   439,   355,   354,   399,   428,   429,   432,  1181,\n",
       "        1817,   362,   385,  1802,   381,   436,  1823,   358,   423,\n",
       "         418,   338,    48,    29,   171, 22899, 19641, 27785, 19782,\n",
       "          12,  7011,    51,  7141,  8389,  8240,  8583,    50,  8383,\n",
       "        8609,  8559,   989,   644,    17,   187, 42804,   157, 57660,\n",
       "         108,    53,    24,    22], dtype=int64)"
      ]
     },
     "metadata": {},
     "output_type": "display_data"
    },
    {
     "data": {
      "text/plain": [
       "'TotBytes'"
      ]
     },
     "metadata": {},
     "output_type": "display_data"
    },
    {
     "data": {
      "text/plain": [
       "array([    0,  2841,   702, ..., 17246, 17042, 16924], dtype=int64)"
      ]
     },
     "metadata": {},
     "output_type": "display_data"
    },
    {
     "data": {
      "text/plain": [
       "'SrcBytes'"
      ]
     },
     "metadata": {},
     "output_type": "display_data"
    },
    {
     "data": {
      "text/plain": [
       "array([    0,   579,   496, ..., 32002, 29456,  8634], dtype=int64)"
      ]
     },
     "metadata": {},
     "output_type": "display_data"
    },
    {
     "data": {
      "text/plain": [
       "'DstBytes'"
      ]
     },
     "metadata": {},
     "output_type": "display_data"
    },
    {
     "data": {
      "text/plain": [
       "array([       0,     2262,      206,      272,       66,     1088,\n",
       "            718,     1886,     2196,     2282,     2226,     2294,\n",
       "           2785,     2781,     2789,     2284,     2290,     2304,\n",
       "           2292,     2234,     2230,     2288,     2298,     2218,\n",
       "           2224,     2278,     2296,     2222,     2300,     2302,\n",
       "           2286,     2232,     2306,     2777,     2220,     2280,\n",
       "           2228,       74,     2216,     2238,     2214,     2376,\n",
       "           2356,     2212,     2240,     2236,     2370,     2308,\n",
       "           2801,     2773,     2715,      370,     2753,     2699,\n",
       "           2793,     2598,     2735,     2448,     2703,     2757,\n",
       "           2707,     2366,     2765,     2769,     3019,     2368,\n",
       "           2941,     2442,     2382,     2360,     2424,     2420,\n",
       "           2374,     2430,     2484,     2496,     2504,     2797,\n",
       "           3003,     3015,     2526,     2528,     2522,     2458,\n",
       "           2354,     2344,     2378,     2358,     2428,     2372,\n",
       "           2761,     2436,     2723,     2727,     2208,     2210,\n",
       "           2206,     2809,     2158,     2148,     2160,     2154,\n",
       "            214,      276,     2731,      140,     2150,     2152,\n",
       "           2156,     2144,     2088,     2080,     2204,       54,\n",
       "           2142,     4496,     4500,     4502,     4526,     2805,\n",
       "           2711,     4498,     4490,     4510,     4450,     2867,\n",
       "           2843,     2883,     2871,     2863,     2312,     2743,\n",
       "           4528,     4530,     4446,     2695,     2146,     2719,\n",
       "           2691,      772,      128,      814,     1218,      784,\n",
       "            838,     1272,    29337, 13144746,  8999724,     7184,\n",
       "       10951923,  6607934,     5336,    19652,   215527,     6070,\n",
       "        9808567,  5585283,     3530, 12787405,  6817863,    40982,\n",
       "          56624,     5762,    17639,     9203,     5227,   146592,\n",
       "           2506,   791222,    96008,     4396,    70371,   214525,\n",
       "           5630,   128592,    39368,    21482,     5564,    38244,\n",
       "          20540,     5899,    31787,    13041,     7076,    34630,\n",
       "          14611,     6560,    18383,    13948,     3418,    28622,\n",
       "         997170,   998551,     5966,  5089420,  4272018,     7112,\n",
       "        3983942,  3320894,     5910,     1726,     2674,     3611,\n",
       "           2740,     2748,     2752,   135022,    25330,    26278,\n",
       "          29908,    29884,    29974,    29776,   118522,    24340,\n",
       "          24406,    28366,    29248,    29380,    29512,    40796,\n",
       "         118852,    24604,    24472,    28102,    29158,    29314,\n",
       "          23746,    23680,    26674,    28588,    28654,    28852,\n",
       "          78266,   120238,    24208,    25750,    29290,    29224,\n",
       "         119248,    25462,    29116,   120658,    23968,    28258,\n",
       "          27596,    22316,     3242,     3176,     1922,  5505240,\n",
       "           5960, 16245436,  6009735, 16574004,     6158,     1772,\n",
       "            222,      492,  1712478,     6074,  1148634,  2141836,\n",
       "           6208,  1329284,  2200442,     5952,  1354388,  2187426,\n",
       "           6224,  1385744,   277076,      642,   105940,    42630,\n",
       "        9376666,     6026,    33140, 14039176,     5672,    20230,\n",
       "           6510,     2902,     2698,     8290], dtype=int64)"
      ]
     },
     "metadata": {},
     "output_type": "display_data"
    },
    {
     "data": {
      "text/plain": [
       "'TotAppByte'"
      ]
     },
     "metadata": {},
     "output_type": "display_data"
    },
    {
     "data": {
      "text/plain": [
       "array([    0,  2033,   224, ..., 30166, 14798, 12766], dtype=int64)"
      ]
     },
     "metadata": {},
     "output_type": "display_data"
    },
    {
     "data": {
      "text/plain": [
       "'SAppBytes'"
      ]
     },
     "metadata": {},
     "output_type": "display_data"
    },
    {
     "data": {
      "text/plain": [
       "array([    0,   175,   224, ..., 27608,  7248,    21], dtype=int64)"
      ]
     },
     "metadata": {},
     "output_type": "display_data"
    },
    {
     "data": {
      "text/plain": [
       "'DAppBytes'"
      ]
     },
     "metadata": {},
     "output_type": "display_data"
    },
    {
     "data": {
      "text/plain": [
       "array([       0,     1858,      156,      380,     1152,     1878,\n",
       "           1888,     1890,     2315,     2311,     2319,     1880,\n",
       "           1886,     1900,     1896,     1892,     1884,     1894,\n",
       "           1874,     1898,     1882,     1902,     2307,     1876,\n",
       "           2331,     2303,     2283,     2295,     2323,     2299,\n",
       "           2287,     2327,     2291,     2339,     3762,     3766,\n",
       "           3768,     3792,     2335,     3764,     3756,     3776,\n",
       "           3782,     3794,     3796,     3778,      718,    27357,\n",
       "       11763582,  7144086,     4082,  9798699,  5134568,     2564,\n",
       "          12854,   164575,     3022,  8732035,  4269147,     1736,\n",
       "       11503777,  5376171,    34646,    33920,     2990,    10841,\n",
       "           5573,     3115,   101250,     1318,   738026,    71918,\n",
       "           2548,    47469,   159943,    81270,    27290,    12770,\n",
       "          27354,    12158,     3259,    23009,     7893,     4106,\n",
       "          25522,     9001,     3854,    12575,     8074,     1768,\n",
       "          27104,   711510,   710131,     2732,  3620314,  2958684,\n",
       "           4010,  2810660,  2286212,     3732,      868,      418,\n",
       "           2336,     3207,      344,  3993894, 14949082,  4175901,\n",
       "       15268332,      980,       24,       96,  1249752,     2708,\n",
       "         677328,  1588162,     2974,   785432,  1633964,     2652,\n",
       "         801110,  1619232,   820850,   211802,      378,    63436,\n",
       "          30288,  6551566,    22778, 10233604,     2636,    13102,\n",
       "           3078,     3062,     1246,     5518], dtype=int64)"
      ]
     },
     "metadata": {},
     "output_type": "display_data"
    },
    {
     "data": {
      "text/plain": [
       "'PCRatio'"
      ]
     },
     "metadata": {},
     "output_type": "display_data"
    },
    {
     "data": {
      "text/plain": [
       "array([      nan, -0.827841,  1.      , ...,  0.79699 ,  0.831599,\n",
       "        0.135516])"
      ]
     },
     "metadata": {},
     "output_type": "display_data"
    },
    {
     "data": {
      "text/plain": [
       "'Load'"
      ]
     },
     "metadata": {},
     "output_type": "display_data"
    },
    {
     "data": {
      "text/plain": [
       "array([0.00000000e+00, 4.64564219e+05, 4.06510162e+02, ...,\n",
       "       1.51475186e+04, 1.49877939e+04, 2.10495312e+04])"
      ]
     },
     "metadata": {},
     "output_type": "display_data"
    },
    {
     "data": {
      "text/plain": [
       "'SrcLoad'"
      ]
     },
     "metadata": {},
     "output_type": "display_data"
    },
    {
     "data": {
      "text/plain": [
       "array([    0.      , 94775.5625  ,   296.51358 , ...,  2645.392578,\n",
       "        2455.532715, 10441.158203])"
      ]
     },
     "metadata": {},
     "output_type": "display_data"
    },
    {
     "data": {
      "text/plain": [
       "'DstLoad'"
      ]
     },
     "metadata": {},
     "output_type": "display_data"
    },
    {
     "data": {
      "text/plain": [
       "array([0.00000000e+00, 3.70061344e+05, 1.09997223e+02, ...,\n",
       "       1.25032686e+04, 1.25331729e+04, 1.06097959e+04])"
      ]
     },
     "metadata": {},
     "output_type": "display_data"
    },
    {
     "data": {
      "text/plain": [
       "'Loss'"
      ]
     },
     "metadata": {},
     "output_type": "display_data"
    },
    {
     "data": {
      "text/plain": [
       "array([ 0,  4,  2,  1,  3,  6,  8,  5,  7,  9, 11, 19, 17, 16, 22],\n",
       "      dtype=int64)"
      ]
     },
     "metadata": {},
     "output_type": "display_data"
    },
    {
     "data": {
      "text/plain": [
       "'SrcLoss'"
      ]
     },
     "metadata": {},
     "output_type": "display_data"
    },
    {
     "data": {
      "text/plain": [
       "array([ 0,  4,  2,  1,  3,  6,  8,  5,  7,  9, 15, 16, 21], dtype=int64)"
      ]
     },
     "metadata": {},
     "output_type": "display_data"
    },
    {
     "data": {
      "text/plain": [
       "'DstLoss'"
      ]
     },
     "metadata": {},
     "output_type": "display_data"
    },
    {
     "data": {
      "text/plain": [
       "array([0, 2, 1, 4, 3, 6], dtype=int64)"
      ]
     },
     "metadata": {},
     "output_type": "display_data"
    },
    {
     "data": {
      "text/plain": [
       "'pLoss'"
      ]
     },
     "metadata": {},
     "output_type": "display_data"
    },
    {
     "data": {
      "text/plain": [
       "array([0.0000000e+00, 4.4444444e+01, 4.0000000e+01, 1.2500000e+01,\n",
       "       7.1428570e+00, 1.6666667e+01, 1.3333333e+01, 1.7647059e+01,\n",
       "       1.5000000e+01, 6.2500000e+00, 7.6923080e+00, 1.1111111e+01,\n",
       "       2.0000000e+01, 1.8181818e+01, 2.5000000e+01, 2.1052632e+01,\n",
       "       2.3076923e+01, 2.2727273e+01, 2.3809524e+01, 3.8888889e+01,\n",
       "       2.8000000e+01, 2.0833333e+01, 3.0000000e+01, 2.6923077e+01,\n",
       "       2.6086957e+01, 2.8571429e+01, 2.9629630e+01, 1.7391304e+01,\n",
       "       2.1739130e+01, 2.8125000e+01, 3.1034483e+01, 2.6666667e+01,\n",
       "       3.7500000e+01, 3.6666667e+01, 4.0909091e+01, 2.8947368e+01,\n",
       "       3.5714286e+01, 2.1428571e+01, 1.3636364e+01, 1.1538462e+01,\n",
       "       1.0000000e+01, 5.0000000e+00, 2.5925926e+01, 9.0909090e+00,\n",
       "       3.3333333e+01, 1.5789474e+01, 8.3333330e+00, 3.4782609e+01,\n",
       "       1.4285714e+01, 4.2105263e+01, 5.0000000e+01, 6.6666670e+00,\n",
       "       1.8750000e+01, 1.1764706e+01, 2.2222222e+01, 1.9047619e+01,\n",
       "       1.5384615e+01, 2.7272727e+01, 2.0689655e+01, 2.7586207e+01,\n",
       "       2.4000000e+01, 1.0526316e+01, 1.4814815e+01, 2.3529412e+01,\n",
       "       3.6363636e+01, 1.3157890e+00, 4.7900000e-02, 3.2291000e-02,\n",
       "       2.1225000e-02, 1.0032000e-02, 1.4084510e+00, 1.9182000e-02,\n",
       "       1.9169000e-02, 4.3478260e+00, 4.1577000e-02, 5.1909000e-02,\n",
       "       1.2642000e-02, 4.7190000e-03, 3.2128500e-01, 3.2142857e+01,\n",
       "       1.1641400e-01, 4.0940000e-03, 1.2148000e-02, 3.7640000e-03,\n",
       "       9.4990000e-03, 7.2200000e-03, 6.0350000e-03, 2.4752500e-01,\n",
       "       2.9770000e-03, 1.4600000e-03])"
      ]
     },
     "metadata": {},
     "output_type": "display_data"
    },
    {
     "data": {
      "text/plain": [
       "'pSrcLoss'"
      ]
     },
     "metadata": {},
     "output_type": "display_data"
    },
    {
     "data": {
      "text/plain": [
       "array([0.0000000e+00, 4.4444444e+01, 4.0000000e+01, 1.2500000e+01,\n",
       "       2.5000000e+01, 2.0000000e+01, 2.1428571e+01, 1.0000000e+01,\n",
       "       1.6666667e+01, 2.8571429e+01, 3.3333333e+01, 4.2105263e+01,\n",
       "       3.0000000e+01, 3.1250000e+01, 4.1176471e+01, 3.5000000e+01,\n",
       "       2.7777778e+01, 3.7500000e+01, 3.6363636e+01, 2.6666667e+01,\n",
       "       3.1818182e+01, 3.4615385e+01, 2.3076923e+01, 4.2857143e+01,\n",
       "       1.8181818e+01, 2.9166667e+01, 3.8461538e+01, 2.2222222e+01,\n",
       "       8.3333330e+00, 6.6666670e+00, 1.1111111e+01, 2.3529412e+01,\n",
       "       1.4285714e+01, 3.5294118e+01, 5.0000000e+01, 2.7272727e+01,\n",
       "       3.8095238e+01, 3.0769231e+01, 3.6842105e+01, 9.0909090e+00,\n",
       "       3.1578947e+01, 1.5384615e+01, 8.0051000e-02, 6.1147000e-02,\n",
       "       3.8692000e-02, 2.2791000e-02, 4.0000000e+00, 4.0083000e-02,\n",
       "       4.2227000e-02, 5.5555560e+00, 8.4047000e-02, 1.0223500e-01,\n",
       "       2.7917000e-02, 4.9700000e-03, 6.3795900e-01, 2.6315789e+01,\n",
       "       2.3255800e-01, 3.8540000e-03, 1.8590000e-02, 7.8900000e-03,\n",
       "       1.7915000e-02, 1.2005000e-02, 5.1750000e-03, 9.2230000e-03])"
      ]
     },
     "metadata": {},
     "output_type": "display_data"
    },
    {
     "data": {
      "text/plain": [
       "'pDstLoss'"
      ]
     },
     "metadata": {},
     "output_type": "display_data"
    },
    {
     "data": {
      "text/plain": [
       "array([0.0000000e+00, 2.2222222e+01, 1.2500000e+01, 1.4285714e+01,\n",
       "       2.5000000e+01, 4.4444444e+01, 2.8571429e+01, 2.0000000e+01,\n",
       "       1.6666667e+01, 1.8181818e+01, 5.0000000e+01, 3.3333333e+01,\n",
       "       3.5294118e+01, 3.7500000e+01, 4.0000000e+01, 3.2258060e+00,\n",
       "       1.9113000e-02, 7.1140000e-03, 5.7230000e-03, 3.5714290e+00,\n",
       "       4.5790000e-03, 4.4920000e-03, 4.3670000e-03, 5.0910000e-03,\n",
       "       1.4261000e-02, 5.3191500e-01])"
      ]
     },
     "metadata": {},
     "output_type": "display_data"
    },
    {
     "data": {
      "text/plain": [
       "'Retrans'"
      ]
     },
     "metadata": {},
     "output_type": "display_data"
    },
    {
     "data": {
      "text/plain": [
       "array([0], dtype=int64)"
      ]
     },
     "metadata": {},
     "output_type": "display_data"
    },
    {
     "data": {
      "text/plain": [
       "'SrcRetra'"
      ]
     },
     "metadata": {},
     "output_type": "display_data"
    },
    {
     "data": {
      "text/plain": [
       "array([0], dtype=int64)"
      ]
     },
     "metadata": {},
     "output_type": "display_data"
    },
    {
     "data": {
      "text/plain": [
       "'DstRetra'"
      ]
     },
     "metadata": {},
     "output_type": "display_data"
    },
    {
     "data": {
      "text/plain": [
       "array([0], dtype=int64)"
      ]
     },
     "metadata": {},
     "output_type": "display_data"
    },
    {
     "data": {
      "text/plain": [
       "'pRetran'"
      ]
     },
     "metadata": {},
     "output_type": "display_data"
    },
    {
     "data": {
      "text/plain": [
       "array([0.])"
      ]
     },
     "metadata": {},
     "output_type": "display_data"
    },
    {
     "data": {
      "text/plain": [
       "'pSrcRetr'"
      ]
     },
     "metadata": {},
     "output_type": "display_data"
    },
    {
     "data": {
      "text/plain": [
       "array([0.])"
      ]
     },
     "metadata": {},
     "output_type": "display_data"
    },
    {
     "data": {
      "text/plain": [
       "'pDstRetr'"
      ]
     },
     "metadata": {},
     "output_type": "display_data"
    },
    {
     "data": {
      "text/plain": [
       "array([0.])"
      ]
     },
     "metadata": {},
     "output_type": "display_data"
    },
    {
     "data": {
      "text/plain": [
       "'SrcGap'"
      ]
     },
     "metadata": {},
     "output_type": "display_data"
    },
    {
     "data": {
      "text/plain": [
       "array([           nan, 0.00000000e+00, 1.28016143e+09, 1.26872324e+09,\n",
       "       1.26901016e+09, 1.26915211e+09, 1.26915318e+09, 1.28087581e+09,\n",
       "       1.28091496e+09, 1.28004811e+09, 1.27838768e+09, 1.28388112e+09,\n",
       "       1.28427871e+09, 1.28170821e+09, 1.28185017e+09, 1.28172892e+09,\n",
       "       1.28152688e+09, 1.27949021e+09, 1.60700000e+03, 1.16000000e+02,\n",
       "       4.00000000e+01, 2.40000000e+01, 1.60000000e+01, 8.95000000e+02])"
      ]
     },
     "metadata": {},
     "output_type": "display_data"
    },
    {
     "data": {
      "text/plain": [
       "'DstGap'"
      ]
     },
     "metadata": {},
     "output_type": "display_data"
    },
    {
     "data": {
      "text/plain": [
       "array([            nan,  0.00000000e+00,  1.30813786e+09,  1.30932667e+09,\n",
       "        1.30317566e+09,  1.26616342e+09,  1.26616101e+09,  1.26617000e+09,\n",
       "        1.30593109e+09,  1.31023834e+09,  1.31898291e+09,  1.31297536e+09,\n",
       "        1.30379425e+09,  1.29738082e+09,  1.31065577e+09,  1.29939217e+09,\n",
       "        1.31058232e+09, -2.14748365e+09,  1.30035936e+09,  1.31262928e+09,\n",
       "        4.36856006e+08,  1.77000000e+02,  4.00000000e+01,  1.60000000e+01,\n",
       "        1.07400000e+03])"
      ]
     },
     "metadata": {},
     "output_type": "display_data"
    },
    {
     "data": {
      "text/plain": [
       "'Rate'"
      ]
     },
     "metadata": {},
     "output_type": "display_data"
    },
    {
     "data": {
      "text/plain": [
       "array([  0.      , 269.753296,   0.597809, ...,   4.159853,   3.931808,\n",
       "         9.998391])"
      ]
     },
     "metadata": {},
     "output_type": "display_data"
    },
    {
     "data": {
      "text/plain": [
       "'SrcRate'"
      ]
     },
     "metadata": {},
     "output_type": "display_data"
    },
    {
     "data": {
      "text/plain": [
       "array([  0.      , 122.639191,   0.298905, ...,   1.307475,   1.310603,\n",
       "         3.225646])"
      ]
     },
     "metadata": {},
     "output_type": "display_data"
    },
    {
     "data": {
      "text/plain": [
       "'DstRate'"
      ]
     },
     "metadata": {},
     "output_type": "display_data"
    },
    {
     "data": {
      "text/plain": [
       "array([  0.      , 122.699387,   0.19927 , ...,   2.733826,   2.502241,\n",
       "         6.612002])"
      ]
     },
     "metadata": {},
     "output_type": "display_data"
    },
    {
     "data": {
      "text/plain": [
       "'SIntPkt'"
      ]
     },
     "metadata": {},
     "output_type": "display_data"
    },
    {
     "data": {
      "text/plain": [
       "array([        nan,    8.154   , 3345.54675 , ...,  775.076812,\n",
       "        775.066563,  395.524156])"
      ]
     },
     "metadata": {},
     "output_type": "display_data"
    },
    {
     "data": {
      "text/plain": [
       "'DIntPkt'"
      ]
     },
     "metadata": {},
     "output_type": "display_data"
    },
    {
     "data": {
      "text/plain": [
       "array([        nan,    8.15    , 5018.3085  , ...,  387.534875,\n",
       "        381.493969,  197.758078])"
      ]
     },
     "metadata": {},
     "output_type": "display_data"
    },
    {
     "data": {
      "text/plain": [
       "'SIntPktAct'"
      ]
     },
     "metadata": {},
     "output_type": "display_data"
    },
    {
     "data": {
      "text/plain": [
       "array([          nan, 0.0000000e+00, 3.8657825e+03, ..., 1.2533330e+00,\n",
       "       1.7400000e-01, 1.4600000e-01])"
      ]
     },
     "metadata": {},
     "output_type": "display_data"
    },
    {
     "data": {
      "text/plain": [
       "'DIntPktAct'"
      ]
     },
     "metadata": {},
     "output_type": "display_data"
    },
    {
     "data": {
      "text/plain": [
       "array([     nan, 0.2985  , 0.      , ..., 0.080429, 0.1162  , 0.104893])"
      ]
     },
     "metadata": {},
     "output_type": "display_data"
    },
    {
     "data": {
      "text/plain": [
       "'SIntPktIdl'"
      ]
     },
     "metadata": {},
     "output_type": "display_data"
    },
    {
     "data": {
      "text/plain": [
       "array([        nan,    8.154   , 3345.54675 , ...,  775.076812,\n",
       "        775.066563,  395.524156])"
      ]
     },
     "metadata": {},
     "output_type": "display_data"
    },
    {
     "data": {
      "text/plain": [
       "'DIntPktIdl'"
      ]
     },
     "metadata": {},
     "output_type": "display_data"
    },
    {
     "data": {
      "text/plain": [
       "array([        nan,   13.384333, 5018.3085  , ...,  547.074938,\n",
       "        493.663875,  593.064438])"
      ]
     },
     "metadata": {},
     "output_type": "display_data"
    },
    {
     "data": {
      "text/plain": [
       "'SIntPktMax'"
      ]
     },
     "metadata": {},
     "output_type": "display_data"
    },
    {
     "data": {
      "text/plain": [
       "array([      nan,    15.812, 10016.792, ...,  3100.607,  3100.494,\n",
       "        3056.781])"
      ]
     },
     "metadata": {},
     "output_type": "display_data"
    },
    {
     "data": {
      "text/plain": [
       "'SIntPktMin'"
      ]
     },
     "metadata": {},
     "output_type": "display_data"
    },
    {
     "data": {
      "text/plain": [
       "array([         nan, 4.043000e+00, 4.067000e+00, ..., 3.404956e+04,\n",
       "       9.574470e+02, 3.924700e+01])"
      ]
     },
     "metadata": {},
     "output_type": "display_data"
    },
    {
     "data": {
      "text/plain": [
       "'DIntPktMax'"
      ]
     },
     "metadata": {},
     "output_type": "display_data"
    },
    {
     "data": {
      "text/plain": [
       "array([   nan,  0.557,  0.   , ..., 13.56 ,  0.84 , 39.434])"
      ]
     },
     "metadata": {},
     "output_type": "display_data"
    },
    {
     "data": {
      "text/plain": [
       "'DIntPktMin'"
      ]
     },
     "metadata": {},
     "output_type": "display_data"
    },
    {
     "data": {
      "text/plain": [
       "array([      nan, 4.000e-02, 0.000e+00, 2.400e-02, 1.260e-01, 1.500e-01,\n",
       "       1.110e-01, 7.300e-02, 7.800e-02, 1.180e-01, 9.100e-02, 8.900e-02,\n",
       "       1.420e-01, 1.330e-01, 8.700e-02, 9.600e-02, 5.300e-02, 5.400e-02,\n",
       "       1.860e-01, 6.000e-02, 1.340e-01, 8.200e-02, 5.500e-02, 6.200e-02,\n",
       "       9.400e-02, 5.800e-02, 5.600e-02, 1.010e-01, 6.100e-02, 7.900e-02,\n",
       "       1.370e-01, 2.380e-01, 7.100e-02, 2.090e-01, 1.660e-01, 1.510e-01,\n",
       "       9.900e-02, 6.800e-02, 1.090e-01, 8.820e-01, 1.170e-01, 6.900e-02,\n",
       "       2.340e-01, 2.480e-01, 8.600e-02, 1.280e-01, 1.720e-01, 5.900e-02,\n",
       "       1.000e-01, 2.210e-01, 1.460e-01, 7.700e-02, 1.900e-01, 6.400e-02,\n",
       "       9.700e-02, 1.240e-01, 1.140e-01, 8.400e-02, 1.050e-01, 6.500e-02,\n",
       "       6.700e-02, 1.160e-01, 2.240e-01, 1.080e-01, 5.400e-01, 1.200e-01,\n",
       "       6.000e-01, 7.580e-01, 8.500e-02, 1.060e-01, 8.300e-02, 6.300e-02,\n",
       "       7.600e-02, 5.700e-02, 1.650e-01, 4.700e-02, 4.870e-01, 9.810e-01,\n",
       "       4.520e-01, 1.100e-01, 7.500e-02, 5.990e-01, 1.040e-01, 3.050e-01,\n",
       "       5.100e-02, 5.200e-02, 1.840e-01, 1.350e-01, 9.000e-02, 8.000e-02,\n",
       "       6.480e-01, 1.639e+00, 1.165e+00, 1.400e-01, 5.070e-01, 9.340e-01,\n",
       "       8.330e-01, 1.190e-01, 1.049e+00, 4.800e-02, 4.300e-02, 4.900e-02,\n",
       "       1.270e-01, 4.500e-02, 1.450e-01, 3.530e-01, 3.450e-01, 5.880e-01,\n",
       "       7.200e-02, 3.600e-02, 3.250e-01, 2.360e-01, 2.600e-02, 2.800e-02,\n",
       "       9.500e-02, 1.379e+00, 2.900e-02, 3.200e-02, 3.100e-02, 7.000e-02,\n",
       "       8.100e-02, 5.000e-02, 2.200e-02, 6.600e-02, 4.100e-02, 1.900e-02,\n",
       "       2.700e-02, 5.790e-01, 1.440e-01, 1.230e-01, 1.610e-01, 3.500e-02,\n",
       "       1.290e-01, 3.800e-02, 3.300e-02, 3.000e-02, 4.200e-02, 3.900e-02,\n",
       "       2.100e-02, 1.800e-02, 2.500e-02, 2.000e-02, 2.300e-02, 3.700e-02,\n",
       "       1.600e-02, 1.700e-02, 1.030e-01, 4.400e-02, 4.600e-02, 3.400e-02,\n",
       "       1.300e-01, 1.430e-01, 1.250e-01, 2.540e-01, 8.800e-02, 9.200e-02,\n",
       "       2.230e-01, 2.700e-01, 1.600e-01, 1.120e-01, 1.480e-01, 1.210e-01,\n",
       "       1.530e-01, 1.070e-01, 1.220e-01, 1.740e-01, 9.800e-02, 1.870e-01,\n",
       "       1.890e-01, 2.330e-01, 2.310e-01, 1.490e-01, 7.400e-02, 1.020e-01,\n",
       "       1.970e-01, 4.920e-01, 2.430e-01, 1.810e-01, 9.300e-02, 2.100e-01,\n",
       "       2.130e-01, 1.150e-01, 1.390e-01, 1.560e-01, 3.420e-01, 1.940e-01,\n",
       "       1.470e-01, 3.920e-01, 2.290e-01, 2.150e-01, 1.007e+00, 1.550e-01,\n",
       "       1.680e-01, 1.310e-01, 1.670e-01, 1.130e-01, 2.980e-01, 1.570e-01,\n",
       "       5.390e-01, 1.990e-01, 1.620e-01, 1.930e-01, 2.750e-01, 3.380e-01,\n",
       "       3.940e-01, 2.860e-01, 1.800e-01, 1.790e-01, 1.910e-01, 1.320e-01,\n",
       "       1.700e-01, 8.070e-01, 1.640e-01, 2.220e-01, 2.040e-01, 1.590e-01,\n",
       "       3.600e-01, 5.030e-01, 1.360e-01, 1.410e-01, 1.520e-01, 1.380e-01,\n",
       "       4.240e-01, 3.000e-03, 1.540e-01, 1.580e-01, 2.180e-01, 2.390e-01,\n",
       "       1.920e-01, 2.300e-01, 1.750e-01, 2.000e-01, 4.610e-01, 2.600e-01,\n",
       "       5.950e-01, 5.200e-01, 3.690e-01, 1.367e+00, 4.600e-01, 9.110e-01,\n",
       "       2.170e-01, 2.200e-01, 2.440e-01, 2.930e-01, 4.760e-01, 2.870e-01,\n",
       "       1.566e+00, 3.620e-01, 4.720e-01, 5.230e-01, 6.170e-01, 1.710e-01,\n",
       "       6.700e-01, 3.480e-01, 2.320e-01, 6.690e-01, 1.000e-03, 2.000e-03,\n",
       "       4.060e-01, 2.690e-01, 5.350e-01, 2.460e-01, 3.100e-01, 4.210e-01,\n",
       "       2.840e-01, 2.060e-01, 3.440e-01, 2.420e-01, 3.840e-01, 5.590e-01,\n",
       "       2.010e-01, 1.565e+00, 1.780e-01, 2.830e-01, 2.620e-01, 2.900e-01,\n",
       "       3.040e-01, 2.680e-01, 2.780e-01, 3.160e-01, 2.820e-01, 7.780e-01,\n",
       "       4.670e-01, 2.470e-01, 1.830e-01, 5.650e-01, 1.500e-02, 3.130e-01,\n",
       "       1.400e-02, 4.260e-01, 2.800e-01, 2.630e-01, 2.740e-01, 2.510e-01,\n",
       "       3.000e-01, 2.650e-01, 5.420e-01, 4.390e-01, 2.560e-01, 6.010e-01,\n",
       "       2.120e-01, 4.160e-01, 8.710e-01, 2.280e-01, 2.600e+00, 1.960e-01,\n",
       "       4.620e-01, 1.770e-01, 2.020e-01, 9.240e-01, 3.460e-01, 1.730e-01,\n",
       "       2.110e-01, 4.120e-01, 2.910e-01, 2.250e-01, 4.570e-01, 2.590e-01,\n",
       "       4.990e-01, 1.850e-01, 4.590e-01, 4.330e-01, 3.300e-01, 5.470e-01,\n",
       "       3.360e-01, 1.630e-01, 5.830e-01, 2.080e-01, 6.500e-01, 3.230e-01,\n",
       "       5.600e-01, 6.620e-01, 2.890e-01, 1.950e-01, 4.000e-01, 2.610e-01,\n",
       "       7.160e-01, 3.030e-01, 3.350e-01, 2.710e-01, 1.690e-01, 1.880e-01,\n",
       "       2.190e-01, 6.120e-01, 2.070e-01, 2.720e-01, 2.520e-01, 1.106e+00,\n",
       "       9.250e-01, 3.320e-01, 2.640e-01, 3.060e-01, 2.370e-01, 4.230e-01,\n",
       "       2.490e-01, 2.140e-01, 3.590e-01, 2.270e-01, 2.550e-01, 2.410e-01,\n",
       "       1.820e-01, 1.980e-01, 2.580e-01, 2.730e-01, 1.760e-01, 6.440e-01,\n",
       "       5.190e-01, 2.570e-01, 3.080e-01, 3.170e-01, 1.300e-02, 6.520e-01,\n",
       "       5.340e-01, 3.140e-01, 5.270e-01, 3.970e-01, 2.450e-01, 2.350e-01,\n",
       "       2.670e-01, 3.430e-01, 1.628e+00, 2.530e-01, 2.970e-01, 4.000e-03,\n",
       "       4.010e-01, 3.860e-01, 4.770e-01, 2.790e-01, 2.260e-01, 2.810e-01,\n",
       "       2.030e-01, 3.750e-01, 2.660e-01, 2.160e-01, 3.330e-01, 2.850e-01,\n",
       "       2.760e-01, 1.061e+00, 5.710e-01, 3.190e-01, 4.550e-01, 4.440e-01,\n",
       "       1.040e+00, 6.060e-01, 3.680e-01, 4.300e-01, 3.640e-01, 6.420e-01,\n",
       "       9.150e-01, 2.400e-01, 3.650e-01, 2.950e-01, 3.370e-01, 4.480e-01,\n",
       "       4.170e-01, 2.180e+00, 4.400e-01, 3.660e-01, 5.330e-01, 4.930e-01,\n",
       "       3.800e-01, 3.220e-01, 4.700e-01, 3.150e-01, 3.260e-01, 3.290e-01,\n",
       "       7.300e-01, 2.050e-01, 4.280e-01, 8.090e-01, 8.640e-01, 3.630e-01,\n",
       "       4.730e-01, 6.240e-01, 5.770e-01, 3.010e-01, 3.020e-01, 7.980e-01,\n",
       "       4.790e-01, 4.470e-01, 4.640e-01, 3.500e-01, 2.880e-01, 3.900e-01,\n",
       "       3.120e-01, 3.510e-01, 7.090e-01, 4.780e-01, 7.450e-01, 3.110e-01,\n",
       "       1.412e+00, 6.560e-01, 4.380e-01, 4.030e-01, 5.180e-01, 4.690e-01,\n",
       "       7.500e-01, 3.470e-01, 8.124e+00, 2.401e+00, 1.842e+00, 7.910e-01,\n",
       "       1.290e+00, 5.730e-01, 5.000e-01, 1.231e+00, 3.550e-01, 3.310e-01,\n",
       "       1.168e+00, 8.620e-01, 6.250e-01, 7.140e-01, 5.810e-01, 5.370e-01,\n",
       "       1.121e+00, 2.940e-01, 6.880e-01, 9.330e-01, 8.100e-01, 2.770e-01,\n",
       "       5.850e-01, 3.540e-01, 3.830e-01, 8.780e-01, 1.141e+00, 5.080e-01,\n",
       "       7.540e-01, 1.427e+00, 1.863e+00, 6.740e-01, 7.040e-01, 7.220e-01,\n",
       "       5.940e-01, 3.820e-01, 3.280e-01, 8.350e-01, 4.810e-01, 3.570e-01,\n",
       "       3.340e-01, 6.730e-01, 1.174e+00, 1.083e+00, 7.150e-01, 3.424e+00,\n",
       "       5.660e-01, 6.310e-01, 7.290e-01, 7.430e-01, 1.110e+00, 5.220e-01,\n",
       "       5.560e-01, 4.190e-01, 4.950e-01, 4.580e-01, 6.200e-01, 5.550e-01,\n",
       "       4.740e-01, 4.960e-01, 7.420e-01, 8.650e-01, 6.720e-01, 7.600e-01,\n",
       "       4.250e-01, 1.373e+00, 5.090e-01, 3.810e-01, 3.990e-01, 2.500e-01,\n",
       "       6.210e-01, 1.503e+00, 6.840e-01, 6.460e-01, 5.250e-01, 3.770e-01,\n",
       "       7.750e-01, 6.300e-01, 3.240e-01, 1.111e+00, 1.783e+00, 1.614e+00,\n",
       "       4.430e-01, 1.746e+00, 4.150e-01, 3.090e-01, 4.040e-01, 6.270e-01,\n",
       "       8.550e-01, 8.480e-01, 1.589e+00, 6.810e-01, 3.980e-01, 3.070e-01,\n",
       "       6.030e-01, 7.440e-01, 5.460e-01, 4.140e-01, 9.610e-01, 4.090e-01,\n",
       "       6.470e-01, 3.780e-01, 9.690e-01, 4.270e-01, 5.620e-01, 3.390e-01,\n",
       "       5.050e-01, 3.270e-01, 5.960e-01, 6.040e-01, 4.840e-01, 5.280e-01,\n",
       "       7.170e-01, 8.970e-01, 7.880e-01, 2.266e+00, 3.730e-01, 2.960e-01,\n",
       "       2.183e+00, 5.930e-01, 9.080e-01, 7.740e-01, 8.430e-01, 1.176e+00,\n",
       "       3.790e-01, 4.050e-01, 3.400e-01, 1.132e+00, 6.150e-01, 4.290e-01,\n",
       "       3.610e-01, 3.890e-01, 6.980e-01, 1.524e+00, 7.940e-01, 3.410e-01,\n",
       "       9.940e-01, 7.050e-01, 4.340e-01, 4.540e-01, 7.250e-01, 5.580e-01,\n",
       "       5.360e-01, 8.380e-01, 2.716e+00, 6.080e-01, 5.690e-01, 1.151e+00,\n",
       "       5.640e-01, 1.099e+00, 3.850e-01, 3.210e-01, 3.490e-01, 4.100e-01,\n",
       "       1.027e+00, 3.670e-01, 5.300e-01, 7.360e-01, 1.243e+00, 2.208e+00,\n",
       "       1.254e+00, 7.100e-01, 9.640e-01, 3.091e+00, 4.490e-01, 1.240e+00,\n",
       "       7.000e-01, 7.690e-01, 1.048e+00, 8.630e-01, 6.220e-01, 4.110e-01,\n",
       "       6.290e-01, 8.190e-01, 5.040e-01, 8.810e-01, 4.070e-01, 5.430e-01,\n",
       "       8.360e-01, 5.160e-01, 3.710e-01, 3.950e-01, 4.510e-01, 6.380e-01,\n",
       "       4.940e-01, 5.120e-01, 1.730e+00, 6.260e-01, 1.223e+00, 1.161e+00,\n",
       "       4.080e-01, 3.910e-01, 4.320e-01, 4.450e-01, 1.669e+00, 1.870e+00,\n",
       "       7.900e-01, 5.780e-01, 5.720e-01, 1.084e+00, 6.830e-01, 4.750e-01,\n",
       "       6.650e-01, 4.200e-01, 5.260e-01, 7.190e-01, 8.440e-01, 5.240e-01,\n",
       "       5.110e-01, 1.358e+00, 2.920e-01, 8.020e-01, 4.910e-01, 6.710e-01,\n",
       "       3.070e+00, 3.936e+00, 2.576e+00, 1.056e+00, 8.700e-01, 4.738e+00,\n",
       "       1.584e+00, 5.010e-01, 4.630e-01, 3.720e-01, 1.135e+00, 7.350e-01,\n",
       "       6.340e-01, 6.930e-01, 9.560e-01, 1.389e+00, 1.085e+00, 3.740e-01,\n",
       "       4.180e-01, 1.057e+00, 4.880e-01, 7.490e-01, 3.960e-01, 7.180e-01,\n",
       "       4.530e-01, 3.520e-01, 1.701e+00, 1.126e+00, 7.710e-01, 6.920e-01,\n",
       "       5.970e-01, 5.480e-01, 6.950e-01, 1.378e+00, 3.200e-01, 8.570e-01,\n",
       "       9.020e-01, 4.800e-01, 7.240e-01, 1.541e+00, 6.760e-01, 1.182e+00,\n",
       "       1.963e+00, 3.035e+00, 1.414e+00, 5.320e-01, 7.340e-01, 5.450e-01,\n",
       "       5.000e-03, 6.000e-03, 3.180e-01, 5.130e-01, 4.710e-01, 1.000e-02,\n",
       "       1.200e-02, 6.770e-01, 1.100e-02, 4.020e-01, 6.320e-01, 9.230e-01,\n",
       "       5.490e-01, 7.130e-01, 2.990e-01, 6.160e-01, 7.630e-01, 6.640e-01,\n",
       "       7.560e-01, 2.341e+00, 5.920e-01, 9.000e-03])"
      ]
     },
     "metadata": {},
     "output_type": "display_data"
    },
    {
     "data": {
      "text/plain": [
       "'SIPActMax'"
      ]
     },
     "metadata": {},
     "output_type": "display_data"
    },
    {
     "data": {
      "text/plain": [
       "array([         nan, 0.000000e+00, 8.191645e+03, ..., 3.702000e+00,\n",
       "       1.740000e-01, 1.460000e-01])"
      ]
     },
     "metadata": {},
     "output_type": "display_data"
    },
    {
     "data": {
      "text/plain": [
       "'SIPActMin'"
      ]
     },
     "metadata": {},
     "output_type": "display_data"
    },
    {
     "data": {
      "text/plain": [
       "array([         nan, 0.000000e+00, 1.030061e+03, ..., 1.700000e-02,\n",
       "       1.740000e-01, 1.460000e-01])"
      ]
     },
     "metadata": {},
     "output_type": "display_data"
    },
    {
     "data": {
      "text/plain": [
       "'DIPActMax'"
      ]
     },
     "metadata": {},
     "output_type": "display_data"
    },
    {
     "data": {
      "text/plain": [
       "array([   nan,  0.557,  0.   , ..., 13.56 ,  0.84 , 39.434])"
      ]
     },
     "metadata": {},
     "output_type": "display_data"
    },
    {
     "data": {
      "text/plain": [
       "'DIPActMin'"
      ]
     },
     "metadata": {},
     "output_type": "display_data"
    },
    {
     "data": {
      "text/plain": [
       "array([      nan, 4.000e-02, 0.000e+00, 2.400e-02, 1.260e-01, 1.500e-01,\n",
       "       1.110e-01, 7.300e-02, 7.800e-02, 1.180e-01, 9.100e-02, 8.900e-02,\n",
       "       1.420e-01, 1.330e-01, 8.700e-02, 9.600e-02, 5.300e-02, 5.400e-02,\n",
       "       1.860e-01, 6.000e-02, 1.340e-01, 8.200e-02, 5.500e-02, 6.200e-02,\n",
       "       9.400e-02, 5.800e-02, 5.600e-02, 1.010e-01, 6.100e-02, 7.900e-02,\n",
       "       1.370e-01, 2.380e-01, 7.100e-02, 2.090e-01, 1.660e-01, 1.510e-01,\n",
       "       9.900e-02, 6.800e-02, 1.090e-01, 8.820e-01, 1.170e-01, 6.900e-02,\n",
       "       2.340e-01, 2.480e-01, 8.600e-02, 1.280e-01, 1.720e-01, 5.900e-02,\n",
       "       1.000e-01, 2.210e-01, 1.460e-01, 7.700e-02, 1.900e-01, 6.400e-02,\n",
       "       9.700e-02, 1.240e-01, 1.140e-01, 8.400e-02, 1.050e-01, 6.500e-02,\n",
       "       6.700e-02, 1.160e-01, 2.240e-01, 1.080e-01, 5.400e-01, 1.200e-01,\n",
       "       6.000e-01, 7.580e-01, 8.500e-02, 1.060e-01, 8.300e-02, 6.300e-02,\n",
       "       7.600e-02, 5.700e-02, 1.650e-01, 4.700e-02, 4.870e-01, 9.810e-01,\n",
       "       4.520e-01, 1.100e-01, 7.500e-02, 5.990e-01, 1.040e-01, 3.050e-01,\n",
       "       5.100e-02, 5.200e-02, 1.840e-01, 1.350e-01, 9.000e-02, 8.000e-02,\n",
       "       6.480e-01, 1.639e+00, 1.165e+00, 1.400e-01, 5.070e-01, 9.340e-01,\n",
       "       8.330e-01, 1.190e-01, 1.049e+00, 4.800e-02, 4.300e-02, 4.900e-02,\n",
       "       1.270e-01, 4.500e-02, 1.450e-01, 3.530e-01, 3.450e-01, 5.880e-01,\n",
       "       7.200e-02, 3.600e-02, 3.250e-01, 2.360e-01, 2.600e-02, 2.800e-02,\n",
       "       9.500e-02, 1.379e+00, 2.900e-02, 3.200e-02, 3.100e-02, 7.000e-02,\n",
       "       8.100e-02, 5.000e-02, 2.200e-02, 6.600e-02, 4.100e-02, 1.900e-02,\n",
       "       2.700e-02, 5.790e-01, 1.440e-01, 1.230e-01, 1.610e-01, 3.500e-02,\n",
       "       1.290e-01, 3.800e-02, 3.300e-02, 3.000e-02, 4.200e-02, 3.900e-02,\n",
       "       2.100e-02, 1.800e-02, 2.500e-02, 2.000e-02, 2.300e-02, 3.700e-02,\n",
       "       1.600e-02, 1.700e-02, 1.030e-01, 4.400e-02, 4.600e-02, 3.400e-02,\n",
       "       1.300e-01, 1.430e-01, 1.250e-01, 2.540e-01, 8.800e-02, 9.200e-02,\n",
       "       2.230e-01, 2.700e-01, 1.600e-01, 1.120e-01, 1.480e-01, 1.210e-01,\n",
       "       1.530e-01, 1.070e-01, 1.220e-01, 1.740e-01, 9.800e-02, 1.870e-01,\n",
       "       1.890e-01, 2.330e-01, 2.310e-01, 1.490e-01, 7.400e-02, 1.020e-01,\n",
       "       1.970e-01, 4.920e-01, 2.430e-01, 1.810e-01, 9.300e-02, 2.100e-01,\n",
       "       2.130e-01, 1.150e-01, 1.390e-01, 1.560e-01, 3.420e-01, 1.940e-01,\n",
       "       1.470e-01, 3.920e-01, 2.290e-01, 2.150e-01, 1.007e+00, 1.550e-01,\n",
       "       1.680e-01, 1.310e-01, 1.670e-01, 1.130e-01, 2.980e-01, 1.570e-01,\n",
       "       5.390e-01, 1.990e-01, 1.620e-01, 1.930e-01, 2.750e-01, 3.380e-01,\n",
       "       3.940e-01, 2.860e-01, 1.800e-01, 1.790e-01, 1.910e-01, 1.320e-01,\n",
       "       1.700e-01, 8.070e-01, 1.640e-01, 2.220e-01, 2.040e-01, 1.590e-01,\n",
       "       3.600e-01, 5.030e-01, 1.360e-01, 1.410e-01, 1.520e-01, 1.380e-01,\n",
       "       4.240e-01, 3.000e-03, 1.540e-01, 1.580e-01, 2.180e-01, 2.390e-01,\n",
       "       1.920e-01, 2.300e-01, 1.750e-01, 2.000e-01, 4.610e-01, 2.600e-01,\n",
       "       5.950e-01, 5.200e-01, 3.690e-01, 1.367e+00, 4.600e-01, 9.110e-01,\n",
       "       2.170e-01, 2.200e-01, 2.440e-01, 2.930e-01, 4.760e-01, 2.870e-01,\n",
       "       1.566e+00, 3.620e-01, 4.720e-01, 5.230e-01, 6.170e-01, 1.710e-01,\n",
       "       6.700e-01, 3.480e-01, 2.320e-01, 6.690e-01, 1.000e-03, 2.000e-03,\n",
       "       4.060e-01, 2.690e-01, 5.350e-01, 2.460e-01, 3.100e-01, 4.210e-01,\n",
       "       2.840e-01, 2.060e-01, 3.440e-01, 2.420e-01, 3.840e-01, 5.590e-01,\n",
       "       2.010e-01, 1.565e+00, 1.780e-01, 2.830e-01, 2.620e-01, 2.900e-01,\n",
       "       3.040e-01, 2.680e-01, 2.780e-01, 3.160e-01, 2.820e-01, 7.780e-01,\n",
       "       4.670e-01, 2.470e-01, 1.830e-01, 5.650e-01, 1.500e-02, 3.130e-01,\n",
       "       1.400e-02, 4.260e-01, 2.800e-01, 2.630e-01, 2.740e-01, 2.510e-01,\n",
       "       3.000e-01, 2.650e-01, 5.420e-01, 4.390e-01, 2.560e-01, 6.010e-01,\n",
       "       2.120e-01, 4.160e-01, 8.710e-01, 2.280e-01, 2.600e+00, 1.960e-01,\n",
       "       4.620e-01, 1.770e-01, 2.020e-01, 9.240e-01, 3.460e-01, 1.730e-01,\n",
       "       2.110e-01, 4.120e-01, 2.910e-01, 2.250e-01, 4.570e-01, 2.590e-01,\n",
       "       4.990e-01, 1.850e-01, 4.590e-01, 4.330e-01, 3.300e-01, 5.470e-01,\n",
       "       3.360e-01, 1.630e-01, 5.830e-01, 2.080e-01, 6.500e-01, 3.230e-01,\n",
       "       5.600e-01, 6.620e-01, 2.890e-01, 1.950e-01, 4.000e-01, 2.610e-01,\n",
       "       7.160e-01, 3.030e-01, 3.350e-01, 2.710e-01, 1.690e-01, 1.880e-01,\n",
       "       2.190e-01, 6.120e-01, 2.070e-01, 2.720e-01, 2.520e-01, 1.106e+00,\n",
       "       9.250e-01, 3.320e-01, 2.640e-01, 3.060e-01, 2.370e-01, 4.230e-01,\n",
       "       2.490e-01, 2.140e-01, 3.590e-01, 2.270e-01, 2.550e-01, 2.410e-01,\n",
       "       1.820e-01, 1.980e-01, 2.580e-01, 2.730e-01, 1.760e-01, 6.440e-01,\n",
       "       5.190e-01, 2.570e-01, 3.080e-01, 3.170e-01, 1.300e-02, 6.520e-01,\n",
       "       5.340e-01, 3.140e-01, 5.270e-01, 3.970e-01, 2.450e-01, 2.350e-01,\n",
       "       2.670e-01, 3.430e-01, 1.628e+00, 2.530e-01, 2.970e-01, 4.000e-03,\n",
       "       4.010e-01, 3.860e-01, 4.770e-01, 2.790e-01, 2.260e-01, 2.810e-01,\n",
       "       2.030e-01, 3.750e-01, 2.660e-01, 2.160e-01, 3.330e-01, 2.850e-01,\n",
       "       2.760e-01, 1.061e+00, 5.710e-01, 3.190e-01, 4.550e-01, 4.440e-01,\n",
       "       1.040e+00, 6.060e-01, 3.680e-01, 4.300e-01, 3.640e-01, 6.420e-01,\n",
       "       9.150e-01, 2.400e-01, 3.650e-01, 2.950e-01, 3.370e-01, 4.480e-01,\n",
       "       4.170e-01, 2.180e+00, 4.400e-01, 3.660e-01, 5.330e-01, 4.930e-01,\n",
       "       3.800e-01, 3.220e-01, 4.700e-01, 3.150e-01, 3.260e-01, 3.290e-01,\n",
       "       7.300e-01, 2.050e-01, 4.280e-01, 8.090e-01, 8.640e-01, 3.630e-01,\n",
       "       4.730e-01, 6.240e-01, 5.770e-01, 3.010e-01, 3.020e-01, 7.980e-01,\n",
       "       4.790e-01, 4.470e-01, 4.640e-01, 3.500e-01, 2.880e-01, 3.900e-01,\n",
       "       3.120e-01, 3.510e-01, 7.090e-01, 4.780e-01, 7.450e-01, 3.110e-01,\n",
       "       1.412e+00, 6.560e-01, 4.380e-01, 4.030e-01, 5.180e-01, 4.690e-01,\n",
       "       7.500e-01, 3.470e-01, 8.124e+00, 2.401e+00, 1.842e+00, 7.910e-01,\n",
       "       1.290e+00, 5.730e-01, 5.000e-01, 1.231e+00, 3.550e-01, 3.310e-01,\n",
       "       1.168e+00, 8.620e-01, 6.250e-01, 7.140e-01, 5.810e-01, 5.370e-01,\n",
       "       1.121e+00, 2.940e-01, 6.880e-01, 9.330e-01, 8.100e-01, 2.770e-01,\n",
       "       5.850e-01, 3.540e-01, 3.830e-01, 8.780e-01, 1.141e+00, 5.080e-01,\n",
       "       7.540e-01, 1.427e+00, 1.863e+00, 6.740e-01, 7.040e-01, 7.220e-01,\n",
       "       5.940e-01, 3.820e-01, 3.280e-01, 8.350e-01, 4.810e-01, 3.570e-01,\n",
       "       3.340e-01, 6.730e-01, 1.174e+00, 1.083e+00, 7.150e-01, 3.424e+00,\n",
       "       5.660e-01, 6.310e-01, 7.290e-01, 7.430e-01, 1.110e+00, 5.220e-01,\n",
       "       5.560e-01, 4.190e-01, 4.950e-01, 4.580e-01, 6.200e-01, 5.550e-01,\n",
       "       4.740e-01, 4.960e-01, 7.420e-01, 8.650e-01, 6.720e-01, 7.600e-01,\n",
       "       4.250e-01, 1.373e+00, 5.090e-01, 3.810e-01, 3.990e-01, 2.500e-01,\n",
       "       6.210e-01, 1.503e+00, 6.840e-01, 6.460e-01, 5.250e-01, 3.770e-01,\n",
       "       7.750e-01, 6.300e-01, 3.240e-01, 1.111e+00, 1.783e+00, 1.614e+00,\n",
       "       4.430e-01, 1.746e+00, 4.150e-01, 3.090e-01, 4.040e-01, 6.270e-01,\n",
       "       8.550e-01, 8.480e-01, 1.589e+00, 6.810e-01, 3.980e-01, 3.070e-01,\n",
       "       6.030e-01, 7.440e-01, 5.460e-01, 4.140e-01, 9.610e-01, 4.090e-01,\n",
       "       6.470e-01, 3.780e-01, 9.690e-01, 4.270e-01, 5.620e-01, 3.390e-01,\n",
       "       5.050e-01, 3.270e-01, 5.960e-01, 6.040e-01, 4.840e-01, 5.280e-01,\n",
       "       7.170e-01, 8.970e-01, 7.880e-01, 2.266e+00, 3.730e-01, 2.960e-01,\n",
       "       2.183e+00, 5.930e-01, 9.080e-01, 7.740e-01, 8.430e-01, 1.176e+00,\n",
       "       3.790e-01, 4.050e-01, 3.400e-01, 1.132e+00, 6.150e-01, 4.290e-01,\n",
       "       3.610e-01, 3.890e-01, 6.980e-01, 1.524e+00, 7.940e-01, 3.410e-01,\n",
       "       9.940e-01, 7.050e-01, 4.340e-01, 4.540e-01, 7.250e-01, 5.580e-01,\n",
       "       5.360e-01, 8.380e-01, 2.716e+00, 6.080e-01, 5.690e-01, 1.151e+00,\n",
       "       5.640e-01, 1.099e+00, 3.850e-01, 3.210e-01, 3.490e-01, 4.100e-01,\n",
       "       1.027e+00, 3.670e-01, 5.300e-01, 7.360e-01, 1.243e+00, 2.208e+00,\n",
       "       1.254e+00, 7.100e-01, 9.640e-01, 3.091e+00, 4.490e-01, 1.240e+00,\n",
       "       7.000e-01, 7.690e-01, 1.048e+00, 8.630e-01, 6.220e-01, 4.110e-01,\n",
       "       6.290e-01, 8.190e-01, 5.040e-01, 8.810e-01, 4.070e-01, 5.430e-01,\n",
       "       8.360e-01, 5.160e-01, 3.710e-01, 3.950e-01, 4.510e-01, 6.380e-01,\n",
       "       4.940e-01, 5.120e-01, 1.730e+00, 6.260e-01, 1.223e+00, 1.161e+00,\n",
       "       4.080e-01, 3.910e-01, 4.320e-01, 4.450e-01, 1.669e+00, 1.870e+00,\n",
       "       7.900e-01, 5.780e-01, 5.720e-01, 1.084e+00, 6.830e-01, 4.750e-01,\n",
       "       6.650e-01, 4.200e-01, 5.260e-01, 7.190e-01, 8.440e-01, 5.240e-01,\n",
       "       5.110e-01, 1.358e+00, 2.920e-01, 8.020e-01, 4.910e-01, 6.710e-01,\n",
       "       3.070e+00, 3.936e+00, 2.576e+00, 1.056e+00, 8.700e-01, 4.738e+00,\n",
       "       1.584e+00, 5.010e-01, 4.630e-01, 3.720e-01, 1.135e+00, 7.350e-01,\n",
       "       6.340e-01, 6.930e-01, 9.560e-01, 1.389e+00, 1.085e+00, 3.740e-01,\n",
       "       4.180e-01, 1.057e+00, 4.880e-01, 7.490e-01, 3.960e-01, 7.180e-01,\n",
       "       4.530e-01, 3.520e-01, 1.701e+00, 1.126e+00, 7.710e-01, 6.920e-01,\n",
       "       5.970e-01, 5.480e-01, 6.950e-01, 1.378e+00, 3.200e-01, 8.570e-01,\n",
       "       9.020e-01, 4.800e-01, 7.240e-01, 1.541e+00, 6.760e-01, 1.182e+00,\n",
       "       1.963e+00, 3.035e+00, 1.414e+00, 5.320e-01, 7.340e-01, 5.450e-01,\n",
       "       5.000e-03, 6.000e-03, 3.180e-01, 5.130e-01, 4.710e-01, 1.000e-02,\n",
       "       1.200e-02, 6.770e-01, 1.100e-02, 4.020e-01, 6.320e-01, 9.230e-01,\n",
       "       5.490e-01, 7.130e-01, 2.990e-01, 6.160e-01, 7.630e-01, 6.640e-01,\n",
       "       7.560e-01, 2.341e+00, 5.920e-01, 9.000e-03])"
      ]
     },
     "metadata": {},
     "output_type": "display_data"
    },
    {
     "data": {
      "text/plain": [
       "'SIPIdlMax'"
      ]
     },
     "metadata": {},
     "output_type": "display_data"
    },
    {
     "data": {
      "text/plain": [
       "array([      nan,    15.812, 10016.792, ...,  3100.607,  3100.494,\n",
       "        3056.781])"
      ]
     },
     "metadata": {},
     "output_type": "display_data"
    },
    {
     "data": {
      "text/plain": [
       "'SIPIdlMin'"
      ]
     },
     "metadata": {},
     "output_type": "display_data"
    },
    {
     "data": {
      "text/plain": [
       "array([         nan, 4.043000e+00, 4.067000e+00, ..., 9.270000e-01,\n",
       "       4.945186e+03, 3.924700e+01])"
      ]
     },
     "metadata": {},
     "output_type": "display_data"
    },
    {
     "data": {
      "text/plain": [
       "'DIPIdlMax'"
      ]
     },
     "metadata": {},
     "output_type": "display_data"
    },
    {
     "data": {
      "text/plain": [
       "array([      nan,    19.888, 10016.798, ...,  3100.43 ,  3100.397,\n",
       "        3099.507])"
      ]
     },
     "metadata": {},
     "output_type": "display_data"
    },
    {
     "data": {
      "text/plain": [
       "'DIPIdlMin'"
      ]
     },
     "metadata": {},
     "output_type": "display_data"
    },
    {
     "data": {
      "text/plain": [
       "array([       nan, 1.8660e+00, 1.9819e+01, ..., 9.0000e-03, 8.0000e-03,\n",
       "       3.7938e+01])"
      ]
     },
     "metadata": {},
     "output_type": "display_data"
    },
    {
     "data": {
      "text/plain": [
       "'SrcJitter'"
      ]
     },
     "metadata": {},
     "output_type": "display_data"
    },
    {
     "data": {
      "text/plain": [
       "array([           nan, 4.31385400e+00, 4.71728500e+03, ...,\n",
       "       1.08686450e+03, 1.09187975e+03, 8.70384688e+02])"
      ]
     },
     "metadata": {},
     "output_type": "display_data"
    },
    {
     "data": {
      "text/plain": [
       "'DstJitter'"
      ]
     },
     "metadata": {},
     "output_type": "display_data"
    },
    {
     "data": {
      "text/plain": [
       "array([         nan,   384.061832,  4998.4895  , ..., 29841.993311,\n",
       "       30646.851295, 21517.336642])"
      ]
     },
     "metadata": {},
     "output_type": "display_data"
    },
    {
     "data": {
      "text/plain": [
       "'SrcJitAct'"
      ]
     },
     "metadata": {},
     "output_type": "display_data"
    },
    {
     "data": {
      "text/plain": [
       "array([           nan, 2.75269450e+03, 2.75768175e+03, ...,\n",
       "       3.90044200e+00, 2.92700100e+00, 1.73156200e+00])"
      ]
     },
     "metadata": {},
     "output_type": "display_data"
    },
    {
     "data": {
      "text/plain": [
       "'DstJitAct'"
      ]
     },
     "metadata": {},
     "output_type": "display_data"
    },
    {
     "data": {
      "text/plain": [
       "array([     nan, 0.258499, 0.01248 , ..., 0.030972, 0.058022, 0.14815 ])"
      ]
     },
     "metadata": {},
     "output_type": "display_data"
    },
    {
     "data": {
      "text/plain": [
       "'SrcJitIdl'"
      ]
     },
     "metadata": {},
     "output_type": "display_data"
    },
    {
     "data": {
      "text/plain": [
       "array([           nan, 4.31385400e+00, 4.71728500e+03, ...,\n",
       "       1.08686450e+03, 1.09187975e+03, 8.70384688e+02])"
      ]
     },
     "metadata": {},
     "output_type": "display_data"
    },
    {
     "data": {
      "text/plain": [
       "'DstJitIdl'"
      ]
     },
     "metadata": {},
     "output_type": "display_data"
    },
    {
     "data": {
      "text/plain": [
       "array([        nan,    8.167345, 4998.4895  , ...,  978.856688,\n",
       "        985.879187, 1018.518125])"
      ]
     },
     "metadata": {},
     "output_type": "display_data"
    },
    {
     "data": {
      "text/plain": [
       "'State'"
      ]
     },
     "metadata": {},
     "output_type": "display_data"
    },
    {
     "data": {
      "text/plain": [
       "array(['STA', 'FIN', 'CON', 'REQ', 'STP', 'RST', 'ACC', 'INT', 'NRS',\n",
       "       'MHR', 'URP'], dtype=object)"
      ]
     },
     "metadata": {},
     "output_type": "display_data"
    },
    {
     "data": {
      "text/plain": [
       "'dsPkts'"
      ]
     },
     "metadata": {},
     "output_type": "display_data"
    },
    {
     "data": {
      "text/plain": [
       "array([nan])"
      ]
     },
     "metadata": {},
     "output_type": "display_data"
    },
    {
     "data": {
      "text/plain": [
       "'ddPkts'"
      ]
     },
     "metadata": {},
     "output_type": "display_data"
    },
    {
     "data": {
      "text/plain": [
       "array([nan])"
      ]
     },
     "metadata": {},
     "output_type": "display_data"
    },
    {
     "data": {
      "text/plain": [
       "'dsBytes'"
      ]
     },
     "metadata": {},
     "output_type": "display_data"
    },
    {
     "data": {
      "text/plain": [
       "array([nan])"
      ]
     },
     "metadata": {},
     "output_type": "display_data"
    },
    {
     "data": {
      "text/plain": [
       "'ddBytes'"
      ]
     },
     "metadata": {},
     "output_type": "display_data"
    },
    {
     "data": {
      "text/plain": [
       "array([nan])"
      ]
     },
     "metadata": {},
     "output_type": "display_data"
    },
    {
     "data": {
      "text/plain": [
       "'pdsPkt'"
      ]
     },
     "metadata": {},
     "output_type": "display_data"
    },
    {
     "data": {
      "text/plain": [
       "array([nan])"
      ]
     },
     "metadata": {},
     "output_type": "display_data"
    },
    {
     "data": {
      "text/plain": [
       "'pddPkt'"
      ]
     },
     "metadata": {},
     "output_type": "display_data"
    },
    {
     "data": {
      "text/plain": [
       "array([nan])"
      ]
     },
     "metadata": {},
     "output_type": "display_data"
    },
    {
     "data": {
      "text/plain": [
       "'pdsByte'"
      ]
     },
     "metadata": {},
     "output_type": "display_data"
    },
    {
     "data": {
      "text/plain": [
       "array([nan])"
      ]
     },
     "metadata": {},
     "output_type": "display_data"
    },
    {
     "data": {
      "text/plain": [
       "'pddByte'"
      ]
     },
     "metadata": {},
     "output_type": "display_data"
    },
    {
     "data": {
      "text/plain": [
       "array([nan])"
      ]
     },
     "metadata": {},
     "output_type": "display_data"
    },
    {
     "data": {
      "text/plain": [
       "'(null)'"
      ]
     },
     "metadata": {},
     "output_type": "display_data"
    },
    {
     "data": {
      "text/plain": [
       "array([nan])"
      ]
     },
     "metadata": {},
     "output_type": "display_data"
    },
    {
     "data": {
      "text/plain": [
       "'SrcWin'"
      ]
     },
     "metadata": {},
     "output_type": "display_data"
    },
    {
     "data": {
      "text/plain": [
       "array([         nan, 6.412800e+04, 6.425600e+04, 8.222720e+06,\n",
       "       5.590000e+02, 6.336000e+04, 6.284800e+04, 6.374400e+04,\n",
       "       1.331200e+05, 5.248000e+05, 2.163072e+06, 1.835392e+06,\n",
       "       1.054720e+05, 1.015936e+06, 3.673600e+04, 1.452000e+03,\n",
       "       8.170000e+02, 4.230000e+02, 3.610000e+02, 8.340000e+02,\n",
       "       8.330000e+02, 8.290000e+02, 8.310000e+02, 6.451200e+04,\n",
       "       6.348800e+04, 6.578176e+07, 1.533900e+04, 2.915000e+03])"
      ]
     },
     "metadata": {},
     "output_type": "display_data"
    },
    {
     "data": {
      "text/plain": [
       "'DstWin'"
      ]
     },
     "metadata": {},
     "output_type": "display_data"
    },
    {
     "data": {
      "text/plain": [
       "array([         nan, 3.020800e+04, 5.836800e+04, 3.072000e+04,\n",
       "       1.482752e+07, 3.123200e+04, 3.610000e+02, 2.678000e+03,\n",
       "       3.649000e+03, 1.452000e+03, 2.698000e+03, 3.679000e+03,\n",
       "       2.658000e+03, 3.636000e+03, 3.684000e+03, 2.680000e+03,\n",
       "       1.759000e+03, 2.663000e+03, 1.717000e+03, 1.424000e+03,\n",
       "       2.918400e+04, 2.969600e+04, 1.428480e+05, 1.408000e+05,\n",
       "       1.418240e+05, 6.912000e+04, 1.351680e+05, 1.361920e+05,\n",
       "       1.377280e+05, 1.372160e+05, 1.382400e+05, 6.553600e+04,\n",
       "       6.758400e+04, 1.387520e+05, 1.397760e+05, 1.315840e+05,\n",
       "       1.310720e+05, 1.336320e+05, 1.341440e+05, 6.348800e+04,\n",
       "       1.320960e+05, 6.656000e+04, 1.402880e+05, 1.413120e+05,\n",
       "       6.246400e+04, 1.300480e+05, 1.290240e+05, 1.331200e+05,\n",
       "       4.659200e+04, 3.584000e+04, 2.913000e+03, 1.533900e+04,\n",
       "       2.914000e+03, 1.684000e+03, 1.421000e+03, 4.058000e+03,\n",
       "       4.531000e+03, 4.767000e+03])"
      ]
     },
     "metadata": {},
     "output_type": "display_data"
    },
    {
     "data": {
      "text/plain": [
       "'JDelay'"
      ]
     },
     "metadata": {},
     "output_type": "display_data"
    },
    {
     "data": {
      "text/plain": [
       "array([nan])"
      ]
     },
     "metadata": {},
     "output_type": "display_data"
    },
    {
     "data": {
      "text/plain": [
       "'LDelay'"
      ]
     },
     "metadata": {},
     "output_type": "display_data"
    },
    {
     "data": {
      "text/plain": [
       "array([nan])"
      ]
     },
     "metadata": {},
     "output_type": "display_data"
    },
    {
     "data": {
      "text/plain": [
       "'Bins'"
      ]
     },
     "metadata": {},
     "output_type": "display_data"
    },
    {
     "data": {
      "text/plain": [
       "array([nan])"
      ]
     },
     "metadata": {},
     "output_type": "display_data"
    },
    {
     "data": {
      "text/plain": [
       "'Bin'"
      ]
     },
     "metadata": {},
     "output_type": "display_data"
    },
    {
     "data": {
      "text/plain": [
       "array([nan])"
      ]
     },
     "metadata": {},
     "output_type": "display_data"
    },
    {
     "data": {
      "text/plain": [
       "'SrcTCPBase'"
      ]
     },
     "metadata": {},
     "output_type": "display_data"
    },
    {
     "data": {
      "text/plain": [
       "array([           nan, 2.41882439e+09, 5.37400042e+08, ...,\n",
       "       2.25551047e+09, 2.88195597e+09, 2.87219588e+09])"
      ]
     },
     "metadata": {},
     "output_type": "display_data"
    },
    {
     "data": {
      "text/plain": [
       "'DstTCPBase'"
      ]
     },
     "metadata": {},
     "output_type": "display_data"
    },
    {
     "data": {
      "text/plain": [
       "array([           nan, 1.76658334e+09, 8.30637207e+08, ...,\n",
       "       3.82613334e+09, 1.90325530e+09, 2.34135686e+09])"
      ]
     },
     "metadata": {},
     "output_type": "display_data"
    },
    {
     "data": {
      "text/plain": [
       "'TcpRtt'"
      ]
     },
     "metadata": {},
     "output_type": "display_data"
    },
    {
     "data": {
      "text/plain": [
       "array([0.      , 0.004098, 0.004067, ..., 0.002648, 0.002375, 0.002133])"
      ]
     },
     "metadata": {},
     "output_type": "display_data"
    },
    {
     "data": {
      "text/plain": [
       "'SynAck'"
      ]
     },
     "metadata": {},
     "output_type": "display_data"
    },
    {
     "data": {
      "text/plain": [
       "array([0.00e+00, 2.80e-05, 3.30e-05, 1.30e-05, 1.40e-05, 2.00e-05,\n",
       "       1.31e-04, 3.60e-05, 2.30e-05, 2.10e-05, 6.00e-06, 1.60e-05,\n",
       "       1.50e-05, 3.50e-05, 4.20e-05, 1.20e-05, 2.90e-05, 1.10e-05,\n",
       "       1.70e-05, 3.10e-05, 6.60e-05, 8.00e-06, 1.90e-05, 3.00e-05,\n",
       "       5.50e-05, 2.40e-05, 7.00e-06, 3.40e-05, 1.80e-05, 5.10e-05,\n",
       "       1.00e-05, 3.70e-05, 4.00e-06, 5.00e-06, 6.20e-05, 3.00e-06,\n",
       "       4.00e-05, 2.20e-05, 2.50e-05, 2.60e-05, 4.60e-05, 9.00e-06,\n",
       "       3.90e-05, 3.20e-05, 2.00e-06, 4.10e-05, 2.70e-05, 5.70e-05,\n",
       "       4.50e-05, 5.00e-05, 4.70e-05, 6.40e-05, 4.30e-05, 5.20e-05,\n",
       "       5.40e-05, 4.40e-05, 5.30e-05, 7.70e-05, 4.80e-05, 6.30e-05,\n",
       "       1.02e-04, 3.80e-05, 6.50e-05, 8.10e-05, 7.80e-05, 1.12e-04,\n",
       "       8.90e-05, 8.30e-05, 6.90e-05, 7.60e-05, 5.80e-05, 6.80e-05,\n",
       "       5.60e-05, 5.90e-05, 6.00e-05, 6.10e-05, 9.20e-05, 8.20e-05,\n",
       "       4.90e-05, 1.44e-04, 6.70e-05, 7.00e-05, 7.10e-05, 7.90e-05,\n",
       "       8.00e-05, 7.20e-05, 9.40e-05, 8.80e-05, 7.30e-05, 8.70e-05,\n",
       "       9.30e-05, 1.01e-04, 9.90e-05, 1.29e-04, 1.04e-04, 1.05e-04,\n",
       "       1.03e-04, 7.40e-05, 1.48e-04, 5.00e-04, 1.38e-04, 8.50e-05,\n",
       "       1.33e-04, 9.00e-05, 9.50e-05, 8.60e-05, 9.70e-05, 1.20e-04,\n",
       "       9.80e-05, 1.70e-04, 1.00e-04, 3.70e-04, 1.11e-04, 3.62e-04,\n",
       "       1.14e-04, 1.15e-04, 1.76e-04, 1.26e-04, 8.40e-05, 1.47e-04,\n",
       "       7.50e-05, 1.35e-04, 9.60e-05, 1.17e-04, 1.71e-04, 1.67e-04,\n",
       "       1.64e-04, 4.88e-04, 4.87e-04, 4.85e-04, 9.10e-05])"
      ]
     },
     "metadata": {},
     "output_type": "display_data"
    },
    {
     "data": {
      "text/plain": [
       "'AckDat'"
      ]
     },
     "metadata": {},
     "output_type": "display_data"
    },
    {
     "data": {
      "text/plain": [
       "array([0.      , 0.00407 , 0.004034, ..., 0.002376, 0.002123, 0.002389])"
      ]
     },
     "metadata": {},
     "output_type": "display_data"
    },
    {
     "data": {
      "text/plain": [
       "'TcpOpt'"
      ]
     },
     "metadata": {},
     "output_type": "display_data"
    },
    {
     "data": {
      "text/plain": [
       "array([nan, 'Mws   T', 'MwsS  T', '   S  T', '      T'], dtype=object)"
      ]
     },
     "metadata": {},
     "output_type": "display_data"
    },
    {
     "data": {
      "text/plain": [
       "'Inode'"
      ]
     },
     "metadata": {},
     "output_type": "display_data"
    },
    {
     "data": {
      "text/plain": [
       "array([nan, '192.168.20.134'], dtype=object)"
      ]
     },
     "metadata": {},
     "output_type": "display_data"
    },
    {
     "data": {
      "text/plain": [
       "'Offset'"
      ]
     },
     "metadata": {},
     "output_type": "display_data"
    },
    {
     "data": {
      "text/plain": [
       "array([   0,  128,  456, ..., 3264, 3592, 3920], dtype=int64)"
      ]
     },
     "metadata": {},
     "output_type": "display_data"
    },
    {
     "data": {
      "text/plain": [
       "'sPktSz'"
      ]
     },
     "metadata": {},
     "output_type": "display_data"
    },
    {
     "data": {
      "text/plain": [
       "array([nan])"
      ]
     },
     "metadata": {},
     "output_type": "display_data"
    },
    {
     "data": {
      "text/plain": [
       "'dPktSz'"
      ]
     },
     "metadata": {},
     "output_type": "display_data"
    },
    {
     "data": {
      "text/plain": [
       "array([nan])"
      ]
     },
     "metadata": {},
     "output_type": "display_data"
    },
    {
     "data": {
      "text/plain": [
       "'sMeanPktSz'"
      ]
     },
     "metadata": {},
     "output_type": "display_data"
    },
    {
     "data": {
      "text/plain": [
       "array([   0.      ,   96.5     ,  124.      , ...,  780.53656 ,\n",
       "       1052.      ,  411.142853])"
      ]
     },
     "metadata": {},
     "output_type": "display_data"
    },
    {
     "data": {
      "text/plain": [
       "'dMeanPktSz'"
      ]
     },
     "metadata": {},
     "output_type": "display_data"
    },
    {
     "data": {
      "text/plain": [
       "array([   0.      ,  377.      ,   68.666664,   68.      ,   66.      ,\n",
       "         77.714287,  143.600006,  171.454544,  439.200012,  380.333344,\n",
       "        445.200012,  382.333344,  397.857147,  397.285706,  398.428558,\n",
       "        380.666656,  381.666656,  384.      ,  382.      ,  446.799988,\n",
       "        446.      ,  381.333344,  383.      ,  443.600006,  444.799988,\n",
       "        379.666656,  382.666656,  444.399994,  383.333344,  383.666656,\n",
       "        381.      ,  446.399994,  384.333344,  396.714294,  444.      ,\n",
       "        380.      ,  445.600006,   74.      ,  443.200012,  447.600006,\n",
       "        442.799988,  339.428558,  336.571442,  442.399994,  448.      ,\n",
       "        447.200012,  338.571442,  384.666656,  400.142853,  396.142853,\n",
       "        452.5     ,  393.285706,  449.833344,  399.      ,  259.799988,\n",
       "        455.833344,  306.      ,  450.5     ,  393.857147,  451.166656,\n",
       "        338.      ,  395.      ,  395.571442,  301.899994,  338.285706,\n",
       "        326.777771,  305.25    ,  340.285706,  337.142853,  303.      ,\n",
       "        302.5     ,  339.142853,  303.75    ,  276.      ,  277.333344,\n",
       "        278.222229,  399.571442,  300.299988,  301.5     ,  280.666656,\n",
       "        280.888885,  280.222229,  307.25    ,  336.285706,  334.857147,\n",
       "        339.714294,  336.857147,  303.5     ,  338.857147,  394.428558,\n",
       "        304.5     ,  453.833344,  454.5     ,  441.600006,  442.      ,\n",
       "        441.200012,  401.285706,  539.5     ,  537.      ,  540.      ,\n",
       "        538.5     ,   71.333336,   69.      ,  455.166656,   70.      ,\n",
       "        537.5     ,  538.      ,  539.      ,  536.      ,  696.      ,\n",
       "        693.333313,  440.799988,   54.      ,  535.5     ,  408.727264,\n",
       "        409.090912,  409.272736,  411.454559,  400.714294,  451.833344,\n",
       "        408.909088,  408.181824,  410.      ,  445.      ,  358.375   ,\n",
       "        355.375   ,  360.375   ,  358.875   ,  357.875   ,  385.333344,\n",
       "        457.166656,  411.636353,  411.818176,  444.600006,  449.166656,\n",
       "        536.5     ,  453.166656,  448.5     ,  128.666672,   64.      ,\n",
       "        116.285713,  152.25    ,  130.666672,  119.714287,  141.333328,\n",
       "        977.900024,  628.213806,  320.12677 ,  152.851059,  626.827087,\n",
       "        296.014618,  127.047623,  190.796112,  279.180054,  131.956528,\n",
       "        601.383606,  280.104462,  130.740738,  657.585388,  312.173218,\n",
       "        426.895844,  164.604645,  137.190475,  171.252426,  167.327271,\n",
       "        163.34375 ,  213.379913,  139.222229,  981.665039,  263.035614,\n",
       "        157.      ,  202.798264,  259.401459,  140.75    ,  179.347275,\n",
       "        215.125687,  162.742432,  142.666672,  231.781815,  161.732285,\n",
       "        147.475006,  239.      ,  167.192307,  157.244446,  250.942032,\n",
       "        171.894119,  160.      ,  208.89772 ,  156.719101,  136.720001,\n",
       "       1244.434814,  230.399719,  228.501373,  121.755104,  228.645493,\n",
       "        214.685059,  151.319153,  224.106537,  211.832245,  179.090912,\n",
       "        132.769226,  135.666672,  534.799988,  601.833313,  456.666656,\n",
       "        458.      ,  458.666656,   66.154823,   66.833771,   66.865143,\n",
       "         66.758926,   66.70536 ,   66.75724 ,   66.762329,   66.176437,\n",
       "         66.868134,   66.865753,   66.74353 ,   66.776253,   66.772728,\n",
       "         66.769234,   66.012947,   66.175949,   66.858696,   66.863388,\n",
       "         66.750595,   66.723114,   66.77449 ,   66.890144,   66.892654,\n",
       "         66.852127,   66.794395,   66.792542,   66.787041,   66.270958,\n",
       "         66.173912,   66.872925,   66.883118,   66.719818,   66.721458,\n",
       "         66.175362,   66.829399,   66.779816,   66.186508,   66.949722,\n",
       "         66.80378 ,   66.019142,   66.023666,   66.163269,   66.166664,\n",
       "         66.275864,  240.413986,  132.444443,  827.118591,  216.29422 ,\n",
       "        837.832581,  128.291672,  147.666672,   82.      ,  244.25589 ,\n",
       "        119.098038,  160.850586,  255.314819,  126.693878,  161.320877,\n",
       "        256.372131,  119.040001,  161.563644,  254.085953,  127.020409,\n",
       "        161.904892,  280.157745,  160.5     ,  164.503113,  227.967911,\n",
       "        219.060501,  131.      ,  211.082809,  243.482071,  123.304344,\n",
       "        187.314819,  125.192307,  123.773582,  120.916664,  122.63636 ,\n",
       "        197.380951])"
      ]
     },
     "metadata": {},
     "output_type": "display_data"
    },
    {
     "data": {
      "text/plain": [
       "'sMaxPktSz'"
      ]
     },
     "metadata": {},
     "output_type": "display_data"
    },
    {
     "data": {
      "text/plain": [
       "array([       nan, 2.4100e+02, 2.3900e+02, 7.4000e+01, 1.1500e+02,\n",
       "       1.1000e+02, 8.8000e+01, 3.2200e+02, 1.5140e+03, 4.0100e+02,\n",
       "       3.6600e+02, 6.6000e+01, 3.5600e+02, 3.7800e+02, 3.9400e+02,\n",
       "       4.2100e+02, 4.1800e+02, 4.6800e+02, 3.8500e+02, 3.5900e+02,\n",
       "       3.8000e+02, 3.9100e+02, 4.3300e+02, 4.3900e+02, 4.4000e+02,\n",
       "       3.7700e+02, 3.8200e+02, 3.5300e+02, 4.0800e+02, 4.1600e+02,\n",
       "       4.4100e+02, 4.2500e+02, 3.7100e+02, 4.1000e+02, 3.6200e+02,\n",
       "       4.0000e+02, 4.4300e+02, 4.1200e+02, 3.7400e+02, 4.7800e+02,\n",
       "       3.7000e+02, 3.8300e+02, 4.1300e+02, 4.2600e+02, 4.3500e+02,\n",
       "       4.5000e+02, 4.2200e+02, 4.3100e+02, 4.2300e+02, 3.8700e+02,\n",
       "       3.9000e+02, 3.9500e+02, 4.2700e+02, 4.0400e+02, 3.8900e+02,\n",
       "       3.5700e+02, 3.7500e+02, 3.9800e+02, 4.1900e+02, 3.7300e+02,\n",
       "       3.8600e+02, 3.9900e+02, 4.6600e+02, 3.9200e+02, 4.8500e+02,\n",
       "       4.4200e+02, 4.1500e+02, 4.1700e+02, 4.4900e+02, 4.8200e+02,\n",
       "       4.2800e+02, 3.6000e+02, 4.2900e+02, 4.3600e+02, 4.3800e+02,\n",
       "       4.7700e+02, 3.8800e+02, 3.9300e+02, 3.8100e+02, 3.5500e+02,\n",
       "       4.3700e+02, 4.6200e+02, 3.7600e+02, 4.4500e+02, 3.6300e+02,\n",
       "       4.7900e+02, 3.6700e+02, 4.8100e+02, 4.0500e+02, 3.7900e+02,\n",
       "       4.0700e+02, 3.6500e+02, 3.6400e+02, 4.6500e+02, 4.0900e+02,\n",
       "       4.0200e+02, 3.7200e+02, 4.4400e+02, 3.9700e+02, 4.4600e+02,\n",
       "       4.1400e+02, 4.3000e+02, 4.6700e+02, 4.2400e+02, 4.6100e+02,\n",
       "       4.8300e+02, 4.5500e+02, 4.3400e+02, 4.6400e+02, 3.6900e+02,\n",
       "       4.0600e+02, 3.9600e+02, 4.2000e+02, 4.5800e+02, 4.8000e+02,\n",
       "       3.6800e+02, 4.0300e+02, 4.3200e+02, 4.5900e+02, 4.4700e+02,\n",
       "       4.5300e+02, 4.7600e+02, 4.7400e+02, 4.4800e+02, 3.5400e+02,\n",
       "       4.7100e+02, 4.1100e+02, 3.8400e+02, 4.5100e+02, 3.5800e+02,\n",
       "       4.8700e+02, 4.7500e+02, 4.5200e+02, 4.8800e+02, 3.4900e+02,\n",
       "       4.6300e+02, 4.5700e+02, 4.6900e+02, 4.6000e+02, 3.6100e+02,\n",
       "       4.8600e+02, 4.7300e+02, 4.7200e+02, 4.5600e+02, 3.5100e+02,\n",
       "       4.5400e+02, 4.8400e+02, 3.5200e+02, 4.7000e+02, 3.5000e+02,\n",
       "       4.8900e+02, 3.0600e+02, 3.3800e+02, 3.3600e+02, 3.1700e+02,\n",
       "       3.4600e+02, 2.8300e+02, 3.0300e+02, 3.4200e+02, 2.6800e+02,\n",
       "       3.2100e+02, 3.2300e+02, 2.8500e+02, 2.8100e+02, 9.2680e+03,\n",
       "       1.1357e+04, 1.7900e+02, 6.5780e+03, 8.2520e+03, 6.6820e+03,\n",
       "       2.1500e+02, 6.1780e+03, 6.8660e+03, 6.4180e+03, 7.2530e+03,\n",
       "       7.5630e+03, 6.9220e+03, 1.6200e+03, 7.0000e+01, 9.0000e+01,\n",
       "       6.0000e+01, 1.1800e+02, 1.3800e+02, 9.4000e+01, 8.1350e+03,\n",
       "       2.4300e+02, 9.8000e+01, 8.3000e+01, 1.6200e+02, 1.2820e+03,\n",
       "       1.0200e+02, 4.7300e+03, 1.4493e+04, 7.7340e+03, 9.0250e+03,\n",
       "       5.8580e+03, 4.9200e+02, 4.9800e+02, 1.2580e+03, 6.5226e+04])"
      ]
     },
     "metadata": {},
     "output_type": "display_data"
    },
    {
     "data": {
      "text/plain": [
       "'dMaxPktSz'"
      ]
     },
     "metadata": {},
     "output_type": "display_data"
    },
    {
     "data": {
      "text/plain": [
       "array([       nan, 1.5140e+03, 7.4000e+01, 6.6000e+01, 2.0500e+02,\n",
       "       4.0400e+02, 6.4200e+02, 5.4000e+01, 3.6600e+02, 6.1780e+03,\n",
       "       2.5377e+04, 2.1786e+04, 3.2100e+02, 1.3407e+04, 1.5730e+03,\n",
       "       2.4300e+02, 2.4500e+02, 9.3800e+02, 3.1420e+03, 1.5660e+03,\n",
       "       3.1440e+03, 2.4682e+04, 3.4700e+02, 2.8500e+02, 1.7260e+03,\n",
       "       5.0700e+02, 4.7200e+02, 1.6200e+03, 3.9200e+02, 1.4700e+03,\n",
       "       1.7740e+03, 1.5160e+03, 1.4920e+03, 1.5280e+03, 1.4560e+03,\n",
       "       3.7500e+02, 1.0434e+04, 4.6000e+02, 1.5994e+04, 1.2110e+03,\n",
       "       1.9377e+04, 9.0000e+01, 1.2200e+02, 4.8100e+02, 1.3880e+03,\n",
       "       4.9000e+02, 1.1400e+03, 5.2400e+02, 5.8580e+03, 3.6266e+04,\n",
       "       1.2620e+03, 5.9434e+04])"
      ]
     },
     "metadata": {},
     "output_type": "display_data"
    },
    {
     "data": {
      "text/plain": [
       "'sMinPktSz'"
      ]
     },
     "metadata": {},
     "output_type": "display_data"
    },
    {
     "data": {
      "text/plain": [
       "array([ nan,  66.,  74., 115., 110.,  88.,  54., 415., 429., 420., 392.,\n",
       "       370., 458., 362., 389., 366., 371., 457., 409., 374., 406., 433.,\n",
       "       393., 402., 447., 397., 411., 427., 439., 434., 365., 376., 361.,\n",
       "       441., 421., 379., 407., 408., 436., 387., 403., 422., 394., 417.,\n",
       "       372., 375., 424., 476., 465., 377., 391., 373., 448., 404., 416.,\n",
       "       443., 462., 437., 355., 418., 419., 426., 381., 388., 360., 442.,\n",
       "       400., 384., 438., 428., 358., 478., 479., 390., 395., 413., 432.,\n",
       "       378., 369., 359., 412., 396., 383., 380., 368., 451., 354., 398.,\n",
       "       466., 401., 425., 449., 489., 463., 430., 352., 399., 363., 414.,\n",
       "       468., 456., 179., 215.,  70.,  90.,  60.,  80., 100.,  94., 102.,\n",
       "       754., 306.])"
      ]
     },
     "metadata": {},
     "output_type": "display_data"
    },
    {
     "data": {
      "text/plain": [
       "'dMinPktSz'"
      ]
     },
     "metadata": {},
     "output_type": "display_data"
    },
    {
     "data": {
      "text/plain": [
       "array([nan, 66., 74., 54., 83.])"
      ]
     },
     "metadata": {},
     "output_type": "display_data"
    },
    {
     "data": {
      "text/plain": [
       "'Label'"
      ]
     },
     "metadata": {},
     "output_type": "display_data"
    },
    {
     "data": {
      "text/plain": [
       "array(['Dos'], dtype=object)"
      ]
     },
     "metadata": {},
     "output_type": "display_data"
    }
   ],
   "source": [
    "\"\"\"analizar valores de caracteristicas de dos\"\"\"\n",
    "valores_unicos(df_dos,caracteristicas)"
   ]
  },
  {
   "cell_type": "code",
   "execution_count": 153,
   "metadata": {},
   "outputs": [
    {
     "data": {
      "text/plain": [
       "'SrcId'"
      ]
     },
     "metadata": {},
     "output_type": "display_data"
    },
    {
     "data": {
      "text/plain": [
       "array(['127.0.1.1'], dtype=object)"
      ]
     },
     "metadata": {},
     "output_type": "display_data"
    },
    {
     "data": {
      "text/plain": [
       "'Rank'"
      ]
     },
     "metadata": {},
     "output_type": "display_data"
    },
    {
     "data": {
      "text/plain": [
       "array([       nan, 1.0000e+00, 2.0000e+00, ..., 4.8403e+04, 4.8404e+04,\n",
       "       4.8405e+04])"
      ]
     },
     "metadata": {},
     "output_type": "display_data"
    },
    {
     "data": {
      "text/plain": [
       "'StartTime'"
      ]
     },
     "metadata": {},
     "output_type": "display_data"
    },
    {
     "data": {
      "text/plain": [
       "array(['20:50:26.556879', '09:02:10.588832', '09:02:15.739530', ...,\n",
       "       '08:59:15.697779', '08:59:15.697876', '20:51:23.190450'],\n",
       "      dtype=object)"
      ]
     },
     "metadata": {},
     "output_type": "display_data"
    },
    {
     "data": {
      "text/plain": [
       "'LastTime'"
      ]
     },
     "metadata": {},
     "output_type": "display_data"
    },
    {
     "data": {
      "text/plain": [
       "array(['20:50:26.537447', '09:02:10.588862', '09:02:15.739622', ...,\n",
       "       '08:59:15.697728', '08:59:15.697779', '08:59:15.697876'],\n",
       "      dtype=object)"
      ]
     },
     "metadata": {},
     "output_type": "display_data"
    },
    {
     "data": {
      "text/plain": [
       "'SrcStartTime'"
      ]
     },
     "metadata": {},
     "output_type": "display_data"
    },
    {
     "data": {
      "text/plain": [
       "array(['20:50:26.537447', '09:02:10.588832', '09:02:15.739530', ...,\n",
       "       '08:59:15.697728', '08:59:15.697779', '08:59:15.697876'],\n",
       "      dtype=object)"
      ]
     },
     "metadata": {},
     "output_type": "display_data"
    },
    {
     "data": {
      "text/plain": [
       "'DstStartTime'"
      ]
     },
     "metadata": {},
     "output_type": "display_data"
    },
    {
     "data": {
      "text/plain": [
       "array(['20:50:26.537447', '09:02:10.588862', '09:02:15.739622', ...,\n",
       "       '08:59:07.584361', '08:59:07.582608', '08:59:12.701778'],\n",
       "      dtype=object)"
      ]
     },
     "metadata": {},
     "output_type": "display_data"
    },
    {
     "data": {
      "text/plain": [
       "'SrcLastTime'"
      ]
     },
     "metadata": {},
     "output_type": "display_data"
    },
    {
     "data": {
      "text/plain": [
       "array(['20:50:26.556879', '09:02:10.588832', '09:02:15.739530', ...,\n",
       "       '08:59:15.697779', '08:59:15.697876', '20:51:23.190450'],\n",
       "      dtype=object)"
      ]
     },
     "metadata": {},
     "output_type": "display_data"
    },
    {
     "data": {
      "text/plain": [
       "'DstLastTime'"
      ]
     },
     "metadata": {},
     "output_type": "display_data"
    },
    {
     "data": {
      "text/plain": [
       "array(['20:50:26.556879', '09:02:10.588862', '09:02:15.739622', ...,\n",
       "       '08:59:07.582608', '08:59:12.701778', '20:51:23.190450'],\n",
       "      dtype=object)"
      ]
     },
     "metadata": {},
     "output_type": "display_data"
    },
    {
     "data": {
      "text/plain": [
       "'Trans'"
      ]
     },
     "metadata": {},
     "output_type": "display_data"
    },
    {
     "data": {
      "text/plain": [
       "array([nan,  1.])"
      ]
     },
     "metadata": {},
     "output_type": "display_data"
    },
    {
     "data": {
      "text/plain": [
       "'Seq'"
      ]
     },
     "metadata": {},
     "output_type": "display_data"
    },
    {
     "data": {
      "text/plain": [
       "array([    0,     1,     2, ..., 48205, 48206, 48207], dtype=int64)"
      ]
     },
     "metadata": {},
     "output_type": "display_data"
    },
    {
     "data": {
      "text/plain": [
       "'Flgs'"
      ]
     },
     "metadata": {},
     "output_type": "display_data"
    },
    {
     "data": {
      "text/plain": [
       "array(['          ', ' e        ', ' eU       ', ' e g      ',\n",
       "       ' e d      ', ' *U       '], dtype=object)"
      ]
     },
     "metadata": {},
     "output_type": "display_data"
    },
    {
     "data": {
      "text/plain": [
       "'RunTime'"
      ]
     },
     "metadata": {},
     "output_type": "display_data"
    },
    {
     "data": {
      "text/plain": [
       "array([          nan, 3.0000000e-05, 9.2000000e-05, ..., 1.5214400e-01,\n",
       "       3.0032200e+00, 1.3975573e+01])"
      ]
     },
     "metadata": {},
     "output_type": "display_data"
    },
    {
     "data": {
      "text/plain": [
       "'Dur'"
      ]
     },
     "metadata": {},
     "output_type": "display_data"
    },
    {
     "data": {
      "text/plain": [
       "array([1.9432000e-02, 3.0000000e-05, 9.2000000e-05, ..., 3.0032200e+00,\n",
       "       1.3975573e+01, 1.0270650e+00])"
      ]
     },
     "metadata": {},
     "output_type": "display_data"
    },
    {
     "data": {
      "text/plain": [
       "'SrcDur'"
      ]
     },
     "metadata": {},
     "output_type": "display_data"
    },
    {
     "data": {
      "text/plain": [
       "array([1.9432000e-02, 0.0000000e+00, 6.3420000e-03, ..., 3.0032200e+00,\n",
       "       1.3975573e+01, 1.0270650e+00])"
      ]
     },
     "metadata": {},
     "output_type": "display_data"
    },
    {
     "data": {
      "text/plain": [
       "'DstDur'"
      ]
     },
     "metadata": {},
     "output_type": "display_data"
    },
    {
     "data": {
      "text/plain": [
       "array([1.9432000e-02, 0.0000000e+00, 6.0161350e+00, 1.1056342e+01,\n",
       "       5.0493730e+00, 5.0528100e+00, 5.0486890e+00, 5.0485570e+00,\n",
       "       2.7300000e-04, 5.0532910e+00, 5.0474430e+00, 1.7700000e-04,\n",
       "       7.5528580e+00, 4.1700000e-04, 5.0509740e+00, 2.9300000e-04,\n",
       "       5.0496660e+00, 3.8700000e-04, 5.0488780e+00, 1.7000000e-04,\n",
       "       5.0497810e+00, 1.9300000e-04, 5.0450300e+00, 2.2900000e-04,\n",
       "       5.0481420e+00, 3.1600000e-04, 5.0483920e+00, 6.2300000e-04,\n",
       "       5.0536270e+00, 2.3100000e-04, 5.0513160e+00, 2.6700000e-04,\n",
       "       5.0510040e+00, 9.2700000e-04, 7.5501890e+00, 2.2800000e-04,\n",
       "       5.0497910e+00, 2.7400000e-04, 5.0489510e+00, 1.6700000e-04,\n",
       "       5.0491310e+00, 7.1300000e-04, 5.0520630e+00, 2.6400000e-04,\n",
       "       5.0517400e+00, 1.8000000e-04, 5.0521100e+00, 4.4700000e-04,\n",
       "       5.0523180e+00, 3.6400000e-04, 5.0507190e+00, 3.6600000e-04,\n",
       "       5.0504770e+00, 4.1000000e-04, 5.0544360e+00, 1.8700000e-04,\n",
       "       1.1891000e-02, 9.7330000e-03, 9.4330000e-03, 8.8650000e-03,\n",
       "       4.0940000e-03, 1.0815000e-02, 6.0771000e-02, 1.0471980e+00,\n",
       "       1.4977600e-01, 4.8000000e-05, 4.9400000e-04, 1.2200000e-04,\n",
       "       2.2100000e-04, 6.6600000e-04, 6.0147630e+00, 1.1060401e+01,\n",
       "       5.0537780e+00, 5.0455960e+00, 5.0494240e+00, 5.0487080e+00,\n",
       "       5.0453380e+00, 5.0468510e+00, 3.7600000e-04, 7.5506110e+00,\n",
       "       5.0505100e+00, 2.8700000e-04, 5.0511720e+00, 1.7300000e-04,\n",
       "       5.0486510e+00, 2.8400000e-04, 5.0488460e+00, 3.5300000e-04,\n",
       "       5.0483630e+00, 8.2200000e-04, 5.0537730e+00, 5.5900000e-04,\n",
       "       5.0511400e+00, 9.2900000e-04, 5.0463790e+00, 2.0600000e-04,\n",
       "       5.0500160e+00, 7.7300000e-04, 5.0497450e+00, 7.5500970e+00,\n",
       "       2.5900000e-04, 5.0480330e+00, 2.7000000e-04, 5.0526410e+00,\n",
       "       5.3500000e-04, 5.0510000e+00, 3.3400000e-04, 5.0451300e+00,\n",
       "       2.7700000e-04, 5.0498150e+00, 2.9000000e-04, 5.0489640e+00,\n",
       "       4.2200000e-04, 5.0487470e+00, 4.3400000e-04, 5.0496870e+00,\n",
       "       5.0522600e+00, 1.7600000e-04, 5.0539630e+00, 4.7900000e-04,\n",
       "       7.1660000e-03, 4.8910000e-03, 4.9330000e-03, 6.1830000e-03,\n",
       "       5.1080000e-03, 6.7894000e-02, 1.0434970e+00, 1.4287200e-01,\n",
       "       1.2180000e-03, 4.4800000e-04, 5.2000000e-04, 2.2300000e-04,\n",
       "       3.8300000e-04, 2.3000000e-05, 1.0294160e+00, 9.3290000e-03,\n",
       "       1.9141268e+01, 1.9999844e+01, 1.9999876e+01, 1.8412083e+01,\n",
       "       1.9955399e+01, 1.9999849e+01, 1.9999798e+01, 1.9999634e+01,\n",
       "       1.9999495e+01, 1.9809570e+01, 1.9999113e+01, 1.9999870e+01,\n",
       "       1.9998693e+01, 1.9998669e+01, 1.9998791e+01, 1.9997540e+01,\n",
       "       1.9999989e+01, 1.9999847e+01, 1.9998697e+01, 1.9999941e+01,\n",
       "       1.9999756e+01, 1.9373175e+01, 1.8600368e+01, 1.9996998e+01,\n",
       "       1.9166559e+01, 1.9969625e+01, 1.9899815e+01, 1.8011478e+01,\n",
       "       1.9999903e+01, 1.8600550e+01, 1.8778105e+01, 1.9998653e+01,\n",
       "       1.8601505e+01, 1.9998938e+01, 1.9999918e+01, 1.9999430e+01,\n",
       "       1.9999537e+01, 1.9999950e+01, 1.9999086e+01, 1.9999741e+01,\n",
       "       1.9999245e+01, 1.9996834e+01, 1.9999052e+01, 1.9999517e+01,\n",
       "       1.9997517e+01, 1.8599585e+01, 1.9999935e+01, 1.9999243e+01,\n",
       "       1.8600971e+01, 1.9998993e+01, 1.9996569e+01, 1.9999863e+01,\n",
       "       1.9999357e+01, 1.9998816e+01, 1.9999556e+01, 1.9999834e+01,\n",
       "       1.9733244e+01, 1.9704189e+01, 1.8599894e+01, 1.9992073e+01,\n",
       "       1.9667614e+01, 1.8599901e+01, 1.8672646e+01, 1.9941635e+01,\n",
       "       1.8601391e+01, 1.9101828e+01, 1.9599710e+01, 1.7010706e+01,\n",
       "       1.7501535e+01, 1.9567419e+01, 1.8708885e+01, 1.9000868e+01,\n",
       "       1.9524733e+01, 1.9999769e+01, 1.7401770e+01, 1.9490654e+01,\n",
       "       1.9999197e+01, 1.8901730e+01, 1.9452526e+01, 1.9998005e+01,\n",
       "       1.7300987e+01, 1.9421829e+01, 1.9999836e+01, 1.8800131e+01,\n",
       "       1.9381651e+01, 1.9999132e+01, 1.8686569e+01, 1.9351549e+01,\n",
       "       1.8995146e+01, 1.8700111e+01, 1.9417261e+01, 1.8600809e+01,\n",
       "       1.7106895e+01, 1.9278122e+01, 1.8601027e+01, 1.8600763e+01,\n",
       "       1.9650101e+01, 1.6901806e+01, 1.6999924e+01, 1.9230604e+01,\n",
       "       1.8600225e+01, 1.8599298e+01, 1.9883842e+01, 1.6906998e+01,\n",
       "       1.9999928e+01, 1.9551069e+01, 1.9999872e+01, 1.9999376e+01,\n",
       "       1.9717005e+01, 1.9999817e+01, 1.9999947e+01, 1.9883738e+01,\n",
       "       1.9999916e+01, 1.9999529e+01, 1.9235298e+01, 1.9999973e+01,\n",
       "       1.7627813e+01, 1.9232061e+01, 1.9999159e+01, 1.9999628e+01,\n",
       "       1.9233589e+01, 1.9999659e+01, 1.9700689e+01, 1.9231567e+01,\n",
       "       1.9998659e+01, 1.8473057e+01, 1.9234594e+01, 1.9997458e+01,\n",
       "       1.9600920e+01, 1.9376726e+01, 1.8798357e+01, 1.8074879e+01,\n",
       "       1.9232742e+01, 1.9400723e+01, 1.9500690e+01, 1.9602419e+01,\n",
       "       1.7800070e+01, 1.7901009e+01, 1.9455439e+01, 1.9301916e+01,\n",
       "       1.9401339e+01, 1.9831306e+01, 1.7702105e+01, 1.7800013e+01,\n",
       "       1.9234751e+01, 1.9204926e+01, 1.9300793e+01, 1.9229527e+01,\n",
       "       1.7600582e+01, 1.7699427e+01, 1.9235193e+01, 1.9099453e+01,\n",
       "       1.9200483e+01, 1.9238386e+01, 1.7499989e+01, 1.7599293e+01,\n",
       "       1.9233702e+01, 1.9000484e+01, 1.9101852e+01, 1.9233656e+01,\n",
       "       1.7399046e+01, 1.7500568e+01, 1.9233900e+01, 1.8902016e+01,\n",
       "       1.8999666e+01, 1.9232677e+01, 1.7302197e+01, 1.7400473e+01,\n",
       "       1.9322062e+01, 1.8802511e+01, 1.8900352e+01, 1.9231384e+01,\n",
       "       1.7202312e+01, 1.7299982e+01, 1.9552511e+01, 1.8701771e+01,\n",
       "       1.9214125e+01, 1.7210131e+01, 1.7329752e+01, 1.9791534e+01,\n",
       "       1.9999657e+01, 1.9999716e+01, 1.9234692e+01, 1.7503887e+01,\n",
       "       1.7628658e+01, 1.9232681e+01, 1.9998281e+01, 1.9999681e+01,\n",
       "       1.9241653e+01, 1.9999615e+01, 1.9096991e+01, 1.8159901e+01,\n",
       "       1.9096348e+01, 1.8972340e+01, 1.9971685e+01, 1.9029419e+01,\n",
       "       1.8673592e+01, 1.8947454e+01, 1.8794657e+01, 1.8667704e+01,\n",
       "       1.9924904e+01, 1.9802658e+01, 1.9935808e+01, 1.9597961e+01,\n",
       "       1.8200727e+01, 1.8300646e+01, 1.9714333e+01, 1.9700624e+01,\n",
       "       1.9801695e+01, 1.9823072e+01, 1.8102068e+01, 1.8200466e+01,\n",
       "       1.9032070e+01, 1.9602423e+01, 1.9700426e+01, 1.9029203e+01,\n",
       "       1.9065735e+01, 1.9966644e+01, 1.9032749e+01, 1.9637524e+01,\n",
       "       1.9600534e+01, 1.9030701e+01, 1.7900774e+01, 1.8000959e+01,\n",
       "       1.9029686e+01, 1.9401455e+01, 1.9502827e+01, 1.9031418e+01,\n",
       "       1.7801161e+01, 1.7900379e+01, 1.9096516e+01, 1.9302448e+01,\n",
       "       1.9399780e+01, 1.9030296e+01, 1.9867647e+01, 1.9768364e+01,\n",
       "       1.9334810e+01, 1.9542686e+01, 1.9300114e+01, 1.9999268e+01,\n",
       "       1.9947165e+01, 1.7699816e+01, 1.9998949e+01, 1.9101143e+01,\n",
       "       1.9199862e+01, 1.9999222e+01, 1.7501968e+01, 1.7600527e+01,\n",
       "       1.9000383e+01, 1.9101072e+01, 1.9998072e+01, 1.9999704e+01,\n",
       "       1.9700085e+01, 1.9998217e+01, 1.9999773e+01, 1.9998823e+01,\n",
       "       1.9997877e+01, 1.7928583e+01, 1.9855330e+01, 1.9999969e+01,\n",
       "       1.9999842e+01, 1.9819666e+01, 1.9999632e+01, 1.9999687e+01,\n",
       "       1.9295624e+01, 1.9999329e+01, 1.8897078e+01, 1.9220455e+01,\n",
       "       1.9999479e+01, 1.9648466e+01, 1.8993401e+01, 1.9998901e+01,\n",
       "       1.8601461e+01, 1.9580536e+01, 9.9995950e+00, 1.0099593e+01,\n",
       "       2.3980520e+00, 1.0284490e+00, 9.1990000e-03, 1.9301628e+01,\n",
       "       1.9472330e+01, 1.8294722e+01, 1.9457577e+01, 1.8273344e+01,\n",
       "       1.9200748e+01, 1.9200329e+01, 1.9301607e+01, 1.9999611e+01,\n",
       "       1.9999987e+01, 1.7872580e+01, 1.9997435e+01, 1.9201120e+01,\n",
       "       1.9219673e+01, 1.9219868e+01, 1.7600700e+01, 1.9478327e+01,\n",
       "       1.9483505e+01, 1.9100594e+01, 1.7404549e+01, 1.8737705e+01,\n",
       "       1.7500116e+01, 1.8907328e+01, 1.8905746e+01, 1.9001610e+01,\n",
       "       1.8184093e+01, 1.7299618e+01, 1.7400433e+01, 1.8803988e+01,\n",
       "       1.8803228e+01, 1.8899532e+01, 1.7373562e+01, 1.7201912e+01,\n",
       "       1.7300512e+01, 1.8703621e+01, 1.9715038e+01, 1.8801289e+01,\n",
       "       1.9554153e+01, 1.7104961e+01, 1.7200329e+01, 1.9558006e+01,\n",
       "       1.8602270e+01, 1.8700768e+01, 1.7204992e+01, 1.9965265e+01,\n",
       "       1.7100630e+01, 1.9976748e+01, 1.9820272e+01, 1.8600393e+01,\n",
       "       1.9874325e+01, 1.9571543e+01, 1.7001228e+01, 1.9803310e+01,\n",
       "       1.9497177e+01, 1.8629297e+01, 1.9810242e+01, 1.9511290e+01,\n",
       "       1.7228930e+01, 1.9809740e+01, 1.9595251e+01, 1.8928350e+01,\n",
       "       1.9810705e+01, 1.9526283e+01, 1.9999714e+01, 1.9807495e+01,\n",
       "       1.9805754e+01, 1.9999247e+01, 1.9805349e+01, 1.9804911e+01,\n",
       "       1.9999899e+01, 1.9803516e+01, 1.9801935e+01, 1.9999498e+01,\n",
       "       1.9804504e+01, 1.9804743e+01, 1.9999199e+01, 1.9885130e+01,\n",
       "       1.9884022e+01, 1.9999281e+01, 1.9805296e+01, 1.9744968e+01,\n",
       "       1.9999802e+01, 1.9813581e+01, 1.9757799e+01, 1.9999672e+01,\n",
       "       1.9806105e+01, 1.9754442e+01, 1.9999393e+01, 1.9804287e+01,\n",
       "       1.9761551e+01, 1.8599771e+01, 1.9864067e+01, 1.9764889e+01,\n",
       "       1.9400816e+01, 1.9861319e+01, 1.9773674e+01, 1.7800379e+01,\n",
       "       1.9878525e+01, 1.9258213e+01, 1.9300062e+01, 1.9879465e+01,\n",
       "       1.9787697e+01, 1.7701817e+01, 1.9877716e+01, 1.9789768e+01,\n",
       "       1.9200293e+01, 1.9999554e+01, 1.9999905e+01, 1.7599771e+01,\n",
       "       1.9903820e+01, 1.9970325e+01, 1.9101521e+01, 1.9999651e+01,\n",
       "       1.9951244e+01, 1.7500603e+01, 1.9999157e+01, 1.9934258e+01,\n",
       "       1.9000780e+01, 1.9992235e+01, 1.9895832e+01, 1.7400059e+01,\n",
       "       1.9996679e+01, 1.9896240e+01, 1.8898600e+01, 1.9997986e+01,\n",
       "       1.9877522e+01, 1.7300932e+01, 1.9865454e+01, 1.9900759e+01,\n",
       "       1.8927841e+01, 1.9864975e+01, 1.9840002e+01, 1.7528660e+01,\n",
       "       1.9866577e+01, 1.9826332e+01, 1.9999702e+01, 1.9860699e+01,\n",
       "       1.9821867e+01, 1.9999813e+01, 1.9852839e+01, 1.9819729e+01,\n",
       "       1.9072596e+01, 1.9848476e+01, 1.9824038e+01, 1.8873110e+01,\n",
       "       1.9846884e+01, 1.9829039e+01, 1.8772579e+01, 1.9919258e+01,\n",
       "       1.9917574e+01, 1.8474512e+01, 1.9842266e+01, 1.9834770e+01,\n",
       "       1.8600496e+01, 1.9841902e+01, 1.9838905e+01, 1.9901024e+01,\n",
       "       1.9848446e+01, 1.9846622e+01, 1.8300480e+01, 1.9859543e+01,\n",
       "       1.9852285e+01, 1.9800360e+01, 1.9856758e+01, 1.9854673e+01,\n",
       "       1.8201414e+01, 1.9859253e+01, 1.9857367e+01, 1.9700012e+01,\n",
       "       1.9864281e+01, 1.9863417e+01, 1.8099409e+01, 1.9871140e+01,\n",
       "       1.9867455e+01, 1.9602007e+01, 1.9889481e+01, 1.9889889e+01,\n",
       "       1.8001120e+01, 1.9899334e+01, 1.9899639e+01, 1.9500984e+01,\n",
       "       1.9900070e+01, 1.9899179e+01, 1.7901428e+01, 1.9908541e+01,\n",
       "       1.9907986e+01, 1.9399998e+01, 1.9907497e+01, 1.9907385e+01,\n",
       "       1.7800707e+01, 1.9913967e+01, 1.9913555e+01, 1.9300600e+01,\n",
       "       1.9927916e+01, 1.9928106e+01, 1.7700409e+01, 1.9935324e+01,\n",
       "       1.9935089e+01, 1.9200977e+01, 1.9941223e+01, 1.9940199e+01,\n",
       "       1.7600719e+01, 1.9954281e+01, 1.9954105e+01, 1.9999828e+01,\n",
       "       1.9967670e+01, 1.9968653e+01, 1.9999290e+01, 1.9959818e+01,\n",
       "       1.9955412e+01, 1.9999552e+01, 1.9216356e+01, 1.9209436e+01,\n",
       "       1.9272940e+01, 1.9148588e+01, 1.9932718e+01, 1.9073326e+01,\n",
       "       1.9420813e+01, 1.9953453e+01, 1.8873146e+01, 1.9970184e+01,\n",
       "       1.9999977e+01, 1.8799686e+01, 1.9878902e+01, 1.9971840e+01,\n",
       "       1.8473351e+01, 1.9704798e+01, 1.9984409e+01, 1.8700535e+01,\n",
       "       1.9695818e+01, 1.9997683e+01, 1.8076698e+01, 1.9679152e+01,\n",
       "       1.9996159e+01, 1.8600599e+01, 1.9682421e+01, 1.9988602e+01,\n",
       "       1.7674349e+01, 1.9665295e+01, 1.9978910e+01, 1.9247496e+01,\n",
       "       1.9669439e+01, 1.9967087e+01, 1.7318029e+01, 1.9662443e+01,\n",
       "       1.9967724e+01, 1.8600695e+01, 1.9653784e+01, 1.9974569e+01,\n",
       "       1.9899761e+01, 1.9869404e+01, 1.9982553e+01, 1.8299992e+01,\n",
       "       1.9850525e+01, 1.9988058e+01, 1.9800737e+01, 1.9726704e+01,\n",
       "       1.9895014e+01, 1.9954454e+01, 1.9343077e+01, 1.9397373e+01,\n",
       "       1.9700397e+01, 1.9999868e+01, 1.8601025e+01, 1.8101627e+01,\n",
       "       1.9322556e+01, 1.8598120e+01, 1.9601019e+01, 1.9976706e+01,\n",
       "       1.6982792e+01, 1.8001400e+01, 1.8583549e+01, 1.8601194e+01,\n",
       "       1.9500750e+01, 1.8601204e+01, 1.9609329e+01, 1.9757374e+01,\n",
       "       1.8603144e+01, 1.9999729e+01, 1.9999765e+01, 1.9999569e+01,\n",
       "       1.9999701e+01, 1.8507561e+01, 1.9998760e+01, 1.9999407e+01,\n",
       "       1.7106911e+01, 1.9995678e+01, 1.9999655e+01, 1.8806816e+01,\n",
       "       1.9793722e+01, 1.9999960e+01, 1.9999451e+01, 1.9824858e+01,\n",
       "       1.9872780e+01, 1.9998974e+01, 1.9279896e+01, 1.9101250e+01,\n",
       "       1.9248219e+01, 1.8606010e+01, 1.8473825e+01, 1.9187721e+01,\n",
       "       1.8601854e+01, 1.9000595e+01, 1.8601606e+01, 1.9999996e+01,\n",
       "       1.8072657e+01, 3.1065050e+00, 2.3146250e+00, 3.0167300e-01,\n",
       "       1.0293750e+00, 9.4900000e-03, 6.0184420e+00, 1.8998000e-02,\n",
       "       2.2756000e-02, 9.5260000e-03, 1.3937000e-02, 8.7550000e-03,\n",
       "       1.0970000e-02, 1.5053800e-01, 6.0202490e+00, 1.1548000e-02,\n",
       "       2.7454000e-02, 1.9084000e-02, 2.0845000e-02, 1.5600000e-02,\n",
       "       5.5100000e-03, 1.5115200e-01, 1.0270650e+00])"
      ]
     },
     "metadata": {},
     "output_type": "display_data"
    },
    {
     "data": {
      "text/plain": [
       "'Mean'"
      ]
     },
     "metadata": {},
     "output_type": "display_data"
    },
    {
     "data": {
      "text/plain": [
       "array([          nan, 3.0000000e-05, 9.2000000e-05, ..., 1.5214400e-01,\n",
       "       3.0032200e+00, 1.3975573e+01])"
      ]
     },
     "metadata": {},
     "output_type": "display_data"
    },
    {
     "data": {
      "text/plain": [
       "'StdDev'"
      ]
     },
     "metadata": {},
     "output_type": "display_data"
    },
    {
     "data": {
      "text/plain": [
       "array([nan,  0.])"
      ]
     },
     "metadata": {},
     "output_type": "display_data"
    },
    {
     "data": {
      "text/plain": [
       "'Sum'"
      ]
     },
     "metadata": {},
     "output_type": "display_data"
    },
    {
     "data": {
      "text/plain": [
       "array([          nan, 3.0000000e-05, 9.2000000e-05, ..., 1.5214400e-01,\n",
       "       3.0032200e+00, 1.3975573e+01])"
      ]
     },
     "metadata": {},
     "output_type": "display_data"
    },
    {
     "data": {
      "text/plain": [
       "'Min'"
      ]
     },
     "metadata": {},
     "output_type": "display_data"
    },
    {
     "data": {
      "text/plain": [
       "array([          nan, 3.0000000e-05, 9.2000000e-05, ..., 1.5214400e-01,\n",
       "       3.0032200e+00, 1.3975573e+01])"
      ]
     },
     "metadata": {},
     "output_type": "display_data"
    },
    {
     "data": {
      "text/plain": [
       "'Max'"
      ]
     },
     "metadata": {},
     "output_type": "display_data"
    },
    {
     "data": {
      "text/plain": [
       "array([          nan, 3.0000000e-05, 9.2000000e-05, ..., 1.5214400e-01,\n",
       "       3.0032200e+00, 1.3975573e+01])"
      ]
     },
     "metadata": {},
     "output_type": "display_data"
    },
    {
     "data": {
      "text/plain": [
       "'Dir'"
      ]
     },
     "metadata": {},
     "output_type": "display_data"
    },
    {
     "data": {
      "text/plain": [
       "array([nan, '  <?>', '  who', '   ->', '  <->', '   ?>'], dtype=object)"
      ]
     },
     "metadata": {},
     "output_type": "display_data"
    },
    {
     "data": {
      "text/plain": [
       "'SrcAddr'"
      ]
     },
     "metadata": {},
     "output_type": "display_data"
    },
    {
     "data": {
      "text/plain": [
       "array(['0', '200.175.2.130', '172.17.0.1', '172.17.0.2', '192.168.8.128',\n",
       "       '192.168.8.129', '192.168.8.1', '00:50:56:c0:00:01',\n",
       "       'fe80::20c:29ff:fe2d:746b', 'fe80::20c:29ff:fe92:12c4',\n",
       "       '192.168.20.129', '192.168.20.2', '192.168.20.134',\n",
       "       '192.168.20.133', '192.168.20.132', '192.168.20.131',\n",
       "       '192.168.20.1', 'fe80::20c:29ff:fe92:12ce'], dtype=object)"
      ]
     },
     "metadata": {},
     "output_type": "display_data"
    },
    {
     "data": {
      "text/plain": [
       "'DstAddr'"
      ]
     },
     "metadata": {},
     "output_type": "display_data"
    },
    {
     "data": {
      "text/plain": [
       "array(['0', '172.17.0.2', '172.17.0.1', '8.8.8.8', '8.8.4.4', '52',\n",
       "       '192.168.8.129', '192.168.8.128', '239.255.255.250',\n",
       "       '01:80:c2:00:00:0e', '192.168.8.255', '24', 'ff02::2', 'ff02::fb',\n",
       "       '224.0.0.251', '18', '192.168.20.130', '192.168.20.131',\n",
       "       '192.168.20.132', '192.168.20.133', '192.168.20.134',\n",
       "       '192.168.20.2', '200.175.2.130', '192.168.20.129', '255.127.0.0',\n",
       "       '2019'], dtype=object)"
      ]
     },
     "metadata": {},
     "output_type": "display_data"
    },
    {
     "data": {
      "text/plain": [
       "'Proto'"
      ]
     },
     "metadata": {},
     "output_type": "display_data"
    },
    {
     "data": {
      "text/plain": [
       "array(['man', 'tcp', 'arp', 'udp', 'icmp', 'lldp', 'ipv6-icmp', 'gmtp',\n",
       "       'cpnx', 'ipcomp', 'unas', 'ipcv', 'sat-mon', 'pup', 'bbn-rcc',\n",
       "       'sep', 'a/n', 'ddp', 'ipip', 'rsvp', 'uti', 'ptp', 'ipv6', 'st2',\n",
       "       'idpr-cmtp', 'mobile', 'isis', 'sm', 'vrrp', 'xns-idp', 'scps',\n",
       "       'tp++', 'l2tp', 'cbt', 'crudp', 'eigrp', 'snp', 'sps', 'prm',\n",
       "       'iso-tp4', 'idrp', 'srp', 'chaos', 'ddx', 'igp', 'ipx-n-ip',\n",
       "       'ipv6-opts', 'gre', 'argus', 'fire', 'xnet', 'wb-expak', 'any',\n",
       "       'leaf-2', 'pvp', 'sun-nd', 'tlsp', 'aes-sp3-d', 'aris', 'iatp',\n",
       "       'dgp', 'sprite-rpc', 'visa', 'emcon', 'sccopmce', 'wb-mon', 'xtp',\n",
       "       'ttp', 'bna', 'ib', 'netblt', 'nvp', 'br-sat-mon', 'mtp', 'crtp',\n",
       "       'hmp', 'ipv6-frag', 'compaq-peer', 'swipe', 'kryptolan', 'rdp',\n",
       "       'larp', 'fc', 'smp', 'skip', 'ip', 'rvd', 'mhrp', 'irtp', 'idpr',\n",
       "       'trunk-2', 'ah', 'cftp', 'encap', 'iso-ip', 'i-nlsp', '3pc', 'stp',\n",
       "       'igmp', 'ipv6-no', 'narp', 'sdrp', 'sat-expak', 'qnx', 'ggp',\n",
       "       'egp', 'il', 'mfe-nsp', 'merit-inp', 'micp', 'ipv6-route',\n",
       "       'pri-enc', 'iplt', 'nsfnet-igp', 'tcf', 'ippc', 'pgm', 'pipe',\n",
       "       'etherip', 'vines', 'mux', 'trunk-1', 'ifmp', 'pnni',\n",
       "       'secure-vmtp', 'cphb', 'dcn', 'leaf-1', 'ax.25', 'ospf', 'vmtp',\n",
       "       'wsn', 'ipnip', 'zero', 'sctp'], dtype=object)"
      ]
     },
     "metadata": {},
     "output_type": "display_data"
    },
    {
     "data": {
      "text/plain": [
       "'Sport'"
      ]
     },
     "metadata": {},
     "output_type": "display_data"
    },
    {
     "data": {
      "text/plain": [
       "array(['0', '54504', nan, ..., '45648', '56464', '35912'], dtype=object)"
      ]
     },
     "metadata": {},
     "output_type": "display_data"
    },
    {
     "data": {
      "text/plain": [
       "'Dport'"
      ]
     },
     "metadata": {},
     "output_type": "display_data"
    },
    {
     "data": {
      "text/plain": [
       "array(['0', 'http', nan, ..., '0xcf05', '0xeaad', '0xaf96'], dtype=object)"
      ]
     },
     "metadata": {},
     "output_type": "display_data"
    },
    {
     "data": {
      "text/plain": [
       "'sTos'"
      ]
     },
     "metadata": {},
     "output_type": "display_data"
    },
    {
     "data": {
      "text/plain": [
       "array([ nan,   0., 192.,   8., 245., 223.])"
      ]
     },
     "metadata": {},
     "output_type": "display_data"
    },
    {
     "data": {
      "text/plain": [
       "'dTos'"
      ]
     },
     "metadata": {},
     "output_type": "display_data"
    },
    {
     "data": {
      "text/plain": [
       "array([ nan,   0.,   8., 192.])"
      ]
     },
     "metadata": {},
     "output_type": "display_data"
    },
    {
     "data": {
      "text/plain": [
       "'sDSb'"
      ]
     },
     "metadata": {},
     "output_type": "display_data"
    },
    {
     "data": {
      "text/plain": [
       "array([nan, 'cs0', 'cs6', ' 2', '61', '55'], dtype=object)"
      ]
     },
     "metadata": {},
     "output_type": "display_data"
    },
    {
     "data": {
      "text/plain": [
       "'dDSb'"
      ]
     },
     "metadata": {},
     "output_type": "display_data"
    },
    {
     "data": {
      "text/plain": [
       "array([nan, 'cs0', ' 2', 'cs6'], dtype=object)"
      ]
     },
     "metadata": {},
     "output_type": "display_data"
    },
    {
     "data": {
      "text/plain": [
       "'sTtl'"
      ]
     },
     "metadata": {},
     "output_type": "display_data"
    },
    {
     "data": {
      "text/plain": [
       "array([ nan,  50.,  63.,  37.,  54.,  36.,  52.,  48.,  64.,  40.,  57.,\n",
       "        47.,  39.,  46.,  41.,  42.,  43.,  56.,   1., 128., 255.,  38.,\n",
       "        49.,  45.,  44.,  53.,  51.,  55.,  58.])"
      ]
     },
     "metadata": {},
     "output_type": "display_data"
    },
    {
     "data": {
      "text/plain": [
       "'dTtl'"
      ]
     },
     "metadata": {},
     "output_type": "display_data"
    },
    {
     "data": {
      "text/plain": [
       "array([nan, 64., 37., 38., 40., 47., 50., 48., 56., 39., 46., 57., 51.,\n",
       "       43., 44., 54., 41., 45., 55., 36., 58., 53., 52., 49., 42.])"
      ]
     },
     "metadata": {},
     "output_type": "display_data"
    },
    {
     "data": {
      "text/plain": [
       "'sIpId'"
      ]
     },
     "metadata": {},
     "output_type": "display_data"
    },
    {
     "data": {
      "text/plain": [
       "array([nan, '0x63a0', '0x0000', ..., '0x2058', '0x2158', '0x2258'],\n",
       "      dtype=object)"
      ]
     },
     "metadata": {},
     "output_type": "display_data"
    },
    {
     "data": {
      "text/plain": [
       "'dIpId'"
      ]
     },
     "metadata": {},
     "output_type": "display_data"
    },
    {
     "data": {
      "text/plain": [
       "array([nan, '0x0000', '0xdee4', ..., '0x9b7b', '0x509c', '0x5182'],\n",
       "      dtype=object)"
      ]
     },
     "metadata": {},
     "output_type": "display_data"
    },
    {
     "data": {
      "text/plain": [
       "'Cause'"
      ]
     },
     "metadata": {},
     "output_type": "display_data"
    },
    {
     "data": {
      "text/plain": [
       "array(['Start', 'Status', 'Stop'], dtype=object)"
      ]
     },
     "metadata": {},
     "output_type": "display_data"
    },
    {
     "data": {
      "text/plain": [
       "'TotPkts'"
      ]
     },
     "metadata": {},
     "output_type": "display_data"
    },
    {
     "data": {
      "text/plain": [
       "array([    0,     2,     3,     4,    10,     7,     6,     5,     1,\n",
       "          11,  1521,   241,    80,  1599,   221,    69,  1214,   251,\n",
       "          70,   228,  1206,    73,   235,  1447,    65,   209,  1557,\n",
       "          68,   136,   113,    76,   120,   142,    66,   151,    77,\n",
       "         163,    72,   138,   143,    62,   146,    64,   158,    75,\n",
       "         147,   245,   225,   492,    92,   119,   836,    74,   289,\n",
       "         128,   162,   165,   167,   144,   170,   175,   172,    82,\n",
       "         160,   145,   166,   130,    67,   161,   156,    86,    63,\n",
       "         157,   169,   137,   104,    83,   174,   154,   134,   100,\n",
       "         159,   155,   133,    93,   153,    81,   132,    71,   141,\n",
       "         179,   177,    78,   111,    60,   164,   112,   135,   171,\n",
       "         129,   127,   168,   152,   122,   148,    85,   214,   192,\n",
       "         176,  1113,   951,    88,   150,    79,   149,   115,   124,\n",
       "         246,  1452,   227,  1398,   194,  1397,   126,   229,   101,\n",
       "          89,   222,    39,    21,   357,    61,  5665,  4815,  5678,\n",
       "        4520,   620,   741, 10287,  8243,  6138,  5137,   301,  4967,\n",
       "        3984,   180,    84,   388,   404,  1184,   428,   870,   435,\n",
       "         465,   467,   476,   449,   480,   490,   458,    90,   483,\n",
       "         506,   472,   427,   481,   487,   489,   437,   495,   488,\n",
       "         377,   479,   498,   421,   448,   392,   486,   511,   470,\n",
       "          87,   484,   433,   477,   456,   496,   438,   482,   471,\n",
       "         475,   494,   463,    91,   429,   485,   501,   444,   478,\n",
       "         473,   455,   468,   459,   436,   441,   391,   462,   469,\n",
       "         430,   442,   318,   353,   300,   523,  1626,   413,  1727,\n",
       "         591,   414,   399,   390,   389,    58,   401,   341,   343,\n",
       "         431,   327,   394,   466,   381,   417,   363,   432,   361,\n",
       "         352,   263,   325,  4932,  5812,   312,  4899,  5983,  4155,\n",
       "        5182,   131,   239,   331,   311,    22,    31,    15,    13,\n",
       "          16,    17,    12,    14,     9,     8], dtype=int64)"
      ]
     },
     "metadata": {},
     "output_type": "display_data"
    },
    {
     "data": {
      "text/plain": [
       "'SrcPkts'"
      ]
     },
     "metadata": {},
     "output_type": "display_data"
    },
    {
     "data": {
      "text/plain": [
       "array([   0,    1,    2,    3,    5,    4,    6,  770,  117,   26,  813,\n",
       "        119,   22,  453,  134,   25,  123,   32,  116,  672,  107,  743,\n",
       "         23,   35,   50,   29,   61,   47,   70,   57,   67,   42,   46,\n",
       "         62,   51,   65,   24,  114,  288,   38,  541,   55,  179,   98,\n",
       "         58,  101,   45,  102,  104,   40,   91,   97,   41,   95,   56,\n",
       "        103,   68,   92,   34,  106,   37,   90,   96,   43,   94,   44,\n",
       "         31,   93,   28,   54,   53,   27,   99,  108,   73,  100,   36,\n",
       "         33,   49,   59,   30,   87,   39,   84,   74,  694,  579,   63,\n",
       "         60,   48,   89,   85,   88,  124,  652,  121,  651,   83,  635,\n",
       "         71,   64,  109,   16,   19,    7,  167, 2279, 2018, 2362, 1791,\n",
       "        304,  362, 3949, 3188, 2610, 2288,  151, 1573, 1233,   76,   52,\n",
       "        197,  190,  590,  205,  529,  255,  264,  290,  257,  299,  266,\n",
       "        259,  294,  284,  240,  277,  286,  250,  267,  207,  293,  296,\n",
       "        226,  275,  220,  297,  305,  265,  245,  300,  260,  295,  244,\n",
       "        252,  269,  271,  292,  263,  303,  268,  298,  291,  241,  246,\n",
       "        233,  287,  261,  258,  282,  280,  270,  217,  272,  254,  249,\n",
       "        187,  191,  127,  890,  223,  994,  371,  229,  247,  237,  236,\n",
       "        192,  200,  248,  182,  238,  225,  221,  206,  140,  193, 2143,\n",
       "       2420,  129, 2059, 2535, 1392, 1797,  161,  160,   11,   15,   13,\n",
       "         17,   14,    9,   10,    8], dtype=int64)"
      ]
     },
     "metadata": {},
     "output_type": "display_data"
    },
    {
     "data": {
      "text/plain": [
       "'DstPkts'"
      ]
     },
     "metadata": {},
     "output_type": "display_data"
    },
    {
     "data": {
      "text/plain": [
       "array([    0,     1,     5,     3,     4,     2,   400,   751,   124,\n",
       "          54,   786,   102,    47,   761,   117,    45,   105,   753,\n",
       "          41,   119,   775,    40,   814,   101,    63,    50,    91,\n",
       "          81,    89,   106,    75,    46,    96,    82,    39,   100,\n",
       "          42,   107,    77,    97,   126,    48,   111,   204,    93,\n",
       "         295,   108,   110,    64,    66,    38,    99,    68,    71,\n",
       "          69,    44,    95,    43,    67,    70,    65,   103,    57,\n",
       "         104,    51,    61,    85,    55,    59,    90,    62,    86,\n",
       "          49,    94,   109,    52,    72,   419,   372,   112,    73,\n",
       "          60,    92,    58,    87,   122,   800,   747,   762,    98,\n",
       "          53,    79,   121,   113,    23,    14,   303,   190,  3386,\n",
       "        2797,  3316,  2729,   316,   379,  6338,  5055,  3528,  2849,\n",
       "         150,  3394,  2751,   116,    78,    80,    74,   191,   214,\n",
       "         594,   223,   341,   180,   177,   203,   186,   192,   193,\n",
       "         199,   189,   216,   188,   187,   210,   207,   200,   170,\n",
       "         195,   184,   205,   172,   196,   185,   212,   206,   183,\n",
       "          37,   194,   201,   182,   174,   179,   181,   131,   162,\n",
       "         173,    88,   243,   736,   733,   220,   149,   140,   197,\n",
       "         142,    36,   164,   154,   143,   145,   138,   146,   123,\n",
       "         132,  2789,  3392,  2840,  3448,  2763,  3385,    76,   148,\n",
       "         151,    83,    15,    20,     6,   339,     7, 48406],\n",
       "      dtype=int64)"
      ]
     },
     "metadata": {},
     "output_type": "display_data"
    },
    {
     "data": {
      "text/plain": [
       "'TotBytes'"
      ]
     },
     "metadata": {},
     "output_type": "display_data"
    },
    {
     "data": {
      "text/plain": [
       "array([        0,       108,        84,       170,       280,      1211,\n",
       "             482,       172,       684,       456,       496,       500,\n",
       "             570,       522,       492,       114,       510,       558,\n",
       "             484,       566,       520,       342,       588,       595,\n",
       "             646,       490,       531,       487,       529,       701,\n",
       "             494,       228,       489,       501,       538,       335,\n",
       "             485,       653,       568,       530,       526,      1324,\n",
       "            1745,      1286,      1296,      1277,      1210,  15300800,\n",
       "          334082,     61422,     36110,    369774,     58342,     34294,\n",
       "          309092,     62466,     40826,     60834,    310146,     30094,\n",
       "             860,     61060,    324492,     34784,     63660,    347242,\n",
       "           33828,     45342,     41608,     41622,     48044,     45326,\n",
       "           34450,     56300,     48566,     37224,     54716,     46364,\n",
       "           34588,     51018,     46912,     34186,     51546,     45464,\n",
       "           33964,     52354,     45876,     35684,     51002,     63648,\n",
       "           34492,     62622,     93258,     44326,     47026,    140014,\n",
       "           34978,     52708,     56242,     34318,     48572,     45798,\n",
       "           34374,     52800,     52988,     34496,     56828,     46326,\n",
       "           33694,     48708,     55310,     43952,     45284,     51480,\n",
       "           34582,     45868,     51612,     34912,     46092,     48704,\n",
       "           34162,     45382,     52206,     46680,     49856,     48024,\n",
       "           61620,     37818,     46812,     44472,     33898,     45118,\n",
       "           51146,     34252,     46614,     55678,     35412,     45394,\n",
       "           50952,     43426,     45976,     51282,     35706,     48638,\n",
       "           37422,     45274,     49070,     34066,     45834,        60,\n",
       "           50886,     43002,     45694,     49166,     44986,     56896,\n",
       "           34624,     45534,     41390,     34400,     48822,     54328,\n",
       "           38320,     45092,     56410,     34198,     45538,     45628,\n",
       "           42288,     45268,     49924,     34780,     46350,     57202,\n",
       "           34228,     49886,     49430,     55640,     36936,     45358,\n",
       "           51216,     34846,     45726,     47782,     33700,     45930,\n",
       "           47516,     34426,     46106,     50820,     48090,     52138,\n",
       "           37464,     46560,     35044,     46226,     50754,     45864,\n",
       "           48506,     46548,     52074,     34648,     52204,     37068,\n",
       "           46482,     50622,     46532,     49100,     46506,     50424,\n",
       "           44830,     48176,     52862,     35256,     49964,     37318,\n",
       "           45906,     58512,     34876,     41574,     36928,     58256,\n",
       "           36492,     52572,     53620,     33832,    170778,     34516,\n",
       "          153068,     55508,     37950,     46492,     49232,     46282,\n",
       "           51810,     44478,     49034,     44030,     52470,     43662,\n",
       "           49480,     35978,     46712,     53676,     36728,     43860,\n",
       "           47582,     34030,     50490,     35110,     43736,     47714,\n",
       "           43680,     51678,     43794,     49844,     36622,     46390,\n",
       "           62558,     36120,    328020,     58834,    320532,     57136,\n",
       "          334870,     49182,     34360,     36198,     42968,     52352,\n",
       "           48656,     51692,     35050,     53138,     34288,     46334,\n",
       "           50410,     35248,     45506,     56248,     62156,     39192,\n",
       "           37662,     53292,     42038,       276,     35818,     60518,\n",
       "           37492,     24550,     24942,      8700,  10978576,     49586,\n",
       "           78600,     34120,   1411856,   1125900,     34726,   1557042,\n",
       "         1103850,    141158,    149646,     36804,   2587814,   2043594,\n",
       "         1454328,   1176066,     71888,     50448,   1365802,   1069290,\n",
       "           43094,     60556,     47812,     51742,     37332,     47096,\n",
       "           52008,     45462,     46396,     44846,     46986,     88734,\n",
       "          100036,     37134,    201240,     92244,    140902,     90088,\n",
       "           84528,     94216,     34714,     84908,     90918,     34756,\n",
       "           86332,     95006,     88210,     92856,     37824,     85924,\n",
       "           97276,     84308,     87730,     85606,     95800,     35020,\n",
       "           85430,     89054,     33988,     87152,     93824,     34954,\n",
       "           87634,     82366,     37798,     84770,     96632,     34096,\n",
       "           86794,     88114,     41024,     84836,     93668,     79820,\n",
       "           82764,     36162,     85582,     98596,     88102,     94732,\n",
       "           37884,     86720,     88188,     86002,     95366,     87668,\n",
       "          100048,     86080,     95456,     85744,     88458,     88722,\n",
       "           89498,     38082,     86494,     94636,     85318,     93908,\n",
       "           92318,     93268,     84856,     91968,     86156,     94174,\n",
       "           88158,     93150,     44996,     86296,     95596,     84926,\n",
       "           88302,     86224,     95326,     34594,     85244,     86858,\n",
       "           86266,     89090,     87952,     98302,     37686,     86026,\n",
       "           90138,     85058,     96394,     84374,     91570,     85738,\n",
       "           93218,     91834,     87654,     99102,     36672,     83978,\n",
       "           88988,     84748,     93882,     91902,     79358,     84804,\n",
       "           94314,     93816,     37530,     86032,     93866,     84692,\n",
       "           89266,     85800,     94228,     85302,     91952,     85540,\n",
       "           90046,     35140,     87148,     91986,     37774,     65648,\n",
       "           79298,     40496,     71878,     49168,    100538,    253490,\n",
       "           87644,    260156,     89322,     99044,     93848,     79062,\n",
       "           37002,     84934,     74208,     93530,     73526,     33568,\n",
       "           83624,     79622,     76312,     67228,     33766,     87092,\n",
       "           74148,     35490,     75570,     76168,     91680,     73614,\n",
       "              70,     87416,     72096,     88772,     71932,     90478,\n",
       "           71342,     65880,     65522,     36754,   1142904,   1403424,\n",
       "           35952,     61744,     35428,     74058,     47832,   1131780,\n",
       "         1411958,   1083274,   1383046,     53034,     42730,     54782,\n",
       "           47242,     35644,     51048,     47478,     34090,     48908,\n",
       "           44914,     48770,     52770,     50226,     44942,     41442,\n",
       "           77436,     80192,     78482,     49330,     35242,     37556,\n",
       "           53080,     35912,     52992,     35038,       203,       183,\n",
       "           51296,      9120,     11160,      1126,  10983912,       168,\n",
       "             112,        87,       630,       546,       128,       210,\n",
       "             672,        54,       252,       714,       294,      2506,\n",
       "            1197,      1674,      2440,      1183,      1178,      2821,\n",
       "             126,        42,       102,       130,       140,        92,\n",
       "             120,        93,       121,        88,       116,        96,\n",
       "             124,        72,       100,       106,       134,        62,\n",
       "              90,       234,       262,        82,       110,        65,\n",
       "             118,        66,        94,       109,       137,        34,\n",
       "              68,       204,       238,       306,       340,       272,\n",
       "             374,       136,       186,       248,      2594, 166325452],\n",
       "      dtype=int64)"
      ]
     },
     "metadata": {},
     "output_type": "display_data"
    },
    {
     "data": {
      "text/plain": [
       "'SrcBytes'"
      ]
     },
     "metadata": {},
     "output_type": "display_data"
    },
    {
     "data": {
      "text/plain": [
       "array([      0,      54,      42,     112,     206,     356,     276,\n",
       "           172,     684,     456,     290,     294,     570,     316,\n",
       "           162,     114,     304,     286,     278,     360,     314,\n",
       "           342,     382,     389,     440,     284,     325,     281,\n",
       "           323,     495,     288,     228,     283,     295,     332,\n",
       "           108,     279,     447,     362,     324,     320,     510,\n",
       "           952,     491,     496,     422,  153605,   38581,   29460,\n",
       "        199374,   39002,   28556,  160632,   40076,   34866,   40276,\n",
       "        161660,   23732,     860,   38702,  175147,   29154,   44304,\n",
       "        188719,   28222,   25494,   32656,   35332,   30810,   34320,\n",
       "         28754,   39198,   36252,   30244,   33686,   35425,   28820,\n",
       "         31668,   35338,   28622,   31932,   34595,   32262,   34823,\n",
       "         29394,   32745,   44152,   28688,   40262,   63106,   36752,\n",
       "         29612,   96512,   32526,   39883,   31206,   36724,   32724,\n",
       "         43592,   29328,   39066,   36988,   27916,   37962,   34016,\n",
       "         37524,   36308,   36472,   31602,   36994,   36340,   32592,\n",
       "         37120,   31998,   37896,   40524,   30640,   26974,   36142,\n",
       "         31532,   37054,   38114,   29447,   36382,   31140,   33420,\n",
       "         31404,   29616,   38280,   30574,   36010,   31440,   28724,\n",
       "         36694,      60,   33120,   36310,   31800,   29116,   36274,\n",
       "         36394,   24632,   38034,   33488,   36412,   38510,   25882,\n",
       "         35638,   36505,   32426,   36790,   37380,   32662,   38412,\n",
       "         34742,   30376,   31866,   30866,   36856,   36604,   30612,\n",
       "         36992,   33620,   30508,   36952,   31074,   37052,   36494,\n",
       "         30942,   36922,   32130,   33818,   30442,   36658,   36791,\n",
       "         31536,   36742,   30876,   28886,   35812,   31272,   36462,\n",
       "         32558,   38256,   31872,   38868,   35704,   30890,   36547,\n",
       "         29579,   38129,   34998,  112108,  100506,   34082,   30706,\n",
       "         37114,   35752,   35758,   32856,   35488,   31925,   29466,\n",
       "         36990,   32835,   30060,   30744,   35884,   35620,   35170,\n",
       "         35554,   31779,   29855,   36467,   39608,   29773,  174956,\n",
       "         39134,  173580,   35894,  180962,   31398,   26886,   32460,\n",
       "         33086,   33752,   30310,   36319,   28952,   42173,   35001,\n",
       "         34826,   43015,   31786,   33797,   33424,   30014,   38420,\n",
       "         30529,   21360,   15942,    7262,   13625,   46847,  692011,\n",
       "        551140,   29054,  764260,  533758,   85835,   83445, 1266099,\n",
       "        976350,  727627,  583714,   45130,   36655,  645309,  498574,\n",
       "         33370,   37236,   36338,   33092,   35481,   32328,   34730,\n",
       "         31008,   34966,   34463,   31338,   35063,   57249,   57863,\n",
       "        117456,   54260,   91960,   57326,   59406,   57984,   59542,\n",
       "         57358,   60190,   58084,   61284,   58162,   59898,   59948,\n",
       "         59014,   55360,   59596,   58978,   28928,   59146,   56356,\n",
       "         28382,   59638,   57982,   29060,   59982,   52138,   30974,\n",
       "         59608,   60656,   59992,   53932,   34800,   59806,   58902,\n",
       "         57550,   51800,   29513,   60058,   61216,   61428,   58206,\n",
       "         60288,   55722,   58430,   61136,   65648,   60146,   58670,\n",
       "         55792,   61614,   56676,   58282,   58806,   66687,   57570,\n",
       "         59728,   57196,   59946,   57798,   61482,   58740,   37392,\n",
       "         60268,   58480,   59512,   55648,   60226,   58460,   28856,\n",
       "         59476,   55252,   60124,   54618,   61062,   61594,   60310,\n",
       "         56800,   59212,   59572,   59278,   57754,   59926,   57448,\n",
       "         59740,   57556,   60756,   60864,   58882,   56026,   58936,\n",
       "         58048,   58516,   57088,   52666,   60056,   59508,   60130,\n",
       "         58438,   59566,   56860,   59882,   58454,   59616,   58178,\n",
       "         56122,   60636,   58390,   31148,   47698,   49438,   42629,\n",
       "         36379,   61148,  153274,   53766,  160324,   56266,   69040,\n",
       "         58364,   57342,   54162,   54406,   54022,   53962,   60236,\n",
       "         48400,   50698,   56166,   54274,   29077,   47824,   55512,\n",
       "         30383,   58836,   53614,      70,   54508,   52756,   56520,\n",
       "         52492,   56308,   51316,   43200,   48226,   29921,  562529,\n",
       "        702021,   29605,   42392,   29248,   43271,   35527,  553240,\n",
       "        708397,  510288,  660968,   32342,   33196,   35914,   29126,\n",
       "         35879,   28418,   31572,   34147,   31734,   41857,   34190,\n",
       "         45565,   52206,   51320,   36876,   30892,   33114,   29707,\n",
       "         32825,   29185,     203,     183,    7974,     312,     168,\n",
       "            58,      87,     630,      84,     546,      74,     210,\n",
       "           672,     252,     714,     514,     956,     500,     488,\n",
       "           126,     588,     102,     130,     140,      92,     120,\n",
       "            93,     121,      88,     116,      96,     124,      72,\n",
       "           100,     106,     134,      62,      90,     234,     262,\n",
       "            82,     110,      65,     118,      66,      94,     109,\n",
       "           137,      34,      68,     204,     238,     306,     340,\n",
       "           272,     170,     374,     136,     186,     248], dtype=int64)"
      ]
     },
     "metadata": {},
     "output_type": "display_data"
    },
    {
     "data": {
      "text/plain": [
       "'DstBytes'"
      ]
     },
     "metadata": {},
     "output_type": "display_data"
    },
    {
     "data": {
      "text/plain": [
       "array([      0,      54,      42,      58,      74,     855,     206,\n",
       "           330,     396,     227,     814,     793,     795,     800,\n",
       "           770,  180477,   22841,    6650,  170400,   19340,    5738,\n",
       "        148460,   22390,    5960,   20558,  148486,    6362,   22358,\n",
       "        149345,    5630,   19356,  158523,    5606,   19848,    8952,\n",
       "          6290,   17234,   11006,    5696,   17102,   12314,    6980,\n",
       "         21030,   10939,    5768,   19350,   11574,    5564,   19614,\n",
       "         10869,    5408,   20092,   11053,   18257,   19496,    5804,\n",
       "         22360,   30152,    7574,   17414,   43502,    6158,   20182,\n",
       "         16359,   17366,    9074,    5686,   20076,    9396,    5168,\n",
       "         17762,    9338,    5778,   10746,   21294,    6428,    8976,\n",
       "         19548,    5894,   20010,    9098,   17498,    5474,    9042,\n",
       "          9560,   17858,   10128,   21096,    7178,    9824,    5276,\n",
       "         17564,    5965,    9012,   19812,   10006,    9636,   19878,\n",
       "          6090,   10358,   20700,    6848,    9264,   17630,    5342,\n",
       "          9140,   19680,    9882,    9384,    5668,    8712,   19842,\n",
       "          5870,   16758,   10788,   20840,    7680,    8680,   17900,\n",
       "          5510,    9198,   19746,    8763,   19822,    5672,    8910,\n",
       "         17224,   11018,   20898,    6560,    8886,    9332,   16916,\n",
       "          5144,   16904,    9114,   19416,    6224,   10194,   18518,\n",
       "          6956,    9608,   19944,    9174,    9304,    9008,   17432,\n",
       "          9626,   18386,    6626,    9741,    9764,    9018,    9514,\n",
       "         20304,    6502,   10814,   18092,    6744,    9116,   19644,\n",
       "          6188,    9692,   17168,    6038,   21709,    6913,   14443,\n",
       "         18622,   58670,    5762,   52562,   21426,    7244,    9378,\n",
       "          9294,    8726,    8272,    8174,   17555,    6512,    9722,\n",
       "         20841,    6668,    8372,   16838,    8594,    8116,   16970,\n",
       "          8510,    8240,   18065,    6767,    9923,   22950,    6347,\n",
       "        153064,   19700,  146952,   21242,  153908,   17784,    9312,\n",
       "          6026,   18600,    7154,   12337,   19826,    6098,   10965,\n",
       "          5534,   11333,   19468,    6494,   10680,   17380,    5828,\n",
       "         19141,    7406,   19495,    8614,   22098,    6963,    3190,\n",
       "          9000,    1438,   35961,   31753,    5498,  719845,  574760,\n",
       "        792782,  570092,   55323,   66201,    6296, 1321715, 1067244,\n",
       "        726701,  592352,   26758,   13793,  720493,  570716,    9724,\n",
       "         23320,   11474,   18650,   11615,    6092,   10732,   11430,\n",
       "         10383,   11923,   31485,   42173,    6692,   83784,   37984,\n",
       "         48942,   32762,   25122,   36232,   25366,   33560,    5936,\n",
       "         26142,   36922,   26926,   34694,    7316,   26026,   37328,\n",
       "         25294,   32370,   26010,   36822,   26284,   32698,   27514,\n",
       "         35842,   27652,   30228,    6824,   25162,   35976,   26802,\n",
       "         34182,   25030,   34766,   22270,   30964,    6649,   25524,\n",
       "         37380,    5210,   26674,   36526,   26432,   32466,   25812,\n",
       "         36936,   26532,   34400,   25934,   36786,   25554,   32666,\n",
       "         27108,   32822,    7376,   26304,   36354,   25326,   35102,\n",
       "         25631,   35698,    5540,   25128,   34772,   26210,   36376,\n",
       "         26676,   34410,    7604,   26028,   37116,    5078,   25414,\n",
       "         32654,   25998,   36866,   25768,   31606,   34472,   26890,\n",
       "         36708,   25716,   33338,   25846,   25096,   33816,   35770,\n",
       "         34278,   26898,   38238,   32962,   35834,   24898,   33386,\n",
       "         32138,   34258,   34308,    7022,   25902,   35428,   25126,\n",
       "         32406,   25918,   35774,    7045,   25686,   33774,   25944,\n",
       "         33924,    6452,   26512,   33596,   17950,   29860,   29249,\n",
       "         12789,   39390,  100216,   33878,   99832,   33056,   30004,\n",
       "         35484,   21720,   30772,   19802,   35324,   19504,    5012,\n",
       "         29662,   19386,   27912,   16530,   30926,   19874,    6413,\n",
       "         27746,   20656,    6239,   32844,   20000,   32908,   32252,\n",
       "         19440,   34170,   20026,   22680,   17296,    6833,  580375,\n",
       "        701403,   19352,    6180,   30787,   12305,    5432,  578540,\n",
       "        703561,  572986,  722078,   20692,    9534,   11328,    6518,\n",
       "         19710,   11599,   17336,   10767,   17036,   10913,   10752,\n",
       "         31871,   27986,   27162,   12454,    6356,    6664,   19966,\n",
       "          6205,   20167,    5853,   20156,    1858,    3186,    2084,\n",
       "           683,     718,    2018,    2365], dtype=int64)"
      ]
     },
     "metadata": {},
     "output_type": "display_data"
    },
    {
     "data": {
      "text/plain": [
       "'TotAppByte'"
      ]
     },
     "metadata": {},
     "output_type": "display_data"
    },
    {
     "data": {
      "text/plain": [
       "array([        0,        28,       535,         4,        88,       312,\n",
       "             208,        18,        22,       260,        44,       132,\n",
       "              52,        32,        14,         6,        42,       156,\n",
       "             110,       117,       168,        12,        53,         9,\n",
       "              51,       223,        16,       104,        11,        23,\n",
       "              60,        95,         7,       175,        90,        48,\n",
       "             648,      1069,       610,       620,       534,  15300800,\n",
       "          233696,     45516,     30830,    264228,     43756,     29740,\n",
       "          228968,     45900,     36206,     45786,    230550,     25276,\n",
       "             692,     45550,    228990,     30494,     49866,    244480,\n",
       "           29340,     36366,     34150,     36606,     40124,     35954,\n",
       "           30094,     47324,     38600,     32142,     43958,     36992,\n",
       "           29836,     41910,     37462,     36026,     41926,     36504,\n",
       "           30734,     41300,     47478,     47772,     60786,     38254,\n",
       "           39172,     84838,     41950,     37168,     35106,     30150,\n",
       "           41966,     30404,     29470,     37158,     38540,     34724,\n",
       "           35110,     35136,     34756,     35460,     40220,     36804,\n",
       "           50070,     35100,     41510,     46636,     30990,     34966,\n",
       "           36562,     35218,     30228,     37154,     40226,     29842,\n",
       "           35208,     36402,     35200,     30164,     48118,     30070,\n",
       "           33932,     29780,     37338,     43966,     32182,     34994,\n",
       "           46708,     29644,     35398,     36942,     34840,     41212,\n",
       "           47566,     40580,     37616,     31788,     34864,     34968,\n",
       "           40444,     35150,     42172,     35538,     35270,     35172,\n",
       "           35444,     35682,     35482,     43094,     30174,     37520,\n",
       "           40988,     31708,     35214,     49206,     30190,     36492,\n",
       "           31252,     44132,     31344,     39900,     42004,     97320,\n",
       "           90302,     35140,     35260,     34380,     34064,     34026,\n",
       "           40636,     30764,     36086,     43446,     31118,     34034,\n",
       "           34110,     41660,     31276,     36226,     46322,     30708,\n",
       "          232188,     43852,    228264,     44332,    242668,     40404,\n",
       "           28344,     34652,     42188,     38624,     41990,     30166,\n",
       "           43106,     29668,     36896,     41830,     36464,     47404,\n",
       "           29764,     47042,     32526,     42732,     34580,       150,\n",
       "           30538,     45866,     31420,     21976,     20454,      7314,\n",
       "        10978576,     38366,     55038,   1037966,    808110,   1182294,\n",
       "          805518,    100238,    100740,   1908860,   1499556,   1049220,\n",
       "          837024,     52022,     40086,   1037980,    806346,     35042,\n",
       "           48676,     37648,     37064,     35892,     36958,     36002,\n",
       "           37020,     63126,     73372,    123096,     63996,     83482,\n",
       "           61378,     53838,     63394,     53492,     61284,     53860,\n",
       "           63326,     55870,     62628,     31884,     54046,     63880,\n",
       "           53156,     59548,     63658,     30334,     60212,     29500,\n",
       "           54482,     63002,     55426,     57484,     32188,     63764,\n",
       "           54652,     60328,     61988,     50252,     56892,     53506,\n",
       "           64870,     55630,     63712,     54776,     59610,     63884,\n",
       "           55526,     69952,     54400,     63314,     53602,     59880,\n",
       "           55986,     60590,     54220,     63220,     62426,     60506,\n",
       "           62182,     61872,     54080,     63154,     55554,     62592,\n",
       "           38990,     63982,     53246,     59988,     54016,     63316,\n",
       "           53894,     58544,     54256,     60776,     55678,     65236,\n",
       "           53818,     60834,     53510,     61540,     62330,     55908,\n",
       "           65706,     62994,     58998,     63096,     63588,     53890,\n",
       "           63374,     53276,     60688,     53922,     63406,     54348,\n",
       "           62648,     61666,     55204,     62814,     32428,     44660,\n",
       "           56000,     52078,     38542,     66020,    146174,     60386,\n",
       "           60150,     60038,     63620,     51738,     58600,     48468,\n",
       "           62378,     47852,     57158,     53882,     53806,     44590,\n",
       "           58646,     48540,     30606,     53988,     50164,     60924,\n",
       "           59894,     48138,     60260,     48106,     60844,     48110,\n",
       "           48522,     44072,    817392,   1019832,     50524,     30478,\n",
       "           53466,     38262,    808446,   1017080,    809044,   1041034,\n",
       "           43134,     34810,     37540,     30430,     42006,     37908,\n",
       "           29602,     40130,     35608,     43398,     36230,     61662,\n",
       "           58346,     57956,     38968,     31682,     42190,     42366,\n",
       "           30550,       141,      7668,      9114,       466,  10983912,\n",
       "              56,        45,       210,       182,        70,       224,\n",
       "              84,       238,        98,      1698,       521,       998,\n",
       "             507,       502,      1935,       196,         8,        68,\n",
       "              50,        58,        59,        46,        54,        62,\n",
       "              30,        38,        64,        72,        20,       192,\n",
       "             200,        40,        31,        24,        67,        75,\n",
       "            1720, 166325452], dtype=int64)"
      ]
     },
     "metadata": {},
     "output_type": "display_data"
    },
    {
     "data": {
      "text/plain": [
       "'SAppBytes'"
      ]
     },
     "metadata": {},
     "output_type": "display_data"
    },
    {
     "data": {
      "text/plain": [
       "array([      0,      14,      18,       4,      88,     312,     208,\n",
       "            22,     260,      44,      52,      32,       6,      42,\n",
       "           156,     110,     117,     168,      12,      53,       9,\n",
       "            51,     223,      16,     104,      11,      23,      60,\n",
       "             7,     175,      90,      48,     172,     614,     153,\n",
       "           158,      36,  102785,   30859,   27744,  145716,   31148,\n",
       "         27104,  130734,   31232,   33216,   32158,  131762,   21620,\n",
       "           692,   31046,  130795,   27504,   37242,  139681,   26704,\n",
       "         23184,   29356,   33616,   28896,   30294,   36096,   31632,\n",
       "         28132,   29924,   31003,   31312,   30503,   30533,   29445,\n",
       "         36298,   32738,   44098,   34244,   27896,   60806,   28069,\n",
       "         30256,   36926,   26464,   31098,   34884,   30302,   30070,\n",
       "         30262,   36036,   23872,   28496,   35408,   27731,   30112,\n",
       "         30318,   31284,   28998,   27206,   30358,   30282,   30106,\n",
       "         27400,   35008,   22784,   31170,   30208,   22384,   33856,\n",
       "         30103,   29984,   34608,   29296,   29216,   30260,   30286,\n",
       "         30320,   30092,   30389,   30340,   30258,   31458,   28836,\n",
       "         28118,   30145,   32585,   30114,   66304,   62292,   30580,\n",
       "         29746,   29752,   29153,   27618,   30588,   29667,   29560,\n",
       "         27875,   30593,   31424,   27463,  131924,  130614,   30416,\n",
       "        139052,   29088,   23586,   29456,   31633,   37487,   30777,\n",
       "         30734,   35887,   28750,   30167,   29596,     150,   27506,\n",
       "         31226,   27823,   20304,   14688,    6800,      24,    6893,\n",
       "         35825,  541597,  417952,  608368,  415552,   65771,   59553,\n",
       "       1005465,  765942,  555367,  432706,   35164,   32497,  541491,\n",
       "        417196,   29806,   33012,   31322,   30861,   30440,   30808,\n",
       "         30839,   44247,   45323,   78516,   40730,   57046,   40496,\n",
       "         40398,   40560,   40402,   40396,   40456,   40528,   41550,\n",
       "         41068,   40494,   40808,   40270,   39520,   40696,   27344,\n",
       "         39856,   26864,   40630,   40360,   40974,   38476,   28532,\n",
       "         41648,   39016,   40752,   37280,   42208,   41298,   40716,\n",
       "         40686,   39552,   41336,   48488,   40676,   40520,   39688,\n",
       "         41484,   40044,   40920,   47151,   39948,   40476,   40440,\n",
       "         41052,   40600,   40858,   40306,   39742,   40558,   40574,\n",
       "         39240,   41328,   42388,   40576,   40168,   40024,   41724,\n",
       "         38344,   41312,   41556,   40462,   40552,   40294,   40096,\n",
       "         40478,   40568,   40740,   41084,   41164,   28772,   35356,\n",
       "         36832,   34247,   31561,   42668,   94534,   39048,   94720,\n",
       "         39832,   44554,   39852,   37906,   40056,   37720,   38320,\n",
       "         44660,   35728,   37498,   39072,   27361,   35812,   38748,\n",
       "         40224,   38800,   39888,   39280,   33960,   35488,  421091,\n",
       "        542301,   38432,   34757,   31369,  417346,  541087,  418416,\n",
       "        542366,   29768,   29698,   31228,   31655,   26966,   29989,\n",
       "         37633,   30428,   39559,   41580,   40760,   31992,   28318,\n",
       "         27529,   29129,   27337,     141,    7248,      56,       8,\n",
       "            45,     210,      28,     182,      70,     224,      84,\n",
       "           238,      98,     176,     618,     162,     157,      40,\n",
       "           196,      68,      50,      58,      59,      46,      54,\n",
       "            62,      30,      38,      64,      72,      20,     192,\n",
       "           200,      31,      67,      75,    2019], dtype=int64)"
      ]
     },
     "metadata": {},
     "output_type": "display_data"
    },
    {
     "data": {
      "text/plain": [
       "'DAppBytes'"
      ]
     },
     "metadata": {},
     "output_type": "display_data"
    },
    {
     "data": {
      "text/plain": [
       "array([     0,     14,    517,    132,     95,    476,    455,    457,\n",
       "          462,    498, 130911,  14657,   3086, 118512,  12608,   2636,\n",
       "        98234,  14668,   2990,  13628,  98788,   3656,  14504,  98195,\n",
       "        12624, 104799,  13182,   4794,  11228,   5660,   6968,   4010,\n",
       "        14034,   5989,   2732,  13014,   6150,   5523,  13030,   5971,\n",
       "        11855,  11180,  15034,  16688,  11276,  24032,  13054,   9099,\n",
       "         4850,   3046,   5040,   2660,   3006,   6060,   4422,   4874,\n",
       "         4686,   5204,  11324,   5706,   3259,   4854,   6244,   5148,\n",
       "         2724,   5870,   6120,   5094,   2764,  13110,   2966,  11148,\n",
       "         2676,   6168,  14042,   4050,   4786,  11300,   2540,   4737,\n",
       "        12958,  11284,   6332,   4712,   4890,  12248,   5252,   4950,\n",
       "         5080,   5055,   5342,   5224,   3070,   6062,  12152,   3576,\n",
       "         4958,   3134,  13987,   3613,   7315,  11890,  31016,  28010,\n",
       "         4560,   5004,   4634,   4312,   4280,  11483,   3146,   5498,\n",
       "        13779,   3500,   4288,   4550,  11993,   3401,   5633,  14898,\n",
       "         3245, 100264,  12704,  97650,  13916, 103616,  11316,   4758,\n",
       "         5196,  12264,   6991,  13094,   3062,   5619,   2564,   6119,\n",
       "        12934,   5730,  11308,  11155,   3776,  12565,   4984,   3032,\n",
       "        14640,   3597,   1672,   5766,    514,  31473,  19213, 496369,\n",
       "       390158, 573926, 389966,  34467,  41187, 903395, 733614, 493853,\n",
       "       404318,  16858,   7589, 496489, 389150,   5236,  15664,   6326,\n",
       "         6203,   5452,   5499,   6181,  18879,  28049,  44580,  23266,\n",
       "        26436,  20882,  13440,  22834,  13090,  20888,  13404,  22798,\n",
       "        14320,  21560,   3752,  13552,  23072,  12886,  20028,  22962,\n",
       "        20356,  13852,  22642,  14452,  19008,  22116,  14196,  21312,\n",
       "        21236,   9796,  19612,  13050,  22662,  14332,  22996,  14090,\n",
       "        20058,  23076,  14190,  21464,  13724,  22794,  13146,  20192,\n",
       "        14502,  20546,  13764,  22692,  21506,  13355,  22234,  21176,\n",
       "        13604,  22714,  14070,  21540,   4106,  13620,  23124,  12940,\n",
       "        20246,  13458,  22742,  13624,  19528,  13800,  21536,  14350,\n",
       "        22848,  13242,  20666,  13240,  21012,  22306,  14424,  23982,\n",
       "        22634,  20654,  21784,  22032,  13428,  22822,  12982,  20592,\n",
       "        13444,  22838,  13608,  21564,  21978,  13906,  21650,   9304,\n",
       "        19168,  17831,   6981,  23352,  51640,  21338,  51454,  20318,\n",
       "        15484,  22944,  11886,  19552,  10562,  22322,  10132,  18838,\n",
       "         9222,  18078,   7092,  19574,  10634,  18176,  11416,  20700,\n",
       "        21094,  10232,  20372,  10200,  10390,  14562,   8584, 396301,\n",
       "       477531,  12092,   3078,  18709,   6893, 391100, 475993, 390628,\n",
       "       498668,  13366,   5112,   6312,   6253,  11132,   5765,   5802,\n",
       "        22103,  16766,  17196,   6976,   3364,  13102,   3301,  13237,\n",
       "         3213,    868,   1866,    418,      8,   1680,    345,    380,\n",
       "         1895], dtype=int64)"
      ]
     },
     "metadata": {},
     "output_type": "display_data"
    },
    {
     "data": {
      "text/plain": [
       "'PCRatio'"
      ]
     },
     "metadata": {},
     "output_type": "display_data"
    },
    {
     "data": {
      "text/plain": [
       "array([      nan, -0.      , -0.93271 ,  1.      , -1.      , -0.469136,\n",
       "        0.148737, -0.498361, -0.490323, -0.865169, -0.120353,  0.355963,\n",
       "        0.799805,  0.102957,  0.423713,  0.82273 ,  0.141941,  0.360871,\n",
       "        0.834834,  0.404709,  0.143023,  0.710714,  0.363161,  0.142364,\n",
       "        0.803896,  0.493683,  0.142678,  0.820314,  0.275037,  0.719239,\n",
       "        0.836639,  0.440335,  0.685153,  0.801289,  0.525484,  0.638964,\n",
       "        0.750482,  0.361481,  0.6762  ,  0.816866,  0.378955,  0.671667,\n",
       "        0.693388,  0.378429,  0.672858,  0.805427,  0.425908,  0.529045,\n",
       "        0.370594,  0.450926,  0.790349,  0.424283,  0.433461,  0.37764 ,\n",
       "        0.510385,  0.723694,  0.797944,  0.759806,  0.825023,  0.795996,\n",
       "        0.673825,  0.810275,  0.745306,  0.712902,  0.722564,  0.730349,\n",
       "        0.706486,  0.436897,  0.689925,  0.439425,  0.360228,  0.37297 ,\n",
       "        0.518484,  0.789674,  0.722359,  0.658443,  0.707649,  0.81977 ,\n",
       "        0.684018,  0.441754,  0.823336,  0.724494,  0.663755,  0.710568,\n",
       "        0.816735,  0.45509 ,  0.802727,  0.342921,  0.820282,  0.669613,\n",
       "        0.361234,  0.748307,  0.726467,  0.516143,  0.828633,  0.264704,\n",
       "        0.832927,  0.728071,  0.45511 ,  0.455157,  0.443864,  0.663335,\n",
       "        0.769976,  0.724989,  0.730496,  0.444763,  0.721764,  0.419141,\n",
       "        0.704429,  0.719308,  0.711134,  0.714761,  0.700577,  0.705541,\n",
       "        0.391563,  0.796514,  0.676866,  0.407046,  0.774442,  0.718407,\n",
       "        0.467138,  0.795561,  0.85553 ,  0.799437,  0.366129,  0.769461,\n",
       "        0.633333,  0.433863,  0.362598,  0.379637,  0.740467,  0.716166,\n",
       "        0.730425,  0.746829,  0.748428,  0.434836,  0.795475,  0.695283,\n",
       "        0.365695,  0.77505 ,  0.748017,  0.733216,  0.424244,  0.782517,\n",
       "        0.689008,  0.356764,  0.788654,  0.136355,  0.420597,  0.144412,\n",
       "        0.372192,  0.146027,  0.439857,  0.664268,  0.700104,  0.418602,\n",
       "        0.637997,  0.376328,  0.79699 ,  0.739294,  0.827154,  0.668311,\n",
       "        0.381592,  0.685717,  0.522909,  0.821261,  0.525743,  0.767817,\n",
       "        0.411916,  0.711741,  0.801428,  0.361619,  0.771038,  0.847834,\n",
       "        0.436198,  0.859448, -0.640671,  0.301828,  0.043574,  0.034394,\n",
       "        0.029132,  0.031763,  0.312297,  0.182311,  0.053472,  0.021558,\n",
       "        0.058628,  0.033915,  0.35189 ,  0.621364,  0.043355,  0.034782,\n",
       "        0.701159,  0.356397,  0.66394 ,  0.665282,  0.6962  ,  0.66719 ,\n",
       "        0.694517,  0.666072,  0.401863,  0.23543 ,  0.275687,  0.272892,\n",
       "        0.366666,  0.319561,  0.500724,  0.279616,  0.510581,  0.318321,\n",
       "        0.502265,  0.27998 ,  0.487381,  0.31149 ,  0.764647,  0.498501,\n",
       "        0.277646,  0.515163,  0.327333,  0.278582,  0.802861,  0.323856,\n",
       "        0.821288,  0.491502,  0.281229,  0.478512,  0.338668,  0.772835,\n",
       "        0.306317,  0.480495,  0.293462,  0.314835,  0.610125,  0.310553,\n",
       "        0.512204,  0.30131 ,  0.484738,  0.278127,  0.485541,  0.327026,\n",
       "        0.277566,  0.488888,  0.386322,  0.495441,  0.27997 ,  0.509496,\n",
       "        0.325585,  0.481942,  0.321802,  0.492291,  0.282126,  0.310992,\n",
       "        0.558556,  0.284873,  0.31549 ,  0.496893,  0.280679,  0.493466,\n",
       "        0.311733,  0.789382,  0.497602,  0.277172,  0.513954,  0.324998,\n",
       "        0.501703,  0.281635,  0.494415,  0.332878,  0.491301,  0.291299,\n",
       "        0.484536,  0.299528,  0.507897,  0.320577,  0.505139,  0.317127,\n",
       "        0.284261,  0.484009,  0.270021,  0.281392,  0.299841,  0.309497,\n",
       "        0.307039,  0.501652,  0.279768,  0.512651,  0.321381,  0.501354,\n",
       "        0.279627,  0.499227,  0.311582,  0.287192,  0.496196,  0.310663,\n",
       "        0.774516,  0.583341,  0.315429,  0.315219,  0.637746,  0.292578,\n",
       "        0.293445,  0.29328 ,  0.29599 ,  0.324422,  0.484193,  0.278717,\n",
       "        0.540531,  0.332696,  0.564166,  0.284299,  0.576528,  0.340845,\n",
       "        0.657696,  0.32803 ,  0.681902,  0.332469,  0.561846,  0.78795 ,\n",
       "        0.326665,  0.544853,  0.320465,  0.295622,  0.574889,  0.323863,\n",
       "        0.575936,  0.291171,  0.568073,  0.399777,  0.610456,  0.030328,\n",
       "        0.06351 ,  0.521336,  0.798018,  0.300153,  0.639695,  0.032465,\n",
       "        0.064001,  0.034347,  0.041976,  0.380257,  0.706291,  0.663719,\n",
       "        0.797174,  0.375803,  0.670096,  0.821904,  0.445203,  0.684397,\n",
       "        0.73432 ,  0.679713,  0.283092,  0.425291,  0.406584,  0.641963,\n",
       "        0.78764 ,  0.378905,  0.785858,  0.375112,  0.789656,  0.773605,\n",
       "        0.59052 , -0.793991, -0.978799, -0.324376,  0.238477, -0.360947,\n",
       "       -0.374502, -0.958656, -0.953488])"
      ]
     },
     "metadata": {},
     "output_type": "display_data"
    },
    {
     "data": {
      "text/plain": [
       "'Load'"
      ]
     },
     "metadata": {},
     "output_type": "display_data"
    },
    {
     "data": {
      "text/plain": [
       "array([     0.      ,  70640.179688,  76857.09375 , ..., 114365.335938,\n",
       "         1718.155762,    312.545349])"
      ]
     },
     "metadata": {},
     "output_type": "display_data"
    },
    {
     "data": {
      "text/plain": [
       "'SrcLoad'"
      ]
     },
     "metadata": {},
     "output_type": "display_data"
    },
    {
     "data": {
      "text/plain": [
       "array([    0.      , 70640.179688, 76857.09375 , ..., 23245.630859,\n",
       "        1718.155762,   312.545349])"
      ]
     },
     "metadata": {},
     "output_type": "display_data"
    },
    {
     "data": {
      "text/plain": [
       "'DstLoad'"
      ]
     },
     "metadata": {},
     "output_type": "display_data"
    },
    {
     "data": {
      "text/plain": [
       "array([0.00000000e+00, 9.09554016e+02, 9.98521960e+01, 2.18641006e+02,\n",
       "       2.18492279e+02, 2.18670639e+02, 2.18676361e+02, 6.44688600e+06,\n",
       "       2.18471497e+02, 2.18724609e+02, 1.34237290e+07, 1.46169830e+02,\n",
       "       5.69784150e+06, 2.18571716e+02, 8.10921550e+06, 2.18628326e+02,\n",
       "       6.13953500e+06, 2.18662430e+02, 1.39764710e+07, 2.18623352e+02,\n",
       "       1.23108810e+07, 2.18829224e+02, 1.03755460e+07, 2.18694321e+02,\n",
       "       7.51898750e+06, 2.18683502e+02, 3.81380400e+06, 2.18456955e+02,\n",
       "       1.02857140e+07, 2.18556915e+02, 8.89887700e+06, 2.18570404e+02,\n",
       "       2.56310675e+06, 1.46221512e+02, 1.04210520e+07, 2.18622910e+02,\n",
       "       8.67153300e+06, 2.18659271e+02, 1.42275440e+07, 2.18651489e+02,\n",
       "       3.33239825e+06, 2.18524597e+02, 3.45454550e+06, 2.18538559e+02,\n",
       "       1.32000000e+07, 2.18522552e+02, 5.31543650e+06, 2.18513550e+02,\n",
       "       6.52747250e+06, 2.18582748e+02, 6.49180350e+06, 2.18593216e+02,\n",
       "       5.79512200e+06, 2.18421982e+02, 1.27058830e+07, 4.60179969e+05,\n",
       "       5.35908750e+05, 5.38534938e+05, 5.88381312e+05, 1.24279438e+06,\n",
       "       4.73416531e+05, 9.00429453e+04, 1.05424182e+03, 3.08727715e+04,\n",
       "       4.95000000e+07, 4.80971700e+06, 7.47541000e+06, 1.07511310e+07,\n",
       "       3.56756750e+06, 9.09761536e+02, 9.98155520e+01, 2.18450424e+02,\n",
       "       2.18804672e+02, 2.18638794e+02, 2.18669815e+02, 7.61904750e+06,\n",
       "       2.18815857e+02, 2.18750259e+02, 6.31914900e+06, 1.46213333e+02,\n",
       "       2.18591782e+02, 8.27874550e+06, 2.18563141e+02, 1.37341050e+07,\n",
       "       2.18672272e+02, 8.36619700e+06, 2.18663834e+02, 6.73087800e+06,\n",
       "       2.18684738e+02, 2.89051100e+06, 2.18450653e+02, 4.25044700e+06,\n",
       "       2.18564529e+02, 2.55758900e+06, 2.18770721e+02, 1.15339810e+07,\n",
       "       2.18613174e+02, 3.07373875e+06, 2.18624893e+02, 1.46223282e+02,\n",
       "       9.17374500e+06, 2.18699036e+02, 8.80000000e+06, 2.18499603e+02,\n",
       "       4.44112150e+06, 2.18570572e+02, 7.11377200e+06, 2.18824890e+02,\n",
       "       3.29241850e+06, 2.18621857e+02, 8.19310350e+06, 2.18658722e+02,\n",
       "       5.63033150e+06, 2.18668121e+02, 5.47465450e+06, 2.18627411e+02,\n",
       "       2.18516068e+02, 1.35000000e+07, 2.18442429e+02, 4.96033400e+06,\n",
       "       7.27881625e+05, 1.03864238e+06, 1.10926412e+06, 8.22901500e+05,\n",
       "       1.00234931e+06, 8.05962266e+04, 1.05798108e+03, 3.23646328e+04,\n",
       "       1.95073900e+06, 5.30357150e+06, 4.56923100e+06, 4.08968625e+06,\n",
       "       6.20365550e+06, 1.03304344e+08, 7.53291797e+04, 1.53014727e+04,\n",
       "       1.13322588e+04, 8.65408516e+04, 1.55033965e+04, 1.09032793e+04,\n",
       "       6.67425781e+04, 1.59113398e+04, 1.33890195e+04, 1.61313447e+04,\n",
       "       6.86049844e+04, 1.00416543e+04, 1.53482529e+04, 7.17328594e+04,\n",
       "       1.11952979e+04, 1.75561934e+04, 7.53868047e+04, 1.07980820e+04,\n",
       "       1.00043770e+04, 1.36232051e+04, 1.35896689e+04, 1.21387744e+04,\n",
       "       1.39395361e+04, 1.18726475e+04, 1.53458154e+04, 1.49158633e+04,\n",
       "       1.17377744e+04, 1.33054922e+04, 1.54995029e+04, 1.30961504e+04,\n",
       "       1.32959648e+04, 1.48074902e+04, 1.17577441e+04, 1.34052734e+04,\n",
       "       1.53219277e+04, 1.26578613e+04, 1.34520576e+04, 1.45825908e+04,\n",
       "       1.12878516e+04, 1.28852588e+04, 2.01215508e+04, 1.09973428e+04,\n",
       "       1.59638311e+04, 2.51729609e+04, 1.43148174e+04, 1.28349756e+04,\n",
       "       3.85340938e+04, 1.19191533e+04, 1.27742363e+04, 1.59696523e+04,\n",
       "       1.18244062e+04, 1.34688291e+04, 1.45414189e+04, 1.13795547e+04,\n",
       "       1.30533398e+04, 1.72651953e+04, 1.12431660e+04, 1.52793184e+04,\n",
       "       1.48478115e+04, 1.08617021e+04, 1.52638203e+04, 1.43630332e+04,\n",
       "       1.46347373e+04, 1.46065059e+04, 1.34360234e+04, 1.17793809e+04,\n",
       "       1.44792275e+04, 1.32613223e+04, 1.15603418e+04, 1.49521816e+04,\n",
       "       1.42562568e+04, 1.25673203e+04, 1.47022920e+04, 1.36878584e+04,\n",
       "       1.16216709e+04, 1.50629062e+04, 1.44771172e+04, 1.26388076e+04,\n",
       "       1.54037256e+04, 1.59722676e+04, 1.26247236e+04, 1.50624814e+04,\n",
       "       1.05605322e+04, 1.26597295e+04, 1.47255361e+04, 1.23389082e+04,\n",
       "       1.16502041e+04, 1.51458906e+04, 1.48747363e+04, 1.21221357e+04,\n",
       "       1.48827725e+04, 1.27301035e+04, 1.39932441e+04, 1.48140830e+04,\n",
       "       1.31215020e+04, 1.34171064e+04, 1.57353613e+04, 1.43937725e+04,\n",
       "       1.27944570e+04, 1.44970449e+04, 1.44794424e+04, 1.29299199e+04,\n",
       "       1.50709541e+04, 1.30386426e+04, 1.39147041e+04, 1.44529639e+04,\n",
       "       1.47055713e+04, 1.31532637e+04, 1.46865146e+04, 1.43440010e+04,\n",
       "       1.17916328e+04, 1.46091064e+04, 1.10428066e+04, 1.26395254e+04,\n",
       "       1.51572871e+04, 1.39082461e+04, 1.25426299e+04, 1.49489668e+04,\n",
       "       1.50782822e+04, 1.24765439e+04, 1.49245791e+04, 1.01577451e+04,\n",
       "       1.37282598e+04, 1.49936846e+04, 1.26201299e+04, 1.11177861e+04,\n",
       "       1.51168164e+04, 1.45969717e+04, 1.18047363e+04, 1.49800127e+04,\n",
       "       1.28106348e+04, 1.11740264e+04, 1.57111299e+04, 1.45838115e+04,\n",
       "       1.30506680e+04, 1.49807217e+04, 1.28485664e+04, 1.12789062e+04,\n",
       "       1.46926426e+04, 1.33179062e+04, 1.21819600e+04, 1.49712646e+04,\n",
       "       1.27786416e+04, 1.12890879e+04, 1.46166396e+04, 1.33027314e+04,\n",
       "       1.24072178e+04, 1.52011836e+04, 1.27376533e+04, 1.13956660e+04,\n",
       "       1.55776416e+04, 1.50090449e+04, 1.34066084e+04, 1.51825273e+04,\n",
       "       1.26219600e+04, 1.15462920e+04, 1.52221406e+04, 1.37427520e+04,\n",
       "       1.24971143e+04, 1.49846582e+04, 1.26082178e+04, 1.14655029e+04,\n",
       "       1.51434893e+04, 1.38557959e+04, 1.25152900e+04, 1.51717715e+04,\n",
       "       1.33213369e+04, 1.16230176e+04, 1.55761064e+04, 1.53714688e+04,\n",
       "       1.35964551e+04, 1.50209170e+04, 1.28704648e+04, 1.15885732e+04,\n",
       "       1.51457793e+04, 1.42987480e+04, 1.27143633e+04, 1.48779482e+04,\n",
       "       1.27675508e+04, 1.18373857e+04, 1.47391240e+04, 1.41320752e+04,\n",
       "       1.25831436e+04, 1.45816377e+04, 1.26904268e+04, 1.16042949e+04,\n",
       "       1.57552295e+04, 1.42503408e+04, 1.34991191e+04, 1.51481035e+04,\n",
       "       1.51794297e+04, 1.13800537e+04, 1.52274785e+04, 1.37716328e+04,\n",
       "       1.28813135e+04, 1.32842139e+04, 1.51544121e+04, 1.20284922e+04,\n",
       "       1.50924072e+04, 1.45144746e+04, 1.17793662e+04, 4.47795117e+04,\n",
       "       1.29044688e+04, 1.18304355e+04, 4.01986406e+04, 1.35514424e+04,\n",
       "       1.20052520e+04, 1.49955420e+04, 1.35558877e+04, 1.20186328e+04,\n",
       "       1.48620205e+04, 1.26887061e+04, 1.11518965e+04, 1.42694229e+04,\n",
       "       1.35556514e+04, 1.21336045e+04, 1.48652549e+04, 1.31855615e+04,\n",
       "       1.11632871e+04, 1.47475840e+04, 1.30469258e+04, 1.13848398e+04,\n",
       "       1.53870645e+04, 1.30971250e+04, 1.19374199e+04, 1.47461191e+04,\n",
       "       1.32498135e+04, 1.22186123e+04, 1.49227393e+04, 1.24250986e+04,\n",
       "       1.13675869e+04, 1.48040059e+04, 1.33237168e+04, 1.22870527e+04,\n",
       "       1.45600439e+04, 1.30452773e+04, 1.12408564e+04, 1.47756416e+04,\n",
       "       1.23967021e+04, 1.16793984e+04, 1.49188613e+04, 1.60833428e+04,\n",
       "       1.19885957e+04, 6.98772812e+04, 1.55656006e+04, 1.24764336e+04,\n",
       "       7.11496172e+04, 1.48529209e+04, 1.15017305e+04, 7.22718516e+04,\n",
       "       1.39420830e+04, 1.24441084e+04, 1.23314863e+04, 1.34141406e+04,\n",
       "       1.16064395e+04, 1.47761201e+04, 1.34184121e+04, 1.19359385e+04,\n",
       "       1.53104404e+04, 1.24633643e+04, 1.15548438e+04, 1.66330254e+04,\n",
       "       1.38139854e+04, 1.23174482e+04, 1.38825713e+04, 1.22813584e+04,\n",
       "       1.12500498e+04, 1.38307793e+04, 1.51791924e+04, 1.20665098e+04,\n",
       "       1.76709434e+04, 1.10812793e+04, 1.31915791e+04, 1.29422148e+04,\n",
       "       1.18645127e+04, 1.34836035e+04, 1.38362217e+04, 1.36498213e+04,\n",
       "       1.63722295e+04, 1.21681182e+04, 1.60193809e+04, 1.19652061e+04,\n",
       "       2.07708574e+04, 1.46860146e+04, 1.90911953e+04, 1.12899521e+04,\n",
       "       3.02526156e+05, 2.26485812e+05, 1.22661055e+04, 3.18306812e+05,\n",
       "       2.22271219e+05, 1.14411797e+04, 3.42240703e+04, 3.32866797e+04,\n",
       "       1.32776641e+04, 5.06353750e+05, 3.90443812e+05, 1.14546104e+04,\n",
       "       3.02750312e+05, 2.42777016e+05, 1.23897109e+04, 1.84139590e+04,\n",
       "       1.48126914e+04, 1.14669570e+04, 2.96428312e+05, 2.12687500e+05,\n",
       "       1.25153828e+04, 1.38596396e+04, 1.54785107e+04, 1.15265732e+04,\n",
       "       1.57769189e+04, 1.49845674e+04, 1.35550479e+04, 1.48800430e+04,\n",
       "       1.34589541e+04, 1.16375088e+04, 1.57468877e+04, 1.39345020e+04,\n",
       "       1.26048340e+04, 1.37555254e+04, 1.39631953e+04, 1.17916670e+04,\n",
       "       1.38641787e+04, 1.42608730e+04, 1.27877021e+04, 1.41179443e+04,\n",
       "       1.36040889e+04, 1.17123818e+04, 2.64861797e+04, 2.30628477e+04,\n",
       "       1.38347461e+04, 4.69558164e+04, 2.17930410e+04, 1.17755654e+04,\n",
       "       3.69449531e+04, 2.32903027e+04, 1.28824365e+04, 2.39131523e+04,\n",
       "       2.37002695e+04, 1.19006816e+04, 2.39603184e+04, 2.34261660e+04,\n",
       "       1.28677324e+04, 2.42247070e+04, 2.35724238e+04, 1.16199248e+04,\n",
       "       2.46642383e+04, 2.37365762e+04, 1.35367021e+04, 2.40581934e+04,\n",
       "       2.41302520e+04, 1.15291865e+04, 2.37039023e+04, 2.22684980e+04,\n",
       "       1.22843203e+04, 2.39410820e+04, 2.37404082e+04, 1.10892178e+04,\n",
       "       2.38080195e+04, 2.26733887e+04, 1.19798779e+04, 2.39087969e+04,\n",
       "       2.32401992e+04, 1.11772578e+04, 2.41435996e+04, 2.10223320e+04,\n",
       "       1.20553223e+04, 2.39845859e+04, 2.44742441e+04, 1.09973652e+04,\n",
       "       2.41441191e+04, 2.17430254e+04, 1.33404004e+04, 2.40757871e+04,\n",
       "       2.37576133e+04, 1.18740576e+04, 2.30852793e+04, 2.08698223e+04,\n",
       "       1.17188320e+04, 2.41086055e+04, 2.46801641e+04, 1.23559287e+04,\n",
       "       2.46395879e+04, 2.40357207e+04, 1.24017100e+04, 2.41787285e+04,\n",
       "       2.24351543e+04, 1.24245820e+04, 2.41420566e+04, 2.35312188e+04,\n",
       "       1.14071338e+04, 2.43739062e+04, 2.61587559e+04, 1.24973555e+04,\n",
       "       2.40420547e+04, 2.34175703e+04, 1.15141631e+04, 2.39960742e+04,\n",
       "       2.22800293e+04, 1.25149414e+04, 2.45656406e+04, 2.26551855e+04,\n",
       "       1.25967246e+04, 2.39958242e+04, 2.32276074e+04, 1.26914180e+04,\n",
       "       2.39176387e+04, 2.36097793e+04, 1.17307646e+04, 2.65859375e+04,\n",
       "       2.30833848e+04, 1.27126523e+04, 2.39193750e+04, 2.29493828e+04,\n",
       "       1.16672412e+04, 2.40066035e+04, 2.32175977e+04, 1.25477324e+04,\n",
       "       2.46223965e+04, 2.36121582e+04, 1.45640234e+04, 2.41414727e+04,\n",
       "       2.35132520e+04, 1.13647705e+04, 2.38470176e+04, 2.23670898e+04,\n",
       "       1.14842725e+04, 2.41397852e+04, 2.35031211e+04, 1.17429258e+04,\n",
       "       2.38402852e+04, 2.22001094e+04, 1.16676631e+04, 2.40651211e+04,\n",
       "       2.18429336e+04, 1.19056748e+04, 2.44855000e+04, 2.47573340e+04,\n",
       "       1.27570205e+04, 2.41828027e+04, 2.28128223e+04, 1.10965215e+04,\n",
       "       2.37308652e+04, 2.39277793e+04, 1.19160088e+04, 2.37443496e+04,\n",
       "       2.31832520e+04, 1.11080957e+04, 2.40104941e+04, 2.30593164e+04,\n",
       "       1.20331123e+04, 2.39322773e+04, 2.30972266e+04, 1.12535518e+04,\n",
       "       2.43826035e+04, 2.44272109e+04, 1.29912275e+04, 2.36190723e+04,\n",
       "       2.24622363e+04, 1.12200273e+04, 2.35672773e+04, 2.32106211e+04,\n",
       "       1.22180596e+04, 2.37760684e+04, 2.33885645e+04, 1.12781523e+04,\n",
       "       2.28105000e+04, 2.10282988e+04, 1.22863242e+04, 2.38199141e+04,\n",
       "       2.39984102e+04, 1.13376230e+04, 2.45718613e+04, 2.37749668e+04,\n",
       "       1.33300547e+04, 2.40221289e+04, 2.33402363e+04, 1.13482930e+04,\n",
       "       2.37795000e+04, 2.26884688e+04, 1.24258740e+04, 2.38979668e+04,\n",
       "       2.33225645e+04, 1.17975811e+04, 2.37824883e+04, 2.32026758e+04,\n",
       "       1.23894893e+04, 2.37591543e+04, 2.23625352e+04, 1.14389980e+04,\n",
       "       2.42114355e+04, 2.33038965e+04, 1.21132090e+04, 1.90143223e+04,\n",
       "       1.97148066e+04, 1.33401611e+04, 1.76077930e+04, 1.49430635e+04,\n",
       "       1.13151650e+04, 2.54544023e+04, 6.13144414e+04, 1.16237480e+04,\n",
       "       2.20478125e+04, 6.42097656e+04, 1.16055215e+04, 2.24475957e+04,\n",
       "       2.75779473e+04, 1.17466484e+04, 2.33510586e+04, 2.28830820e+04,\n",
       "       1.28075254e+04, 2.18451348e+04, 2.16925176e+04, 1.17605596e+04,\n",
       "       2.35023223e+04, 2.15230000e+04, 1.20647637e+04, 2.18436562e+04,\n",
       "       2.39953574e+04, 1.17750293e+04, 1.95276738e+04, 2.01894570e+04,\n",
       "       1.23926914e+04, 2.27600879e+04, 2.16467812e+04, 1.15955508e+04,\n",
       "       1.93022031e+04, 2.21547402e+04, 1.36652578e+04, 2.38000879e+04,\n",
       "       2.13900234e+04, 1.18244072e+04, 2.20442070e+04, 2.10331699e+04,\n",
       "       1.10067012e+04, 2.26181484e+04, 2.09203008e+04, 1.19688271e+04,\n",
       "       2.26042422e+04, 2.04393027e+04, 1.11527012e+04, 1.73943926e+04,\n",
       "       1.92916816e+04, 1.16091309e+04, 2.32527125e+05, 2.89438188e+05,\n",
       "       1.16687432e+04, 1.66759922e+04, 1.21298828e+04, 1.20997861e+04,\n",
       "       1.77380742e+04, 1.50395781e+04, 1.12208809e+04, 2.21438922e+05,\n",
       "       3.33552469e+05, 1.21138281e+04, 2.19509422e+05, 2.84076406e+05,\n",
       "       1.12315273e+04, 1.35552305e+04, 1.32881797e+04, 1.19382090e+04,\n",
       "       1.42301387e+04, 1.55576514e+04, 1.12196260e+04, 1.21969326e+04,\n",
       "       1.41277617e+04, 1.19711025e+04, 1.32660615e+04, 1.45260840e+04,\n",
       "       1.10925967e+04, 1.44953076e+04, 1.64830039e+04, 1.18328369e+04,\n",
       "       1.26223516e+04, 1.35789814e+04, 1.37717598e+04, 1.80264629e+04,\n",
       "       2.09344375e+04, 1.19762686e+04, 2.04001172e+04, 1.50946230e+04,\n",
       "       1.16498438e+04, 1.25103232e+04, 1.40055068e+04, 1.19062676e+04,\n",
       "       1.20113652e+04, 1.38651943e+04, 1.18494443e+04, 1.18718271e+04,\n",
       "       1.25886787e+04, 1.25346934e+04, 1.60339170e+04, 2.45878262e+04,\n",
       "       6.20498340e+03, 2.30890308e+03, 2.30340031e+05, 2.02144500e+05,\n",
       "       1.35628800e+06, 3.13984344e+05, 4.99828656e+05, 1.17775750e+06,\n",
       "       1.07773453e+05, 2.30821020e+03, 1.11880838e+06, 1.67553000e+05,\n",
       "       2.29302047e+05, 2.09930438e+05, 2.80512812e+05, 2.34482750e+06,\n",
       "       9.19339453e+04])"
      ]
     },
     "metadata": {},
     "output_type": "display_data"
    },
    {
     "data": {
      "text/plain": [
       "'Loss'"
      ]
     },
     "metadata": {},
     "output_type": "display_data"
    },
    {
     "data": {
      "text/plain": [
       "array([0, 1, 2], dtype=int64)"
      ]
     },
     "metadata": {},
     "output_type": "display_data"
    },
    {
     "data": {
      "text/plain": [
       "'SrcLoss'"
      ]
     },
     "metadata": {},
     "output_type": "display_data"
    },
    {
     "data": {
      "text/plain": [
       "array([0, 1], dtype=int64)"
      ]
     },
     "metadata": {},
     "output_type": "display_data"
    },
    {
     "data": {
      "text/plain": [
       "'DstLoss'"
      ]
     },
     "metadata": {},
     "output_type": "display_data"
    },
    {
     "data": {
      "text/plain": [
       "array([0, 2], dtype=int64)"
      ]
     },
     "metadata": {},
     "output_type": "display_data"
    },
    {
     "data": {
      "text/plain": [
       "'pLoss'"
      ]
     },
     "metadata": {},
     "output_type": "display_data"
    },
    {
     "data": {
      "text/plain": [
       "array([0.0000000e+00, 6.2500000e-02, 6.9444400e-01, 8.9285700e-01,\n",
       "       2.2119000e-02, 9.7200000e-03, 1.3333333e+01])"
      ]
     },
     "metadata": {},
     "output_type": "display_data"
    },
    {
     "data": {
      "text/plain": [
       "'pSrcLoss'"
      ]
     },
     "metadata": {},
     "output_type": "display_data"
    },
    {
     "data": {
      "text/plain": [
       "array([0.      , 0.12285 , 1.612903, 3.846154, 0.055804, 0.025316])"
      ]
     },
     "metadata": {},
     "output_type": "display_data"
    },
    {
     "data": {
      "text/plain": [
       "'pDstLoss'"
      ]
     },
     "metadata": {},
     "output_type": "display_data"
    },
    {
     "data": {
      "text/plain": [
       "array([ 0.      , 22.222222])"
      ]
     },
     "metadata": {},
     "output_type": "display_data"
    },
    {
     "data": {
      "text/plain": [
       "'Retrans'"
      ]
     },
     "metadata": {},
     "output_type": "display_data"
    },
    {
     "data": {
      "text/plain": [
       "array([0], dtype=int64)"
      ]
     },
     "metadata": {},
     "output_type": "display_data"
    },
    {
     "data": {
      "text/plain": [
       "'SrcRetra'"
      ]
     },
     "metadata": {},
     "output_type": "display_data"
    },
    {
     "data": {
      "text/plain": [
       "array([0], dtype=int64)"
      ]
     },
     "metadata": {},
     "output_type": "display_data"
    },
    {
     "data": {
      "text/plain": [
       "'DstRetra'"
      ]
     },
     "metadata": {},
     "output_type": "display_data"
    },
    {
     "data": {
      "text/plain": [
       "array([0], dtype=int64)"
      ]
     },
     "metadata": {},
     "output_type": "display_data"
    },
    {
     "data": {
      "text/plain": [
       "'pRetran'"
      ]
     },
     "metadata": {},
     "output_type": "display_data"
    },
    {
     "data": {
      "text/plain": [
       "array([0.])"
      ]
     },
     "metadata": {},
     "output_type": "display_data"
    },
    {
     "data": {
      "text/plain": [
       "'pSrcRetr'"
      ]
     },
     "metadata": {},
     "output_type": "display_data"
    },
    {
     "data": {
      "text/plain": [
       "array([0.])"
      ]
     },
     "metadata": {},
     "output_type": "display_data"
    },
    {
     "data": {
      "text/plain": [
       "'pDstRetr'"
      ]
     },
     "metadata": {},
     "output_type": "display_data"
    },
    {
     "data": {
      "text/plain": [
       "array([0.])"
      ]
     },
     "metadata": {},
     "output_type": "display_data"
    },
    {
     "data": {
      "text/plain": [
       "'SrcGap'"
      ]
     },
     "metadata": {},
     "output_type": "display_data"
    },
    {
     "data": {
      "text/plain": [
       "array([nan,  0., 72., 40.])"
      ]
     },
     "metadata": {},
     "output_type": "display_data"
    },
    {
     "data": {
      "text/plain": [
       "'DstGap'"
      ]
     },
     "metadata": {},
     "output_type": "display_data"
    },
    {
     "data": {
      "text/plain": [
       "array([nan,  0., 72., 40.])"
      ]
     },
     "metadata": {},
     "output_type": "display_data"
    },
    {
     "data": {
      "text/plain": [
       "'Rate'"
      ]
     },
     "metadata": {},
     "output_type": "display_data"
    },
    {
     "data": {
      "text/plain": [
       "array([0.00000000e+00, 3.33333359e+04, 1.08695654e+04, ...,\n",
       "       7.88726500e+01, 9.98928000e-01, 9.30194000e-01])"
      ]
     },
     "metadata": {},
     "output_type": "display_data"
    },
    {
     "data": {
      "text/plain": [
       "'SrcRate'"
      ]
     },
     "metadata": {},
     "output_type": "display_data"
    },
    {
     "data": {
      "text/plain": [
       "array([  0.      , 157.67897 , 171.556015, ...,  39.804165,   0.998928,\n",
       "         0.930194])"
      ]
     },
     "metadata": {},
     "output_type": "display_data"
    },
    {
     "data": {
      "text/plain": [
       "'DstRate'"
      ]
     },
     "metadata": {},
     "output_type": "display_data"
    },
    {
     "data": {
      "text/plain": [
       "array([0.00000000e+00, 6.64879000e-01, 1.80892000e-01, 3.96089000e-01,\n",
       "       3.95819000e-01, 3.96142000e-01, 3.96153000e-01, 7.32600684e+03,\n",
       "       3.95782000e-01, 3.96240000e-01, 1.69491523e+04, 2.64800000e-01,\n",
       "       7.19424463e+03, 3.95963000e-01, 1.02389082e+04, 3.96066000e-01,\n",
       "       7.75193799e+03, 3.96128000e-01, 1.76470586e+04, 3.96057000e-01,\n",
       "       1.55440410e+04, 3.96430000e-01, 1.31004365e+04, 3.96185000e-01,\n",
       "       9.49367090e+03, 3.96166000e-01, 4.81540918e+03, 3.95755000e-01,\n",
       "       1.29870127e+04, 3.95936000e-01, 1.12359551e+04, 3.95961000e-01,\n",
       "       3.23624585e+03, 2.64894000e-01, 1.31578945e+04, 3.96056000e-01,\n",
       "       1.09489053e+04, 3.96122000e-01, 1.79640703e+04, 3.96108000e-01,\n",
       "       4.20757373e+03, 3.95878000e-01, 3.78787866e+03, 3.95903000e-01,\n",
       "       1.66666660e+04, 3.95874000e-01, 6.71140918e+03, 3.95858000e-01,\n",
       "       8.24175781e+03, 3.95983000e-01, 8.19672168e+03, 3.96002000e-01,\n",
       "       7.31707324e+03, 3.95692000e-01, 1.60427812e+04, 3.36388855e+02,\n",
       "       4.10972992e+02, 4.24043243e+02, 4.51212646e+02, 9.77039551e+02,\n",
       "       3.69856689e+02, 6.58208690e+01, 1.90985800e+00, 2.00299110e+01,\n",
       "       6.24999961e+04, 6.07287500e+03, 1.35746611e+04, 4.50450439e+03,\n",
       "       6.65030000e-01, 1.80825000e-01, 3.95744000e-01, 3.96385000e-01,\n",
       "       3.96085000e-01, 3.96141000e-01, 8.65800879e+03, 3.96406000e-01,\n",
       "       3.96287000e-01, 7.97872314e+03, 2.64879000e-01, 3.96000000e-01,\n",
       "       1.04529619e+04, 3.95948000e-01, 1.73410410e+04, 3.96145000e-01,\n",
       "       1.05633799e+04, 3.96130000e-01, 8.49858301e+03, 3.96168000e-01,\n",
       "       3.64963525e+03, 5.36672607e+03, 3.95950000e-01, 3.22927881e+03,\n",
       "       3.96324000e-01, 1.45631074e+04, 3.96038000e-01, 3.88098315e+03,\n",
       "       3.96060000e-01, 2.64897000e-01, 1.15830117e+04, 3.96194000e-01,\n",
       "       1.11111113e+04, 3.95833000e-01, 5.60747656e+03, 8.98203516e+03,\n",
       "       3.96422000e-01, 3.61010815e+03, 3.96054000e-01, 1.03448281e+04,\n",
       "       3.96121000e-01, 7.10900439e+03, 3.96138000e-01, 6.91244238e+03,\n",
       "       3.96064000e-01, 3.95862000e-01, 1.70454551e+04, 3.95729000e-01,\n",
       "       6.26304785e+03, 5.58191467e+02, 8.17828613e+02, 8.10865601e+02,\n",
       "       6.46935181e+02, 7.83085388e+02, 5.89153710e+01, 1.91663200e+00,\n",
       "       2.09978160e+01, 2.46305420e+03, 6.69642871e+03, 5.76923096e+03,\n",
       "       4.48430518e+03, 7.83289795e+03, 1.30434781e+05, 3.91823580e+01,\n",
       "       6.15004800e+00, 2.65001700e+00, 4.26350480e+01, 5.06128700e+00,\n",
       "       2.30001700e+00, 3.80003850e+01, 5.80010600e+00, 2.20005600e+00,\n",
       "       5.24998800e+00, 3.76016690e+01, 2.00008900e+00, 5.90003800e+00,\n",
       "       3.87025300e+01, 1.95013000e+00, 5.05030500e+00, 4.06550030e+01,\n",
       "       2.20000100e+00, 5.00003800e+00, 3.10020200e+00, 2.45000700e+00,\n",
       "       4.50005500e+00, 4.12942100e+00, 2.15049500e+00, 4.40066100e+00,\n",
       "       4.17393600e+00, 2.20334600e+00, 5.27643100e+00, 4.10849100e+00,\n",
       "       2.25001100e+00, 5.10737600e+00, 4.31353400e+00, 1.90012800e+00,\n",
       "       5.32215000e+00, 4.00000200e+00, 2.05010900e+00, 5.30002200e+00,\n",
       "       3.80010800e+00, 2.45005700e+00, 4.80001200e+00, 6.25028600e+00,\n",
       "       2.35003000e+00, 5.50020800e+00, 1.01516080e+01, 2.65012600e+00,\n",
       "       4.60011100e+00, 1.47018250e+01, 2.52693800e+00, 5.35001800e+00,\n",
       "       5.45020600e+00, 2.09666500e+00, 4.60023200e+00, 3.15054100e+00,\n",
       "       1.95001300e+00, 5.30017000e+00, 3.25019200e+00, 1.85004100e+00,\n",
       "       4.90004100e+00, 3.39528600e+00, 2.05001600e+00, 3.55254400e+00,\n",
       "       5.86024900e+00, 2.05081300e+00, 3.45746100e+00, 5.26884500e+00,\n",
       "       2.30283400e+00, 3.25951200e+00, 5.64473900e+00, 2.46049800e+00,\n",
       "       3.21433300e+00, 5.52593200e+00, 2.39978900e+00, 3.32184800e+00,\n",
       "       5.29160400e+00, 2.47357100e+00, 3.32911100e+00, 4.90005600e+00,\n",
       "       2.41354800e+00, 3.38623800e+00, 5.30021300e+00, 2.48654500e+00,\n",
       "       3.54709700e+00, 4.70046900e+00, 2.25420700e+00, 3.29526100e+00,\n",
       "       4.95004100e+00, 2.07445400e+00, 3.35368800e+00, 4.75020600e+00,\n",
       "       2.14057500e+00, 3.20387800e+00, 5.36979300e+00, 2.99463500e+00,\n",
       "       3.45053800e+00, 5.53739400e+00, 2.92279800e+00, 3.47544200e+00,\n",
       "       5.37604800e+00, 2.25797200e+00, 3.20609000e+00, 5.67986600e+00,\n",
       "       2.35295200e+00, 3.32802900e+00, 5.37627900e+00, 3.01086600e+00,\n",
       "       3.21869400e+00, 5.44153400e+00, 2.15000800e+00, 3.06888600e+00,\n",
       "       5.05003200e+00, 2.15006700e+00, 3.24592900e+00, 4.20003800e+00,\n",
       "       2.30000600e+00, 3.47017300e+00, 5.10002100e+00, 2.70006400e+00,\n",
       "       3.01529000e+00, 4.95000600e+00, 2.49605500e+00, 3.22378300e+00,\n",
       "       5.05021200e+00, 2.65004900e+00, 3.11954300e+00, 4.70008000e+00,\n",
       "       2.38570300e+00, 3.37986000e+00, 5.15034500e+00, 2.43598000e+00,\n",
       "       3.27534800e+00, 4.45056600e+00, 2.39784700e+00, 3.61258100e+00,\n",
       "       5.47920200e+00, 2.37899300e+00, 3.17167400e+00, 4.89672500e+00,\n",
       "       2.41017100e+00, 3.51997400e+00, 4.77526200e+00, 2.06692300e+00,\n",
       "       3.23816900e+00, 4.92179100e+00, 2.42251300e+00, 3.17679500e+00,\n",
       "       4.80168900e+00, 2.52808800e+00, 3.27532200e+00, 4.99871800e+00,\n",
       "       2.48694400e+00, 3.48422500e+00, 5.34073300e+00, 2.76845100e+00,\n",
       "       3.37922300e+00, 5.44518200e+00, 2.49993700e+00, 3.27470300e+00,\n",
       "       5.42857500e+00, 2.67056200e+00, 3.27550100e+00, 5.36828400e+00,\n",
       "       2.46049400e+00, 3.22351600e+00, 5.34512000e+00, 2.57134500e+00,\n",
       "       3.43144100e+00, 5.50205900e+00, 2.26319800e+00, 3.43165900e+00,\n",
       "       5.31724400e+00, 2.52866700e+00, 3.57104800e+00, 5.10570100e+00,\n",
       "       2.48672600e+00, 3.63988400e+00, 5.52251300e+00, 2.65896200e+00,\n",
       "       3.37552500e+00, 5.24014600e+00, 2.49998300e+00, 3.27883800e+00,\n",
       "       4.93895100e+00, 2.59669000e+00, 3.23370600e+00, 5.40009300e+00,\n",
       "       2.55003600e+00, 3.69124700e+00, 5.08458500e+00, 2.66611300e+00,\n",
       "       3.22368000e+00, 4.90042100e+00, 2.30003700e+00, 3.48202900e+00,\n",
       "       2.40004600e+00, 4.66042000e+00, 2.36785400e+00, 6.07446000e+00,\n",
       "       2.58270700e+00, 5.35758500e+00, 5.30757100e+00, 1.98140800e+00,\n",
       "       2.20610100e+01, 5.63990100e+00, 2.19630600e+00, 1.86199150e+01,\n",
       "       5.60530800e+00, 2.40772800e+00, 3.67385100e+00, 5.21957200e+00,\n",
       "       2.56821500e+00, 3.24636900e+00, 5.17750100e+00, 2.47453600e+00,\n",
       "       3.07722200e+00, 5.19277700e+00, 2.52740800e+00, 3.10003100e+00,\n",
       "       5.05039600e+00, 2.43649600e+00, 3.04794700e+00, 4.77296100e+00,\n",
       "       2.50417600e+00, 3.31008400e+00, 5.39782900e+00, 2.39789400e+00,\n",
       "       3.20534700e+00, 4.69253400e+00, 2.22210400e+00, 3.10041900e+00,\n",
       "       4.94808200e+00, 2.51245600e+00, 2.99504800e+00, 4.83114600e+00,\n",
       "       2.62564300e+00, 3.08956900e+00, 5.07707600e+00, 2.11342600e+00,\n",
       "       3.10032000e+00, 4.58031100e+00, 2.52929400e+00, 3.31009200e+00,\n",
       "       6.19157500e+00, 2.38340600e+00, 3.99514620e+01, 5.26390600e+00,\n",
       "       2.71189300e+00, 3.73019600e+01, 5.75881800e+00, 2.55210200e+00,\n",
       "       3.80514790e+01, 5.54223400e+00, 2.61355800e+00, 3.40002200e+00,\n",
       "       5.21042100e+00, 2.35588900e+00, 3.50033800e+00, 4.75007000e+00,\n",
       "       2.63958300e+00, 4.00035700e+00, 5.05002100e+00, 2.25002600e+00,\n",
       "       4.00023600e+00, 4.75050400e+00, 2.45418200e+00, 3.92841600e+00,\n",
       "       4.90000700e+00, 2.55002000e+00, 3.73366500e+00, 4.55008400e+00,\n",
       "       2.35003700e+00, 6.21902700e+00, 2.45008200e+00, 5.02723200e+00,\n",
       "       2.80950700e+00, 2.60006800e+00, 5.29303400e+00, 2.84309300e+00,\n",
       "       2.05011300e+00, 6.02103200e+00, 2.55355600e+00, 2.20008900e+00,\n",
       "       4.75266600e+00, 5.42106700e+00, 3.47121000e+00, 9.70608000e+00,\n",
       "       1.90723800e+00, 1.85026047e+02, 1.43697235e+02, 2.46260300e+00,\n",
       "       1.72649521e+02, 1.42080902e+02, 2.43503000e+00, 1.57503060e+01,\n",
       "       1.89000130e+01, 2.18211400e+00, 3.16890656e+02, 2.52716949e+02,\n",
       "       2.44777400e+00, 1.83509888e+02, 1.48179993e+02, 2.49990100e+00,\n",
       "       7.64952800e+00, 4.77326800e+00, 2.46065600e+00, 1.94949036e+02,\n",
       "       1.46762909e+02, 2.62855400e+00, 3.54360000e+00, 6.08280700e+00,\n",
       "       2.47347500e+00, 4.23447000e+00, 5.54925500e+00, 2.81602200e+00,\n",
       "       4.30759700e+00, 5.31823600e+00, 2.43392300e+00, 4.54713900e+00,\n",
       "       5.52264200e+00, 2.60107900e+00, 5.40002400e+00, 4.00709300e+00,\n",
       "       2.44664100e+00, 3.73322200e+00, 4.91085600e+00, 2.73250600e+00,\n",
       "       4.39717600e+00, 5.37568800e+00, 2.51326600e+00, 1.10433060e+01,\n",
       "       1.06685290e+01, 2.63148200e+00, 2.96845110e+01, 1.12006530e+01,\n",
       "       2.04296800e+00, 1.71075000e+01, 9.14593200e+00, 2.58804800e+00,\n",
       "       8.88740300e+00, 1.03604750e+01, 2.30819200e+00, 9.33860400e+00,\n",
       "       9.78920500e+00, 2.84405400e+00, 9.69220200e+00, 1.08699810e+01,\n",
       "       2.53587900e+00, 9.59077500e+00, 1.01401790e+01, 2.65003800e+00,\n",
       "       9.49135700e+00, 1.08554320e+01, 2.05007700e+00, 9.44189400e+00,\n",
       "       9.39161000e+00, 2.30001200e+00, 9.59425500e+00, 1.05545240e+01,\n",
       "       2.30005800e+00, 1.01996990e+01, 9.39168900e+00, 2.20008800e+00,\n",
       "       1.03595000e+01, 1.00080360e+01, 2.15007700e+00, 1.00478170e+01,\n",
       "       8.55914200e+00, 2.35002300e+00, 9.33702900e+00, 1.05781010e+01,\n",
       "       2.05003400e+00, 9.59300200e+00, 9.82057600e+00, 2.40007300e+00,\n",
       "       9.24042300e+00, 1.03230760e+01, 2.63444100e+00, 9.46432600e+00,\n",
       "       8.65170600e+00, 2.31949000e+00, 9.46563500e+00, 1.12270490e+01,\n",
       "       2.13478600e+00, 9.35683200e+00, 1.05928830e+01, 2.43522500e+00,\n",
       "       9.35638800e+00, 9.45031600e+00, 2.37263800e+00, 9.40751900e+00,\n",
       "       1.05610130e+01, 2.44787900e+00, 9.30020700e+00, 9.75004700e+00,\n",
       "       2.67048900e+00, 9.24445600e+00, 1.05656770e+01, 2.51288900e+00,\n",
       "       9.35016300e+00, 9.42297100e+00, 2.62848100e+00, 9.50040100e+00,\n",
       "       9.28050600e+00, 2.63147100e+00, 9.45367100e+00, 1.03539280e+01,\n",
       "       2.64366900e+00, 9.25153600e+00, 1.03034540e+01, 2.43404300e+00,\n",
       "       9.25093200e+00, 1.02125410e+01, 2.48541500e+00, 9.16163300e+00,\n",
       "       1.03011150e+01, 2.27178600e+00, 9.56457300e+00, 1.03830630e+01,\n",
       "       2.39607600e+00, 9.56380200e+00, 9.78496600e+00, 2.60003900e+00,\n",
       "       9.41558000e+00, 1.06448100e+01, 1.80001700e+00, 9.46967900e+00,\n",
       "       9.43504300e+00, 1.99238700e+00, 9.52214100e+00, 1.07445320e+01,\n",
       "       2.43733000e+00, 9.22059200e+00, 9.17845800e+00, 1.97096000e+00,\n",
       "       9.33769700e+00, 9.79034900e+00, 2.21927400e+00, 9.52512200e+00,\n",
       "       1.05370520e+01, 2.52681400e+00, 9.47489800e+00, 9.62754700e+00,\n",
       "       2.16069300e+00, 9.57253700e+00, 1.05307590e+01, 2.45895200e+00,\n",
       "       9.26506700e+00, 9.72180300e+00, 2.42419800e+00, 9.41744900e+00,\n",
       "       1.02242930e+01, 2.52727600e+00, 9.26520300e+00, 1.00718290e+01,\n",
       "       2.48730800e+00, 9.46422400e+00, 1.08239180e+01, 2.21001700e+00,\n",
       "       9.25966000e+00, 9.56337900e+00, 1.93857700e+00, 9.40195500e+00,\n",
       "       1.00050840e+01, 2.33318800e+00, 9.09578200e+00, 9.24639900e+00,\n",
       "       2.46141400e+00, 9.44720300e+00, 8.69382600e+00, 2.62548900e+00,\n",
       "       9.29249400e+00, 9.44344600e+00, 2.52577400e+00, 9.54414300e+00,\n",
       "       9.29303400e+00, 2.80887700e+00, 9.44061000e+00, 9.54124000e+00,\n",
       "       2.17609800e+00, 9.18309800e+00, 8.93210800e+00, 2.31633100e+00,\n",
       "       9.43049600e+00, 9.78174700e+00, 2.65611500e+00, 9.12682200e+00,\n",
       "       9.22759100e+00, 2.44308200e+00, 9.47165200e+00, 9.02070000e+00,\n",
       "       2.50002100e+00, 9.51538200e+00, 9.01412900e+00, 2.20007800e+00,\n",
       "       6.51308500e+00, 8.06798600e+00, 2.00004500e+00, 8.95070800e+00,\n",
       "       4.52902400e+00, 1.91979000e+00, 1.26380070e+01, 3.68740460e+01,\n",
       "       2.56903300e+00, 9.73182800e+00, 3.66853790e+01, 2.11941300e+00,\n",
       "       9.61433300e+00, 1.09500120e+01, 2.28727200e+00, 9.50756700e+00,\n",
       "       7.41043400e+00, 2.32767700e+00, 8.57659100e+00, 6.95542200e+00,\n",
       "       2.03202700e+00, 9.95135100e+00, 7.05081700e+00, 1.93619400e+00,\n",
       "       8.28287700e+00, 7.65147000e+00, 2.15046800e+00, 7.51940000e+00,\n",
       "       7.10404900e+00, 2.09342900e+00, 8.69552200e+00, 6.95733600e+00,\n",
       "       2.44187600e+00, 7.32100200e+00, 6.96145600e+00, 2.42521800e+00,\n",
       "       9.30708300e+00, 7.11147600e+00, 2.58054900e+00, 9.05678000e+00,\n",
       "       6.85872100e+00, 2.36183700e+00, 9.00882600e+00, 6.95606800e+00,\n",
       "       2.51366200e+00, 9.57153500e+00, 7.25433200e+00, 2.47465500e+00,\n",
       "       6.18451000e+00, 6.58456400e+00, 2.55582000e+00, 1.44134262e+02,\n",
       "       1.74817490e+02, 2.33497800e+00, 5.45003600e+00, 2.47298200e+00,\n",
       "       2.43072100e+00, 9.41904400e+00, 4.35527900e+00, 1.83663900e+00,\n",
       "       1.42115524e+02, 2.02970154e+02, 2.05539600e+00, 1.48626068e+02,\n",
       "       1.81923798e+02, 1.99992300e+00, 5.91359600e+00, 3.36574500e+00,\n",
       "       2.27763100e+00, 5.64420700e+00, 3.75009800e+00, 2.55003500e+00,\n",
       "       4.95005800e+00, 4.00008600e+00, 2.25003400e+00, 5.02497300e+00,\n",
       "       3.85023900e+00, 2.40007100e+00, 5.08566400e+00, 3.85083200e+00,\n",
       "       1.95003400e+00, 5.10453200e+00, 3.73855900e+00, 2.30000500e+00,\n",
       "       7.35020200e+00, 8.52465200e+00, 2.41536400e+00, 7.50038500e+00,\n",
       "       4.25313500e+00, 2.61763000e+00, 2.54569000e+00, 5.53584600e+00,\n",
       "       2.16522600e+00, 2.24101600e+00, 5.59084000e+00, 2.05256700e+00,\n",
       "       2.52666400e+00, 5.30000100e+00, 2.21328800e+00, 4.50667200e+00,\n",
       "       8.20867300e+00, 1.65742380e+01, 8.30780000e-01, 2.10548477e+02,\n",
       "       1.75777817e+02, 4.19903412e+02, 2.87005798e+02, 4.56881775e+02,\n",
       "       3.64630798e+02, 3.98570480e+01, 8.30530000e-01, 3.46380310e+02,\n",
       "       1.45698257e+02, 2.09599670e+02, 1.91892548e+02, 2.56410278e+02,\n",
       "       7.25952820e+02, 3.30792850e+01])"
      ]
     },
     "metadata": {},
     "output_type": "display_data"
    },
    {
     "data": {
      "text/plain": [
       "'SIntPkt'"
      ]
     },
     "metadata": {},
     "output_type": "display_data"
    },
    {
     "data": {
      "text/plain": [
       "array([        nan,    6.342   ,    5.829   , ...,   25.123   ,\n",
       "       1001.073313, 1075.044125])"
      ]
     },
     "metadata": {},
     "output_type": "display_data"
    },
    {
     "data": {
      "text/plain": [
       "'DIntPkt'"
      ]
     },
     "metadata": {},
     "output_type": "display_data"
    },
    {
     "data": {
      "text/plain": [
       "array([           nan, 2.86719960e+04, 3.60957400e+04, 3.37923440e+04,\n",
       "       3.20000200e+04, 1.50403375e+03, 5.52817100e+03, 2.52468650e+03,\n",
       "       2.52640500e+03, 2.43207440e+04, 2.52434450e+03, 2.52427850e+03,\n",
       "       5.65798800e+03, 2.52664550e+03, 2.52372150e+03, 5.74486350e+03,\n",
       "       3.77642900e+03, 2.50871540e+04, 5.74307300e+03, 2.52548700e+03,\n",
       "       5.74429200e+03, 2.52483300e+03, 5.74520900e+03, 2.52443900e+03,\n",
       "       5.74271150e+03, 2.52489050e+03, 5.74417150e+03, 2.40644320e+04,\n",
       "       2.52251500e+03, 5.11896500e+03, 2.52407100e+03, 5.74471000e+03,\n",
       "       2.52419600e+03, 5.74412300e+03, 2.52681350e+03, 5.74417800e+03,\n",
       "       2.52565800e+03, 5.74255950e+03, 2.52550200e+03, 5.74620500e+03,\n",
       "       3.77509450e+03, 5.74488600e+03, 2.52489550e+03, 5.74404450e+03,\n",
       "       2.52447550e+03, 5.74458450e+03, 2.48330360e+04, 2.52456550e+03,\n",
       "       5.74335900e+03, 2.52603150e+03, 1.14877170e+04, 2.52587000e+03,\n",
       "       5.11822900e+03, 2.52605500e+03, 5.74343250e+03, 2.52615900e+03,\n",
       "       2.25273880e+04, 5.74318100e+03, 2.52535950e+03, 5.74503550e+03,\n",
       "       2.52523850e+03, 2.52721800e+03, 5.74364800e+03, 2.97275000e+00,\n",
       "       2.43325000e+00, 2.35825000e+00, 2.21625000e+00, 1.02350000e+00,\n",
       "       2.70375000e+00, 1.51927500e+01, 5.23599000e+02, 4.99253320e+01,\n",
       "       5.74097100e+03, 2.32964880e+04, 5.74238300e+03, 5.74434600e+03,\n",
       "       1.14891790e+04, 5.74192500e+03, 6.74561400e+03, 2.79035360e+04,\n",
       "       2.94402560e+04, 1.50369075e+03, 5.53020050e+03, 2.52688900e+03,\n",
       "       2.52279800e+03, 2.52471200e+03, 2.52435400e+03, 5.65685250e+03,\n",
       "       2.52266900e+03, 2.52342550e+03, 5.74277550e+03, 3.77530550e+03,\n",
       "       5.74298250e+03, 2.52525500e+03, 5.74464300e+03, 2.52558600e+03,\n",
       "       5.74509350e+03, 2.52432550e+03, 5.74577600e+03, 2.52442300e+03,\n",
       "       5.74616150e+03, 2.52418150e+03, 5.11988850e+03, 2.52688650e+03,\n",
       "       5.74510300e+03, 2.52557000e+03, 5.74397700e+03, 2.52318950e+03,\n",
       "       5.74555550e+03, 2.52500800e+03, 5.74634900e+03, 2.52487250e+03,\n",
       "       5.74562150e+03, 3.77504850e+03, 5.74374000e+03, 2.52401650e+03,\n",
       "       5.74421600e+03, 2.52632050e+03, 5.74518500e+03, 2.52550000e+03,\n",
       "       5.74633000e+03, 2.52256500e+03, 1.14886620e+04, 2.52490750e+03,\n",
       "       5.11919450e+03, 2.52448200e+03, 5.74658950e+03, 2.52437350e+03,\n",
       "       5.74468300e+03, 2.52484350e+03, 5.74666550e+03, 2.52613000e+03,\n",
       "       5.74644900e+03, 2.52698150e+03, 5.74580100e+03, 1.79150000e+00,\n",
       "       1.22275000e+00, 1.23325000e+00, 1.54575000e+00, 1.27700000e+00,\n",
       "       1.69735000e+01, 5.21748500e+02, 4.76240000e+01, 5.74595750e+03,\n",
       "       5.74530000e+03, 5.74475700e+03, 1.14890960e+04, 5.74485950e+03,\n",
       "       6.74704900e+03, 2.57968730e+01, 1.62600359e+02, 3.77356125e+02,\n",
       "       2.45230230e+01, 1.95653094e+02, 4.25536500e+02, 2.83679260e+01,\n",
       "       1.71313594e+02, 4.44440031e+02, 1.88681297e+02, 2.65611070e+01,\n",
       "       4.87798531e+02, 1.69655531e+02, 2.58060020e+01, 4.99991406e+02,\n",
       "       1.96080047e+02, 2.45696600e+01, 4.44475375e+02, 1.98020719e+02,\n",
       "       3.17482844e+02, 4.00006188e+02, 2.19782047e+02, 2.65508250e+02,\n",
       "       5.27480312e+02, 2.24720375e+02, 2.74906875e+02, 5.12643250e+02,\n",
       "       1.88727937e+02, 2.52519250e+02, 4.41369219e+02, 2.12501828e+02,\n",
       "       2.53594562e+02, 5.12815687e+02, 2.17005141e+02, 2.65329531e+02,\n",
       "       4.76200719e+02, 2.13951797e+02, 2.59734438e+02, 4.00004844e+02,\n",
       "       2.06192781e+02, 1.58734734e+02, 4.16672469e+02, 1.80174594e+02,\n",
       "       9.80378360e+01, 3.70360969e+02, 2.15062875e+02, 6.77955630e+01,\n",
       "       4.35985719e+02, 1.85185094e+02, 1.81825125e+02, 5.42512812e+02,\n",
       "       2.15050406e+02, 3.12507375e+02, 5.59291500e+02, 1.86916672e+02,\n",
       "       3.03062656e+02, 5.26309500e+02, 2.02027437e+02, 2.94102781e+02,\n",
       "       4.76209156e+02, 2.81746469e+02, 1.81861344e+02, 4.76199000e+02,\n",
       "       2.89807594e+02, 2.19197609e+02, 4.54543813e+02, 3.07677313e+02,\n",
       "       2.04735078e+02, 4.50593406e+02, 3.07711625e+02, 1.95809562e+02,\n",
       "       4.32547250e+02, 3.03098125e+02, 2.16983641e+02, 4.52084156e+02,\n",
       "       3.02984531e+02, 2.15067672e+02, 4.32558219e+02, 2.98512063e+02,\n",
       "       1.86917109e+02, 4.52093094e+02, 2.85653906e+02, 2.10543031e+02,\n",
       "       4.64967812e+02, 3.07758469e+02, 2.00002797e+02, 5.42502313e+02,\n",
       "       3.02974312e+02, 2.08330750e+02, 4.89915031e+02, 3.17471031e+02,\n",
       "       1.94166484e+02, 3.54617188e+02, 2.95650531e+02, 2.04856562e+02,\n",
       "       3.64836625e+02, 2.92562937e+02, 2.14860984e+02, 5.04517594e+02,\n",
       "       3.18855563e+02, 1.91749078e+02, 4.53629937e+02, 3.01753062e+02,\n",
       "       2.14841234e+02, 3.80704844e+02, 3.18235500e+02, 2.00007328e+02,\n",
       "       4.90258906e+02, 3.22981375e+02, 2.26407828e+02, 4.54554188e+02,\n",
       "       3.10766031e+02, 2.35297453e+02, 4.25534562e+02, 2.88609844e+02,\n",
       "       1.94175531e+02, 3.63630031e+02, 3.28543594e+02, 2.00002766e+02,\n",
       "       3.91748875e+02, 3.17988375e+02, 1.96073719e+02, 4.14309031e+02,\n",
       "       3.28444719e+02, 2.10541578e+02, 4.38087094e+02, 3.03531406e+02,\n",
       "       1.92298578e+02, 4.12430875e+02, 3.13066937e+02, 2.22232937e+02,\n",
       "       4.44334031e+02, 2.84214594e+02, 1.92326922e+02, 4.24408813e+02,\n",
       "       3.20837406e+02, 2.23987453e+02, 4.50532250e+02, 2.91486281e+02,\n",
       "       2.16278703e+02, 4.89490781e+02, 3.10752094e+02, 2.26052172e+02,\n",
       "       4.52084500e+02, 3.18910875e+02, 2.16290703e+02, 4.04324656e+02,\n",
       "       3.03652750e+02, 2.23730969e+02, 4.42865219e+02, 2.94573062e+02,\n",
       "       1.95749562e+02, 3.71996188e+02, 3.03582125e+02, 2.06673406e+02,\n",
       "       4.42857469e+02, 3.13122563e+02, 1.93738250e+02, 3.87485594e+02,\n",
       "       3.13038375e+02, 2.10680500e+02, 4.52128156e+02, 3.18011062e+02,\n",
       "       1.97873687e+02, 4.04329313e+02, 2.99039688e+02, 2.06679031e+02,\n",
       "       4.93167219e+02, 2.98992875e+02, 1.99998687e+02, 4.13343719e+02,\n",
       "       2.87481250e+02, 2.23714172e+02, 4.52073000e+02, 2.80906938e+02,\n",
       "       1.93748297e+02, 3.95738844e+02, 3.03783469e+02, 2.19186266e+02,\n",
       "       4.52100250e+02, 3.07928063e+02, 2.16308094e+02, 4.04353219e+02,\n",
       "       3.16808875e+02, 2.09098187e+02, 4.35967625e+02, 2.70511625e+02,\n",
       "       1.94494172e+02, 3.67278094e+02, 3.17956906e+02, 2.27226063e+02,\n",
       "       4.75987906e+02, 2.94641094e+02, 4.08172156e+02, 2.22238594e+02,\n",
       "       4.30922000e+02, 1.70938484e+02, 4.00016813e+02, 2.04363609e+02,\n",
       "       1.96099641e+02, 5.26314188e+02, 4.78392070e+01, 1.86886672e+02,\n",
       "       4.76189250e+02, 5.36182300e+01, 1.92027219e+02, 4.41356750e+02,\n",
       "       2.70711719e+02, 1.93729500e+02, 3.87520125e+02, 3.13126688e+02,\n",
       "       2.10674172e+02, 4.34006875e+02, 3.35875406e+02, 1.95827812e+02,\n",
       "       3.95727500e+02, 3.20673906e+02, 2.16981406e+02, 4.42872625e+02,\n",
       "       3.39495187e+02, 2.13734234e+02, 4.01288750e+02, 3.13021250e+02,\n",
       "       1.92881234e+02, 4.13203094e+02, 3.23097344e+02, 2.18797250e+02,\n",
       "       4.53665750e+02, 3.33840125e+02, 2.23709812e+02, 4.34041250e+02,\n",
       "       3.45387531e+02, 2.13782984e+02, 3.87461375e+02, 3.34937406e+02,\n",
       "       2.19199047e+02, 5.16638844e+02, 3.32729938e+02, 2.25721047e+02,\n",
       "       4.03304312e+02, 3.12865281e+02, 1.62903437e+02, 4.19828937e+02,\n",
       "       2.77404710e+01, 1.94389094e+02, 3.79581219e+02, 2.67746930e+01,\n",
       "       1.74363281e+02, 4.34000094e+02, 2.62462830e+01, 1.89799219e+02,\n",
       "       3.95755750e+02, 2.89865906e+02, 2.16990078e+02, 4.71737750e+02,\n",
       "       2.81682875e+02, 2.19722875e+02, 3.90028500e+02, 2.46914766e+02,\n",
       "       1.96081141e+02, 4.41305687e+02, 2.46938516e+02, 2.08334297e+02,\n",
       "       3.98418656e+02, 2.53159906e+02, 2.02025750e+02, 4.24451156e+02,\n",
       "       2.66661187e+02, 2.17392437e+02, 4.16665656e+02, 1.65306703e+02,\n",
       "       3.99997156e+02, 2.08350172e+02, 3.63619750e+02, 3.77362500e+02,\n",
       "       1.99538328e+02, 3.63596938e+02, 4.76194563e+02, 1.69504562e+02,\n",
       "       4.17798406e+02, 4.34840594e+02, 2.38726516e+02, 3.92720937e+02,\n",
       "       2.88084000e+02, 1.03028188e+02, 5.24318375e+02, 5.66833000e+00,\n",
       "       7.21661000e+00, 4.14639781e+02, 6.36490300e+00, 7.30774200e+00,\n",
       "       4.42247844e+02, 6.64510230e+01, 5.54071560e+01, 4.69286313e+02,\n",
       "       3.15533700e+00, 3.95623300e+00, 4.48516500e+02, 5.44915500e+00,\n",
       "       6.74861800e+00, 4.13307281e+02, 1.39021141e+02, 2.21934016e+02,\n",
       "       4.52089406e+02, 5.33892600e+00, 7.07356400e+00, 3.95740156e+02,\n",
       "       3.19150906e+02, 1.75583109e+02, 4.52102625e+02, 2.49714766e+02,\n",
       "       1.91701891e+02, 3.71983687e+02, 2.53891609e+02, 2.14876828e+02,\n",
       "       4.61701031e+02, 2.34628453e+02, 1.93743500e+02, 4.04348687e+02,\n",
       "       2.12755078e+02, 2.81771344e+02, 4.61730469e+02, 2.70768687e+02,\n",
       "       2.18832891e+02, 3.87485125e+02, 2.30355813e+02, 2.14834016e+02,\n",
       "       4.52071906e+02, 9.42983050e+01, 1.00758539e+02, 4.04353656e+02,\n",
       "       3.83697620e+01, 8.92749770e+01, 5.56395125e+02, 5.85064180e+01,\n",
       "       1.09844359e+02, 4.13351656e+02, 1.13107773e+02, 9.86286720e+01,\n",
       "       4.93176188e+02, 1.07649914e+02, 1.04294789e+02, 3.71997156e+02,\n",
       "       1.03723852e+02, 9.39468590e+01, 4.42846375e+02, 1.04817547e+02,\n",
       "       1.00246852e+02, 3.90212531e+02, 1.05909797e+02, 9.39868670e+01,\n",
       "       4.76196094e+02, 1.06468172e+02, 1.07036492e+02, 4.25537406e+02,\n",
       "       1.04817656e+02, 9.53345310e+01, 4.25527906e+02, 9.86158050e+01,\n",
       "       1.07054344e+02, 4.44446500e+02, 9.71090080e+01, 1.00501242e+02,\n",
       "       4.54554531e+02, 9.97000700e+01, 1.16946328e+02, 4.16667250e+02,\n",
       "       1.07614086e+02, 9.53374840e+01, 4.76196844e+02, 1.04810406e+02,\n",
       "       1.02689477e+02, 4.08160406e+02, 1.08780367e+02, 9.76773050e+01,\n",
       "       4.08554562e+02, 1.06244875e+02, 1.16426930e+02, 4.71741094e+02,\n",
       "       1.05887852e+02, 8.97839530e+01, 4.76925125e+02, 1.07138031e+02,\n",
       "       9.51335390e+01, 4.52072500e+02, 1.07065391e+02, 1.09306828e+02,\n",
       "       4.32588937e+02, 1.06482859e+02, 9.53451410e+01, 4.52063844e+02,\n",
       "       1.07659828e+02, 1.03169188e+02, 3.87482844e+02, 1.07594094e+02,\n",
       "       9.43413590e+01, 4.42905469e+02, 1.06892320e+02, 1.05835156e+02,\n",
       "       3.95706719e+02, 1.04719445e+02, 1.07529828e+02, 4.25509656e+02,\n",
       "       1.05261898e+02, 9.66086020e+01, 3.95724344e+02, 1.07526992e+02,\n",
       "       9.70895160e+01, 4.61707750e+02, 1.07534109e+02, 9.80323750e+01,\n",
       "       4.22737813e+02, 1.09318953e+02, 9.72924690e+01, 4.93160125e+02,\n",
       "       1.04808820e+02, 9.64148280e+01, 4.32584000e+02, 1.04821781e+02,\n",
       "       1.02594523e+02, 4.23988000e+02, 1.06463594e+02, 9.44196950e+01,\n",
       "       5.40555813e+02, 1.05911859e+02, 1.06514391e+02, 5.12826344e+02,\n",
       "       1.05346312e+02, 9.35643750e+01, 4.25541187e+02, 1.08783563e+02,\n",
       "       1.09414820e+02, 5.26288500e+02, 1.07462992e+02, 1.02612305e+02,\n",
       "       4.76218281e+02, 1.04956609e+02, 9.49290470e+01, 4.19317000e+02,\n",
       "       1.05921883e+02, 1.04295875e+02, 4.93185875e+02, 1.04853945e+02,\n",
       "       9.53690470e+01, 4.04342188e+02, 1.08280570e+02, 1.03229094e+02,\n",
       "       4.42851688e+02, 1.06474617e+02, 9.81490310e+01, 3.95754781e+02,\n",
       "       1.08237531e+02, 9.96233050e+01, 4.33980906e+02, 1.05945930e+02,\n",
       "       9.27122580e+01, 4.53643656e+02, 1.08247938e+02, 1.04852461e+02,\n",
       "       5.56462125e+02, 1.06573805e+02, 1.00177383e+02, 4.32536500e+02,\n",
       "       1.10050727e+02, 1.08266453e+02, 4.42857156e+02, 1.05915305e+02,\n",
       "       1.15041219e+02, 3.87532125e+02, 1.07675750e+02, 1.05964922e+02,\n",
       "       4.33959906e+02, 1.04790883e+02, 1.07606398e+02, 3.64712250e+02,\n",
       "       1.05967156e+02, 1.04860062e+02, 5.04654562e+02, 1.08850773e+02,\n",
       "       1.11890367e+02, 4.42851375e+02, 1.05947977e+02, 1.02162875e+02,\n",
       "       4.17316156e+02, 1.09421836e+02, 1.08239914e+02, 4.22720969e+02,\n",
       "       1.05407687e+02, 1.10648195e+02, 4.40616344e+02, 1.04867383e+02,\n",
       "       1.10667008e+02, 4.44439031e+02, 1.52717750e+02, 1.23459914e+02,\n",
       "       4.87824000e+02, 1.26098297e+02, 2.47781547e+02, 5.26317125e+02,\n",
       "       8.29170860e+01, 3.04661950e+01, 4.00014563e+02, 1.06738812e+02,\n",
       "       2.73376760e+01, 4.87789469e+02, 1.06804750e+02, 9.14643670e+01,\n",
       "       4.57462469e+02, 1.05855094e+02, 1.34039547e+02, 4.51631188e+02,\n",
       "       1.17727719e+02, 1.42948484e+02, 5.23797750e+02, 1.01557484e+02,\n",
       "       1.40952359e+02, 5.43775688e+02, 1.21975320e+02, 1.29874453e+02,\n",
       "       5.05463219e+02, 1.34381953e+02, 1.39865000e+02, 5.07185063e+02,\n",
       "       1.16300617e+02, 1.42883500e+02, 4.51679031e+02, 1.38093328e+02,\n",
       "       1.42869078e+02, 4.26019156e+02, 1.08779852e+02, 1.39963891e+02,\n",
       "       4.35263844e+02, 1.11774523e+02, 1.45061484e+02, 4.52059906e+02,\n",
       "       1.12407844e+02, 1.42988984e+02, 3.95749031e+02, 1.04715516e+02,\n",
       "       1.37137063e+02, 4.34004719e+02, 1.61767766e+02, 1.50924531e+02,\n",
       "       3.91425469e+02, 7.31583700e+00, 5.89637200e+00, 4.24372156e+02,\n",
       "       1.88999016e+02, 4.44766906e+02, 4.13363500e+02, 1.10536656e+02,\n",
       "       2.64620313e+02, 5.86465375e+02, 7.38636600e+00, 5.39454400e+00,\n",
       "       4.89480094e+02, 6.80252600e+00, 6.41102000e+00, 5.42492750e+02,\n",
       "       1.93749016e+02, 3.23910312e+02, 4.44710906e+02, 2.04727266e+02,\n",
       "       2.68295781e+02, 3.90664688e+02, 2.17911234e+02, 2.46928516e+02,\n",
       "       4.34789469e+02, 1.96891844e+02, 2.56404250e+02, 4.08157969e+02,\n",
       "       2.11357188e+02, 2.56410250e+02, 5.00010312e+02, 2.23712453e+02,\n",
       "       2.66693906e+02, 4.25547406e+02, 1.43197844e+02, 1.20631578e+02,\n",
       "       4.08160844e+02, 1.32458922e+02, 2.34849375e+02, 4.00543281e+02,\n",
       "       3.99999844e+02, 2.00107766e+02, 4.77389937e+02, 4.54513500e+02,\n",
       "       2.06610406e+02, 5.18174000e+02, 4.39741000e+02, 2.10222438e+02,\n",
       "       4.70046250e+02, 4.13817656e+02, 1.15734000e+02, 4.04776156e+02,\n",
       "       1.20368837e+03, 4.74950000e+00, 5.68900000e+00, 2.38150000e+00,\n",
       "       3.48425000e+00, 2.18875000e+00, 2.74250000e+00, 2.50896660e+01,\n",
       "       2.48270040e+04, 2.40656680e+04, 2.40638200e+04, 2.25270400e+04,\n",
       "       2.38115100e+04, 2.22714380e+04, 2.22715360e+04, 2.32928600e+04,\n",
       "       2.40634320e+04, 2.15036760e+04, 2.25278600e+04, 2.15052180e+04,\n",
       "       2.25284920e+04, 2.15025700e+04, 2.17605340e+04, 2.15030760e+04,\n",
       "       2.17595800e+04, 2.22736680e+04, 2.17589840e+04, 2.25281360e+04,\n",
       "       2.15043040e+04, 2.40681100e+04, 2.30363440e+04, 2.53435400e+04,\n",
       "       1.20404975e+03, 2.88700000e+00, 6.86350000e+00, 4.77100000e+00,\n",
       "       5.21125000e+00, 3.90000000e+00, 1.37750000e+00, 3.02304000e+01])"
      ]
     },
     "metadata": {},
     "output_type": "display_data"
    },
    {
     "data": {
      "text/plain": [
       "'SIntPktAct'"
      ]
     },
     "metadata": {},
     "output_type": "display_data"
    },
    {
     "data": {
      "text/plain": [
       "array([         nan,     0.      , 28672.028   , ...,  1000.975   ,\n",
       "        1001.073313,  1075.044125])"
      ]
     },
     "metadata": {},
     "output_type": "display_data"
    },
    {
     "data": {
      "text/plain": [
       "'DIntPktAct'"
      ]
     },
     "metadata": {},
     "output_type": "display_data"
    },
    {
     "data": {
      "text/plain": [
       "array([          nan, 0.0000000e+00, 2.8671996e+04, 3.6095740e+04,\n",
       "       3.3792344e+04, 3.2000020e+04, 2.4320744e+04, 1.7600000e-01,\n",
       "       1.0600000e-01, 2.5087154e+04, 1.9500000e-01, 1.4400000e-01,\n",
       "       2.0100000e-01, 9.8000000e-02, 1.0400000e-01, 2.4064432e+04,\n",
       "       2.0900000e-01, 1.5000000e-01, 2.4000000e-01, 1.1300000e-01,\n",
       "       1.3400000e-01, 2.7500000e-01, 1.2400000e-01, 1.5800000e-01,\n",
       "       9.0000000e-02, 2.4833036e+04, 2.9500000e-01, 1.0100000e-01,\n",
       "       2.2200000e-01, 2.2527388e+04, 1.8000000e-01, 1.6000000e-01,\n",
       "       2.0400000e-01, 3.2000000e-02, 2.3296488e+04, 1.0700000e-01,\n",
       "       2.3500000e-01, 1.1000000e-01, 2.0800000e-01, 2.7903536e+04,\n",
       "       2.9440256e+04, 1.8200000e-01, 1.5400000e-01, 1.5200000e-01,\n",
       "       1.0200000e-01, 1.5500000e-01, 2.9200000e-01, 2.7900000e-01,\n",
       "       3.1600000e-01, 3.1200000e-01, 1.7800000e-01, 1.3100000e-01,\n",
       "       1.6500000e-01, 2.7300000e-01, 1.8400000e-01, 1.4600000e-01,\n",
       "       2.2900000e-01, 5.6600000e-01, 2.3700000e-01, 3.2000000e-01,\n",
       "       1.6000000e-02, 6.4320000e-02, 1.1677800e-01, 1.8578900e-01,\n",
       "       6.6872000e-02, 1.3962500e-01, 1.4521100e-01, 8.0934000e-02,\n",
       "       1.3308600e-01, 1.5566700e-01, 1.0279700e-01, 1.3883400e-01,\n",
       "       1.8483300e-01, 1.6775300e-01, 9.7120000e-02, 1.4989500e-01,\n",
       "       1.1115000e-01, 9.6485000e-02, 1.9305600e-01, 9.6632000e-02,\n",
       "       1.2076900e-01, 1.5357900e-01, 8.8531000e-02, 1.4566700e-01,\n",
       "       1.4572200e-01, 1.0920600e-01, 1.1432400e-01, 1.2578900e-01,\n",
       "       8.8054000e-02, 1.1041200e-01, 1.2235000e-01, 6.3716000e-02,\n",
       "       1.0165700e-01, 1.4731600e-01, 1.2747200e-01, 1.3981300e-01,\n",
       "       1.3388900e-01, 1.2158300e-01, 1.2820600e-01, 1.7136800e-01,\n",
       "       6.7500000e-02, 1.0341700e-01, 1.5911100e-01, 8.8681000e-02,\n",
       "       1.2836100e-01, 1.3026300e-01, 8.2877000e-02, 1.3272200e-01,\n",
       "       1.3166700e-01, 1.0147200e-01, 1.5852900e-01, 1.4565000e-01,\n",
       "       1.4369200e-01, 1.5700000e-01, 1.5810500e-01, 1.2089000e-01,\n",
       "       1.6652900e-01, 4.2122200e-01, 2.2610600e-01, 1.5560000e-01,\n",
       "       2.2472200e-01, 1.7300000e-01, 2.3054900e-01, 1.6677800e-01,\n",
       "       2.1596670e+00, 1.0589200e-01, 1.8700000e-01, 1.5333300e-01,\n",
       "       1.4373900e-01, 1.8644400e-01, 1.4300000e-01, 2.1207700e-01,\n",
       "       1.8405600e-01, 2.3707100e-01, 1.9094200e-01, 2.2622200e-01,\n",
       "       1.4488200e-01, 1.6535400e-01, 2.2805900e-01, 8.9824000e-02,\n",
       "       2.4274600e-01, 2.6021100e-01, 1.7306700e-01, 3.6921500e-01,\n",
       "       3.0300000e-01, 1.3425000e-01, 2.3275000e-01, 3.0847400e-01,\n",
       "       8.4687000e-02, 7.9952000e-02, 9.6158000e-02, 9.7111000e-02,\n",
       "       8.4689000e-02, 1.1726100e-01, 6.5937000e-02, 6.9333000e-02,\n",
       "       1.0994700e-01, 8.7588000e-02, 6.6775000e-02, 9.1750000e-02,\n",
       "       6.9711800e-01, 1.1710600e-01, 1.0964700e-01, 9.1000000e-02,\n",
       "       8.2041000e-02, 3.4669600e-01, 7.3882000e-02, 9.2433000e-02,\n",
       "       1.1938900e-01, 9.9118000e-02, 1.0030300e-01, 1.4193300e-01,\n",
       "       6.0231000e-02, 1.1130200e-01, 1.7968800e-01, 1.0150000e-01,\n",
       "       1.0776400e-01, 1.4665000e-01, 2.6125630e+00, 1.5857600e-01,\n",
       "       2.1000000e-01, 1.0507000e-01, 1.5966700e-01, 1.9766700e-01,\n",
       "       1.6784600e-01, 2.2694700e-01, 5.2294700e-01, 1.1640800e-01,\n",
       "       1.4333300e-01, 1.3446700e-01, 1.9947600e-01, 1.9357900e-01,\n",
       "       1.3753300e-01, 2.8166100e-01, 2.6355600e-01, 1.9415400e-01,\n",
       "       1.4139700e-01, 2.4088900e-01, 1.3217600e-01, 1.3433800e-01,\n",
       "       1.8666700e-01, 1.2546700e-01, 1.8152100e-01, 1.9445000e-01,\n",
       "       1.3716700e-01, 9.4909000e-02, 1.5411100e-01, 1.2352900e-01,\n",
       "       1.8925400e-01, 2.3973700e-01, 1.4307700e-01, 1.2920300e-01,\n",
       "       1.4344400e-01, 1.3817600e-01, 1.0517600e-01, 1.4111800e-01,\n",
       "       1.4582400e-01, 1.3417500e-01, 2.0733300e-01, 1.1029400e-01,\n",
       "       8.3293000e-02, 1.1415800e-01, 7.9812000e-02, 1.3540600e-01,\n",
       "       1.5788200e-01, 9.5462000e-02, 2.7448000e-01, 1.8242100e-01,\n",
       "       1.3030800e-01, 1.0864400e-01, 1.4470600e-01, 1.2431300e-01,\n",
       "       9.8472000e-02, 1.6926300e-01, 1.3971400e-01, 8.9603000e-02,\n",
       "       1.3870600e-01, 7.8947000e-02, 6.6192000e-02, 1.1294700e-01,\n",
       "       6.3011800e-01, 1.1720600e-01, 1.4761100e-01, 1.1606200e-01,\n",
       "       2.2044200e-01, 1.8940000e-01, 1.1400000e-01, 7.4333000e-02,\n",
       "       1.4856200e-01, 9.7059000e-02, 1.6546100e-01, 1.4281000e-01,\n",
       "       1.3117600e-01, 1.4894400e-01, 1.1818500e-01, 2.2094100e-01,\n",
       "       1.8783600e-01, 1.4394700e-01, 1.1889300e-01, 1.1334800e-01,\n",
       "       1.9638900e-01, 5.0889610e+00, 1.1170300e-01, 1.2866700e-01,\n",
       "       3.5832170e+00, 1.1138400e-01, 1.9651500e+00, 9.5457900e-01,\n",
       "       1.0252400e-01, 1.5100000e-01, 1.7336800e-01, 1.0295900e-01,\n",
       "       1.7784200e-01, 1.3770600e-01, 2.4612500e-01, 2.3150000e-01,\n",
       "       2.0020000e-01, 1.9201400e-01, 1.8147400e-01, 1.1737500e-01,\n",
       "       1.8915600e-01, 2.2411100e-01, 1.6757100e-01, 5.4119200e-01,\n",
       "       1.6711100e-01, 1.7936400e-01, 1.3560600e-01, 1.4468700e-01,\n",
       "       1.0978600e-01, 8.4973000e-02, 2.7484200e-01, 8.8313000e-02,\n",
       "       7.3354000e-02, 9.0556000e-02, 1.1794400e-01, 8.8568000e-02,\n",
       "       1.1136800e-01, 1.0668800e-01, 6.4508000e-02, 1.8813160e+00,\n",
       "       1.2959100e-01, 8.7851000e-02, 8.1579000e-02, 9.7646000e-02,\n",
       "       5.4323800e-01, 9.9647000e-02, 1.0802000e-01, 7.4813000e-02,\n",
       "       1.0373700e-01, 1.1549900e-01, 1.0423900e-01, 1.4538900e-01,\n",
       "       1.4544400e-01, 1.6275700e-01, 1.1844400e-01, 1.1821900e-01,\n",
       "       1.3112100e-01, 2.0322200e-01, 1.6090300e-01, 2.7154800e-01,\n",
       "       3.1220000e-01, 2.3411800e-01, 1.0545500e-01, 2.1231200e-01,\n",
       "       1.6860000e-01, 1.8415500e-01, 2.3400000e-01, 1.7200000e-01,\n",
       "       2.3633900e-01, 2.1393800e-01, 4.7692500e-01, 1.3869400e-01,\n",
       "       2.3691700e-01, 1.0827800e-01, 9.1299000e-02, 1.6091300e-01,\n",
       "       1.2530400e-01, 1.7877800e-01, 1.5944400e-01, 9.3114000e-02,\n",
       "       1.0860000e-01, 1.9806300e-01, 5.2162700e-01, 1.4905600e-01,\n",
       "       7.1259000e-02, 1.0024800e-01, 1.2505900e-01, 7.3984000e-02,\n",
       "       7.6558000e-02, 1.4652600e-01, 9.9076000e-02, 1.1751400e-01,\n",
       "       1.6361100e-01, 6.5054000e-02, 9.5469000e-02, 1.5305300e-01,\n",
       "       5.6981000e-02, 9.4619000e-02, 2.0141200e-01, 1.1022000e-01,\n",
       "       1.0456600e-01, 1.7173700e-01, 6.2354000e-02, 8.6052000e-02,\n",
       "       2.2127800e-01, 1.7935700e-01, 1.8320700e-01, 2.5968400e-01,\n",
       "       1.6006900e-01, 9.6422000e-02, 2.1511800e-01, 2.4308600e-01,\n",
       "       1.1983300e-01, 1.4552600e-01, 2.2293300e-01, 1.1465200e-01,\n",
       "       1.4488900e-01, 1.3816400e-01, 1.5579400e-01, 1.8705600e-01,\n",
       "       2.0828100e-01, 2.1924200e-01, 3.1577800e-01, 1.6990900e-01,\n",
       "       2.8813200e-01, 2.8321100e-01, 1.1857000e-01, 1.3603400e-01,\n",
       "       1.4911800e-01, 2.2111600e-01, 3.6880700e-01, 1.6115800e-01,\n",
       "       1.2256300e-01, 1.7023400e-01, 1.1461100e-01, 8.8000000e-02,\n",
       "       8.8381000e-02, 1.9138900e-01, 9.8625000e-02, 6.7552900e-01,\n",
       "       1.2388900e-01, 9.3455000e-02, 8.2707000e-02, 8.1684000e-02,\n",
       "       8.5310000e-02, 6.8287000e-02, 8.8650000e-02, 8.3143000e-02,\n",
       "       7.2537000e-02, 9.2211000e-02, 1.0339050e+00, 7.0123000e-02,\n",
       "       1.4111100e-01, 1.1450000e+00, 8.0011000e-02, 9.3167000e-02,\n",
       "       7.8383000e-02, 6.9429000e-02, 1.1142900e-01, 1.1233700e-01,\n",
       "       1.2405600e-01, 1.1810700e-01, 9.4280000e-02, 2.2752900e-01,\n",
       "       1.2041000e-01, 5.4437200e-01, 1.0235300e-01, 1.1885700e-01,\n",
       "       9.9363000e-02, 1.3557900e-01, 1.0614600e-01, 9.6578000e-02,\n",
       "       1.2321100e-01, 1.1160000e-01, 9.4500000e-02, 8.5952000e-02,\n",
       "       1.0304800e-01, 9.0283000e-02, 1.2916700e-01, 1.0692900e-01,\n",
       "       5.0009100e-01, 1.2673700e-01, 1.5322500e-01, 1.3127400e-01,\n",
       "       1.1876500e-01, 1.0852400e-01, 2.1375800e-01, 1.3036800e-01,\n",
       "       1.1036600e-01, 1.0361900e-01, 1.1816700e-01, 1.5280000e-01,\n",
       "       1.3662900e-01, 1.2815800e-01, 9.0805000e-02, 5.5490200e-01,\n",
       "       1.2288900e-01, 1.3341500e-01, 1.1311100e-01, 1.0294700e-01,\n",
       "       5.5914300e-01, 7.5532000e-02, 1.7111800e-01, 1.4614600e-01,\n",
       "       1.2931700e-01, 1.1668400e-01, 1.0366700e-01, 1.0223700e-01,\n",
       "       7.9611000e-02, 4.5792900e-01, 2.3439500e-01, 1.1788900e-01,\n",
       "       1.0152300e-01, 4.0010200e-01, 1.2376500e-01, 8.7318000e-02,\n",
       "       9.6831000e-02, 1.1557100e-01, 1.0428600e-01, 9.0500000e-02,\n",
       "       1.3850000e-01, 1.0797620e+00, 2.6480500e-01, 1.1510000e-01,\n",
       "       5.3422500e-01, 7.0117000e-02, 1.2750000e-01, 1.1102400e-01,\n",
       "       7.1827000e-02, 1.4194400e-01, 1.1597600e-01, 1.2238900e-01,\n",
       "       1.2577800e-01, 8.6634000e-02, 9.8241000e-02, 1.3578900e-01,\n",
       "       1.0483700e-01, 7.5805000e-02, 1.3273700e-01, 7.8456800e-01,\n",
       "       1.2403400e-01, 1.1105600e-01, 1.5734900e-01, 1.3151900e-01,\n",
       "       1.7978900e-01, 1.0818600e-01, 9.3548000e-02, 1.2222200e-01,\n",
       "       9.3000000e-02, 7.5904000e-02, 1.4811100e-01, 7.1672100e-01,\n",
       "       1.1693500e-01, 1.0788200e-01, 9.8682000e-02, 1.1248100e-01,\n",
       "       1.1500000e-01, 1.2932700e-01, 1.0531300e-01, 1.1566700e-01,\n",
       "       1.8491220e+00, 1.0488990e+00, 1.4684200e-01, 5.2321200e-01,\n",
       "       2.1032100e-01, 1.2211100e-01, 8.1850000e-02, 5.8000000e-02,\n",
       "       1.2535000e-01, 7.3707000e-02, 6.4235000e-02, 1.0866700e-01,\n",
       "       1.0756400e-01, 7.5592000e-02, 9.7368000e-02, 7.8595100e-01,\n",
       "       4.3668200e-01, 1.2188900e-01, 1.2900000e-01, 1.3248800e-01,\n",
       "       1.3535000e-01, 8.7600000e-02, 7.1708000e-02, 1.1244400e-01,\n",
       "       2.4738000e+00, 4.8350700e-01, 9.0381000e-02, 2.2902400e-01,\n",
       "       1.1121900e-01, 9.9944000e-02, 9.6051000e-02, 6.6026000e-02,\n",
       "       8.7526000e-02, 7.5878000e-02, 1.0710400e-01, 8.6333000e-02,\n",
       "       7.5189000e-02, 3.3434400e-01, 1.3347400e-01, 5.6267500e-01,\n",
       "       1.1295470e+00, 1.1180000e-01, 9.8080000e-02, 8.8424200e-01,\n",
       "       1.6421100e-01, 8.4525000e-01, 2.0477500e+00, 1.4133300e-01,\n",
       "       5.0683100e-01, 1.4873810e+00, 1.0789500e-01, 2.2962200e-01,\n",
       "       5.7890500e-01, 1.3544400e-01, 1.1857400e-01, 1.1877800e-01,\n",
       "       1.1595000e-01, 1.0301400e-01, 1.3700000e-01, 1.6447100e-01,\n",
       "       8.3364000e-02, 1.1870600e-01, 1.5694700e-01, 1.0800000e-01,\n",
       "       1.4372200e-01, 1.2194100e-01, 2.4729200e-01, 1.1182400e-01,\n",
       "       1.1457900e-01, 5.9250000e-02, 1.0082400e-01, 1.4384200e-01,\n",
       "       8.5443700e-01, 2.8726670e+00, 1.5261100e-01, 1.6245000e-01,\n",
       "       2.1808000e-01, 1.4084200e-01, 9.8109000e-02, 6.0551200e-01,\n",
       "       1.6050000e-01, 8.7419000e-02, 6.2871000e-02, 2.6438900e-01,\n",
       "       1.1870800e-01, 1.9850000e-01, 1.7000000e-01, 1.0447900e-01,\n",
       "       1.0126100e-01, 2.5144400e-01, 8.2873000e-02, 6.7243000e-02,\n",
       "       1.1111800e-01, 8.8057000e-02, 6.1456000e-02, 1.0963000e-01,\n",
       "       1.8944800e-01, 1.6055600e-01, 1.3680600e-01, 1.2190600e-01,\n",
       "       1.1877300e-01, 7.1870000e-02, 1.1611800e-01, 8.8278000e-02,\n",
       "       7.1460000e-02, 1.4590600e-01, 1.1121100e-01, 1.2308100e-01,\n",
       "       1.1355900e-01, 1.5056200e-01, 1.0479700e-01, 1.1409400e-01,\n",
       "       1.3118800e-01, 1.0153300e-01, 1.6615000e-01, 1.6566700e-01,\n",
       "       1.1743200e-01, 1.2959000e-01, 2.1327800e-01, 1.7959100e-01,\n",
       "       2.2204100e-01, 1.9335300e-01, 2.1310500e-01, 1.6229300e-01,\n",
       "       1.5494400e-01, 2.9926300e-01, 1.7316000e-01, 2.1031600e-01,\n",
       "       2.3483300e-01, 2.6311100e-01, 4.2300000e-01, 1.0900000e-01,\n",
       "       5.1100000e-01, 2.7750000e-01, 1.7700000e-01, 1.1950000e-01,\n",
       "       8.2000000e-02, 2.4827004e+04, 2.4065668e+04, 2.4063820e+04,\n",
       "       2.2527040e+04, 2.3811510e+04, 2.2271438e+04, 2.2271536e+04,\n",
       "       2.3292860e+04, 2.4063432e+04, 2.1503676e+04, 2.2527860e+04,\n",
       "       2.1505218e+04, 2.2528492e+04, 2.1502570e+04, 2.1760534e+04,\n",
       "       2.1503076e+04, 2.1759580e+04, 2.2273668e+04, 2.1758984e+04,\n",
       "       2.2528136e+04, 2.1504304e+04, 2.4068110e+04, 2.3036344e+04,\n",
       "       2.5343540e+04, 1.4845000e+00, 1.5650000e-01, 3.0100000e-01,\n",
       "       1.4800000e-01, 2.1600000e-01, 1.3350000e-01])"
      ]
     },
     "metadata": {},
     "output_type": "display_data"
    },
    {
     "data": {
      "text/plain": [
       "'SIntPktIdl'"
      ]
     },
     "metadata": {},
     "output_type": "display_data"
    },
    {
     "data": {
      "text/plain": [
       "array([           nan, 6.34200000e+00, 5.82900000e+00, 1.84300000e+00,\n",
       "       4.07650000e+00, 0.00000000e+00, 6.36500000e+00, 7.05700000e+00,\n",
       "       1.50403050e+03, 3.67158875e+03, 1.66932200e+03, 1.66924000e+03,\n",
       "       1.66931838e+03, 1.66909400e+03, 5.67284950e+03, 1.66978000e+03,\n",
       "       1.66894862e+03, 7.67410250e+03, 2.50333400e+03, 7.67349050e+03,\n",
       "       1.66969262e+03, 7.67329150e+03, 1.66939800e+03, 7.67483400e+03,\n",
       "       1.66927163e+03, 7.67212000e+03, 1.66948400e+03, 7.67282550e+03,\n",
       "       1.66803762e+03, 6.84055550e+03, 1.66931263e+03, 7.67407150e+03,\n",
       "       1.66899700e+03, 7.67376600e+03, 1.66978900e+03, 7.67303600e+03,\n",
       "       7.67117750e+03, 1.66944763e+03, 7.67602050e+03, 2.50283000e+03,\n",
       "       7.67389550e+03, 1.66979200e+03, 7.67291850e+03, 1.66919062e+03,\n",
       "       7.67467000e+03, 1.66944438e+03, 7.67323750e+03, 1.66938300e+03,\n",
       "       1.15103950e+04, 1.66930762e+03, 6.83860400e+03, 1.66924800e+03,\n",
       "       7.67225050e+03, 1.66974500e+03, 7.67225800e+03, 1.66919200e+03,\n",
       "       7.67439600e+03, 1.66928363e+03, 7.67582950e+03, 1.66881363e+03,\n",
       "       7.67339850e+03, 2.97375000e+00, 2.43525000e+00, 2.35800000e+00,\n",
       "       2.22025000e+00, 1.02575000e+00, 2.69950000e+00, 1.21550000e+01,\n",
       "       3.35536344e+02, 3.03218010e+01, 7.67070000e+03, 7.67150250e+03,\n",
       "       7.67481050e+03, 1.15112100e+04, 7.67239200e+03, 9.00834500e+03,\n",
       "       7.48300000e+00, 7.20700000e+00, 1.50369075e+03, 3.67273300e+03,\n",
       "       1.66943663e+03, 1.66810538e+03, 1.66933900e+03, 1.66901700e+03,\n",
       "       5.67165950e+03, 1.66752163e+03, 1.66795663e+03, 7.67305450e+03,\n",
       "       2.50275775e+03, 7.67181850e+03, 1.66899437e+03, 7.67411050e+03,\n",
       "       1.66999700e+03, 7.67442650e+03, 1.66943438e+03, 7.67587850e+03,\n",
       "       1.66927900e+03, 7.67648450e+03, 1.66900038e+03, 6.84185800e+03,\n",
       "       1.66997737e+03, 7.67600550e+03, 1.66979500e+03, 7.67450000e+03,\n",
       "       1.66798200e+03, 7.67470950e+03, 1.66951662e+03, 7.67785600e+03,\n",
       "       1.66897637e+03, 7.67542000e+03, 2.50317125e+03, 7.67357050e+03,\n",
       "       1.66926163e+03, 7.67553850e+03, 1.66983237e+03, 7.67563600e+03,\n",
       "       1.66968937e+03, 7.67648950e+03, 1.66775537e+03, 1.15120280e+04,\n",
       "       1.66981462e+03, 6.83970800e+03, 1.66919162e+03, 7.67665950e+03,\n",
       "       1.66923600e+03, 7.67493250e+03, 1.66951537e+03, 7.67675400e+03,\n",
       "       1.67000400e+03, 7.67640000e+03, 1.66928000e+03, 7.67538150e+03,\n",
       "       1.79425000e+00, 1.22000000e+00, 1.23325000e+00, 1.53950000e+00,\n",
       "       1.27325000e+00, 1.35766000e+01, 3.34121000e+02, 2.89166000e+01,\n",
       "       7.67693200e+03, 7.67532400e+03, 7.67532950e+03, 1.15114540e+04,\n",
       "       7.67616650e+03, 9.01027200e+03, 1.86813203e+02, 1.88403875e+02,\n",
       "       7.99896938e+02, 1.05061203e+02, 1.81402813e+02, 9.09100625e+02,\n",
       "       1.19422344e+02, 1.60325969e+02, 9.09072437e+02, 1.75305516e+02,\n",
       "       1.13153609e+02, 7.99981188e+02, 1.85196953e+02, 1.10504984e+02,\n",
       "       1.24994500e+03, 2.08294750e+02, 1.02317781e+02, 1.00000262e+03,\n",
       "       7.92170062e+02, 6.05947125e+02, 7.99990063e+02, 8.24953188e+02,\n",
       "       5.12039531e+02, 1.35166638e+03, 5.66422812e+02, 4.84018781e+02,\n",
       "       9.22684938e+02, 3.84702469e+02, 4.50866375e+02, 7.83228062e+02,\n",
       "       5.99979187e+02, 5.07160719e+02, 1.54985787e+03, 5.57434813e+02,\n",
       "       4.58646469e+02, 1.09405813e+03, 4.24749437e+02, 5.13072781e+02,\n",
       "       9.10891062e+02, 5.02035813e+02, 2.04303687e+02, 8.33344812e+02,\n",
       "       1.93021578e+02, 9.17620160e+01, 5.55528187e+02, 7.71619563e+02,\n",
       "       3.79703440e+01, 9.09915625e+02, 4.04583281e+02, 1.16948078e+02,\n",
       "       1.54993463e+03, 5.45628750e+02, 2.24703859e+02, 1.54987375e+03,\n",
       "       3.74206813e+02, 2.24691812e+02, 1.58986000e+03, 4.50893250e+02,\n",
       "       2.19752172e+02, 1.22677025e+03, 2.10556125e+02, 3.34116469e+02,\n",
       "       7.02389812e+02, 2.43825359e+02, 5.55283000e+02, 1.05258800e+03,\n",
       "       2.30745234e+02, 5.29320187e+02, 9.40403375e+02, 2.16365938e+02,\n",
       "       5.31510313e+02, 9.78854750e+02, 2.32557437e+02, 4.42780094e+02,\n",
       "       9.43491375e+02, 2.15010156e+02, 3.95701188e+02, 9.29939188e+02,\n",
       "       2.17370062e+02, 3.43822687e+02, 6.57641062e+02, 2.14996875e+02,\n",
       "       4.65149344e+02, 1.16216875e+03, 2.40968312e+02, 4.65078125e+02,\n",
       "       1.44658188e+03, 2.15002984e+02, 5.12801750e+02, 1.25534988e+03,\n",
       "       2.32547953e+02, 6.06024125e+02, 5.45209562e+02, 2.25897437e+02,\n",
       "       5.76978062e+02, 6.41615312e+02, 2.05068984e+02, 3.86736844e+02,\n",
       "       7.74751000e+02, 2.55067875e+02, 5.16653063e+02, 1.09401750e+03,\n",
       "       2.31250875e+02, 6.78081750e+02, 5.86409063e+02, 2.45711813e+02,\n",
       "       4.42855187e+02, 1.03323488e+03, 2.40214141e+02, 9.62173750e+02,\n",
       "       1.03323469e+03, 2.37633734e+02, 8.19413063e+02, 8.08783625e+02,\n",
       "       2.12631766e+02, 4.61656844e+02, 6.19976562e+02, 2.31258953e+02,\n",
       "       4.48783875e+02, 7.74986688e+02, 2.38451687e+02, 3.84614000e+02,\n",
       "       8.60458000e+02, 2.35680313e+02, 5.71446187e+02, 9.14298813e+02,\n",
       "       2.27598688e+02, 4.76168063e+02, 8.62324000e+02, 2.27662703e+02,\n",
       "       4.54511625e+02, 9.27343938e+02, 2.03398297e+02, 2.98507000e+02,\n",
       "       6.91502250e+02, 2.31765766e+02, 5.81121750e+02, 9.83042250e+02,\n",
       "       2.42380672e+02, 1.09390500e+03, 1.32850512e+03, 2.21413406e+02,\n",
       "       6.78132250e+02, 1.03334437e+03, 2.28834859e+02, 1.16231675e+03,\n",
       "       8.85619438e+02, 2.13995781e+02, 7.48194062e+02, 9.04190313e+02,\n",
       "       2.15363875e+02, 3.79442844e+02, 5.81218313e+02, 2.20151391e+02,\n",
       "       7.75007875e+02, 8.67986313e+02, 2.20189406e+02, 5.64892375e+02,\n",
       "       7.74980063e+02, 2.32993766e+02, 6.98611250e+02, 9.43603125e+02,\n",
       "       2.22518484e+02, 6.00006000e+02, 8.45374063e+02, 2.20164391e+02,\n",
       "       4.42887344e+02, 1.20544875e+03, 2.13100609e+02, 3.44432875e+02,\n",
       "       6.41379437e+02, 2.30655672e+02, 7.76399875e+02, 9.43457500e+02,\n",
       "       2.21590016e+02, 4.63962906e+02, 8.08678063e+02, 2.28672453e+02,\n",
       "       8.67914500e+02, 9.43491500e+02, 2.49444453e+02, 6.88955563e+02,\n",
       "       8.45499437e+02, 2.45119469e+02, 5.99716312e+02, 8.68013125e+02,\n",
       "       2.05019281e+02, 4.37602188e+02, 5.63599000e+02, 2.30214625e+02,\n",
       "       7.49695062e+02, 1.20546050e+03, 2.15418625e+02, 8.26857125e+02,\n",
       "       5.88257750e+02, 6.11494375e+02, 2.14742797e+02, 7.99979375e+02,\n",
       "       3.67798094e+02, 3.03029562e+02, 1.42834575e+03, 2.96847230e+01,\n",
       "       5.88142938e+02, 1.17643050e+03, 3.54014020e+01, 3.46892281e+02,\n",
       "       6.97632438e+02, 2.14346828e+02, 4.43846750e+02, 7.75029188e+02,\n",
       "       2.23622109e+02, 4.93190781e+02, 8.68050062e+02, 2.60294344e+02,\n",
       "       5.31497500e+02, 8.08615125e+02, 2.34617312e+02, 3.93681906e+02,\n",
       "       9.04277812e+02, 2.60112672e+02, 5.47382687e+02, 7.30837125e+02,\n",
       "       2.30220047e+02, 4.90292844e+02, 6.39777563e+02, 2.50383906e+02,\n",
       "       1.09369625e+03, 1.09409638e+03, 2.44243906e+02, 7.74973938e+02,\n",
       "       8.68071812e+02, 2.53551719e+02, 9.29805125e+02, 7.74920313e+02,\n",
       "       2.64372844e+02, 5.16660656e+02, 1.35612200e+03, 2.46451609e+02,\n",
       "       7.41511687e+02, 7.09251188e+02, 2.54180094e+02, 1.75580391e+02,\n",
       "       6.57719875e+02, 1.14137711e+02, 1.85619891e+02, 7.43973125e+02,\n",
       "       1.12367945e+02, 2.48111953e+02, 8.68001938e+02, 1.06676312e+02,\n",
       "       5.63637938e+02, 8.08726000e+02, 5.88200563e+02, 4.33968313e+02,\n",
       "       1.03328787e+03, 5.17238344e+02, 4.09202187e+02, 6.26402063e+02,\n",
       "       4.14141406e+02, 5.46514250e+02, 8.92210375e+02, 4.72989969e+02,\n",
       "       4.45179813e+02, 8.08663500e+02, 5.26240750e+02, 8.03606500e+02,\n",
       "       8.68048000e+02, 5.40428437e+02, 6.20971625e+02, 7.74917500e+02,\n",
       "       2.77750063e+02, 8.68005063e+02, 5.55554500e+02, 5.88185187e+02,\n",
       "       5.57541187e+02, 4.11126438e+02, 4.65013406e+02, 6.11699062e+02,\n",
       "       1.93039359e+02, 6.45637812e+02, 1.28718962e+03, 1.06328175e+03,\n",
       "       7.85319313e+02, 3.44577469e+02, 1.61068828e+02, 1.76345087e+03,\n",
       "       2.36750210e+01, 2.10110430e+01, 8.66927250e+02, 3.87186600e+01,\n",
       "       2.78351780e+01, 9.22956375e+02, 1.92540828e+02, 9.07608670e+01,\n",
       "       7.50771813e+02, 1.45535450e+01, 1.30464440e+01, 9.36102500e+02,\n",
       "       2.37823180e+01, 2.12763830e+01, 8.45367188e+02, 1.54429391e+02,\n",
       "       5.34851562e+02, 9.43495500e+02, 2.21483830e+01, 2.34730290e+01,\n",
       "       8.08690062e+02, 5.86494500e+02, 4.08127281e+02, 9.43515625e+02,\n",
       "       3.47764406e+02, 4.12294938e+02, 5.63615312e+02, 4.42913406e+02,\n",
       "       4.62670031e+02, 9.86356813e+02, 3.83033094e+02, 6.19962125e+02,\n",
       "       8.45434938e+02, 3.86728406e+02, 5.63486875e+02, 9.86382250e+02,\n",
       "       5.41446063e+02, 6.19983750e+02, 7.74971188e+02, 4.35634531e+02,\n",
       "       4.52896906e+02, 9.43448000e+02, 1.34336031e+02, 1.46183562e+02,\n",
       "       6.19990250e+02, 6.23852700e+01, 1.30058508e+02, 1.54987888e+03,\n",
       "       4.01053520e+01, 8.05383050e+01, 8.85797812e+02, 7.66966800e+01,\n",
       "       8.25544450e+01, 1.14200962e+03, 7.85103750e+01, 8.62959220e+01,\n",
       "       7.15373563e+02, 7.55304770e+01, 8.46429690e+01, 9.04143500e+02,\n",
       "       7.55373590e+01, 8.54260780e+01, 5.47090375e+02, 7.74329690e+01,\n",
       "       7.80739690e+01, 1.27636375e+03, 8.03737340e+01, 9.30892810e+01,\n",
       "       8.08723125e+02, 7.84997500e+01, 8.10428830e+01, 9.63938625e+02,\n",
       "       8.68392890e+01, 9.01590470e+01, 8.63286562e+02, 8.81398440e+01,\n",
       "       8.37377970e+01, 1.09349650e+03, 8.51919690e+01, 1.09224727e+02,\n",
       "       6.06035500e+02, 7.69743200e+01, 7.72903910e+01, 1.05264700e+03,\n",
       "       7.63909610e+01, 1.01625930e+02, 8.33327688e+02, 7.72690000e+01,\n",
       "       8.09435620e+01, 8.17148063e+02, 8.65457030e+01, 1.01635977e+02,\n",
       "       1.14206675e+03, 7.66625470e+01, 7.88172030e+01, 1.23993788e+03,\n",
       "       7.47439840e+01, 8.17645160e+01, 6.38191125e+02, 7.63980160e+01,\n",
       "       9.49332970e+01, 9.79021562e+02, 7.60996480e+01, 8.37557970e+01,\n",
       "       9.43433188e+02, 7.65295780e+01, 8.75244300e+01, 7.74951688e+02,\n",
       "       7.64073750e+01, 8.06333200e+01, 9.04286687e+02, 7.59466410e+01,\n",
       "       9.17426950e+01, 8.08614875e+02, 7.43365700e+01, 8.92780000e+01,\n",
       "       6.02793250e+02, 7.60376090e+01, 8.48130780e+01, 8.08646062e+02,\n",
       "       7.69084690e+01, 8.32355630e+01, 9.86322437e+02, 7.72067340e+01,\n",
       "       8.29735940e+01, 9.30017125e+02, 7.79952500e+01, 9.04875860e+01,\n",
       "       1.14199762e+03, 7.69878750e+01, 8.69432730e+01, 9.78974187e+02,\n",
       "       7.49718750e+01, 8.33543830e+01, 6.60897625e+02, 7.63827500e+01,\n",
       "       8.48047270e+01, 1.66643563e+03, 7.81782190e+01, 9.33931020e+01,\n",
       "       1.53835012e+03, 7.63876170e+01, 8.30712730e+01, 8.69573062e+02,\n",
       "       7.81637420e+01, 9.10014530e+01, 1.42836937e+03, 7.62385700e+01,\n",
       "       9.80954920e+01, 1.11116687e+03, 7.56805000e+01, 7.60448980e+01,\n",
       "       6.70899188e+02, 7.58256640e+01, 8.97856720e+01, 1.20551200e+03,\n",
       "       7.97690390e+01, 7.76198590e+01, 8.45438375e+02, 7.82312580e+01,\n",
       "       8.61682420e+01, 9.04173688e+02, 7.66790160e+01, 8.34103440e+01,\n",
       "       8.08715625e+02, 7.79045470e+01, 8.82002110e+01, 8.67953750e+02,\n",
       "       7.99144840e+01, 7.58473910e+01, 7.74931563e+02, 8.74339370e+01,\n",
       "       9.14333120e+01, 1.55005225e+03, 8.19354450e+01, 8.02066560e+01,\n",
       "       9.78848813e+02, 7.85223200e+01, 7.76246950e+01, 9.04176812e+02,\n",
       "       8.93042660e+01, 9.71725230e+01, 7.75039313e+02, 7.73216800e+01,\n",
       "       7.38873830e+01, 9.04075000e+02, 7.49599140e+01, 7.63964920e+01,\n",
       "       5.63641313e+02, 7.58515310e+01, 7.67258200e+01, 1.20551913e+03,\n",
       "       7.76145000e+01, 8.14058360e+01, 1.03329156e+03, 7.88132580e+01,\n",
       "       7.78869140e+01, 8.34631875e+02, 7.97611640e+01, 8.00865080e+01,\n",
       "       9.29966188e+02, 7.85340230e+01, 8.30999370e+01, 9.43452188e+02,\n",
       "       7.74560780e+01, 7.86885390e+01, 7.16220250e+02, 1.26583648e+02,\n",
       "       1.11594125e+02, 1.24995800e+03, 2.42032219e+02, 5.45037500e+02,\n",
       "       1.42845538e+03, 8.78850860e+01, 3.10153950e+01, 8.00039688e+02,\n",
       "       9.65617110e+01, 2.11950430e+01, 1.11102138e+03, 8.99990780e+01,\n",
       "       5.80634300e+01, 1.11822563e+03, 7.84138670e+01, 7.90393440e+01,\n",
       "       7.35930375e+02, 9.05649690e+01, 8.37250390e+01, 1.45917088e+03,\n",
       "       7.49310390e+01, 8.37462890e+01, 1.63080938e+03, 8.75344060e+01,\n",
       "       8.84773830e+01, 1.38166375e+03, 1.09509016e+02, 1.04427266e+02,\n",
       "       1.37649975e+03, 7.95221640e+01, 8.43883910e+01, 9.44493938e+02,\n",
       "       1.15311289e+02, 8.26381950e+01, 6.09172688e+02, 7.43847270e+01,\n",
       "       8.69530160e+01, 8.88700187e+02, 8.73677340e+01, 9.31018200e+01,\n",
       "       9.43414500e+02, 8.25665700e+01, 9.44167190e+01, 8.08709062e+02,\n",
       "       8.28039140e+01, 1.06485406e+02, 1.59163328e+02, 1.22958867e+02,\n",
       "       6.56579562e+02, 2.36541480e+01, 2.56555060e+01, 6.87771187e+02,\n",
       "       4.51855469e+02, 9.95416938e+02, 8.85763063e+02, 1.83990625e+02,\n",
       "       4.82102500e+02, 1.66904025e+03, 2.47297210e+01, 2.30323460e+01,\n",
       "       1.32848862e+03, 2.57833950e+01, 2.79300100e+01, 1.44659600e+03,\n",
       "       7.96497938e+02, 6.57476125e+02, 7.57609125e+02, 4.26393188e+02,\n",
       "       3.95720500e+02, 7.81301000e+02, 7.49754187e+02, 5.18779906e+02,\n",
       "       8.24042937e+02, 4.75679281e+02, 4.51351375e+02, 9.04154688e+02,\n",
       "       5.01455688e+02, 5.65474187e+02, 1.09414213e+03, 9.88498375e+02,\n",
       "       5.40530250e+02, 9.80486750e+02, 3.25183250e+02, 2.04979844e+02,\n",
       "       6.45129937e+02, 1.41656406e+02, 3.74798125e+02, 8.17175750e+02,\n",
       "       7.14224375e+02, 3.92645969e+02, 1.15118538e+03, 8.69379500e+02,\n",
       "       4.09275094e+02, 1.09087350e+03, 9.17725750e+02, 6.38317188e+02,\n",
       "       1.20433700e+03, 8.86737313e+02, 2.86360813e+02, 1.21469150e+03,\n",
       "       4.93400000e+00, 7.95300000e+00, 7.70000000e+00, 1.20374225e+03,\n",
       "       5.19475000e+00, 5.41100000e+00, 2.83040000e+00, 3.67875000e+00,\n",
       "       2.61150000e+00, 9.99033300e+00, 3.00401990e+01, 1.14820000e+01,\n",
       "       1.20402537e+03, 4.62480000e+00, 7.35350000e+00, 4.76750000e+00,\n",
       "       5.30775000e+00, 4.12225000e+00, 8.89716700e+00, 2.51230000e+01])"
      ]
     },
     "metadata": {},
     "output_type": "display_data"
    },
    {
     "data": {
      "text/plain": [
       "'DIntPktIdl'"
      ]
     },
     "metadata": {},
     "output_type": "display_data"
    },
    {
     "data": {
      "text/plain": [
       "array([           nan, 0.00000000e+00, 1.50403375e+03, 5.52817100e+03,\n",
       "       2.52468650e+03, 2.52640500e+03, 2.52434450e+03, 2.52427850e+03,\n",
       "       8.48689400e+03, 2.52664550e+03, 2.52372150e+03, 7.65978250e+03,\n",
       "       3.77642900e+03, 7.65736550e+03, 2.52548700e+03, 7.65900800e+03,\n",
       "       2.52483300e+03, 7.66021200e+03, 2.52443900e+03, 7.65691600e+03,\n",
       "       2.52489050e+03, 7.65886050e+03, 2.52251500e+03, 6.82521750e+03,\n",
       "       2.52407100e+03, 7.65956350e+03, 2.52419600e+03, 7.65875050e+03,\n",
       "       2.52681350e+03, 7.65886600e+03, 2.52565800e+03, 7.65670150e+03,\n",
       "       2.52550200e+03, 7.66151450e+03, 3.77509450e+03, 7.65980650e+03,\n",
       "       2.52489550e+03, 7.65867350e+03, 2.52447550e+03, 7.65941600e+03,\n",
       "       2.52456550e+03, 7.65771350e+03, 2.52603150e+03, 1.14877170e+04,\n",
       "       2.52587000e+03, 6.82427200e+03, 2.52605500e+03, 7.65783600e+03,\n",
       "       2.52615900e+03, 7.65751450e+03, 2.52535950e+03, 7.65999400e+03,\n",
       "       2.52523850e+03, 7.66021050e+03, 2.52721800e+03, 7.65816200e+03,\n",
       "       2.97275000e+00, 2.43325000e+00, 2.35825000e+00, 2.21625000e+00,\n",
       "       1.02350000e+00, 2.70375000e+00, 1.51927500e+01, 5.23599000e+02,\n",
       "       4.99253320e+01, 7.65461750e+03, 7.65647450e+03, 7.65905000e+03,\n",
       "       1.14891790e+04, 7.65586350e+03, 8.99408300e+03, 1.50369075e+03,\n",
       "       5.53020050e+03, 2.52688900e+03, 2.52279800e+03, 2.52471200e+03,\n",
       "       2.52435400e+03, 8.48520000e+03, 2.52266900e+03, 2.52342550e+03,\n",
       "       7.65697350e+03, 3.77530550e+03, 7.65725850e+03, 2.52525500e+03,\n",
       "       7.65947350e+03, 2.52558600e+03, 7.66009050e+03, 2.52432550e+03,\n",
       "       7.66098350e+03, 2.52442300e+03, 7.66148850e+03, 2.52418150e+03,\n",
       "       6.82642050e+03, 2.52688650e+03, 7.66004450e+03, 2.52557000e+03,\n",
       "       7.65853050e+03, 2.52318950e+03, 7.66070550e+03, 2.52500800e+03,\n",
       "       7.66169450e+03, 2.52487250e+03, 7.66076950e+03, 3.77504850e+03,\n",
       "       7.65827600e+03, 2.52401650e+03, 7.65890000e+03, 2.52632050e+03,\n",
       "       7.66015550e+03, 2.52550000e+03, 7.66171200e+03, 2.52256500e+03,\n",
       "       1.14886620e+04, 2.52490750e+03, 6.82554400e+03, 2.52448200e+03,\n",
       "       7.66204550e+03, 2.52437350e+03, 7.65950800e+03, 2.52484350e+03,\n",
       "       7.66217950e+03, 2.52613000e+03, 7.66189850e+03, 2.52698150e+03,\n",
       "       7.66099200e+03, 1.79150000e+00, 1.22275000e+00, 1.23325000e+00,\n",
       "       1.54575000e+00, 1.27700000e+00, 1.69735000e+01, 5.21748500e+02,\n",
       "       4.76240000e+01, 7.66108800e+03, 7.66032150e+03, 7.65956950e+03,\n",
       "       1.14890960e+04, 7.65974450e+03, 8.99606000e+03, 9.50571330e+01,\n",
       "       3.91988938e+02, 5.88127750e+02, 2.37382125e+02, 4.33669531e+02,\n",
       "       7.14194875e+02, 2.29085187e+02, 4.26263281e+02, 7.40629625e+02,\n",
       "       4.30553750e+02, 2.31487344e+02, 8.69409188e+02, 4.38625250e+02,\n",
       "       2.16666500e+02, 9.52228938e+02, 4.76035563e+02, 1.91646156e+02,\n",
       "       7.40663625e+02, 7.99709938e+02, 5.40494063e+02, 6.45077188e+02,\n",
       "       7.40537063e+02, 4.47945000e+02, 9.40176875e+02, 7.68970563e+02,\n",
       "       4.73692938e+02, 8.87175250e+02, 6.24957688e+02, 4.61833906e+02,\n",
       "       7.80789875e+02, 9.27066438e+02, 4.42365875e+02, 9.99850625e+02,\n",
       "       7.74690563e+02, 4.38514656e+02, 8.33250813e+02, 6.53831063e+02,\n",
       "       4.65004469e+02, 6.45064062e+02, 6.45040125e+02, 2.56354000e+02,\n",
       "       6.66580438e+02, 4.76030000e+02, 1.39803406e+02, 5.71343313e+02,\n",
       "       7.14123625e+02, 7.21924300e+01, 6.97498125e+02, 5.55352313e+02,\n",
       "       2.15032984e+02, 1.08487988e+03, 7.13941000e+02, 3.84588219e+02,\n",
       "       1.06517413e+03, 5.87978250e+02, 4.08149063e+02, 9.99609000e+02,\n",
       "       6.05630063e+02, 3.77295406e+02, 8.33197500e+02, 3.57167937e+02,\n",
       "       5.12522563e+02, 8.33223187e+02, 3.91330406e+02, 8.67709125e+02,\n",
       "       7.99854938e+02, 3.98125531e+02, 5.86270250e+02, 7.20837625e+02,\n",
       "       4.18959875e+02, 6.19604125e+02, 7.43848813e+02, 3.84637656e+02,\n",
       "       6.99522250e+02, 7.23198938e+02, 4.08051344e+02, 6.25910375e+02,\n",
       "       7.15235688e+02, 3.99975594e+02, 4.16371000e+02, 7.48121500e+02,\n",
       "       3.63512313e+02, 6.65919625e+02, 8.08415625e+02, 4.08207187e+02,\n",
       "       6.24514125e+02, 1.03305869e+03, 3.99898969e+02, 6.05900500e+02,\n",
       "       9.12940438e+02, 4.44420563e+02, 6.89409625e+02, 5.94426000e+02,\n",
       "       3.86599625e+02, 6.65627813e+02, 5.81393125e+02, 3.90054750e+02,\n",
       "       7.23207312e+02, 9.43148688e+02, 4.33934156e+02, 5.99739750e+02,\n",
       "       7.74873500e+02, 4.17283219e+02, 8.03440438e+02, 6.38005937e+02,\n",
       "       4.30917750e+02, 5.63489000e+02, 8.29586250e+02, 4.47731375e+02,\n",
       "       8.87922063e+02, 6.89594938e+02, 3.88442469e+02, 9.08785062e+02,\n",
       "       6.45072500e+02, 3.74093781e+02, 6.44913563e+02, 5.71334812e+02,\n",
       "       4.49820219e+02, 4.87583406e+02, 6.07770375e+02, 4.35469219e+02,\n",
       "       6.44905188e+02, 6.77858687e+02, 4.65850469e+02, 6.66351312e+02,\n",
       "       7.24960938e+02, 4.26024156e+02, 6.05781438e+02, 6.77472875e+02,\n",
       "       4.08862625e+02, 7.40310938e+02, 7.35322625e+02, 3.60306656e+02,\n",
       "       4.75822281e+02, 7.18047875e+02, 4.05906031e+02, 9.34455375e+02,\n",
       "       7.20707063e+02, 3.84939469e+02, 8.85296938e+02, 9.29864500e+02,\n",
       "       4.05841875e+02, 9.42945938e+02, 7.74863125e+02, 4.43648438e+02,\n",
       "       9.29736813e+02, 6.64148563e+02, 4.13439906e+02, 8.34171875e+02,\n",
       "       7.23194687e+02, 3.64165594e+02, 5.99610937e+02, 5.81163375e+02,\n",
       "       4.08858625e+02, 6.99771813e+02, 6.78050500e+02, 4.26326906e+02,\n",
       "       5.63346063e+02, 6.19852562e+02, 4.26225094e+02, 7.74780125e+02,\n",
       "       7.48275313e+02, 4.26242969e+02, 6.19715312e+02, 6.41257375e+02,\n",
       "       3.71007750e+02, 7.22690375e+02, 8.67835687e+02, 3.70941250e+02,\n",
       "       5.46866688e+02, 6.64214563e+02, 3.72624062e+02, 8.67727375e+02,\n",
       "       7.48147875e+02, 3.49867313e+02, 4.89332594e+02, 6.19912250e+02,\n",
       "       4.23999844e+02, 8.34408000e+02, 7.48229875e+02, 4.19078375e+02,\n",
       "       8.08483125e+02, 6.64199687e+02, 4.20218750e+02, 7.11710250e+02,\n",
       "       7.08329000e+02, 3.30090781e+02, 6.48140437e+02, 5.50842875e+02,\n",
       "       4.35426875e+02, 9.77513187e+02, 8.60324313e+02, 3.92811062e+02,\n",
       "       6.45088875e+02, 7.99751688e+02, 7.02104125e+02, 4.54229312e+02,\n",
       "       6.45100125e+02, 4.24319469e+02, 5.55407875e+02, 9.99820312e+02,\n",
       "       5.06674730e+01, 6.05715375e+02, 8.33234687e+02, 5.69156680e+01,\n",
       "       5.51254250e+02, 7.44385375e+02, 3.65626281e+02, 5.63381000e+02,\n",
       "       6.19941625e+02, 4.42390000e+02, 7.47993812e+02, 6.99902125e+02,\n",
       "       4.62709687e+02, 5.99609375e+02, 6.41207750e+02, 3.84768625e+02,\n",
       "       7.22823313e+02, 7.23243687e+02, 4.65775312e+02, 7.01837313e+02,\n",
       "       6.20051250e+02, 4.00620281e+02, 6.05846563e+02, 6.61024688e+02,\n",
       "       3.92746344e+02, 9.78358750e+02, 7.43919250e+02, 4.35410250e+02,\n",
       "       9.03902063e+02, 6.99898063e+02, 4.76930094e+02, 8.45197813e+02,\n",
       "       6.19883875e+02, 4.78431438e+02, 8.67766062e+02, 9.43335500e+02,\n",
       "       4.53683812e+02, 7.15940438e+02, 6.41649250e+02, 4.72869594e+02,\n",
       "       4.13910844e+02, 7.04657500e+02, 2.28079688e+02, 4.78395812e+02,\n",
       "       5.81180813e+02, 2.26471734e+02, 5.37464250e+02, 6.99936500e+02,\n",
       "       1.97260641e+02, 5.99785188e+02, 6.41307063e+02, 4.76114813e+02,\n",
       "       7.22920562e+02, 7.74921563e+02, 5.12710312e+02, 5.54889188e+02,\n",
       "       5.90510063e+02, 3.99902156e+02, 6.88981125e+02, 7.80531438e+02,\n",
       "       4.25405531e+02, 6.66437750e+02, 6.18118750e+02, 4.54403000e+02,\n",
       "       7.13838438e+02, 6.89586875e+02, 4.76045563e+02, 6.66181750e+02,\n",
       "       6.24891562e+02, 2.93777000e+02, 6.45052937e+02, 8.32984563e+02,\n",
       "       6.44948375e+02, 5.71379000e+02, 5.51194938e+02, 6.24816563e+02,\n",
       "       8.33228813e+02, 4.35122031e+02, 6.45590937e+02, 7.14278500e+02,\n",
       "       8.35310000e+02, 6.10838875e+02, 3.78401187e+02, 3.08041344e+02,\n",
       "       1.02089981e+03, 4.34389490e+01, 3.94371330e+01, 6.57631188e+02,\n",
       "       8.45302190e+01, 4.52342230e+01, 7.31900437e+02, 2.28003609e+02,\n",
       "       1.63826687e+02, 8.53114000e+02, 2.92112030e+01, 2.39247230e+01,\n",
       "       7.42271875e+02, 4.53512460e+01, 4.06015470e+01, 6.64121562e+02,\n",
       "       3.53273563e+02, 5.08689156e+02, 7.48173375e+02, 4.25000000e+01,\n",
       "       4.46861640e+01, 6.41234687e+02, 5.42431000e+02, 5.98606375e+02,\n",
       "       7.48137625e+02, 3.97410406e+02, 5.63300375e+02, 5.63500875e+02,\n",
       "       4.42778813e+02, 7.48066625e+02, 7.74899375e+02, 3.75271750e+02,\n",
       "       6.19726937e+02, 6.64194000e+02, 7.47963188e+02, 4.89922000e+02,\n",
       "       7.48205625e+02, 4.76910000e+02, 8.08139188e+02, 6.19786750e+02,\n",
       "       3.71024969e+02, 6.56928625e+02, 7.48071375e+02, 1.71436000e+02,\n",
       "       2.24440375e+02, 6.41301187e+02, 8.00108910e+01, 2.39237203e+02,\n",
       "       1.08481738e+03, 6.80710000e+01, 1.70354203e+02, 6.88842937e+02,\n",
       "       1.36173031e+02, 1.68186516e+02, 8.34473375e+02, 1.37116031e+02,\n",
       "       1.86609156e+02, 5.81175875e+02, 1.34326125e+02, 1.64729672e+02,\n",
       "       7.23264000e+02, 1.34339391e+02, 1.67593797e+02, 6.19697125e+02,\n",
       "       1.36145984e+02, 1.67721266e+02, 8.69499312e+02, 1.36798578e+02,\n",
       "       1.88774937e+02, 6.89576500e+02, 1.34938750e+02, 1.66775438e+02,\n",
       "       6.89590875e+02, 1.39960172e+02, 1.81943781e+02, 7.14227688e+02,\n",
       "       1.39545437e+02, 1.76233234e+02, 7.69160250e+02, 1.38426391e+02,\n",
       "       2.09197937e+02, 6.45037438e+02, 1.36132812e+02, 1.61081094e+02,\n",
       "       7.99941125e+02, 1.34320781e+02, 1.92455828e+02, 6.66576125e+02,\n",
       "       1.39938719e+02, 1.64064203e+02, 6.58883500e+02, 1.26270023e+02,\n",
       "       2.22418719e+02, 8.67931438e+02, 1.36112078e+02, 1.52774937e+02,\n",
       "       8.85607437e+02, 1.38140141e+02, 1.66310844e+02, 7.48174875e+02,\n",
       "       1.36157125e+02, 1.97487094e+02, 7.15357875e+02, 1.37083703e+02,\n",
       "       1.68092672e+02, 7.48158188e+02, 1.37862078e+02, 1.80468359e+02,\n",
       "       6.19901687e+02, 1.37233078e+02, 1.62505750e+02, 7.23331063e+02,\n",
       "       1.36680500e+02, 1.86517219e+02, 6.41241500e+02, 1.33306297e+02,\n",
       "       1.90394156e+02, 6.78094875e+02, 1.34974844e+02, 1.76910438e+02,\n",
       "       6.19871125e+02, 1.37889844e+02, 1.61208359e+02, 7.74930313e+02,\n",
       "       1.38867984e+02, 1.80081953e+02, 7.15347375e+02, 1.41745641e+02,\n",
       "       1.66850750e+02, 8.34497062e+02, 1.36149781e+02, 1.82740000e+02,\n",
       "       7.15346437e+02, 1.36170875e+02, 1.78552641e+02, 7.02154312e+02,\n",
       "       1.37060109e+02, 1.72485234e+02, 1.05253000e+03, 1.35863891e+02,\n",
       "       1.88707469e+02, 1.05252238e+03, 1.33296219e+02, 1.66801531e+02,\n",
       "       6.89591063e+02, 1.40926141e+02, 1.85347438e+02, 9.99820375e+02,\n",
       "       1.38556609e+02, 1.89632031e+02, 8.33287687e+02, 1.33813453e+02,\n",
       "       1.62004484e+02, 6.93952937e+02, 1.37087172e+02, 1.81987203e+02,\n",
       "       8.67906250e+02, 1.36003969e+02, 1.65425312e+02, 6.64205000e+02,\n",
       "       1.41022109e+02, 1.77130906e+02, 7.23210563e+02, 1.38017766e+02,\n",
       "       1.66787859e+02, 6.41319813e+02, 1.40985516e+02, 1.69643937e+02,\n",
       "       6.78011875e+02, 1.56094219e+02, 1.62723359e+02, 7.74898187e+02,\n",
       "       1.68229875e+02, 1.81979156e+02, 1.08499200e+03, 1.47273156e+02,\n",
       "       1.66892094e+02, 7.43879500e+02, 1.41513609e+02, 1.72042406e+02,\n",
       "       7.23240312e+02, 1.28209781e+02, 2.08341328e+02, 6.19978125e+02,\n",
       "       1.37153531e+02, 1.58918375e+02, 7.23182937e+02, 1.33413578e+02,\n",
       "       1.69579844e+02, 5.63586937e+02, 1.33490641e+02, 1.74108922e+02,\n",
       "       9.04095688e+02, 1.39834391e+02, 1.76987219e+02, 7.74898500e+02,\n",
       "       1.42984625e+02, 1.72528656e+02, 6.78054125e+02, 1.40004844e+02,\n",
       "       1.66831031e+02, 7.15296062e+02, 1.37352688e+02, 1.85111375e+02,\n",
       "       7.48984563e+02, 1.33468531e+02, 1.71141969e+02, 7.40665062e+02,\n",
       "       2.17416094e+02, 2.38039953e+02, 9.09051000e+02, 3.75970344e+02,\n",
       "       5.44990875e+02, 9.99924813e+02, 1.66443641e+02, 4.26569450e+01,\n",
       "       6.45102938e+02, 1.79088922e+02, 2.98448790e+01, 7.69142000e+02,\n",
       "       1.74626781e+02, 1.07449094e+02, 8.05009125e+02, 1.69928891e+02,\n",
       "       1.49918250e+02, 7.64201063e+02, 1.90293031e+02, 1.67912203e+02,\n",
       "       1.02130313e+03, 1.62518953e+02, 1.65314703e+02, 1.08741587e+03,\n",
       "       1.94142906e+02, 1.47048000e+02, 9.86746313e+02, 2.50197547e+02,\n",
       "       1.58717203e+02, 9.17630312e+02, 1.88662297e+02, 1.62615219e+02,\n",
       "       7.47503875e+02, 2.74188438e+02, 1.63926922e+02, 7.04490375e+02,\n",
       "       1.68062344e+02, 1.58832812e+02, 7.10858375e+02, 1.86947422e+02,\n",
       "       1.65427844e+02, 7.48142875e+02, 1.73954547e+02, 1.63661891e+02,\n",
       "       6.41291563e+02, 1.80069078e+02, 1.65426109e+02, 6.99921312e+02,\n",
       "       3.37138250e+02, 2.18650688e+02, 5.98565750e+02, 4.04075350e+01,\n",
       "       4.99047660e+01, 6.87611437e+02, 5.46877500e+02, 7.20705875e+02,\n",
       "       6.64231000e+02, 3.15871500e+02, 6.02616875e+02, 1.14182587e+03,\n",
       "       3.78641520e+01, 4.03491130e+01, 8.85635875e+02, 4.48998360e+01,\n",
       "       5.51724100e+01, 1.03317750e+03, 7.16575312e+02, 5.70960438e+02,\n",
       "       7.30493313e+02, 6.37977625e+02, 4.63331375e+02, 6.77065000e+02,\n",
       "       9.47199562e+02, 4.25473656e+02, 7.14240312e+02, 5.96881687e+02,\n",
       "       4.34670969e+02, 6.66587625e+02, 7.15069250e+02, 4.54457688e+02,\n",
       "       8.33250188e+02, 9.43145813e+02, 4.65078875e+02, 6.45117125e+02,\n",
       "       3.65243875e+02, 2.27711953e+02, 6.45061312e+02, 3.17316875e+02,\n",
       "       4.42896469e+02, 6.18905062e+02, 7.14144375e+02, 6.93159188e+02,\n",
       "       8.15404188e+02, 7.99781750e+02, 7.22730688e+02, 9.42007812e+02,\n",
       "       7.27651125e+02, 7.02525437e+02, 8.75813625e+02, 6.89539562e+02,\n",
       "       2.10210187e+02, 8.09129312e+02, 2.00607462e+03, 6.29700000e+00,\n",
       "       7.41500000e+00, 4.48550000e+00, 4.58800000e+00, 2.85933300e+00,\n",
       "       5.36550000e+00, 3.75935000e+01, 2.00576000e+03, 5.61750000e+00,\n",
       "       9.05100000e+00, 6.31200000e+00, 6.87633300e+00, 5.14966700e+00,\n",
       "       2.62150000e+00, 5.02516680e+01])"
      ]
     },
     "metadata": {},
     "output_type": "display_data"
    },
    {
     "data": {
      "text/plain": [
       "'SIntPktMax'"
      ]
     },
     "metadata": {},
     "output_type": "display_data"
    },
    {
     "data": {
      "text/plain": [
       "array([     nan,    6.342,    5.829, ...,   50.384, 1002.581, 1970.059])"
      ]
     },
     "metadata": {},
     "output_type": "display_data"
    },
    {
     "data": {
      "text/plain": [
       "'SIntPktMin'"
      ]
     },
     "metadata": {},
     "output_type": "display_data"
    },
    {
     "data": {
      "text/plain": [
       "array([          nan, 6.3420000e+00, 5.8290000e+00, 5.4000000e-02,\n",
       "       1.6000000e-01, 2.8672028e+04, 3.6095764e+04, 3.3792288e+04,\n",
       "       3.1999954e+04, 6.3650000e+00, 7.0570000e+00, 2.4680000e+00,\n",
       "       2.3530000e+00, 1.4013248e+04, 2.0087560e+03, 1.4012537e+04,\n",
       "       2.0057280e+03, 1.4012632e+04, 4.4400000e-01, 1.4013001e+04,\n",
       "       1.4013187e+04, 9.6000000e-02, 1.4011124e+04, 2.4320758e+04,\n",
       "       1.4015952e+04, 1.4014364e+04, 2.0800000e-01, 1.4014315e+04,\n",
       "       1.4013916e+04, 3.9979010e+03, 5.3300000e-01, 1.4010484e+04,\n",
       "       1.4013942e+04, 1.4700000e-01, 1.4010296e+04, 6.2900000e-01,\n",
       "       1.4012769e+04, 1.4010562e+04, 1.4013221e+04, 1.4006004e+04,\n",
       "       7.6900000e-01, 1.4009506e+04, 6.9000000e-02, 1.4008689e+04,\n",
       "       1.1460000e+00, 1.4008527e+04, 1.4010439e+04, 2.5087120e+04,\n",
       "       7.4000000e-02, 1.4012179e+04, 1.4012995e+04, 5.0003910e+03,\n",
       "       9.8000000e-02, 1.4013359e+04, 1.4012645e+04, 1.4015056e+04,\n",
       "       5.1000000e-01, 1.4012894e+04, 5.2000000e-02, 5.0096220e+03,\n",
       "       1.4014568e+04, 1.6600000e-01, 1.4012116e+04, 1.4009955e+04,\n",
       "       4.0000000e-02, 1.4012625e+04, 1.4009874e+04, 1.3600000e-01,\n",
       "       1.4008126e+04, 2.4000000e-02, 2.4064440e+04, 1.4007208e+04,\n",
       "       1.4008141e+04, 2.1500000e-01, 1.4014378e+04, 1.2600000e-01,\n",
       "       3.9935300e+03, 1.4007306e+04, 1.3300000e-01, 1.4011521e+04,\n",
       "       1.4012366e+04, 1.4012875e+04, 1.4011781e+04, 8.0000000e-02,\n",
       "       1.4009905e+04, 7.7000000e-02, 1.4011233e+04, 1.4009346e+04,\n",
       "       7.6000000e-02, 1.4015473e+04, 2.8000000e-02, 1.4011335e+04,\n",
       "       1.4015122e+04, 2.2100000e-01, 1.4009406e+04, 4.9995350e+03,\n",
       "       3.3000000e-02, 1.4014333e+04, 1.4011895e+04, 4.9700000e-01,\n",
       "       1.4013378e+04, 1.4009868e+04, 1.4008956e+04, 8.4000000e-02,\n",
       "       1.4006099e+04, 3.5000000e-02, 1.4007650e+04, 1.4006715e+04,\n",
       "       2.8800000e-01, 1.4007815e+04, 2.3000000e-02, 1.4010034e+04,\n",
       "       3.5128900e+03, 1.4011688e+04, 1.4011672e+04, 8.4000000e-01,\n",
       "       1.4009431e+04, 1.4012044e+04, 2.4832976e+04, 1.7700000e-01,\n",
       "       1.4005066e+04, 1.4014294e+04, 7.3000000e-02, 1.4008536e+04,\n",
       "       1.4013078e+04, 2.0300000e-01, 1.4013033e+04, 1.7200000e-01,\n",
       "       1.4012754e+04, 1.4013935e+04, 1.5800000e-01, 1.4015202e+04,\n",
       "       2.1000000e-02, 1.4013439e+04, 1.4012313e+04, 1.4400000e-01,\n",
       "       1.4002338e+04, 5.0067110e+03, 1.0000000e-02, 1.4012591e+04,\n",
       "       1.4007043e+04, 1.5500000e-01, 2.2527396e+04, 5.0000000e-02,\n",
       "       1.4007035e+04, 1.4006723e+04, 5.4600000e-01, 1.4011782e+04,\n",
       "       4.2000000e-02, 1.4009761e+04, 8.7000000e-02, 1.4010387e+04,\n",
       "       1.4014203e+04, 4.7000000e-02, 1.4009879e+04, 1.4011221e+04,\n",
       "       1.1100000e-01, 1.4008711e+04, 4.9959520e+03, 2.6000000e-02,\n",
       "       1.4011198e+04, 1.4008105e+04, 4.3000000e-01, 6.5400000e-01,\n",
       "       1.4650000e+00, 1.4080000e+00, 5.9900000e-01, 5.1800000e-01,\n",
       "       1.0260000e+00, 1.3640000e+00, 1.4014652e+04, 1.0570000e+00,\n",
       "       5.3000000e-02, 1.4007649e+04, 1.4012067e+04, 2.3296516e+04,\n",
       "       7.0000000e-03, 1.4011256e+04, 8.1000000e-02, 5.0556740e+03,\n",
       "       5.0005260e+03, 3.8000000e-02, 2.7903468e+04, 2.9440312e+04,\n",
       "       7.4830000e+00, 7.2070000e+00, 1.8410000e+00, 1.7880000e+00,\n",
       "       1.4012982e+04, 2.0135190e+03, 1.4012896e+04, 2.0113550e+03,\n",
       "       1.4015683e+04, 7.3900000e-01, 1.4006755e+04, 1.6800000e-01,\n",
       "       1.4009323e+04, 1.4008832e+04, 1.4012819e+04, 1.5600000e-01,\n",
       "       1.4008007e+04, 1.4009855e+04, 1.4004525e+04, 9.9622700e+02,\n",
       "       1.4011360e+04, 1.2300000e-01, 1.4015009e+04, 6.8000000e-02,\n",
       "       1.4012022e+04, 1.4015230e+04, 1.4600000e-01, 1.4012138e+04,\n",
       "       1.4014746e+04, 1.0700000e-01, 1.4013639e+04, 1.4012405e+04,\n",
       "       1.6700000e-01, 1.4012202e+04, 1.4014763e+04, 1.4013872e+04,\n",
       "       3.7000000e-02, 1.4014084e+04, 1.4015513e+04, 9.9252200e+02,\n",
       "       1.3000000e-01, 1.4015825e+04, 1.4012306e+04, 1.8100000e-01,\n",
       "       1.4015074e+04, 1.4013120e+04, 2.5000000e-02, 5.0054920e+03,\n",
       "       1.4014842e+04, 1.4008717e+04, 3.0000000e-01, 1.4013790e+04,\n",
       "       4.1000000e-02, 1.4010650e+04, 9.3000000e-02, 1.4012069e+04,\n",
       "       1.4015756e+04, 2.0000000e-03, 1.4012000e+04, 1.4015673e+04,\n",
       "       1.1600000e-01, 1.4012926e+04, 7.2000000e-02, 3.0031830e+03,\n",
       "       1.4015932e+04, 1.4013821e+04, 2.1700000e-01, 1.4011023e+04,\n",
       "       6.5000000e-02, 1.4014586e+04, 1.4013028e+04, 4.7900000e-01,\n",
       "       1.4009782e+04, 8.3000000e-02, 1.4015965e+04, 9.0000000e-02,\n",
       "       1.4010444e+04, 1.4014875e+04, 2.9000000e-02, 1.4013634e+04,\n",
       "       2.4300000e-01, 1.4011021e+04, 1.4016479e+04, 5.0041090e+03,\n",
       "       1.2800000e-01, 1.4009657e+04, 1.4016362e+04, 3.2700000e-01,\n",
       "       1.4007702e+04, 1.4015881e+04, 1.8500000e-01, 1.4007973e+04,\n",
       "       1.4013668e+04, 1.4010946e+04, 1.4011953e+04, 8.9000000e-02,\n",
       "       1.4015720e+04, 9.4000000e-02, 1.4011674e+04, 3.5074250e+03,\n",
       "       1.4015587e+04, 1.4015578e+04, 1.2200000e-01, 1.4012790e+04,\n",
       "       6.4000000e-02, 1.4015759e+04, 1.4013506e+04, 3.4500000e-01,\n",
       "       1.4015769e+04, 1.4013531e+04, 2.3600000e-01, 1.4016586e+04,\n",
       "       1.4012948e+04, 2.3800000e-01, 1.4016801e+04, 1.4015507e+04,\n",
       "       1.4014150e+04, 1.1700000e-01, 1.4014606e+04, 1.4015400e+04,\n",
       "       1.4012334e+04, 5.0032170e+03, 1.4015966e+04, 9.1000000e-02,\n",
       "       1.4012899e+04, 1.4012001e+04, 1.4015736e+04, 1.4012462e+04,\n",
       "       3.1000000e-02, 1.4012578e+04, 1.4009788e+04, 1.4012130e+04,\n",
       "       1.4011481e+04, 1.4013147e+04, 2.9900000e-01, 1.4013331e+04,\n",
       "       5.0055610e+03, 5.5000000e-02, 1.4016756e+04, 1.4016527e+04,\n",
       "       3.3500000e-01, 5.1900000e-01, 1.9500000e-01, 9.2000000e-01,\n",
       "       3.1100000e-01, 1.4016496e+04, 1.7450000e+00, 1.4016307e+04,\n",
       "       1.4015780e+04, 1.4015774e+04, 1.0400000e-01, 5.0352160e+03,\n",
       "       5.0111720e+03, 1.8000000e-01, 5.1000000e-02, 6.1000000e-02,\n",
       "       1.7000000e-02, 4.8000000e-02, 1.0000000e-03, 1.4000000e-02,\n",
       "       1.0007440e+03, 1.6000000e-02, 1.5300000e-01, 6.2000000e-02,\n",
       "       9.2000000e-02, 9.0000000e-03, 5.2500000e-01, 7.5000000e-02,\n",
       "       2.6300000e-01, 6.0000000e-03, 3.0000000e-03, 1.0001400e+03,\n",
       "       1.2000000e-02, 1.1000000e-02, 1.5000000e-02, 5.9000000e-02,\n",
       "       1.1300000e-01, 1.5700000e-01, 1.3000000e-02, 1.0003570e+03,\n",
       "       4.5000000e-02, 2.7000000e-01, 2.6000000e-01, 1.8300000e-01,\n",
       "       5.0000000e-03, 3.8500000e-01, 9.2570000e+01, 8.0000000e-03,\n",
       "       1.6500000e-01, 1.9000000e-02, 1.0003630e+03, 8.8000000e-02,\n",
       "       3.6200000e-01, 5.2200000e-01, 1.0004670e+03, 1.8000000e-02,\n",
       "       3.3400000e-01, 1.9700000e-01, 1.3900000e-01, 3.0800000e-01,\n",
       "       2.2000000e-02, 1.8600000e-01, 6.7000000e-02, 1.0007430e+03,\n",
       "       2.7000000e-02, 2.0000000e-02, 4.4000000e-02, 1.6300000e-01,\n",
       "       1.0008450e+03, 4.0000000e-03, 6.3000000e-02, 1.4300000e-01,\n",
       "       2.0200000e-01, 1.1200000e-01, 1.0007630e+03, 1.1500000e-01,\n",
       "       3.2000000e-02, 1.0003910e+03, 3.9000000e-02, 4.3000000e-02,\n",
       "       1.0008660e+03, 4.9000000e-02, 4.6000000e-02, 1.0008370e+03,\n",
       "       1.4500000e-01, 3.0400000e-01, 3.3100000e-01, 1.0005070e+03,\n",
       "       1.2500000e-01, 1.0010780e+03, 2.1000000e-01, 1.5200000e-01,\n",
       "       1.0005340e+03, 2.2700000e-01, 2.1800000e-01, 7.9000000e-02,\n",
       "       1.0012270e+03, 3.4000000e-02, 5.7000000e-02, 5.0900000e-01,\n",
       "       4.0900000e-01, 1.3700000e-01, 1.9100000e-01, 1.0010980e+03,\n",
       "       7.4999200e+02, 6.8100000e-01, 2.7202200e+02, 1.0005020e+03,\n",
       "       1.0100000e-01, 1.4100000e-01, 1.0008980e+03, 6.6000000e-02,\n",
       "       3.5600000e-01, 2.3100000e-01, 1.4900000e-01, 1.1900000e-01,\n",
       "       6.0000000e-02, 1.0009240e+03, 1.0006210e+03, 8.5000000e-02,\n",
       "       1.3100000e-01, 1.0002690e+03, 3.0000000e-02, 2.7800000e-01,\n",
       "       1.0004910e+03, 1.2400000e-01, 1.0007880e+03, 1.0001550e+03,\n",
       "       2.7081300e+02, 2.6900000e-01, 8.2000000e-02, 1.0006490e+03,\n",
       "       1.0001540e+03, 3.3200000e-01, 9.9985600e+02, 1.0007360e+03,\n",
       "       2.4700000e-01, 2.3000000e-01, 7.0000000e-02, 9.9932400e+02,\n",
       "       2.0100000e-01, 2.7068700e+02, 3.4600000e-01, 7.1000000e-02,\n",
       "       1.0009110e+03, 1.0200000e-01, 1.0004860e+03, 1.2100000e-01,\n",
       "       2.0089100e+02, 2.0900000e-01, 1.0004870e+03, 4.0600000e-01,\n",
       "       4.0800000e-01, 1.2700000e-01, 1.0006260e+03, 3.4100000e-01,\n",
       "       1.7100000e-01, 2.0000000e-01, 3.0143100e+02, 1.0032030e+03,\n",
       "       9.9994800e+02, 4.9340000e+00, 1.0227510e+03, 9.9670900e+02,\n",
       "       1.9000000e-01, 1.0016530e+03, 9.9341000e+02, 9.9974100e+02,\n",
       "       1.0241890e+03, 9.9898200e+02, 9.9923800e+02, 1.0025160e+03,\n",
       "       9.9662100e+02, 9.9904000e+02, 7.7000000e+00, 1.0008630e+03,\n",
       "       3.4730000e+00, 3.0340000e+00, 1.0300000e-01, 9.3900000e-01,\n",
       "       1.9760000e+00, 1.0006730e+03, 1.0109220e+03, 9.9637900e+02,\n",
       "       1.2018467e+04, 1.2011747e+04, 1.2010085e+04, 1.2010198e+04,\n",
       "       1.2006876e+04, 1.2012302e+04, 1.2012261e+04, 1.2011529e+04,\n",
       "       2.4827008e+04, 1.2008312e+04, 1.2013668e+04, 1.2013685e+04,\n",
       "       1.2010101e+04, 1.2012783e+04, 1.2015696e+04, 1.2015650e+04,\n",
       "       9.9795600e+02, 1.2011285e+04, 1.2010208e+04, 1.2007947e+04,\n",
       "       1.2007870e+04, 1.2012072e+04, 1.2010335e+04, 1.2013588e+04,\n",
       "       1.2013637e+04, 1.2010618e+04, 1.2006112e+04, 1.2013868e+04,\n",
       "       1.2013958e+04, 1.2012697e+04, 2.4065658e+04, 1.2006228e+04,\n",
       "       1.2015889e+04, 1.2016381e+04, 1.2011331e+04, 2.4063820e+04,\n",
       "       8.8094110e+03, 1.2013539e+04, 1.2013667e+04, 8.8092300e+03,\n",
       "       9.9981100e+02, 2.2527048e+04, 8.8101170e+03, 8.8082340e+03,\n",
       "       8.8079450e+03, 8.8146680e+03, 1.2011273e+04, 1.2012311e+04,\n",
       "       1.2012360e+04, 1.2010620e+04, 2.3811502e+04, 8.8094210e+03,\n",
       "       8.8103540e+03, 8.8102130e+03, 8.8074400e+03, 1.2012142e+04,\n",
       "       1.2014342e+04, 1.2014414e+04, 1.2009667e+04, 2.2271442e+04,\n",
       "       1.0002570e+03, 1.0409595e+04, 1.0414980e+04, 1.0415787e+04,\n",
       "       1.0411968e+04, 1.2014743e+04, 1.2015706e+04, 1.2015834e+04,\n",
       "       1.2008987e+04, 2.2271548e+04, 1.2010383e+04, 1.2008758e+04,\n",
       "       1.2008491e+04, 1.2012328e+04, 2.3292870e+04, 1.2011165e+04,\n",
       "       1.2014610e+04, 1.2014668e+04, 1.2013902e+04, 2.4063432e+04,\n",
       "       1.2013034e+04, 1.2010161e+04, 1.2010051e+04, 1.2006496e+04,\n",
       "       1.0000810e+03, 8.8098740e+03, 8.8170560e+03, 8.8171330e+03,\n",
       "       8.8120790e+03, 1.2015881e+04, 1.2015690e+04, 1.2015660e+04,\n",
       "       1.2009482e+04, 1.2010168e+04, 1.2011489e+04, 1.2011452e+04,\n",
       "       1.2012087e+04, 1.2012252e+04, 1.2012549e+04, 1.2012295e+04,\n",
       "       1.2008643e+04, 1.2011037e+04, 1.2013741e+04, 1.2013661e+04,\n",
       "       1.2010368e+04, 1.0005830e+03, 1.2010863e+04, 1.2012468e+04,\n",
       "       1.2012385e+04, 1.2011369e+04, 1.2010916e+04, 1.2013528e+04,\n",
       "       1.2013400e+04, 1.2014627e+04, 1.1212006e+04, 1.1216323e+04,\n",
       "       1.1216316e+04, 1.1209613e+04, 8.8109590e+03, 8.8092260e+03,\n",
       "       8.8091680e+03, 8.8085000e+03, 1.2008608e+04, 1.2017179e+04,\n",
       "       1.2017375e+04, 1.2017997e+04, 1.2008982e+04, 1.2013228e+04,\n",
       "       1.2013048e+04, 1.2007402e+04, 1.2009587e+04, 1.2011426e+04,\n",
       "       1.2011034e+04, 1.2007300e+04, 2.1503688e+04, 1.2011758e+04,\n",
       "       1.2015930e+04, 1.2016343e+04, 1.2007527e+04, 2.2527856e+04,\n",
       "       1.2012841e+04, 1.2013501e+04, 1.2012902e+04, 1.2010242e+04,\n",
       "       9.9992500e+02, 2.1505208e+04, 1.2013816e+04, 1.2014898e+04,\n",
       "       1.2014923e+04, 1.2010229e+04, 2.2528476e+04, 1.2008049e+04,\n",
       "       8.8129090e+03, 8.8142210e+03, 1.2010470e+04, 2.1502590e+04,\n",
       "       8.8068550e+03, 1.2007972e+04, 1.2009910e+04, 1.1207941e+04,\n",
       "       2.1760530e+04, 8.8085240e+03, 8.8124430e+03, 8.8123950e+03,\n",
       "       2.1503088e+04, 1.2015281e+04, 1.2013573e+04, 1.2013103e+04,\n",
       "       1.2006568e+04, 2.1759580e+04, 9.9609300e+02, 1.2012325e+04,\n",
       "       1.2011423e+04, 1.2006937e+04, 1.2009317e+04, 2.2273656e+04,\n",
       "       1.2011846e+04, 1.2008258e+04, 1.2011464e+04, 1.2007467e+04,\n",
       "       2.1758996e+04, 1.2011256e+04, 1.2014624e+04, 1.2010058e+04,\n",
       "       1.1998704e+04, 2.2528134e+04, 1.2013774e+04, 1.2013730e+04,\n",
       "       1.2015791e+04, 1.2002105e+04, 2.1504304e+04, 1.2011012e+04,\n",
       "       1.2016138e+04, 1.2011451e+04, 1.2008693e+04, 1.0004600e+03,\n",
       "       8.8046580e+03, 8.8121350e+03, 1.2008028e+04, 1.2010426e+04,\n",
       "       1.0035160e+03, 9.9396400e+02, 1.7505900e+04, 1.7488742e+04,\n",
       "       1.0049900e+02, 1.0053600e+02, 1.0079900e+02, 1.0072000e+02,\n",
       "       1.0090300e+02, 1.0058000e+02, 1.0099100e+02, 1.0012900e+02,\n",
       "       9.9526000e+01, 1.0010200e+02, 1.0063900e+02, 9.9917340e+03,\n",
       "       9.4921000e+01, 1.0031900e+02, 1.0862180e+03, 1.0941620e+03,\n",
       "       9.9877000e+01, 1.0044800e+02, 1.0229700e+02, 1.0944200e+03,\n",
       "       9.9551000e+01, 1.0009900e+02, 1.0027500e+02, 1.0949450e+03,\n",
       "       9.9995000e+01, 9.9920000e+01, 1.0825500e+03, 1.0971160e+03,\n",
       "       1.0046700e+02, 1.0823120e+03, 1.0020600e+02, 1.0942200e+03,\n",
       "       1.0095900e+02, 1.0943660e+03, 1.0038500e+02, 1.0033700e+02,\n",
       "       1.0949250e+03, 1.0992070e+03, 1.0972790e+03, 9.9567000e+01,\n",
       "       1.0021800e+02, 1.0018300e+02, 1.0921210e+03, 1.0060600e+02,\n",
       "       1.0097100e+02, 1.5114370e+03, 2.1112090e+03, 1.0348300e+02,\n",
       "       1.0348400e+02, 1.0318400e+02, 1.0314900e+02, 1.0279700e+02,\n",
       "       1.0281400e+02, 1.0047900e+02, 9.8900000e+01, 1.0017800e+02,\n",
       "       1.5838000e+02, 1.0050600e+02, 1.7643400e+02, 1.6095700e+02,\n",
       "       1.0004100e+02, 1.5324100e+02, 1.6066400e+02, 1.5973800e+02,\n",
       "       2.0093500e+02, 1.5930700e+02, 3.1878200e+02, 1.6068900e+02,\n",
       "       1.6058700e+02, 1.6025700e+02, 1.6041600e+02, 3.2064100e+02,\n",
       "       1.6014100e+02, 1.6140300e+02, 1.6068400e+02, 3.2060100e+02,\n",
       "       1.5953000e+02, 1.5951000e+02, 1.6016800e+02, 3.2618200e+02,\n",
       "       3.8758410e+03, 3.8747680e+03, 4.0966470e+03, 1.5777200e+02,\n",
       "       4.0951120e+03, 3.1931700e+02, 1.5917400e+02, 1.6059600e+02,\n",
       "       1.5948400e+02, 3.1999200e+02, 6.9725500e+03, 6.9741260e+03,\n",
       "       1.6043900e+02, 1.6020200e+02, 1.6048100e+02, 1.5986100e+02,\n",
       "       1.6007900e+02, 1.6086800e+02, 3.2090900e+02, 4.8138150e+03,\n",
       "       4.8150210e+03, 1.5981400e+02, 3.2193100e+02, 1.5889200e+02,\n",
       "       1.5879000e+02, 3.1946600e+02, 3.2058000e+02, 1.4511600e+02,\n",
       "       3.1932500e+02, 3.2048800e+02, 3.2019900e+02, 1.5418200e+02,\n",
       "       3.1809500e+02, 3.1858700e+02, 3.1478200e+02, 1.6031400e+02,\n",
       "       3.2049900e+02, 3.2005900e+02, 6.4106200e+02, 3.1738500e+02,\n",
       "       3.2019800e+02, 3.1871900e+02, 3.1822400e+02, 3.2028300e+02,\n",
       "       3.2086300e+02, 6.4069900e+02, 3.2126200e+02, 3.2069900e+02,\n",
       "       3.2188400e+02, 3.2110300e+02, 3.1991100e+02, 3.2103900e+02,\n",
       "       6.4120200e+02, 3.2143400e+02, 3.2010400e+02, 3.1781000e+02,\n",
       "       3.2041100e+02, 3.2014900e+02, 3.2024300e+02, 1.2829180e+03,\n",
       "       3.2006400e+02, 3.1840100e+02, 3.1963100e+02, 3.1998200e+02,\n",
       "       3.1955700e+02, 6.4571200e+02, 3.1835800e+02, 6.4079700e+02,\n",
       "       6.4089300e+02, 3.1780800e+02, 6.4193500e+02, 6.4516700e+02,\n",
       "       6.4530900e+02, 3.1999000e+02, 6.4164000e+02, 1.2883000e+03,\n",
       "       1.2883660e+03, 6.4159500e+02, 7.0506050e+03, 7.0520180e+03,\n",
       "       1.2819330e+03, 6.0869630e+03, 6.0856240e+03, 6.4256000e+02,\n",
       "       6.4251100e+02, 1.2799670e+03, 5.1267860e+03, 5.1269770e+03,\n",
       "       6.4049100e+02, 6.4046500e+02, 6.4054900e+02, 6.4099000e+02,\n",
       "       6.4044200e+02, 6.4185900e+02, 6.4175700e+02, 6.4104700e+02,\n",
       "       6.3927700e+02, 1.2824130e+03, 6.4043700e+02, 7.0475750e+03,\n",
       "       7.0490100e+03, 1.2820770e+03, 6.4103800e+02, 1.2816300e+03,\n",
       "       6.3983300e+02, 6.3875800e+02, 6.3797500e+02, 6.4035000e+02,\n",
       "       1.2826780e+03, 6.4188000e+02, 1.2803950e+03, 1.2842370e+03,\n",
       "       6.4381900e+02, 9.9681400e+02, 1.1009571e+04, 1.1010536e+04,\n",
       "       1.2007329e+04, 1.2008045e+04, 1.2003690e+04, 1.2003720e+04,\n",
       "       1.2011340e+04, 1.2010959e+04, 1.1008867e+04, 1.1009413e+04,\n",
       "       1.1008122e+04, 1.1008167e+04, 1.1009977e+04, 1.1011159e+04,\n",
       "       1.1010340e+04, 1.1009908e+04, 9.9940000e+02, 2.4068110e+04,\n",
       "       9.9992800e+02, 1.1007502e+04, 1.1008168e+04, 9.9704700e+02,\n",
       "       1.1010728e+04, 9.9625800e+02, 1.1010631e+04, 9.9949400e+02,\n",
       "       1.1013625e+04, 1.1015469e+04, 2.3036332e+04, 1.0118640e+03,\n",
       "       9.9517600e+02, 9.9502100e+02, 2.5343556e+04, 1.0193670e+03,\n",
       "       9.9749900e+02, 1.0101060e+03, 9.9733100e+02, 1.1482000e+01,\n",
       "       1.1230000e+00, 9.9960100e+02, 4.5680000e+00, 1.5680000e+00,\n",
       "       1.4010000e+00, 2.8700000e-01, 5.8000000e-02, 9.9971800e+02,\n",
       "       9.9782700e+02])"
      ]
     },
     "metadata": {},
     "output_type": "display_data"
    },
    {
     "data": {
      "text/plain": [
       "'DIntPktMax'"
      ]
     },
     "metadata": {},
     "output_type": "display_data"
    },
    {
     "data": {
      "text/plain": [
       "array([          nan, 0.0000000e+00, 2.8671996e+04, 3.6095740e+04,\n",
       "       3.3792344e+04, 3.2000020e+04, 2.4320744e+04, 1.7600000e-01,\n",
       "       1.0600000e-01, 2.5087154e+04, 1.9500000e-01, 1.4400000e-01,\n",
       "       2.0100000e-01, 9.8000000e-02, 1.0400000e-01, 2.4064432e+04,\n",
       "       2.0900000e-01, 1.5000000e-01, 2.4000000e-01, 1.1300000e-01,\n",
       "       1.3400000e-01, 2.7500000e-01, 1.2400000e-01, 1.5800000e-01,\n",
       "       9.0000000e-02, 2.4833036e+04, 2.9500000e-01, 1.0100000e-01,\n",
       "       2.2200000e-01, 2.2527388e+04, 1.8000000e-01, 1.6000000e-01,\n",
       "       2.0400000e-01, 3.2000000e-02, 2.3296488e+04, 1.0700000e-01,\n",
       "       2.3500000e-01, 1.1000000e-01, 2.0800000e-01, 2.7903536e+04,\n",
       "       2.9440256e+04, 1.8200000e-01, 1.5400000e-01, 1.5200000e-01,\n",
       "       1.0200000e-01, 1.5500000e-01, 2.9200000e-01, 2.7900000e-01,\n",
       "       3.1600000e-01, 3.1200000e-01, 1.7800000e-01, 1.3100000e-01,\n",
       "       1.6500000e-01, 2.7300000e-01, 1.8400000e-01, 1.4600000e-01,\n",
       "       2.2900000e-01, 5.6600000e-01, 2.3700000e-01, 3.2000000e-01,\n",
       "       1.6000000e-02, 3.2960000e+00, 2.8600000e-01, 7.7300000e-01,\n",
       "       3.7510000e+00, 4.9300000e-01, 4.9800000e-01, 4.2440000e+00,\n",
       "       4.3100000e-01, 7.6000000e-01, 3.3100000e-01, 2.6670000e+01,\n",
       "       6.1000000e-01, 5.3000000e-01, 4.3360000e+00, 5.0800000e-01,\n",
       "       2.6400000e-01, 3.2090000e+00, 5.8300000e-01, 9.5300000e-01,\n",
       "       3.8600000e-01, 7.8300000e-01, 2.9900000e-01, 8.2600000e-01,\n",
       "       4.9500000e-01, 4.9100000e-01, 4.3400000e-01, 2.2100000e-01,\n",
       "       2.3300000e-01, 5.6800000e-01, 2.9400000e-01, 1.5700000e-01,\n",
       "       4.0600000e-01, 5.6100000e-01, 3.5000000e-01, 5.1900000e-01,\n",
       "       2.8000000e-01, 1.0910000e+00, 6.2900000e-01, 4.7500000e-01,\n",
       "       1.7100000e-01, 6.8500000e-01, 4.8100000e-01, 3.3700000e-01,\n",
       "       1.4640000e+00, 3.4300000e-01, 5.4300000e-01, 6.8700000e-01,\n",
       "       2.0300000e-01, 3.5300000e-01, 6.5500000e-01, 4.4500000e-01,\n",
       "       1.5760000e+00, 3.0100000e-01, 3.4600000e-01, 4.3500000e-01,\n",
       "       4.5610000e+00, 7.2500000e-01, 6.3000000e-01, 8.4100000e-01,\n",
       "       3.1000000e-01, 3.6137000e+01, 2.7700000e-01, 3.3500000e-01,\n",
       "       3.6100000e-01, 6.5200000e-01, 4.6100000e-01, 1.2880000e+00,\n",
       "       3.1400000e-01, 6.2100000e-01, 5.5300000e-01, 5.5100000e-01,\n",
       "       3.2300000e-01, 6.7500000e-01, 7.7800000e-01, 2.5000000e-01,\n",
       "       4.5770000e+00, 1.0490000e+00, 1.8470000e+00, 3.3600000e-01,\n",
       "       3.7130000e+00, 1.2350000e+00, 1.8700000e-01, 7.4100000e-01,\n",
       "       2.3100000e-01, 3.8500000e-01, 2.1400000e-01, 3.2400000e-01,\n",
       "       1.8900000e-01, 3.0000000e-01, 1.0422000e+01, 6.4000000e-01,\n",
       "       2.9700000e-01, 3.4700000e-01, 5.1460000e+00, 2.3600000e-01,\n",
       "       4.8400000e-01, 2.6500000e-01, 2.6300000e-01, 6.5400000e-01,\n",
       "       3.2200000e-01, 1.4200000e-01, 5.3800000e-01, 6.2300000e-01,\n",
       "       2.1300000e-01, 4.9000000e-01, 3.9134000e+01, 5.7300000e-01,\n",
       "       4.1000000e-01, 5.4700000e-01, 4.0000000e-01, 2.9600000e-01,\n",
       "       5.8400000e-01, 7.8500000e-01, 5.3100000e-01, 6.3080000e+00,\n",
       "       2.7200000e-01, 5.4200000e-01, 7.2000000e-01, 3.3200000e-01,\n",
       "       9.5000000e-01, 7.2300000e-01, 7.2700000e-01, 3.8300000e-01,\n",
       "       6.1700000e-01, 5.0500000e-01, 3.8800000e-01, 1.1210000e+00,\n",
       "       8.5000000e-01, 2.5900000e-01, 2.7000000e-01, 7.0700000e-01,\n",
       "       5.9800000e-01, 3.4800000e-01, 3.7600000e-01, 2.5600000e-01,\n",
       "       4.3800000e-01, 4.0500000e-01, 3.3900000e-01, 1.0860000e+00,\n",
       "       4.6900000e-01, 5.2200000e-01, 3.2700000e-01, 5.0200000e-01,\n",
       "       6.7100000e-01, 4.1500000e-01, 2.3000000e-01, 8.8700000e-01,\n",
       "       3.6300000e-01, 3.7500000e-01, 3.7900000e-01, 2.5300000e-01,\n",
       "       2.8700000e-01, 7.6900000e-01, 8.1400000e-01, 3.5400000e-01,\n",
       "       5.8800000e-01, 1.4800000e-01, 1.8600000e-01, 2.8300000e-01,\n",
       "       9.0960000e+00, 4.8000000e-01, 6.0400000e-01, 9.9800000e-01,\n",
       "       8.4300000e-01, 4.1900000e-01, 3.0800000e-01, 2.5500000e-01,\n",
       "       5.8700000e-01, 2.8400000e-01, 3.0700000e-01, 2.9300000e-01,\n",
       "       7.6800000e-01, 6.6800000e-01, 1.1710000e+00, 4.8700000e-01,\n",
       "       7.8400000e-01, 4.6800000e-01, 4.4100000e-01, 4.0799000e+01,\n",
       "       3.9800000e-01, 3.8400000e+01, 3.6184000e+01, 1.6197000e+01,\n",
       "       4.3600000e-01, 8.2800000e-01, 4.8200000e-01, 3.6600000e-01,\n",
       "       9.0500000e-01, 8.6800000e-01, 7.3200000e-01, 8.0400000e-01,\n",
       "       4.3900000e-01, 2.5400000e-01, 7.2200000e-01, 8.0200000e-01,\n",
       "       4.3300000e-01, 3.2067000e+01, 5.4900000e-01, 3.9200000e-01,\n",
       "       6.8900000e-01, 5.2800000e-01, 2.6730000e+00, 1.9400000e-01,\n",
       "       5.9700000e-01, 2.5100000e-01, 2.6000000e-01, 2.6100000e-01,\n",
       "       3.1700000e-01, 3.4151000e+01, 6.2000000e-01, 4.7100000e-01,\n",
       "       4.7180000e+00, 2.9304000e+01, 2.9800000e-01, 4.2150000e+00,\n",
       "       2.9100000e-01, 4.5200000e-01, 6.1740000e+00, 7.7200000e-01,\n",
       "       7.5700000e-01, 1.0700000e+00, 7.1100000e-01, 6.5000000e-01,\n",
       "       5.6700000e-01, 1.1570000e+00, 1.1650000e+00, 1.2130000e+00,\n",
       "       6.5900000e-01, 7.5800000e-01, 5.6500000e-01, 1.3030000e+00,\n",
       "       5.9100000e-01, 6.3700000e-01, 2.7850000e+00, 1.5052000e+01,\n",
       "       3.7400000e-01, 4.5800000e-01, 1.6320000e+00, 2.1900000e-01,\n",
       "       6.9600000e-01, 3.3800000e-01, 4.4600000e-01, 2.7400000e-01,\n",
       "       2.5830000e+00, 2.8247000e+01, 6.2600000e-01, 1.9311000e+01,\n",
       "       5.3900000e+00, 4.8600000e-01, 6.2230000e+00, 8.5510000e+00,\n",
       "       5.7800000e-01, 3.1380000e+00, 3.7430000e+00, 8.0300000e-01,\n",
       "       1.2725000e+01, 6.9620000e+00, 5.0600000e-01, 4.2600000e+00,\n",
       "       7.7920000e+00, 9.6300000e-01, 6.1200000e-01, 4.7800000e-01,\n",
       "       5.8270000e+00, 1.0891000e+01, 8.3000000e-01, 7.4600000e-01,\n",
       "       8.1000000e-01, 6.4800000e-01, 6.1900000e-01, 2.5390000e+00,\n",
       "       9.2500000e-01, 4.5100000e-01, 6.4300000e-01, 8.1800000e-01,\n",
       "       4.7700000e-01, 8.3100000e-01, 7.4800000e-01, 9.0400000e-01,\n",
       "       6.1100000e-01, 8.4200000e-01, 1.9340000e+00, 3.2360000e+01,\n",
       "       3.7147000e+01, 7.0900000e-01, 1.4070000e+00, 3.0200000e-01,\n",
       "       2.4300000e-01, 2.4500000e-01, 1.9710000e+00, 3.0300000e-01,\n",
       "       3.0310000e+01, 3.7100000e-01, 1.7300000e-01, 4.0373000e+01,\n",
       "       2.2700000e-01, 5.4800000e-01, 2.5248000e+01, 1.6300000e-01,\n",
       "       2.4100000e-01, 3.0900000e-01, 6.9000000e-01, 9.1600000e-01,\n",
       "       4.5300000e-01, 3.7602000e+01, 4.4900000e-01, 4.7600000e-01,\n",
       "       5.7100000e-01, 3.8200000e-01, 7.3800000e-01, 1.8800000e-01,\n",
       "       4.6200000e-01, 3.5900000e-01, 3.5729000e+01, 4.4000000e-01,\n",
       "       4.4400000e-01, 4.2100000e-01, 1.2427000e+01, 2.6600000e-01,\n",
       "       2.0000000e-01, 7.8700000e-01, 1.2110000e+00, 5.1100000e-01,\n",
       "       3.8869000e+01, 5.2400000e-01, 1.9872000e+01, 6.3500000e-01,\n",
       "       7.6200000e-01, 4.8900000e-01, 7.7400000e-01, 4.5600000e-01,\n",
       "       1.4700000e-01, 1.4348000e+01, 1.2634000e+01, 2.9261000e+01,\n",
       "       2.8900000e-01, 3.9600000e-01, 1.2840000e+00, 3.6800000e-01,\n",
       "       4.1390000e+01, 1.4497000e+01, 4.6500000e-01, 1.8538000e+01,\n",
       "       2.4600000e-01, 4.2600000e-01, 3.9900000e-01, 2.7600000e-01,\n",
       "       1.3240000e+00, 2.6980000e+00, 3.2500000e-01, 8.5500000e-01,\n",
       "       3.2900000e-01, 2.7800000e-01, 2.8901000e+01, 9.2900000e-01,\n",
       "       2.4400000e-01, 8.8500000e-01, 7.1500000e-01, 4.2400000e-01,\n",
       "       3.0500000e-01, 3.7165000e+01, 3.1100000e-01, 3.6500000e-01,\n",
       "       8.6900000e-01, 3.6774000e+01, 3.4363000e+01, 9.0060000e+00,\n",
       "       7.4120000e+00, 1.7900000e-01, 3.6700000e-01, 4.0800000e-01,\n",
       "       2.8500000e-01, 2.6928000e+01, 2.1610000e+01, 1.0160000e+00,\n",
       "       8.6700000e-01, 4.6300000e-01, 2.0700000e-01, 4.3498000e+01,\n",
       "       2.9184000e+01, 2.5200000e-01, 6.2370000e+00, 4.1600000e-01,\n",
       "       1.9000000e-01, 2.5800000e-01, 1.6900000e-01, 8.4500000e-01,\n",
       "       9.4800000e-01, 6.3600000e-01, 2.7366000e+01, 3.9000000e-01,\n",
       "       3.3091000e+01, 3.4768000e+01, 3.2100000e-01, 1.0290000e+00,\n",
       "       2.5396000e+01, 4.2900000e-01, 2.9714000e+01, 3.0608000e+01,\n",
       "       2.5084000e+01, 2.8284000e+01, 8.7490000e+00, 1.0118000e+01,\n",
       "       1.3480000e+00, 2.4900000e-01, 9.5100000e-01, 3.7800000e-01,\n",
       "       2.8100000e-01, 6.7970000e+00, 3.1300000e-01, 1.6200000e-01,\n",
       "       5.3900000e-01, 2.7940000e+01, 3.0124000e+01, 8.6600000e-01,\n",
       "       8.8600000e-01, 5.1700000e-01, 2.0820000e+01, 5.7900000e-01,\n",
       "       5.2570000e+00, 1.2839000e+01, 9.2400000e-01, 7.7000000e-01,\n",
       "       1.0260000e+00, 1.7560000e+00, 5.1670000e+00, 1.1475000e+01,\n",
       "       1.2207000e+01, 4.3520000e+00, 2.8200000e-01, 9.9100000e-01,\n",
       "       6.5800000e-01, 6.4200000e-01, 3.1800000e-01, 5.0100000e-01,\n",
       "       1.6400000e-01, 7.2900000e-01, 3.6000000e-01, 1.7700000e+00,\n",
       "       5.9200000e-01, 4.1200000e-01, 1.4390000e+00, 6.0600000e-01,\n",
       "       7.0000000e-01, 7.9900000e-01, 5.8600000e-01, 1.0230000e+00,\n",
       "       4.9200000e-01, 5.5200000e-01, 9.0800000e-01, 5.8100000e-01,\n",
       "       3.8400000e-01, 1.1500000e-01, 1.7700000e-01, 8.6000000e-02,\n",
       "       2.4827004e+04, 2.4065668e+04, 2.4063820e+04, 2.2527040e+04,\n",
       "       2.3811510e+04, 2.2271438e+04, 2.2271536e+04, 2.3292860e+04,\n",
       "       2.4063432e+04, 2.1503676e+04, 2.2527860e+04, 2.1505218e+04,\n",
       "       2.2528492e+04, 2.1502570e+04, 2.1760534e+04, 2.1503076e+04,\n",
       "       2.1759580e+04, 2.2273668e+04, 2.1758984e+04, 2.2528136e+04,\n",
       "       2.1504304e+04, 2.4068110e+04, 2.3036344e+04, 2.5343540e+04,\n",
       "       2.2820000e+00, 1.6800000e-01, 2.1600000e-01, 1.5100000e-01])"
      ]
     },
     "metadata": {},
     "output_type": "display_data"
    },
    {
     "data": {
      "text/plain": [
       "'DIntPktMin'"
      ]
     },
     "metadata": {},
     "output_type": "display_data"
    },
    {
     "data": {
      "text/plain": [
       "array([          nan, 0.0000000e+00, 2.8671996e+04, 3.6095740e+04,\n",
       "       3.3792344e+04, 3.2000020e+04, 2.4320744e+04, 1.7600000e-01,\n",
       "       1.0600000e-01, 2.5087154e+04, 1.9500000e-01, 1.4400000e-01,\n",
       "       2.0100000e-01, 9.8000000e-02, 1.0400000e-01, 2.4064432e+04,\n",
       "       2.0900000e-01, 1.5000000e-01, 2.4000000e-01, 1.1300000e-01,\n",
       "       1.3400000e-01, 2.7500000e-01, 1.2400000e-01, 1.5800000e-01,\n",
       "       9.0000000e-02, 2.4833036e+04, 2.9500000e-01, 1.0100000e-01,\n",
       "       2.2200000e-01, 2.2527388e+04, 1.8000000e-01, 1.6000000e-01,\n",
       "       2.0400000e-01, 3.2000000e-02, 2.3296488e+04, 1.0700000e-01,\n",
       "       2.3500000e-01, 1.1000000e-01, 2.0800000e-01, 2.7903536e+04,\n",
       "       2.9440256e+04, 1.8200000e-01, 1.5400000e-01, 1.5200000e-01,\n",
       "       1.0200000e-01, 1.5500000e-01, 2.9200000e-01, 2.7900000e-01,\n",
       "       3.1600000e-01, 3.1200000e-01, 1.7800000e-01, 1.3100000e-01,\n",
       "       1.6500000e-01, 2.7300000e-01, 1.8400000e-01, 1.4600000e-01,\n",
       "       2.2900000e-01, 5.6600000e-01, 2.3700000e-01, 3.2000000e-01,\n",
       "       1.6000000e-02, 1.0000000e-03, 2.9000000e-02, 4.4000000e-02,\n",
       "       6.0000000e-03, 3.0000000e-02, 4.0000000e-02, 3.4000000e-02,\n",
       "       2.8000000e-02, 3.6000000e-02, 4.2000000e-02, 3.1000000e-02,\n",
       "       7.4000000e-02, 4.1000000e-02, 6.8000000e-02, 3.3000000e-02,\n",
       "       5.1000000e-02, 7.5000000e-02, 4.8000000e-02, 3.5000000e-02,\n",
       "       6.1000000e-02, 7.0000000e-02, 5.0000000e-02, 7.7000000e-02,\n",
       "       3.7000000e-02, 8.1000000e-02, 5.3000000e-02, 3.8000000e-02,\n",
       "       8.3000000e-02, 5.2000000e-02, 7.3000000e-02, 7.2000000e-02,\n",
       "       9.5000000e-02, 5.9000000e-02, 5.4000000e-02, 4.3000000e-02,\n",
       "       4.9000000e-02, 5.6000000e-02, 4.5000000e-02, 4.6000000e-02,\n",
       "       9.2000000e-02, 3.9000000e-02, 7.9000000e-02, 9.3000000e-02,\n",
       "       7.1000000e-02, 6.0000000e-02, 6.7000000e-02, 7.6000000e-02,\n",
       "       5.7000000e-02, 5.5000000e-02, 2.7000000e-02, 8.5000000e-02,\n",
       "       5.8000000e-02, 2.0000000e-03, 5.0000000e-03, 4.7000000e-02,\n",
       "       1.0900000e-01, 6.3000000e-02, 6.9000000e-02, 8.9000000e-02,\n",
       "       3.5300000e-01, 1.0300000e-01, 5.1100000e-01, 1.4500000e-01,\n",
       "       1.7300000e-01, 1.7700000e-01, 1.1500000e-01, 7.8000000e-02,\n",
       "       2.4827004e+04, 2.4065668e+04, 2.4063820e+04, 2.2527040e+04,\n",
       "       2.3811510e+04, 2.2271438e+04, 2.2271536e+04, 2.3292860e+04,\n",
       "       2.4063432e+04, 2.1503676e+04, 2.2527860e+04, 2.1505218e+04,\n",
       "       2.2528492e+04, 2.1502570e+04, 2.1760534e+04, 2.1503076e+04,\n",
       "       2.1759580e+04, 2.2273668e+04, 2.1758984e+04, 2.2528136e+04,\n",
       "       2.1504304e+04, 2.4068110e+04, 2.3036344e+04, 2.5343540e+04,\n",
       "       6.8700000e-01, 3.0100000e-01, 1.4800000e-01, 2.1600000e-01,\n",
       "       1.5100000e-01, 9.6000000e-02, 1.6600000e-01])"
      ]
     },
     "metadata": {},
     "output_type": "display_data"
    },
    {
     "data": {
      "text/plain": [
       "'SIPActMax'"
      ]
     },
     "metadata": {},
     "output_type": "display_data"
    },
    {
     "data": {
      "text/plain": [
       "array([      nan,     0.   , 28672.028, ...,  1002.237,  1002.581,\n",
       "        1970.059])"
      ]
     },
     "metadata": {},
     "output_type": "display_data"
    },
    {
     "data": {
      "text/plain": [
       "'SIPActMin'"
      ]
     },
     "metadata": {},
     "output_type": "display_data"
    },
    {
     "data": {
      "text/plain": [
       "array([          nan, 0.0000000e+00, 2.8672028e+04, 3.6095764e+04,\n",
       "       3.3792288e+04, 3.1999954e+04, 1.4013248e+04, 2.0087560e+03,\n",
       "       1.4012537e+04, 2.0057280e+03, 1.4012632e+04, 1.4013001e+04,\n",
       "       1.4013187e+04, 1.4011124e+04, 2.4320758e+04, 1.4015952e+04,\n",
       "       1.4014364e+04, 1.4014315e+04, 1.4013916e+04, 3.9979010e+03,\n",
       "       1.4010484e+04, 1.4013942e+04, 1.4010296e+04, 1.4012769e+04,\n",
       "       1.4010562e+04, 1.4013221e+04, 1.4006004e+04, 1.4009506e+04,\n",
       "       1.4008689e+04, 1.4008527e+04, 1.4010439e+04, 2.5087120e+04,\n",
       "       1.4012179e+04, 1.4012995e+04, 5.0003910e+03, 1.4013359e+04,\n",
       "       1.4012645e+04, 1.4015056e+04, 1.4012894e+04, 5.0096220e+03,\n",
       "       1.4014568e+04, 1.4012116e+04, 1.4009955e+04, 1.4012625e+04,\n",
       "       1.4009874e+04, 1.4008126e+04, 2.4064440e+04, 1.4007208e+04,\n",
       "       1.4008141e+04, 1.4014378e+04, 3.9935300e+03, 1.4007306e+04,\n",
       "       1.4011521e+04, 1.4012366e+04, 1.4012875e+04, 1.4011781e+04,\n",
       "       1.4009905e+04, 1.4011233e+04, 1.4009346e+04, 1.4015473e+04,\n",
       "       1.4011335e+04, 1.4015122e+04, 1.4009406e+04, 4.9995350e+03,\n",
       "       1.4014333e+04, 1.4011895e+04, 1.4013378e+04, 1.4009868e+04,\n",
       "       1.4008956e+04, 1.4006099e+04, 1.4007650e+04, 1.4006715e+04,\n",
       "       1.4007815e+04, 1.4010034e+04, 3.5128900e+03, 1.4011688e+04,\n",
       "       1.4011672e+04, 1.4009431e+04, 1.4012044e+04, 2.4832976e+04,\n",
       "       1.4005066e+04, 1.4014294e+04, 1.4008536e+04, 1.4013078e+04,\n",
       "       1.4013033e+04, 1.4012754e+04, 1.4013935e+04, 1.4015202e+04,\n",
       "       1.4013439e+04, 1.4012313e+04, 1.4002338e+04, 5.0067110e+03,\n",
       "       1.4012591e+04, 1.4007043e+04, 2.2527396e+04, 1.4007035e+04,\n",
       "       1.4006723e+04, 1.4011782e+04, 1.4009761e+04, 1.4010387e+04,\n",
       "       1.4014203e+04, 1.4009879e+04, 1.4011221e+04, 1.4008711e+04,\n",
       "       4.9959520e+03, 1.4011198e+04, 1.4008105e+04, 1.4014652e+04,\n",
       "       1.4007649e+04, 1.4012067e+04, 2.3296516e+04, 1.4011256e+04,\n",
       "       5.0556740e+03, 5.0005260e+03, 2.7903468e+04, 2.9440312e+04,\n",
       "       1.4012982e+04, 2.0135190e+03, 1.4012896e+04, 2.0113550e+03,\n",
       "       1.4015683e+04, 1.4006755e+04, 1.4009323e+04, 1.4008832e+04,\n",
       "       1.4012819e+04, 1.4008007e+04, 1.4009855e+04, 1.4004525e+04,\n",
       "       9.9622700e+02, 1.4011360e+04, 1.4015009e+04, 1.4012022e+04,\n",
       "       1.4015230e+04, 1.4012138e+04, 1.4014746e+04, 1.4013639e+04,\n",
       "       1.4012405e+04, 1.4012202e+04, 1.4014763e+04, 1.4013872e+04,\n",
       "       1.4014084e+04, 1.4015513e+04, 9.9252200e+02, 1.4015825e+04,\n",
       "       1.4012306e+04, 1.4015074e+04, 1.4013120e+04, 5.0054920e+03,\n",
       "       1.4014842e+04, 1.4008717e+04, 1.4013790e+04, 1.4010650e+04,\n",
       "       1.4012069e+04, 1.4015756e+04, 1.4012000e+04, 1.4015673e+04,\n",
       "       1.4012926e+04, 3.0031830e+03, 1.4015932e+04, 1.4013821e+04,\n",
       "       1.4011023e+04, 1.4014586e+04, 1.4013028e+04, 1.4009782e+04,\n",
       "       1.4015965e+04, 1.4010444e+04, 1.4014875e+04, 1.4013634e+04,\n",
       "       1.4011021e+04, 1.4016479e+04, 5.0041090e+03, 1.4009657e+04,\n",
       "       1.4016362e+04, 1.4007702e+04, 1.4015881e+04, 1.4007973e+04,\n",
       "       1.4013668e+04, 1.4010946e+04, 1.4011953e+04, 1.4015720e+04,\n",
       "       1.4011674e+04, 3.5074250e+03, 1.4015587e+04, 1.4015578e+04,\n",
       "       1.4012790e+04, 1.4015759e+04, 1.4013506e+04, 1.4015769e+04,\n",
       "       1.4013531e+04, 1.4016586e+04, 1.4012948e+04, 1.4016801e+04,\n",
       "       1.4015507e+04, 1.4014150e+04, 1.4014606e+04, 1.4015400e+04,\n",
       "       1.4012334e+04, 5.0032170e+03, 1.4015966e+04, 1.4012899e+04,\n",
       "       1.4012001e+04, 1.4015736e+04, 1.4012462e+04, 1.4012578e+04,\n",
       "       1.4009788e+04, 1.4012130e+04, 1.4011481e+04, 1.4013147e+04,\n",
       "       1.4013331e+04, 5.0055610e+03, 1.4016756e+04, 1.4016527e+04,\n",
       "       1.4016496e+04, 1.4016307e+04, 1.4015780e+04, 1.4015774e+04,\n",
       "       5.0352160e+03, 5.0111720e+03, 6.0000000e-03, 3.1000000e-02,\n",
       "       1.0000000e-03, 8.9000000e-02, 3.7000000e-02, 8.1000000e-02,\n",
       "       5.0000000e-02, 1.4000000e-02, 1.0007440e+03, 1.6000000e-02,\n",
       "       2.0000000e-03, 6.2000000e-02, 4.9000000e-02, 2.5000000e-02,\n",
       "       9.0000000e-03, 5.2500000e-01, 4.0000000e-03, 3.0000000e-03,\n",
       "       2.6000000e-02, 1.0001400e+03, 1.1000000e-02, 1.5000000e-02,\n",
       "       1.5700000e-01, 1.3000000e-02, 1.1600000e-01, 1.0003570e+03,\n",
       "       4.5000000e-02, 3.0000000e-02, 1.4600000e-01, 1.8300000e-01,\n",
       "       5.0000000e-03, 3.4000000e-02, 1.8000000e-02, 1.9000000e-02,\n",
       "       5.5000000e-02, 2.9000000e-02, 1.0003630e+03, 4.7000000e-02,\n",
       "       9.4000000e-02, 8.4000000e-02, 2.0000000e-02, 6.1000000e-02,\n",
       "       3.6200000e-01, 8.0000000e-03, 2.2000000e-02, 5.3000000e-02,\n",
       "       5.2200000e-01, 4.2000000e-02, 1.0004670e+03, 2.3000000e-02,\n",
       "       3.3400000e-01, 4.1000000e-02, 2.8000000e-02, 3.0800000e-01,\n",
       "       1.8600000e-01, 6.7000000e-02, 1.0007430e+03, 2.7000000e-02,\n",
       "       7.4000000e-02, 5.1000000e-02, 1.7000000e-02, 3.5000000e-02,\n",
       "       1.0008450e+03, 1.4300000e-01, 9.3000000e-02, 2.0200000e-01,\n",
       "       1.1200000e-01, 1.0007630e+03, 1.0000000e-02, 1.0800000e-01,\n",
       "       7.0000000e-03, 2.4000000e-02, 5.2000000e-02, 9.1000000e-02,\n",
       "       3.2000000e-02, 1.0003910e+03, 3.8000000e-02, 3.9000000e-02,\n",
       "       9.6000000e-02, 1.0008660e+03, 8.3000000e-02, 1.4400000e-01,\n",
       "       4.8000000e-02, 1.2000000e-02, 2.1000000e-02, 1.0008370e+03,\n",
       "       1.4500000e-01, 6.9000000e-02, 1.0400000e-01, 1.0005070e+03,\n",
       "       8.0000000e-02, 1.2500000e-01, 4.3000000e-02, 1.0010780e+03,\n",
       "       1.0600000e-01, 1.2800000e-01, 7.3000000e-02, 7.2000000e-02,\n",
       "       1.5200000e-01, 1.0005340e+03, 2.2700000e-01, 4.6000000e-02,\n",
       "       1.0012270e+03, 1.3700000e-01, 1.0010980e+03, 7.4999200e+02,\n",
       "       1.0005020e+03, 1.0100000e-01, 1.4100000e-01, 1.0008980e+03,\n",
       "       6.6000000e-02, 3.5600000e-01, 2.3100000e-01, 1.0009240e+03,\n",
       "       1.0006210e+03, 1.0002690e+03, 5.4000000e-02, 1.0004910e+03,\n",
       "       1.0007880e+03, 1.0001550e+03, 1.3100000e-01, 8.2000000e-02,\n",
       "       1.0006490e+03, 1.0001540e+03, 9.9985600e+02, 1.1300000e-01,\n",
       "       1.0007360e+03, 6.8000000e-02, 7.0000000e-02, 9.9932400e+02,\n",
       "       8.8000000e-02, 7.6000000e-02, 9.0000000e-02, 7.1000000e-02,\n",
       "       1.0009110e+03, 1.0200000e-01, 1.0004860e+03, 1.2100000e-01,\n",
       "       1.0004870e+03, 4.0600000e-01, 6.4000000e-02, 1.0006260e+03,\n",
       "       7.5000000e-02, 3.4100000e-01, 1.6200000e-01, 3.6000000e-02,\n",
       "       1.0032030e+03, 9.9994800e+02, 1.0227510e+03, 9.9670900e+02,\n",
       "       1.0016530e+03, 9.9341000e+02, 9.9974100e+02, 1.0241890e+03,\n",
       "       9.9898200e+02, 9.9923800e+02, 1.0025160e+03, 9.9662100e+02,\n",
       "       9.9904000e+02, 1.0008630e+03, 1.0006730e+03, 1.0109220e+03,\n",
       "       9.9637900e+02, 1.2018467e+04, 1.2011747e+04, 1.2010085e+04,\n",
       "       1.2010198e+04, 1.2006876e+04, 1.2012302e+04, 1.2012261e+04,\n",
       "       1.2011529e+04, 2.4827008e+04, 1.2008312e+04, 1.2013668e+04,\n",
       "       1.2013685e+04, 1.2010101e+04, 1.2012783e+04, 1.2015696e+04,\n",
       "       1.2015650e+04, 9.9795600e+02, 1.2011285e+04, 1.2010208e+04,\n",
       "       1.2007947e+04, 1.2007870e+04, 1.2012072e+04, 1.2010335e+04,\n",
       "       1.2013588e+04, 1.2013637e+04, 1.2010618e+04, 1.2006112e+04,\n",
       "       1.2013868e+04, 1.2013958e+04, 1.2012697e+04, 2.4065658e+04,\n",
       "       1.2006228e+04, 1.2015889e+04, 1.2016381e+04, 1.2011331e+04,\n",
       "       2.4063820e+04, 8.8094110e+03, 1.2013539e+04, 1.2013667e+04,\n",
       "       8.8092300e+03, 9.9981100e+02, 2.2527048e+04, 8.8101170e+03,\n",
       "       8.8082340e+03, 8.8079450e+03, 8.8146680e+03, 1.2011273e+04,\n",
       "       1.2012311e+04, 1.2012360e+04, 1.2010620e+04, 2.3811502e+04,\n",
       "       8.8094210e+03, 8.8103540e+03, 8.8102130e+03, 8.8074400e+03,\n",
       "       1.2012142e+04, 1.2014342e+04, 1.2014414e+04, 1.2009667e+04,\n",
       "       2.2271442e+04, 1.0002570e+03, 1.0409595e+04, 1.0414980e+04,\n",
       "       1.0415787e+04, 1.0411968e+04, 1.2014743e+04, 1.2015706e+04,\n",
       "       1.2015834e+04, 1.2008987e+04, 2.2271548e+04, 1.2010383e+04,\n",
       "       1.2008758e+04, 1.2008491e+04, 1.2012328e+04, 2.3292870e+04,\n",
       "       1.2011165e+04, 1.2014610e+04, 1.2014668e+04, 1.2013902e+04,\n",
       "       2.4063432e+04, 1.2013034e+04, 1.2010161e+04, 1.2010051e+04,\n",
       "       1.2006496e+04, 1.0000810e+03, 8.8098740e+03, 8.8170560e+03,\n",
       "       8.8171330e+03, 8.8120790e+03, 1.2015881e+04, 1.2015690e+04,\n",
       "       1.2015660e+04, 1.2009482e+04, 1.2010168e+04, 1.2011489e+04,\n",
       "       1.2011452e+04, 1.2012087e+04, 1.2012252e+04, 1.2012549e+04,\n",
       "       1.2012295e+04, 1.2008643e+04, 1.2011037e+04, 1.2013741e+04,\n",
       "       1.2013661e+04, 1.2010368e+04, 1.0005830e+03, 1.2010863e+04,\n",
       "       1.2012468e+04, 1.2012385e+04, 1.2011369e+04, 1.2010916e+04,\n",
       "       1.2013528e+04, 1.2013400e+04, 1.2014627e+04, 1.1212006e+04,\n",
       "       1.1216323e+04, 1.1216316e+04, 1.1209613e+04, 8.8109590e+03,\n",
       "       8.8092260e+03, 8.8091680e+03, 8.8085000e+03, 1.2008608e+04,\n",
       "       1.2017179e+04, 1.2017375e+04, 1.2017997e+04, 1.2008982e+04,\n",
       "       1.2013228e+04, 1.2013048e+04, 1.2007402e+04, 1.2009587e+04,\n",
       "       1.2011426e+04, 1.2011034e+04, 1.2007300e+04, 2.1503688e+04,\n",
       "       1.2011758e+04, 1.2015930e+04, 1.2016343e+04, 1.2007527e+04,\n",
       "       2.2527856e+04, 1.2012841e+04, 1.2013501e+04, 1.2012902e+04,\n",
       "       1.2010242e+04, 9.9992500e+02, 2.1505208e+04, 1.2013816e+04,\n",
       "       1.2014898e+04, 1.2014923e+04, 1.2010229e+04, 2.2528476e+04,\n",
       "       1.2008049e+04, 8.8129090e+03, 8.8142210e+03, 1.2010470e+04,\n",
       "       2.1502590e+04, 8.8068550e+03, 1.2007972e+04, 1.2009910e+04,\n",
       "       1.1207941e+04, 2.1760530e+04, 8.8085240e+03, 8.8124430e+03,\n",
       "       8.8123950e+03, 2.1503088e+04, 1.2015281e+04, 1.2013573e+04,\n",
       "       1.2013103e+04, 1.2006568e+04, 2.1759580e+04, 9.9609300e+02,\n",
       "       1.2012325e+04, 1.2011423e+04, 1.2006937e+04, 1.2009317e+04,\n",
       "       2.2273656e+04, 1.2011846e+04, 1.2008258e+04, 1.2011464e+04,\n",
       "       1.2007467e+04, 2.1758996e+04, 1.2011256e+04, 1.2014624e+04,\n",
       "       1.2010058e+04, 1.1998704e+04, 2.2528134e+04, 1.2013774e+04,\n",
       "       1.2013730e+04, 1.2015791e+04, 1.2002105e+04, 2.1504304e+04,\n",
       "       1.2011012e+04, 1.2016138e+04, 1.2011451e+04, 1.2008693e+04,\n",
       "       1.0004600e+03, 8.8046580e+03, 8.8121350e+03, 1.2008028e+04,\n",
       "       1.2010426e+04, 1.0035160e+03, 9.9396400e+02, 1.7505900e+04,\n",
       "       1.7488742e+04, 1.0049900e+02, 1.0053600e+02, 1.0079900e+02,\n",
       "       1.0072000e+02, 1.0090300e+02, 1.0058000e+02, 1.0099100e+02,\n",
       "       1.0012900e+02, 9.9526000e+01, 1.0010200e+02, 1.0063900e+02,\n",
       "       9.9917340e+03, 9.4921000e+01, 1.0031900e+02, 1.0862180e+03,\n",
       "       1.0941620e+03, 9.9877000e+01, 1.0044800e+02, 1.0229700e+02,\n",
       "       1.0944200e+03, 9.9551000e+01, 1.0009900e+02, 1.0027500e+02,\n",
       "       1.0949450e+03, 9.9995000e+01, 9.9920000e+01, 1.0825500e+03,\n",
       "       1.0971160e+03, 1.0046700e+02, 1.0823120e+03, 1.0020600e+02,\n",
       "       1.0942200e+03, 1.0095900e+02, 1.0943660e+03, 1.0038500e+02,\n",
       "       1.0033700e+02, 1.0949250e+03, 1.0992070e+03, 1.0972790e+03,\n",
       "       9.9567000e+01, 1.0021800e+02, 1.0018300e+02, 1.0921210e+03,\n",
       "       1.0060600e+02, 1.0097100e+02, 1.5114370e+03, 2.1112090e+03,\n",
       "       1.0348300e+02, 1.0348400e+02, 1.0318400e+02, 1.0314900e+02,\n",
       "       1.0279700e+02, 1.0281400e+02, 1.0047900e+02, 9.8900000e+01,\n",
       "       1.0017800e+02, 1.5838000e+02, 1.0050600e+02, 1.7643400e+02,\n",
       "       1.6095700e+02, 1.0004100e+02, 1.5324100e+02, 1.6066400e+02,\n",
       "       1.5973800e+02, 2.0093500e+02, 1.5930700e+02, 3.1878200e+02,\n",
       "       1.6068900e+02, 1.6058700e+02, 1.6025700e+02, 1.6041600e+02,\n",
       "       3.2064100e+02, 1.6014100e+02, 1.6140300e+02, 1.6068400e+02,\n",
       "       3.2060100e+02, 1.5953000e+02, 1.5951000e+02, 1.6016800e+02,\n",
       "       3.2618200e+02, 3.8758410e+03, 3.8747680e+03, 4.0966470e+03,\n",
       "       1.5777200e+02, 4.0951120e+03, 3.1931700e+02, 1.5917400e+02,\n",
       "       1.6059600e+02, 1.5948400e+02, 3.1999200e+02, 6.9725500e+03,\n",
       "       6.9741260e+03, 1.6043900e+02, 1.6020200e+02, 1.6048100e+02,\n",
       "       1.5986100e+02, 1.6007900e+02, 1.6086800e+02, 3.2090900e+02,\n",
       "       4.8138150e+03, 4.8150210e+03, 1.5981400e+02, 3.2193100e+02,\n",
       "       1.5889200e+02, 1.5879000e+02, 3.1946600e+02, 3.2058000e+02,\n",
       "       1.4511600e+02, 3.1932500e+02, 3.2048800e+02, 3.2019900e+02,\n",
       "       1.5418200e+02, 3.1809500e+02, 3.1858700e+02, 3.1478200e+02,\n",
       "       1.6031400e+02, 3.2049900e+02, 3.2005900e+02, 6.4106200e+02,\n",
       "       3.1738500e+02, 3.2019800e+02, 3.1871900e+02, 3.1822400e+02,\n",
       "       3.2028300e+02, 3.2086300e+02, 6.4069900e+02, 3.2126200e+02,\n",
       "       3.2069900e+02, 3.2188400e+02, 3.2110300e+02, 3.1991100e+02,\n",
       "       3.2103900e+02, 6.4120200e+02, 3.2143400e+02, 3.2010400e+02,\n",
       "       3.1781000e+02, 3.2041100e+02, 3.2014900e+02, 3.2024300e+02,\n",
       "       1.2829180e+03, 3.2006400e+02, 3.1840100e+02, 3.1963100e+02,\n",
       "       3.1998200e+02, 3.1955700e+02, 6.4571200e+02, 3.1835800e+02,\n",
       "       6.4079700e+02, 6.4089300e+02, 3.1780800e+02, 6.4193500e+02,\n",
       "       6.4516700e+02, 6.4530900e+02, 3.1999000e+02, 6.4164000e+02,\n",
       "       1.2883000e+03, 1.2883660e+03, 6.4159500e+02, 7.0506050e+03,\n",
       "       7.0520180e+03, 1.2819330e+03, 6.0869630e+03, 6.0856240e+03,\n",
       "       6.4256000e+02, 6.4251100e+02, 1.2799670e+03, 5.1267860e+03,\n",
       "       5.1269770e+03, 6.4049100e+02, 6.4046500e+02, 6.4054900e+02,\n",
       "       6.4099000e+02, 6.4044200e+02, 6.4185900e+02, 6.4175700e+02,\n",
       "       6.4104700e+02, 6.3927700e+02, 1.2824130e+03, 6.4043700e+02,\n",
       "       7.0475750e+03, 7.0490100e+03, 1.2820770e+03, 6.4103800e+02,\n",
       "       1.2816300e+03, 6.3983300e+02, 6.3875800e+02, 6.3797500e+02,\n",
       "       6.4035000e+02, 1.2826780e+03, 6.4188000e+02, 1.2803950e+03,\n",
       "       1.2842370e+03, 6.4381900e+02, 9.9681400e+02, 1.1009571e+04,\n",
       "       1.1010536e+04, 1.2007329e+04, 1.2008045e+04, 1.2003690e+04,\n",
       "       1.2003720e+04, 1.2011340e+04, 1.2010959e+04, 1.1008867e+04,\n",
       "       1.1009413e+04, 1.1008122e+04, 1.1008167e+04, 1.1009977e+04,\n",
       "       1.1011159e+04, 1.1010340e+04, 1.1009908e+04, 9.9940000e+02,\n",
       "       2.4068110e+04, 9.9992800e+02, 1.1007502e+04, 1.1008168e+04,\n",
       "       9.9704700e+02, 1.1010728e+04, 9.9625800e+02, 1.1010631e+04,\n",
       "       9.9949400e+02, 1.1013625e+04, 1.1015469e+04, 2.3036332e+04,\n",
       "       1.0118640e+03, 9.9517600e+02, 9.9502100e+02, 2.5343556e+04,\n",
       "       1.0193670e+03, 9.9749900e+02, 1.0101060e+03, 9.9733100e+02,\n",
       "       9.9960100e+02, 9.9971800e+02, 9.9782700e+02])"
      ]
     },
     "metadata": {},
     "output_type": "display_data"
    },
    {
     "data": {
      "text/plain": [
       "'DIPActMax'"
      ]
     },
     "metadata": {},
     "output_type": "display_data"
    },
    {
     "data": {
      "text/plain": [
       "array([          nan, 0.0000000e+00, 2.8671996e+04, 3.6095740e+04,\n",
       "       3.3792344e+04, 3.2000020e+04, 2.4320744e+04, 1.7600000e-01,\n",
       "       1.0600000e-01, 2.5087154e+04, 1.9500000e-01, 1.4400000e-01,\n",
       "       2.0100000e-01, 9.8000000e-02, 1.0400000e-01, 2.4064432e+04,\n",
       "       2.0900000e-01, 1.5000000e-01, 2.4000000e-01, 1.1300000e-01,\n",
       "       1.3400000e-01, 2.7500000e-01, 1.2400000e-01, 1.5800000e-01,\n",
       "       9.0000000e-02, 2.4833036e+04, 2.9500000e-01, 1.0100000e-01,\n",
       "       2.2200000e-01, 2.2527388e+04, 1.8000000e-01, 1.6000000e-01,\n",
       "       2.0400000e-01, 3.2000000e-02, 2.3296488e+04, 1.0700000e-01,\n",
       "       2.3500000e-01, 1.1000000e-01, 2.0800000e-01, 2.7903536e+04,\n",
       "       2.9440256e+04, 1.8200000e-01, 1.5400000e-01, 1.5200000e-01,\n",
       "       1.0200000e-01, 1.5500000e-01, 2.9200000e-01, 2.7900000e-01,\n",
       "       3.1600000e-01, 3.1200000e-01, 1.7800000e-01, 1.3100000e-01,\n",
       "       1.6500000e-01, 2.7300000e-01, 1.8400000e-01, 1.4600000e-01,\n",
       "       2.2900000e-01, 5.6600000e-01, 2.3700000e-01, 3.2000000e-01,\n",
       "       1.6000000e-02, 3.2960000e+00, 2.8600000e-01, 7.7300000e-01,\n",
       "       3.7510000e+00, 4.9300000e-01, 4.9800000e-01, 4.2440000e+00,\n",
       "       4.3100000e-01, 7.6000000e-01, 3.3100000e-01, 2.6670000e+01,\n",
       "       6.1000000e-01, 5.3000000e-01, 4.3360000e+00, 5.0800000e-01,\n",
       "       2.6400000e-01, 3.2090000e+00, 5.8300000e-01, 9.5300000e-01,\n",
       "       3.8600000e-01, 7.8300000e-01, 2.9900000e-01, 8.2600000e-01,\n",
       "       4.9500000e-01, 4.9100000e-01, 4.3400000e-01, 2.2100000e-01,\n",
       "       2.3300000e-01, 5.6800000e-01, 2.9400000e-01, 1.5700000e-01,\n",
       "       4.0600000e-01, 5.6100000e-01, 3.5000000e-01, 5.1900000e-01,\n",
       "       2.8000000e-01, 1.0910000e+00, 6.2900000e-01, 4.7500000e-01,\n",
       "       1.7100000e-01, 6.8500000e-01, 4.8100000e-01, 3.3700000e-01,\n",
       "       1.4640000e+00, 3.4300000e-01, 5.4300000e-01, 6.8700000e-01,\n",
       "       2.0300000e-01, 3.5300000e-01, 6.5500000e-01, 4.4500000e-01,\n",
       "       1.5760000e+00, 3.0100000e-01, 3.4600000e-01, 4.3500000e-01,\n",
       "       4.5610000e+00, 7.2500000e-01, 6.3000000e-01, 8.4100000e-01,\n",
       "       3.1000000e-01, 3.6137000e+01, 2.7700000e-01, 3.3500000e-01,\n",
       "       3.6100000e-01, 6.5200000e-01, 4.6100000e-01, 1.2880000e+00,\n",
       "       3.1400000e-01, 6.2100000e-01, 5.5300000e-01, 5.5100000e-01,\n",
       "       3.2300000e-01, 6.7500000e-01, 7.7800000e-01, 2.5000000e-01,\n",
       "       4.5770000e+00, 1.0490000e+00, 1.8470000e+00, 3.3600000e-01,\n",
       "       3.7130000e+00, 1.2350000e+00, 1.8700000e-01, 7.4100000e-01,\n",
       "       2.3100000e-01, 3.8500000e-01, 2.1400000e-01, 3.2400000e-01,\n",
       "       1.8900000e-01, 3.0000000e-01, 1.0422000e+01, 6.4000000e-01,\n",
       "       2.9700000e-01, 3.4700000e-01, 5.1460000e+00, 2.3600000e-01,\n",
       "       4.8400000e-01, 2.6500000e-01, 2.6300000e-01, 6.5400000e-01,\n",
       "       3.2200000e-01, 1.4200000e-01, 5.3800000e-01, 6.2300000e-01,\n",
       "       2.1300000e-01, 4.9000000e-01, 3.9134000e+01, 5.7300000e-01,\n",
       "       4.1000000e-01, 5.4700000e-01, 4.0000000e-01, 2.9600000e-01,\n",
       "       5.8400000e-01, 7.8500000e-01, 5.3100000e-01, 6.3080000e+00,\n",
       "       2.7200000e-01, 5.4200000e-01, 7.2000000e-01, 3.3200000e-01,\n",
       "       9.5000000e-01, 7.2300000e-01, 7.2700000e-01, 3.8300000e-01,\n",
       "       6.1700000e-01, 5.0500000e-01, 3.8800000e-01, 1.1210000e+00,\n",
       "       8.5000000e-01, 2.5900000e-01, 2.7000000e-01, 7.0700000e-01,\n",
       "       5.9800000e-01, 3.4800000e-01, 3.7600000e-01, 2.5600000e-01,\n",
       "       4.3800000e-01, 4.0500000e-01, 3.3900000e-01, 1.0860000e+00,\n",
       "       4.6900000e-01, 5.2200000e-01, 3.2700000e-01, 5.0200000e-01,\n",
       "       6.7100000e-01, 4.1500000e-01, 2.3000000e-01, 8.8700000e-01,\n",
       "       3.6300000e-01, 3.7500000e-01, 3.7900000e-01, 2.5300000e-01,\n",
       "       2.8700000e-01, 7.6900000e-01, 8.1400000e-01, 3.5400000e-01,\n",
       "       5.8800000e-01, 1.4800000e-01, 1.8600000e-01, 2.8300000e-01,\n",
       "       9.0960000e+00, 4.8000000e-01, 6.0400000e-01, 9.9800000e-01,\n",
       "       8.4300000e-01, 4.1900000e-01, 3.0800000e-01, 2.5500000e-01,\n",
       "       5.8700000e-01, 2.8400000e-01, 3.0700000e-01, 2.9300000e-01,\n",
       "       7.6800000e-01, 6.6800000e-01, 1.1710000e+00, 4.8700000e-01,\n",
       "       7.8400000e-01, 4.6800000e-01, 4.4100000e-01, 4.0799000e+01,\n",
       "       3.9800000e-01, 3.8400000e+01, 3.6184000e+01, 1.6197000e+01,\n",
       "       4.3600000e-01, 8.2800000e-01, 4.8200000e-01, 3.6600000e-01,\n",
       "       9.0500000e-01, 8.6800000e-01, 7.3200000e-01, 8.0400000e-01,\n",
       "       4.3900000e-01, 2.5400000e-01, 7.2200000e-01, 8.0200000e-01,\n",
       "       4.3300000e-01, 3.2067000e+01, 5.4900000e-01, 3.9200000e-01,\n",
       "       6.8900000e-01, 5.2800000e-01, 2.6730000e+00, 1.9400000e-01,\n",
       "       5.9700000e-01, 2.5100000e-01, 2.6000000e-01, 2.6100000e-01,\n",
       "       3.1700000e-01, 3.4151000e+01, 6.2000000e-01, 4.7100000e-01,\n",
       "       4.7180000e+00, 2.9304000e+01, 2.9800000e-01, 4.2150000e+00,\n",
       "       2.9100000e-01, 4.5200000e-01, 6.1740000e+00, 7.7200000e-01,\n",
       "       7.5700000e-01, 1.0700000e+00, 7.1100000e-01, 6.5000000e-01,\n",
       "       5.6700000e-01, 1.1570000e+00, 1.1650000e+00, 1.2130000e+00,\n",
       "       6.5900000e-01, 7.5800000e-01, 5.6500000e-01, 1.3030000e+00,\n",
       "       5.9100000e-01, 6.3700000e-01, 2.7850000e+00, 1.5052000e+01,\n",
       "       3.7400000e-01, 4.5800000e-01, 1.6320000e+00, 2.1900000e-01,\n",
       "       6.9600000e-01, 3.3800000e-01, 4.4600000e-01, 2.7400000e-01,\n",
       "       2.5830000e+00, 2.8247000e+01, 6.2600000e-01, 1.9311000e+01,\n",
       "       5.3900000e+00, 4.8600000e-01, 6.2230000e+00, 8.5510000e+00,\n",
       "       5.7800000e-01, 3.1380000e+00, 3.7430000e+00, 8.0300000e-01,\n",
       "       1.2725000e+01, 6.9620000e+00, 5.0600000e-01, 4.2600000e+00,\n",
       "       7.7920000e+00, 9.6300000e-01, 6.1200000e-01, 4.7800000e-01,\n",
       "       5.8270000e+00, 1.0891000e+01, 8.3000000e-01, 7.4600000e-01,\n",
       "       8.1000000e-01, 6.4800000e-01, 6.1900000e-01, 2.5390000e+00,\n",
       "       9.2500000e-01, 4.5100000e-01, 6.4300000e-01, 8.1800000e-01,\n",
       "       4.7700000e-01, 8.3100000e-01, 7.4800000e-01, 9.0400000e-01,\n",
       "       6.1100000e-01, 8.4200000e-01, 1.9340000e+00, 3.2360000e+01,\n",
       "       3.7147000e+01, 7.0900000e-01, 1.4070000e+00, 3.0200000e-01,\n",
       "       2.4300000e-01, 2.4500000e-01, 1.9710000e+00, 3.0300000e-01,\n",
       "       3.0310000e+01, 3.7100000e-01, 1.7300000e-01, 4.0373000e+01,\n",
       "       2.2700000e-01, 5.4800000e-01, 2.5248000e+01, 1.6300000e-01,\n",
       "       2.4100000e-01, 3.0900000e-01, 6.9000000e-01, 9.1600000e-01,\n",
       "       4.5300000e-01, 3.7602000e+01, 4.4900000e-01, 4.7600000e-01,\n",
       "       5.7100000e-01, 3.8200000e-01, 7.3800000e-01, 1.8800000e-01,\n",
       "       4.6200000e-01, 3.5900000e-01, 3.5729000e+01, 4.4000000e-01,\n",
       "       4.4400000e-01, 4.2100000e-01, 1.2427000e+01, 2.6600000e-01,\n",
       "       2.0000000e-01, 7.8700000e-01, 1.2110000e+00, 5.1100000e-01,\n",
       "       3.8869000e+01, 5.2400000e-01, 1.9872000e+01, 6.3500000e-01,\n",
       "       7.6200000e-01, 4.8900000e-01, 7.7400000e-01, 4.5600000e-01,\n",
       "       1.4700000e-01, 1.4348000e+01, 1.2634000e+01, 2.9261000e+01,\n",
       "       2.8900000e-01, 3.9600000e-01, 1.2840000e+00, 3.6800000e-01,\n",
       "       4.1390000e+01, 1.4497000e+01, 4.6500000e-01, 1.8538000e+01,\n",
       "       2.4600000e-01, 4.2600000e-01, 3.9900000e-01, 2.7600000e-01,\n",
       "       1.3240000e+00, 2.6980000e+00, 3.2500000e-01, 8.5500000e-01,\n",
       "       3.2900000e-01, 2.7800000e-01, 2.8901000e+01, 9.2900000e-01,\n",
       "       2.4400000e-01, 8.8500000e-01, 7.1500000e-01, 4.2400000e-01,\n",
       "       3.0500000e-01, 3.7165000e+01, 3.1100000e-01, 3.6500000e-01,\n",
       "       8.6900000e-01, 3.6774000e+01, 3.4363000e+01, 9.0060000e+00,\n",
       "       7.4120000e+00, 1.7900000e-01, 3.6700000e-01, 4.0800000e-01,\n",
       "       2.8500000e-01, 2.6928000e+01, 2.1610000e+01, 1.0160000e+00,\n",
       "       8.6700000e-01, 4.6300000e-01, 2.0700000e-01, 4.3498000e+01,\n",
       "       2.9184000e+01, 2.5200000e-01, 6.2370000e+00, 4.1600000e-01,\n",
       "       1.9000000e-01, 2.5800000e-01, 1.6900000e-01, 8.4500000e-01,\n",
       "       9.4800000e-01, 6.3600000e-01, 2.7366000e+01, 3.9000000e-01,\n",
       "       3.3091000e+01, 3.4768000e+01, 3.2100000e-01, 1.0290000e+00,\n",
       "       2.5396000e+01, 4.2900000e-01, 2.9714000e+01, 3.0608000e+01,\n",
       "       2.5084000e+01, 2.8284000e+01, 8.7490000e+00, 1.0118000e+01,\n",
       "       1.3480000e+00, 2.4900000e-01, 9.5100000e-01, 3.7800000e-01,\n",
       "       2.8100000e-01, 6.7970000e+00, 3.1300000e-01, 1.6200000e-01,\n",
       "       5.3900000e-01, 2.7940000e+01, 3.0124000e+01, 8.6600000e-01,\n",
       "       8.8600000e-01, 5.1700000e-01, 2.0820000e+01, 5.7900000e-01,\n",
       "       5.2570000e+00, 1.2839000e+01, 9.2400000e-01, 7.7000000e-01,\n",
       "       1.0260000e+00, 1.7560000e+00, 5.1670000e+00, 1.1475000e+01,\n",
       "       1.2207000e+01, 4.3520000e+00, 2.8200000e-01, 9.9100000e-01,\n",
       "       6.5800000e-01, 6.4200000e-01, 3.1800000e-01, 5.0100000e-01,\n",
       "       1.6400000e-01, 7.2900000e-01, 3.6000000e-01, 1.7700000e+00,\n",
       "       5.9200000e-01, 4.1200000e-01, 1.4390000e+00, 6.0600000e-01,\n",
       "       7.0000000e-01, 7.9900000e-01, 5.8600000e-01, 1.0230000e+00,\n",
       "       4.9200000e-01, 5.5200000e-01, 9.0800000e-01, 5.8100000e-01,\n",
       "       3.8400000e-01, 1.1500000e-01, 1.7700000e-01, 8.6000000e-02,\n",
       "       2.4827004e+04, 2.4065668e+04, 2.4063820e+04, 2.2527040e+04,\n",
       "       2.3811510e+04, 2.2271438e+04, 2.2271536e+04, 2.3292860e+04,\n",
       "       2.4063432e+04, 2.1503676e+04, 2.2527860e+04, 2.1505218e+04,\n",
       "       2.2528492e+04, 2.1502570e+04, 2.1760534e+04, 2.1503076e+04,\n",
       "       2.1759580e+04, 2.2273668e+04, 2.1758984e+04, 2.2528136e+04,\n",
       "       2.1504304e+04, 2.4068110e+04, 2.3036344e+04, 2.5343540e+04,\n",
       "       2.2820000e+00, 1.6800000e-01, 2.1600000e-01, 1.5100000e-01])"
      ]
     },
     "metadata": {},
     "output_type": "display_data"
    },
    {
     "data": {
      "text/plain": [
       "'DIPActMin'"
      ]
     },
     "metadata": {},
     "output_type": "display_data"
    },
    {
     "data": {
      "text/plain": [
       "array([          nan, 0.0000000e+00, 2.8671996e+04, 3.6095740e+04,\n",
       "       3.3792344e+04, 3.2000020e+04, 2.4320744e+04, 1.7600000e-01,\n",
       "       1.0600000e-01, 2.5087154e+04, 1.9500000e-01, 1.4400000e-01,\n",
       "       2.0100000e-01, 9.8000000e-02, 1.0400000e-01, 2.4064432e+04,\n",
       "       2.0900000e-01, 1.5000000e-01, 2.4000000e-01, 1.1300000e-01,\n",
       "       1.3400000e-01, 2.7500000e-01, 1.2400000e-01, 1.5800000e-01,\n",
       "       9.0000000e-02, 2.4833036e+04, 2.9500000e-01, 1.0100000e-01,\n",
       "       2.2200000e-01, 2.2527388e+04, 1.8000000e-01, 1.6000000e-01,\n",
       "       2.0400000e-01, 3.2000000e-02, 2.3296488e+04, 1.0700000e-01,\n",
       "       2.3500000e-01, 1.1000000e-01, 2.0800000e-01, 2.7903536e+04,\n",
       "       2.9440256e+04, 1.8200000e-01, 1.5400000e-01, 1.5200000e-01,\n",
       "       1.0200000e-01, 1.5500000e-01, 2.9200000e-01, 2.7900000e-01,\n",
       "       3.1600000e-01, 3.1200000e-01, 1.7800000e-01, 1.3100000e-01,\n",
       "       1.6500000e-01, 2.7300000e-01, 1.8400000e-01, 1.4600000e-01,\n",
       "       2.2900000e-01, 5.6600000e-01, 2.3700000e-01, 3.2000000e-01,\n",
       "       1.6000000e-02, 1.0000000e-03, 2.9000000e-02, 4.4000000e-02,\n",
       "       6.0000000e-03, 3.0000000e-02, 4.0000000e-02, 3.4000000e-02,\n",
       "       2.8000000e-02, 3.6000000e-02, 4.2000000e-02, 3.1000000e-02,\n",
       "       7.4000000e-02, 4.1000000e-02, 6.8000000e-02, 3.3000000e-02,\n",
       "       5.1000000e-02, 7.5000000e-02, 4.8000000e-02, 3.5000000e-02,\n",
       "       6.1000000e-02, 7.0000000e-02, 5.0000000e-02, 7.7000000e-02,\n",
       "       3.7000000e-02, 8.1000000e-02, 5.3000000e-02, 3.8000000e-02,\n",
       "       8.3000000e-02, 5.2000000e-02, 7.3000000e-02, 7.2000000e-02,\n",
       "       9.5000000e-02, 5.9000000e-02, 5.4000000e-02, 4.3000000e-02,\n",
       "       4.9000000e-02, 5.6000000e-02, 4.5000000e-02, 4.6000000e-02,\n",
       "       9.2000000e-02, 3.9000000e-02, 7.9000000e-02, 9.3000000e-02,\n",
       "       7.1000000e-02, 6.0000000e-02, 6.7000000e-02, 7.6000000e-02,\n",
       "       5.7000000e-02, 5.5000000e-02, 2.7000000e-02, 8.5000000e-02,\n",
       "       5.8000000e-02, 2.0000000e-03, 5.0000000e-03, 4.7000000e-02,\n",
       "       1.0900000e-01, 6.3000000e-02, 6.9000000e-02, 8.9000000e-02,\n",
       "       3.5300000e-01, 1.0300000e-01, 5.1100000e-01, 1.4500000e-01,\n",
       "       1.7300000e-01, 1.7700000e-01, 1.1500000e-01, 7.8000000e-02,\n",
       "       2.4827004e+04, 2.4065668e+04, 2.4063820e+04, 2.2527040e+04,\n",
       "       2.3811510e+04, 2.2271438e+04, 2.2271536e+04, 2.3292860e+04,\n",
       "       2.4063432e+04, 2.1503676e+04, 2.2527860e+04, 2.1505218e+04,\n",
       "       2.2528492e+04, 2.1502570e+04, 2.1760534e+04, 2.1503076e+04,\n",
       "       2.1759580e+04, 2.2273668e+04, 2.1758984e+04, 2.2528136e+04,\n",
       "       2.1504304e+04, 2.4068110e+04, 2.3036344e+04, 2.5343540e+04,\n",
       "       6.8700000e-01, 3.0100000e-01, 1.4800000e-01, 2.1600000e-01,\n",
       "       1.5100000e-01, 9.6000000e-02, 1.6600000e-01])"
      ]
     },
     "metadata": {},
     "output_type": "display_data"
    },
    {
     "data": {
      "text/plain": [
       "'SIPIdlMax'"
      ]
     },
     "metadata": {},
     "output_type": "display_data"
    },
    {
     "data": {
      "text/plain": [
       "array([          nan, 6.3420000e+00, 5.8290000e+00, 3.6320000e+00,\n",
       "       7.9930000e+00, 0.0000000e+00, 6.3650000e+00, 7.0570000e+00,\n",
       "       6.0065380e+03, 6.0067900e+03, 5.0056030e+03, 5.0064630e+03,\n",
       "       5.0051520e+03, 5.0046470e+03, 1.7018248e+04, 5.0065050e+03,\n",
       "       5.0036870e+03, 2.3022050e+04, 7.5075320e+03, 2.3020232e+04,\n",
       "       5.0076640e+03, 2.3019396e+04, 5.0050200e+03, 2.3024268e+04,\n",
       "       5.0058140e+03, 2.3016258e+04, 5.0066540e+03, 2.3018364e+04,\n",
       "       5.0016780e+03, 2.0520976e+04, 5.0059640e+03, 2.3022112e+04,\n",
       "       5.0059060e+03, 2.3020914e+04, 5.0081230e+03, 2.3019028e+04,\n",
       "       5.0054110e+03, 2.3013416e+04, 5.0058360e+03, 2.3027870e+04,\n",
       "       7.5072200e+03, 2.3021552e+04, 5.0076880e+03, 2.3018662e+04,\n",
       "       5.0041260e+03, 2.3023928e+04, 5.0062460e+03, 2.3019496e+04,\n",
       "       5.0057070e+03, 2.3020618e+04, 5.0060300e+03, 2.0515732e+04,\n",
       "       5.0056070e+03, 2.3016600e+04, 5.0073720e+03, 5.0044250e+03,\n",
       "       2.3023022e+04, 5.0061570e+03, 2.3027300e+04, 5.0048000e+03,\n",
       "       2.3020104e+04, 5.4870000e+00, 4.0360000e+00, 3.9780000e+00,\n",
       "       3.6390000e+00, 1.3150000e+00, 7.2420000e+00, 4.2540000e+01,\n",
       "       1.0037650e+03, 9.8758000e+01, 2.3011794e+04, 2.3014256e+04,\n",
       "       2.3024128e+04, 2.3022340e+04, 2.3017090e+04, 2.7024924e+04,\n",
       "       7.4830000e+00, 7.2070000e+00, 6.0078640e+03, 6.0079790e+03,\n",
       "       5.0023140e+03, 5.0030310e+03, 5.0058420e+03, 5.0055600e+03,\n",
       "       1.7014824e+04, 5.0009310e+03, 5.0023190e+03, 2.3018498e+04,\n",
       "       7.5064040e+03, 2.3015320e+04, 5.0053550e+03, 2.3022184e+04,\n",
       "       5.0080840e+03, 2.3023178e+04, 5.0048460e+03, 2.3027514e+04,\n",
       "       5.0065930e+03, 2.3029444e+04, 5.0055220e+03, 2.0525278e+04,\n",
       "       5.0085300e+03, 2.3027602e+04, 5.0045680e+03, 2.3023160e+04,\n",
       "       5.0026830e+03, 2.3024036e+04, 5.0059190e+03, 2.3033196e+04,\n",
       "       5.0042860e+03, 2.3026112e+04, 7.5073680e+03, 2.3020588e+04,\n",
       "       5.0067300e+03, 2.3026404e+04, 5.0081580e+03, 2.3026640e+04,\n",
       "       5.0049460e+03, 2.3029292e+04, 5.0002560e+03, 2.3023818e+04,\n",
       "       5.0084680e+03, 2.0518888e+04, 5.0049450e+03, 2.3029628e+04,\n",
       "       5.0064710e+03, 2.3024592e+04, 5.0069360e+03, 2.3030176e+04,\n",
       "       5.0069810e+03, 2.3029112e+04, 5.0043370e+03, 2.3025916e+04,\n",
       "       3.1740000e+00, 2.6180000e+00, 2.3530000e+00, 2.6490000e+00,\n",
       "       3.6150000e+00, 4.9855000e+01, 1.0009270e+03, 9.7421000e+01,\n",
       "       2.3029696e+04, 2.3025748e+04, 2.3025588e+04, 2.3022728e+04,\n",
       "       2.3028290e+04, 2.7030664e+04, 3.1003830e+03, 3.0551060e+03,\n",
       "       3.1001280e+03, 3.0846350e+03, 1.6978090e+03, 3.0998990e+03,\n",
       "       2.7380970e+03, 2.0177780e+03, 3.1007600e+03, 1.7614050e+03,\n",
       "       3.0986180e+03, 3.1029270e+03, 2.1049560e+03, 2.8718390e+03,\n",
       "       3.1117500e+03, 1.2867760e+03, 3.0916740e+03, 3.1002540e+03,\n",
       "       3.0996220e+03, 2.2775750e+03, 3.1003430e+03, 3.0984950e+03,\n",
       "       2.7914770e+03, 3.0992680e+03, 3.0993580e+03, 3.1009240e+03,\n",
       "       3.0995230e+03, 3.1030720e+03, 3.0970190e+03, 3.0988960e+03,\n",
       "       2.7156100e+03, 3.0998900e+03, 3.1008130e+03, 2.1943520e+03,\n",
       "       3.1012090e+03, 3.1038160e+03, 2.3930040e+03, 3.0995200e+03,\n",
       "       3.0992790e+03, 3.0999290e+03, 3.1001550e+03, 2.0913590e+03,\n",
       "       3.1049400e+03, 3.1012310e+03, 3.1020920e+03, 2.0136300e+02,\n",
       "       3.1004700e+03, 3.0997870e+03, 4.0275600e+02, 3.1012160e+03,\n",
       "       3.0987450e+03, 8.0064700e+02, 3.1006430e+03, 3.0590600e+03,\n",
       "       8.0147600e+02, 3.1006570e+03, 2.8940810e+03, 8.0164500e+02,\n",
       "       3.0991000e+03, 8.0161500e+02, 3.0998040e+03, 3.1002790e+03,\n",
       "       8.0172300e+02, 3.0583590e+03, 3.1012720e+03, 8.0133700e+02,\n",
       "       3.1024780e+03, 3.1021420e+03, 8.0152300e+02, 2.7044210e+03,\n",
       "       2.8725110e+03, 8.0289200e+02, 3.0972170e+03, 3.0999310e+03,\n",
       "       8.0096800e+02, 3.0068650e+03, 3.1005140e+03, 8.0162600e+02,\n",
       "       3.0964490e+03, 3.1000680e+03, 8.0290800e+02, 3.0984000e+03,\n",
       "       3.1010350e+03, 8.0112400e+02, 3.0943180e+03, 3.1027630e+03,\n",
       "       8.0286900e+02, 3.1002350e+03, 8.0213000e+02, 3.0998200e+03,\n",
       "       3.1002760e+03, 8.0086100e+02, 3.1004880e+03, 3.1003570e+03,\n",
       "       8.0116400e+02, 3.0989210e+03, 3.1003770e+03, 8.0192500e+02,\n",
       "       3.0959490e+03, 3.0997200e+03, 8.0118200e+02, 3.1026200e+03,\n",
       "       3.1009230e+03, 8.0198600e+02, 3.0994400e+03, 3.1006240e+03,\n",
       "       8.0096000e+02, 3.1000970e+03, 3.0987510e+03, 8.0138300e+02,\n",
       "       3.1000730e+03, 3.0995130e+03, 8.0120300e+02, 3.1003150e+03,\n",
       "       3.0985240e+03, 8.0310900e+02, 3.0986230e+03, 3.1006050e+03,\n",
       "       8.0175800e+02, 3.0565620e+03, 3.1005000e+03, 8.0128100e+02,\n",
       "       3.1002280e+03, 3.1006150e+03, 8.0100100e+02, 3.0997010e+03,\n",
       "       3.0995340e+03, 8.0112200e+02, 3.0974490e+03, 3.1000980e+03,\n",
       "       8.0200600e+02, 3.0580610e+03, 3.1021200e+03, 8.0424100e+02,\n",
       "       3.1003960e+03, 3.1015170e+03, 8.0236800e+02, 2.9946640e+03,\n",
       "       2.8717890e+03, 8.0229600e+02, 3.0977490e+03, 3.1004870e+03,\n",
       "       8.0213900e+02, 3.0053780e+03, 3.0993950e+03, 8.0127400e+02,\n",
       "       3.0984410e+03, 3.0995680e+03, 8.0099400e+02, 2.6043710e+03,\n",
       "       2.7275100e+03, 8.0183800e+02, 3.1005190e+03, 3.1011710e+03,\n",
       "       8.0141000e+02, 3.0957720e+03, 3.0998230e+03, 8.0178000e+02,\n",
       "       3.1000170e+03, 3.1003240e+03, 8.0141500e+02, 3.0999990e+03,\n",
       "       3.1003030e+03, 8.0182000e+02, 3.0976100e+03, 3.1006460e+03,\n",
       "       8.0145400e+02, 3.0580500e+03, 3.1006000e+03, 8.0180800e+02,\n",
       "       3.1008990e+03, 3.1002740e+03, 8.0110200e+02, 3.0998360e+03,\n",
       "       3.0994370e+03, 8.0119600e+02, 3.1012200e+03, 3.0995860e+03,\n",
       "       8.0108900e+02, 3.1012280e+03, 3.1003400e+03, 8.0166200e+02,\n",
       "       3.1011480e+03, 3.1011630e+03, 8.0190700e+02, 3.0996570e+03,\n",
       "       3.1014440e+03, 8.0176000e+02, 3.0980520e+03, 3.0993200e+03,\n",
       "       8.0099800e+02, 3.1010450e+03, 3.0963570e+03, 3.0987960e+03,\n",
       "       2.8997540e+03, 3.0991700e+03, 2.8899980e+03, 3.1003120e+03,\n",
       "       3.1015280e+03, 1.0517100e+03, 3.0991510e+03, 3.0992700e+03,\n",
       "       1.1608890e+03, 3.1000290e+03, 3.1012880e+03, 7.2539400e+02,\n",
       "       2.9926530e+03, 2.8721690e+03, 1.0019680e+03, 3.1022490e+03,\n",
       "       3.1003290e+03, 1.0017070e+03, 3.0060760e+03, 3.0993370e+03,\n",
       "       1.0011770e+03, 3.0556370e+03, 3.1002400e+03, 1.0005570e+03,\n",
       "       3.0549830e+03, 3.1005780e+03, 1.0008060e+03, 3.0984840e+03,\n",
       "       3.1000380e+03, 1.0016070e+03, 3.1005270e+03, 3.0985450e+03,\n",
       "       1.0012130e+03, 3.1004930e+03, 3.1018700e+03, 1.0022460e+03,\n",
       "       3.0997510e+03, 3.1006610e+03, 1.0016700e+03, 3.0598240e+03,\n",
       "       3.1004730e+03, 1.0010670e+03, 3.1003060e+03, 3.1000950e+03,\n",
       "       2.3213650e+03, 2.3211480e+03, 3.0964230e+03, 2.8933080e+03,\n",
       "       1.6699040e+03, 3.1007850e+03, 3.1005240e+03, 3.1001050e+03,\n",
       "       3.1006230e+03, 3.1002950e+03, 3.1021440e+03, 3.1018680e+03,\n",
       "       3.1071670e+03, 3.1009720e+03, 3.1008180e+03, 2.5566240e+03,\n",
       "       3.1026140e+03, 3.1024930e+03, 2.4125380e+03, 3.1010550e+03,\n",
       "       3.1009590e+03, 2.7734370e+03, 3.1004420e+03, 3.1018820e+03,\n",
       "       3.0968970e+03, 3.1001730e+03, 3.1016910e+03, 3.1002490e+03,\n",
       "       3.1029390e+03, 3.1008810e+03, 2.7205600e+03, 3.0998700e+03,\n",
       "       3.0995180e+03, 2.2512700e+03, 3.1003280e+03, 3.1006130e+03,\n",
       "       3.0975800e+03, 2.7684330e+03, 2.9481100e+03, 2.9918340e+03,\n",
       "       3.1051570e+03, 3.0996810e+03, 3.0996450e+03, 3.1017480e+03,\n",
       "       3.1011530e+03, 3.1009970e+03, 2.2534030e+03, 2.0054110e+03,\n",
       "       3.0994380e+03, 3.0994410e+03, 2.9897280e+03, 3.1010520e+03,\n",
       "       2.3091710e+03, 2.3059780e+03, 2.5718950e+03, 2.6716320e+03,\n",
       "       1.4698130e+03, 3.1005940e+03, 2.9351130e+03, 2.0003180e+03,\n",
       "       2.9722230e+03, 1.8190620e+03, 3.0998610e+03, 3.1001310e+03,\n",
       "       2.5115580e+03, 2.5195210e+03, 3.0297860e+03, 2.7967940e+03,\n",
       "       3.0986570e+03, 2.6877430e+03, 3.0993250e+03, 3.0993060e+03,\n",
       "       3.1017140e+03, 3.0587330e+03, 3.0995450e+03, 2.1982970e+03,\n",
       "       3.0981340e+03, 3.0996980e+03, 3.0579830e+03, 2.8265400e+03,\n",
       "       3.1028870e+03, 3.0995580e+03, 3.1004910e+03, 2.4079050e+03,\n",
       "       3.0964690e+03, 3.1005340e+03, 2.0298530e+03, 3.0580740e+03,\n",
       "       3.1001210e+03, 2.8144020e+03, 1.1509000e+03, 3.0997680e+03,\n",
       "       2.8587700e+02, 8.6129100e+02, 3.1009440e+03, 2.8678700e+02,\n",
       "       5.8862400e+02, 3.0998060e+03, 2.9346100e+02, 5.9041500e+02,\n",
       "       3.1019150e+03, 2.9649300e+02, 5.9037200e+02, 3.0995070e+03,\n",
       "       3.0210400e+02, 5.9235100e+02, 3.0999780e+03, 3.0456000e+02,\n",
       "       5.8895600e+02, 3.0996790e+03, 3.0637900e+02, 5.8800800e+02,\n",
       "       3.1002300e+03, 3.1164200e+02, 5.8633600e+02, 3.0985950e+03,\n",
       "       3.1705200e+02, 5.8147000e+02, 3.1012210e+03, 3.2082200e+02,\n",
       "       5.8806200e+02, 3.0996870e+03, 7.1951500e+02, 1.0530080e+03,\n",
       "       3.1015460e+03, 3.2225700e+02, 5.6376700e+02, 2.9711100e+03,\n",
       "       3.2310900e+02, 1.3026760e+03, 3.1014660e+03, 3.2487400e+02,\n",
       "       5.7821200e+02, 3.0272540e+03, 3.2709800e+02, 1.7420660e+03,\n",
       "       3.1015950e+03, 3.2970000e+02, 5.5270500e+02, 3.1021850e+03,\n",
       "       3.3383900e+02, 5.7828300e+02, 3.0997580e+03, 3.3756000e+02,\n",
       "       1.6952760e+03, 3.1000500e+03, 3.3890300e+02, 8.0017700e+02,\n",
       "       3.1002630e+03, 3.4115700e+02, 7.9827100e+02, 3.4190200e+02,\n",
       "       8.0548100e+02, 3.1002030e+03, 3.4526900e+02, 8.0239200e+02,\n",
       "       3.0993050e+03, 3.4523100e+02, 2.5178620e+03, 3.1011810e+03,\n",
       "       3.4616100e+02, 1.0168940e+03, 3.1006010e+03, 3.4928000e+02,\n",
       "       5.9042900e+02, 3.1004860e+03, 3.4489600e+02, 5.8875900e+02,\n",
       "       3.0997960e+03, 3.4684100e+02, 5.9377900e+02, 3.1013470e+03,\n",
       "       3.4492100e+02, 5.9579400e+02, 3.1006730e+03, 3.4807200e+02,\n",
       "       5.9825000e+02, 3.1006840e+03, 3.5165400e+02, 6.0311400e+02,\n",
       "       3.1006620e+03, 3.5360500e+02, 6.0434400e+02, 3.1016650e+03,\n",
       "       3.5584500e+02, 7.9996600e+02, 3.1001710e+03, 3.5720700e+02,\n",
       "       1.2747390e+03, 3.0986820e+03, 3.5966900e+02, 2.1675630e+03,\n",
       "       3.1008650e+03, 3.5964500e+02, 8.0283200e+02, 2.9723780e+03,\n",
       "       3.6338900e+02, 6.1707500e+02, 3.0995900e+03, 3.6880100e+02,\n",
       "       6.2250500e+02, 3.0281250e+03, 3.7792400e+02, 6.3083100e+02,\n",
       "       3.1009510e+03, 3.7942300e+02, 6.3660200e+02, 3.1011140e+03,\n",
       "       3.8206400e+02, 6.4307300e+02, 3.1009700e+03, 3.8490300e+02,\n",
       "       6.0212600e+02, 2.9296850e+03, 3.8545500e+02, 6.5042200e+02,\n",
       "       3.0995990e+03, 3.8962200e+02, 7.4567900e+02, 3.9528200e+02,\n",
       "       8.0279600e+02, 3.1004200e+03, 3.9807800e+02, 1.6014700e+03,\n",
       "       3.0992450e+03, 3.9983200e+02, 6.8083400e+02, 3.1010270e+03,\n",
       "       4.0033000e+02, 8.0277700e+02, 3.0989340e+03, 4.0153600e+02,\n",
       "       3.1102360e+03, 4.0785300e+02, 8.0040000e+02, 3.1008300e+03,\n",
       "       4.1075300e+02, 8.0111100e+02, 3.1008240e+03, 4.1316700e+02,\n",
       "       7.9970600e+02, 3.0991150e+03, 4.1409100e+02, 8.0095600e+02,\n",
       "       3.1002880e+03, 4.1661200e+02, 8.0082500e+02, 3.1007040e+03,\n",
       "       2.9909340e+03, 2.9911650e+03, 3.1002530e+03, 3.0999050e+03,\n",
       "       3.1009310e+03, 3.1003780e+03, 1.0568950e+03, 2.4904720e+03,\n",
       "       3.1013610e+03, 1.0486190e+03, 2.1712300e+02, 3.1014530e+03,\n",
       "       8.5937100e+02, 2.4398500e+02, 3.0982300e+03, 6.4061500e+02,\n",
       "       4.9041100e+02, 3.0996000e+03, 5.8456900e+02, 4.9595900e+02,\n",
       "       5.8509500e+02, 5.0580700e+02, 3.1010250e+03, 9.4711000e+02,\n",
       "       5.1416000e+02, 3.1006930e+03, 2.4924920e+03, 5.8292100e+02,\n",
       "       6.4641600e+02, 5.3195200e+02, 3.0982670e+03, 2.0764410e+03,\n",
       "       5.4251200e+02, 3.1004490e+03, 5.8960100e+02, 5.5269800e+02,\n",
       "       3.1010860e+03, 5.9500000e+02, 5.6740000e+02, 3.0991230e+03,\n",
       "       5.7847100e+02, 5.6371100e+02, 3.1004170e+03, 6.1430200e+02,\n",
       "       5.4145000e+02, 3.0988050e+03, 3.0999470e+03, 1.2983130e+03,\n",
       "       3.1013160e+03, 3.0627210e+03, 3.1084650e+03, 3.1027120e+03,\n",
       "       3.0993750e+03, 3.1009250e+03, 3.1001250e+03, 3.1006950e+03,\n",
       "       3.1013360e+03, 3.1014020e+03, 3.1008050e+03, 3.1038410e+03,\n",
       "       3.0996920e+03, 2.2986430e+03, 3.1001890e+03, 3.1003220e+03,\n",
       "       3.1009210e+03, 2.2308330e+03, 3.1012650e+03, 3.1012810e+03,\n",
       "       3.1024260e+03, 3.1010930e+03, 3.0999510e+03, 3.1001400e+03,\n",
       "       3.1003160e+03, 2.5162740e+03, 3.1011050e+03, 3.0962540e+03,\n",
       "       1.9398730e+03, 3.1003410e+03, 3.1010530e+03, 2.6069890e+03,\n",
       "       3.0989980e+03, 3.1011420e+03, 2.2923160e+03, 3.1020130e+03,\n",
       "       2.0082540e+03, 2.7575800e+03, 3.0983190e+03, 3.0963170e+03,\n",
       "       3.0535890e+03, 3.0926480e+03, 3.0921270e+03, 2.8713290e+03,\n",
       "       3.0949840e+03, 3.0991280e+03, 3.1005210e+03, 3.1012450e+03,\n",
       "       2.1049140e+03, 2.1279520e+03, 4.9340000e+00, 1.5716000e+01,\n",
       "       7.7000000e+00, 6.0062240e+03, 8.9630000e+00, 8.5600000e+00,\n",
       "       6.7870000e+00, 5.5780000e+00, 4.5180000e+00, 4.3435000e+01,\n",
       "       7.3062000e+01, 1.1482000e+01, 6.0081440e+03, 7.1790000e+00,\n",
       "       1.0015000e+01, 9.8700000e+00, 9.1140000e+00, 1.0474000e+01,\n",
       "       4.2641000e+01, 5.0384000e+01])"
      ]
     },
     "metadata": {},
     "output_type": "display_data"
    },
    {
     "data": {
      "text/plain": [
       "'SIPIdlMin'"
      ]
     },
     "metadata": {},
     "output_type": "display_data"
    },
    {
     "data": {
      "text/plain": [
       "array([        nan, 6.34200e+00, 5.82900e+00, 5.40000e-02, 1.60000e-01,\n",
       "       0.00000e+00, 6.36500e+00, 7.05700e+00, 2.46800e+00, 2.35300e+00,\n",
       "       4.44000e-01, 9.60000e-02, 2.08000e-01, 5.33000e-01, 1.47000e-01,\n",
       "       6.29000e-01, 7.69000e-01, 6.90000e-02, 1.14600e+00, 7.40000e-02,\n",
       "       9.80000e-02, 5.10000e-01, 5.20000e-02, 1.66000e-01, 4.00000e-02,\n",
       "       1.36000e-01, 2.40000e-02, 2.15000e-01, 1.26000e-01, 1.33000e-01,\n",
       "       8.00000e-02, 7.70000e-02, 7.60000e-02, 2.80000e-02, 2.21000e-01,\n",
       "       3.30000e-02, 4.97000e-01, 8.40000e-02, 3.50000e-02, 2.88000e-01,\n",
       "       2.30000e-02, 8.40000e-01, 1.77000e-01, 7.30000e-02, 2.03000e-01,\n",
       "       1.72000e-01, 1.58000e-01, 2.10000e-02, 1.44000e-01, 1.00000e-02,\n",
       "       1.55000e-01, 5.00000e-02, 5.46000e-01, 4.20000e-02, 8.70000e-02,\n",
       "       4.70000e-02, 1.11000e-01, 2.60000e-02, 4.30000e-01, 6.54000e-01,\n",
       "       1.46500e+00, 1.40800e+00, 5.99000e-01, 5.18000e-01, 1.02600e+00,\n",
       "       1.36400e+00, 1.05700e+00, 5.30000e-02, 7.00000e-03, 8.10000e-02,\n",
       "       3.80000e-02, 7.48300e+00, 7.20700e+00, 1.84100e+00, 1.78800e+00,\n",
       "       7.39000e-01, 1.68000e-01, 1.56000e-01, 1.23000e-01, 6.80000e-02,\n",
       "       1.46000e-01, 1.07000e-01, 1.67000e-01, 3.70000e-02, 1.30000e-01,\n",
       "       1.81000e-01, 2.50000e-02, 3.00000e-01, 4.10000e-02, 9.30000e-02,\n",
       "       2.00000e-03, 1.16000e-01, 7.20000e-02, 2.17000e-01, 6.50000e-02,\n",
       "       4.79000e-01, 8.30000e-02, 9.00000e-02, 2.90000e-02, 2.43000e-01,\n",
       "       1.28000e-01, 3.27000e-01, 1.85000e-01, 8.90000e-02, 9.40000e-02,\n",
       "       1.22000e-01, 6.40000e-02, 3.45000e-01, 2.36000e-01, 2.38000e-01,\n",
       "       1.17000e-01, 9.10000e-02, 3.10000e-02, 2.99000e-01, 5.50000e-02,\n",
       "       3.35000e-01, 5.19000e-01, 1.95000e-01, 9.20000e-01, 3.11000e-01,\n",
       "       1.74500e+00, 1.04000e-01, 1.80000e-01, 5.10000e-02, 6.10000e-02,\n",
       "       1.70000e-02, 1.00000e-03, 4.80000e-02, 1.30000e-02, 3.00000e-03,\n",
       "       1.53000e-01, 9.20000e-02, 9.00000e-03, 7.50000e-02, 2.63000e-01,\n",
       "       6.00000e-03, 1.60000e-02, 1.20000e-02, 5.90000e-02, 1.13000e-01,\n",
       "       4.00000e-03, 2.70000e-01, 2.60000e-01, 1.10000e-02, 5.00000e-03,\n",
       "       3.85000e-01, 9.25700e+01, 8.00000e-03, 1.65000e-01, 1.90000e-02,\n",
       "       1.40000e-02, 8.80000e-02, 5.70000e-02, 1.97000e-01, 1.39000e-01,\n",
       "       4.40000e-02, 4.50000e-02, 1.63000e-01, 6.30000e-02, 1.15000e-01,\n",
       "       1.50000e-02, 5.60000e-02, 4.30000e-02, 4.60000e-02, 2.20000e-02,\n",
       "       3.04000e-01, 3.31000e-01, 3.00000e-02, 2.10000e-01, 1.57000e-01,\n",
       "       3.90000e-02, 3.20000e-02, 2.18000e-01, 7.90000e-02, 1.80000e-02,\n",
       "       5.09000e-01, 4.09000e-01, 3.40000e-02, 1.91000e-01, 6.81000e-01,\n",
       "       2.72022e+02, 6.20000e-02, 1.49000e-01, 1.19000e-01, 4.90000e-02,\n",
       "       6.00000e-02, 8.50000e-02, 1.31000e-01, 2.78000e-01, 1.24000e-01,\n",
       "       2.70813e+02, 2.69000e-01, 3.32000e-01, 2.00000e-02, 3.60000e-02,\n",
       "       2.47000e-01, 2.30000e-01, 2.01000e-01, 2.70687e+02, 3.46000e-01,\n",
       "       2.00891e+02, 8.20000e-02, 2.09000e-01, 4.08000e-01, 7.10000e-02,\n",
       "       2.70000e-02, 1.27000e-01, 1.71000e-01, 2.00000e-01, 3.01431e+02,\n",
       "       4.93400e+00, 1.90000e-01, 7.70000e+00, 3.47300e+00, 3.03400e+00,\n",
       "       1.03000e-01, 9.39000e-01, 6.70000e-02, 1.97600e+00, 1.14820e+01,\n",
       "       1.12300e+00, 4.56800e+00, 1.56800e+00, 1.40100e+00, 2.87000e-01,\n",
       "       5.80000e-02, 1.25000e-01])"
      ]
     },
     "metadata": {},
     "output_type": "display_data"
    },
    {
     "data": {
      "text/plain": [
       "'DIPIdlMax'"
      ]
     },
     "metadata": {},
     "output_type": "display_data"
    },
    {
     "data": {
      "text/plain": [
       "array([          nan, 0.0000000e+00, 6.0090260e+03, 6.0091750e+03,\n",
       "       5.0470250e+03, 5.0515570e+03, 5.0458930e+03, 5.0459290e+03,\n",
       "       1.6973692e+04, 5.0504540e+03, 5.0442900e+03, 2.2979276e+04,\n",
       "       7.5503770e+03, 2.2971876e+04, 5.0495660e+03, 2.2976876e+04,\n",
       "       5.0465000e+03, 2.2980452e+04, 5.0468790e+03, 2.2970678e+04,\n",
       "       5.0479870e+03, 2.2976492e+04, 5.0426010e+03, 2.0475632e+04,\n",
       "       5.0461740e+03, 2.2978524e+04, 5.0473120e+03, 2.2975870e+04,\n",
       "       5.0523860e+03, 2.2976480e+04, 5.0482790e+03, 2.2969972e+04,\n",
       "       5.0485030e+03, 2.2983892e+04, 7.5489260e+03, 2.2979316e+04,\n",
       "       5.0481080e+03, 2.2975904e+04, 5.0455250e+03, 2.2978170e+04,\n",
       "       5.0470340e+03, 2.2972722e+04, 5.0496280e+03, 2.2975170e+04,\n",
       "       5.0498520e+03, 2.0472736e+04, 5.0499780e+03, 2.2973284e+04,\n",
       "       5.0504850e+03, 2.2972360e+04, 5.0475730e+03, 2.2979776e+04,\n",
       "       5.0487880e+03, 2.2980428e+04, 5.0528020e+03, 2.2974404e+04,\n",
       "       7.1780000e+00, 5.0410000e+00, 4.3550000e+00, 4.9200000e+00,\n",
       "       2.1830000e+00, 8.2070000e+00, 5.1174000e+01, 1.0443630e+03,\n",
       "       1.0003200e+02, 2.2963836e+04, 2.2969344e+04, 2.2976890e+04,\n",
       "       2.2978236e+04, 2.2967478e+04, 2.6981788e+04, 6.0097120e+03,\n",
       "       6.0097680e+03, 5.0477860e+03, 5.0443160e+03, 5.0472270e+03,\n",
       "       5.0472240e+03, 1.6970328e+04, 5.0436890e+03, 5.0453100e+03,\n",
       "       2.2970726e+04, 7.5487510e+03, 2.2971638e+04, 5.0488900e+03,\n",
       "       2.2978284e+04, 5.0492750e+03, 2.2980200e+04, 5.0452220e+03,\n",
       "       2.2982820e+04, 5.0476300e+03, 2.2984292e+04, 5.0468880e+03,\n",
       "       2.0478732e+04, 5.0523770e+03, 2.2979854e+04, 5.0463290e+03,\n",
       "       2.2974980e+04, 5.0451220e+03, 2.2982016e+04, 5.0473930e+03,\n",
       "       2.2984624e+04, 5.0470380e+03, 2.2982122e+04, 7.5479580e+03,\n",
       "       2.2974700e+04, 5.0469850e+03, 2.2976596e+04, 5.0513050e+03,\n",
       "       2.2980204e+04, 5.0468830e+03, 2.2984986e+04, 5.0421290e+03,\n",
       "       2.2977046e+04, 5.0488440e+03, 2.0476488e+04, 5.0463430e+03,\n",
       "       2.2985936e+04, 5.0475170e+03, 2.2978298e+04, 5.0480880e+03,\n",
       "       2.2986368e+04, 5.0492330e+03, 2.2985620e+04, 5.0504710e+03,\n",
       "       2.2982724e+04, 3.9550000e+00, 2.4900000e+00, 2.0660000e+00,\n",
       "       4.2310000e+00, 3.1790000e+00, 5.8884000e+01, 1.0420710e+03,\n",
       "       9.9044000e+01, 2.2982612e+04, 2.2980752e+04, 2.2978508e+04,\n",
       "       2.2977968e+04, 2.2979056e+04, 2.6988174e+04, 3.1001210e+03,\n",
       "       3.0997300e+03, 3.1001540e+03, 3.0848520e+03, 1.6979530e+03,\n",
       "       3.0995810e+03, 2.7812820e+03, 2.0619150e+03, 3.1004140e+03,\n",
       "       1.7608270e+03, 3.0984540e+03, 3.1020390e+03, 2.1038510e+03,\n",
       "       2.8733400e+03, 3.1117080e+03, 1.2864910e+03, 3.0915780e+03,\n",
       "       3.1001340e+03, 3.0993810e+03, 2.2770090e+03, 3.1005260e+03,\n",
       "       3.0983660e+03, 2.7914960e+03, 3.0994460e+03, 3.0994970e+03,\n",
       "       3.1008930e+03, 3.0993650e+03, 3.1016160e+03, 3.0975910e+03,\n",
       "       3.0991950e+03, 3.0999140e+03, 2.7153980e+03, 3.0996960e+03,\n",
       "       3.1000650e+03, 2.2264380e+03, 3.1007060e+03, 3.1012710e+03,\n",
       "       2.3914330e+03, 3.0993640e+03, 3.0992030e+03, 3.0997250e+03,\n",
       "       3.0998830e+03, 2.0913270e+03, 3.1031370e+03, 3.1007210e+03,\n",
       "       3.1009850e+03, 2.0334700e+02, 3.1001280e+03, 3.0987860e+03,\n",
       "       4.0803100e+02, 3.1010700e+03, 3.0985380e+03, 8.0257000e+02,\n",
       "       3.1002050e+03, 3.0996180e+03, 8.0328300e+02, 3.1004400e+03,\n",
       "       2.8930500e+03, 8.0269100e+02, 3.0990780e+03, 8.0297500e+02,\n",
       "       3.0998740e+03, 8.4298100e+02, 3.1006620e+03, 3.1008550e+03,\n",
       "       8.0270200e+02, 3.1005240e+03, 3.1014950e+03, 8.0392100e+02,\n",
       "       2.7032030e+03, 2.8722560e+03, 8.0421400e+02, 3.1001180e+03,\n",
       "       3.0999130e+03, 8.0258600e+02, 3.0050780e+03, 3.1002730e+03,\n",
       "       8.0286500e+02, 3.0989230e+03, 3.1000610e+03, 8.0420000e+02,\n",
       "       3.0976940e+03, 3.1001600e+03, 8.0324100e+02, 3.0940320e+03,\n",
       "       3.1009710e+03, 8.0365600e+02, 3.0999260e+03, 3.1002860e+03,\n",
       "       8.0345600e+02, 3.0997400e+03, 3.0998650e+03, 8.0201500e+02,\n",
       "       3.1001240e+03, 3.1001810e+03, 8.0244800e+02, 3.0999340e+03,\n",
       "       3.1003960e+03, 8.0308300e+02, 3.0964420e+03, 3.0997120e+03,\n",
       "       8.0337900e+02, 3.1010420e+03, 3.1008790e+03, 8.0363100e+02,\n",
       "       3.0993450e+03, 3.1001430e+03, 8.0216900e+02, 3.0997310e+03,\n",
       "       3.0985060e+03, 8.0293600e+02, 3.0996880e+03, 3.0995280e+03,\n",
       "       8.0206600e+02, 3.0995140e+03, 3.0989450e+03, 8.0467900e+02,\n",
       "       3.0984120e+03, 3.1002270e+03, 8.0293000e+02, 3.0992610e+03,\n",
       "       3.1002200e+03, 8.0349500e+02, 3.0996690e+03, 3.1001630e+03,\n",
       "       8.0385400e+02, 3.0993720e+03, 3.0996550e+03, 8.0221100e+02,\n",
       "       3.0968100e+03, 3.1004570e+03, 8.0318600e+02, 3.0994530e+03,\n",
       "       3.1015160e+03, 8.0607800e+02, 3.0997790e+03, 3.1010140e+03,\n",
       "       8.4368100e+02, 2.9927820e+03, 2.8717170e+03, 8.0393900e+02,\n",
       "       3.0975530e+03, 3.1003560e+03, 8.0351100e+02, 3.0013620e+03,\n",
       "       3.0991990e+03, 8.0387300e+02, 3.0969730e+03, 3.0995900e+03,\n",
       "       8.0317300e+02, 2.6028910e+03, 2.7265420e+03, 8.0305500e+02,\n",
       "       3.0993790e+03, 3.1018400e+03, 8.0265600e+02, 3.0968600e+03,\n",
       "       3.0996700e+03, 8.0356400e+02, 3.0993940e+03, 3.0999860e+03,\n",
       "       8.0236000e+02, 3.0995240e+03, 3.1000580e+03, 8.0275400e+02,\n",
       "       3.0971200e+03, 3.1005210e+03, 8.0228400e+02, 3.1001620e+03,\n",
       "       3.1002650e+03, 8.0268000e+02, 3.1008970e+03, 3.1000300e+03,\n",
       "       8.0196300e+02, 3.0998720e+03, 3.0996130e+03, 8.0262200e+02,\n",
       "       3.1009490e+03, 3.0996540e+03, 8.0350000e+02, 3.1005220e+03,\n",
       "       3.1003010e+03, 8.0339300e+02, 3.1002610e+03, 3.1002480e+03,\n",
       "       8.0447700e+02, 3.0992460e+03, 3.1008030e+03, 8.0320700e+02,\n",
       "       3.0977060e+03, 3.0986060e+03, 8.0379600e+02, 3.1002180e+03,\n",
       "       3.0981960e+03, 3.0986400e+03, 2.8976890e+03, 3.0991100e+03,\n",
       "       2.8893760e+03, 3.0998280e+03, 3.1002880e+03, 1.0971750e+03,\n",
       "       3.0981930e+03, 3.0993100e+03, 1.1618990e+03, 3.1002760e+03,\n",
       "       3.1007570e+03, 7.2402500e+02, 2.9916180e+03, 2.8718270e+03,\n",
       "       1.0038530e+03, 3.1011050e+03, 3.0999040e+03, 1.0028650e+03,\n",
       "       3.0026290e+03, 3.0996150e+03, 1.0021200e+03, 3.0995290e+03,\n",
       "       3.1001710e+03, 1.0027460e+03, 3.0960190e+03, 3.0996280e+03,\n",
       "       1.0026360e+03, 3.0978000e+03, 3.0998640e+03, 1.0025980e+03,\n",
       "       3.0990230e+03, 3.0988560e+03, 1.0059120e+03, 3.1001650e+03,\n",
       "       3.1008510e+03, 1.0037870e+03, 3.0990700e+03, 3.1004050e+03,\n",
       "       1.0030540e+03, 3.1003750e+03, 3.1001720e+03, 1.0019090e+03,\n",
       "       3.0996050e+03, 3.1000240e+03, 2.3209790e+03, 2.2775030e+03,\n",
       "       2.8930770e+03, 1.6701420e+03, 3.1002440e+03, 3.0997490e+03,\n",
       "       3.0999680e+03, 3.1004770e+03, 3.1005230e+03, 3.1006590e+03,\n",
       "       3.1008390e+03, 3.1061920e+03, 3.0995360e+03, 3.1005930e+03,\n",
       "       2.5556760e+03, 3.1007700e+03, 3.1002580e+03, 1.9877210e+03,\n",
       "       3.0998750e+03, 3.1001530e+03, 2.7740840e+03, 3.1003580e+03,\n",
       "       3.1004110e+03, 3.0968930e+03, 3.0999180e+03, 3.1006130e+03,\n",
       "       3.1003260e+03, 3.0991970e+03, 3.1001670e+03, 2.7216880e+03,\n",
       "       3.0996420e+03, 3.0990870e+03, 2.2512020e+03, 3.0998800e+03,\n",
       "       3.0996600e+03, 3.0937060e+03, 2.8712180e+03, 2.9920080e+03,\n",
       "       2.9915900e+03, 3.1053350e+03, 3.0998180e+03, 3.1000410e+03,\n",
       "       3.1021880e+03, 3.1005530e+03, 3.1004630e+03, 2.2535120e+03,\n",
       "       2.0034820e+03, 3.0994220e+03, 3.0993700e+03, 2.9863160e+03,\n",
       "       3.1001690e+03, 2.3074480e+03, 2.3021190e+03, 2.5715040e+03,\n",
       "       2.6705110e+03, 1.4739580e+03, 3.1004370e+03, 2.9362110e+03,\n",
       "       1.9995150e+03, 2.9703220e+03, 1.8195720e+03, 3.0998370e+03,\n",
       "       2.5545920e+03, 2.5612030e+03, 3.0277380e+03, 2.7949340e+03,\n",
       "       3.0999250e+03, 3.0989280e+03, 2.7318380e+03, 3.0985220e+03,\n",
       "       3.0992540e+03, 3.1007600e+03, 3.0997720e+03, 3.0994450e+03,\n",
       "       2.1976510e+03, 3.0980300e+03, 3.0999220e+03, 3.0995760e+03,\n",
       "       2.8266730e+03, 3.1003380e+03, 3.1031710e+03, 3.0988740e+03,\n",
       "       2.4066690e+03, 3.0967050e+03, 2.0302790e+03, 3.1007890e+03,\n",
       "       3.0999950e+03, 2.8148950e+03, 1.1500010e+03, 3.0996400e+03,\n",
       "       2.8952400e+02, 9.0669200e+02, 3.1005940e+03, 2.8750700e+02,\n",
       "       5.8915200e+02, 3.0998990e+03, 2.9396500e+02, 5.9102200e+02,\n",
       "       3.1016170e+03, 2.9928100e+02, 5.9097000e+02, 3.0998250e+03,\n",
       "       3.0276100e+02, 5.9455800e+02, 3.1000110e+03, 3.0714600e+02,\n",
       "       5.8939200e+02, 3.0996970e+03, 3.0875000e+02, 5.9013000e+02,\n",
       "       3.1001120e+03, 3.1212900e+02, 5.8688300e+02, 3.0984170e+03,\n",
       "       3.1748800e+02, 5.8551900e+02, 3.1010980e+03, 3.2230100e+02,\n",
       "       5.8853800e+02, 3.0995690e+03, 7.2161300e+02, 1.0521060e+03,\n",
       "       3.1004170e+03, 3.2333300e+02, 5.6482200e+02, 2.9711640e+03,\n",
       "       3.2385700e+02, 1.3475490e+03, 3.1016050e+03, 3.2537300e+02,\n",
       "       5.7910000e+02, 3.0265720e+03, 3.2827200e+02, 1.7006400e+03,\n",
       "       3.1005740e+03, 3.3105600e+02, 5.5381500e+02, 3.1009390e+03,\n",
       "       3.3423000e+02, 5.7911800e+02, 3.0998120e+03, 3.3817400e+02,\n",
       "       1.6484550e+03, 3.0989350e+03, 3.4075800e+02, 8.0053700e+02,\n",
       "       3.0999360e+03, 3.4175600e+02, 7.9897000e+02, 3.1005360e+03,\n",
       "       3.4290200e+02, 8.0578000e+02, 3.0999870e+03, 3.4694500e+02,\n",
       "       8.0288400e+02, 3.0993320e+03, 3.4672900e+02, 2.5181680e+03,\n",
       "       3.4649900e+02, 1.0175450e+03, 3.1002750e+03, 3.5043200e+02,\n",
       "       5.9091500e+02, 3.1004130e+03, 3.4684400e+02, 5.8922300e+02,\n",
       "       3.0997980e+03, 3.4822600e+02, 5.9779300e+02, 3.1010640e+03,\n",
       "       3.4538600e+02, 5.9626600e+02, 3.1006710e+03, 3.4850200e+02,\n",
       "       6.0132900e+02, 3.1003980e+03, 3.5239600e+02, 6.0368600e+02,\n",
       "       3.1003880e+03, 3.5421100e+02, 6.0548100e+02, 3.5613300e+02,\n",
       "       8.0034400e+02, 3.1002160e+03, 3.5794800e+02, 1.2767690e+03,\n",
       "       3.0993360e+03, 3.6025000e+02, 2.2099380e+03, 3.1006880e+03,\n",
       "       3.6037200e+02, 8.0337600e+02, 2.9723670e+03, 3.6396400e+02,\n",
       "       6.1769800e+02, 3.0994550e+03, 3.6936900e+02, 6.2484100e+02,\n",
       "       3.0274370e+03, 3.7833500e+02, 6.3251700e+02, 3.1008300e+03,\n",
       "       3.7994200e+02, 6.3753300e+02, 3.1007560e+03, 3.8245100e+02,\n",
       "       6.4414900e+02, 3.1003910e+03, 3.8640100e+02, 6.4609200e+02,\n",
       "       2.9273880e+03, 3.9098200e+02, 6.5114800e+02, 3.0997990e+03,\n",
       "       3.9030700e+02, 7.0489600e+02, 3.1007710e+03, 3.9589100e+02,\n",
       "       8.0453300e+02, 3.1002450e+03, 3.9866400e+02, 1.6021450e+03,\n",
       "       3.0992500e+03, 4.0079200e+02, 6.8147300e+02, 3.1009120e+03,\n",
       "       4.0127700e+02, 8.0364600e+02, 3.0989910e+03, 4.0230200e+02,\n",
       "       8.0150700e+02, 3.1095850e+03, 4.0845700e+02, 8.0105100e+02,\n",
       "       3.1007410e+03, 4.1281900e+02, 8.0152800e+02, 3.1008170e+03,\n",
       "       4.1506100e+02, 8.0035400e+02, 3.0994020e+03, 4.1476500e+02,\n",
       "       8.0157500e+02, 3.1001900e+03, 4.1703400e+02, 8.0147100e+02,\n",
       "       3.1006110e+03, 2.9906890e+03, 2.9912350e+03, 3.1002380e+03,\n",
       "       3.0993830e+03, 3.1009860e+03, 1.0981060e+03, 2.4903890e+03,\n",
       "       3.1006090e+03, 1.0491610e+03, 2.1907200e+02, 3.1004310e+03,\n",
       "       8.6003000e+02, 2.4578400e+02, 3.0986370e+03, 6.4213800e+02,\n",
       "       4.9156600e+02, 3.0997580e+03, 5.8556900e+02, 4.9743700e+02,\n",
       "       3.0994690e+03, 5.8620900e+02, 5.0653000e+02, 3.1006940e+03,\n",
       "       9.8941700e+02, 5.1418100e+02, 3.1005290e+03, 2.4926580e+03,\n",
       "       5.8293400e+02, 3.0997500e+03, 6.4729900e+02, 5.3343300e+02,\n",
       "       3.0990790e+03, 2.1204830e+03, 5.4306300e+02, 3.1001640e+03,\n",
       "       5.9044400e+02, 5.5396500e+02, 3.1006200e+03, 5.9547300e+02,\n",
       "       5.6854000e+02, 3.0993030e+03, 5.9436300e+02, 5.7457300e+02,\n",
       "       3.1000860e+03, 6.1523700e+02, 5.8391700e+02, 3.0993000e+03,\n",
       "       3.0995410e+03, 1.2979020e+03, 3.1005660e+03, 3.1023600e+03,\n",
       "       3.1057550e+03, 3.1014340e+03, 3.0987590e+03, 3.1001580e+03,\n",
       "       3.0996230e+03, 3.1007470e+03, 3.1003330e+03, 3.0995090e+03,\n",
       "       3.1030710e+03, 3.0996020e+03, 2.2986770e+03, 3.1001080e+03,\n",
       "       3.1004360e+03, 2.2316060e+03, 3.1006170e+03, 3.1006010e+03,\n",
       "       3.1019440e+03, 3.1007740e+03, 3.0998590e+03, 3.1004040e+03,\n",
       "       3.1002190e+03, 3.0997050e+03, 2.5136760e+03, 3.1006920e+03,\n",
       "       3.0975550e+03, 1.9374030e+03, 3.0998420e+03, 3.1002700e+03,\n",
       "       2.6053670e+03, 3.0992310e+03, 3.0996590e+03, 2.2920880e+03,\n",
       "       3.1006310e+03, 2.0513930e+03, 2.7574530e+03, 3.0989250e+03,\n",
       "       3.0966190e+03, 3.0965850e+03, 3.1002280e+03, 3.0928390e+03,\n",
       "       3.0922330e+03, 2.8712480e+03, 3.0962950e+03, 3.0981310e+03,\n",
       "       3.0999660e+03, 2.1043480e+03, 2.1269840e+03, 6.0100870e+03,\n",
       "       1.1240000e+01, 1.4083000e+01, 7.4010000e+00, 8.1040000e+00,\n",
       "       5.2020000e+00, 1.0561000e+01, 7.5356000e+01, 6.0102200e+03,\n",
       "       1.0583000e+01, 1.4330000e+01, 7.7340000e+00, 1.3293000e+01,\n",
       "       7.9030000e+00, 2.9970000e+00, 9.5142000e+01])"
      ]
     },
     "metadata": {},
     "output_type": "display_data"
    },
    {
     "data": {
      "text/plain": [
       "'DIPIdlMin'"
      ]
     },
     "metadata": {},
     "output_type": "display_data"
    },
    {
     "data": {
      "text/plain": [
       "array([         nan, 0.000000e+00, 1.670000e-01, 5.047167e+03,\n",
       "       2.348000e+00, 1.253000e+00, 2.796000e+00, 2.628000e+00,\n",
       "       9.700000e-02, 2.837000e+00, 3.153000e+00, 3.400000e-02,\n",
       "       2.481000e+00, 1.050000e-01, 1.408000e+00, 6.900000e-02,\n",
       "       3.166000e+00, 8.900000e-02, 1.999000e+00, 3.500000e-02,\n",
       "       1.794000e+00, 4.200000e-02, 2.429000e+00, 1.000000e-02,\n",
       "       1.968000e+00, 6.000000e-02, 1.080000e+00, 1.720000e-01,\n",
       "       1.241000e+00, 5.200000e-02, 3.037000e+00, 6.100000e-02,\n",
       "       2.501000e+00, 1.570000e-01, 1.263000e+00, 5.100000e-02,\n",
       "       1.683000e+00, 3.800000e-02, 3.426000e+00, 3.200000e-02,\n",
       "       2.097000e+00, 1.740000e-01, 2.435000e+00, 2.640000e-01,\n",
       "       1.888000e+00, 3.700000e-02, 2.132000e+00, 9.900000e-02,\n",
       "       1.833000e+00, 8.800000e-02, 3.146000e+00, 1.020000e-01,\n",
       "       1.689000e+00, 1.010000e-01, 1.634000e+00, 9.400000e-02,\n",
       "       3.600000e-02, 7.500000e-02, 7.900000e-02, 2.700000e-02,\n",
       "       8.600000e-02, 1.800000e-02, 2.835000e+00, 7.110000e-01,\n",
       "       8.000000e-03, 1.210000e-01, 1.220000e-01, 4.900000e-02,\n",
       "       2.110000e-01, 1.040000e-01, 5.050633e+03, 5.992000e+00,\n",
       "       1.280000e+00, 2.197000e+00, 1.484000e+00, 7.300000e-02,\n",
       "       1.649000e+00, 1.541000e+00, 9.300000e-02, 1.860000e+00,\n",
       "       6.300000e-02, 1.620000e+00, 6.700000e-02, 1.897000e+00,\n",
       "       3.429000e+00, 6.200000e-02, 1.216000e+00, 8.200000e-02,\n",
       "       1.475000e+00, 2.140000e-01, 1.396000e+00, 1.200000e-01,\n",
       "       4.811000e+00, 2.320000e-01, 1.257000e+00, 4.700000e-02,\n",
       "       2.623000e+00, 1.960000e-01, 2.707000e+00, 2.139000e+00,\n",
       "       5.900000e-02, 1.048000e+00, 4.400000e-02, 1.336000e+00,\n",
       "       1.260000e-01, 4.117000e+00, 7.200000e-02, 3.001000e+00,\n",
       "       2.770000e-01, 9.710000e-01, 6.800000e-02, 2.621000e+00,\n",
       "       9.800000e-02, 1.230000e+00, 1.599000e+00, 3.027000e+00,\n",
       "       3.492000e+00, 1.190000e-01, 7.800000e-02, 1.700000e-02,\n",
       "       1.090000e-01, 2.800000e-02, 7.000000e-02, 1.426000e+00,\n",
       "       9.990000e-01, 1.680000e-01, 1.600000e-02, 2.230000e-01,\n",
       "       8.500000e-02, 3.000000e-03, 2.000000e-03, 2.300000e-02,\n",
       "       4.600000e-02, 2.500000e-02, 2.600000e-02, 2.250000e-01,\n",
       "       7.400000e-02, 1.290000e-01, 4.000000e-02, 5.280000e-01,\n",
       "       2.200000e-01, 5.400000e-02, 5.020000e-01, 1.780000e-01,\n",
       "       1.450000e-01, 1.120000e-01, 4.500000e-02, 5.170000e-01,\n",
       "       2.670000e-01, 4.100000e-02, 1.630000e-01, 5.090000e-01,\n",
       "       4.050000e-01, 2.900000e-02, 1.170000e-01, 1.800000e-01,\n",
       "       2.200000e-02, 9.600000e-02, 1.440000e-01, 2.510000e-01,\n",
       "       6.400000e-02, 3.030000e-01, 5.070000e-01, 3.060000e-01,\n",
       "       7.700000e-01, 2.160000e-01, 2.050000e-01, 4.300000e-02,\n",
       "       1.160000e-01, 5.420000e-01, 5.370000e-01, 1.060000e-01,\n",
       "       3.840000e-01, 5.000000e-02, 2.150000e-01, 5.410000e-01,\n",
       "       3.900000e-02, 1.030000e-01, 5.500000e-02, 2.420000e-01,\n",
       "       5.300000e-02, 4.500000e-01, 2.260000e-01, 4.800000e-02,\n",
       "       5.060000e-01, 3.650000e-01, 6.210000e-01, 6.600000e-02,\n",
       "       1.150000e-01, 2.040000e-01, 3.100000e-02, 1.400000e-01,\n",
       "       1.900000e-02, 2.100000e-02, 2.840000e-01, 1.470000e-01,\n",
       "       1.940000e-01, 2.530000e-01, 5.600000e-02, 2.790000e-01,\n",
       "       6.110000e-01, 1.330000e-01, 2.170000e-01, 3.810000e-01,\n",
       "       1.610000e-01, 1.100000e-01, 2.710000e-01, 1.380000e-01,\n",
       "       2.760000e-01, 4.570000e-01, 2.000000e-02, 1.948000e+00,\n",
       "       8.400000e-02, 7.900000e-01, 1.830000e-01, 2.480000e-01,\n",
       "       5.540000e-01, 2.990000e-01, 4.960000e-01, 6.500000e-02,\n",
       "       3.430000e-01, 1.460000e-01, 6.000000e-01, 1.660000e-01,\n",
       "       1.900000e-01, 7.600000e-02, 6.220000e-01, 6.140000e-01,\n",
       "       1.730000e-01, 5.690000e-01, 1.390000e-01, 1.890000e-01,\n",
       "       1.140000e-01, 4.980000e-01, 1.500000e-01, 8.340000e-01,\n",
       "       4.260000e-01, 6.400000e-01, 4.780000e-01, 2.400000e-02,\n",
       "       6.670000e-01, 3.010000e-01, 4.330000e-01, 3.660000e-01,\n",
       "       3.300000e-02, 8.160000e-01, 4.810000e-01, 2.880000e-01,\n",
       "       3.000000e-02, 1.870000e-01, 1.880000e-01, 2.300000e-01,\n",
       "       7.260000e-01, 4.310000e-01, 2.180000e-01, 1.370000e-01,\n",
       "       1.590000e-01, 5.550000e-01, 1.350000e-01, 2.900000e-01,\n",
       "       9.500000e-02, 3.910000e-01, 1.550000e-01, 7.700000e-02,\n",
       "       1.520000e-01, 1.490000e-01, 7.100000e-02, 9.000000e-02,\n",
       "       2.980000e-01, 1.340000e-01, 3.260000e-01, 8.300000e-02,\n",
       "       5.700000e-02, 4.590000e-01, 2.540000e-01, 5.200000e-01,\n",
       "       9.200000e-02, 4.990000e-01, 4.000000e-03, 1.400000e-02,\n",
       "       4.970000e-01, 5.800000e-02, 1.200000e-02, 8.100000e-02,\n",
       "       1.420000e-01, 3.490000e-01, 1.710000e-01, 3.500000e-01,\n",
       "       1.770000e-01, 2.220000e-01, 3.350000e-01, 1.070000e-01,\n",
       "       3.970000e-01, 2.020000e-01, 5.660000e-01, 3.180000e-01,\n",
       "       4.370000e-01, 1.530000e-01, 2.820000e-01, 1.180000e-01,\n",
       "       2.690000e-01, 3.150000e-01, 1.270000e-01, 3.240000e-01,\n",
       "       5.390000e-01, 2.970000e-01, 2.400000e-01, 5.300000e-01,\n",
       "       2.650000e-01, 2.830000e-01, 2.780000e-01, 1.250000e-01,\n",
       "       3.340000e-01, 5.150000e-01, 6.010000e-01, 2.380000e-01,\n",
       "       1.240000e-01, 2.030000e-01, 2.740000e-01, 1.560000e-01,\n",
       "       3.020000e-01, 3.100000e-01, 1.130000e-01, 7.040000e-01,\n",
       "       4.360000e-01, 3.120000e-01, 1.779000e+00, 6.020000e-01,\n",
       "       9.240000e-01, 5.050000e-01, 4.630000e-01, 1.840000e-01,\n",
       "       1.790000e-01, 1.280000e-01, 2.930000e-01, 1.620000e-01,\n",
       "       1.161000e+00, 7.660000e-01, 1.570000e+00, 2.500000e-01,\n",
       "       1.700000e-01, 1.255000e+00, 2.283000e+00, 6.520000e-01,\n",
       "       2.063000e+00, 3.996000e+00, 1.793000e+00, 3.539000e+00,\n",
       "       2.246000e+00])"
      ]
     },
     "metadata": {},
     "output_type": "display_data"
    },
    {
     "data": {
      "text/plain": [
       "'SrcJitter'"
      ]
     },
     "metadata": {},
     "output_type": "display_data"
    },
    {
     "data": {
      "text/plain": [
       "array([       nan,   0.      ,   1.789   , ...,  22.146234,   1.191403,\n",
       "       258.370469])"
      ]
     },
     "metadata": {},
     "output_type": "display_data"
    },
    {
     "data": {
      "text/plain": [
       "'DstJitter'"
      ]
     },
     "metadata": {},
     "output_type": "display_data"
    },
    {
     "data": {
      "text/plain": [
       "array([           nan, 0.00000000e+00, 2.60095900e+03, 4.81004000e+02,\n",
       "       2.52233850e+03, 2.52515200e+03, 6.97434500e+00, 2.52154850e+03,\n",
       "       2.52165050e+03, 3.09844145e+05, 2.52380850e+03, 2.52056850e+03,\n",
       "       3.63288844e+05, 3.77394800e+03, 3.63171837e+05, 2.52407900e+03,\n",
       "       3.63250907e+05, 2.52166700e+03, 3.63307413e+05, 2.52244000e+03,\n",
       "       3.63152907e+05, 2.52309650e+03, 3.63244822e+05, 2.52008600e+03,\n",
       "       3.23707701e+05, 2.52210300e+03, 3.63276947e+05, 2.52311600e+03,\n",
       "       3.63234988e+05, 2.52557250e+03, 3.63244638e+05, 2.52262100e+03,\n",
       "       3.63141732e+05, 2.52300100e+03, 3.63361811e+05, 3.77383150e+03,\n",
       "       3.63289469e+05, 2.52321250e+03, 3.63235511e+05, 2.52104950e+03,\n",
       "       3.63271354e+05, 2.52246850e+03, 3.63185208e+05, 2.52359650e+03,\n",
       "       1.14874530e+04, 2.52398200e+03, 3.23661902e+05, 2.52392300e+03,\n",
       "       3.63194101e+05, 2.52432600e+03, 3.63179475e+05, 2.52221350e+03,\n",
       "       3.63296745e+05, 2.52354950e+03, 3.63307057e+05, 2.52558400e+03,\n",
       "       3.63211821e+05, 2.70851800e+00, 2.27784900e+00, 1.73786000e+00,\n",
       "       1.96465000e+00, 8.93468000e-01, 3.28393700e+00, 2.10721860e+01,\n",
       "       5.20764000e+02, 4.05525390e+01, 3.63044731e+05, 3.63131844e+05,\n",
       "       3.63251123e+05, 1.14890570e+04, 3.63102303e+05, 4.26566184e+05,\n",
       "       2.60155300e+03, 4.79567500e+02, 2.52089700e+03, 2.52151800e+03,\n",
       "       2.52251500e+03, 2.52287000e+03, 3.09782755e+05, 2.52102000e+03,\n",
       "       2.52188450e+03, 3.63153656e+05, 3.77344550e+03, 3.63168094e+05,\n",
       "       2.52363500e+03, 3.63273154e+05, 2.52368900e+03, 3.63303439e+05,\n",
       "       2.52089650e+03, 3.63344850e+05, 2.52320700e+03, 3.63368154e+05,\n",
       "       2.52270650e+03, 3.23756727e+05, 2.52549050e+03, 3.63297970e+05,\n",
       "       2.52075900e+03, 3.63220933e+05, 2.52193250e+03, 3.63332160e+05,\n",
       "       2.52238500e+03, 3.63373376e+05, 2.52216550e+03, 3.63333820e+05,\n",
       "       3.77290950e+03, 3.63216485e+05, 2.52296850e+03, 3.63246472e+05,\n",
       "       2.52498450e+03, 3.63303476e+05, 2.52138300e+03, 3.63379108e+05,\n",
       "       2.51956400e+03, 1.14883840e+04, 2.52393650e+03, 3.23721250e+05,\n",
       "       2.52186100e+03, 3.63394103e+05, 2.52314350e+03, 3.63273366e+05,\n",
       "       2.52324450e+03, 3.63400961e+05, 2.52310300e+03, 3.63389124e+05,\n",
       "       2.52348950e+03, 3.63343332e+05, 1.66694700e+00, 1.02536300e+00,\n",
       "       8.50892000e-01, 1.62838000e+00, 1.21657600e+00, 2.44101660e+01,\n",
       "       5.20322500e+02, 4.01700510e+01, 3.63341560e+05, 3.63312160e+05,\n",
       "       3.63276683e+05, 1.14888730e+04, 3.63285358e+05, 4.26667159e+05,\n",
       "       6.52254349e+03, 1.42253775e+04, 2.74259066e+04, 6.89935545e+03,\n",
       "       1.32417086e+04, 3.16500348e+04, 6.53635484e+03, 1.26678068e+04,\n",
       "       3.02767957e+04, 1.32835563e+04, 6.50765779e+03, 3.14062324e+04,\n",
       "       1.26024763e+04, 6.56453874e+03, 3.22919470e+04, 1.34294575e+04,\n",
       "       6.66171545e+03, 3.25745659e+04, 2.07635266e+04, 2.24051606e+04,\n",
       "       2.95753194e+04, 2.29072526e+04, 2.07235828e+04, 3.51126064e+04,\n",
       "       2.29100636e+04, 2.37575119e+04, 3.31034532e+04, 1.96728713e+04,\n",
       "       2.10718465e+04, 3.26228333e+04, 2.27579430e+04, 2.08607684e+04,\n",
       "       3.52712663e+04, 2.22118610e+04, 1.98435028e+04, 3.31263767e+04,\n",
       "       2.28180598e+04, 2.02263898e+04, 3.06508134e+04, 2.00212170e+04,\n",
       "       1.66942252e+04, 3.02991544e+04, 1.40562302e+04, 1.09613340e+04,\n",
       "       2.71886440e+04, 2.12560857e+04, 2.49675193e+03, 2.98930445e+04,\n",
       "       2.07438138e+04, 7.25324237e+03, 3.61935049e+04, 2.10992641e+04,\n",
       "       1.43658929e+04, 3.40812091e+04, 2.05178857e+04, 1.43940241e+04,\n",
       "       3.50621775e+04, 2.02231083e+04, 1.39979969e+04, 3.06970203e+04,\n",
       "       1.35641891e+04, 1.88991984e+04, 3.06844962e+04, 1.39639879e+04,\n",
       "       2.08084973e+04, 3.00645877e+04, 1.43767523e+04, 2.21556988e+04,\n",
       "       3.15318386e+04, 1.42733948e+04, 1.88065911e+04, 2.95472999e+04,\n",
       "       1.43914348e+04, 2.28051946e+04, 3.17065321e+04, 1.40439226e+04,\n",
       "       2.07521010e+04, 2.96843612e+04, 1.39448715e+04, 1.93211267e+04,\n",
       "       3.03157125e+04, 1.36389443e+04, 2.08754927e+04, 3.04837666e+04,\n",
       "       1.45339765e+04, 2.16660144e+04, 3.60368003e+04, 1.40333356e+04,\n",
       "       2.10742162e+04, 3.13263169e+04, 1.46010867e+04, 2.13331932e+04,\n",
       "       2.52758550e+04, 1.39445157e+04, 2.11182994e+04, 2.75471904e+04,\n",
       "       1.37150255e+04, 2.19390088e+04, 3.38564488e+04, 1.48179347e+04,\n",
       "       1.92086674e+04, 2.95532496e+04, 1.42464100e+04, 2.35798362e+04,\n",
       "       2.97184406e+04, 1.48014990e+04, 2.11862070e+04, 3.39619018e+04,\n",
       "       1.48474437e+04, 2.32853431e+04, 3.21287943e+04, 1.44433395e+04,\n",
       "       2.36944958e+04, 3.18996288e+04, 1.36207745e+04, 1.86906794e+04,\n",
       "       2.58088284e+04, 1.48293022e+04, 2.17494106e+04, 3.01603410e+04,\n",
       "       1.47544149e+04, 2.02934459e+04, 2.98368915e+04, 1.49497632e+04,\n",
       "       2.20505301e+04, 3.12953567e+04, 1.43724728e+04, 1.97919596e+04,\n",
       "       2.94822421e+04, 1.43218052e+04, 2.27997578e+04, 3.13919760e+04,\n",
       "       1.33608687e+04, 1.78732192e+04, 2.71502382e+04, 1.46863876e+04,\n",
       "       2.23569224e+04, 3.13941885e+04, 1.40331770e+04, 2.10721268e+04,\n",
       "       3.18041452e+04, 1.43988062e+04, 2.23487693e+04, 3.17049178e+04,\n",
       "       1.46462815e+04, 2.10280149e+04, 2.88603711e+04, 1.39988698e+04,\n",
       "       2.23992251e+04, 3.18150950e+04, 1.35884958e+04, 1.76645063e+04,\n",
       "       2.42732808e+04, 1.42035416e+04, 2.20496703e+04, 3.22307875e+04,\n",
       "       1.44549233e+04, 1.96141720e+04, 2.78973280e+04, 1.45136849e+04,\n",
       "       2.23648923e+04, 3.28281202e+04, 1.47425108e+04, 1.99784961e+04,\n",
       "       2.84807225e+04, 1.41490735e+04, 2.25646532e+04, 3.49545695e+04,\n",
       "       1.38529462e+04, 1.82624055e+04, 2.62547565e+04, 1.38847150e+04,\n",
       "       2.37159485e+04, 3.36047896e+04, 1.35916681e+04, 2.05795684e+04,\n",
       "       2.96270698e+04, 1.43911801e+04, 2.37590220e+04, 3.38552761e+04,\n",
       "       1.45787976e+04, 2.23386356e+04, 3.08052201e+04, 1.45701781e+04,\n",
       "       2.22396153e+04, 3.20492261e+04, 1.28878716e+04, 1.95636004e+04,\n",
       "       2.67295503e+04, 1.44096456e+04, 2.26998425e+04, 3.30221709e+04,\n",
       "       1.38482485e+04, 3.04392778e+04, 2.25311871e+04, 2.89657911e+04,\n",
       "       1.66446765e+04, 2.87576145e+04, 1.81559585e+04, 1.85878840e+04,\n",
       "       3.41351714e+04, 3.63002762e+03, 1.98209586e+04, 3.21419217e+04,\n",
       "       3.81110133e+03, 1.95424327e+04, 2.93410748e+04, 1.23368554e+04,\n",
       "       2.04193030e+04, 2.90589353e+04, 1.53823241e+04, 2.11590843e+04,\n",
       "       3.02184087e+04, 1.64841937e+04, 2.02826921e+04, 2.91800457e+04,\n",
       "       1.59642459e+04, 2.17492346e+04, 3.10909148e+04, 1.63380836e+04,\n",
       "       2.06140277e+04, 2.80063291e+04, 1.48573090e+04, 2.06741750e+04,\n",
       "       3.01929037e+04, 1.63191413e+04, 2.09792359e+04, 3.03704310e+04,\n",
       "       1.58177952e+04, 2.28786813e+04, 3.17485562e+04, 1.69038342e+04,\n",
       "       2.07147156e+04, 2.78423762e+04, 1.61855717e+04, 2.29662380e+04,\n",
       "       3.54955771e+04, 1.57825385e+04, 2.06504111e+04, 2.77334242e+04,\n",
       "       1.73438103e+04, 1.28110832e+04, 3.02909505e+04, 6.92140218e+03,\n",
       "       1.32700286e+04, 2.83811128e+04, 6.71944359e+03, 1.71755072e+04,\n",
       "       3.26387547e+04, 7.13356689e+03, 2.06891557e+04, 3.03668553e+04,\n",
       "       2.46795203e+04, 2.33054428e+04, 3.42029837e+04, 2.20489399e+04,\n",
       "       2.12889635e+04, 2.83872240e+04, 1.78040171e+04, 2.13253315e+04,\n",
       "       3.19413412e+04, 2.08932811e+04, 2.19965442e+04, 3.05191198e+04,\n",
       "       2.22088841e+04, 2.13683051e+04, 3.08742664e+04, 2.25732905e+04,\n",
       "       2.22110800e+04, 3.03860018e+04, 1.56732947e+04, 3.00967469e+04,\n",
       "       2.15982631e+04, 2.36137461e+04, 2.55453524e+04, 1.85168026e+04,\n",
       "       2.33604479e+04, 3.08653494e+04, 1.46811742e+04, 2.65018315e+04,\n",
       "       2.91492082e+04, 2.16170037e+04, 3.07083457e+04, 2.43508175e+04,\n",
       "       1.24320909e+04, 3.51098645e+04, 2.73404922e+03, 2.55616759e+03,\n",
       "       2.84245179e+04, 3.67578392e+03, 3.65142110e+03, 3.17924546e+04,\n",
       "       9.64984304e+03, 7.75744154e+03, 2.80077448e+04, 2.07778844e+03,\n",
       "       1.68271205e+03, 3.14830869e+04, 2.96035131e+03, 2.46544247e+03,\n",
       "       2.89975667e+04, 1.17007764e+04, 2.04459440e+04, 3.16146517e+04,\n",
       "       2.83755026e+03, 2.59468687e+03, 2.84019045e+04, 2.45341041e+04,\n",
       "       1.92134812e+04, 3.19984443e+04, 1.86009739e+04, 1.78277521e+04,\n",
       "       2.46727458e+04, 2.02174987e+04, 2.24595785e+04, 3.31088183e+04,\n",
       "       1.75639838e+04, 1.97412103e+04, 2.85165350e+04, 2.26844273e+04,\n",
       "       2.22253594e+04, 3.33582563e+04, 2.22880153e+04, 2.13404349e+04,\n",
       "       2.82069176e+04, 1.82147033e+04, 2.31742721e+04, 3.37710480e+04,\n",
       "       9.86002521e+03, 1.17932220e+04, 2.63850896e+04, 6.25474826e+03,\n",
       "       7.96778805e+03, 3.78641962e+04, 3.00372206e+03, 7.14561147e+03,\n",
       "       3.06068229e+04, 4.83453397e+03, 5.77053978e+03, 3.52435511e+04,\n",
       "       4.78537759e+03, 5.96812290e+03, 2.90907261e+04, 4.72181790e+03,\n",
       "       5.57395507e+03, 3.22704884e+04, 4.74698061e+03, 5.84060780e+03,\n",
       "       2.76336513e+04, 5.06770886e+03, 5.56769042e+03, 3.20430937e+04,\n",
       "       5.18301831e+03, 6.10264518e+03, 3.12312744e+04, 5.14232107e+03,\n",
       "       5.67467350e+03, 2.98096746e+04, 5.05276696e+03, 6.06243311e+03,\n",
       "       3.19226152e+04, 4.99288266e+03, 5.81032628e+03, 3.05292908e+04,\n",
       "       5.13895766e+03, 7.72689624e+03, 2.80989037e+04, 4.94865986e+03,\n",
       "       5.05864721e+03, 3.12944090e+04, 4.93061962e+03, 7.30118234e+03,\n",
       "       3.00118259e+04, 5.08958445e+03, 5.35423633e+03, 2.90056129e+04,\n",
       "       4.87572644e+03, 8.28227628e+03, 3.25518398e+04, 4.86765413e+03,\n",
       "       5.02039997e+03, 3.10031736e+04, 4.89669673e+03, 5.76504817e+03,\n",
       "       3.00607206e+04, 4.93493717e+03, 7.66062939e+03, 2.93384911e+04,\n",
       "       4.92467994e+03, 5.58055539e+03, 3.26433215e+04, 5.00355861e+03,\n",
       "       6.02991525e+03, 2.78698840e+04, 4.98563137e+03, 5.86972277e+03,\n",
       "       3.28788809e+04, 4.95863188e+03, 6.32792449e+03, 2.83032556e+04,\n",
       "       4.88580980e+03, 8.19379931e+03, 3.02033314e+04, 4.94574895e+03,\n",
       "       5.80095330e+03, 2.90808839e+04, 5.06832805e+03, 5.63911265e+03,\n",
       "       3.41407295e+04, 5.09994515e+03, 5.77681687e+03, 3.14432412e+04,\n",
       "       5.17593149e+03, 5.73548499e+03, 3.49102466e+04, 5.02647853e+03,\n",
       "       5.81856328e+03, 3.16139449e+04, 5.06122830e+03, 5.93189409e+03,\n",
       "       2.90670774e+04, 5.09629761e+03, 5.68614318e+03, 3.52123980e+04,\n",
       "       5.15977138e+03, 6.10875053e+03, 3.38948749e+04, 5.19643832e+03,\n",
       "       5.75148612e+03, 3.07755487e+04, 5.29151121e+03, 7.16817163e+03,\n",
       "       3.39781451e+04, 5.27369439e+03, 7.62340162e+03, 3.19318866e+04,\n",
       "       5.18602423e+03, 5.68859629e+03, 2.77303486e+04, 5.32325135e+03,\n",
       "       6.12827335e+03, 3.20247910e+04, 5.27860118e+03, 5.60498665e+03,\n",
       "       2.97741603e+04, 5.46532276e+03, 6.12379994e+03, 3.07153386e+04,\n",
       "       5.38068625e+03, 5.93971996e+03, 2.88351166e+04, 5.45433830e+03,\n",
       "       5.89998027e+03, 3.11680210e+04, 5.34099082e+03, 5.54481778e+03,\n",
       "       2.74914324e+04, 5.48575013e+03, 6.09974572e+03, 3.55669059e+04,\n",
       "       5.46097400e+03, 6.13018189e+03, 2.95409574e+04, 5.63851565e+03,\n",
       "       6.53215044e+03, 3.24445812e+04, 5.53441026e+03, 8.06321161e+03,\n",
       "       2.78436260e+04, 5.60921071e+03, 5.85061249e+03, 3.24170380e+04,\n",
       "       5.46225996e+03, 6.47294759e+03, 2.48711566e+04, 5.55961551e+03,\n",
       "       6.42030466e+03, 3.51756352e+04, 5.69099802e+03, 6.88100083e+03,\n",
       "       3.14684625e+04, 5.72045595e+03, 6.49223815e+03, 3.17079616e+04,\n",
       "       5.88475866e+03, 6.76058642e+03, 3.18741067e+04, 5.75099766e+03,\n",
       "       6.94878490e+03, 3.24734941e+04, 5.69849300e+03, 6.56586342e+03,\n",
       "       3.00144015e+04, 1.23411127e+04, 1.13432227e+04, 3.34631072e+04,\n",
       "       1.37122007e+04, 2.09194709e+04, 3.46791880e+04, 6.98089714e+03,\n",
       "       4.66339985e+03, 3.00896640e+04, 7.68926399e+03, 1.40174886e+03,\n",
       "       3.22259448e+04, 6.80413420e+03, 4.02393904e+03, 3.20853920e+04,\n",
       "       6.33193359e+03, 6.15974619e+03, 2.91766525e+04, 7.03950827e+03,\n",
       "       6.93415053e+03, 3.45236263e+04, 6.27254399e+03, 6.98799582e+03,\n",
       "       3.34044325e+04, 7.32426931e+03, 6.64298999e+03, 3.36554685e+04,\n",
       "       1.15978420e+04, 7.19777118e+03, 3.26962943e+04, 7.01367274e+03,\n",
       "       7.31802675e+03, 3.11759749e+04, 1.06261176e+04, 7.35806522e+03,\n",
       "       2.90509080e+04, 6.73231694e+03, 7.53790450e+03, 3.08806373e+04,\n",
       "       6.95123195e+03, 7.63488408e+03, 3.19003874e+04, 6.87822787e+03,\n",
       "       7.74032138e+03, 2.84482322e+04, 6.72414102e+03, 7.65406796e+03,\n",
       "       3.14620191e+04, 1.39225316e+04, 9.32699431e+03, 2.74886700e+04,\n",
       "       2.97048230e+03, 3.13005078e+03, 3.12910368e+04, 1.98953136e+04,\n",
       "       3.15893322e+04, 3.01333797e+04, 1.30101731e+04, 2.33784046e+04,\n",
       "       3.70637183e+04, 2.85882631e+03, 2.95561576e+03, 3.37628625e+04,\n",
       "       3.02699714e+03, 3.39767238e+03, 3.63252934e+04, 2.14534794e+04,\n",
       "       2.31349686e+04, 3.04713092e+04, 2.15081012e+04, 2.21887921e+04,\n",
       "       3.05026444e+04, 2.21982985e+04, 2.20337942e+04, 3.07578764e+04,\n",
       "       2.10471078e+04, 2.05745050e+04, 3.10093034e+04, 2.07578054e+04,\n",
       "       1.86056556e+04, 3.29932319e+04, 2.33151623e+04, 2.07619667e+04,\n",
       "       3.14628121e+04, 1.68099953e+04, 1.22273914e+04, 2.63307342e+04,\n",
       "       1.11458202e+04, 1.88318504e+04, 3.03905093e+04, 2.73881410e+04,\n",
       "       2.00665009e+04, 3.11975137e+04, 3.08605860e+04, 2.12242604e+04,\n",
       "       3.31809730e+04, 2.97075269e+04, 2.08371791e+04, 2.96253026e+04,\n",
       "       3.13181674e+04, 1.49476948e+04, 2.77277892e+04, 8.49870004e+04,\n",
       "       2.14051114e+02, 2.51868084e+02, 1.19797891e+02, 1.55176397e+02,\n",
       "       9.60564250e+01, 1.67004593e+02, 1.21254569e+03, 6.93740900e+00,\n",
       "       6.67406000e+00, 6.93735300e+00, 6.71235600e+00, 7.11948600e+00,\n",
       "       8.49888574e+04, 1.67661043e+02, 2.85168651e+02, 1.78633747e+02,\n",
       "       2.29445832e+02, 1.50830986e+02, 5.92819320e+01, 1.55711366e+03])"
      ]
     },
     "metadata": {},
     "output_type": "display_data"
    },
    {
     "data": {
      "text/plain": [
       "'SrcJitAct'"
      ]
     },
     "metadata": {},
     "output_type": "display_data"
    },
    {
     "data": {
      "text/plain": [
       "array([           nan, 7.57258600e+00, 8.22098400e+00, 0.00000000e+00,\n",
       "       2.13722100e+03, 4.03341975e+03, 4.03890531e+02, 7.08337800e+00,\n",
       "       1.52367413e+03, 1.25065900e+03, 4.38658469e+02, 6.63418100e+00,\n",
       "       6.34102562e+02, 7.04740800e+00, 3.70990200e+00, 7.30196400e+00,\n",
       "       2.91325000e+01, 7.67337100e+00, 2.13519425e+03, 4.03550900e+03,\n",
       "       1.41769837e+03, 2.38279125e+03, 8.68575687e+02, 3.08393000e+00,\n",
       "       6.36309125e+02, 4.75507300e+00, 3.41046500e+00, 1.24155000e+01,\n",
       "       4.71637000e-01, 7.61781100e+00, 2.63883000e-01, 1.71105000e-01,\n",
       "       2.45526000e-01, 1.93887000e-01, 3.32260000e-02, 1.42284000e-01,\n",
       "       1.84534000e-01, 8.32310000e-02, 2.56903000e-01, 1.80803000e-01,\n",
       "       1.99463000e-01, 9.62720000e-02, 3.14579000e-01, 2.41236000e-01,\n",
       "       2.59020000e-02, 1.56309000e-01, 1.12419000e-01, 1.42954000e-01,\n",
       "       1.09428000e-01, 7.14420000e-02, 4.51013000e-01, 7.64350000e-02,\n",
       "       1.37535000e-01, 1.63146000e-01, 5.01571000e-01, 8.28490000e-02,\n",
       "       1.40385000e-01, 1.53527000e-01, 5.97310000e-02, 1.29187000e-01,\n",
       "       1.39924000e-01, 1.03450000e-01, 1.16904000e-01, 1.10700000e-01,\n",
       "       9.15848400e+00, 1.11088000e-01, 1.18077000e-01, 2.22135000e-01,\n",
       "       2.20000000e-02, 7.30585000e-01, 1.57261000e-01, 5.77333000e-01,\n",
       "       7.51520000e-02, 1.24642000e-01, 1.90459000e-01, 1.41000000e-01,\n",
       "       1.00030000e-01, 9.57350000e-02, 2.06247000e-01, 1.12259000e-01,\n",
       "       8.44160000e-02, 8.23460000e-02, 1.64754000e-01, 2.40499000e-01,\n",
       "       1.44076000e-01, 6.49929000e-01, 1.96428000e-01, 2.61248000e-01,\n",
       "       1.62867000e-01, 1.31616000e-01, 2.90000000e-02, 1.29577000e-01,\n",
       "       1.52943000e-01, 2.45465000e-01, 1.16352000e-01, 7.14970000e-02,\n",
       "       1.33866000e-01, 7.05050000e-02, 1.33071000e-01, 5.90000000e-02,\n",
       "       1.72516000e-01, 2.41472000e-01, 1.01459000e-01, 4.26670000e-02,\n",
       "       3.86010000e-02, 4.09842000e-01, 2.30413000e-01, 1.07599000e-01,\n",
       "       1.50341000e-01, 1.40498000e-01, 7.47460000e-02, 7.01780000e-02,\n",
       "       1.16785540e+01, 6.28160000e-02, 7.08680000e-02, 1.75984000e-01,\n",
       "       1.45985000e-01, 6.04240000e-02, 1.40951000e-01, 3.21710000e-02,\n",
       "       7.93930000e-02, 9.24770000e-02, 7.31580000e-01, 2.59140000e-01,\n",
       "       1.72499000e-01, 9.62160000e-02, 9.06150000e-02, 1.43703000e-01,\n",
       "       3.32278000e-01, 1.02201000e-01, 6.71620000e-02, 9.12550000e-02,\n",
       "       2.25321000e-01, 1.30169000e-01, 7.64357000e-01, 4.90120000e-01,\n",
       "       1.26394000e-01, 1.79919000e-01, 4.24940000e-02, 1.87969000e-01,\n",
       "       2.35707000e-01, 1.17273000e-01, 1.40104000e-01, 2.66169000e-01,\n",
       "       1.00373000e-01, 2.69926000e-01, 1.13331000e-01, 1.90137000e-01,\n",
       "       4.14940000e-02, 9.53900000e-02, 2.95084000e-01, 1.61318000e-01,\n",
       "       1.75937000e-01, 1.46467000e-01, 4.20000000e-02, 1.51865000e-01,\n",
       "       3.38478000e-01, 7.52960000e-02, 1.64076000e-01, 4.16639000e-01,\n",
       "       1.81144000e-01, 3.74603000e-01, 2.22751000e-01, 4.70780000e-01,\n",
       "       1.12487000e-01, 2.13116000e-01, 1.73819000e-01, 1.61631000e-01,\n",
       "       1.27985000e-01, 5.45400000e-03, 7.24530000e-02, 1.65651000e-01,\n",
       "       8.84850000e-02, 5.11790000e-02, 7.50860000e-02, 2.69878000e-01,\n",
       "       3.98088800e+00, 4.70624000e-01, 7.32990000e-02, 7.01000000e-02,\n",
       "       1.95316000e-01, 1.03496000e-01, 1.42607000e-01, 2.93563000e-01,\n",
       "       2.40802000e-01, 9.08300000e-02, 1.01832000e-01, 6.03150000e-02,\n",
       "       2.15858000e-01, 1.06845000e-01, 3.59741000e-01, 1.44965000e-01,\n",
       "       1.62272000e-01, 7.16860000e-02, 1.46576000e-01, 1.89976000e-01,\n",
       "       1.12035690e+01, 7.70470000e-02, 4.33214000e-01, 2.21911000e-01,\n",
       "       2.93871000e-01, 9.43855000e-01, 9.30100000e-02, 9.78078700e+00,\n",
       "       6.34648000e-01, 9.72410000e-02, 7.50020000e-02, 1.58672000e-01,\n",
       "       1.33941000e-01, 8.26590000e-02, 9.97730000e-02, 1.14780000e-02,\n",
       "       9.23080000e-02, 2.43918000e-01, 1.49405000e-01, 2.70365000e-01,\n",
       "       4.00669000e-01, 2.26792000e-01, 6.54029000e-01, 2.10765000e-01,\n",
       "       2.07642000e-01, 3.29358000e-01, 5.96030000e-02, 1.06471000e-01,\n",
       "       1.78200000e-01, 1.31237000e-01, 5.76095000e-01, 6.64352000e-01,\n",
       "       1.03619000e-01, 4.92950000e-02, 1.77620000e-01, 1.19550400e+00,\n",
       "       1.44211000e-01, 5.43242000e-01, 9.51310000e+00, 7.37430000e-02,\n",
       "       4.35995000e-01, 1.29275000e-01, 3.94427000e-01, 1.84874000e-01,\n",
       "       2.28807000e-01, 1.34810000e-02, 8.87620000e-02, 3.24150000e-02,\n",
       "       9.27260000e-02, 1.26663000e-01, 1.92896000e-01, 1.34813000e-01,\n",
       "       4.10969000e-01, 2.26684000e-01, 1.58689000e-01, 2.30731000e-01,\n",
       "       2.35000000e-01, 1.19688000e-01, 2.81378000e-01, 2.06984000e-01,\n",
       "       1.28047000e-01, 1.19877000e-01, 1.68502000e-01, 7.06510000e-02,\n",
       "       1.10443180e+01, 1.03292000e-01, 3.03000000e-01, 1.35742000e-01,\n",
       "       2.05262000e-01, 5.15328000e-01, 1.09366000e-01, 6.01310000e-02,\n",
       "       1.77152000e-01, 2.72467900e+00, 2.07011000e-01, 5.36847000e-01,\n",
       "       1.69052000e-01, 4.44810000e-02, 5.76900000e-01, 1.71929000e-01,\n",
       "       1.84000000e-01, 2.20738000e-01, 2.10003400e+00, 8.33730000e-02,\n",
       "       3.04026000e-01, 3.77590000e-01, 3.20769000e-01, 3.66945000e-01,\n",
       "       5.19213000e-01, 1.38769000e-01, 9.68810000e-02, 3.92127000e-01,\n",
       "       2.04988000e-01, 1.14373000e-01, 1.21196000e-01, 1.34532000e-01,\n",
       "       1.11918000e-01, 7.31570000e-02, 1.24471000e-01, 1.52649000e-01,\n",
       "       7.46700000e-03, 8.03510000e-02, 1.54840000e-02, 1.80000000e-02,\n",
       "       1.28457000e-01, 2.00600000e-01, 1.63118000e-01, 1.36714000e-01,\n",
       "       7.97860000e-02, 7.09224000e-01, 2.27585000e-01, 3.75156600e+00,\n",
       "       6.28750000e-02, 7.75667000e-01, 1.29008000e-01, 2.31011000e-01,\n",
       "       5.56830000e-02, 1.33233700e+00, 4.78930000e-02, 4.44940000e-02,\n",
       "       6.79720000e-02, 1.20897000e-01, 6.97690000e-02, 1.04089000e-01,\n",
       "       1.72055000e-01, 5.84620000e-02, 8.26460000e-02, 9.46580000e-02,\n",
       "       1.51136000e-01, 5.28787000e-01, 1.01727000e-01, 9.64700000e-02,\n",
       "       9.74830000e-02, 1.70135000e-01, 8.04190000e-02, 6.87580000e-02,\n",
       "       8.55910000e-02, 1.50147000e-01, 1.95853000e-01, 9.47400000e-03,\n",
       "       1.55997000e-01, 2.05819000e-01, 8.99620000e-02, 8.23780000e-02,\n",
       "       9.29430000e-02, 5.26850000e-02, 9.30680000e-01, 9.15620000e-02,\n",
       "       8.85310000e-02, 7.02880000e-02, 1.63205000e-01, 2.07219000e-01,\n",
       "       1.07406000e-01, 5.44867000e+00, 1.12423000e-01, 1.95099000e-01,\n",
       "       6.59370000e-02, 1.24743000e-01, 7.84900000e-02, 1.60718000e-01,\n",
       "       8.38210000e-02, 9.47390000e-02, 9.09580000e-02, 2.10671000e-01,\n",
       "       1.77477000e-01, 1.25068000e-01, 3.84680000e-02, 2.53264000e-01,\n",
       "       4.31220000e-01, 1.75482000e-01, 9.73890000e-02, 1.45514000e-01,\n",
       "       1.90188000e-01, 1.73762000e-01, 1.40823000e-01, 1.18436000e-01,\n",
       "       1.05151000e-01, 6.98430000e-02, 3.53717000e-01, 1.08523000e-01,\n",
       "       4.99000000e-02, 8.00000000e-02, 9.73500000e-02, 1.13685000e-01,\n",
       "       1.66466000e-01, 1.20039000e-01, 1.20333000e-01, 9.44070000e-02,\n",
       "       9.44350000e-02, 1.27392000e-01, 1.01199000e-01, 8.00880000e-02,\n",
       "       1.08996000e-01, 6.25650000e-02, 1.21756000e-01, 6.98990000e-02,\n",
       "       1.24533000e-01, 1.69845000e+00, 1.22955000e-01, 1.18056000e-01,\n",
       "       1.94085000e-01, 1.00960000e-01, 6.82150400e+00, 1.58843000e-01,\n",
       "       8.90020000e-02, 1.24326000e-01, 4.44400000e-03, 4.17649000e-01,\n",
       "       8.07400000e-02, 6.21820000e-02, 7.93600000e-02, 9.25770000e-02,\n",
       "       7.53610000e-02, 7.44950000e-02, 1.54730200e+00, 1.07767000e-01,\n",
       "       4.06781000e-01, 8.68950000e-02, 1.09040000e-01, 5.21330000e-02,\n",
       "       3.87665000e-01, 7.95490000e-02, 1.85668000e-01, 5.58485500e+00,\n",
       "       7.42260000e-02, 1.85818000e-01, 7.21350000e-02, 1.20313000e-01,\n",
       "       9.35900000e-02, 1.15646000e-01, 7.65640000e-02, 1.06132900e+00,\n",
       "       8.45650000e-02, 1.64387000e-01, 1.21120000e-01, 1.69060000e-01,\n",
       "       5.16114500e+00, 5.37300000e-02, 1.51343000e-01, 6.10410000e-02,\n",
       "       1.66079600e+00, 3.88516000e-01, 5.96600000e-02, 1.04017000e-01,\n",
       "       4.92350000e-02, 2.58070000e-02, 7.71880000e-02, 1.19485600e+00,\n",
       "       7.65020000e-02, 1.91898000e-01, 1.30411000e-01, 8.90590000e-02,\n",
       "       3.28920000e-01, 7.19840000e-02, 1.99528000e-01, 1.09325200e+00,\n",
       "       2.34763000e-01, 3.65344000e-01, 5.00000000e-02, 7.60360000e-02,\n",
       "       1.45845000e-01, 1.50737000e-01, 1.74884000e-01, 9.34710000e-02,\n",
       "       6.61509400e+00, 6.28360000e-02, 4.57664300e+00, 7.52015000e-01,\n",
       "       7.91480000e-02, 1.34612000e+00, 6.96190000e-02, 2.47795000e-01,\n",
       "       4.14736000e-01, 1.05825000e-01, 2.82827000e-01, 5.17265000e-01,\n",
       "       9.05600000e-02, 7.64410000e-02, 7.45010000e-02, 9.29940000e-02,\n",
       "       1.29585600e+00, 7.98370000e-02, 1.22107000e-01, 9.67570000e-02,\n",
       "       2.76799000e-01, 1.06341000e-01, 4.00619000e-01, 2.24482000e-01,\n",
       "       2.28804000e-01, 9.01770000e-02, 7.14197300e+00, 8.50524700e+00,\n",
       "       9.46970000e-02, 3.14932000e-01, 1.28881000e-01, 4.17130000e-02,\n",
       "       2.94068000e-01, 2.93482000e-01, 3.20652000e-01, 5.87280000e-02,\n",
       "       6.41172000e-01, 5.02442500e+00, 1.28851000e-01, 1.73038000e-01,\n",
       "       2.35023000e-01, 2.18233000e-01, 2.62421000e-01, 1.21693000e-01,\n",
       "       8.11420000e-02, 1.35194000e-01, 3.19232000e-01, 3.80710000e-01,\n",
       "       4.82421000e-01, 9.99260000e-02, 2.27078000e-01, 1.54835000e-01,\n",
       "       4.90000000e-02, 6.76406700e+00, 6.99339000e-01, 2.39454000e-01,\n",
       "       2.36666000e-01, 3.10549000e-01, 6.66290000e-02, 3.11448000e-01,\n",
       "       4.87591000e-01, 7.56250000e-02, 1.07638000e-01, 1.27186000e-01,\n",
       "       7.84000000e-02, 1.00742000e-01, 8.24470000e-02, 4.40127000e-01,\n",
       "       2.44219000e-01, 5.02780000e-02, 8.46470000e-02, 2.48289000e-01,\n",
       "       1.64058000e-01, 7.11430000e-02, 1.08579000e-01, 8.51350000e-02,\n",
       "       1.03019000e-01, 5.60556000e-01, 2.77208000e-01, 8.10660000e-02,\n",
       "       5.25009900e+00, 9.77510000e-02, 3.49711000e-01, 1.20000000e-02,\n",
       "       4.21260000e-02, 1.87302000e-01, 1.71940000e-01, 2.55528000e-01,\n",
       "       4.00272000e-01, 8.60960000e-02, 8.14970000e-02, 2.28931000e-01,\n",
       "       9.50000000e-02, 7.62322400e+03, 1.08885000e+03, 9.12000000e-01,\n",
       "       2.59757656e+02, 1.44762660e+04, 6.01146350e+03, 1.30630800e+00,\n",
       "       6.99363900e+03, 1.05602125e+03, 1.08103813e+03, 5.68352800e+03,\n",
       "       5.69246437e+02, 3.42266062e+02, 3.69212000e-01, 1.54925600e+00,\n",
       "       6.48850000e+00, 2.65222469e+02, 5.83695700e+03, 3.16798800e+00,\n",
       "       8.10000000e-01, 3.52993300e+00, 1.11100000e+00, 7.46000000e-01,\n",
       "       8.13000000e-01, 3.46673600e+00, 1.91000000e+00, 2.29824100e+00,\n",
       "       4.00623000e+02, 4.00195000e+02, 4.42136400e+00, 3.48142400e+00,\n",
       "       2.24000000e-01, 3.51213300e+00, 5.16000000e-01, 7.43000000e-01,\n",
       "       3.93600000e+00, 1.50300000e+00, 3.46601700e+00, 7.74306500e+00,\n",
       "       3.99896969e+02, 3.99630969e+02, 3.47784800e+00, 1.60171875e+03,\n",
       "       8.64927000e-01, 4.05616000e-01, 4.21321700e+00, 3.81064100e+00,\n",
       "       1.67600000e+00, 3.53253700e+00, 3.60106200e+00, 3.95906300e+00,\n",
       "       1.97300000e+00, 4.24399600e+00, 3.47102300e+00, 5.60000000e-01,\n",
       "       5.74000000e-01, 8.03000000e-01, 1.20053000e+00, 5.60387900e+03,\n",
       "       6.00234000e+03, 6.00256400e+03, 6.00358400e+03, 1.76600000e+00,\n",
       "       6.01000000e-01, 5.85000000e-01, 4.32000000e-01, 6.00000000e-02,\n",
       "       1.58000000e-01, 5.48000000e-01, 3.51934100e+00, 1.48188700e+00,\n",
       "       1.07600000e+00, 3.64793500e+00, 3.12300000e+00, 9.91000000e-01,\n",
       "       1.15900000e+00, 3.66414600e+00, 4.00699000e+02, 3.99545969e+02,\n",
       "       3.99573031e+02, 3.98376000e+02, 3.18006000e-01, 5.05598500e+00,\n",
       "       5.19146100e+00, 5.47000000e+00, 2.05600000e+00, 2.36600000e+00,\n",
       "       3.90986200e+00, 3.46887500e+00, 2.50000000e-02, 4.56500000e+00,\n",
       "       6.71235500e+00, 4.68000000e-01, 6.38000000e-01, 9.17000000e-01,\n",
       "       1.35100000e+00, 1.51910900e+00, 6.55823300e+00, 6.58000000e-01,\n",
       "       3.47291300e+00, 2.57000000e-01, 1.65000000e-01, 6.27015500e+00,\n",
       "       1.60320125e+03, 1.59862100e+03, 1.60385000e+03, 8.79000000e+00,\n",
       "       7.96269200e+00, 4.03067906e+02, 4.80351100e+03, 5.60612500e+03,\n",
       "       5.60755100e+03, 3.74537800e+00, 5.07300000e+00, 7.49862900e+00,\n",
       "       2.42200000e+00, 4.23362500e+00, 2.95268400e+00, 7.01480600e+00,\n",
       "       5.86000000e-01, 3.30400000e+00, 9.96257900e+00, 3.46649400e+00,\n",
       "       2.62000000e-01, 1.20600000e+00, 5.20307900e+00, 3.12858000e-01,\n",
       "       1.60808425e+03, 1.60316325e+03, 3.49931400e+00, 4.04984188e+02,\n",
       "       1.03945000e+01, 2.58478063e+02, 5.91707700e+00, 1.63212075e+03,\n",
       "       1.78871412e+03, 2.23125150e+03, 1.80641362e+03, 2.23552450e+03,\n",
       "       2.23642675e+03, 2.48121475e+03, 3.13046025e+03, 3.11658800e+03,\n",
       "       2.47319975e+03, 2.65061600e+03, 3.40355400e+03, 2.70071075e+03,\n",
       "       4.42133400e+03, 4.81715000e+01, 3.50920450e+03, 3.83362000e+03,\n",
       "       3.96370300e+03, 3.95800980e+01, 2.99520500e+03, 4.08192725e+03,\n",
       "       4.92884050e+03, 8.46555230e+01, 3.08734050e+03, 3.49795875e+03,\n",
       "       4.15372540e+01, 3.19973550e+03, 1.17116400e+03, 4.16845000e+01,\n",
       "       1.98748025e+03, 7.33916600e+00, 1.81923725e+03, 1.98150000e+03,\n",
       "       2.15317578e+02, 2.97359900e+00, 1.13788863e+03, 1.75093362e+03,\n",
       "       2.48600125e+03, 1.76577163e+03, 2.36652550e+03, 4.44732000e+02,\n",
       "       1.49775000e+02, 4.96646500e+02, 5.45556000e+02, 7.09216000e+02,\n",
       "       7.85395437e+02, 4.69832969e+02, 4.95776094e+02, 4.31814563e+02,\n",
       "       2.44983320e+01, 7.88870000e+02, 3.43864406e+02, 1.38816000e+02,\n",
       "       9.51762190e+01, 3.03557531e+02, 9.01205500e+00, 2.42946660e+01,\n",
       "       1.85431797e+02, 2.30000000e-02, 2.30554200e+00, 6.39500000e-01,\n",
       "       4.49499000e-01, 8.24318000e-01, 6.90442000e-01, 1.13950860e+01,\n",
       "       3.34000000e-01, 1.06874383e+02, 1.61640375e+02, 1.60318290e+01,\n",
       "       6.88590000e+01, 1.27794094e+02, 1.29234172e+02, 2.04103710e+01,\n",
       "       8.96425000e+01, 2.39458650e+03, 2.39508400e+03, 6.61993250e+03,\n",
       "       1.69857000e+00, 6.61044500e+03, 3.03030060e+01, 2.76583010e+01,\n",
       "       3.41255820e+01, 1.36425516e+02, 7.69320600e+03, 7.69237600e+03,\n",
       "       2.97535000e-01, 3.35436000e-01, 9.42276000e-01, 1.66653240e+01,\n",
       "       1.77349234e+02, 1.67425953e+02, 1.16319000e+02, 8.38133500e+03,\n",
       "       1.31852388e+03, 1.06051500e+00, 1.07300800e+00, 1.11983100e+00,\n",
       "       1.58500000e+00, 5.97500000e-01, 9.56410100e+00, 7.06000000e-01,\n",
       "       1.44600000e+00, 1.28950000e+00, 4.01532900e+00, 2.16600000e+00,\n",
       "       1.27000000e+00, 2.98200000e+00, 3.28858200e+01, 1.27581609e+02,\n",
       "       1.28980000e+02, 3.20473000e+02, 3.35700000e+00, 1.27679078e+02,\n",
       "       1.15300000e+00, 1.70800000e+00, 2.84000000e-01, 2.50350000e+00,\n",
       "       7.03500000e-01, 2.90499000e-01, 3.92499000e-01, 1.28000000e-01,\n",
       "       5.34500000e-01, 1.51498000e-01, 5.72000000e-01, 6.07500000e-01,\n",
       "       1.28900000e+00, 4.19000000e-01, 3.36499000e-01, 3.52499000e-01,\n",
       "       1.28389602e+02, 8.07000000e-01, 6.76500000e-01, 1.28189578e+02,\n",
       "       6.85000000e-01, 2.72500000e+00, 1.28394164e+02, 4.23499000e-01,\n",
       "       4.53468625e+02, 4.54147594e+02, 9.06792500e+02, 9.07312812e+02,\n",
       "       6.69000000e-01, 3.58335100e+00, 9.50370300e+03, 9.50557600e+03,\n",
       "       9.50641500e+03, 9.51090400e+03, 1.73502500e+00, 3.00002531e+02,\n",
       "       3.00113406e+02, 3.02069750e+02, 3.00275594e+02, 6.19600000e+00,\n",
       "       2.58047328e+02, 4.85148200e+00, 2.48450000e+00, 8.03255850e+03,\n",
       "       8.53251300e+03, 1.59280275e+03, 1.07905200e+00, 1.19140300e+00,\n",
       "       2.58370469e+02])"
      ]
     },
     "metadata": {},
     "output_type": "display_data"
    },
    {
     "data": {
      "text/plain": [
       "'DstJitAct'"
      ]
     },
     "metadata": {},
     "output_type": "display_data"
    },
    {
     "data": {
      "text/plain": [
       "array([          nan, 0.0000000e+00, 6.9743450e+00, 2.4817100e-01,\n",
       "       6.0274000e-02, 1.5566400e-01, 2.6832500e-01, 1.0827200e-01,\n",
       "       9.4302000e-02, 2.9840400e-01, 1.0166200e-01, 1.6071100e-01,\n",
       "       6.3678000e-02, 1.0740310e+00, 1.5921900e-01, 1.0588100e-01,\n",
       "       3.6839300e-01, 1.1267500e-01, 5.9747000e-02, 3.2189700e-01,\n",
       "       1.3341900e-01, 1.0857400e-01, 6.9165000e-02, 1.5250400e-01,\n",
       "       5.3397000e-02, 1.4000100e-01, 1.0425900e-01, 6.6249000e-02,\n",
       "       9.2185000e-02, 3.3705000e-02, 5.4786000e-02, 1.0219700e-01,\n",
       "       5.7883000e-02, 3.0054000e-02, 8.3390000e-02, 1.2367700e-01,\n",
       "       9.1257000e-02, 1.0977000e-01, 6.3077000e-02, 1.3738800e-01,\n",
       "       1.2552800e-01, 9.7749000e-02, 2.9030000e-02, 1.0035400e-01,\n",
       "       9.9361000e-02, 6.9855000e-02, 2.1544300e-01, 8.3711000e-02,\n",
       "       7.1655000e-02, 1.4274400e-01, 4.5375000e-02, 5.7813000e-02,\n",
       "       1.4098000e-01, 8.7155000e-02, 1.9560600e-01, 6.6114000e-02,\n",
       "       6.4240000e-02, 9.0893000e-02, 1.0837400e-01, 1.0069310e+00,\n",
       "       1.8363000e-01, 1.1722000e-01, 1.5138700e-01, 1.0808300e-01,\n",
       "       2.1476300e-01, 7.7124000e-02, 8.2414900e+00, 5.7506000e-02,\n",
       "       7.4142000e-02, 8.3492000e-02, 6.3459000e-02, 1.6935600e-01,\n",
       "       8.9308000e-02, 2.1170400e-01, 6.7391000e-02, 1.5471300e-01,\n",
       "       1.1018700e-01, 1.0529700e-01, 9.4948000e-02, 1.3027700e-01,\n",
       "       1.7597800e-01, 5.5504000e-02, 5.8654500e-01, 2.8377500e-01,\n",
       "       1.4054500e-01, 3.5393800e-01, 2.2148100e-01, 7.5126000e-02,\n",
       "       4.7456400e-01, 3.4699700e-01, 4.4475000e-02, 1.0219400e-01,\n",
       "       4.3894000e-02, 8.3848000e-02, 6.7844000e-02, 5.3971000e-02,\n",
       "       4.2945000e-02, 4.6636000e-02, 1.0015800e-01, 8.0847000e-02,\n",
       "       4.2546000e-02, 5.6249000e-02, 2.4315050e+00, 1.1390400e-01,\n",
       "       6.0634000e-02, 6.4444000e-02, 6.5790000e-02, 1.0352770e+00,\n",
       "       5.3660000e-02, 7.4586000e-02, 5.2776000e-02, 5.5378000e-02,\n",
       "       9.7475000e-02, 7.6544000e-02, 2.9770000e-02, 8.9900000e-02,\n",
       "       1.6248800e-01, 5.6646000e-02, 6.0621000e-02, 1.0933300e-01,\n",
       "       9.4304990e+00, 1.2016500e-01, 1.0211800e-01, 1.1359900e-01,\n",
       "       8.1989000e-02, 7.0218000e-02, 1.2532300e-01, 1.1588600e-01,\n",
       "       1.3704700e-01, 1.3704820e+00, 7.3662000e-02, 8.2568000e-02,\n",
       "       5.9873000e-02, 1.3175100e-01, 1.6166700e-01, 8.2138000e-02,\n",
       "       2.0746100e-01, 1.8439500e-01, 1.2135600e-01, 1.2052300e-01,\n",
       "       1.8251700e-01, 7.4896000e-02, 1.1260600e-01, 1.0925000e-01,\n",
       "       9.4843000e-02, 1.9263300e-01, 1.8728600e-01, 6.5737000e-02,\n",
       "       7.4534000e-02, 5.8939000e-02, 6.5502000e-02, 1.1958300e-01,\n",
       "       1.6700100e-01, 6.4943000e-02, 4.8864000e-02, 6.3916000e-02,\n",
       "       6.7794000e-02, 8.8271000e-02, 9.1572000e-02, 1.7184100e-01,\n",
       "       1.2435000e-01, 1.0380400e-01, 9.0770000e-02, 6.7483000e-02,\n",
       "       1.1018200e-01, 1.2028400e-01, 1.0778800e-01, 4.9961000e-02,\n",
       "       2.0470600e-01, 8.3687000e-02, 9.6098000e-02, 7.5322000e-02,\n",
       "       9.1358000e-02, 6.1044000e-02, 6.3224000e-02, 1.5878600e-01,\n",
       "       1.9287300e-01, 6.0747000e-02, 1.3486500e-01, 2.6764000e-02,\n",
       "       3.2904000e-02, 5.1097000e-02, 2.1180980e+00, 9.4126000e-02,\n",
       "       1.2506400e-01, 9.2534000e-02, 2.1429500e-01, 1.7637100e-01,\n",
       "       1.0596700e-01, 4.9291000e-02, 4.8468000e-02, 6.0923000e-02,\n",
       "       1.2476300e-01, 7.4016000e-02, 8.6860000e-02, 6.3620000e-02,\n",
       "       1.1205500e-01, 1.8954700e-01, 1.8445800e-01, 1.1303200e-01,\n",
       "       1.1484100e-01, 8.5018000e-02, 1.0410800e-01, 1.2326697e+01,\n",
       "       7.9583000e-02, 1.2224100e-01, 1.0430836e+01, 8.6791000e-02,\n",
       "       7.8509020e+00, 3.5930480e+00, 6.1643000e-02, 1.0702300e-01,\n",
       "       1.7359000e-01, 5.9383000e-02, 1.0266500e-01, 8.1345000e-02,\n",
       "       2.0205100e-01, 2.1218800e-01, 1.9872600e-01, 1.6103900e-01,\n",
       "       1.1102400e-01, 5.4810000e-02, 1.3537700e-01, 1.8501100e-01,\n",
       "       1.1130500e-01, 3.7162280e+00, 1.2153500e-01, 1.2445800e-01,\n",
       "       1.2452300e-01, 1.4628900e-01, 5.7351000e-02, 6.7725000e-02,\n",
       "       5.7064200e-01, 4.0791000e-02, 7.1911000e-02, 4.6634000e-02,\n",
       "       1.6067100e-01, 5.6141000e-02, 6.3993000e-02, 7.3768000e-02,\n",
       "       3.2167000e-02, 7.6060990e+00, 1.2958100e-01, 7.3268000e-02,\n",
       "       5.6497000e-02, 3.5534400e-01, 3.6528940e+00, 5.6013000e-02,\n",
       "       3.7429400e-01, 4.4922000e-02, 8.9798000e-02, 4.3986800e-01,\n",
       "       9.2029000e-02, 1.6480000e-01, 1.6459000e-01, 2.1444800e-01,\n",
       "       6.9770000e-02, 1.1540900e-01, 1.2743800e-01, 1.8131400e-01,\n",
       "       1.5782900e-01, 2.3408300e-01, 2.5100400e-01, 2.1895400e-01,\n",
       "       1.1940400e-01, 2.0072200e-01, 1.4654700e-01, 2.0732600e-01,\n",
       "       1.8614000e-01, 1.3382800e-01, 3.5485100e-01, 1.6021800e-01,\n",
       "       2.0486860e+00, 9.6198000e-02, 8.9397000e-02, 3.1979100e-01,\n",
       "       7.5159000e-02, 4.8100000e-02, 1.4767200e-01, 9.7926000e-02,\n",
       "       6.7073000e-02, 1.4953800e-01, 1.1637200e-01, 4.7516000e-02,\n",
       "       8.8380000e-02, 6.1752300e-01, 3.4982330e+00, 1.4931300e-01,\n",
       "       4.3383600e-01, 4.0067400e-01, 1.0740700e-01, 3.2674200e-01,\n",
       "       3.3204600e-01, 1.4887600e-01, 3.3046600e-01, 3.1714400e-01,\n",
       "       1.6854200e-01, 3.2246700e-01, 3.7763400e-01, 1.3894200e-01,\n",
       "       2.1064900e-01, 4.1118300e-01, 2.2412800e-01, 1.1190900e-01,\n",
       "       1.2183600e-01, 1.2515400e-01, 2.4097100e-01, 3.9181400e-01,\n",
       "       2.3227400e-01, 1.5925800e-01, 1.8495200e-01, 2.2460000e-01,\n",
       "       1.1459900e-01, 5.6505000e-02, 1.1817500e-01, 4.1606400e-01,\n",
       "       7.6138000e-02, 6.7031000e-02, 2.1149200e-01, 6.0523000e-02,\n",
       "       9.3612000e-02, 1.2920800e-01, 1.6357000e-01, 1.2140900e-01,\n",
       "       1.9505600e-01, 1.5466400e-01, 2.5751800e-01, 1.3157100e-01,\n",
       "       2.0682100e-01, 2.2336200e-01, 1.3652200e-01, 2.4233000e-01,\n",
       "       1.3687900e-01, 1.8389590e+00, 3.1206170e+00, 1.8181300e-01,\n",
       "       1.1564800e-01, 1.7654500e-01, 7.6232000e-02, 4.5486000e-02,\n",
       "       5.3430000e-02, 4.3265800e-01, 7.2973000e-02, 3.8585520e+00,\n",
       "       5.3633000e-02, 6.8493000e-02, 5.6927000e-02, 3.5884000e-02,\n",
       "       5.6118000e-02, 4.8753000e-02, 3.3093000e-02, 6.2859000e-02,\n",
       "       5.0492000e-02, 4.3396000e-02, 6.1438210e+00, 3.5081000e-02,\n",
       "       1.1951000e-01, 4.8450850e+00, 5.1674000e-02, 3.7013000e-02,\n",
       "       5.1885000e-02, 3.5464000e-02, 5.6383000e-02, 8.8129000e-02,\n",
       "       1.1454000e-01, 7.4015000e-02, 1.0132500e-01, 7.0422000e-02,\n",
       "       1.9180000e-01, 8.5284000e-02, 4.0199730e+00, 5.3384000e-02,\n",
       "       9.1356000e-02, 6.8191000e-02, 1.1769600e-01, 8.2553000e-02,\n",
       "       5.1581000e-02, 7.1450000e-02, 1.2814200e-01, 6.6263000e-02,\n",
       "       5.1761000e-02, 7.7267000e-02, 6.8964000e-02, 6.1587000e-02,\n",
       "       6.5607000e-02, 3.7771470e+00, 9.2870000e-02, 8.1646000e-02,\n",
       "       1.0910200e-01, 6.4575000e-02, 7.6312000e-02, 1.2884660e+00,\n",
       "       6.6212000e-02, 6.0658000e-02, 6.0234000e-02, 4.4019000e-02,\n",
       "       1.3774300e-01, 1.3765000e-01, 1.1036100e-01, 6.6472000e-02,\n",
       "       4.2574440e+00, 6.6568000e-02, 9.4750000e-02, 7.1336000e-02,\n",
       "       4.2069000e-02, 3.0165390e+00, 6.8992000e-02, 1.5971500e-01,\n",
       "       1.3615500e-01, 1.1165200e-01, 5.3233000e-02, 1.1206800e-01,\n",
       "       7.1907000e-02, 2.7948000e-02, 2.1719140e+00, 1.3457620e+00,\n",
       "       3.8849000e-02, 8.3595000e-02, 2.9322090e+00, 5.7029000e-02,\n",
       "       5.0095000e-02, 5.0722000e-02, 5.9910000e-02, 8.3979000e-02,\n",
       "       1.3551700e-01, 8.2968000e-02, 6.2956750e+00, 1.5831300e+00,\n",
       "       9.8097000e-02, 2.8830430e+00, 4.0836000e-02, 9.5288000e-02,\n",
       "       9.0342000e-02, 4.4022000e-02, 1.0196500e-01, 1.9388800e-01,\n",
       "       3.6620200e-01, 6.2385000e-02, 5.4977000e-02, 1.0812800e-01,\n",
       "       5.8097000e-02, 7.6512000e-02, 4.6836000e-02, 5.7471000e-02,\n",
       "       4.2896140e+00, 1.1437900e-01, 5.5160000e-02, 1.4109300e-01,\n",
       "       1.0782800e-01, 1.1406900e-01, 6.3520000e-02, 6.4427000e-02,\n",
       "       7.0539000e-02, 5.8421000e-02, 3.9958000e-02, 1.4663300e-01,\n",
       "       4.7074090e+00, 6.8096000e-02, 6.5942000e-02, 5.3413000e-02,\n",
       "       7.2117000e-02, 8.6994000e-02, 1.2020600e-01, 5.3463000e-02,\n",
       "       6.7913000e-02, 7.5548040e+00, 5.6268750e+00, 9.2873000e-02,\n",
       "       1.6573360e+00, 9.0128200e-01, 6.4768000e-02, 5.0454000e-02,\n",
       "       2.7350000e-02, 7.5805000e-02, 4.7752000e-02, 3.3344000e-02,\n",
       "       8.3039000e-02, 7.2436000e-02, 4.8082000e-02, 4.2207000e-02,\n",
       "       4.1353000e+00, 2.6271110e+00, 9.0477000e-02, 1.6140000e-01,\n",
       "       1.3176900e-01, 1.0648700e-01, 5.5129000e-02, 3.8249000e-02,\n",
       "       8.3990000e-02, 9.0577030e+00, 3.3827750e+00, 4.8942000e-02,\n",
       "       9.5118400e-01, 8.3973000e-02, 4.5783000e-02, 5.9255000e-02,\n",
       "       3.3251000e-02, 3.3677000e-02, 8.2149000e-02, 1.4125800e-01,\n",
       "       2.3655000e-02, 6.8225000e-02, 2.4500810e+00, 9.2611000e-02,\n",
       "       3.7351140e+00, 5.1445190e+00, 6.3614000e-02, 1.2287900e-01,\n",
       "       4.3346500e+00, 9.3749000e-02, 4.4512130e+00, 7.3751780e+00,\n",
       "       7.2110000e-02, 3.0728640e+00, 5.9925320e+00, 4.9505000e-02,\n",
       "       1.0014750e+00, 2.1341600e+00, 7.7658000e-02, 1.7863200e-01,\n",
       "       6.9956000e-02, 6.0610000e-02, 1.1034500e-01, 1.0294700e-01,\n",
       "       1.1332400e-01, 4.3778000e-02, 7.6374000e-02, 8.9502000e-02,\n",
       "       5.1575000e-02, 7.2214000e-02, 6.1866000e-02, 8.2490000e-01,\n",
       "       7.9117000e-02, 6.7288000e-02, 2.8956000e-02, 9.3116000e-02,\n",
       "       1.3472000e-01, 3.8908860e+00, 7.8515030e+00, 1.0642800e-01,\n",
       "       1.1756700e-01, 2.0051500e-01, 1.1620500e-01, 8.2550000e-02,\n",
       "       3.1966280e+00, 1.2575300e-01, 3.6382500e-01, 3.2614600e-01,\n",
       "       2.1704000e-01, 9.9269000e-02, 2.0157300e-01, 1.3853500e-01,\n",
       "       1.2800800e-01, 1.0563300e-01, 3.8646600e-01, 3.2108100e-01,\n",
       "       3.1379200e-01, 4.3816000e-02, 4.5563100e-01, 2.1494900e-01,\n",
       "       7.7444000e-02, 5.9945000e-02, 1.8970100e-01, 1.0757300e-01,\n",
       "       1.1990500e-01, 1.3569800e-01, 7.8045000e-02, 3.5731000e-02,\n",
       "       1.1842600e-01, 3.3272000e-02, 5.8339000e-02, 1.5748400e-01,\n",
       "       6.5766000e-02, 1.0470500e-01, 6.9681000e-02, 7.2484000e-02,\n",
       "       2.0312200e-01, 1.0529800e-01, 7.8733000e-02, 6.0852000e-02,\n",
       "       2.4430300e-01, 1.7380600e-01, 9.5382000e-02, 1.7280500e-01,\n",
       "       2.0300600e-01, 1.3240100e-01, 2.4417600e-01, 1.4050100e-01,\n",
       "       1.2753500e-01, 1.2298300e-01, 8.1322000e-02, 2.4675800e-01,\n",
       "       1.2963600e-01, 9.4912000e-02, 1.4368100e-01, 9.9451000e-02,\n",
       "       7.6851000e-02, 6.0000000e-03, 1.3249800e-01, 4.4440000e-03,\n",
       "       4.0000000e-03, 6.9374090e+00, 6.6740600e+00, 6.9373530e+00,\n",
       "       6.7123560e+00, 7.1194860e+00, 7.9750000e-01, 1.1478000e-02,\n",
       "       3.7493000e-02, 3.2492000e-02])"
      ]
     },
     "metadata": {},
     "output_type": "display_data"
    },
    {
     "data": {
      "text/plain": [
       "'SrcJitIdl'"
      ]
     },
     "metadata": {},
     "output_type": "display_data"
    },
    {
     "data": {
      "text/plain": [
       "array([           nan, 0.00000000e+00, 1.78900000e+00, 3.91650000e+00,\n",
       "       2.59952400e+03, 2.62653775e+03, 2.35910700e+03, 2.35977300e+03,\n",
       "       2.35879075e+03, 2.35859225e+03, 8.02240900e+03, 2.35942100e+03,\n",
       "       2.35801625e+03, 1.08526380e+04, 3.53850225e+03, 1.08517860e+04,\n",
       "       2.36030225e+03, 1.08513350e+04, 2.35864100e+03, 1.08536900e+04,\n",
       "       2.35929175e+03, 1.08499440e+04, 2.35973550e+03, 1.08509350e+04,\n",
       "       2.35723975e+03, 9.67351900e+03, 2.35936900e+03, 1.08527040e+04,\n",
       "       2.35955100e+03, 1.08520720e+04, 2.36055875e+03, 1.08512540e+04,\n",
       "       2.35885675e+03, 1.08486000e+04, 2.35918300e+03, 1.08553970e+04,\n",
       "       3.53863825e+03, 1.08524310e+04, 2.36024900e+03, 1.08510790e+04,\n",
       "       2.35815550e+03, 1.08535640e+04, 2.35947525e+03, 1.08514430e+04,\n",
       "       2.35913750e+03, 1.15102230e+04, 2.35941900e+03, 9.67119100e+03,\n",
       "       2.35916225e+03, 1.08500940e+04, 2.36005875e+03, 1.08500880e+04,\n",
       "       2.35836600e+03, 1.08531180e+04, 2.35952575e+03, 1.08551290e+04,\n",
       "       2.35889875e+03, 1.08517600e+04, 2.00754300e+00, 1.29875000e+00,\n",
       "       9.73938000e-01, 8.46162000e-01, 3.01601000e-01, 2.65737900e+00,\n",
       "       1.54611810e+01, 4.72509031e+02, 3.86386640e+01, 1.08477920e+04,\n",
       "       1.08489640e+04, 1.08536060e+04, 1.15111310e+04, 1.08503400e+04,\n",
       "       1.27396460e+04, 2.60048575e+03, 2.62762900e+03, 2.35670100e+03,\n",
       "       2.35814850e+03, 2.35926400e+03, 2.35929225e+03, 8.02082900e+03,\n",
       "       2.35707650e+03, 2.35775025e+03, 1.08508670e+04, 3.53811225e+03,\n",
       "       1.08494940e+04, 2.35916325e+03, 1.08527260e+04, 2.36038400e+03,\n",
       "       1.08532060e+04, 2.35849250e+03, 1.08552460e+04, 2.35983750e+03,\n",
       "       1.08561810e+04, 2.35927700e+03, 9.67563900e+03, 2.36071325e+03,\n",
       "       1.08552180e+04, 2.35804125e+03, 1.08531420e+04, 2.35798975e+03,\n",
       "       1.08536130e+04, 2.35919300e+03, 1.08578640e+04, 2.35842025e+03,\n",
       "       1.08545790e+04, 3.53850150e+03, 1.08519800e+04, 2.35994650e+03,\n",
       "       1.08547000e+04, 2.36055275e+03, 1.08548000e+04, 2.35838300e+03,\n",
       "       1.08560710e+04, 2.35643400e+03, 1.15117900e+04, 2.36078450e+03,\n",
       "       9.67264000e+03, 2.35873400e+03, 1.08561890e+04, 2.35978150e+03,\n",
       "       1.08538480e+04, 2.35991275e+03, 1.08565090e+04, 2.35959925e+03,\n",
       "       1.08560070e+04, 2.35824175e+03, 1.08544670e+04, 1.18032000e+00,\n",
       "       8.66438000e-01, 6.84017000e-01, 9.25680000e-01, 1.38287500e+00,\n",
       "       1.83236500e+01, 4.71503156e+02, 3.72421910e+01, 1.08560440e+04,\n",
       "       1.08543890e+04, 1.08542720e+04, 1.15112740e+04, 1.08555910e+04,\n",
       "       1.27423410e+04, 5.24745250e+02, 4.41670937e+02, 9.77893187e+02,\n",
       "       4.38644094e+02, 3.55853156e+02, 1.14669213e+03, 4.08096906e+02,\n",
       "       3.46789281e+02, 1.02456706e+03, 3.61722719e+02, 4.07567281e+02,\n",
       "       9.88127687e+02, 3.70321969e+02, 4.13144000e+02, 1.02289437e+03,\n",
       "       3.79044438e+02, 4.10351187e+02, 1.18006112e+03, 1.05509800e+03,\n",
       "       7.65605375e+02, 1.05370975e+03, 1.13847925e+03, 7.53064938e+02,\n",
       "       1.15514200e+03, 9.84338125e+02, 8.70571187e+02, 1.05793425e+03,\n",
       "       7.96052437e+02, 7.67797063e+02, 1.08815625e+03, 1.04480850e+03,\n",
       "       7.83206625e+02, 1.26675062e+03, 9.76675438e+02, 6.60327188e+02,\n",
       "       1.08944550e+03, 9.33087375e+02, 7.69326688e+02, 1.16519013e+03,\n",
       "       8.39899063e+02, 5.35023750e+02, 1.06904187e+03, 4.12056281e+02,\n",
       "       3.42394313e+02, 8.93285500e+02, 1.00617944e+03, 4.37670200e+01,\n",
       "       1.02340887e+03, 8.73200500e+02, 1.38096156e+02, 1.15895300e+03,\n",
       "       9.14091000e+02, 3.05669531e+02, 9.41665500e+02, 8.31640750e+02,\n",
       "       3.12880344e+02, 1.05110487e+03, 8.31741313e+02, 3.07639219e+02,\n",
       "       9.80940062e+02, 3.01673406e+02, 7.36797312e+02, 9.34291563e+02,\n",
       "       3.16374031e+02, 8.83541500e+02, 9.96277687e+02, 3.13631500e+02,\n",
       "       9.93872625e+02, 1.09187125e+03, 3.03880406e+02, 8.22294562e+02,\n",
       "       1.01229300e+03, 3.15471313e+02, 9.25478625e+02, 1.09980500e+03,\n",
       "       3.00703344e+02, 7.65583375e+02, 1.01766525e+03, 3.02149875e+02,\n",
       "       7.70189188e+02, 9.48793563e+02, 3.01131469e+02, 8.62650938e+02,\n",
       "       9.87279437e+02, 3.21210219e+02, 9.31367000e+02, 1.17212025e+03,\n",
       "       2.99415094e+02, 9.05625625e+02, 9.69833250e+02, 3.14818062e+02,\n",
       "       1.02821350e+03, 8.28394000e+02, 3.08222125e+02, 9.57164500e+02,\n",
       "       9.61926125e+02, 2.91841219e+02, 8.41938250e+02, 1.07548013e+03,\n",
       "       3.27329750e+02, 8.52279000e+02, 9.54600250e+02, 3.11963594e+02,\n",
       "       1.13250762e+03, 1.00403944e+03, 3.25293094e+02, 8.88681625e+02,\n",
       "       1.12674775e+03, 3.20248438e+02, 1.17451062e+03, 1.20337937e+03,\n",
       "       3.15922250e+02, 1.10951537e+03, 1.09309750e+03, 2.96119344e+02,\n",
       "       8.30961688e+02, 9.17619000e+02, 3.11823312e+02, 9.05591188e+02,\n",
       "       1.07030787e+03, 3.19146969e+02, 8.04315000e+02, 1.05627900e+03,\n",
       "       3.16460656e+02, 9.96316312e+02, 1.09968937e+03, 3.13465719e+02,\n",
       "       8.55050125e+02, 1.03684525e+03, 3.06374594e+02, 9.23181187e+02,\n",
       "       1.09466325e+03, 2.87093406e+02, 6.36267687e+02, 8.49524625e+02,\n",
       "       3.13898062e+02, 9.73848750e+02, 1.09045637e+03, 3.17439813e+02,\n",
       "       1.02613219e+03, 9.91747875e+02, 3.08740406e+02, 1.01776800e+03,\n",
       "       1.11103500e+03, 3.12193094e+02, 1.01448156e+03, 1.02330394e+03,\n",
       "       2.97606219e+02, 1.05748850e+03, 1.11836288e+03, 2.90545781e+02,\n",
       "       6.73699250e+02, 7.64342375e+02, 3.05837031e+02, 1.10702600e+03,\n",
       "       1.13299463e+03, 3.05309844e+02, 8.93351500e+02, 9.78376562e+02,\n",
       "       3.12957406e+02, 1.08001575e+03, 1.16631300e+03, 3.13385063e+02,\n",
       "       9.23993250e+02, 9.91200687e+02, 3.07865594e+02, 9.44075187e+02,\n",
       "       1.24053813e+03, 2.95505500e+02, 6.70594438e+02, 8.13709938e+02,\n",
       "       3.14299594e+02, 1.15969538e+03, 1.21146875e+03, 3.05788906e+02,\n",
       "       8.89689938e+02, 1.06803250e+03, 3.19085094e+02, 1.21826913e+03,\n",
       "       1.22949312e+03, 3.27228313e+02, 1.05619262e+03, 1.12717725e+03,\n",
       "       3.17691312e+02, 1.03259288e+03, 1.16035150e+03, 2.84459625e+02,\n",
       "       8.17599187e+02, 8.68522500e+02, 3.05992000e+02, 1.06516250e+03,\n",
       "       1.17072675e+03, 2.99513344e+02, 1.07534700e+03, 9.96214000e+02,\n",
       "       9.03356750e+02, 5.45117875e+02, 1.00748937e+03, 6.76444062e+02,\n",
       "       6.62399000e+02, 1.06080475e+03, 7.84531330e+01, 9.47523625e+02,\n",
       "       1.08189587e+03, 8.87038520e+01, 7.51416438e+02, 9.35772625e+02,\n",
       "       2.66947969e+02, 8.64384625e+02, 1.04380894e+03, 3.37645594e+02,\n",
       "       8.90426812e+02, 1.03646881e+03, 3.69191344e+02, 9.16376938e+02,\n",
       "       1.04593244e+03, 3.54097250e+02, 8.30929813e+02, 1.07581325e+03,\n",
       "       3.61383938e+02, 8.86408563e+02, 9.44874437e+02, 3.23711031e+02,\n",
       "       9.17300750e+02, 1.00494475e+03, 3.71481812e+02, 9.98449938e+02,\n",
       "       1.01881412e+03, 3.42700938e+02, 1.09959337e+03, 1.12571712e+03,\n",
       "       3.75019531e+02, 9.99329375e+02, 9.75031875e+02, 3.62686781e+02,\n",
       "       9.84011062e+02, 1.21240375e+03, 3.44895094e+02, 9.23032687e+02,\n",
       "       9.22166375e+02, 4.18743250e+02, 3.80839750e+02, 1.00437700e+03,\n",
       "       4.26451375e+02, 3.61468000e+02, 1.01424031e+03, 4.22681219e+02,\n",
       "       5.96540750e+02, 1.17374238e+03, 4.37534156e+02, 9.80370750e+02,\n",
       "       1.10974512e+03, 9.43873875e+02, 9.42336812e+02, 1.22779325e+03,\n",
       "       7.59869125e+02, 8.25021875e+02, 9.48993563e+02, 6.41592813e+02,\n",
       "       9.81022000e+02, 1.14895387e+03, 7.74526125e+02, 9.14840500e+02,\n",
       "       1.09364338e+03, 8.65379750e+02, 1.09421050e+03, 1.10682300e+03,\n",
       "       8.61408500e+02, 9.96724187e+02, 1.05945813e+03, 5.79338625e+02,\n",
       "       1.08829675e+03, 9.65954562e+02, 7.43976875e+02, 8.05032125e+02,\n",
       "       7.32914000e+02, 6.91908750e+02, 8.70768063e+02, 4.49979375e+02,\n",
       "       8.19555000e+02, 1.05992712e+03, 9.76630875e+02, 1.12687462e+03,\n",
       "       7.65808063e+02, 4.61224219e+02, 1.01964869e+03, 1.75703891e+02,\n",
       "       1.34551469e+02, 9.76013250e+02, 2.86819687e+02, 2.24246344e+02,\n",
       "       1.12185625e+03, 4.83285969e+02, 2.98595687e+02, 8.32034063e+02,\n",
       "       1.41140594e+02, 9.51540000e+01, 1.09366750e+03, 1.94603000e+02,\n",
       "       1.36390813e+02, 1.00352738e+03, 3.54658719e+02, 8.46924375e+02,\n",
       "       1.09408450e+03, 1.81212203e+02, 1.45671641e+02, 9.98031938e+02,\n",
       "       8.71760375e+02, 8.25834875e+02, 1.11714712e+03, 5.95394375e+02,\n",
       "       7.15065250e+02, 7.77365437e+02, 7.18124250e+02, 9.28767000e+02,\n",
       "       1.17264012e+03, 5.97548500e+02, 9.27022062e+02, 9.93344500e+02,\n",
       "       8.80060125e+02, 8.20372625e+02, 1.18724837e+03, 8.37205500e+02,\n",
       "       9.52442750e+02, 9.95977000e+02, 6.63515313e+02, 9.60261687e+02,\n",
       "       1.22142563e+03, 3.45704281e+02, 4.20268531e+02, 8.25024625e+02,\n",
       "       2.43492641e+02, 2.71973500e+02, 1.26293538e+03, 5.95113130e+01,\n",
       "       1.69738313e+02, 1.10643850e+03, 9.74793050e+01, 1.41239266e+02,\n",
       "       1.25894587e+03, 1.00322438e+02, 1.46491062e+02, 1.05667962e+03,\n",
       "       9.99845160e+01, 1.41646531e+02, 1.14433625e+03, 9.91297660e+01,\n",
       "       1.44079703e+02, 8.55514875e+02, 1.06811367e+02, 1.37002813e+02,\n",
       "       1.11482112e+03, 1.11231695e+02, 1.51825594e+02, 1.07761262e+03,\n",
       "       1.09455938e+02, 1.40309156e+02, 1.04525481e+03, 1.19277172e+02,\n",
       "       1.47808859e+02, 1.13019412e+03, 1.18277531e+02, 1.41782094e+02,\n",
       "       1.01908369e+03, 1.20399148e+02, 2.05582938e+02, 8.82434687e+02,\n",
       "       1.05640383e+02, 1.19500766e+02, 1.03239394e+03, 1.06426883e+02,\n",
       "       2.02001703e+02, 1.07030938e+03, 1.08716547e+02, 1.28836289e+02,\n",
       "       1.00811550e+03, 1.06104789e+02, 2.21450562e+02, 1.12380650e+03,\n",
       "       1.03646828e+02, 1.23865773e+02, 9.82125563e+02, 1.02898883e+02,\n",
       "       1.43996172e+02, 9.31077500e+02, 1.04759516e+02, 2.03439266e+02,\n",
       "       9.98606813e+02, 1.04561297e+02, 1.40619891e+02, 1.15544450e+03,\n",
       "       1.06289617e+02, 1.49070766e+02, 9.76607250e+02, 1.06210688e+02,\n",
       "       1.49519062e+02, 1.17924163e+03, 1.06007617e+02, 1.59691500e+02,\n",
       "       9.91894812e+02, 1.04481141e+02, 2.15943422e+02, 9.62535938e+02,\n",
       "       1.05747977e+02, 1.46295328e+02, 1.03781300e+03, 1.09559398e+02,\n",
       "       1.39965125e+02, 1.23273100e+03, 1.10754359e+02, 1.44239016e+02,\n",
       "       1.14505575e+03, 1.12272258e+02, 1.46798438e+02, 1.23297400e+03,\n",
       "       1.10362789e+02, 1.49130219e+02, 1.14376950e+03, 1.09703242e+02,\n",
       "       1.43202656e+02, 9.38335687e+02, 1.10163891e+02, 1.44157922e+02,\n",
       "       1.02408881e+03, 1.10467031e+02, 1.52498687e+02, 1.04076838e+03,\n",
       "       1.11030117e+02, 1.46932641e+02, 1.08478962e+03, 1.12084078e+02,\n",
       "       1.82244344e+02, 1.04679169e+03, 1.11994578e+02, 2.10239281e+02,\n",
       "       1.07173600e+03, 1.10123430e+02, 1.38650094e+02, 8.82219187e+02,\n",
       "       1.14295039e+02, 1.52901531e+02, 1.02856250e+03, 1.15410383e+02,\n",
       "       1.36194875e+02, 1.06774375e+03, 1.18396297e+02, 1.50750672e+02,\n",
       "       1.05362413e+03, 1.16886742e+02, 1.49750781e+02, 1.02286719e+03,\n",
       "       1.18387273e+02, 1.48117125e+02, 1.09159938e+03, 1.20448805e+02,\n",
       "       1.35848484e+02, 8.29435938e+02, 1.26697602e+02, 1.52656641e+02,\n",
       "       1.06063413e+03, 1.23383383e+02, 1.49980469e+02, 1.01239037e+03,\n",
       "       1.24208656e+02, 1.51697391e+02, 1.15449038e+03, 1.29712984e+02,\n",
       "       2.09226359e+02, 9.75029063e+02, 1.24475234e+02, 1.31772625e+02,\n",
       "       1.17170138e+03, 1.20444461e+02, 1.49893344e+02, 7.98730563e+02,\n",
       "       1.24875422e+02, 1.52857797e+02, 1.22646425e+03, 1.27219305e+02,\n",
       "       1.64184937e+02, 1.11630012e+03, 1.32162750e+02, 1.59173516e+02,\n",
       "       1.14787288e+03, 1.34848734e+02, 1.63520266e+02, 1.17093213e+03,\n",
       "       1.34126281e+02, 1.70196344e+02, 1.19308625e+03, 1.32468594e+02,\n",
       "       1.53892687e+02, 9.50907500e+02, 3.30978344e+02, 3.20844094e+02,\n",
       "       1.14424800e+03, 5.49357938e+02, 8.15852500e+02, 1.10700650e+03,\n",
       "       2.04104141e+02, 1.44248938e+02, 1.08292850e+03, 2.08094297e+02,\n",
       "       2.75159960e+01, 1.06413100e+03, 1.71722531e+02, 7.88217190e+01,\n",
       "       1.13132025e+03, 1.46730547e+02, 1.19400391e+02, 9.18208875e+02,\n",
       "       1.67550016e+02, 1.38305250e+02, 1.09267450e+03, 1.47836406e+02,\n",
       "       1.41452937e+02, 8.30903063e+02, 1.68462750e+02, 1.42601969e+02,\n",
       "       1.09073788e+03, 3.06448656e+02, 1.60403484e+02, 1.00423506e+03,\n",
       "       1.56677594e+02, 1.46559375e+02, 1.06954787e+03, 2.78814469e+02,\n",
       "       1.47851438e+02, 9.16089250e+02, 1.51795797e+02, 1.58953828e+02,\n",
       "       1.07647825e+03, 1.61754906e+02, 1.57630172e+02, 1.11123200e+03,\n",
       "       1.50437688e+02, 1.57553219e+02, 1.00042506e+03, 1.56122453e+02,\n",
       "       1.67417531e+02, 1.10770050e+03, 4.02371438e+02, 2.28760266e+02,\n",
       "       9.14596750e+02, 1.66185828e+02, 2.05333141e+02, 1.05647162e+03,\n",
       "       8.58519125e+02, 1.11752375e+03, 1.07828125e+03, 4.93163250e+02,\n",
       "       8.74038563e+02, 1.06125800e+03, 1.62988016e+02, 1.92406266e+02,\n",
       "       1.15355787e+03, 1.83853906e+02, 2.22695812e+02, 1.19532063e+03,\n",
       "       1.12430963e+03, 8.09286375e+02, 1.00506950e+03, 8.80154750e+02,\n",
       "       7.53663688e+02, 1.11865587e+03, 1.06425662e+03, 8.62570125e+02,\n",
       "       1.06575163e+03, 9.14373062e+02, 7.38351625e+02, 1.13643313e+03,\n",
       "       8.72369937e+02, 6.71119875e+02, 1.10606825e+03, 1.19161375e+03,\n",
       "       7.62886750e+02, 1.13037413e+03, 7.28975812e+02, 4.60093344e+02,\n",
       "       8.25358375e+02, 3.29183688e+02, 6.55537125e+02, 1.10477363e+03,\n",
       "       9.11118563e+02, 7.88429938e+02, 1.01166737e+03, 1.02912269e+03,\n",
       "       8.50512125e+02, 1.05741025e+03, 1.00415750e+03, 9.70464500e+02,\n",
       "       8.94767875e+02, 1.14757000e+03, 6.17730250e+02, 9.13260500e+02,\n",
       "       7.76300000e+00, 2.40124150e+03, 2.22178400e+00, 2.37498000e+00,\n",
       "       2.28271500e+00, 2.11186700e+00, 1.49529200e+00, 1.50397970e+01,\n",
       "       2.70874880e+01, 2.40205975e+03, 2.56444600e+00, 2.12954800e+00,\n",
       "       3.08575000e+00, 2.93000300e+00, 4.07348000e+00, 1.51554660e+01,\n",
       "       2.21462340e+01])"
      ]
     },
     "metadata": {},
     "output_type": "display_data"
    },
    {
     "data": {
      "text/plain": [
       "'DstJitIdl'"
      ]
     },
     "metadata": {},
     "output_type": "display_data"
    },
    {
     "data": {
      "text/plain": [
       "array([           nan, 2.60095900e+03, 4.81004000e+02, 2.52233850e+03,\n",
       "       2.52515200e+03, 2.52154850e+03, 2.52165050e+03, 8.48679800e+03,\n",
       "       2.52380850e+03, 2.52056850e+03, 1.08325180e+04, 3.77394800e+03,\n",
       "       1.08289940e+04, 2.52407900e+03, 1.08313690e+04, 2.52166700e+03,\n",
       "       1.08330450e+04, 2.52244000e+03, 1.08284650e+04, 2.52309650e+03,\n",
       "       1.08312010e+04, 2.52008600e+03, 9.65230100e+03, 2.52210300e+03,\n",
       "       1.08321410e+04, 2.52311600e+03, 1.08308390e+04, 2.52557250e+03,\n",
       "       1.08311890e+04, 2.52262100e+03, 1.08281170e+04, 2.52300100e+03,\n",
       "       1.08345570e+04, 3.77383150e+03, 1.08325290e+04, 2.52321250e+03,\n",
       "       1.08309170e+04, 2.52104950e+03, 1.08319950e+04, 2.52246850e+03,\n",
       "       1.08293460e+04, 2.52359650e+03, 1.14874530e+04, 2.52398200e+03,\n",
       "       9.65092100e+03, 2.52392300e+03, 1.08296570e+04, 2.52432600e+03,\n",
       "       1.08292300e+04, 2.52221350e+03, 1.08327220e+04, 2.52354950e+03,\n",
       "       1.08330300e+04, 2.52558400e+03, 1.08302190e+04, 2.70851800e+00,\n",
       "       2.27784900e+00, 1.73786000e+00, 1.96465000e+00, 8.93468000e-01,\n",
       "       3.28393700e+00, 2.10721860e+01, 5.20764000e+02, 4.05525390e+01,\n",
       "       1.08252520e+04, 1.08278350e+04, 1.08313490e+04, 1.14890570e+04,\n",
       "       1.08269460e+04, 1.27192280e+04, 2.60155300e+03, 4.79567500e+02,\n",
       "       2.52089700e+03, 2.52151800e+03, 2.52251500e+03, 2.52287000e+03,\n",
       "       8.48512900e+03, 2.52102000e+03, 2.52188450e+03, 1.08284580e+04,\n",
       "       3.77344550e+03, 1.08289020e+04, 2.52363500e+03, 1.08320350e+04,\n",
       "       2.52368900e+03, 1.08329530e+04, 2.52089650e+03, 1.08341740e+04,\n",
       "       2.52320700e+03, 1.08348590e+04, 2.52270650e+03, 9.65364300e+03,\n",
       "       2.52549050e+03, 1.08327410e+04, 2.52075900e+03, 1.08303660e+04,\n",
       "       2.52193250e+03, 1.08338030e+04, 2.52238500e+03, 1.08349470e+04,\n",
       "       2.52216550e+03, 1.08338320e+04, 3.77290950e+03, 1.08303470e+04,\n",
       "       2.52296850e+03, 1.08312470e+04, 2.52498450e+03, 1.08329090e+04,\n",
       "       2.52138300e+03, 1.08351910e+04, 2.51956400e+03, 1.14883840e+04,\n",
       "       2.52393650e+03, 9.65267600e+03, 2.52186100e+03, 1.08356260e+04,\n",
       "       2.52314350e+03, 1.08320200e+04, 2.52324450e+03, 1.08358380e+04,\n",
       "       2.52310300e+03, 1.08355070e+04, 2.52348950e+03, 1.08341000e+04,\n",
       "       1.66694700e+00, 1.02536300e+00, 8.50892000e-01, 1.62838000e+00,\n",
       "       1.21657600e+00, 2.44101660e+01, 5.20322500e+02, 4.01700510e+01,\n",
       "       1.08339530e+04, 1.08331800e+04, 1.08321250e+04, 1.14888730e+04,\n",
       "       1.08323890e+04, 1.27223460e+04, 3.84730844e+02, 5.78322063e+02,\n",
       "       9.09309687e+02, 6.36837437e+02, 4.48128656e+02, 1.08244913e+03,\n",
       "       5.41671375e+02, 4.66742750e+02, 9.89749563e+02, 4.66344906e+02,\n",
       "       5.63219313e+02, 1.00141419e+03, 4.67492188e+02, 5.62203938e+02,\n",
       "       1.03921338e+03, 4.59866438e+02, 5.57335125e+02, 1.10464950e+03,\n",
       "       1.04993500e+03, 7.50186375e+02, 9.97466375e+02, 1.10469150e+03,\n",
       "       7.24009375e+02, 1.14644363e+03, 1.09796675e+03, 8.65140437e+02,\n",
       "       1.05357425e+03, 9.44222313e+02, 7.73991437e+02, 1.12854525e+03,\n",
       "       1.18354412e+03, 7.50773125e+02, 1.19445925e+03, 1.07798275e+03,\n",
       "       6.77302187e+02, 1.10745850e+03, 1.07906838e+03, 7.18664250e+02,\n",
       "       1.04853631e+03, 9.15601500e+02, 6.20101937e+02, 1.01232912e+03,\n",
       "       5.43737625e+02, 3.89708469e+02, 9.02381813e+02, 9.95425938e+02,\n",
       "       3.78417460e+01, 9.71365563e+02, 9.91263875e+02, 1.26594742e+02,\n",
       "       1.20148400e+03, 9.84414437e+02, 3.25909281e+02, 1.03847762e+03,\n",
       "       9.89571500e+02, 3.35570406e+02, 1.15632350e+03, 9.27500312e+02,\n",
       "       3.30392031e+02, 9.77351562e+02, 3.25271000e+02, 8.63043250e+02,\n",
       "       9.76641188e+02, 3.32810063e+02, 9.80778063e+02, 9.75409375e+02,\n",
       "       3.30304469e+02, 1.03087231e+03, 1.03514681e+03, 3.19407031e+02,\n",
       "       8.58034688e+02, 9.73983875e+02, 3.39183063e+02, 1.09017788e+03,\n",
       "       1.04201581e+03, 3.15082281e+02, 9.28612625e+02, 9.72652312e+02,\n",
       "       3.17355594e+02, 8.11710375e+02, 9.80727313e+02, 3.23599094e+02,\n",
       "       9.67822563e+02, 9.81297312e+02, 3.37200500e+02, 1.03780156e+03,\n",
       "       1.18615812e+03, 3.16473594e+02, 9.61771187e+02, 9.97920062e+02,\n",
       "       3.17962063e+02, 1.06829588e+03, 8.47297688e+02, 3.23937000e+02,\n",
       "       1.00325437e+03, 9.33599312e+02, 3.14283281e+02, 1.04765019e+03,\n",
       "       1.11980025e+03, 3.32908125e+02, 8.91602688e+02, 9.44442500e+02,\n",
       "       3.26634750e+02, 1.19772300e+03, 1.03625550e+03, 3.33352344e+02,\n",
       "       9.73421250e+02, 1.12433063e+03, 3.24500187e+02, 1.15711538e+03,\n",
       "       1.04448981e+03, 3.31656063e+02, 1.15908650e+03, 1.06157812e+03,\n",
       "       3.17266188e+02, 8.63091563e+02, 8.48826250e+02, 3.15450063e+02,\n",
       "       9.57135500e+02, 1.02096681e+03, 3.29620187e+02, 9.69152938e+02,\n",
       "       9.98771750e+02, 3.16524875e+02, 1.04681969e+03, 1.04681613e+03,\n",
       "       3.29706062e+02, 9.31483812e+02, 9.84523063e+02, 3.17590156e+02,\n",
       "       1.08851613e+03, 1.04437888e+03, 3.10821937e+02, 7.51470875e+02,\n",
       "       8.55670500e+02, 3.29065906e+02, 1.10147975e+03, 1.02852231e+03,\n",
       "       3.34709000e+02, 1.01728456e+03, 1.02842800e+03, 3.25900500e+02,\n",
       "       1.09352637e+03, 1.05978325e+03, 3.19016000e+02, 1.01840731e+03,\n",
       "       9.63091625e+02, 3.09908875e+02, 1.08451150e+03, 1.06328275e+03,\n",
       "       3.09486344e+02, 7.72541062e+02, 7.63595500e+02, 3.23559875e+02,\n",
       "       1.07574612e+03, 1.06360075e+03, 3.20779469e+02, 8.95501750e+02,\n",
       "       9.28030437e+02, 3.24505969e+02, 1.11348900e+03, 1.10642563e+03,\n",
       "       3.31334781e+02, 9.30975375e+02, 9.35789750e+02, 3.32950281e+02,\n",
       "       1.12247062e+03, 1.18224187e+03, 3.17201437e+02, 7.83140500e+02,\n",
       "       8.16649750e+02, 3.33414625e+02, 1.19563150e+03, 1.14445150e+03,\n",
       "       3.28325625e+02, 9.11367250e+02, 9.95548375e+02, 3.30814906e+02,\n",
       "       1.20555163e+03, 1.15655325e+03, 3.37518375e+02, 1.10109525e+03,\n",
       "       1.05740988e+03, 3.24281750e+02, 1.08551838e+03, 1.08060275e+03,\n",
       "       3.06307531e+02, 9.25106250e+02, 8.76628625e+02, 3.08083625e+02,\n",
       "       1.12367550e+03, 1.10971825e+03, 3.18612406e+02, 1.02404581e+03,\n",
       "       1.09001412e+03, 9.35221563e+02, 7.28314375e+02, 9.58110375e+02,\n",
       "       7.10404250e+02, 8.18886062e+02, 1.10217262e+03, 1.07109055e+02,\n",
       "       9.52404625e+02, 1.05548438e+03, 1.10622555e+02, 8.90495500e+02,\n",
       "       9.49102875e+02, 2.68627563e+02, 9.46388125e+02, 9.83355188e+02,\n",
       "       3.72529406e+02, 1.01528031e+03, 9.91598187e+02, 4.00545687e+02,\n",
       "       9.49362875e+02, 9.84420250e+02, 3.97372687e+02, 1.02686281e+03,\n",
       "       1.02766356e+03, 3.86611406e+02, 9.50683813e+02, 9.09928250e+02,\n",
       "       3.49536156e+02, 9.89018375e+02, 1.01088963e+03, 4.11863969e+02,\n",
       "       1.00599375e+03, 9.79590250e+02, 3.70019656e+02, 1.13960925e+03,\n",
       "       1.06592950e+03, 4.09017375e+02, 9.91319625e+02, 9.25365250e+02,\n",
       "       3.81458219e+02, 1.15579700e+03, 1.18800600e+03, 3.66043875e+02,\n",
       "       9.16751562e+02, 9.02402563e+02, 4.80886375e+02, 4.95876375e+02,\n",
       "       1.02172056e+03, 5.85734125e+02, 4.53102594e+02, 9.46494750e+02,\n",
       "       5.76181625e+02, 7.87910687e+02, 1.10842213e+03, 5.87382062e+02,\n",
       "       9.96761750e+02, 1.04090894e+03, 8.79819313e+02, 1.13491037e+03,\n",
       "       1.14967338e+03, 7.88876000e+02, 9.14984500e+02, 9.33697937e+02,\n",
       "       5.94718000e+02, 1.06064837e+03, 1.09369625e+03, 7.55944062e+02,\n",
       "       1.05086300e+03, 1.03125031e+03, 8.24143875e+02, 1.05119062e+03,\n",
       "       1.03621700e+03, 8.26694875e+02, 1.03403650e+03, 9.97363812e+02,\n",
       "       5.92331500e+02, 1.02232838e+03, 1.08270500e+03, 7.57352188e+02,\n",
       "       8.13579500e+02, 8.02311375e+02, 7.40115812e+02, 9.86559000e+02,\n",
       "       6.03556500e+02, 8.17879937e+02, 9.41283000e+02, 9.68498125e+02,\n",
       "       1.04594862e+03, 7.97440375e+02, 6.07279188e+02, 1.16568650e+03,\n",
       "       2.36707875e+02, 1.85908500e+02, 9.21615375e+02, 4.17427281e+02,\n",
       "       2.84983187e+02, 1.06659638e+03, 5.17565812e+02, 3.89040719e+02,\n",
       "       8.35966563e+02, 1.99659234e+02, 1.30013523e+02, 1.04400531e+03,\n",
       "       2.67503406e+02, 1.88026156e+02, 9.54252250e+02, 4.72565875e+02,\n",
       "       8.36524750e+02, 1.04637319e+03, 2.50899406e+02, 2.02421266e+02,\n",
       "       9.46800187e+02, 8.53937688e+02, 9.49344625e+02, 1.06553275e+03,\n",
       "       6.26844250e+02, 7.85509125e+02, 7.77828000e+02, 7.19161125e+02,\n",
       "       1.09424600e+03, 1.11352075e+03, 5.94010750e+02, 9.29057500e+02,\n",
       "       9.46083750e+02, 1.11831288e+03, 7.86884250e+02, 1.11534475e+03,\n",
       "       8.04936063e+02, 1.01495819e+03, 9.42927812e+02, 6.30042063e+02,\n",
       "       1.10103350e+03, 1.15257300e+03, 3.84023219e+02, 5.09589781e+02,\n",
       "       8.32626250e+02, 2.74632344e+02, 3.36660344e+02, 1.27258975e+03,\n",
       "       7.66206720e+01, 2.24117828e+02, 1.04262944e+03, 9.80559450e+01,\n",
       "       1.68920922e+02, 1.18578850e+03, 1.01920172e+02, 1.70581078e+02,\n",
       "       9.92344812e+02, 1.04162922e+02, 1.65461922e+02, 1.08542037e+03,\n",
       "       1.04176047e+02, 1.70219641e+02, 9.10507250e+02, 1.20407570e+02,\n",
       "       1.64993063e+02, 1.05798762e+03, 1.26020500e+02, 1.73450938e+02,\n",
       "       1.05146862e+03, 1.26193797e+02, 1.68982875e+02, 9.82308375e+02,\n",
       "       1.29102617e+02, 1.71453203e+02, 1.06205488e+03, 1.27968266e+02,\n",
       "       1.67891125e+02, 9.92993750e+02, 1.32404453e+02, 2.51199281e+02,\n",
       "       8.98177063e+02, 1.11664148e+02, 1.31888641e+02, 1.00287906e+03,\n",
       "       1.14611437e+02, 2.50861781e+02, 1.01346312e+03, 1.17316797e+02,\n",
       "       1.45843562e+02, 9.60790562e+02, 1.11028906e+02, 2.85745656e+02,\n",
       "       1.09398788e+03, 1.09323828e+02, 1.39924125e+02, 1.00060063e+03,\n",
       "       1.08880609e+02, 1.74869313e+02, 9.67607375e+02, 1.11607555e+02,\n",
       "       2.59046875e+02, 9.55047563e+02, 1.11587930e+02, 1.63453719e+02,\n",
       "       1.09741825e+03, 1.14346102e+02, 1.76294000e+02, 9.26677312e+02,\n",
       "       1.13557617e+02, 1.81633453e+02, 1.11480038e+03, 1.13044086e+02,\n",
       "       1.89595594e+02, 9.41995688e+02, 1.12424656e+02, 2.87578375e+02,\n",
       "       9.97176187e+02, 1.14870594e+02, 1.74252000e+02, 9.70016313e+02,\n",
       "       1.18121328e+02, 1.63877578e+02, 1.16463125e+03, 1.19691852e+02,\n",
       "       1.70058094e+02, 1.07783437e+03, 1.21212875e+02, 1.69253781e+02,\n",
       "       1.16896725e+03, 1.19605391e+02, 1.75814109e+02, 1.06841538e+03,\n",
       "       1.21470914e+02, 1.71467172e+02, 9.52173500e+02, 1.21131477e+02,\n",
       "       1.71333125e+02, 1.14337963e+03, 1.25593187e+02, 1.74906234e+02,\n",
       "       1.11844888e+03, 1.28248383e+02, 1.76592172e+02, 1.02945062e+03,\n",
       "       1.28206703e+02, 2.29633859e+02, 1.09291475e+03, 1.29169055e+02,\n",
       "       2.67430875e+02, 1.04422600e+03, 1.28075945e+02, 1.70349391e+02,\n",
       "       8.89663937e+02, 1.33807547e+02, 1.80142906e+02, 1.02576819e+03,\n",
       "       1.33098750e+02, 1.64844328e+02, 1.00771731e+03, 1.37995812e+02,\n",
       "       1.81727922e+02, 1.00907175e+03, 1.36026750e+02, 1.79372906e+02,\n",
       "       9.67733313e+02, 1.37465969e+02, 1.74735344e+02, 1.02882350e+03,\n",
       "       1.33270609e+02, 1.65913875e+02, 8.31268063e+02, 1.36017859e+02,\n",
       "       1.77503141e+02, 1.13585012e+03, 1.39825469e+02, 1.86535859e+02,\n",
       "       9.73629437e+02, 1.44946656e+02, 1.96087469e+02, 1.09388000e+03,\n",
       "       1.43820234e+02, 2.72869125e+02, 9.25362313e+02, 1.45900609e+02,\n",
       "       1.61574406e+02, 1.10849488e+03, 1.42148984e+02, 1.93145516e+02,\n",
       "       7.99095750e+02, 1.45396500e+02, 1.95360953e+02, 1.18319138e+03,\n",
       "       1.48761156e+02, 2.09031266e+02, 1.06434850e+03, 1.54101969e+02,\n",
       "       2.03639422e+02, 1.08364763e+03, 1.57261469e+02, 2.06514297e+02,\n",
       "       1.09907625e+03, 1.56396125e+02, 2.16031281e+02, 1.10997725e+03,\n",
       "       1.53455594e+02, 1.93447078e+02, 9.76311937e+02, 4.11861344e+02,\n",
       "       4.37622156e+02, 1.12291213e+03, 6.47707688e+02, 8.16022875e+02,\n",
       "       1.13388900e+03, 2.64913031e+02, 1.69484625e+02, 1.02196050e+03,\n",
       "       2.59518672e+02, 3.55009920e+01, 1.02296069e+03, 2.12710953e+02,\n",
       "       8.66636800e+01, 1.07898100e+03, 1.88909578e+02, 1.41578875e+02,\n",
       "       9.25723813e+02, 2.09848469e+02, 1.68494469e+02, 1.13209650e+03,\n",
       "       1.91361281e+02, 1.73206781e+02, 1.02461225e+03, 2.18511797e+02,\n",
       "       1.68421922e+02, 1.11277762e+03, 4.33543031e+02, 1.83381875e+02,\n",
       "       1.04541250e+03, 2.10354031e+02, 1.85835266e+02, 1.02484450e+03,\n",
       "       3.86187187e+02, 1.87831156e+02, 9.48559750e+02, 2.04582234e+02,\n",
       "       1.98193250e+02, 1.02594294e+03, 2.14255281e+02, 1.97835250e+02,\n",
       "       1.06065137e+03, 2.07756500e+02, 2.04890391e+02, 9.49013250e+02,\n",
       "       2.13060453e+02, 2.08196828e+02, 1.05212175e+03, 5.38974000e+02,\n",
       "       2.80013469e+02, 8.93094687e+02, 2.18141812e+02, 2.84986312e+02,\n",
       "       1.05562613e+03, 9.20235437e+02, 1.04793463e+03, 1.00915337e+03,\n",
       "       6.19879875e+02, 9.39112000e+02, 1.17134137e+03, 2.02101016e+02,\n",
       "       2.53821547e+02, 1.13084687e+03, 2.43175312e+02, 3.11694594e+02,\n",
       "       1.20270087e+03, 1.09068338e+03, 7.86052437e+02, 9.96041375e+02,\n",
       "       1.01751350e+03, 7.97407125e+02, 1.07450475e+03, 1.11600788e+03,\n",
       "       8.09795938e+02, 1.02195469e+03, 9.93519875e+02, 7.27296062e+02,\n",
       "       1.06137112e+03, 9.73248250e+02, 6.38161812e+02, 1.05847363e+03,\n",
       "       1.18458738e+03, 7.31897000e+02, 1.04159856e+03, 7.66619250e+02,\n",
       "       4.80188250e+02, 8.24640813e+02, 4.43968437e+02, 6.87694750e+02,\n",
       "       1.02203719e+03, 9.10915000e+02, 9.56855437e+02, 9.99099750e+02,\n",
       "       1.01827994e+03, 1.02686513e+03, 1.05588150e+03, 9.65191687e+02,\n",
       "       9.78990250e+02, 9.32200938e+02, 1.07681625e+03, 6.01729875e+02,\n",
       "       9.39839250e+02, 2.83126525e+03, 4.63298600e+00, 5.43665900e+00,\n",
       "       2.91550000e+00, 3.32607200e+00, 2.03042000e+00, 5.19550000e+00,\n",
       "       2.81615020e+01, 2.83158100e+03, 4.96550000e+00, 5.15172000e+00,\n",
       "       1.65178500e+00, 4.78858500e+00, 1.95625400e+00, 3.75499000e-01,\n",
       "       3.89521640e+01])"
      ]
     },
     "metadata": {},
     "output_type": "display_data"
    },
    {
     "data": {
      "text/plain": [
       "'State'"
      ]
     },
     "metadata": {},
     "output_type": "display_data"
    },
    {
     "data": {
      "text/plain": [
       "array(['STA', 'RST', 'CON', 'FIN', 'INT', 'URN', 'STP', 'NRS', 'ECO',\n",
       "       'URP', 'URO', 'REQ'], dtype=object)"
      ]
     },
     "metadata": {},
     "output_type": "display_data"
    },
    {
     "data": {
      "text/plain": [
       "'dsPkts'"
      ]
     },
     "metadata": {},
     "output_type": "display_data"
    },
    {
     "data": {
      "text/plain": [
       "array([nan])"
      ]
     },
     "metadata": {},
     "output_type": "display_data"
    },
    {
     "data": {
      "text/plain": [
       "'ddPkts'"
      ]
     },
     "metadata": {},
     "output_type": "display_data"
    },
    {
     "data": {
      "text/plain": [
       "array([nan])"
      ]
     },
     "metadata": {},
     "output_type": "display_data"
    },
    {
     "data": {
      "text/plain": [
       "'dsBytes'"
      ]
     },
     "metadata": {},
     "output_type": "display_data"
    },
    {
     "data": {
      "text/plain": [
       "array([nan])"
      ]
     },
     "metadata": {},
     "output_type": "display_data"
    },
    {
     "data": {
      "text/plain": [
       "'ddBytes'"
      ]
     },
     "metadata": {},
     "output_type": "display_data"
    },
    {
     "data": {
      "text/plain": [
       "array([nan])"
      ]
     },
     "metadata": {},
     "output_type": "display_data"
    },
    {
     "data": {
      "text/plain": [
       "'pdsPkt'"
      ]
     },
     "metadata": {},
     "output_type": "display_data"
    },
    {
     "data": {
      "text/plain": [
       "array([nan])"
      ]
     },
     "metadata": {},
     "output_type": "display_data"
    },
    {
     "data": {
      "text/plain": [
       "'pddPkt'"
      ]
     },
     "metadata": {},
     "output_type": "display_data"
    },
    {
     "data": {
      "text/plain": [
       "array([nan])"
      ]
     },
     "metadata": {},
     "output_type": "display_data"
    },
    {
     "data": {
      "text/plain": [
       "'pdsByte'"
      ]
     },
     "metadata": {},
     "output_type": "display_data"
    },
    {
     "data": {
      "text/plain": [
       "array([nan])"
      ]
     },
     "metadata": {},
     "output_type": "display_data"
    },
    {
     "data": {
      "text/plain": [
       "'pddByte'"
      ]
     },
     "metadata": {},
     "output_type": "display_data"
    },
    {
     "data": {
      "text/plain": [
       "array([nan])"
      ]
     },
     "metadata": {},
     "output_type": "display_data"
    },
    {
     "data": {
      "text/plain": [
       "'(null)'"
      ]
     },
     "metadata": {},
     "output_type": "display_data"
    },
    {
     "data": {
      "text/plain": [
       "array([nan])"
      ]
     },
     "metadata": {},
     "output_type": "display_data"
    },
    {
     "data": {
      "text/plain": [
       "'SrcWin'"
      ]
     },
     "metadata": {},
     "output_type": "display_data"
    },
    {
     "data": {
      "text/plain": [
       "array([        nan, 1.02400e+03, 6.42560e+04, 6.41280e+04, 2.45680e+04,\n",
       "       1.73300e+03, 1.22900e+03, 1.21700e+03, 1.73000e+03, 1.72700e+03,\n",
       "       8.22272e+06, 0.00000e+00, 6.32320e+04, 6.40000e+04])"
      ]
     },
     "metadata": {},
     "output_type": "display_data"
    },
    {
     "data": {
      "text/plain": [
       "'DstWin'"
      ]
     },
     "metadata": {},
     "output_type": "display_data"
    },
    {
     "data": {
      "text/plain": [
       "array([         nan, 0.000000e+00, 2.920000e+04, 1.482752e+07,\n",
       "       2.918400e+04, 3.020800e+04, 1.217000e+03, 2.456800e+04,\n",
       "       1.722000e+04, 1.719000e+04, 2.453800e+04, 2.453000e+04,\n",
       "       2.452300e+04, 2.453500e+04, 1.718300e+04, 1.718800e+04,\n",
       "       2.456000e+04, 2.453600e+04, 2.453200e+04, 1.024000e+03])"
      ]
     },
     "metadata": {},
     "output_type": "display_data"
    },
    {
     "data": {
      "text/plain": [
       "'JDelay'"
      ]
     },
     "metadata": {},
     "output_type": "display_data"
    },
    {
     "data": {
      "text/plain": [
       "array([nan])"
      ]
     },
     "metadata": {},
     "output_type": "display_data"
    },
    {
     "data": {
      "text/plain": [
       "'LDelay'"
      ]
     },
     "metadata": {},
     "output_type": "display_data"
    },
    {
     "data": {
      "text/plain": [
       "array([nan])"
      ]
     },
     "metadata": {},
     "output_type": "display_data"
    },
    {
     "data": {
      "text/plain": [
       "'Bins'"
      ]
     },
     "metadata": {},
     "output_type": "display_data"
    },
    {
     "data": {
      "text/plain": [
       "array([nan])"
      ]
     },
     "metadata": {},
     "output_type": "display_data"
    },
    {
     "data": {
      "text/plain": [
       "'Bin'"
      ]
     },
     "metadata": {},
     "output_type": "display_data"
    },
    {
     "data": {
      "text/plain": [
       "array([nan])"
      ]
     },
     "metadata": {},
     "output_type": "display_data"
    },
    {
     "data": {
      "text/plain": [
       "'SrcTCPBase'"
      ]
     },
     "metadata": {},
     "output_type": "display_data"
    },
    {
     "data": {
      "text/plain": [
       "array([           nan, 4.29496730e+09, 3.37396474e+09, ...,\n",
       "       3.80639809e+09, 2.54308484e+09, 2.22254042e+09])"
      ]
     },
     "metadata": {},
     "output_type": "display_data"
    },
    {
     "data": {
      "text/plain": [
       "'DstTCPBase'"
      ]
     },
     "metadata": {},
     "output_type": "display_data"
    },
    {
     "data": {
      "text/plain": [
       "array([           nan, 2.99755836e+09, 9.68630097e+08, 3.97706959e+09,\n",
       "       2.77793037e+09, 4.16142192e+09, 1.81460299e+09, 2.94545765e+09,\n",
       "       1.53249344e+09, 3.17272259e+09, 3.97272270e+09, 2.20462576e+09,\n",
       "       1.87810597e+09, 4.49682690e+08, 9.79348209e+08, 3.84078980e+09,\n",
       "       3.65164482e+09, 7.27826199e+08, 3.52444728e+09, 2.74379276e+09,\n",
       "       2.85540856e+09, 3.69576245e+09, 2.64899911e+08, 2.68923233e+09,\n",
       "       1.71087160e+09, 3.90399490e+09, 6.33737985e+08, 1.72249136e+09,\n",
       "       3.47671448e+08, 3.21777790e+09, 3.43865300e+08, 1.24501222e+09,\n",
       "       3.71258961e+09, 3.06103473e+09, 1.91476527e+09, 3.06176493e+09,\n",
       "       1.28790365e+09, 1.05555993e+09, 2.09276518e+09, 4.14706099e+09,\n",
       "       3.70506335e+09, 2.14579970e+09, 2.29744171e+09, 2.55983728e+09,\n",
       "       2.12525578e+09, 2.42646595e+08, 1.63933949e+09, 2.85934035e+09,\n",
       "       3.70831833e+09, 2.50588100e+09, 1.02985891e+09, 1.72591872e+09,\n",
       "       3.56566626e+09, 5.92285565e+08, 2.34833788e+09, 3.90407922e+09,\n",
       "       9.71519732e+08, 2.05151251e+08, 1.51561687e+09, 4.17826740e+08,\n",
       "       3.66711362e+08, 1.47932792e+09, 3.18465322e+09, 1.28681974e+09,\n",
       "       1.44265972e+09, 1.35915294e+09, 3.96369602e+09, 1.06117844e+09,\n",
       "       1.43182028e+09, 8.74531527e+08, 3.82721913e+09, 2.30574621e+09,\n",
       "       1.97101016e+09, 8.44570399e+08, 2.54252309e+09, 5.60830056e+08,\n",
       "       4.03963759e+09, 1.81723144e+08, 2.05623668e+09, 1.77915747e+09,\n",
       "       4.22405232e+09, 2.58188314e+09, 1.16194640e+08, 3.28996337e+09,\n",
       "       3.82289328e+08, 1.12640028e+09, 1.29203583e+09, 3.03012222e+09,\n",
       "       1.09341967e+09, 2.88932005e+09, 1.27765764e+09, 7.46241518e+08,\n",
       "       2.88281677e+09, 1.00411686e+08, 3.62057699e+09, 1.49621424e+09,\n",
       "       1.73506989e+09, 2.51885632e+08, 5.18073895e+08, 4.12178231e+09,\n",
       "       3.15907640e+09, 4.11336879e+08, 5.80751800e+07, 1.74778198e+09,\n",
       "       1.48586749e+09, 5.80898380e+07, 1.74778507e+09, 1.48598600e+09,\n",
       "       5.81024460e+07, 1.74778770e+09, 5.81171140e+07, 1.48608424e+09,\n",
       "       1.74779069e+09, 5.81307420e+07, 1.48618302e+09, 1.74779435e+09,\n",
       "       5.81452460e+07, 1.48628122e+09, 1.74779734e+09, 5.81578700e+07,\n",
       "       1.48638602e+09, 1.74779998e+09, 5.81710520e+07, 1.48639081e+09,\n",
       "       1.74780296e+09, 5.81822800e+07, 1.48639647e+09, 1.74780596e+09,\n",
       "       5.81935080e+07, 1.48640344e+09, 1.74780996e+09, 5.82075420e+07,\n",
       "       1.48640943e+09, 1.74781270e+09, 5.82205560e+07, 1.48641558e+09,\n",
       "       1.74781569e+09, 5.82335700e+07, 1.48642110e+09, 1.74781832e+09,\n",
       "       5.82466000e+07, 1.48642707e+09, 1.74782131e+09, 5.82584550e+07,\n",
       "       1.48643825e+09, 1.74782395e+09, 5.82734890e+07, 1.48645494e+09,\n",
       "       1.74782796e+09, 5.82847650e+07, 1.48647897e+09, 1.74783095e+09,\n",
       "       5.82978190e+07, 1.48648807e+09, 1.74783394e+09, 5.83090470e+07,\n",
       "       1.48649292e+09, 1.74783698e+09, 5.83220610e+07, 1.48649796e+09,\n",
       "       1.74783964e+09, 1.48650281e+09, 5.83332890e+07, 1.74784265e+09,\n",
       "       1.48650887e+09, 5.83473230e+07, 1.74784631e+09, 1.48651329e+09,\n",
       "       5.83603370e+07, 1.74784930e+09, 1.48651833e+09, 5.83733510e+07,\n",
       "       1.74785229e+09, 1.48652321e+09, 5.83845790e+07, 1.74785492e+09,\n",
       "       1.48652789e+09, 5.83975930e+07, 1.74785791e+09, 1.48653310e+09,\n",
       "       5.84089170e+07, 1.74786055e+09, 1.48653880e+09, 5.84229510e+07,\n",
       "       1.74786456e+09, 1.48654401e+09, 5.84341790e+07, 1.74786720e+09,\n",
       "       1.48654869e+09, 5.84471930e+07, 1.74787018e+09, 1.48655390e+09,\n",
       "       5.84584210e+07, 1.74787344e+09, 1.48655875e+09, 5.84714350e+07,\n",
       "       1.74787969e+09, 1.48656390e+09, 5.84844490e+07, 1.74788241e+09,\n",
       "       1.48656977e+09, 5.84984830e+07, 1.74788642e+09, 1.48657481e+09,\n",
       "       5.85097110e+07, 1.74788906e+09, 1.48657966e+09, 5.85227250e+07,\n",
       "       1.74789518e+09, 1.48658475e+09, 5.85339530e+07, 1.74789794e+09,\n",
       "       1.48658944e+09, 5.85470630e+07, 1.74790091e+09, 1.48659429e+09,\n",
       "       5.85582110e+07, 1.74790358e+09, 1.48660046e+09, 5.85722530e+07,\n",
       "       1.74790763e+09, 1.48660524e+09, 5.85835530e+07, 1.74791017e+09,\n",
       "       1.48661028e+09, 5.85965670e+07, 1.74791326e+09, 1.48661502e+09,\n",
       "       5.86077950e+07, 1.74791625e+09, 1.48662022e+09, 5.86207530e+07,\n",
       "       1.74791889e+09, 1.48662491e+09, 5.86320370e+07, 1.74792188e+09,\n",
       "       1.48663124e+09, 5.86460710e+07, 1.74792553e+09, 1.48663604e+09,\n",
       "       5.86590850e+07, 1.74792852e+09, 1.48664075e+09, 5.86703130e+07,\n",
       "       1.74793116e+09, 1.48664560e+09, 5.86833270e+07, 1.74793415e+09,\n",
       "       1.48665064e+09, 5.86945550e+07, 1.74793678e+09, 1.48665553e+09,\n",
       "       5.87075690e+07, 1.74793977e+09, 1.48666124e+09, 5.87198170e+07,\n",
       "       1.74794343e+09, 1.48666649e+09, 5.87328310e+07, 1.74794642e+09,\n",
       "       1.48667144e+09, 5.87440590e+07, 1.74794906e+09, 1.48667652e+09,\n",
       "       5.87570730e+07, 1.74795205e+09, 1.48668137e+09, 5.87683010e+07,\n",
       "       1.74795468e+09, 1.48668657e+09, 5.87813150e+07, 1.74795767e+09,\n",
       "       1.48669228e+09, 5.87935630e+07, 1.74796133e+09, 1.48669748e+09,\n",
       "       5.88065770e+07, 1.74796432e+09, 1.48670254e+09, 5.88178050e+07,\n",
       "       1.74796695e+09, 1.48670788e+09, 5.88308190e+07, 1.74796994e+09,\n",
       "       1.48671267e+09, 5.88420470e+07, 1.74797258e+09, 1.48671790e+09,\n",
       "       5.88551570e+07, 1.74797565e+09, 1.48672396e+09, 5.88673090e+07,\n",
       "       1.74797923e+09, 1.48672892e+09, 1.74798231e+09, 5.88804190e+07,\n",
       "       1.48673412e+09, 5.88916470e+07, 1.74798495e+09, 1.48673725e+09,\n",
       "       5.89056340e+07, 1.74798856e+09, 1.48674457e+09, 5.89175240e+07,\n",
       "       1.74799120e+09, 1.48677558e+09, 5.89305380e+07, 1.74799419e+09,\n",
       "       1.48680360e+09, 5.89445720e+07, 1.74799820e+09, 1.48680816e+09,\n",
       "       5.89558000e+07, 1.74800083e+09, 1.48681316e+09, 5.89688140e+07,\n",
       "       1.74800382e+09, 1.48681779e+09, 5.89800420e+07, 1.74800646e+09,\n",
       "       1.48682210e+09, 5.89930560e+07, 1.74800945e+09, 1.48682638e+09,\n",
       "       5.90045390e+07, 1.74801260e+09, 1.48683188e+09, 5.90183180e+07,\n",
       "       1.74801610e+09, 1.48683616e+09, 5.90295460e+07, 1.74801873e+09,\n",
       "       1.48684080e+09, 5.90425600e+07, 1.74802172e+09, 1.48684508e+09,\n",
       "       5.90537880e+07, 1.74802436e+09, 1.48684964e+09, 5.90668020e+07,\n",
       "       1.74802735e+09, 1.48685392e+09, 5.90787950e+07, 1.74803075e+09,\n",
       "       1.48685955e+09, 5.90936930e+07, 1.74803399e+09, 1.48695981e+09,\n",
       "       5.91063970e+07, 1.74803663e+09, 1.48705746e+09, 5.91203130e+07,\n",
       "       1.74803962e+09, 1.48716108e+09, 5.91316290e+07, 1.74804226e+09,\n",
       "       1.48716584e+09, 5.91446430e+07, 1.74804524e+09, 1.48717103e+09,\n",
       "       5.91569070e+07, 1.74804890e+09, 1.48717802e+09, 5.91700010e+07,\n",
       "       1.74805196e+09, 1.48718364e+09, 5.91812290e+07, 1.74805453e+09,\n",
       "       1.48718976e+09, 5.91941630e+07, 1.74805759e+09, 1.48719549e+09,\n",
       "       1.74806025e+09, 5.92054710e+07, 1.48720665e+09, 1.74806324e+09,\n",
       "       5.92184850e+07, 1.48721042e+09, 1.74806690e+09, 5.92310500e+07,\n",
       "       1.48721541e+09, 1.74806993e+09, 5.92456900e+07, 1.48721900e+09,\n",
       "       4.02518795e+08, 5.26407780e+07, 1.74745789e+09, 1.48013206e+09,\n",
       "       5.26599920e+07, 1.74746088e+09, 1.48062843e+09, 5.30501500e+07,\n",
       "       1.74746351e+09, 1.48120236e+09, 5.34401160e+07, 1.74746650e+09,\n",
       "       1.48123683e+09, 5.34813030e+07, 1.74747016e+09, 1.48214022e+09,\n",
       "       5.42149170e+07, 1.74747315e+09, 5.46192350e+07, 1.48263407e+09,\n",
       "       1.74747578e+09, 1.48264166e+09, 5.46360930e+07, 1.74747878e+09,\n",
       "       1.48313815e+09, 5.50252430e+07, 1.74748141e+09, 1.48314339e+09,\n",
       "       5.50409070e+07, 1.74748440e+09, 1.48314971e+09, 5.50531550e+07,\n",
       "       1.74748806e+09, 1.48315592e+09, 5.50661690e+07, 1.74749105e+09,\n",
       "       5.50773970e+07, 1.48316137e+09, 1.74749368e+09, 1.48316752e+09,\n",
       "       5.50904110e+07, 1.74749667e+09, 1.48317302e+09, 5.51016390e+07,\n",
       "       1.74749931e+09, 1.48317920e+09, 5.51146530e+07, 1.74750230e+09,\n",
       "       1.48319808e+09, 5.51427020e+07, 1.74750596e+09, 1.48324266e+09,\n",
       "       5.51659680e+07, 1.74750894e+09, 1.48326909e+09, 5.51868500e+07,\n",
       "       1.74751158e+09, 1.48328253e+09, 5.52096840e+07, 1.74751457e+09,\n",
       "       1.48329562e+09, 5.52305720e+07, 1.74751721e+09, 1.48330903e+09,\n",
       "       5.52533700e+07, 1.74752020e+09, 1.48332335e+09, 5.52749300e+07,\n",
       "       1.74752395e+09, 1.48333690e+09, 5.52980020e+07, 1.74752694e+09,\n",
       "       1.48334979e+09, 5.53180300e+07, 1.74752958e+09, 1.48336319e+09,\n",
       "       5.53409920e+07, 1.74753256e+09, 1.48337608e+09, 5.53613480e+07,\n",
       "       1.74753520e+09, 1.48338993e+09, 5.53839900e+07, 1.74753819e+09,\n",
       "       1.48340438e+09, 5.54029980e+07, 1.74754185e+09, 1.48341727e+09,\n",
       "       5.54251140e+07, 1.74754448e+09, 1.48343146e+09, 5.54464260e+07,\n",
       "       1.74754747e+09, 1.48344435e+09, 5.54676620e+07, 1.74755046e+09,\n",
       "       1.48345414e+09, 5.54872740e+07, 1.74755408e+09, 1.48346719e+09,\n",
       "       5.55099360e+07, 1.74755671e+09, 1.48348153e+09, 5.55329320e+07,\n",
       "       1.74756072e+09, 1.48349562e+09, 5.55529900e+07, 1.74756336e+09,\n",
       "       1.48350902e+09, 5.55760660e+07, 1.74756635e+09, 1.48352321e+09,\n",
       "       5.55975300e+07, 1.74756898e+09, 1.48353693e+09, 5.56203240e+07,\n",
       "       1.74757197e+09, 1.48355008e+09, 5.56405160e+07, 1.74757461e+09,\n",
       "       1.48356458e+09, 5.56610620e+07, 1.74757862e+09, 1.48357835e+09,\n",
       "       5.56837540e+07, 1.74758126e+09, 1.48359140e+09, 5.57052600e+07,\n",
       "       1.74758425e+09, 1.48360475e+09, 5.57274940e+07, 1.74758688e+09,\n",
       "       1.48361780e+09, 5.57486700e+07, 1.74758987e+09, 1.48363140e+09,\n",
       "       5.57713840e+07, 1.74759251e+09, 1.48364548e+09, 5.57929240e+07,\n",
       "       1.74759661e+09, 1.48365910e+09, 5.58160480e+07, 1.74759925e+09,\n",
       "       1.48367204e+09, 5.58362940e+07, 1.74760224e+09, 1.48368549e+09,\n",
       "       5.58590360e+07, 1.74760488e+09, 1.48369912e+09, 5.58785640e+07,\n",
       "       1.74760787e+09, 1.48371292e+09, 5.59001000e+07, 1.74761050e+09,\n",
       "       1.48372727e+09, 5.59229480e+07, 1.74761451e+09, 1.48374051e+09,\n",
       "       5.59436140e+07, 1.74761750e+09, 1.48375375e+09, 5.59665760e+07,\n",
       "       1.74762014e+09, 1.48376664e+09, 5.59875880e+07, 1.74762313e+09,\n",
       "       1.48378004e+09, 5.60098940e+07, 1.74762576e+09, 1.48379292e+09,\n",
       "       5.60309060e+07, 1.74762875e+09, 1.48380735e+09, 5.60548880e+07,\n",
       "       1.74763241e+09, 1.48382024e+09, 5.60752440e+07, 1.74763540e+09,\n",
       "       1.48383364e+09, 5.60978780e+07, 1.74763804e+09, 1.48384652e+09,\n",
       "       5.61190540e+07, 1.74764103e+09, 1.48385632e+09, 5.61397080e+07,\n",
       "       1.74764366e+09, 1.48386921e+09, 5.61614920e+07, 1.74764665e+09,\n",
       "       1.48388328e+09, 5.61835240e+07, 1.74765031e+09, 1.48389670e+09,\n",
       "       5.62063460e+07, 1.74765330e+09, 1.48390969e+09, 5.62269380e+07,\n",
       "       1.74765593e+09, 1.48392313e+09, 5.62497760e+07, 1.74765955e+09,\n",
       "       1.48393674e+09, 5.62713400e+07, 1.74766218e+09, 1.48395014e+09,\n",
       "       5.62933180e+07, 1.74766527e+09, 1.48396405e+09, 5.63149680e+07,\n",
       "       1.74766892e+09, 5.63341360e+07, 1.48397335e+09, 1.74767192e+09,\n",
       "       5.63519670e+07, 1.48398033e+09, 1.74767455e+09, 5.63753190e+07,\n",
       "       1.48403197e+09, 1.74767754e+09, 5.63966570e+07, 1.48408343e+09,\n",
       "       1.74768018e+09, 5.64169750e+07, 1.48409891e+09, 1.74768317e+09,\n",
       "       5.64399190e+07, 1.48411080e+09, 1.74768682e+09, 5.64594710e+07,\n",
       "       1.48412136e+09, 1.74768981e+09, 5.64817930e+07, 1.48413149e+09,\n",
       "       1.74769245e+09, 5.65006310e+07, 1.48414071e+09, 1.74769544e+09,\n",
       "       5.65187090e+07, 1.48414781e+09, 1.74769808e+09, 5.65382830e+07,\n",
       "       1.48415844e+09, 1.74770132e+09, 5.65564590e+07, 1.48416986e+09,\n",
       "       1.74770472e+09, 5.65771590e+07, 1.48418042e+09, 1.74770771e+09,\n",
       "       5.65982530e+07, 1.48419065e+09, 1.74771070e+09, 5.66186250e+07,\n",
       "       1.48420085e+09, 1.74771334e+09, 5.66401890e+07, 1.48421124e+09,\n",
       "       1.74771633e+09, 5.66547510e+07, 1.48421982e+09, 1.74771973e+09,\n",
       "       5.70510520e+07, 1.48469736e+09, 1.74772297e+09, 5.70631440e+07,\n",
       "       1.48470043e+09, 1.74772561e+09, 5.70818530e+07, 1.48470733e+09,\n",
       "       1.74772860e+09, 5.74729530e+07, 1.48518332e+09, 1.74773124e+09,\n",
       "       5.78635810e+07, 1.48568199e+09, 1.74773422e+09, 5.78769470e+07,\n",
       "       1.48568710e+09, 1.74773788e+09, 5.78909810e+07, 1.48569341e+09,\n",
       "       1.74774097e+09, 5.79040910e+07, 1.48569966e+09, 1.74774360e+09,\n",
       "       5.79152230e+07, 1.48570528e+09, 1.74774659e+09, 5.79264510e+07,\n",
       "       1.48571105e+09, 1.74774923e+09, 5.79394650e+07, 1.48571685e+09,\n",
       "       1.74775186e+09, 5.79615680e+07, 1.48573362e+09, 1.74775588e+09,\n",
       "       1.48574059e+09, 5.79787640e+07, 1.74775886e+09, 1.48574396e+09,\n",
       "       5.79918660e+07, 1.74776150e+09, 1.48574726e+09, 5.80051030e+07,\n",
       "       1.74776471e+09, 1.48575025e+09, 5.80181970e+07, 1.74776797e+09,\n",
       "       2.23498310e+07, 1.97088243e+09, 3.65742141e+09, 3.09862957e+08,\n",
       "       2.77702332e+08, 3.10045895e+09, 3.65015538e+09, 1.87723525e+09,\n",
       "       2.10310892e+09, 1.16758340e+08, 2.65811840e+09, 3.24103177e+09,\n",
       "       2.18908782e+09, 1.61498240e+09, 3.65521934e+09, 2.18112276e+08,\n",
       "       3.42024867e+08, 3.33094062e+09, 6.16325016e+08, 3.48433301e+09,\n",
       "       3.33852531e+09, 1.98686996e+09, 3.37647542e+09, 2.51971948e+09,\n",
       "       4.29496730e+09, 3.40891701e+09, 4.09376830e+09, 1.59265176e+09,\n",
       "       3.68832179e+09, 2.37095537e+09, 2.02088684e+09, 2.75825330e+09,\n",
       "       3.93611659e+09, 3.44111283e+08, 1.72730949e+09, 1.29916226e+09])"
      ]
     },
     "metadata": {},
     "output_type": "display_data"
    },
    {
     "data": {
      "text/plain": [
       "'TcpRtt'"
      ]
     },
     "metadata": {},
     "output_type": "display_data"
    },
    {
     "data": {
      "text/plain": [
       "array([0.0000e+00, 2.4000e-05, 1.7000e-05, 3.6320e-03, 7.9930e-03,\n",
       "       2.8000e-05, 1.3000e-05, 2.4680e-03, 2.3530e-03, 1.9190e-03,\n",
       "       1.1610e-03, 2.5950e-03, 2.1020e-03, 2.2060e-03, 2.3900e-03,\n",
       "       1.1460e-03, 1.3160e-03, 2.6640e-03, 1.8350e-03, 1.6620e-03,\n",
       "       2.2200e-03, 1.8410e-03, 1.0050e-03, 1.1680e-03, 2.8200e-03,\n",
       "       2.0100e-03, 1.1860e-03, 1.4000e-03, 2.6060e-03, 1.9100e-03,\n",
       "       2.2390e-03, 1.7350e-03, 1.9930e-03, 1.7080e-03, 2.6050e-03,\n",
       "       1.6070e-03, 1.5300e-03, 1.6980e-03, 1.8200e-03, 1.4650e-03,\n",
       "       1.8560e-03, 1.3050e-03, 1.7010e-03, 1.0260e-03, 1.3640e-03,\n",
       "       1.0570e-03, 2.0000e-05, 9.0000e-06, 1.7880e-03, 5.2570e-03,\n",
       "       1.1170e-03, 2.0190e-03, 1.3680e-03, 1.4880e-03, 1.4440e-03,\n",
       "       1.7020e-03, 1.4980e-03, 1.7260e-03, 3.1570e-03, 1.1510e-03,\n",
       "       1.3630e-03, 1.1850e-03, 4.3380e-03, 1.1730e-03, 2.3880e-03,\n",
       "       2.3160e-03, 1.9610e-03, 9.6600e-04, 1.2170e-03, 3.7770e-03,\n",
       "       2.7740e-03, 8.8700e-04, 2.3940e-03, 1.4930e-03, 2.7310e-03,\n",
       "       3.2040e-03, 2.5330e-03, 1.2220e-03, 1.1430e-03, 1.2320e-03,\n",
       "       8.0800e-04, 9.2000e-04, 1.1250e-03, 2.7330e-03, 2.1570e-03,\n",
       "       1.5716e-02, 3.6120e-03, 2.3430e-03, 4.6650e-03, 3.1950e-03,\n",
       "       3.0570e-03, 4.6610e-03, 4.5180e-03, 3.5500e-03, 1.9760e-03,\n",
       "       3.6860e-03, 1.5520e-03, 7.1790e-03, 6.1330e-03, 3.7690e-03,\n",
       "       3.8440e-03, 4.8830e-03, 1.9550e-03, 2.0360e-03])"
      ]
     },
     "metadata": {},
     "output_type": "display_data"
    },
    {
     "data": {
      "text/plain": [
       "'SynAck'"
      ]
     },
     "metadata": {},
     "output_type": "display_data"
    },
    {
     "data": {
      "text/plain": [
       "array([0.000e+00, 2.400e-05, 1.700e-05, 3.900e-05, 1.400e-05, 2.800e-05,\n",
       "       1.300e-05, 1.600e-05, 1.100e-05, 1.000e-05, 1.800e-05, 2.100e-05,\n",
       "       1.900e-05, 2.300e-05, 1.200e-05, 8.000e-06, 2.500e-05, 3.500e-05,\n",
       "       1.500e-05, 4.000e-05, 2.700e-05, 4.100e-05, 2.000e-05, 9.000e-06,\n",
       "       7.000e-06, 4.800e-05, 3.000e-05, 4.400e-05, 3.300e-05, 2.600e-05,\n",
       "       2.200e-05, 2.157e-03, 5.055e-03, 3.612e-03, 1.058e-03, 3.474e-03,\n",
       "       1.660e-03, 1.549e-03, 2.253e-03, 2.868e-03, 1.055e-03, 1.090e-03,\n",
       "       3.686e-03, 6.650e-04, 5.076e-03, 4.045e-03, 1.802e-03, 1.917e-03,\n",
       "       2.384e-03, 9.110e-04, 9.920e-04])"
      ]
     },
     "metadata": {},
     "output_type": "display_data"
    },
    {
     "data": {
      "text/plain": [
       "'AckDat'"
      ]
     },
     "metadata": {},
     "output_type": "display_data"
    },
    {
     "data": {
      "text/plain": [
       "array([0.      , 0.003593, 0.007979, 0.002452, 0.002342, 0.001891,\n",
       "       0.001151, 0.002577, 0.002081, 0.002187, 0.002367, 0.001136,\n",
       "       0.001304, 0.002641, 0.001822, 0.00165 , 0.002201, 0.001827,\n",
       "       0.000995, 0.00116 , 0.002795, 0.001993, 0.001174, 0.001388,\n",
       "       0.002571, 0.001898, 0.002221, 0.00172 , 0.001979, 0.001668,\n",
       "       0.002584, 0.001594, 0.001517, 0.001671, 0.001797, 0.001452,\n",
       "       0.001815, 0.001286, 0.001691, 0.00101 , 0.001348, 0.001046,\n",
       "       0.001825, 0.001781, 0.005209, 0.001087, 0.002003, 0.001355,\n",
       "       0.00148 , 0.001427, 0.001688, 0.001483, 0.001709, 0.003113,\n",
       "       0.001118, 0.001353, 0.001172, 0.004308, 0.001162, 0.002298,\n",
       "       0.001943, 0.000955, 0.001206, 0.003751, 0.002752, 0.000877,\n",
       "       0.002373, 0.001135, 0.001476, 0.002712, 0.003176, 0.00251 ,\n",
       "       0.00121 , 0.00122 , 0.000798, 0.000909, 0.001108, 0.002703,\n",
       "       0.010661, 0.001285, 0.001191, 0.001535, 0.001508, 0.002408,\n",
       "       0.002495, 0.000886, 0.000887, 0.002103, 0.002088, 0.001967,\n",
       "       0.001927, 0.002499, 0.001044])"
      ]
     },
     "metadata": {},
     "output_type": "display_data"
    },
    {
     "data": {
      "text/plain": [
       "'TcpOpt'"
      ]
     },
     "metadata": {},
     "output_type": "display_data"
    },
    {
     "data": {
      "text/plain": [
       "array([nan, 'M', 'Mws   T', '      T', '   S  T', 'MwsS  T'], dtype=object)"
      ]
     },
     "metadata": {},
     "output_type": "display_data"
    },
    {
     "data": {
      "text/plain": [
       "'Inode'"
      ]
     },
     "metadata": {},
     "output_type": "display_data"
    },
    {
     "data": {
      "text/plain": [
       "array([nan, '172.17.0.1', '192.168.20.131', '192.168.20.132',\n",
       "       '192.168.20.133', '192.168.20.134'], dtype=object)"
      ]
     },
     "metadata": {},
     "output_type": "display_data"
    },
    {
     "data": {
      "text/plain": [
       "'Offset'"
      ]
     },
     "metadata": {},
     "output_type": "display_data"
    },
    {
     "data": {
      "text/plain": [
       "array([       0,      128,      368, ..., 10430544, 10430656, 10430768],\n",
       "      dtype=int64)"
      ]
     },
     "metadata": {},
     "output_type": "display_data"
    },
    {
     "data": {
      "text/plain": [
       "'sPktSz'"
      ]
     },
     "metadata": {},
     "output_type": "display_data"
    },
    {
     "data": {
      "text/plain": [
       "array([nan])"
      ]
     },
     "metadata": {},
     "output_type": "display_data"
    },
    {
     "data": {
      "text/plain": [
       "'dPktSz'"
      ]
     },
     "metadata": {},
     "output_type": "display_data"
    },
    {
     "data": {
      "text/plain": [
       "array([nan])"
      ]
     },
     "metadata": {},
     "output_type": "display_data"
    },
    {
     "data": {
      "text/plain": [
       "'sMeanPktSz'"
      ]
     },
     "metadata": {},
     "output_type": "display_data"
    },
    {
     "data": {
      "text/plain": [
       "array([   0.      ,   54.      ,   42.      ,   56.      ,   68.666664,\n",
       "         71.199997,   69.      ,   86.      ,  114.      ,   72.5     ,\n",
       "         73.5     ,   79.      ,   76.      ,   71.5     ,   69.5     ,\n",
       "         90.      ,   78.5     ,   95.5     ,   97.25    ,  110.      ,\n",
       "         71.      ,   81.25    ,   70.25    ,   80.75    ,  123.75    ,\n",
       "         72.      ,   70.75    ,   73.75    ,   83.      ,   69.75    ,\n",
       "        111.75    ,   90.5     ,   81.      ,   80.      ,  102.      ,\n",
       "        190.399994,   98.199997,   99.199997,   70.333336,   73.333336,\n",
       "        199.487015,  329.752136, 1133.076904,  245.232468,  327.747894,\n",
       "       1298.      ,  354.596039,  299.074615, 1394.640015,  327.447144,\n",
       "        356.865356,  741.625   ,  215.      ,  333.637939,  260.635406,\n",
       "       1166.160034,  414.056061,  253.995956, 1227.043457,  728.400024,\n",
       "        653.119995, 1358.923096, 1062.413818,  562.622925, 1150.160034,\n",
       "        834.      ,  517.885742,  945.125   ,  590.982483,  528.731323,\n",
       "       1108.461548,  754.      ,  579.311462, 1244.434814,  694.173889,\n",
       "        557.983887,  632.588257,  535.738464, 1175.76001 ,  654.900024,\n",
       "        371.025208, 1195.333374,  353.175446,  219.118057,  967.157898,\n",
       "       1138.923096,  178.395569,  591.381836,  222.810059,  891.599976,\n",
       "        374.73468 ,  564.206909,  431.603973, 1222.      ,  868.133362,\n",
       "        362.627441, 1268.909058,  365.019226,  548.645142,  938.099976,\n",
       "        398.989014,  376.      ,  770.780518,  362.686279,  382.526306,\n",
       "        582.      ,  356.923065,  680.808533,  367.922333,  595.941162,\n",
       "        806.315796,  573.914917,  392.847839,  685.478271,  359.747559,\n",
       "        929.609741, 1132.576904,  382.968414,  915.882324,  711.063843,\n",
       "        826.421082,  925.5     ,  361.13208 ,  826.324341,  400.111115,\n",
       "        849.729736, 1248.869507,  382.229156,   60.      ,  770.232544,\n",
       "        386.276581,  722.727295, 1119.846191,  385.893616, 1195.290283,\n",
       "        391.333344,  879.714294,  365.711548,  620.148132,  387.361694,\n",
       "        819.361694,  488.33963 , 1319.925903,  376.34021 ,  876.378357,\n",
       "        371.61615 ,  890.      ,  640.431396,  355.666656,  475.917816,\n",
       "        893.411743,  708.133362, 1234.640015,  368.559998,  369.737366,\n",
       "       1177.384644,  362.666656,  600.357117,  847.444458,  365.861389,\n",
       "        941.636353,  363.254913,  376.226807,  998.129028,  365.564362,\n",
       "        655.714294,  573.186462,  869.771423,  377.917511,  379.288666,\n",
       "        788.400024,  378.783508, 1029.199951, 1069.851807,  411.632172,\n",
       "        868.666687,  387.893616,  834.820496,  371.41748 ,  692.869568,\n",
       "        925.428589, 1275.142822,  735.476196,  376.773193, 1056.392822,\n",
       "        453.916656,  472.945953,  161.53891 ,  173.585495,  540.984131,\n",
       "        787.333313,  374.888885,  392.87912 ,  392.945068,  547.599976,\n",
       "        407.908051,  760.119019, 1052.357178,  381.34021 ,  684.0625  ,\n",
       "        812.432434, 1098.      ,  385.849457,  400.224731,  413.764709,\n",
       "        404.022736,  993.09375 ,  995.166687,  409.741577,  319.419342,\n",
       "        850.657166,  268.337433,  323.421478,  266.635956,  432.457825,\n",
       "        284.979523,  897.085693,  537.719971,  601.111084,  601.56366 ,\n",
       "        581.93103 ,  918.484863,  511.535217, 1034.      ,  593.985901,\n",
       "        546.890625,  561.709656,  398.287048,  691.      ,  614.490906,\n",
       "        576.275879,   92.      ,  789.842102,  352.477051,  744.609741,\n",
       "       1335.      ,  839.052612, 1037.428589,  133.57843 ,  280.520966,\n",
       "        303.64679 ,  273.112   , 1037.642822,  323.564789,  298.022339,\n",
       "        282.351959,  230.511047,  320.612549,  306.257843,  278.784302,\n",
       "        255.119751,  298.874176,  581.825378,  410.240936,  404.35849 ,\n",
       "        617.962952,  581.8125  ,  478.131592,  689.416687,  506.871429,\n",
       "        621.692322,  534.307678,  969.      ,  555.015869,  574.383362,\n",
       "        846.972961,  547.859375,  290.604065,  304.542114,  199.077972,\n",
       "        264.682922,  173.837433,  224.807846,  206.270828,  219.636368,\n",
       "        205.317245,  223.182877,  201.304352,  218.360901,  204.963211,\n",
       "        224.563705,  203.734695,  206.717239,  207.795776,  230.666672,\n",
       "        205.503448,  212.916962, 1205.333374,  206.804199,  225.423996,\n",
       "       1234.      ,  207.076385,  217.161041, 1117.692261,  208.270828,\n",
       "        251.87439 ,  837.135132,  203.440277,  210.611115,  202.675674,\n",
       "        238.637161, 1450.      ,  202.047302,  214.189087,  222.200775,\n",
       "        235.454544, 1093.074097,  202.215485,  212.555557,  201.403275,\n",
       "        219.645279,  202.989899,  227.436737,  218.838959,  203.786667,\n",
       "        252.49231 ,  203.88475 ,  213.345459,  228.655731,  202.013107,\n",
       "        224.904755,  216.661713,  216.996307,  225.293915,  215.617981,\n",
       "        204.547943,  228.783997,  203.206787,  219.764252,  202.910889,\n",
       "        219.179108,  984.      ,  202.241608,  219.026215,  204.508591,\n",
       "        230.904572,  202.100677,  215.719559, 1154.23999 ,  204.384872,\n",
       "        224.601624,  201.758392,  234.412018,  204.220734,  211.663223,\n",
       "        201.705688,  225.39682 ,  206.313583,  208.293701,  205.826385,\n",
       "        221.279694,  203.138977,  217.606064,  202.508469,  223.085266,\n",
       "        208.068497,  209.875854,  208.801422,  228.677551,  210.485718,\n",
       "        216.597015,  216.725922,  226.539688,  242.700455,  211.464783,\n",
       "        218.779419,  201.778519,  215.638382,  203.993149,  223.858261,\n",
       "        203.680267,  215.697418,  208.447556,  224.625488,  225.389557,\n",
       "        206.948807,  223.716476,  865.222229,  255.069519,  258.837708,\n",
       "        335.661407,  498.342468,  218.385712,  172.217972,  241.103134,\n",
       "        161.291748,  225.967865,  186.091644,  217.776123,  216.384903,\n",
       "        236.515289,  217.623993,  211.658188,  218.712555,  227.687759,\n",
       "        255.237289,  252.083328,  253.490005,  216.857147,  218.846771,\n",
       "       1118.346191,  262.769226,  218.551178,  799.552612,  208.63829 ,\n",
       "        225.268906,   70.      ,  229.025208,  234.471115,  224.285721,\n",
       "        237.520355,  218.248062,  249.106796,  308.571442,  249.875641,\n",
       "        965.193542,  262.496033,  290.091309,  870.735291,  706.533325,\n",
       "       1044.571411,  335.434113,  563.920654,  268.693542,  279.446533,\n",
       "        366.586212,  367.817474,  829.282043,  626.3396  ,  505.830994,\n",
       "       1078.740723,  560.609375, 1291.727295,  809.538452,  542.015869,\n",
       "        738.      ,  654.015625,  599.824585,  500.714294,  324.260864,\n",
       "        320.75    ,  498.32431 ,  792.102539,  542.852478,  900.212097,\n",
       "        586.160706, 1042.321411,  203.      ,  183.      ,  724.909119,\n",
       "         78.      ,   58.      ,   87.      ,   74.      ,  102.800003,\n",
       "        191.199997,  100.      ,   99.      ,   69.714287,  130.      ,\n",
       "        120.      ,   93.      ,  121.      ,   88.      ,  116.      ,\n",
       "         96.      ,  124.      ,  106.      ,  134.      ,   62.      ,\n",
       "        234.      ,  262.      ,   82.      ,   65.      ,  118.      ,\n",
       "         66.      ,   94.      ,  109.      ,  137.      ,   34.      ,\n",
       "         72.85714 ])"
      ]
     },
     "metadata": {},
     "output_type": "display_data"
    },
    {
     "data": {
      "text/plain": [
       "'dMeanPktSz'"
      ]
     },
     "metadata": {},
     "output_type": "display_data"
    },
    {
     "data": {
      "text/plain": [
       "array([  0.      ,  54.      ,  42.      ,  58.      ,  74.      ,\n",
       "       171.      ,  68.666664, 110.      ,  99.      , 113.5     ,\n",
       "       162.800003, 158.600006, 159.      , 160.      , 192.5     ,\n",
       "       240.315582, 184.201614, 123.148148, 216.7939  , 189.607849,\n",
       "       122.085106, 195.085419, 191.367523, 132.444443, 195.790482,\n",
       "       197.192566, 155.170731, 187.882355, 192.703232, 140.75    ,\n",
       "       189.764709, 194.745697, 124.577774, 196.514847, 142.095245,\n",
       "       125.800003, 189.384613, 135.876541, 138.926834, 192.157303,\n",
       "       152.024689, 155.111115, 198.396225, 145.853333, 125.391304,\n",
       "       201.5625  , 141.146347, 142.666672, 196.139999, 134.185181,\n",
       "       128.761902, 187.775696, 143.545456, 188.216492, 154.730164,\n",
       "       120.916664, 201.441437, 147.803925, 140.259262, 187.247314,\n",
       "       147.464401, 128.291672, 186.870377, 148.718185, 186.731186,\n",
       "       141.78125 , 142.149994, 187.626175, 142.363632, 136.      ,\n",
       "       179.414139, 137.323532, 137.571426, 151.352112, 193.581818,\n",
       "       153.047623, 130.08696 , 197.454544, 133.954544, 188.77359 ,\n",
       "       142.15625 , 184.189468, 127.302322, 137.      , 144.84848 ,\n",
       "       180.383835, 151.164185, 197.158875, 149.541672, 140.34285 ,\n",
       "       131.899994, 138.0923  , 182.958328, 145.487808, 143.047623,\n",
       "       192.349518, 175.543854, 141.705887, 191.134613, 119.411766,\n",
       "       152.323532, 204.9505  , 159.255814, 144.75    , 181.752579,\n",
       "       130.292679, 140.615387, 194.851486, 173.368423, 144.369232,\n",
       "       128.818176, 142.819672, 194.529419, 133.409088, 197.152939,\n",
       "       122.936172, 154.114288, 202.330093, 139.636368, 147.118637,\n",
       "       179.      , 122.444443, 146.      , 193.588242, 143.655731,\n",
       "       190.596161, 123.304344, 139.21875 , 191.377777, 155.183105,\n",
       "       200.942307, 149.090912, 143.322586, 133.314285, 196.697678,\n",
       "       135.368423, 196.558136, 142.40625 , 200.164948, 127.020409,\n",
       "       149.911758, 194.926315, 139.119995, 145.57576 , 189.942856,\n",
       "       143.34375 , 145.375   , 142.984131, 185.446808, 143.671646,\n",
       "       197.698929, 147.244446, 137.197189, 145.731339, 140.90625 ,\n",
       "       146.369232, 186.275223, 125.03846 , 150.194443, 201.022217,\n",
       "       140.5     , 144.69841 , 198.42424 , 131.659576, 142.529419,\n",
       "       119.795921, 190.755554, 137.22728 , 185.547012, 138.259995,\n",
       "       133.731476, 182.568634, 140.023865, 137.190475, 141.2957  ,\n",
       "       191.303574, 147.836731, 128.465759, 142.984619, 140.741928,\n",
       "       137.866669, 138.542374, 190.815216, 127.686272, 151.90625 ,\n",
       "       194.775696, 138.916672, 135.032257, 198.094116, 143.233337,\n",
       "       139.93103 , 195.057465, 141.833328, 137.333328, 196.358688,\n",
       "       132.686279, 152.661545, 188.114761, 135.042557, 191.330002,\n",
       "       185.84906 , 196.722885, 191.36937 , 201.979004, 181.469391,\n",
       "       134.956528, 131.      , 139.183105, 193.75    , 134.981125,\n",
       "       152.30864 , 194.372543, 132.565216, 135.370377, 122.977776,\n",
       "       143.455704, 196.646469, 124.884613, 142.399994, 188.91304 ,\n",
       "       121.416664, 158.190079, 134.654541, 185.666672, 156.618179,\n",
       "       138.190475, 195.557526, 136.529419, 138.695648, 183.673462,\n",
       "       102.714287, 528.838257, 167.121048, 144.684204, 212.594513,\n",
       "       205.491592, 239.077805, 208.901428, 175.072784, 174.672821,\n",
       "       157.399994, 208.538177, 211.126404, 205.981003, 207.915756,\n",
       "       178.386673, 146.734039, 212.284332, 207.457657, 143.      ,\n",
       "       201.034485, 147.10257 , 192.268036, 141.646347, 129.61702 ,\n",
       "       134.149994, 142.875   , 140.310806, 137.045975, 164.842926,\n",
       "       197.070099, 145.478256, 141.050507, 170.331833, 143.524933,\n",
       "       182.011108, 141.932205, 178.482758, 136.376343, 174.791672,\n",
       "       118.720001, 135.450775, 172.532715, 140.973816, 174.341705,\n",
       "       135.481476, 137.703705, 172.814819, 134.542557, 173.101608,\n",
       "       136.178009, 175.34285 , 129.477829, 174.855621, 132.917877,\n",
       "       179.210007, 177.811768, 142.166672, 135.279572, 171.314285,\n",
       "       140.3246  , 175.292313, 136.032608, 169.59024 , 117.830688,\n",
       "       180.023254, 144.543472, 135.047623, 167.623322, 133.589737,\n",
       "       142.641708, 178.175613, 141.347595, 172.691483, 137.297867,\n",
       "       175.885712, 141.882355, 175.510208, 140.183777, 173.518875,\n",
       "       135.925537, 172.835983, 141.926697, 176.462372, 144.627457,\n",
       "       138.442108, 175.623184, 136.161285, 170.398056, 137.801071,\n",
       "       174.990189, 125.909088, 137.311478, 168.796112, 137.225128,\n",
       "       175.729462, 139.664917, 176.461533, 143.471695, 138.446808,\n",
       "       175.07547 , 137.24324 , 134.465607, 173.691483, 136.831573,\n",
       "       172.271027, 140.043472, 172.710388, 139.796799, 175.877548,\n",
       "       141.526321, 174.800003, 136.063492, 173.635422, 135.319366,\n",
       "       135.654053, 174.30928 , 175.34314 , 170.537308, 142.317459,\n",
       "       177.027771, 172.575912, 179.169998, 136.8022  , 180.464859,\n",
       "       184.701157, 181.259262, 184.451614, 137.686279, 137.047623,\n",
       "       185.486908, 135.534882, 136.554352, 181.039108, 137.132278,\n",
       "       182.520401, 135.480774, 140.360657, 182.562164, 136.547363,\n",
       "       187.425415, 126.509804, 138.80629 , 185.613266, 137.022903,\n",
       "       184.320984, 169.069366, 145.329544, 162.09877 , 136.16304 ,\n",
       "       178.305267, 136.196457, 171.274612, 136.381821, 186.757889,\n",
       "       145.771805, 181.011765, 141.442856, 179.309647, 137.352112,\n",
       "       139.222229, 180.86586 , 125.883118, 187.328857, 115.594406,\n",
       "       179.802322, 141.957138, 133.604172, 191.35173 , 147.542862,\n",
       "       145.093018, 178.5     , 139.860138, 183.843582, 140.144928,\n",
       "       179.17778 , 138.857147, 178.900528, 137.164383, 184.390244,\n",
       "       131.030304, 131.403839, 208.094299, 206.78154 , 175.927277,\n",
       "       131.489365, 168.23497 , 150.060974, 146.810806, 203.711273,\n",
       "       204.049011, 207.37822 , 213.316986, 186.414413, 142.298508,\n",
       "       149.052628, 125.346153, 197.100006, 143.197525, 184.425537,\n",
       "       138.038467, 193.590912, 139.910263, 143.360001, 215.344589,\n",
       "       164.623535, 179.880798, 150.048187, 124.627449, 133.279999,\n",
       "       191.980774, 141.02272 , 192.066666, 146.324997, 188.373825,\n",
       "       123.866669, 159.300003, 135.666672, 347.333344, 136.600006,\n",
       "       143.600006, 403.600006, 337.857147])"
      ]
     },
     "metadata": {},
     "output_type": "display_data"
    },
    {
     "data": {
      "text/plain": [
       "'sMaxPktSz'"
      ]
     },
     "metadata": {},
     "output_type": "display_data"
    },
    {
     "data": {
      "text/plain": [
       "array([  nan,   54.,   42.,   58.,   74.,   84.,   86.,  114.,   88.,\n",
       "        110.,   98.,   80.,  154.,  108.,  176.,  183.,  234.,   78.,\n",
       "        119.,   75.,  117.,  289.,   82.,   77.,   89.,  126.,  241.,\n",
       "        156.,  118.,  238.,  680.,  219.,  224.,  102., 1144., 6178.,\n",
       "       7096.,  215., 6682., 6418., 6578., 6866.,   60.,   92.,  243.,\n",
       "       6994.,   70.,  203.,   87.,  242.,  684.,  228.,  223.,  106.,\n",
       "        130.,  120.,   93.,  121.,  116.,   96.,  124.,   72.,  100.,\n",
       "        134.,   62.,   90.,  262.,   65.,   66.,   94.,  109.,  137.,\n",
       "         34.])"
      ]
     },
     "metadata": {},
     "output_type": "display_data"
    },
    {
     "data": {
      "text/plain": [
       "'dMaxPktSz'"
      ]
     },
     "metadata": {},
     "output_type": "display_data"
    },
    {
     "data": {
      "text/plain": [
       "array([  nan,   54.,   42.,   58.,   74.,  583.,  161.,  542.,  521.,\n",
       "        523.,  528.,  564., 6578.,  245.,  243., 1092., 6458.,  321.,\n",
       "       1100., 1144.,  340.,  395.,  347.,  786.,  599.,  392., 1264.,\n",
       "       1296.,  362., 1108.,  260., 6178., 1182., 2574., 1140., 3356.,\n",
       "       3790., 1620.,  289.,  790., 1132.,  368.,  806., 2228.,  254.,\n",
       "       1514.,  382.,  404.])"
      ]
     },
     "metadata": {},
     "output_type": "display_data"
    },
    {
     "data": {
      "text/plain": [
       "'sMinPktSz'"
      ]
     },
     "metadata": {},
     "output_type": "display_data"
    },
    {
     "data": {
      "text/plain": [
       "array([ nan,  54.,  42.,  66.,  86., 114., 215.,  60.,  92.,  70., 203.,\n",
       "       183.,  58.,  87.,  74., 102., 130., 120.,  93., 121.,  88., 116.,\n",
       "        96., 124.,  72., 100., 106., 134.,  62.,  90., 234., 262.,  82.,\n",
       "       110.,  65., 118.,  94., 109., 137.,  34.])"
      ]
     },
     "metadata": {},
     "output_type": "display_data"
    },
    {
     "data": {
      "text/plain": [
       "'dMinPktSz'"
      ]
     },
     "metadata": {},
     "output_type": "display_data"
    },
    {
     "data": {
      "text/plain": [
       "array([nan, 54., 42., 58., 74., 66.])"
      ]
     },
     "metadata": {},
     "output_type": "display_data"
    },
    {
     "data": {
      "text/plain": [
       "'Label'"
      ]
     },
     "metadata": {},
     "output_type": "display_data"
    },
    {
     "data": {
      "text/plain": [
       "array(['Probe'], dtype=object)"
      ]
     },
     "metadata": {},
     "output_type": "display_data"
    }
   ],
   "source": [
    "\"\"\"analizar valores de caracteristicas de probe\"\"\"\n",
    "valores_unicos(df_probe,caracteristicas)"
   ]
  },
  {
   "attachments": {},
   "cell_type": "markdown",
   "metadata": {},
   "source": [
    "# Definicion de variables"
   ]
  },
  {
   "cell_type": "code",
   "execution_count": 3,
   "metadata": {},
   "outputs": [],
   "source": [
    "\"\"\"matriz de caracteristicas\"\"\"\n",
    "X = caracteristicas[:-1]\n",
    "\"variables objetivo\"\n",
    "y = caracteristicas[121:]"
   ]
  }
 ],
 "metadata": {
  "kernelspec": {
   "display_name": "Python 3",
   "language": "python",
   "name": "python3"
  },
  "language_info": {
   "codemirror_mode": {
    "name": "ipython",
    "version": 3
   },
   "file_extension": ".py",
   "mimetype": "text/x-python",
   "name": "python",
   "nbconvert_exporter": "python",
   "pygments_lexer": "ipython3",
   "version": "3.8.10"
  },
  "orig_nbformat": 4,
  "vscode": {
   "interpreter": {
    "hash": "5c3d121086e35f129a20ca7f553230286826dfcc08161000ccf738c6df1a7518"
   }
  }
 },
 "nbformat": 4,
 "nbformat_minor": 2
}
