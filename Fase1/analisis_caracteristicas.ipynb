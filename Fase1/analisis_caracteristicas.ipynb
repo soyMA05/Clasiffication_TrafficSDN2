{
 "cells": [
  {
   "cell_type": "code",
   "execution_count": 1,
   "metadata": {},
   "outputs": [],
   "source": [
    "\"\"\"librerias\"\"\"\n",
    "import pandas as pd"
   ]
  },
  {
   "cell_type": "code",
   "execution_count": 3,
   "metadata": {},
   "outputs": [
    {
     "name": "stdout",
     "output_type": "stream",
     "text": [
      "<class 'pandas.core.frame.DataFrame'>\n",
      "RangeIndex: 111719 entries, 0 to 111718\n",
      "Data columns (total 122 columns):\n",
      " #    Column        Dtype  \n",
      "---   ------        -----  \n",
      " 0    SrcId         object \n",
      " 1    Rank          float64\n",
      " 2    StartTime     object \n",
      " 3    LastTime      object \n",
      " 4    SrcStartTime  object \n",
      " 5    DstStartTime  object \n",
      " 6    SrcLastTime   object \n",
      " 7    DstLastTime   object \n",
      " 8    Trans         float64\n",
      " 9    Seq           int64  \n",
      " 10   Flgs          object \n",
      " 11   RunTime       float64\n",
      " 12   Dur           float64\n",
      " 13   SrcDur        float64\n",
      " 14   DstDur        float64\n",
      " 15   Mean          float64\n",
      " 16   StdDev        float64\n",
      " 17   Sum           float64\n",
      " 18   Min           float64\n",
      " 19   Max           float64\n",
      " 20   Dir           object \n",
      " 21   SrcAddr       object \n",
      " 22   DstAddr       object \n",
      " 23   Proto         object \n",
      " 24   Sport         object \n",
      " 25   Dport         object \n",
      " 26   sTos          float64\n",
      " 27   dTos          float64\n",
      " 28   sDSb          object \n",
      " 29   dDSb          object \n",
      " 30   sTtl          float64\n",
      " 31   dTtl          float64\n",
      " 32   sIpId         object \n",
      " 33   dIpId         object \n",
      " 34   Cause         object \n",
      " 35   TotPkts       int64  \n",
      " 36   SrcPkts       int64  \n",
      " 37   DstPkts       int64  \n",
      " 38   TotBytes      int64  \n",
      " 39   SrcBytes      int64  \n",
      " 40   DstBytes      int64  \n",
      " 41   TotAppByte    int64  \n",
      " 42   SAppBytes     int64  \n",
      " 43   DAppBytes     int64  \n",
      " 44   PCRatio       float64\n",
      " 45   Load          float64\n",
      " 46   SrcLoad       float64\n",
      " 47   DstLoad       float64\n",
      " 48   Loss          int64  \n",
      " 49   SrcLoss       int64  \n",
      " 50   DstLoss       int64  \n",
      " 51   pLoss         float64\n",
      " 52   pSrcLoss      float64\n",
      " 53   pDstLoss      float64\n",
      " 54   Retrans       int64  \n",
      " 55   SrcRetra      int64  \n",
      " 56   DstRetra      int64  \n",
      " 57   pRetran       float64\n",
      " 58   pSrcRetr      float64\n",
      " 59   pDstRetr      float64\n",
      " 60   SrcGap        float64\n",
      " 61   DstGap        float64\n",
      " 62   Rate          float64\n",
      " 63   SrcRate       float64\n",
      " 64   DstRate       float64\n",
      " 65   SIntPkt       float64\n",
      " 66   DIntPkt       float64\n",
      " 67   SIntPktAct    float64\n",
      " 68   DIntPktAct    float64\n",
      " 69   SIntPktIdl    float64\n",
      " 70   DIntPktIdl    float64\n",
      " 71   SIntPktMax    float64\n",
      " 72   SIntPktMin    float64\n",
      " 73   DIntPktMax    float64\n",
      " 74   DIntPktMin    float64\n",
      " 75   SIPActMax     float64\n",
      " 76   SIPActMin     float64\n",
      " 77   DIPActMax     float64\n",
      " 78   DIPActMin     float64\n",
      " 79   SIPIdlMax     float64\n",
      " 80   SIPIdlMin     float64\n",
      " 81   DIPIdlMax     float64\n",
      " 82   DIPIdlMin     float64\n",
      " 83   SrcJitter     float64\n",
      " 84   DstJitter     float64\n",
      " 85   SrcJitAct     float64\n",
      " 86   DstJitAct     float64\n",
      " 87   SrcJitIdl     float64\n",
      " 88   DstJitIdl     float64\n",
      " 89   State         object \n",
      " 90   dsPkts        float64\n",
      " 91   ddPkts        float64\n",
      " 92   dsBytes       float64\n",
      " 93   ddBytes       float64\n",
      " 94   pdsPkt        float64\n",
      " 95   pddPkt        float64\n",
      " 96   pdsByte       float64\n",
      " 97   pddByte       float64\n",
      " 98   (null)        float64\n",
      " 99   SrcWin        float64\n",
      " 100  DstWin        float64\n",
      " 101  JDelay        float64\n",
      " 102  LDelay        float64\n",
      " 103  Bins          float64\n",
      " 104  Bin           float64\n",
      " 105  SrcTCPBase    float64\n",
      " 106  DstTCPBase    float64\n",
      " 107  TcpRtt        float64\n",
      " 108  SynAck        float64\n",
      " 109  AckDat        float64\n",
      " 110  TcpOpt        object \n",
      " 111  Inode         object \n",
      " 112  Offset        int64  \n",
      " 113  sPktSz        float64\n",
      " 114  dPktSz        float64\n",
      " 115  sMeanPktSz    float64\n",
      " 116  dMeanPktSz    float64\n",
      " 117  sMaxPktSz     float64\n",
      " 118  dMaxPktSz     float64\n",
      " 119  sMinPktSz     float64\n",
      " 120  dMinPktSz     float64\n",
      " 121  Label         object \n",
      "dtypes: float64(82), int64(17), object(23)\n",
      "memory usage: 104.0+ MB\n"
     ]
    }
   ],
   "source": [
    "df_normal = pd.read_csv('../../datos_SDN/araData/Normal.csv', low_memory=False)\n",
    "df_normal.info(verbose=True)"
   ]
  },
  {
   "cell_type": "code",
   "execution_count": 4,
   "metadata": {},
   "outputs": [
    {
     "data": {
      "text/plain": [
       "array(['127.0.1.1'], dtype=object)"
      ]
     },
     "execution_count": 4,
     "metadata": {},
     "output_type": "execute_result"
    }
   ],
   "source": [
    "\"\"\"identificador de origen argus = BAJA\"\"\" \n",
    "df_normal.SrcId.unique()"
   ]
  },
  {
   "cell_type": "code",
   "execution_count": 5,
   "metadata": {},
   "outputs": [
    {
     "data": {
      "text/plain": [
       "array([       nan, 1.0000e+00, 2.0000e+00, ..., 2.3480e+04, 2.3481e+04,\n",
       "       2.3482e+04])"
      ]
     },
     "execution_count": 5,
     "metadata": {},
     "output_type": "execute_result"
    }
   ],
   "source": [
    "\"\"\" numero de secuencia del registro de flujo = BAJA \"\"\"\n",
    "df_normal.Rank.unique()"
   ]
  },
  {
   "cell_type": "code",
   "execution_count": 6,
   "metadata": {},
   "outputs": [
    {
     "data": {
      "text/plain": [
       "array(['23:40:40.285879', '09:25:49.449442', '09:25:49.639147', ...,\n",
       "       '14:24:01.768778', '14:24:16.452088', '00:03:47.982916'],\n",
       "      dtype=object)"
      ]
     },
     "execution_count": 6,
     "metadata": {},
     "output_type": "execute_result"
    }
   ],
   "source": [
    "\"\"\"hora de inicio del registro del flujo = BAJA\"\"\"\n",
    "df_normal.StartTime.unique()"
   ]
  },
  {
   "cell_type": "code",
   "execution_count": 7,
   "metadata": {},
   "outputs": [
    {
     "data": {
      "text/plain": [
       "array(['23:40:40.284193', '09:26:00.900429', '09:26:02.413292', ...,\n",
       "       '14:24:18.269593', '14:24:18.569875', '14:24:19.391770'],\n",
       "      dtype=object)"
      ]
     },
     "execution_count": 7,
     "metadata": {},
     "output_type": "execute_result"
    }
   ],
   "source": [
    "\"\"\"hora en que finaliza el flujo registrado = BAJA \"\"\"\n",
    "df_normal.LastTime.unique()"
   ]
  },
  {
   "cell_type": "code",
   "execution_count": 8,
   "metadata": {},
   "outputs": [
    {
     "data": {
      "text/plain": [
       "array(['23:40:40.284193', '09:25:49.449442', '09:25:49.639147', ...,\n",
       "       '14:24:00.069120', '14:24:01.769407', '14:24:16.452088'],\n",
       "      dtype=object)"
      ]
     },
     "execution_count": 8,
     "metadata": {},
     "output_type": "execute_result"
    }
   ],
   "source": [
    "\"\"\"hora en que se inicia el flujo por parte del host origen = BAJA\"\"\"\n",
    "df_normal.SrcStartTime.unique()"
   ]
  },
  {
   "cell_type": "code",
   "execution_count": 9,
   "metadata": {},
   "outputs": [
    {
     "data": {
      "text/plain": [
       "array(['23:40:40.284193', '09:25:49.451096', '09:25:49.640548', ...,\n",
       "       '14:24:00.068618', '14:24:01.768778', '14:24:16.452760'],\n",
       "      dtype=object)"
      ]
     },
     "execution_count": 9,
     "metadata": {},
     "output_type": "execute_result"
    }
   ],
   "source": [
    "\"\"\"hora en que se inicia el flujo por parte del host destino = BAJA\"\"\"\n",
    "df_normal.DstStartTime.unique()"
   ]
  },
  {
   "cell_type": "code",
   "execution_count": null,
   "metadata": {},
   "outputs": [],
   "source": [
    "\"\"\"hora en que se finaliza el flujo por parte del host origen = BAJA\"\"\"\n",
    "df_normal.SrcLastTime.unique()"
   ]
  },
  {
   "cell_type": "code",
   "execution_count": null,
   "metadata": {},
   "outputs": [],
   "source": [
    "\"\"\"hora en que se finaliza el flujo por parte del host destino = BAJA\"\"\"\n",
    "df_normal.DstLastTime.unique()"
   ]
  },
  {
   "cell_type": "code",
   "execution_count": 10,
   "metadata": {},
   "outputs": [
    {
     "data": {
      "text/plain": [
       "array([nan,  1.])"
      ]
     },
     "execution_count": 10,
     "metadata": {},
     "output_type": "execute_result"
    }
   ],
   "source": [
    "\"\"\" contador de registros de flujos agregados = BAJA\"\"\"\n",
    "df_normal.Trans.unique()"
   ]
  },
  {
   "cell_type": "code",
   "execution_count": 11,
   "metadata": {},
   "outputs": [
    {
     "data": {
      "text/plain": [
       "array([    0,     1,     2, ..., 18662, 18663, 18664], dtype=int64)"
      ]
     },
     "execution_count": 11,
     "metadata": {},
     "output_type": "execute_result"
    }
   ],
   "source": [
    "\"\"\"número de secuencia argus = ? \"\"\"\n",
    "df_normal.Seq.unique()"
   ]
  },
  {
   "cell_type": "code",
   "execution_count": 12,
   "metadata": {},
   "outputs": [
    {
     "data": {
      "text/plain": [
       "array(['          ', ' M        ', ' e        ', ' M g      ',\n",
       "       ' M r      ', ' M dS     ', ' e g      ', ' e     A  ',\n",
       "       ' eU       ', ' M d      ', ' e s      ', ' e d      ',\n",
       "       ' M i      ', ' M s      ', ' M  S     ', ' M  D     ',\n",
       "       ' M sD     ', ' M &      ', ' e *      ', ' M *      ',\n",
       "       ' e dD     '], dtype=object)"
      ]
     },
     "execution_count": 12,
     "metadata": {},
     "output_type": "execute_result"
    }
   ],
   "source": [
    "\"\"\"Indicadores de estado de flujo vistos en la transacción = MEDIA\n",
    "(indica el proposito que tiene el paquete o segmento)\"\"\"\n",
    "df_normal.Flgs.unique()"
   ]
  },
  {
   "cell_type": "code",
   "execution_count": 13,
   "metadata": {},
   "outputs": [
    {
     "data": {
      "text/plain": [
       "array([1.6860000e-03, 1.1450987e+01, 1.2774145e+01, ..., 1.6801098e+01,\n",
       "       2.9396820e+00, 1.0115290e+00])"
      ]
     },
     "execution_count": 13,
     "metadata": {},
     "output_type": "execute_result"
    }
   ],
   "source": [
    "\"\"\" duracion total del flujo en segundos = ALTA\"\"\"\n",
    "df_normal.Dur.unique()"
   ]
  },
  {
   "cell_type": "code",
   "execution_count": 14,
   "metadata": {},
   "outputs": [
    {
     "data": {
      "text/plain": [
       "array([1.6860000e-03, 1.1449797e+01, 1.2774145e+01, ..., 1.6800465e+01,\n",
       "       2.9396820e+00, 1.0115290e+00])"
      ]
     },
     "execution_count": 14,
     "metadata": {},
     "output_type": "execute_result"
    }
   ],
   "source": [
    "\"\"\" duracion del flujo por parte del host origen = MEDIA\"\"\"\n",
    "df_normal.SrcDur.unique()"
   ]
  },
  {
   "cell_type": "code",
   "execution_count": 15,
   "metadata": {},
   "outputs": [
    {
     "data": {
      "text/plain": [
       "array([1.6860000e-03, 1.1449333e+01, 1.2772697e+01, ..., 1.6801098e+01,\n",
       "       2.8952560e+00, 1.0115290e+00])"
      ]
     },
     "execution_count": 15,
     "metadata": {},
     "output_type": "execute_result"
    }
   ],
   "source": [
    "\"\"\" duracion del flujo por parte del host destino = BAJA\"\"\"\n",
    "df_normal.DstDur.unique()"
   ]
  },
  {
   "cell_type": "code",
   "execution_count": null,
   "metadata": {},
   "outputs": [],
   "source": [
    "\"\"\" desviación estándar de tiempos de duración flujos agregados == ALTA\"\"\"\n",
    "df_normal.StdDev.unique()"
   ]
  },
  {
   "cell_type": "code",
   "execution_count": null,
   "metadata": {},
   "outputs": [],
   "source": [
    "\"\"\" \"\"\"\n",
    "df_normal..unique()"
   ]
  },
  {
   "cell_type": "code",
   "execution_count": null,
   "metadata": {},
   "outputs": [],
   "source": [
    "\"\"\" \"\"\"\n",
    "df_normal..unique()"
   ]
  },
  {
   "cell_type": "code",
   "execution_count": null,
   "metadata": {},
   "outputs": [],
   "source": [
    "\"\"\" \"\"\"\n",
    "df_normal..unique()"
   ]
  },
  {
   "cell_type": "code",
   "execution_count": null,
   "metadata": {},
   "outputs": [],
   "source": [
    "\"\"\" \"\"\"\n",
    "df_normal..unique()"
   ]
  },
  {
   "cell_type": "code",
   "execution_count": null,
   "metadata": {},
   "outputs": [],
   "source": [
    "\"\"\" \"\"\"\n",
    "df_normal..unique()"
   ]
  },
  {
   "cell_type": "code",
   "execution_count": null,
   "metadata": {},
   "outputs": [],
   "source": [
    "\"\"\" \"\"\"\n",
    "df_normal..unique()"
   ]
  },
  {
   "cell_type": "code",
   "execution_count": null,
   "metadata": {},
   "outputs": [],
   "source": [
    "\"\"\" \"\"\"\n",
    "df_normal..unique()"
   ]
  },
  {
   "cell_type": "code",
   "execution_count": null,
   "metadata": {},
   "outputs": [],
   "source": [
    "\"\"\" \"\"\"\n",
    "df_normal..unique()"
   ]
  }
 ],
 "metadata": {
  "kernelspec": {
   "display_name": "Python 3",
   "language": "python",
   "name": "python3"
  },
  "language_info": {
   "codemirror_mode": {
    "name": "ipython",
    "version": 3
   },
   "file_extension": ".py",
   "mimetype": "text/x-python",
   "name": "python",
   "nbconvert_exporter": "python",
   "pygments_lexer": "ipython3",
   "version": "3.8.10"
  },
  "orig_nbformat": 4,
  "vscode": {
   "interpreter": {
    "hash": "5c3d121086e35f129a20ca7f553230286826dfcc08161000ccf738c6df1a7518"
   }
  }
 },
 "nbformat": 4,
 "nbformat_minor": 2
}
