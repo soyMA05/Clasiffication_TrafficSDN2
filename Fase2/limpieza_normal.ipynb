{
 "cells": [
  {
   "attachments": {},
   "cell_type": "markdown",
   "metadata": {},
   "source": [
    "# Librerias"
   ]
  },
  {
   "cell_type": "code",
   "execution_count": 1,
   "metadata": {},
   "outputs": [],
   "source": [
    "import pandas as pd\n",
    "import numpy as np\n",
    "\"\"\"graficas\"\"\"\n",
    "import matplotlib.pyplot as plt\n",
    "import seaborn as sns\n",
    "\"\"\"\"codificar datos categoricos\"\"\"\n",
    "from sklearn.preprocessing import LabelEncoder, OneHotEncoder\n",
    "from sklearn.compose import ColumnTransformer"
   ]
  },
  {
   "attachments": {},
   "cell_type": "markdown",
   "metadata": {},
   "source": [
    "# **Modificando**"
   ]
  },
  {
   "attachments": {},
   "cell_type": "markdown",
   "metadata": {},
   "source": [
    "# Importacion de datos"
   ]
  },
  {
   "cell_type": "code",
   "execution_count": 2,
   "metadata": {},
   "outputs": [
    {
     "data": {
      "text/plain": [
       "(94285, 52)"
      ]
     },
     "execution_count": 2,
     "metadata": {},
     "output_type": "execute_result"
    }
   ],
   "source": [
    "\"\"\"importando flujos limpios\"\"\"\n",
    "df_normal = pd.read_csv('../../araData/Z/normal_1.7sincategorizar.csv', low_memory=False)\n",
    "df_normal.shape"
   ]
  },
  {
   "cell_type": "code",
   "execution_count": 3,
   "metadata": {},
   "outputs": [
    {
     "name": "stdout",
     "output_type": "stream",
     "text": [
      "<class 'pandas.core.frame.DataFrame'>\n",
      "RangeIndex: 94285 entries, 0 to 94284\n",
      "Data columns (total 52 columns):\n",
      " #   Column      Non-Null Count  Dtype  \n",
      "---  ------      --------------  -----  \n",
      " 0   RunTime     94285 non-null  float64\n",
      " 1   Dur         94285 non-null  float64\n",
      " 2   SrcDur      94285 non-null  float64\n",
      " 3   DstDur      94285 non-null  float64\n",
      " 4   Mean        94285 non-null  float64\n",
      " 5   StdDev      94285 non-null  float64\n",
      " 6   Sum         94285 non-null  float64\n",
      " 7   Min         94285 non-null  float64\n",
      " 8   Max         94285 non-null  float64\n",
      " 9   Dir         94285 non-null  object \n",
      " 10  Proto       94285 non-null  object \n",
      " 11  Dport       94285 non-null  object \n",
      " 12  Cause       94285 non-null  object \n",
      " 13  TotPkts     94285 non-null  int64  \n",
      " 14  SrcPkts     94285 non-null  int64  \n",
      " 15  DstPkts     94285 non-null  int64  \n",
      " 16  TotBytes    94285 non-null  int64  \n",
      " 17  SrcBytes    94285 non-null  int64  \n",
      " 18  DstBytes    94285 non-null  int64  \n",
      " 19  TotAppByte  94285 non-null  int64  \n",
      " 20  SAppBytes   94285 non-null  int64  \n",
      " 21  DAppBytes   94285 non-null  int64  \n",
      " 22  Load        94285 non-null  float64\n",
      " 23  SrcLoad     94285 non-null  float64\n",
      " 24  DstLoad     94285 non-null  float64\n",
      " 25  Loss        94285 non-null  int64  \n",
      " 26  SrcLoss     94285 non-null  int64  \n",
      " 27  DstLoss     94285 non-null  int64  \n",
      " 28  pLoss       94285 non-null  float64\n",
      " 29  pSrcLoss    94285 non-null  float64\n",
      " 30  pDstLoss    94285 non-null  float64\n",
      " 31  Retrans     94285 non-null  int64  \n",
      " 32  SrcRetra    94285 non-null  int64  \n",
      " 33  DstRetra    94285 non-null  int64  \n",
      " 34  pRetran     94285 non-null  float64\n",
      " 35  pSrcRetr    94285 non-null  float64\n",
      " 36  pDstRetr    94285 non-null  float64\n",
      " 37  Rate        94285 non-null  float64\n",
      " 38  SrcRate     94285 non-null  float64\n",
      " 39  DstRate     94285 non-null  float64\n",
      " 40  State       94285 non-null  object \n",
      " 41  TcpRtt      94285 non-null  float64\n",
      " 42  SynAck      94285 non-null  float64\n",
      " 43  AckDat      94285 non-null  float64\n",
      " 44  Offset      94285 non-null  int64  \n",
      " 45  sMeanPktSz  94285 non-null  float64\n",
      " 46  dMeanPktSz  94285 non-null  float64\n",
      " 47  sMaxPktSz   94285 non-null  float64\n",
      " 48  dMaxPktSz   94285 non-null  float64\n",
      " 49  sMinPktSz   94285 non-null  float64\n",
      " 50  dMinPktSz   94285 non-null  float64\n",
      " 51  Label       94285 non-null  object \n",
      "dtypes: float64(30), int64(16), object(6)\n",
      "memory usage: 37.4+ MB\n"
     ]
    }
   ],
   "source": [
    "df_normal.info(verbose=True)"
   ]
  },
  {
   "cell_type": "code",
   "execution_count": 4,
   "metadata": {},
   "outputs": [
    {
     "data": {
      "text/plain": [
       "udp    52333\n",
       "tcp    41952\n",
       "Name: Proto, dtype: int64"
      ]
     },
     "execution_count": 4,
     "metadata": {},
     "output_type": "execute_result"
    }
   ],
   "source": [
    "df_normal.Proto.value_counts()"
   ]
  },
  {
   "cell_type": "code",
   "execution_count": 5,
   "metadata": {},
   "outputs": [
    {
     "data": {
      "text/plain": [
       "domain         50976\n",
       "https          34716\n",
       "6653            4962\n",
       "http            2137\n",
       "1900             603\n",
       "hostmon          349\n",
       "netbios-ns       225\n",
       "mdns             200\n",
       "netbios-dgm       82\n",
       "ssh               17\n",
       "22790              8\n",
       "8612               2\n",
       "8610               2\n",
       "53592              1\n",
       "57706              1\n",
       "47008              1\n",
       "telnet             1\n",
       "53542              1\n",
       "53576              1\n",
       "Name: Dport, dtype: int64"
      ]
     },
     "execution_count": 5,
     "metadata": {},
     "output_type": "execute_result"
    }
   ],
   "source": [
    "df_normal.Dport.value_counts()"
   ]
  },
  {
   "attachments": {},
   "cell_type": "markdown",
   "metadata": {},
   "source": [
    "### Elimino caracteristicas por decision (repeticion, innecesarias)"
   ]
  },
  {
   "cell_type": "code",
   "execution_count": 6,
   "metadata": {},
   "outputs": [],
   "source": [
    "\"\"\"eliminacion de variables de categoricas, continuas\"\"\"\n",
    "df_normal.drop(columns=['RunTime','Mean','StdDev','Sum','Min','Max','Dir','Cause','State','Retrans','SrcRetra','DstRetra',\n",
    "'pRetran','pSrcRetr','pDstRetr'], axis=1, inplace=True)"
   ]
  },
  {
   "cell_type": "code",
   "execution_count": 7,
   "metadata": {},
   "outputs": [
    {
     "data": {
      "text/plain": [
       "(94285, 37)"
      ]
     },
     "execution_count": 7,
     "metadata": {},
     "output_type": "execute_result"
    }
   ],
   "source": [
    "df_normal.shape"
   ]
  },
  {
   "attachments": {},
   "cell_type": "markdown",
   "metadata": {},
   "source": [
    "## Codificacion de Variables categóricas"
   ]
  },
  {
   "attachments": {},
   "cell_type": "markdown",
   "metadata": {},
   "source": [
    "### Reemplazar datos de texto a datos numericos (Puertos)"
   ]
  },
  {
   "cell_type": "code",
   "execution_count": 8,
   "metadata": {},
   "outputs": [],
   "source": [
    "df_normal.Dport.replace({'domain':53,'http':80, 'https':443,'hostmon': 5355,'netbios-ns':137,'mdns':5353,'netbios-dgm':138,\n",
    "'ssh':22,'telnet':23},inplace=True )"
   ]
  },
  {
   "cell_type": "code",
   "execution_count": 9,
   "metadata": {},
   "outputs": [
    {
     "data": {
      "text/plain": [
       "53       50976\n",
       "443      34716\n",
       "6653      4962\n",
       "80        2137\n",
       "1900       603\n",
       "5355       349\n",
       "137        225\n",
       "5353       200\n",
       "138         82\n",
       "22          17\n",
       "22790        8\n",
       "8612         2\n",
       "8610         2\n",
       "53592        1\n",
       "57706        1\n",
       "47008        1\n",
       "23           1\n",
       "53542        1\n",
       "53576        1\n",
       "Name: Dport, dtype: int64"
      ]
     },
     "execution_count": 9,
     "metadata": {},
     "output_type": "execute_result"
    }
   ],
   "source": [
    "df_normal.Dport.value_counts()"
   ]
  },
  {
   "attachments": {},
   "cell_type": "markdown",
   "metadata": {},
   "source": [
    "### Reemplazar datos de texto a datos numericos (Protocolos)"
   ]
  },
  {
   "cell_type": "code",
   "execution_count": 10,
   "metadata": {},
   "outputs": [],
   "source": [
    "df_normal.Proto.replace({'tcp':6,'udp':17},inplace=True )"
   ]
  },
  {
   "cell_type": "code",
   "execution_count": 11,
   "metadata": {},
   "outputs": [
    {
     "data": {
      "text/plain": [
       "17    52333\n",
       "6     41952\n",
       "Name: Proto, dtype: int64"
      ]
     },
     "execution_count": 11,
     "metadata": {},
     "output_type": "execute_result"
    }
   ],
   "source": [
    "df_normal.Proto.value_counts()"
   ]
  },
  {
   "cell_type": "code",
   "execution_count": 12,
   "metadata": {},
   "outputs": [],
   "source": [
    "df_normal['Dport'] = df_normal['Dport'].astype('int32')\n",
    "df_normal['Proto'] = df_normal['Proto'].astype('int32')"
   ]
  },
  {
   "attachments": {},
   "cell_type": "markdown",
   "metadata": {},
   "source": [
    "### Discretizar Puertos (Conocidos-Registrados-Dinamicos)"
   ]
  },
  {
   "cell_type": "code",
   "execution_count": 13,
   "metadata": {},
   "outputs": [
    {
     "data": {
      "text/plain": [
       "array([ 443,   80,   80, ..., 6653, 6653, 6653])"
      ]
     },
     "execution_count": 13,
     "metadata": {},
     "output_type": "execute_result"
    }
   ],
   "source": [
    "binning_ports= np.array(df_normal['Dport'])\n",
    "binning_ports"
   ]
  },
  {
   "cell_type": "code",
   "execution_count": 14,
   "metadata": {},
   "outputs": [],
   "source": [
    "\"\"\"binning de puertos\"\"\"\n",
    "binning_ports = pd.cut(binning_ports, bins=[0, 1023, 49151, 65535], \n",
    "                    labels=[\"aportSystem\",\"bportUser\",\"cportDynamic\"],\n",
    "                    include_lowest=True,\n",
    "                    retbins=True\n",
    "                )"
   ]
  },
  {
   "attachments": {},
   "cell_type": "markdown",
   "metadata": {},
   "source": [
    "### Crear DF de puertos y protocoos "
   ]
  },
  {
   "cell_type": "code",
   "execution_count": 15,
   "metadata": {},
   "outputs": [],
   "source": [
    "\"\"\"creo un df con el binning de puertos\"\"\"\n",
    "df_ports = pd.DataFrame({'dstPort':np.array(binning_ports[0])})"
   ]
  },
  {
   "cell_type": "code",
   "execution_count": 16,
   "metadata": {},
   "outputs": [],
   "source": [
    "\"\"\"creo un df obteniendo los protocolos\"\"\"\n",
    "df_protos = pd.DataFrame({'Protoc':np.array(df_normal['Proto'])})"
   ]
  },
  {
   "attachments": {},
   "cell_type": "markdown",
   "metadata": {},
   "source": [
    "# no hago"
   ]
  },
  {
   "attachments": {},
   "cell_type": "markdown",
   "metadata": {},
   "source": [
    "### Codificar Label como Ordinal (temporal)"
   ]
  },
  {
   "cell_type": "code",
   "execution_count": 17,
   "metadata": {},
   "outputs": [],
   "source": [
    "labelencoder_y = LabelEncoder()\n",
    "\"\"\"codificar la variable objetivo\"\"\"\n",
    "df_normal['Label'] = labelencoder_y.fit_transform(df_normal['Label'])"
   ]
  },
  {
   "attachments": {},
   "cell_type": "markdown",
   "metadata": {},
   "source": [
    "### Establecer variables categoricas nominales a Protocolos y ordinales a Puertos, ambas se trabajan con One Hot"
   ]
  },
  {
   "attachments": {},
   "cell_type": "markdown",
   "metadata": {},
   "source": [
    "### **Protocolos**"
   ]
  },
  {
   "cell_type": "code",
   "execution_count": 18,
   "metadata": {},
   "outputs": [],
   "source": [
    "\"\"\"codificar protocolo\"\"\"\n",
    "codificador= ColumnTransformer(\n",
    "    [('one_hot_encoder', OneHotEncoder(categories='auto'), ['Protoc'])],\n",
    "    remainder='passthrough'\n",
    "    )\n",
    "\"\"\"codificar puertos segun el rango\"\"\"\n",
    "arr_protos = np.array(codificador.fit_transform(df_protos), dtype=int)"
   ]
  },
  {
   "cell_type": "code",
   "execution_count": 19,
   "metadata": {},
   "outputs": [
    {
     "data": {
      "text/plain": [
       "array(['one_hot_encoder__Protoc_6', 'one_hot_encoder__Protoc_17'],\n",
       "      dtype=object)"
      ]
     },
     "execution_count": 19,
     "metadata": {},
     "output_type": "execute_result"
    }
   ],
   "source": [
    "codificador.get_feature_names_out()"
   ]
  },
  {
   "cell_type": "code",
   "execution_count": 20,
   "metadata": {},
   "outputs": [],
   "source": [
    "df_protos = pd.DataFrame(arr_protos, columns= ['protoTcp', 'protoUdp'])"
   ]
  },
  {
   "attachments": {},
   "cell_type": "markdown",
   "metadata": {},
   "source": [
    "### **Puertos**"
   ]
  },
  {
   "cell_type": "code",
   "execution_count": 21,
   "metadata": {},
   "outputs": [],
   "source": [
    "\"\"\"codificar puertos\"\"\"\n",
    "codificadorports= ColumnTransformer(\n",
    "    [('one_hot_encoder', OneHotEncoder(categories='auto'), ['dstPort'])],\n",
    "    remainder='passthrough'\n",
    "    )\n",
    "\"\"\"codificar puertos segun el rango\"\"\"\n",
    "arr_ports = np.array(codificadorports.fit_transform(df_ports), dtype=int)"
   ]
  },
  {
   "cell_type": "code",
   "execution_count": 22,
   "metadata": {},
   "outputs": [
    {
     "data": {
      "text/plain": [
       "array(['one_hot_encoder__dstPort_aportSystem',\n",
       "       'one_hot_encoder__dstPort_bportUser',\n",
       "       'one_hot_encoder__dstPort_cportDynamic'], dtype=object)"
      ]
     },
     "execution_count": 22,
     "metadata": {},
     "output_type": "execute_result"
    }
   ],
   "source": [
    "codificadorports.get_feature_names_out()"
   ]
  },
  {
   "cell_type": "code",
   "execution_count": 23,
   "metadata": {},
   "outputs": [],
   "source": [
    "df_ports = pd.DataFrame(arr_ports, columns= ['portSystem','portUser','portDynamic'])"
   ]
  },
  {
   "attachments": {},
   "cell_type": "markdown",
   "metadata": {},
   "source": [
    "## Eliminar las columnas del df original que han sido tratadas como variables categoricas"
   ]
  },
  {
   "cell_type": "code",
   "execution_count": 24,
   "metadata": {},
   "outputs": [],
   "source": [
    "\"\"\"eliminar variable categorica Dport\"\"\"\n",
    "df_normal.drop(columns=['Dport','Proto'], axis=1, inplace=True)"
   ]
  },
  {
   "cell_type": "code",
   "execution_count": 25,
   "metadata": {},
   "outputs": [
    {
     "data": {
      "text/plain": [
       "array(['Dur', 'SrcDur', 'DstDur', 'TotPkts', 'SrcPkts', 'DstPkts',\n",
       "       'TotBytes', 'SrcBytes', 'DstBytes', 'TotAppByte', 'SAppBytes',\n",
       "       'DAppBytes', 'Load', 'SrcLoad', 'DstLoad', 'Loss', 'SrcLoss',\n",
       "       'DstLoss', 'pLoss', 'pSrcLoss', 'pDstLoss', 'Rate', 'SrcRate',\n",
       "       'DstRate', 'TcpRtt', 'SynAck', 'AckDat', 'Offset', 'sMeanPktSz',\n",
       "       'dMeanPktSz', 'sMaxPktSz', 'dMaxPktSz', 'sMinPktSz', 'dMinPktSz',\n",
       "       'Label'], dtype=object)"
      ]
     },
     "execution_count": 25,
     "metadata": {},
     "output_type": "execute_result"
    }
   ],
   "source": [
    "df_normal.columns.values"
   ]
  },
  {
   "attachments": {},
   "cell_type": "markdown",
   "metadata": {},
   "source": [
    "## Concatenar caracteristicas en un solo DF"
   ]
  },
  {
   "cell_type": "code",
   "execution_count": 26,
   "metadata": {},
   "outputs": [],
   "source": [
    "df_traffic = pd.concat([df_protos, df_ports, df_normal], axis=1)"
   ]
  },
  {
   "cell_type": "code",
   "execution_count": 27,
   "metadata": {},
   "outputs": [
    {
     "name": "stdout",
     "output_type": "stream",
     "text": [
      "<class 'pandas.core.frame.DataFrame'>\n",
      "RangeIndex: 94285 entries, 0 to 94284\n",
      "Data columns (total 40 columns):\n",
      " #   Column       Non-Null Count  Dtype  \n",
      "---  ------       --------------  -----  \n",
      " 0   protoTcp     94285 non-null  int32  \n",
      " 1   protoUdp     94285 non-null  int32  \n",
      " 2   portSystem   94285 non-null  int32  \n",
      " 3   portUser     94285 non-null  int32  \n",
      " 4   portDynamic  94285 non-null  int32  \n",
      " 5   Dur          94285 non-null  float64\n",
      " 6   SrcDur       94285 non-null  float64\n",
      " 7   DstDur       94285 non-null  float64\n",
      " 8   TotPkts      94285 non-null  int64  \n",
      " 9   SrcPkts      94285 non-null  int64  \n",
      " 10  DstPkts      94285 non-null  int64  \n",
      " 11  TotBytes     94285 non-null  int64  \n",
      " 12  SrcBytes     94285 non-null  int64  \n",
      " 13  DstBytes     94285 non-null  int64  \n",
      " 14  TotAppByte   94285 non-null  int64  \n",
      " 15  SAppBytes    94285 non-null  int64  \n",
      " 16  DAppBytes    94285 non-null  int64  \n",
      " 17  Load         94285 non-null  float64\n",
      " 18  SrcLoad      94285 non-null  float64\n",
      " 19  DstLoad      94285 non-null  float64\n",
      " 20  Loss         94285 non-null  int64  \n",
      " 21  SrcLoss      94285 non-null  int64  \n",
      " 22  DstLoss      94285 non-null  int64  \n",
      " 23  pLoss        94285 non-null  float64\n",
      " 24  pSrcLoss     94285 non-null  float64\n",
      " 25  pDstLoss     94285 non-null  float64\n",
      " 26  Rate         94285 non-null  float64\n",
      " 27  SrcRate      94285 non-null  float64\n",
      " 28  DstRate      94285 non-null  float64\n",
      " 29  TcpRtt       94285 non-null  float64\n",
      " 30  SynAck       94285 non-null  float64\n",
      " 31  AckDat       94285 non-null  float64\n",
      " 32  Offset       94285 non-null  int64  \n",
      " 33  sMeanPktSz   94285 non-null  float64\n",
      " 34  dMeanPktSz   94285 non-null  float64\n",
      " 35  sMaxPktSz    94285 non-null  float64\n",
      " 36  dMaxPktSz    94285 non-null  float64\n",
      " 37  sMinPktSz    94285 non-null  float64\n",
      " 38  dMinPktSz    94285 non-null  float64\n",
      " 39  Label        94285 non-null  int32  \n",
      "dtypes: float64(21), int32(6), int64(13)\n",
      "memory usage: 26.6 MB\n"
     ]
    }
   ],
   "source": [
    "df_traffic.info(verbose=True)"
   ]
  }
 ],
 "metadata": {
  "kernelspec": {
   "display_name": "Python 3",
   "language": "python",
   "name": "python3"
  },
  "language_info": {
   "codemirror_mode": {
    "name": "ipython",
    "version": 3
   },
   "file_extension": ".py",
   "mimetype": "text/x-python",
   "name": "python",
   "nbconvert_exporter": "python",
   "pygments_lexer": "ipython3",
   "version": "3.8.10"
  },
  "orig_nbformat": 4,
  "vscode": {
   "interpreter": {
    "hash": "5c3d121086e35f129a20ca7f553230286826dfcc08161000ccf738c6df1a7518"
   }
  }
 },
 "nbformat": 4,
 "nbformat_minor": 2
}
