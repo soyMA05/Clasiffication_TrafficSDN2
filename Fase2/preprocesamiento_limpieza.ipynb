{
 "cells": [
  {
   "cell_type": "code",
   "execution_count": 1,
   "metadata": {},
   "outputs": [],
   "source": [
    "#librerias\n",
    "import pandas as pd\n",
    "import numpy as np\n",
    "import matplotlib.pyplot as plt\n",
    "import seaborn as sns"
   ]
  },
  {
   "cell_type": "code",
   "execution_count": 30,
   "metadata": {},
   "outputs": [],
   "source": [
    "#importar db normal, DoS y Probe\n",
    "df_normal = pd.read_csv('../../datos_SDN/araData/Normal.csv', low_memory=False)\n",
    "df_dos = pd.read_csv('../../datos_SDN/araData/Dos.csv', low_memory=False)\n",
    "df_probe = pd.read_csv('../../datos_SDN/araData/Probe.csv', low_memory=False)"
   ]
  },
  {
   "cell_type": "code",
   "execution_count": 21,
   "metadata": {},
   "outputs": [],
   "source": [
    "\"\"\"analizar todos los datos de los conjuntos\"\"\"\n",
    "describe_normal=df_normal.describe(include='all')\n",
    "describe_dos=df_dos.describe(include='all')\n",
    "describe_probe=df_probe.describe(include='all')"
   ]
  },
  {
   "attachments": {},
   "cell_type": "markdown",
   "metadata": {},
   "source": [
    "# 1. Limpieza de datos"
   ]
  },
  {
   "cell_type": "code",
   "execution_count": 9,
   "metadata": {},
   "outputs": [],
   "source": [
    "\"\"\"definir caracteristicas innecesarias o vacias\"\"\"\n",
    "no_caracteristicas = ['SrcId','Rank','StartTime','LastTime','Trans','Sport','sDSb','dDSb','sIpId','dIpId','Retrans',\n",
    "'SrcRetra','DstRetra','pRetran','pSrcRetr','pDstRetr','SrcGap','DstGap','dsPkts','ddPkts','dsBytes','ddBytes','pdsPkt',\n",
    "'pddPkt','pdsByte','pddByte','(null)','SrcWin','DstWin','JDelay','LDelay','Bins','Bin','SrcTCPBase','DstTCPBase','Inode',\n",
    "'sPktSz','dPktSz','SrcJitAct','DstJitAct','TcpOpt']"
   ]
  },
  {
   "cell_type": "code",
   "execution_count": 31,
   "metadata": {},
   "outputs": [],
   "source": [
    "no_caracteristicasv2=['SrcId','Rank','StartTime','LastTime','SrcStartTime','DstStartTime','SrcLastTime','DstLastTime','Trans',\n",
    "'Sport','sDSb','dDSb','sIpId','dIpId','SIntPkt','DIntPkt','SIntPktAct','DIntPktAct','SIntPktIdl','DIntPktIdl','SIntPktMax',\n",
    "'SIntPktMin','DIntPktMax','DIntPktMin','SIPActMax','SIPActMin','DIPActMax','DIPActMin','SIPIdlMax','SIPIdlMin','DIPIdlMax',\n",
    "'DIPIdlMin','SrcJitter','DstJitter','SrcJitAct','DstJitAct','SrcJitIdl','DstJitIdl','dsPkts','ddPkts','dsBytes','ddBytes',\n",
    "'pdsPkt','pddPkt','pdsByte','pddByte','(null)','SrcWin','DstWin','JDelay','LDelay','Bins','Bin','SrcTCPBase','DstTCPBase',\n",
    "'Inode','sPktSz','dPktSz','SrcJitAct','DstJitAct','TcpOpt']"
   ]
  },
  {
   "cell_type": "code",
   "execution_count": 32,
   "metadata": {},
   "outputs": [],
   "source": [
    "\"\"\" eliminar de atributos \"\"\"\n",
    "df_normal.drop(columns=no_caracteristicasv2, axis=1, inplace=True)\n",
    "df_dos.drop(columns=no_caracteristicasv2, axis=1, inplace=True)\n",
    "df_probe.drop(columns=no_caracteristicasv2, axis=1, inplace=True)"
   ]
  },
  {
   "cell_type": "code",
   "execution_count": 33,
   "metadata": {},
   "outputs": [
    {
     "name": "stdout",
     "output_type": "stream",
     "text": [
      "<class 'pandas.core.frame.DataFrame'>\n",
      "RangeIndex: 111719 entries, 0 to 111718\n",
      "Data columns (total 63 columns):\n",
      " #   Column      Non-Null Count   Dtype  \n",
      "---  ------      --------------   -----  \n",
      " 0   Seq         111719 non-null  int64  \n",
      " 1   Flgs        111719 non-null  object \n",
      " 2   RunTime     111675 non-null  float64\n",
      " 3   Dur         111719 non-null  float64\n",
      " 4   SrcDur      111719 non-null  float64\n",
      " 5   DstDur      111719 non-null  float64\n",
      " 6   Mean        111675 non-null  float64\n",
      " 7   StdDev      111675 non-null  float64\n",
      " 8   Sum         111675 non-null  float64\n",
      " 9   Min         111675 non-null  float64\n",
      " 10  Max         111675 non-null  float64\n",
      " 11  Dir         111675 non-null  object \n",
      " 12  SrcAddr     111719 non-null  object \n",
      " 13  DstAddr     111719 non-null  object \n",
      " 14  Proto       111719 non-null  object \n",
      " 15  Dport       106691 non-null  object \n",
      " 16  sTos        106997 non-null  float64\n",
      " 17  dTos        97980 non-null   float64\n",
      " 18  sTtl        106997 non-null  float64\n",
      " 19  dTtl        97980 non-null   float64\n",
      " 20  Cause       111719 non-null  object \n",
      " 21  TotPkts     111719 non-null  int64  \n",
      " 22  SrcPkts     111719 non-null  int64  \n",
      " 23  DstPkts     111719 non-null  int64  \n",
      " 24  TotBytes    111719 non-null  int64  \n",
      " 25  SrcBytes    111719 non-null  int64  \n",
      " 26  DstBytes    111719 non-null  int64  \n",
      " 27  TotAppByte  111719 non-null  int64  \n",
      " 28  SAppBytes   111719 non-null  int64  \n",
      " 29  DAppBytes   111719 non-null  int64  \n",
      " 30  PCRatio     111675 non-null  float64\n",
      " 31  Load        111719 non-null  float64\n",
      " 32  SrcLoad     111719 non-null  float64\n",
      " 33  DstLoad     111719 non-null  float64\n",
      " 34  Loss        111719 non-null  int64  \n",
      " 35  SrcLoss     111719 non-null  int64  \n",
      " 36  DstLoss     111719 non-null  int64  \n",
      " 37  pLoss       111719 non-null  float64\n",
      " 38  pSrcLoss    111719 non-null  float64\n",
      " 39  pDstLoss    111719 non-null  float64\n",
      " 40  Retrans     111719 non-null  int64  \n",
      " 41  SrcRetra    111719 non-null  int64  \n",
      " 42  DstRetra    111719 non-null  int64  \n",
      " 43  pRetran     111719 non-null  float64\n",
      " 44  pSrcRetr    111719 non-null  float64\n",
      " 45  pDstRetr    111719 non-null  float64\n",
      " 46  SrcGap      41971 non-null   float64\n",
      " 47  DstGap      41971 non-null   float64\n",
      " 48  Rate        111719 non-null  float64\n",
      " 49  SrcRate     111719 non-null  float64\n",
      " 50  DstRate     111719 non-null  float64\n",
      " 51  State       111719 non-null  object \n",
      " 52  TcpRtt      111719 non-null  float64\n",
      " 53  SynAck      111719 non-null  float64\n",
      " 54  AckDat      111719 non-null  float64\n",
      " 55  Offset      111719 non-null  int64  \n",
      " 56  sMeanPktSz  111719 non-null  float64\n",
      " 57  dMeanPktSz  111719 non-null  float64\n",
      " 58  sMaxPktSz   110776 non-null  float64\n",
      " 59  dMaxPktSz   99835 non-null   float64\n",
      " 60  sMinPktSz   110776 non-null  float64\n",
      " 61  dMinPktSz   99835 non-null   float64\n",
      " 62  Label       111719 non-null  object \n",
      "dtypes: float64(37), int64(17), object(9)\n",
      "memory usage: 53.7+ MB\n"
     ]
    }
   ],
   "source": [
    "df_normal.info(verbose=True)"
   ]
  },
  {
   "cell_type": "code",
   "execution_count": 34,
   "metadata": {},
   "outputs": [
    {
     "name": "stdout",
     "output_type": "stream",
     "text": [
      "<class 'pandas.core.frame.DataFrame'>\n",
      "RangeIndex: 35030 entries, 0 to 35029\n",
      "Data columns (total 63 columns):\n",
      " #   Column      Non-Null Count  Dtype  \n",
      "---  ------      --------------  -----  \n",
      " 0   Seq         35030 non-null  int64  \n",
      " 1   Flgs        35030 non-null  object \n",
      " 2   RunTime     34994 non-null  float64\n",
      " 3   Dur         35030 non-null  float64\n",
      " 4   SrcDur      35030 non-null  float64\n",
      " 5   DstDur      35030 non-null  float64\n",
      " 6   Mean        34994 non-null  float64\n",
      " 7   StdDev      34994 non-null  float64\n",
      " 8   Sum         34994 non-null  float64\n",
      " 9   Min         34994 non-null  float64\n",
      " 10  Max         34994 non-null  float64\n",
      " 11  Dir         34994 non-null  object \n",
      " 12  SrcAddr     35030 non-null  object \n",
      " 13  DstAddr     35030 non-null  object \n",
      " 14  Proto       35030 non-null  object \n",
      " 15  Dport       35024 non-null  object \n",
      " 16  sTos        34993 non-null  float64\n",
      " 17  dTos        34011 non-null  float64\n",
      " 18  sTtl        34993 non-null  float64\n",
      " 19  dTtl        34011 non-null  float64\n",
      " 20  Cause       35030 non-null  object \n",
      " 21  TotPkts     35030 non-null  int64  \n",
      " 22  SrcPkts     35030 non-null  int64  \n",
      " 23  DstPkts     35030 non-null  int64  \n",
      " 24  TotBytes    35030 non-null  int64  \n",
      " 25  SrcBytes    35030 non-null  int64  \n",
      " 26  DstBytes    35030 non-null  int64  \n",
      " 27  TotAppByte  35030 non-null  int64  \n",
      " 28  SAppBytes   35030 non-null  int64  \n",
      " 29  DAppBytes   35030 non-null  int64  \n",
      " 30  PCRatio     34994 non-null  float64\n",
      " 31  Load        35030 non-null  float64\n",
      " 32  SrcLoad     35030 non-null  float64\n",
      " 33  DstLoad     35030 non-null  float64\n",
      " 34  Loss        35030 non-null  int64  \n",
      " 35  SrcLoss     35030 non-null  int64  \n",
      " 36  DstLoss     35030 non-null  int64  \n",
      " 37  pLoss       35030 non-null  float64\n",
      " 38  pSrcLoss    35030 non-null  float64\n",
      " 39  pDstLoss    35030 non-null  float64\n",
      " 40  Retrans     35030 non-null  int64  \n",
      " 41  SrcRetra    35030 non-null  int64  \n",
      " 42  DstRetra    35030 non-null  int64  \n",
      " 43  pRetran     35030 non-null  float64\n",
      " 44  pSrcRetr    35030 non-null  float64\n",
      " 45  pDstRetr    35030 non-null  float64\n",
      " 46  SrcGap      34873 non-null  float64\n",
      " 47  DstGap      34873 non-null  float64\n",
      " 48  Rate        35030 non-null  float64\n",
      " 49  SrcRate     35030 non-null  float64\n",
      " 50  DstRate     35030 non-null  float64\n",
      " 51  State       35030 non-null  object \n",
      " 52  TcpRtt      35030 non-null  float64\n",
      " 53  SynAck      35030 non-null  float64\n",
      " 54  AckDat      35030 non-null  float64\n",
      " 55  Offset      35030 non-null  int64  \n",
      " 56  sMeanPktSz  35030 non-null  float64\n",
      " 57  dMeanPktSz  35030 non-null  float64\n",
      " 58  sMaxPktSz   34994 non-null  float64\n",
      " 59  dMaxPktSz   33674 non-null  float64\n",
      " 60  sMinPktSz   34994 non-null  float64\n",
      " 61  dMinPktSz   33674 non-null  float64\n",
      " 62  Label       35030 non-null  object \n",
      "dtypes: float64(37), int64(17), object(9)\n",
      "memory usage: 16.8+ MB\n"
     ]
    }
   ],
   "source": [
    "df_dos.info(verbose=True)"
   ]
  },
  {
   "cell_type": "code",
   "execution_count": 35,
   "metadata": {},
   "outputs": [
    {
     "name": "stdout",
     "output_type": "stream",
     "text": [
      "<class 'pandas.core.frame.DataFrame'>\n",
      "RangeIndex: 49452 entries, 0 to 49451\n",
      "Data columns (total 63 columns):\n",
      " #   Column      Non-Null Count  Dtype  \n",
      "---  ------      --------------  -----  \n",
      " 0   Seq         49452 non-null  int64  \n",
      " 1   Flgs        49452 non-null  object \n",
      " 2   RunTime     49444 non-null  float64\n",
      " 3   Dur         49452 non-null  float64\n",
      " 4   SrcDur      49452 non-null  float64\n",
      " 5   DstDur      49452 non-null  float64\n",
      " 6   Mean        49444 non-null  float64\n",
      " 7   StdDev      49444 non-null  float64\n",
      " 8   Sum         49444 non-null  float64\n",
      " 9   Min         49444 non-null  float64\n",
      " 10  Max         49444 non-null  float64\n",
      " 11  Dir         49444 non-null  object \n",
      " 12  SrcAddr     49452 non-null  object \n",
      " 13  DstAddr     49452 non-null  object \n",
      " 14  Proto       49452 non-null  object \n",
      " 15  Dport       47971 non-null  object \n",
      " 16  sTos        49027 non-null  float64\n",
      " 17  dTos        36874 non-null  float64\n",
      " 18  sTtl        49027 non-null  float64\n",
      " 19  dTtl        36874 non-null  float64\n",
      " 20  Cause       49452 non-null  object \n",
      " 21  TotPkts     49452 non-null  int64  \n",
      " 22  SrcPkts     49452 non-null  int64  \n",
      " 23  DstPkts     49452 non-null  int64  \n",
      " 24  TotBytes    49452 non-null  int64  \n",
      " 25  SrcBytes    49452 non-null  int64  \n",
      " 26  DstBytes    49452 non-null  int64  \n",
      " 27  TotAppByte  49452 non-null  int64  \n",
      " 28  SAppBytes   49452 non-null  int64  \n",
      " 29  DAppBytes   49452 non-null  int64  \n",
      " 30  PCRatio     49444 non-null  float64\n",
      " 31  Load        49452 non-null  float64\n",
      " 32  SrcLoad     49452 non-null  float64\n",
      " 33  DstLoad     49452 non-null  float64\n",
      " 34  Loss        49452 non-null  int64  \n",
      " 35  SrcLoss     49452 non-null  int64  \n",
      " 36  DstLoss     49452 non-null  int64  \n",
      " 37  pLoss       49452 non-null  float64\n",
      " 38  pSrcLoss    49452 non-null  float64\n",
      " 39  pDstLoss    49452 non-null  float64\n",
      " 40  Retrans     49452 non-null  int64  \n",
      " 41  SrcRetra    49452 non-null  int64  \n",
      " 42  DstRetra    49452 non-null  int64  \n",
      " 43  pRetran     49452 non-null  float64\n",
      " 44  pSrcRetr    49452 non-null  float64\n",
      " 45  pDstRetr    49452 non-null  float64\n",
      " 46  SrcGap      36828 non-null  float64\n",
      " 47  DstGap      36828 non-null  float64\n",
      " 48  Rate        49452 non-null  float64\n",
      " 49  SrcRate     49452 non-null  float64\n",
      " 50  DstRate     49452 non-null  float64\n",
      " 51  State       49452 non-null  object \n",
      " 52  TcpRtt      49452 non-null  float64\n",
      " 53  SynAck      49452 non-null  float64\n",
      " 54  AckDat      49452 non-null  float64\n",
      " 55  Offset      49452 non-null  int64  \n",
      " 56  sMeanPktSz  49452 non-null  float64\n",
      " 57  dMeanPktSz  49452 non-null  float64\n",
      " 58  sMaxPktSz   49444 non-null  float64\n",
      " 59  dMaxPktSz   37263 non-null  float64\n",
      " 60  sMinPktSz   49444 non-null  float64\n",
      " 61  dMinPktSz   37263 non-null  float64\n",
      " 62  Label       49452 non-null  object \n",
      "dtypes: float64(37), int64(17), object(9)\n",
      "memory usage: 23.8+ MB\n"
     ]
    }
   ],
   "source": [
    "df_probe.info(verbose=True)"
   ]
  },
  {
   "cell_type": "code",
   "execution_count": 42,
   "metadata": {},
   "outputs": [],
   "source": [
    "df_normal.to_csv('../../araData/normal.csv',index=False)\n",
    "df_dos.to_csv('../../araData/dos.csv',index=False)\n",
    "df_probe.to_csv('../../araData/probe.csv',index=False)"
   ]
  },
  {
   "attachments": {},
   "cell_type": "markdown",
   "metadata": {},
   "source": [
    "# Prepocesamiento de datos"
   ]
  },
  {
   "attachments": {},
   "cell_type": "markdown",
   "metadata": {},
   "source": [
    "### Valores duplicados"
   ]
  },
  {
   "cell_type": "code",
   "execution_count": 36,
   "metadata": {},
   "outputs": [
    {
     "data": {
      "text/plain": [
       "0"
      ]
     },
     "execution_count": 36,
     "metadata": {},
     "output_type": "execute_result"
    }
   ],
   "source": [
    "#total de datos duplicados en db normal\n",
    "df_normal.duplicated().sum()"
   ]
  },
  {
   "cell_type": "code",
   "execution_count": 37,
   "metadata": {},
   "outputs": [
    {
     "data": {
      "text/plain": [
       "0"
      ]
     },
     "execution_count": 37,
     "metadata": {},
     "output_type": "execute_result"
    }
   ],
   "source": [
    "#total de datos duplicados en db dos\n",
    "df_dos.duplicated().sum()"
   ]
  },
  {
   "cell_type": "code",
   "execution_count": 38,
   "metadata": {},
   "outputs": [
    {
     "data": {
      "text/plain": [
       "0"
      ]
     },
     "execution_count": 38,
     "metadata": {},
     "output_type": "execute_result"
    }
   ],
   "source": [
    "#total de datos duplicados en db probe\n",
    "df_probe.duplicated().sum()"
   ]
  },
  {
   "cell_type": "code",
   "execution_count": 7,
   "metadata": {},
   "outputs": [],
   "source": [
    "df_normal = df_normal.drop_duplicates(subset=caracteristicas[2:65],keep=\"last\")"
   ]
  },
  {
   "attachments": {},
   "cell_type": "markdown",
   "metadata": {},
   "source": [
    "### Analizar nomenclaturas"
   ]
  },
  {
   "attachments": {},
   "cell_type": "markdown",
   "metadata": {},
   "source": [
    "#### Probe"
   ]
  },
  {
   "cell_type": "code",
   "execution_count": 23,
   "metadata": {},
   "outputs": [],
   "source": [
    "\"\"\" funcion para encontrar cada uno de los valores unicos de las caracteristicas \"\"\"\n",
    "def valores_unicos(_dataframe:pd.DataFrame,_caracteristicas:list):\n",
    "    assert type(_dataframe)==pd.DataFrame, \"Tipo de dato incorrecto\"\n",
    "    assert type(_caracteristicas)==list, \"Tipo de dato incorrecto\"\n",
    "    \"\"\" recorrer lista de características \"\"\"\n",
    "    for i in _caracteristicas:\n",
    "        \"\"\"mostrar caracteristica y sus valores \"\"\"\n",
    "        display(i, _dataframe[i].unique())"
   ]
  }
 ],
 "metadata": {
  "kernelspec": {
   "display_name": "Python 3",
   "language": "python",
   "name": "python3"
  },
  "language_info": {
   "codemirror_mode": {
    "name": "ipython",
    "version": 3
   },
   "file_extension": ".py",
   "mimetype": "text/x-python",
   "name": "python",
   "nbconvert_exporter": "python",
   "pygments_lexer": "ipython3",
   "version": "3.8.10"
  },
  "orig_nbformat": 4,
  "vscode": {
   "interpreter": {
    "hash": "5c3d121086e35f129a20ca7f553230286826dfcc08161000ccf738c6df1a7518"
   }
  }
 },
 "nbformat": 4,
 "nbformat_minor": 2
}
