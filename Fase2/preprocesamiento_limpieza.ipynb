{
 "cells": [
  {
   "attachments": {},
   "cell_type": "markdown",
   "metadata": {},
   "source": [
    "# Fase 2: Preprocesamiento y limpieza de datos"
   ]
  },
  {
   "cell_type": "code",
   "execution_count": 1,
   "metadata": {},
   "outputs": [],
   "source": [
    "#librerias\n",
    "import pandas as pd\n",
    "import numpy as np"
   ]
  },
  {
   "attachments": {},
   "cell_type": "markdown",
   "metadata": {},
   "source": [
    "# 1. Identificacion de caracteristicas en Trafico normal"
   ]
  },
  {
   "cell_type": "code",
   "execution_count": 2,
   "metadata": {},
   "outputs": [],
   "source": [
    "#importar db normal, DoS y Probe\n",
    "df_normal = pd.read_csv('../../datos_SDN/argDatos/Normal.csv', low_memory=False)\n",
    "df_dos = pd.read_csv('../../datos_SDN/argDatos/Dos.csv', low_memory=False)\n",
    "df_probe = pd.read_csv('../../datos_SDN/argDatos/Probe.csv', low_memory=False)"
   ]
  },
  {
   "cell_type": "code",
   "execution_count": 9,
   "metadata": {},
   "outputs": [
    {
     "data": {
      "text/plain": [
       "array(['0.0.0.0'], dtype=object)"
      ]
     },
     "execution_count": 9,
     "metadata": {},
     "output_type": "execute_result"
    }
   ],
   "source": [
    "\"\"\"numero identificador de argus = BAJA\"\"\"\n",
    "df_normal['SrcId'].unique()"
   ]
  },
  {
   "cell_type": "code",
   "execution_count": 8,
   "metadata": {},
   "outputs": [
    {
     "data": {
      "text/plain": [
       "array([       nan, 1.0000e+00, 2.0000e+00, ..., 2.4392e+04, 2.4393e+04,\n",
       "       2.4394e+04])"
      ]
     },
     "execution_count": 8,
     "metadata": {},
     "output_type": "execute_result"
    }
   ],
   "source": [
    "\"\"\"numero de secuencia del registro de flujo = BAJA \n",
    "(varia en caracteristicas de hardware y el flujo es independiente de la hora de inicio)\"\"\"\n",
    "df_normal.Rank.unique()"
   ]
  },
  {
   "cell_type": "code",
   "execution_count": 10,
   "metadata": {},
   "outputs": [
    {
     "data": {
      "text/plain": [
       "array(['20:58:47.678596', '09:25:49.449442', '09:25:49.639147', ...,\n",
       "       '14:24:16.244081', '14:24:17.269716', '21:31:06.419509'],\n",
       "      dtype=object)"
      ]
     },
     "execution_count": 10,
     "metadata": {},
     "output_type": "execute_result"
    }
   ],
   "source": [
    "\"\"\"registro de hora de inicio del flujo = BAJA \n",
    "(varia en caracteristicas de hardware y el flujo es independiente para finalizar)\"\"\"\n",
    "df_normal.StartTime.unique()"
   ]
  },
  {
   "cell_type": "code",
   "execution_count": 11,
   "metadata": {},
   "outputs": [
    {
     "data": {
      "text/plain": [
       "array([nan,  1.])"
      ]
     },
     "execution_count": 11,
     "metadata": {},
     "output_type": "execute_result"
    }
   ],
   "source": [
    "\"\"\" contador de registros de flujos agregados = BAJA\"\"\"\n",
    "df_normal.Trans.unique()"
   ]
  },
  {
   "cell_type": "code",
   "execution_count": 12,
   "metadata": {},
   "outputs": [
    {
     "data": {
      "text/plain": [
       "array(['          ', ' M        ', ' e        ', ' M g      ',\n",
       "       ' M r      ', ' M dS     ', ' e g      ', ' e     A  ',\n",
       "       ' eU       ', ' M d      ', ' e s      ', ' M s      ',\n",
       "       ' e d      ', ' M  S     ', ' M i      ', ' M  D     ',\n",
       "       ' M sD     ', ' M &      ', ' e *      ', ' M *      ',\n",
       "       ' e dD     '], dtype=object)"
      ]
     },
     "execution_count": 12,
     "metadata": {},
     "output_type": "execute_result"
    }
   ],
   "source": [
    "\"\"\" banderas o indicadores de control en el estado de la transaccion del flujo = MEDIA\n",
    "(indica el proposito del que tiene el paquete o segmento)\"\"\"\n",
    "df_normal.Flgs.unique()"
   ]
  },
  {
   "cell_type": "code",
   "execution_count": 13,
   "metadata": {},
   "outputs": [
    {
     "data": {
      "text/plain": [
       "array([    0,     1,     2, ..., 18682, 18683, 18684], dtype=int64)"
      ]
     },
     "execution_count": 13,
     "metadata": {},
     "output_type": "execute_result"
    }
   ],
   "source": [
    "\"\"\" numero de sequencia de argus = BAJA\n",
    "(es una caracteristica propia del extractor de flujo)\n",
    "\"\"\"\n",
    "df_normal.Seq.unique()"
   ]
  },
  {
   "cell_type": "code",
   "execution_count": 14,
   "metadata": {},
   "outputs": [
    {
     "data": {
      "text/plain": [
       "array([6.4700000e-04, 1.1450987e+01, 1.2774145e+01, ..., 2.0255120e+00,\n",
       "       1.3001590e+00, 1.0164340e+00])"
      ]
     },
     "execution_count": 14,
     "metadata": {},
     "output_type": "execute_result"
    }
   ],
   "source": [
    "\"\"\" duracion del flujo en segundos = ALTA\n",
    "\"\"\"\n",
    "df_normal.Dur.unique()"
   ]
  },
  {
   "cell_type": "code",
   "execution_count": 15,
   "metadata": {},
   "outputs": [
    {
     "data": {
      "text/plain": [
       "array([      nan, 11.450987, 12.774145, ...,  7.920346,  2.025512,\n",
       "        1.300159])"
      ]
     },
     "execution_count": 15,
     "metadata": {},
     "output_type": "execute_result"
    }
   ],
   "source": [
    "\"\"\"tiempo total de ejecución del flujo activo = ALTA \n",
    "(posible atributo redundante al Dur)\n",
    "\"\"\"\n",
    "df_normal.RunTime.unique()"
   ]
  },
  {
   "cell_type": "code",
   "execution_count": 16,
   "metadata": {},
   "outputs": [
    {
     "data": {
      "text/plain": [
       "array([           nan, 1.67271117e+09, 1.67271334e+09, 1.67271142e+09,\n",
       "       1.67271168e+09, 1.67271219e+09, 1.67271232e+09, 1.67271245e+09,\n",
       "       1.67271270e+09, 1.67271283e+09, 1.67271296e+09, 1.67271309e+09])"
      ]
     },
     "execution_count": 16,
     "metadata": {},
     "output_type": "execute_result"
    }
   ],
   "source": [
    "\"\"\" tiempo inactivo del ultimo flujo o paquete = MEDIO\n",
    "(valor estadistivo de referencia del ultima actividad del flujo para recomenzar el siguiente flujo)\n",
    "\"\"\"\n",
    "df_normal.IdleTime.unique()"
   ]
  },
  {
   "cell_type": "code",
   "execution_count": 17,
   "metadata": {},
   "outputs": [
    {
     "data": {
      "text/plain": [
       "array([      nan, 11.450987, 12.774145, ...,  7.920346,  2.025512,\n",
       "        1.300159])"
      ]
     },
     "execution_count": 17,
     "metadata": {},
     "output_type": "execute_result"
    }
   ],
   "source": [
    "\"\"\" promedio de duracion de cada flujo registrado = ALTA\n",
    "(valor estadistico para conocer la duracion promedia de los diferentes flujos en diferentes traficos)\n",
    "(posible atributo redundante al Dur)\n",
    "\"\"\"\n",
    "df_normal.Mean.unique()"
   ]
  },
  {
   "cell_type": "code",
   "execution_count": 19,
   "metadata": {},
   "outputs": [
    {
     "data": {
      "text/plain": [
       "array([nan,  0.])"
      ]
     },
     "execution_count": 19,
     "metadata": {},
     "output_type": "execute_result"
    }
   ],
   "source": [
    "\"\"\" desviacion estandar del tiempo de duracion del flujo registrado = ALTA\n",
    "\"\"\"\n",
    "df_normal.StdDev.unique()"
   ]
  },
  {
   "cell_type": "code",
   "execution_count": 18,
   "metadata": {},
   "outputs": [
    {
     "data": {
      "text/plain": [
       "array([      nan, 11.450987, 12.774145, ...,  7.920346,  2.025512,\n",
       "        1.300159])"
      ]
     },
     "execution_count": 18,
     "metadata": {},
     "output_type": "execute_result"
    }
   ],
   "source": [
    "\"\"\" Suma total de la duracion del flujo = ALTA\n",
    "(indica el tiempo total que dura la transaccion)\n",
    "(posible atributo redundante al Dur)\n",
    "\"\"\"\n",
    "df_normal.Sum.unique()"
   ]
  },
  {
   "cell_type": "code",
   "execution_count": 21,
   "metadata": {},
   "outputs": [
    {
     "data": {
      "text/plain": [
       "array([      nan, 11.450987, 12.774145, ...,  7.920346,  2.025512,\n",
       "        1.300159])"
      ]
     },
     "execution_count": 21,
     "metadata": {},
     "output_type": "execute_result"
    }
   ],
   "source": [
    "\"\"\" Valor minimo de la duracion del flujo = ALTA\n",
    "(posible atributo redundante al Dur)\n",
    "\"\"\"\n",
    "df_normal.Min.unique()"
   ]
  },
  {
   "cell_type": "code",
   "execution_count": 20,
   "metadata": {},
   "outputs": [
    {
     "data": {
      "text/plain": [
       "array([      nan, 11.450987, 12.774145, ...,  7.920346,  2.025512,\n",
       "        1.300159])"
      ]
     },
     "execution_count": 20,
     "metadata": {},
     "output_type": "execute_result"
    }
   ],
   "source": [
    "\"\"\" valor maximo de la duracion del flujo = ALTA\n",
    "(posible atributo redundante al Dur)\n",
    "\"\"\"\n",
    "df_normal.Max.unique()"
   ]
  },
  {
   "cell_type": "code",
   "execution_count": 22,
   "metadata": {},
   "outputs": [
    {
     "data": {
      "text/plain": [
       "array([nan, '00:00:00:00:00:03', '00:0c:29:2d:74:6b', '00:0c:29:92:12:ba',\n",
       "       '00:50:56:c0:00:01', '02:eb:9f:67:c9:42', '00:50:56:f2:90:f8',\n",
       "       '00:0c:29:92:12:d8', '00:50:56:c0:00:08', '3a:1f:c0:c6:05:00',\n",
       "       '00:0c:29:2d:74:75'], dtype=object)"
      ]
     },
     "execution_count": 22,
     "metadata": {},
     "output_type": "execute_result"
    }
   ],
   "source": [
    "\"\"\"direccion MAC de origen = BAJA\n",
    "(el flujo debe identificarse independientemente de los identificadores de hosts)\"\"\"\n",
    "df_normal.SrcMac.unique()"
   ]
  },
  {
   "cell_type": "code",
   "execution_count": 23,
   "metadata": {},
   "outputs": [
    {
     "data": {
      "text/plain": [
       "array([nan, '00:0c:29:92:12:d8', '00:50:56:f2:90:f8', '00:0c:29:92:12:ba',\n",
       "       '00:0c:29:2d:74:6b', 'Broadcast', '01:00:5e:7f:ff:fa',\n",
       "       '01:00:5e:00:00:fb', '33:33:00:00:00:fb', '33:33:00:01:00:03',\n",
       "       '01:00:5e:00:00:fc', '33:33:00:00:00:02', '33:33:00:00:00:16',\n",
       "       '01:00:5e:00:00:16', '01:80:c2:00:00:0e', '00:00:00:00:00:03',\n",
       "       '33:33:00:00:00:01', '00:50:56:c0:00:01'], dtype=object)"
      ]
     },
     "execution_count": 23,
     "metadata": {},
     "output_type": "execute_result"
    }
   ],
   "source": [
    "\"\"\"direccion MAC de destino = BAJA\n",
    "(el flujo debe identificarse independientemente de los identificadores de hosts)\"\"\"\n",
    "df_normal.DstMac.unique()"
   ]
  },
  {
   "cell_type": "code",
   "execution_count": 24,
   "metadata": {},
   "outputs": [
    {
     "data": {
      "text/plain": [
       "array([nan])"
      ]
     },
     "execution_count": 24,
     "metadata": {},
     "output_type": "execute_result"
    }
   ],
   "source": [
    "\"\"\" atributo desconocido y valores FALTANTES\"\"\"\n",
    "df_normal.SrcOui.unique()"
   ]
  },
  {
   "cell_type": "code",
   "execution_count": 25,
   "metadata": {},
   "outputs": [
    {
     "data": {
      "text/plain": [
       "array([nan])"
      ]
     },
     "execution_count": 25,
     "metadata": {},
     "output_type": "execute_result"
    }
   ],
   "source": [
    "\"\"\" atributo desconocido y valores FALTANTES\"\"\"\n",
    "df_normal.DstOui.unique()"
   ]
  },
  {
   "cell_type": "code",
   "execution_count": 26,
   "metadata": {},
   "outputs": [
    {
     "data": {
      "text/plain": [
       "array(['0', '192.168.20.133', '192.168.8.128', '192.168.8.129',\n",
       "       '192.168.8.1', 'fe80::a9c8:a7bc:187d:eb55',\n",
       "       'fe80::20c:29ff:fe2d:746b', '01:80:c2:00:00:0e',\n",
       "       '02:eb:9f:67:c9:42', '192.168.20.2', '192.168.20.129',\n",
       "       '192.168.20.1', 'fe80::381f:c0ff:fec6:500', 'fe80::200:ff:fe00:3',\n",
       "       '169.254.5.255', 'fe80::20c:29ff:fe92:12ba'], dtype=object)"
      ]
     },
     "execution_count": 26,
     "metadata": {},
     "output_type": "execute_result"
    }
   ],
   "source": [
    "\"\"\"direccion IP origen  = BAJA\n",
    "(el flujo debe identificarse independientemente de los identificadores de hosts)\"\"\"\n",
    "df_normal.SrcAddr.unique()"
   ]
  },
  {
   "cell_type": "code",
   "execution_count": 27,
   "metadata": {},
   "outputs": [
    {
     "data": {
      "text/plain": [
       "array(['0', '173.194.129.231', '74.125.193.94', ..., '46.137.81.30',\n",
       "       '62.212.64.229', '52.26.57.93'], dtype=object)"
      ]
     },
     "execution_count": 27,
     "metadata": {},
     "output_type": "execute_result"
    }
   ],
   "source": [
    "\"\"\"direccion IP destino  = BAJA\n",
    "(el flujo debe identificarse independientemente de los identificadores de hosts)\"\"\"\n",
    "df_normal.DstAddr.unique()"
   ]
  },
  {
   "cell_type": "code",
   "execution_count": 28,
   "metadata": {},
   "outputs": [
    {
     "data": {
      "text/plain": [
       "array(['man', 'tcp', 'udp', 'ipv6-icmp', 'igmp', 'lldp', 'unknown', 'arp',\n",
       "       'icmp'], dtype=object)"
      ]
     },
     "execution_count": 28,
     "metadata": {},
     "output_type": "execute_result"
    }
   ],
   "source": [
    "\"\"\"protocolo que usa el flujo para la transaccion = ALTA\n",
    "protocolos de capa 2, 3 y 4\n",
    "\"\"\"\n",
    "df_normal.Proto.unique()"
   ]
  },
  {
   "cell_type": "code",
   "execution_count": 29,
   "metadata": {},
   "outputs": [
    {
     "data": {
      "text/plain": [
       "array(['0', '51780', '36764', ..., '53368', '61636', '51640'],\n",
       "      dtype=object)"
      ]
     },
     "execution_count": 29,
     "metadata": {},
     "output_type": "execute_result"
    }
   ],
   "source": [
    "\"\"\" puerto de origen == BAJA \n",
    "uso de puertos dinamicos\n",
    "\"\"\"\n",
    "df_normal.Sport.unique()"
   ]
  },
  {
   "cell_type": "code",
   "execution_count": 31,
   "metadata": {},
   "outputs": [
    {
     "data": {
      "text/plain": [
       "array(['0', 'https', 'http', ..., '52815', '38627', '38338'], dtype=object)"
      ]
     },
     "execution_count": 31,
     "metadata": {},
     "output_type": "execute_result"
    }
   ],
   "source": [
    "\"\"\" puerto de destino == ALTA \n",
    "uso de puertos conocidos o registrados\n",
    "\"\"\"\n",
    "df_normal.Dport.unique()"
   ]
  },
  {
   "cell_type": "code",
   "execution_count": 32,
   "metadata": {},
   "outputs": [
    {
     "data": {
      "text/plain": [
       "array([ nan,   0., 192., 195., 112., 244., 124.,  45., 206.,  27., 252.,\n",
       "        66.,  24., 247., 169., 128., 233., 106.,  98., 123.,   1.,  28.,\n",
       "       102., 234., 138.,  65.,  58.,  71.,   9., 135., 253., 111.,  18.,\n",
       "       132., 237.,  81.,  26., 182.,  64., 251., 228., 167.,  59., 164.,\n",
       "        62., 140., 185.,  63.,  67., 103., 146.,  55., 154., 202.,  78.,\n",
       "       100., 231.,  74., 229., 238., 136., 139.,  83.,  16., 197., 221.,\n",
       "       129.,  31., 222., 210., 155., 125.,  22.,  54.,  11., 218.,  86.,\n",
       "        99., 186., 172., 212., 211., 104., 120.,  80., 175., 157.,  73.,\n",
       "        88., 255., 126.,  19.,  97.,  39.,  50., 163.,  25., 143.,   3.,\n",
       "       194.,  60., 170., 134.,  17., 160., 205.])"
      ]
     },
     "execution_count": 32,
     "metadata": {},
     "output_type": "execute_result"
    }
   ],
   "source": [
    "\"\"\" valor del byte de la cabecera para indicar el tipo de servicio que consume el origen == BAJA\"\"\"\n",
    "df_normal.sTos.unique()"
   ]
  },
  {
   "cell_type": "code",
   "execution_count": 144,
   "metadata": {},
   "outputs": [
    {
     "data": {
      "text/plain": [
       "array([ nan,   0., 192.,  16.,   8.])"
      ]
     },
     "execution_count": 144,
     "metadata": {},
     "output_type": "execute_result"
    }
   ],
   "source": [
    "\"\"\" valor del byte de la cabecera para indicar el tipo de servicio que brinda el destino == BAJA\"\"\"\n",
    "df_normal.dTos.unique()"
   ]
  },
  {
   "cell_type": "code",
   "execution_count": 34,
   "metadata": {},
   "outputs": [
    {
     "data": {
      "text/plain": [
       "array([nan, 'cs0', 'cs6', 'af32', '61', '31', '11', '51', ' 6', '63',\n",
       "       'cs2', '42', 'cs4', '58', 'af31', 'cs3', 'af33', ' 7', '25',\n",
       "       'af41', 'af13', '17', ' 2', '33', '27', ' 4', '59', 'af22', '45',\n",
       "       '62', '57', '41', '15', '35', 'ef', 'af42', '13', 'af43', '50',\n",
       "       '19', 'af21', '49', '55', '52', ' 5', '54', '21', '43', '53', '39',\n",
       "       'af23', ' 9', 'af12', 'cs5'], dtype=object)"
      ]
     },
     "execution_count": 34,
     "metadata": {},
     "output_type": "execute_result"
    }
   ],
   "source": [
    "\"\"\" byte del estado del host de origen === ?\n",
    "\"\"\"\n",
    "df_normal.sDSb.unique()"
   ]
  },
  {
   "cell_type": "code",
   "execution_count": 36,
   "metadata": {},
   "outputs": [
    {
     "data": {
      "text/plain": [
       "array([nan, 'cs0', 'cs6', ' 4', ' 2'], dtype=object)"
      ]
     },
     "execution_count": 36,
     "metadata": {},
     "output_type": "execute_result"
    }
   ],
   "source": [
    "\"\"\" byte del estado del host de destino === ?\n",
    "\"\"\"\n",
    "df_normal.dDSb.unique()"
   ]
  },
  {
   "cell_type": "code",
   "execution_count": 37,
   "metadata": {},
   "outputs": [
    {
     "data": {
      "text/plain": [
       "array([nan])"
      ]
     },
     "execution_count": 37,
     "metadata": {},
     "output_type": "execute_result"
    }
   ],
   "source": [
    "\"\"\"codigo de localizacion de la direccion IP de origen  == BAJA \"\"\"\n",
    "df_normal.sCo.unique()"
   ]
  },
  {
   "cell_type": "code",
   "execution_count": 38,
   "metadata": {},
   "outputs": [
    {
     "data": {
      "text/plain": [
       "array([nan])"
      ]
     },
     "execution_count": 38,
     "metadata": {},
     "output_type": "execute_result"
    }
   ],
   "source": [
    "\"\"\"codigo de localizacion de la direccion IP de destino  == BAJA \"\"\"\n",
    "df_normal.dCo.unique()"
   ]
  },
  {
   "cell_type": "code",
   "execution_count": 39,
   "metadata": {},
   "outputs": [
    {
     "data": {
      "text/plain": [
       "array([ nan,  64., 128.,   1., 255.,   4.,  63.])"
      ]
     },
     "execution_count": 39,
     "metadata": {},
     "output_type": "execute_result"
    }
   ],
   "source": [
    "\"\"\" tiempo de vida del paquete de origen a destino = MEDIA\n",
    "\"\"\"\n",
    "df_normal.sTtl.unique()"
   ]
  },
  {
   "cell_type": "code",
   "execution_count": 40,
   "metadata": {},
   "outputs": [
    {
     "data": {
      "text/plain": [
       "array([ nan, 128.,  64.,  63.])"
      ]
     },
     "execution_count": 40,
     "metadata": {},
     "output_type": "execute_result"
    }
   ],
   "source": [
    "\"\"\" tiempo de vida del paquete de destino a origen = MEDIA\n",
    "\"\"\"\n",
    "df_normal.dTtl.unique()"
   ]
  },
  {
   "cell_type": "code",
   "execution_count": 45,
   "metadata": {},
   "outputs": [
    {
     "data": {
      "text/plain": [
       "array([nan,  0.,  1.])"
      ]
     },
     "execution_count": 45,
     "metadata": {},
     "output_type": "execute_result"
    }
   ],
   "source": [
    "\"\"\"numero de saltos de nodos del host origen =BAJA\n",
    "\"\"\"\n",
    "df_normal.sHops.unique()"
   ]
  },
  {
   "cell_type": "code",
   "execution_count": 42,
   "metadata": {},
   "outputs": [
    {
     "data": {
      "text/plain": [
       "array([nan,  0.,  1.])"
      ]
     },
     "execution_count": 42,
     "metadata": {},
     "output_type": "execute_result"
    }
   ],
   "source": [
    "\"\"\"numero de saltos de nodos del host destino =BAJA\n",
    "\"\"\"\n",
    "df_normal.dHops.unique()"
   ]
  },
  {
   "cell_type": "code",
   "execution_count": 43,
   "metadata": {},
   "outputs": [
    {
     "data": {
      "text/plain": [
       "array([nan, '0x70fe', '0x0000', ..., '0x121a', '0x3586', '0x741a'],\n",
       "      dtype=object)"
      ]
     },
     "execution_count": 43,
     "metadata": {},
     "output_type": "execute_result"
    }
   ],
   "source": [
    "\"\"\" identificador de cabecera para direccion IP del host origen =BAJA\n",
    "\"\"\"\n",
    "df_normal.sIpId.unique()"
   ]
  },
  {
   "cell_type": "code",
   "execution_count": 44,
   "metadata": {},
   "outputs": [
    {
     "data": {
      "text/plain": [
       "array([nan, '0xae22', '0xbf22', ..., '0x4a99', '0x0123', '0x411f'],\n",
       "      dtype=object)"
      ]
     },
     "execution_count": 44,
     "metadata": {},
     "output_type": "execute_result"
    }
   ],
   "source": [
    "\"\"\" identificador de cabecera para direccion IP del host destino =BAJA\"\"\"\n",
    "df_normal.dIpId.unique()"
   ]
  },
  {
   "cell_type": "code",
   "execution_count": 46,
   "metadata": {},
   "outputs": [
    {
     "data": {
      "text/plain": [
       "array([nan])"
      ]
     },
     "execution_count": 46,
     "metadata": {},
     "output_type": "execute_result"
    }
   ],
   "source": [
    "\"\"\" identificador de protocolo MPLS de origen = BAJA \"\"\"\n",
    "df_normal.sMpls.unique()"
   ]
  },
  {
   "cell_type": "code",
   "execution_count": 47,
   "metadata": {},
   "outputs": [
    {
     "data": {
      "text/plain": [
       "array([nan])"
      ]
     },
     "execution_count": 47,
     "metadata": {},
     "output_type": "execute_result"
    }
   ],
   "source": [
    "\"\"\" identificador de protocolo MPLS de destino = BAJA \"\"\"\n",
    "df_normal.dMpls.unique()"
   ]
  },
  {
   "cell_type": "code",
   "execution_count": 48,
   "metadata": {},
   "outputs": [
    {
     "data": {
      "text/plain": [
       "array([0], dtype=int64)"
      ]
     },
     "execution_count": 48,
     "metadata": {},
     "output_type": "execute_result"
    }
   ],
   "source": [
    "\"\"\" atributo desconocido\"\"\"\n",
    "df_normal.AutoId.unique()"
   ]
  },
  {
   "cell_type": "code",
   "execution_count": 49,
   "metadata": {},
   "outputs": [
    {
     "data": {
      "text/plain": [
       "array([nan])"
      ]
     },
     "execution_count": 49,
     "metadata": {},
     "output_type": "execute_result"
    }
   ],
   "source": [
    "\"\"\" nro de AS de origen  = BAJA\"\"\"\n",
    "df_normal.sAS.unique()"
   ]
  },
  {
   "cell_type": "code",
   "execution_count": 50,
   "metadata": {},
   "outputs": [
    {
     "data": {
      "text/plain": [
       "array([nan])"
      ]
     },
     "execution_count": 50,
     "metadata": {},
     "output_type": "execute_result"
    }
   ],
   "source": [
    "\"\"\" nro de AS de destino  = BAJA\"\"\"\n",
    "df_normal.dAS.unique()"
   ]
  },
  {
   "cell_type": "code",
   "execution_count": 51,
   "metadata": {},
   "outputs": [
    {
     "data": {
      "text/plain": [
       "array([nan])"
      ]
     },
     "execution_count": 51,
     "metadata": {},
     "output_type": "execute_result"
    }
   ],
   "source": [
    "\"\"\" nro de AS de intermedio del flujo  = BAJA\"\"\"\n",
    "df_normal.iAS.unique()"
   ]
  },
  {
   "cell_type": "code",
   "execution_count": 52,
   "metadata": {},
   "outputs": [
    {
     "data": {
      "text/plain": [
       "array(['Start', 'Status', 'Stop'], dtype=object)"
      ]
     },
     "execution_count": 52,
     "metadata": {},
     "output_type": "execute_result"
    }
   ],
   "source": [
    "\"\"\"valor del estado del flujo por argus ==MEDIA \n",
    "(indica si el flujo fue de inicio,o envia un estado, cierre o error del establecimiento de la comunicacion\"\"\"\n",
    "df_normal.Cause.unique()"
   ]
  },
  {
   "cell_type": "code",
   "execution_count": 53,
   "metadata": {},
   "outputs": [
    {
     "data": {
      "text/plain": [
       "array([nan])"
      ]
     },
     "execution_count": 53,
     "metadata": {},
     "output_type": "execute_result"
    }
   ],
   "source": [
    "\"\"\" numero total de pulsaciones por caracter == BAJA\"\"\"\n",
    "df_normal.NStrok.unique()"
   ]
  },
  {
   "cell_type": "code",
   "execution_count": 54,
   "metadata": {},
   "outputs": [
    {
     "data": {
      "text/plain": [
       "array([nan])"
      ]
     },
     "execution_count": 54,
     "metadata": {},
     "output_type": "execute_result"
    }
   ],
   "source": [
    "\"\"\" numero total de pulsaciones por caracter del equipo origen == BAJA\"\"\"\n",
    "df_normal.sNStrok.unique()"
   ]
  },
  {
   "cell_type": "code",
   "execution_count": 55,
   "metadata": {},
   "outputs": [
    {
     "data": {
      "text/plain": [
       "array([nan])"
      ]
     },
     "execution_count": 55,
     "metadata": {},
     "output_type": "execute_result"
    }
   ],
   "source": [
    "\"\"\" numero total de pulsaciones por caracter del equipo destino == BAJA\"\"\"\n",
    "df_normal.dNStrok.unique()"
   ]
  },
  {
   "cell_type": "code",
   "execution_count": 56,
   "metadata": {},
   "outputs": [
    {
     "data": {
      "text/plain": [
       "array([   0,  786,    8, ..., 1714, 3011, 1400], dtype=int64)"
      ]
     },
     "execution_count": 56,
     "metadata": {},
     "output_type": "execute_result"
    }
   ],
   "source": [
    "\"\"\" Nro total de paquetes en el flujo actual == ALTA\"\"\"\n",
    "df_normal.TotPkts.unique()"
   ]
  },
  {
   "cell_type": "code",
   "execution_count": 57,
   "metadata": {},
   "outputs": [
    {
     "data": {
      "text/plain": [
       "array([    0,   194,     4,     3,     2,   203,     1,     8,   236,\n",
       "           6,   245,     5,    80,   172,    14,    66,    11,   225,\n",
       "          10,     9,   144,    13,   141,    16,   143,   157,   267,\n",
       "          96,   190,   121,     7,    77,   177,    74,   193,    40,\n",
       "          39,    12,   138,    31,   161,   103,    15,    17,    22,\n",
       "         341,   571,   243,    41,    28,    24,   151,    47,   429,\n",
       "          46,    99,    25,    57,   624,   232,    93,    18,    53,\n",
       "         134,    36,   123,   105,   130,    45,    97,   116,    26,\n",
       "         290,    20,   181,    21,    88,   175,   162,   120,   142,\n",
       "         118,   286,   147,   106,   201,   251,   282,   140,   214,\n",
       "         231,    54,    92,    23,   292,    50,    29,   386,   403,\n",
       "         168,   388,    19,   188,   365,   154,   153,   608,   689,\n",
       "         695,   725,   651,   441,    33,  1116,    34,   199,  1233,\n",
       "        1931,   857,   931,   659,   396,    52,    49,   675,   156,\n",
       "         862,   706,   832,    27,   129,   864,    30,   579,   852,\n",
       "        1026,   484,   163,    35,  1459,    32,   117,    78,    76,\n",
       "         115,   242,   240,   720,   274,   228,    42,   170,    43,\n",
       "          44,    81,   145,   459,   158,   279,   287,    37,   109,\n",
       "          59,    94,   104,   128,   202,   110,   237, 10704,  6215,\n",
       "         249,   180,   119,   148,   220,    63,    56,   197,   218,\n",
       "         149,   207,   114,   166,   165,   102,    38,    90,    55,\n",
       "         132,   150,   209,   124,    91,    67,    51,   108,    61,\n",
       "         146,    70,   204,    64,    75,   351,    72,   427,    58,\n",
       "         133,   288,   258,   174,   189,    82,   594,    95,   269,\n",
       "         401,   271,    65,   195,   333,    86,   113,   296,   192,\n",
       "         100,   126,   239,   122,    62,    60,   326,   389,   381,\n",
       "          69,    71,   127,   297,    83,   164,   281,   266,   171,\n",
       "         254,   107,   187,   136,   137,   211,   363,   139,   178,\n",
       "         289,    85,    87,   112,   111,   183,   256,  1060,  1886,\n",
       "        2978,   907,  2071,  1358,  1121,   917,   596,   478,   590,\n",
       "         516,   631, 11823,  9681,   453,   969,   811,   582,   294,\n",
       "         300,   309,  1411,   646,   716,   850,   587,   304,   277,\n",
       "        1169,   901,   860,   479,   412,   958,   863,   809,   759,\n",
       "         791,   418,   603,   714,  1643,  1983,   496,   253,   814,\n",
       "         291,  1364,   625,  1350,  1634,  1077,   727,  1103,   413,\n",
       "        1023,   533,   335,   422,   668,   173,   457,   332,   393,\n",
       "         306,   670,   976,   464,   656,   425,   698,  1367,   632,\n",
       "        1407,  1239,   485,   634,   378,   810,   614,   973,   621,\n",
       "         369,   344,   322,   307,   499,   213,   387,   280,    48,\n",
       "         343,   205,   186,   375,   411,   264,   227,   272,   246,\n",
       "         703,   448,   458,   318,   354,   691,   505,   216,   395,\n",
       "         215,   400,   200,   407,   347,   357,   275,   299,   235,\n",
       "         131,   212,   222,   574,   135,   382,   221,   373,   694,\n",
       "         330,   323,   310,   807,   423,   185,   482,   342,   217,\n",
       "         159,   125,   380,   182,   176,   638,   501,   241,   223,\n",
       "          84,    98,   636,   439,    68,   368,   392,   179,   325,\n",
       "         517,   278,   583,   362,    79,   184,   360,   655,  1024,\n",
       "        2165,   647,   928,  1340,   665,   167,   616,   805,   751,\n",
       "         500,   471,  1552,  1550,  1288,   687,   261,   572,   417,\n",
       "         593,   364,   293,  1078,   421,   415,   813,  1276,   615,\n",
       "        1111,  2176,   854,   925,  1420,  2164,   518,   601,   762,\n",
       "        1076,  1693,   924,    73,   473,   927,   508,   155,   710,\n",
       "         744,   765,  1331,   932,   889,   685,  1171,  1870,   640,\n",
       "         426,  1054,   198,    89,   208,   247,   317,   303,   305,\n",
       "         224,   370,  1686,  1501,   982,  2152,  1011,   845,   713,\n",
       "         443,   806,   861,   560,   229,   433,   570,   160,   637,\n",
       "         774,  1004,  1279,   475,   399,   338,  2011,  1772,   169,\n",
       "         265,   233,   488,   752,   447,   466,   336,  1391,  1437,\n",
       "        1337,  1458,  1528,   490,   451,   672,   577,   268,   642,\n",
       "         152,   283,   867,   823,   446,   210,   824,  1070,  1133,\n",
       "         904,  5575,  3967,  4001,  5305, 15337, 19131,  3504,  2938,\n",
       "        1921,  1647,   990,  1813,  2397,  1636,  1687,   923,  2834,\n",
       "        1226,  2511,  1800,  1716,   825,  1955,   775,  2247,  1359,\n",
       "        2183,  1766,  1144,  1130,   206,   252,   599,   312,   244,\n",
       "         397,   783,   745,   602,   196,  3492,  1794,  7767,   273,\n",
       "         541,  2388,  3330,   339,   284,  1073,  1135,   230,   497,\n",
       "         456,   474,   531,   383,   316,   263,   374,   276,   402,\n",
       "         428,   361,   390,   379,   329,   435,   302,   527,  1140,\n",
       "         679,   561,   729,  2020,  1529,  1755,  1108,  1653,  1310,\n",
       "        1572,   882,  1231,  2322,  1731,  1308,  1730,  1442,  1195,\n",
       "         780,   887,   610,  1057,   697,  1253,  1112,  1271,  1046,\n",
       "        1322,  2842,  4545,  3129,  5963,  1611, 12056,  5309, 14218,\n",
       "        1645,   662,   641,  1417,  7914,   788,   704,   493,  1238,\n",
       "        2362,   903,   980,  1158,   871,  1016,   728,  1180,  1203,\n",
       "        1173,   463,   503,   818,   766,   684,  3018,  2099,   794,\n",
       "         410,   461,   878,   782,   898,   879,   658,  1162,   677,\n",
       "        1318,  1019,  2480,   623,   321,   939,  1449,   556,   564,\n",
       "         754,  2113,  1625,  1487,   959,   830,  1168,   680,   897,\n",
       "         420,   568,   519,  4051,  5083,  4306,  5593,  4596,  4873,\n",
       "        4044,  3130,   787,  1215,   536,  1992,   844,   512,   686,\n",
       "        1153,  1481,  1043,   833,   970,   607,   718,   295,   414,\n",
       "         955,   688,  1275,   444,   298,   337,   257,   331,  1139,\n",
       "         848,   786,   419,   219,   270,   384,   385,   314,   352,\n",
       "         320,   721,   327,   248,   345,   355,   391,   494,   259,\n",
       "         436,   416,   398,   358,   404,   702,   881,   908,   394,\n",
       "         101,   491,   576,   618,   542,  4120,   769,   784,   528,\n",
       "         434,   353,   367,   853,   741,  1341,   535,   346,  2119,\n",
       "         438,   595,   585,   507,   430,   865,  1655,   758,  1136,\n",
       "         588,  1048,   747,  1107,  3794,  4118,  2594,  1562,  2406,\n",
       "        1946,  2356,  1801,  1929,  1286,  2366,  1683,  2284,  1342,\n",
       "        2010,  1726,   802,  2012,   981,  1453,  1445,  1469,   944,\n",
       "        1846,   821,   999,  1695,  1684,   967,  2160,  1102,  2036,\n",
       "         841,  1795,  1781,  1708,  1228,  1063,  1498,  1818,  1143,\n",
       "        1489,  1593,  1371,   929,  1709,   873,  2316,   950,   842,\n",
       "        1006,  1088,   880,   742,   746,   622,   800,   649,   930,\n",
       "        1156,  1685,  1357,  1147,  1230,  1365,   986,  1095,  1098,\n",
       "        1263,  1217,  1363,  1012,  1051,   633,   798,   492,   947,\n",
       "         566,   771,   539,   652,   743,   650,   661,   315,   191,\n",
       "         250,   301,   313,   722,  1743,  1428,  1285,  1345,  1181,\n",
       "        1235,  1021,  1246,  1157,  1001,  1212,  1313,  1017,  1324,\n",
       "         591,   829,  1338,   597,   983,   767,   626,   548,   801,\n",
       "         562,   803,   875,   717,   540,   789,  1050,   546,   581,\n",
       "         894,   537,   918,   946,   739,   690,   639,   628,   611,\n",
       "         934,   885,   738,   255,   328,   262,   334,  1862,  2148,\n",
       "        1961,  2149,  1690,  2746,  2023,  2972,  2229,  2755,  2646,\n",
       "        1906,  2134,  1178,  1559,  1213,   748,   869,  2439,  3546,\n",
       "        3088,  3160,  3011,  1622], dtype=int64)"
      ]
     },
     "execution_count": 57,
     "metadata": {},
     "output_type": "execute_result"
    }
   ],
   "source": [
    "\"\"\" Nro total de paquetes en el flujo del host Origen == ALTA\"\"\"\n",
    "df_normal.SrcPkts.unique()"
   ]
  },
  {
   "cell_type": "code",
   "execution_count": 58,
   "metadata": {},
   "outputs": [
    {
     "data": {
      "text/plain": [
       "array([   0,  592,    4, ..., 2720, 2560, 1389], dtype=int64)"
      ]
     },
     "execution_count": 58,
     "metadata": {},
     "output_type": "execute_result"
    }
   ],
   "source": [
    "\"\"\" Nro total de paquetes en el flujo del host destino == ALTA\"\"\"\n",
    "df_normal.DstPkts.unique()"
   ]
  },
  {
   "cell_type": "code",
   "execution_count": 59,
   "metadata": {},
   "outputs": [
    {
     "data": {
      "text/plain": [
       "array([       0,  1983312,      456, ...,    26758,   252032, 10999284],\n",
       "      dtype=int64)"
      ]
     },
     "execution_count": 59,
     "metadata": {},
     "output_type": "execute_result"
    }
   ],
   "source": [
    "\"\"\" Total de bytes en todo el flujo actual = ALTA  \"\"\"\n",
    "df_normal.TotBytes.unique()"
   ]
  },
  {
   "cell_type": "code",
   "execution_count": 61,
   "metadata": {},
   "outputs": [
    {
     "data": {
      "text/plain": [
       "array([     0,  12954,    216, ..., 388847, 236653, 130600], dtype=int64)"
      ]
     },
     "execution_count": 61,
     "metadata": {},
     "output_type": "execute_result"
    }
   ],
   "source": [
    "\"\"\" cantidad de bytes emitidos de origen a destino = ALTA  \"\"\"\n",
    "df_normal.SrcBytes.unique()"
   ]
  },
  {
   "cell_type": "code",
   "execution_count": 62,
   "metadata": {},
   "outputs": [
    {
     "data": {
      "text/plain": [
       "array([      0, 1970358,     240, ...,  213449,  121432,     946],\n",
       "      dtype=int64)"
      ]
     },
     "execution_count": 62,
     "metadata": {},
     "output_type": "execute_result"
    }
   ],
   "source": [
    "\"\"\" cantidad de bytes emitidos de destino a origen = ALTA  \"\"\"\n",
    "df_normal.DstBytes.unique()"
   ]
  },
  {
   "cell_type": "code",
   "execution_count": 63,
   "metadata": {},
   "outputs": [
    {
     "data": {
      "text/plain": [
       "array([       0,  1940850,       77, ...,   357690,   198044, 10999284],\n",
       "      dtype=int64)"
      ]
     },
     "execution_count": 63,
     "metadata": {},
     "output_type": "execute_result"
    }
   ],
   "source": [
    "\"\"\"total de bytes de la aplicacion usada en el flujo = MEDIA\"\"\"\n",
    "df_normal.TotAppByte.unique()"
   ]
  },
  {
   "cell_type": "code",
   "execution_count": 64,
   "metadata": {},
   "outputs": [
    {
     "data": {
      "text/plain": [
       "array([     0,   2478,     77, ..., 281795, 186163, 101296], dtype=int64)"
      ]
     },
     "execution_count": 64,
     "metadata": {},
     "output_type": "execute_result"
    }
   ],
   "source": [
    "\"\"\"total de bytes de la aplicacion origen a la aplicacion destino (cliente-servidor) = MEDIA\"\"\"\n",
    "df_normal.SAppBytes.unique()"
   ]
  },
  {
   "cell_type": "code",
   "execution_count": 65,
   "metadata": {},
   "outputs": [
    {
     "data": {
      "text/plain": [
       "array([      0, 1938372,      46, ...,  265713,  171527,   96748],\n",
       "      dtype=int64)"
      ]
     },
     "execution_count": 65,
     "metadata": {},
     "output_type": "execute_result"
    }
   ],
   "source": [
    "\"\"\"total de bytes de la aplicacion destino a la aplicacion origen (servidor-cliente) = MEDIA\"\"\"\n",
    "df_normal.DAppBytes.unique()"
   ]
  },
  {
   "cell_type": "code",
   "execution_count": 67,
   "metadata": {},
   "outputs": [
    {
     "data": {
      "text/plain": [
       "array([      nan, -0.997446, -0.      , ...,  0.040918,  0.022965,\n",
       "       -0.793991])"
      ]
     },
     "execution_count": 67,
     "metadata": {},
     "output_type": "execute_result"
    }
   ],
   "source": [
    "\"\"\"porcentaje de interaccion entre hosts origen y destino = BAJA\"\"\"\n",
    "df_normal.PCRatio.unique()"
   ]
  },
  {
   "cell_type": "code",
   "execution_count": 68,
   "metadata": {},
   "outputs": [
    {
     "data": {
      "text/plain": [
       "array([0.00000000e+00, 1.38322962e+06, 2.14182632e+02, ...,\n",
       "       2.53942453e+05, 1.45371094e+03, 6.53299463e+03])"
      ]
     },
     "execution_count": 68,
     "metadata": {},
     "output_type": "execute_result"
    }
   ],
   "source": [
    "\"\"\" Nro de bits por segundo en el flujo = BAJA\"\"\"\n",
    "df_normal.Load.unique()"
   ]
  },
  {
   "cell_type": "code",
   "execution_count": 69,
   "metadata": {},
   "outputs": [
    {
     "data": {
      "text/plain": [
       "array([0.00000000e+00, 9.00487598e+03, 1.01454933e+02, ...,\n",
       "       1.31616469e+05, 1.45371094e+03, 5.09476172e+03])"
      ]
     },
     "execution_count": 69,
     "metadata": {},
     "output_type": "execute_result"
    }
   ],
   "source": [
    "\"\"\" Nro de bits por segundo emitidos por el host origen == BAJA\"\"\"\n",
    "df_normal.SrcLoad.unique()"
   ]
  },
  {
   "cell_type": "code",
   "execution_count": 70,
   "metadata": {},
   "outputs": [
    {
     "data": {
      "text/plain": [
       "array([0.00000000e+00, 1.37442412e+06, 1.12740479e+02, ...,\n",
       "       1.28260117e+04, 1.23014289e+05, 1.44045105e+03])"
      ]
     },
     "execution_count": 70,
     "metadata": {},
     "output_type": "execute_result"
    }
   ],
   "source": [
    "\"\"\" Nro de bits por segundo emitidos por el host destino == BAJA\"\"\"\n",
    "df_normal.DstLoad.unique()"
   ]
  },
  {
   "cell_type": "code",
   "execution_count": 71,
   "metadata": {},
   "outputs": [
    {
     "data": {
      "text/plain": [
       "array([ 0,  1,  2,  3,  5,  7,  6,  4, 16, 13, 17, 14,  8,  9, 10, 21, 12,\n",
       "       11], dtype=int64)"
      ]
     },
     "execution_count": 71,
     "metadata": {},
     "output_type": "execute_result"
    }
   ],
   "source": [
    "\"\"\" total de paquetes perdidos en el flujo == BAJA\"\"\"\n",
    "df_normal.Loss.unique()"
   ]
  },
  {
   "cell_type": "code",
   "execution_count": 72,
   "metadata": {},
   "outputs": [
    {
     "data": {
      "text/plain": [
       "array([ 0,  3,  1, 17, 14,  2,  4,  6,  5], dtype=int64)"
      ]
     },
     "execution_count": 72,
     "metadata": {},
     "output_type": "execute_result"
    }
   ],
   "source": [
    "\"\"\" total de paquetes perdidos en el flujo por el host origen== BAJA\"\"\"\n",
    "df_normal.SrcLoss.unique()"
   ]
  },
  {
   "cell_type": "code",
   "execution_count": 73,
   "metadata": {},
   "outputs": [
    {
     "data": {
      "text/plain": [
       "array([ 0,  1,  2,  3,  5,  7,  6,  4, 16, 13,  8,  9, 21, 12, 10],\n",
       "      dtype=int64)"
      ]
     },
     "execution_count": 73,
     "metadata": {},
     "output_type": "execute_result"
    }
   ],
   "source": [
    "\"\"\" total de paquetes perdidos en el flujo por el host destino== BAJA\"\"\"\n",
    "df_normal.DstLoss.unique()"
   ]
  },
  {
   "cell_type": "code",
   "execution_count": null,
   "metadata": {},
   "outputs": [],
   "source": [
    "\"\"\" porcentaje de paquetes perdidos en el flujo == BAJA\"\"\"\n",
    "df_normal.pLoss.unique()"
   ]
  },
  {
   "cell_type": "code",
   "execution_count": null,
   "metadata": {},
   "outputs": [],
   "source": [
    "\"\"\" porcentaje de paquetes perdidos en el flujo por el host origen == BAJA\"\"\"\n",
    "df_normal.pSrcLoss.unique()"
   ]
  },
  {
   "cell_type": "code",
   "execution_count": null,
   "metadata": {},
   "outputs": [],
   "source": [
    "\"\"\" porcentaje de paquetes perdidos en el flujo por el host destino == BAJA\"\"\"\n",
    "df_normal.pDstLoss.unique()"
   ]
  },
  {
   "cell_type": "code",
   "execution_count": 77,
   "metadata": {},
   "outputs": [
    {
     "data": {
      "text/plain": [
       "array([0], dtype=int64)"
      ]
     },
     "execution_count": 77,
     "metadata": {},
     "output_type": "execute_result"
    }
   ],
   "source": [
    "\"\"\"total de paquetes retransimitidos en el flujo actual == BAJA\"\"\"\n",
    "df_normal.Retrans.unique()"
   ]
  },
  {
   "cell_type": "code",
   "execution_count": 78,
   "metadata": {},
   "outputs": [
    {
     "data": {
      "text/plain": [
       "array([0], dtype=int64)"
      ]
     },
     "execution_count": 78,
     "metadata": {},
     "output_type": "execute_result"
    }
   ],
   "source": [
    "\"\"\"total de paquetes retransimitidos en el flujo por el host origen == BAJA\"\"\"\n",
    "df_normal.SrcRetra.unique()"
   ]
  },
  {
   "cell_type": "code",
   "execution_count": 79,
   "metadata": {},
   "outputs": [
    {
     "data": {
      "text/plain": [
       "array([0], dtype=int64)"
      ]
     },
     "execution_count": 79,
     "metadata": {},
     "output_type": "execute_result"
    }
   ],
   "source": [
    "\"\"\"total de paquetes retransimitidos en el flujo por el host destino == BAJA\"\"\"\n",
    "df_normal.DstRetra.unique()"
   ]
  },
  {
   "cell_type": "code",
   "execution_count": 81,
   "metadata": {},
   "outputs": [
    {
     "data": {
      "text/plain": [
       "array([0.])"
      ]
     },
     "execution_count": 81,
     "metadata": {},
     "output_type": "execute_result"
    }
   ],
   "source": [
    "\"\"\"porcentaje de paquetes retransimitidos en el flujo == BAJA\"\"\"\n",
    "df_normal.pRetran.unique()"
   ]
  },
  {
   "cell_type": "code",
   "execution_count": 82,
   "metadata": {},
   "outputs": [
    {
     "data": {
      "text/plain": [
       "array([0.])"
      ]
     },
     "execution_count": 82,
     "metadata": {},
     "output_type": "execute_result"
    }
   ],
   "source": [
    "\"porcentaje de paquetes retransimitidos en el flujo por el host origen == BAJA\"\"\"\n",
    "df_normal.pSrcRetr.unique()"
   ]
  },
  {
   "cell_type": "code",
   "execution_count": 83,
   "metadata": {},
   "outputs": [
    {
     "data": {
      "text/plain": [
       "array([0.])"
      ]
     },
     "execution_count": 83,
     "metadata": {},
     "output_type": "execute_result"
    }
   ],
   "source": [
    "\"porcentaje de paquetes retransimitidos en el flujo por el host destino == BAJA\"\"\"\n",
    "df_normal.pDstRetr.unique()"
   ]
  },
  {
   "cell_type": "code",
   "execution_count": 84,
   "metadata": {},
   "outputs": [
    {
     "data": {
      "text/plain": [
       "array([        nan, 0.00000e+00, 5.12000e+02, 1.77000e+02, 1.00000e+00,\n",
       "       1.79000e+02, 1.60000e+01, 1.07000e+02, 9.60000e+01, 1.60000e+02,\n",
       "       3.80000e+01, 4.18000e+02, 1.09600e+03, 3.78000e+02, 3.41000e+02,\n",
       "       8.37100e+03, 8.14000e+02, 2.16000e+02, 3.58000e+02, 1.19231e+05,\n",
       "       6.55900e+03, 6.51100e+03, 1.09800e+03, 8.46600e+03, 4.83000e+02,\n",
       "       8.60000e+01, 1.15300e+03, 4.32000e+02, 3.54000e+02, 1.09440e+04,\n",
       "       2.19000e+02, 2.17000e+02, 6.33000e+02, 1.26900e+03, 4.33000e+02,\n",
       "       1.09520e+04, 1.15000e+02])"
      ]
     },
     "execution_count": 84,
     "metadata": {},
     "output_type": "execute_result"
    }
   ],
   "source": [
    "\"\"\" bytes de origen que faltan en el flujo === BAJA\"\"\"\n",
    "df_normal.SrcGap.unique()"
   ]
  },
  {
   "cell_type": "code",
   "execution_count": 85,
   "metadata": {},
   "outputs": [
    {
     "data": {
      "text/plain": [
       "array([         nan, 0.000000e+00, 1.770000e+02, 1.600000e+01,\n",
       "       4.000000e+01, 6.016780e+05, 4.620000e+02, 4.890000e+02,\n",
       "       3.305165e+06, 2.904300e+04, 4.250000e+02, 5.600000e+01,\n",
       "       1.560000e+04])"
      ]
     },
     "execution_count": 85,
     "metadata": {},
     "output_type": "execute_result"
    }
   ],
   "source": [
    "\"\"\" bytes del host destino que faltan en el flujo === BAJA\"\"\"\n",
    "df_normal.DstGap.unique()"
   ]
  },
  {
   "cell_type": "code",
   "execution_count": 86,
   "metadata": {},
   "outputs": [
    {
     "data": {
      "text/plain": [
       "array([  0.      ,  68.553047,   0.547982, ..., 103.152061,   1.481107,\n",
       "         8.460504])"
      ]
     },
     "execution_count": 86,
     "metadata": {},
     "output_type": "execute_result"
    }
   ],
   "source": [
    "\"\"\" cantidad de paquetes por segundo == ALTA \"\"\"\n",
    "df_normal.Rate.unique()"
   ]
  },
  {
   "cell_type": "code",
   "execution_count": 87,
   "metadata": {},
   "outputs": [
    {
     "data": {
      "text/plain": [
       "array([ 0.      , 16.856195,  0.234849, ...,  1.48283 , 55.9319  ,\n",
       "        2.308415])"
      ]
     },
     "execution_count": 87,
     "metadata": {},
     "output_type": "execute_result"
    }
   ],
   "source": [
    "\"\"\" cantidad de paquetes por segundo emitido por el host Origen == ALTA \"\"\"\n",
    "df_normal.SrcRate.unique()"
   ]
  },
  {
   "cell_type": "code",
   "execution_count": 89,
   "metadata": {},
   "outputs": [
    {
     "data": {
      "text/plain": [
       "array([ 0.      , 51.618725,  0.234876, ..., 47.358898,  0.987575,\n",
       "        5.383957])"
      ]
     },
     "execution_count": 89,
     "metadata": {},
     "output_type": "execute_result"
    }
   ],
   "source": [
    "\"\"\" cantidad de paquetes por segundo emitido por el host Destino == ALTA \"\"\"\n",
    "df_normal.DstRate.unique()"
   ]
  },
  {
   "cell_type": "code",
   "execution_count": 91,
   "metadata": {},
   "outputs": [
    {
     "data": {
      "text/plain": [
       "array([nan, '  <?>', '  <->', '   ->', '  who'], dtype=object)"
      ]
     },
     "execution_count": 91,
     "metadata": {},
     "output_type": "execute_result"
    }
   ],
   "source": [
    "\"\"\"direccion de la transaccion o de la comunicacion (normal, desconocido, uno o doble sentido) \"\"\"\n",
    "df_normal.Dir.unique()"
   ]
  },
  {
   "cell_type": "code",
   "execution_count": 92,
   "metadata": {},
   "outputs": [
    {
     "data": {
      "text/plain": [
       "array([        nan,   59.325375, 4258.0485  , ...,   18.08132 ,\n",
       "       2068.164   ,  996.78225 ])"
      ]
     },
     "execution_count": 92,
     "metadata": {},
     "output_type": "execute_result"
    }
   ],
   "source": [
    "\"\"\"tiempo de llegada entre paquetes de origen == MEDIA\"\"\"\n",
    "df_normal.SIntPkt.unique()"
   ]
  },
  {
   "cell_type": "code",
   "execution_count": 93,
   "metadata": {},
   "outputs": [
    {
     "data": {
      "text/plain": [
       "array([nan])"
      ]
     },
     "execution_count": 93,
     "metadata": {},
     "output_type": "execute_result"
    }
   ],
   "source": [
    "\"\"\" Distribución del tiempo de llegada entre paquetes de origen == MEDIA\"\"\"\n",
    "df_normal.SIntDist.unique()"
   ]
  },
  {
   "cell_type": "code",
   "execution_count": 94,
   "metadata": {},
   "outputs": [
    {
     "data": {
      "text/plain": [
       "array([     nan, 0.      , 0.616   , ..., 0.262033, 0.537459, 0.370658])"
      ]
     },
     "execution_count": 94,
     "metadata": {},
     "output_type": "execute_result"
    }
   ],
   "source": [
    "\"\"\" Tiempo de llegada de paquetes que permanece activos en el host origen == ALTA \"\"\"\n",
    "df_normal.SIntPktAct.unique()"
   ]
  },
  {
   "cell_type": "code",
   "execution_count": 95,
   "metadata": {},
   "outputs": [
    {
     "data": {
      "text/plain": [
       "array([nan])"
      ]
     },
     "execution_count": 95,
     "metadata": {},
     "output_type": "execute_result"
    }
   ],
   "source": [
    "\"\"\" Tiempo extendido que se mantiene activo el flujo == ALTA\"\"\"\n",
    "df_normal.SIntActDist.unique()"
   ]
  },
  {
   "cell_type": "code",
   "execution_count": 97,
   "metadata": {},
   "outputs": [
    {
     "data": {
      "text/plain": [
       "array([        nan,   59.325375, 4258.0485  , ...,   21.738957,\n",
       "       2068.164   ,  996.78225 ])"
      ]
     },
     "execution_count": 97,
     "metadata": {},
     "output_type": "execute_result"
    }
   ],
   "source": [
    "\"\"\" tiempo que permanenece inactiva la comunicacion despues de la llegada de los paquetes == ALTA\"\"\"\n",
    "df_normal.SIntPktIdl.unique()"
   ]
  },
  {
   "cell_type": "code",
   "execution_count": 100,
   "metadata": {},
   "outputs": [
    {
     "data": {
      "text/plain": [
       "array([nan])"
      ]
     },
     "execution_count": 100,
     "metadata": {},
     "output_type": "execute_result"
    }
   ],
   "source": [
    "\"\"\" atributo desconocido \"\"\"\n",
    "df_normal.SIntIdlDist.unique()"
   ]
  },
  {
   "cell_type": "code",
   "execution_count": 101,
   "metadata": {},
   "outputs": [
    {
     "data": {
      "text/plain": [
       "array([        nan,   20.016316, 4257.5655  , ...,   21.464324,\n",
       "        689.477   ,  493.23975 ])"
      ]
     },
     "execution_count": 101,
     "metadata": {},
     "output_type": "execute_result"
    }
   ],
   "source": [
    "\"\"\"tiempo de llegada entre paquetes de destino== MEDIA\"\"\"\n",
    "df_normal.DIntPkt.unique()"
   ]
  },
  {
   "cell_type": "code",
   "execution_count": 102,
   "metadata": {},
   "outputs": [
    {
     "data": {
      "text/plain": [
       "array([nan])"
      ]
     },
     "execution_count": 102,
     "metadata": {},
     "output_type": "execute_result"
    }
   ],
   "source": [
    "\"\"\" Distribución del tiempo de llegada de los paquetes destino == MEDIA\"\"\"\n",
    "df_normal.DIntDist.unique()"
   ]
  },
  {
   "cell_type": "code",
   "execution_count": 103,
   "metadata": {},
   "outputs": [
    {
     "data": {
      "text/plain": [
       "array([     nan, 0.110966, 0.      , ..., 0.348846, 0.755518, 0.53477 ])"
      ]
     },
     "execution_count": 103,
     "metadata": {},
     "output_type": "execute_result"
    }
   ],
   "source": [
    "\"\"\" Tiempo de llegada de paquetes que permanece activos en el host destino== ALTA \"\"\"\n",
    "df_normal.DIntPktAct.unique()"
   ]
  },
  {
   "cell_type": "code",
   "execution_count": 104,
   "metadata": {},
   "outputs": [
    {
     "data": {
      "text/plain": [
       "array([nan])"
      ]
     },
     "execution_count": 104,
     "metadata": {},
     "output_type": "execute_result"
    }
   ],
   "source": [
    "\"\"\" Tiempo extendido que se mantiene inactivo el flujo por parte del host destino == ALTA\"\"\"\n",
    "df_normal.DIntActDist.unique()"
   ]
  },
  {
   "cell_type": "code",
   "execution_count": 105,
   "metadata": {},
   "outputs": [
    {
     "data": {
      "text/plain": [
       "array([        nan,   61.990641, 4257.5655  , ...,   32.097887,\n",
       "       1034.145   ,  789.104625])"
      ]
     },
     "execution_count": 105,
     "metadata": {},
     "output_type": "execute_result"
    }
   ],
   "source": [
    "\"\"\" tiempo que permanenece inactiva la comunicacion despues de la llegada de los paquetes hacia el host origen== ALTA\"\"\"\n",
    "df_normal.DIntPktIdl.unique()"
   ]
  },
  {
   "cell_type": "code",
   "execution_count": 106,
   "metadata": {},
   "outputs": [
    {
     "data": {
      "text/plain": [
       "array([        nan,   61.990641, 4257.5655  , ...,   32.097887,\n",
       "       1034.145   ,  789.104625])"
      ]
     },
     "execution_count": 106,
     "metadata": {},
     "output_type": "execute_result"
    }
   ],
   "source": [
    "\"\"\" tiempo que permanenece inactiva la comunicacion despues de la llegada de los paquetes hacia el host origen== ALTA\"\"\"\n",
    "df_normal.DIntPktIdl.unique()"
   ]
  },
  {
   "cell_type": "code",
   "execution_count": 18,
   "metadata": {},
   "outputs": [
    {
     "data": {
      "text/plain": [
       "array([nan])"
      ]
     },
     "execution_count": 18,
     "metadata": {},
     "output_type": "execute_result"
    }
   ],
   "source": [
    "\"\"\" atributo desconocido \"\"\"\n",
    "df_normal.DIntIdlDist.unique()"
   ]
  },
  {
   "cell_type": "code",
   "execution_count": 107,
   "metadata": {},
   "outputs": [
    {
     "data": {
      "text/plain": [
       "array([        nan,  735.935938, 4351.5035  , ..., 1103.81325 ,\n",
       "       1705.392185, 1111.00325 ])"
      ]
     },
     "execution_count": 107,
     "metadata": {},
     "output_type": "execute_result"
    }
   ],
   "source": [
    "\"\"\" tiempo de retardo entre el momento en que se transmite una señal y el momento en que se \n",
    "recibe a través de una conexión de red del host origen == MEDIA\"\"\"\n",
    "df_normal.SrcJitter.unique()"
   ]
  },
  {
   "cell_type": "code",
   "execution_count": 108,
   "metadata": {},
   "outputs": [
    {
     "data": {
      "text/plain": [
       "array([     nan, 0.      , 0.9655  , ..., 0.93339 , 3.694388, 1.831155])"
      ]
     },
     "execution_count": 108,
     "metadata": {},
     "output_type": "execute_result"
    }
   ],
   "source": [
    "\"\"\"variacion activa del retardo del host origen == MEDIA\"\"\"\n",
    "df_normal.SrcJitAct.unique()"
   ]
  },
  {
   "cell_type": "code",
   "execution_count": 109,
   "metadata": {},
   "outputs": [
    {
     "data": {
      "text/plain": [
       "array([         nan, 14844.695978,  4351.9485  , ...,  2024.262294,\n",
       "       36973.666941, 32951.656984])"
      ]
     },
     "execution_count": 109,
     "metadata": {},
     "output_type": "execute_result"
    }
   ],
   "source": [
    "\"\"\" tiempo de retardo entre el momento en que se transmite una señal y el momento en que se \n",
    "recibe a través de una conexión de red del host destino == MEDIA\"\"\"\n",
    "df_normal.DstJitter.unique()"
   ]
  },
  {
   "cell_type": "code",
   "execution_count": 110,
   "metadata": {},
   "outputs": [
    {
     "data": {
      "text/plain": [
       "array([     nan, 0.283343, 0.265443, ..., 0.031289, 2.725911, 0.046507])"
      ]
     },
     "execution_count": 110,
     "metadata": {},
     "output_type": "execute_result"
    }
   ],
   "source": [
    "\"\"\"variacion activa del retardo del host destino == MEDIA\"\"\"\n",
    "df_normal.DstJitAct.unique()"
   ]
  },
  {
   "cell_type": "code",
   "execution_count": 111,
   "metadata": {},
   "outputs": [
    {
     "data": {
      "text/plain": [
       "array(['STA', 'CON', 'FIN', 'RST', 'STP', 'INT', 'NRS', 'MHR', 'URP',\n",
       "       'RSP', 'REQ', 'ECO', 'CLO'], dtype=object)"
      ]
     },
     "execution_count": 111,
     "metadata": {},
     "output_type": "execute_result"
    }
   ],
   "source": [
    "\"\"\"estado de la conexion entre origen y destino == ALTA\"\"\"\n",
    "df_normal.State.unique()"
   ]
  },
  {
   "cell_type": "code",
   "execution_count": 112,
   "metadata": {},
   "outputs": [
    {
     "data": {
      "text/plain": [
       "array(['Normal'], dtype=object)"
      ]
     },
     "execution_count": 112,
     "metadata": {},
     "output_type": "execute_result"
    }
   ],
   "source": [
    "\"\"\"etiqueta del trafico == ALTA\"\"\"\n",
    "df_normal.Label.unique()"
   ]
  },
  {
   "cell_type": "code",
   "execution_count": 113,
   "metadata": {},
   "outputs": [
    {
     "data": {
      "text/plain": [
       "array([nan])"
      ]
     },
     "execution_count": 113,
     "metadata": {},
     "output_type": "execute_result"
    }
   ],
   "source": [
    "\"\"\"buffer de datos del host origen\"\"\"\n",
    "df_normal.srcUdata.unique()"
   ]
  },
  {
   "cell_type": "code",
   "execution_count": 114,
   "metadata": {},
   "outputs": [
    {
     "data": {
      "text/plain": [
       "array([nan])"
      ]
     },
     "execution_count": 114,
     "metadata": {},
     "output_type": "execute_result"
    }
   ],
   "source": [
    "\"\"\"buffer de datos del host destino\"\"\"\n",
    "df_normal.dstUdata.unique()"
   ]
  },
  {
   "cell_type": "code",
   "execution_count": 115,
   "metadata": {},
   "outputs": [
    {
     "data": {
      "text/plain": [
       "array([   nan, 65535., 41418., ...,   249.,   311.,   343.])"
      ]
     },
     "execution_count": 115,
     "metadata": {},
     "output_type": "execute_result"
    }
   ],
   "source": [
    "\"\"\"ventana TCP de origen == BAJA\"\"\"\n",
    "df_normal.SrcWin.unique()"
   ]
  },
  {
   "cell_type": "code",
   "execution_count": null,
   "metadata": {},
   "outputs": [],
   "source": [
    "\"\"\"ventana TCP de destino == BAJA\"\"\"\n",
    "df_normal.DstWin.unique()"
   ]
  },
  {
   "cell_type": "code",
   "execution_count": 119,
   "metadata": {},
   "outputs": [
    {
     "data": {
      "text/plain": [
       "array([nan])"
      ]
     },
     "execution_count": 119,
     "metadata": {},
     "output_type": "execute_result"
    }
   ],
   "source": [
    "\"\"\" VLAN  de origen = BAJA \"\"\"\n",
    "df_normal.sVlan.unique()"
   ]
  },
  {
   "cell_type": "code",
   "execution_count": 121,
   "metadata": {},
   "outputs": [
    {
     "data": {
      "text/plain": [
       "array([nan])"
      ]
     },
     "execution_count": 121,
     "metadata": {},
     "output_type": "execute_result"
    }
   ],
   "source": [
    "\"\"\" VLAN  de destino  = BAJA\"\"\"\n",
    "df_normal.dVlan.unique()"
   ]
  },
  {
   "cell_type": "code",
   "execution_count": 122,
   "metadata": {},
   "outputs": [
    {
     "data": {
      "text/plain": [
       "array([nan])"
      ]
     },
     "execution_count": 122,
     "metadata": {},
     "output_type": "execute_result"
    }
   ],
   "source": [
    "\"\"\" identificador VLAN  de origen  = BAJA \"\"\"\n",
    "df_normal.sVid.unique()"
   ]
  },
  {
   "cell_type": "code",
   "execution_count": 123,
   "metadata": {},
   "outputs": [
    {
     "data": {
      "text/plain": [
       "array([nan])"
      ]
     },
     "execution_count": 123,
     "metadata": {},
     "output_type": "execute_result"
    }
   ],
   "source": [
    "\"\"\" identificador VLAN  de destino = BAJA \"\"\"\n",
    "df_normal.dVid.unique()"
   ]
  },
  {
   "cell_type": "code",
   "execution_count": 125,
   "metadata": {},
   "outputs": [
    {
     "data": {
      "text/plain": [
       "array([nan])"
      ]
     },
     "execution_count": 125,
     "metadata": {},
     "output_type": "execute_result"
    }
   ],
   "source": [
    "\"\"\" prioridad VLAN  de origen = BAJA \"\"\"\n",
    "df_normal.sVpri.unique()"
   ]
  },
  {
   "cell_type": "code",
   "execution_count": 124,
   "metadata": {},
   "outputs": [
    {
     "data": {
      "text/plain": [
       "array([nan])"
      ]
     },
     "execution_count": 124,
     "metadata": {},
     "output_type": "execute_result"
    }
   ],
   "source": [
    "\"\"\" prioridad VLAN  de destino = BAJA \"\"\"\n",
    "df_normal.dVpri.unique()"
   ]
  },
  {
   "cell_type": "code",
   "execution_count": 126,
   "metadata": {},
   "outputs": [
    {
     "data": {
      "text/plain": [
       "array([nan])"
      ]
     },
     "execution_count": 126,
     "metadata": {},
     "output_type": "execute_result"
    }
   ],
   "source": [
    "\"\"\" hora de inicio para el filtro de temporizador = BAJA\"\"\"\n",
    "df_normal.SRange.unique()"
   ]
  },
  {
   "cell_type": "code",
   "execution_count": 127,
   "metadata": {},
   "outputs": [
    {
     "data": {
      "text/plain": [
       "array([nan])"
      ]
     },
     "execution_count": 127,
     "metadata": {},
     "output_type": "execute_result"
    }
   ],
   "source": [
    "\"\"\" hora de finalizacion para el filtro de temporizador = BAJA\"\"\"\n",
    "df_normal.ERange.unique()"
   ]
  },
  {
   "cell_type": "code",
   "execution_count": 128,
   "metadata": {},
   "outputs": [
    {
     "data": {
      "text/plain": [
       "array([           nan, 3.73649588e+09, 3.03609234e+09, ...,\n",
       "       2.31782539e+09, 1.48382969e+09, 8.77187359e+08])"
      ]
     },
     "execution_count": 128,
     "metadata": {},
     "output_type": "execute_result"
    }
   ],
   "source": [
    "\"\"\" número de secuencia base TCP de origen = BAJA\"\"\"\n",
    "df_normal.SrcTCPBase.unique()"
   ]
  },
  {
   "cell_type": "code",
   "execution_count": 129,
   "metadata": {},
   "outputs": [
    {
     "data": {
      "text/plain": [
       "array([           nan, 3.06614840e+07, 3.90088038e+08, ...,\n",
       "       1.33997956e+08, 2.70147490e+09, 7.11832780e+07])"
      ]
     },
     "execution_count": 129,
     "metadata": {},
     "output_type": "execute_result"
    }
   ],
   "source": [
    "\"\"\" número de secuencia base TCP de host destino = BAJA\"\"\"\n",
    "df_normal.DstTCPBase.unique()"
   ]
  },
  {
   "cell_type": "code",
   "execution_count": 130,
   "metadata": {},
   "outputs": [
    {
     "data": {
      "text/plain": [
       "array([0.      , 0.152041, 0.016229, ..., 0.025128, 0.020968, 0.014697])"
      ]
     },
     "execution_count": 130,
     "metadata": {},
     "output_type": "execute_result"
    }
   ],
   "source": [
    "\"\"\"tiempo de ida y vuelta en la conexion TCP == ALTA\"\"\"\n",
    "df_normal.TcpRtt.unique()"
   ]
  },
  {
   "cell_type": "code",
   "execution_count": 131,
   "metadata": {},
   "outputs": [
    {
     "data": {
      "text/plain": [
       "array([0.      , 0.152015, 0.01619 , ..., 0.022171, 0.020935, 0.014651])"
      ]
     },
     "execution_count": 131,
     "metadata": {},
     "output_type": "execute_result"
    }
   ],
   "source": [
    "\"\"\"tiempo de sincronizacion cuando se crea la conexion == ALTA\"\"\"\n",
    "df_normal.SynAck.unique()"
   ]
  },
  {
   "cell_type": "code",
   "execution_count": null,
   "metadata": {},
   "outputs": [],
   "source": [
    "\"\"\" tiempo entre SYN_ACK y ACK == ?\"\"\"\n",
    "df_normal.AckDat.unique()"
   ]
  },
  {
   "cell_type": "code",
   "execution_count": 133,
   "metadata": {},
   "outputs": [
    {
     "data": {
      "text/plain": [
       "array([nan, 'Mws   T', '      T', 'M', '   S  T', 'MwsS  T'], dtype=object)"
      ]
     },
     "execution_count": 133,
     "metadata": {},
     "output_type": "execute_result"
    }
   ],
   "source": [
    "\"\"\" indicadores de estado de las operaciones que se ejecutan en TCP == MEDIA\"\"\"\n",
    "df_normal.TcpOpt.unique()"
   ]
  },
  {
   "cell_type": "code",
   "execution_count": 134,
   "metadata": {},
   "outputs": [
    {
     "data": {
      "text/plain": [
       "array([nan, '192.168.20.133'], dtype=object)"
      ]
     },
     "execution_count": 134,
     "metadata": {},
     "output_type": "execute_result"
    }
   ],
   "source": [
    "\"\"\"nodo intermedio entre origen y destino\"\"\"\n",
    "df_normal.Inode.unique()"
   ]
  },
  {
   "cell_type": "code",
   "execution_count": 135,
   "metadata": {},
   "outputs": [
    {
     "data": {
      "text/plain": [
       "array([    0,   128,   468, ..., 31852, 32212, 32532], dtype=int64)"
      ]
     },
     "execution_count": 135,
     "metadata": {},
     "output_type": "execute_result"
    }
   ],
   "source": [
    "\"\"\" Desplazamiento de bytes del registro en el archivo o flujo. == ?\"\"\"\n",
    "df_normal.Offset.unique()"
   ]
  },
  {
   "cell_type": "code",
   "execution_count": 136,
   "metadata": {},
   "outputs": [
    {
     "data": {
      "text/plain": [
       "array([  0.      ,  66.773193,  54.      , ..., 239.733047, 309.350342,\n",
       "       294.144135])"
      ]
     },
     "execution_count": 136,
     "metadata": {},
     "output_type": "execute_result"
    }
   ],
   "source": [
    "\"\"\"Promedio del tamanio del paquete emitido por el host origen ==ALTA\"\"\"\n",
    "df_normal.sMeanPktSz.unique()"
   ]
  },
  {
   "cell_type": "code",
   "execution_count": 137,
   "metadata": {},
   "outputs": [
    {
     "data": {
      "text/plain": [
       "array([   0.      , 3328.307373,   60.      , ...,  257.298065,\n",
       "        336.140167,  324.684479])"
      ]
     },
     "execution_count": 137,
     "metadata": {},
     "output_type": "execute_result"
    }
   ],
   "source": [
    "\"\"\"Promedio del tamanio del paquete emitido por el host destino ==ALTA\"\"\"\n",
    "df_normal.dMeanPktSz.unique()"
   ]
  },
  {
   "cell_type": "code",
   "execution_count": 138,
   "metadata": {},
   "outputs": [
    {
     "data": {
      "text/plain": [
       "array([nan])"
      ]
     },
     "execution_count": 138,
     "metadata": {},
     "output_type": "execute_result"
    }
   ],
   "source": [
    "\"\"\" Distribucion del tamanio del paquete origen == ALTA\"\"\"\n",
    "df_normal.sPktSz.unique()"
   ]
  },
  {
   "cell_type": "code",
   "execution_count": 139,
   "metadata": {},
   "outputs": [
    {
     "data": {
      "text/plain": [
       "array([  nan, 1348.,   54., ..., 1267., 2077., 6994.])"
      ]
     },
     "execution_count": 139,
     "metadata": {},
     "output_type": "execute_result"
    }
   ],
   "source": [
    "\"\"\" tamaño máximo del paquete del origen == ALTA\"\"\"\n",
    "df_normal.sMaxPktSz.unique()"
   ]
  },
  {
   "cell_type": "code",
   "execution_count": 140,
   "metadata": {},
   "outputs": [
    {
     "data": {
      "text/plain": [
       "array([nan])"
      ]
     },
     "execution_count": 140,
     "metadata": {},
     "output_type": "execute_result"
    }
   ],
   "source": [
    "\"\"\" Distribucion del tamanio del paquete destino == ALTA\"\"\"\n",
    "df_normal.dPktSz.unique()"
   ]
  },
  {
   "cell_type": "code",
   "execution_count": 141,
   "metadata": {},
   "outputs": [
    {
     "data": {
      "text/plain": [
       "array([   nan, 45927.,    60., ...,  1857., 54703.,  3637.])"
      ]
     },
     "execution_count": 141,
     "metadata": {},
     "output_type": "execute_result"
    }
   ],
   "source": [
    "\"\"\" tamaño máximo del paquete del destino == ALTA\"\"\"\n",
    "df_normal.dMaxPktSz.unique()"
   ]
  },
  {
   "cell_type": "code",
   "execution_count": 143,
   "metadata": {},
   "outputs": [
    {
     "data": {
      "text/plain": [
       "array([  nan,   54.,   75.,   92.,  100.,   97.,   77.,   95.,   84.,\n",
       "         76.,   74.,   71.,   86.,   87.,   79.,   88.,   72.,   69.,\n",
       "         80.,   82.,   81.,   78.,   73.,   85.,   89.,   93.,   91.,\n",
       "         90.,   96.,   66.,   60.,  215.,   70.,   64.,   94.,  139.,\n",
       "        220.,  137.,   42.,  579.,  216.,   83.,   98.,  250.,  242.,\n",
       "        243.,  103.,  107.,  102.,  266.,  175.,  151.,  153.,  490.,\n",
       "        530.,  257.,  249.,  359.,  351.,  179.,  125.,  540.,  183.,\n",
       "        203.,  113.,   62.,   67.,   99.,  174.,  146.,  188.,  176.,\n",
       "         65.,  132., 1514.,  306.,  213.,  551.,  381.,  483.,  548.,\n",
       "        101., 1048.,  301.,  324.])"
      ]
     },
     "execution_count": 143,
     "metadata": {},
     "output_type": "execute_result"
    }
   ],
   "source": [
    "\"\"\" tamaño minimo del paquete del origen == ALTA\"\"\"\n",
    "df_normal.sMinPktSz.unique()"
   ]
  },
  {
   "cell_type": "code",
   "execution_count": null,
   "metadata": {},
   "outputs": [],
   "source": [
    "\"\"\" tamaño minimo del paquete del destino == ALTA\"\"\"\n",
    "df_normal.dMinPktSz.unique()"
   ]
  },
  {
   "attachments": {},
   "cell_type": "markdown",
   "metadata": {},
   "source": [
    "# 2. Limpieza\n",
    "Eliminacion de datos faltantes, innecesarios o redundantes."
   ]
  },
  {
   "cell_type": "code",
   "execution_count": 3,
   "metadata": {},
   "outputs": [],
   "source": [
    "\"\"\" eliminar de atributos innecesarios o que contienen datos faltantes en db normal\"\"\"\n",
    "df_normal.drop(columns=['SrcId','Rank','Trans','SrcMac','DstMac','SrcOui','DstOui','SrcAddr','DstAddr',\n",
    "'sDSb','dDSb','sCo','dCo','sHops','dHops','sIpId','dIpId','sMpls','dMpls','AutoId','sAS','dAS','iAS','NStrok','sNStrok',\n",
    "'dNStrok','Loss','SrcLoss','DstLoss','pLoss','pSrcLoss','pDstLoss','Retrans','SrcRetra','DstRetra','pRetran','pSrcRetr','pDstRetr',\n",
    "'SrcGap','DstGap','SIntDist','SIntActDist','SIntIdlDist','DIntDist','DIntActDist','DIntIdlDist','srcUdata','dstUdata','sVlan','dVlan','sVid',\n",
    "'dVid','sVpri','dVpri','SRange','ERange','Inode','sPktSz','dPktSz'], axis=1, inplace=True)"
   ]
  },
  {
   "cell_type": "code",
   "execution_count": 4,
   "metadata": {},
   "outputs": [],
   "source": [
    "\"\"\" eliminar de atributos innecesarios o que contienen datos faltantes en db DoS\"\"\"\n",
    "df_dos.drop(columns=['SrcId','Rank','Trans','SrcMac','DstMac','SrcOui','DstOui','SrcAddr','DstAddr',\n",
    "'sDSb','dDSb','sCo','dCo','sHops','dHops','sIpId','dIpId','sMpls','dMpls','AutoId','sAS','dAS','iAS','NStrok','sNStrok',\n",
    "'dNStrok','Loss','SrcLoss','DstLoss','pLoss','pSrcLoss','pDstLoss','Retrans','SrcRetra','DstRetra','pRetran','pSrcRetr','pDstRetr',\n",
    "'SrcGap','DstGap','SIntDist','SIntActDist','SIntIdlDist','DIntDist','DIntActDist','DIntIdlDist','srcUdata','dstUdata','sVlan','dVlan','sVid',\n",
    "'dVid','sVpri','dVpri','SRange','ERange','Inode','sPktSz','dPktSz'], axis=1, inplace=True)"
   ]
  },
  {
   "cell_type": "code",
   "execution_count": 5,
   "metadata": {},
   "outputs": [],
   "source": [
    "\"\"\" eliminar de atributos innecesarios o que contienen datos faltantes en db Probe\"\"\"\n",
    "df_probe.drop(columns=['SrcId','Rank','Trans','SrcMac','DstMac','SrcOui','DstOui','SrcAddr','DstAddr',\n",
    "'sDSb','dDSb','sCo','dCo','sHops','dHops','sIpId','dIpId','sMpls','dMpls','AutoId','sAS','dAS','iAS','NStrok','sNStrok',\n",
    "'dNStrok','Loss','SrcLoss','DstLoss','pLoss','pSrcLoss','pDstLoss','Retrans','SrcRetra','DstRetra','pRetran','pSrcRetr','pDstRetr',\n",
    "'SrcGap','DstGap','SIntDist','SIntActDist','SIntIdlDist','DIntDist','DIntActDist','DIntIdlDist','srcUdata','dstUdata','sVlan','dVlan','sVid',\n",
    "'dVid','sVpri','dVpri','SRange','ERange','Inode','sPktSz','dPktSz'], axis=1, inplace=True)"
   ]
  },
  {
   "attachments": {},
   "cell_type": "markdown",
   "metadata": {},
   "source": [
    "### Valores duplicados"
   ]
  },
  {
   "cell_type": "code",
   "execution_count": 6,
   "metadata": {},
   "outputs": [
    {
     "data": {
      "text/plain": [
       "10016"
      ]
     },
     "execution_count": 6,
     "metadata": {},
     "output_type": "execute_result"
    }
   ],
   "source": [
    "#total de datos duplicados en db normal\n",
    "df_normal.duplicated().sum()"
   ]
  },
  {
   "cell_type": "code",
   "execution_count": 7,
   "metadata": {},
   "outputs": [
    {
     "data": {
      "text/plain": [
       "0"
      ]
     },
     "execution_count": 7,
     "metadata": {},
     "output_type": "execute_result"
    }
   ],
   "source": [
    "#total de datos duplicados en db dos\n",
    "df_dos.duplicated().sum()"
   ]
  },
  {
   "cell_type": "code",
   "execution_count": 8,
   "metadata": {},
   "outputs": [
    {
     "data": {
      "text/plain": [
       "0"
      ]
     },
     "execution_count": 8,
     "metadata": {},
     "output_type": "execute_result"
    }
   ],
   "source": [
    "#total de datos duplicados en db probe\n",
    "df_probe.duplicated().sum()"
   ]
  },
  {
   "cell_type": "code",
   "execution_count": 7,
   "metadata": {},
   "outputs": [
    {
     "data": {
      "text/html": [
       "<div>\n",
       "<style scoped>\n",
       "    .dataframe tbody tr th:only-of-type {\n",
       "        vertical-align: middle;\n",
       "    }\n",
       "\n",
       "    .dataframe tbody tr th {\n",
       "        vertical-align: top;\n",
       "    }\n",
       "\n",
       "    .dataframe thead th {\n",
       "        text-align: right;\n",
       "    }\n",
       "</style>\n",
       "<table border=\"1\" class=\"dataframe\">\n",
       "  <thead>\n",
       "    <tr style=\"text-align: right;\">\n",
       "      <th></th>\n",
       "      <th>StartTime</th>\n",
       "      <th>LastTime</th>\n",
       "      <th>Flgs</th>\n",
       "      <th>Seq</th>\n",
       "      <th>Dur</th>\n",
       "      <th>RunTime</th>\n",
       "      <th>IdleTime</th>\n",
       "      <th>Mean</th>\n",
       "      <th>StdDev</th>\n",
       "      <th>Sum</th>\n",
       "      <th>...</th>\n",
       "      <th>SynAck</th>\n",
       "      <th>AckDat</th>\n",
       "      <th>TcpOpt</th>\n",
       "      <th>Offset</th>\n",
       "      <th>sMeanPktSz</th>\n",
       "      <th>dMeanPktSz</th>\n",
       "      <th>sMaxPktSz</th>\n",
       "      <th>dMaxPktSz</th>\n",
       "      <th>sMinPktSz</th>\n",
       "      <th>dMinPktSz</th>\n",
       "    </tr>\n",
       "  </thead>\n",
       "  <tbody>\n",
       "    <tr>\n",
       "      <th>11430</th>\n",
       "      <td>21:34:33.203919</td>\n",
       "      <td>21:34:33.203481</td>\n",
       "      <td></td>\n",
       "      <td>0</td>\n",
       "      <td>0.000438</td>\n",
       "      <td>NaN</td>\n",
       "      <td>NaN</td>\n",
       "      <td>NaN</td>\n",
       "      <td>NaN</td>\n",
       "      <td>NaN</td>\n",
       "      <td>...</td>\n",
       "      <td>0.0</td>\n",
       "      <td>0.0</td>\n",
       "      <td>NaN</td>\n",
       "      <td>0</td>\n",
       "      <td>0.000000</td>\n",
       "      <td>0.000000</td>\n",
       "      <td>NaN</td>\n",
       "      <td>NaN</td>\n",
       "      <td>NaN</td>\n",
       "      <td>NaN</td>\n",
       "    </tr>\n",
       "    <tr>\n",
       "      <th>11431</th>\n",
       "      <td>08:50:25.128119</td>\n",
       "      <td>08:50:35.369085</td>\n",
       "      <td>M</td>\n",
       "      <td>1</td>\n",
       "      <td>10.240966</td>\n",
       "      <td>10.240966</td>\n",
       "      <td>1.672713e+09</td>\n",
       "      <td>10.240966</td>\n",
       "      <td>0.0</td>\n",
       "      <td>10.240966</td>\n",
       "      <td>...</td>\n",
       "      <td>0.0</td>\n",
       "      <td>0.0</td>\n",
       "      <td>NaN</td>\n",
       "      <td>128</td>\n",
       "      <td>54.000000</td>\n",
       "      <td>60.000000</td>\n",
       "      <td>54.0</td>\n",
       "      <td>60.0</td>\n",
       "      <td>54.0</td>\n",
       "      <td>60.0</td>\n",
       "    </tr>\n",
       "    <tr>\n",
       "      <th>11432</th>\n",
       "      <td>08:50:25.383832</td>\n",
       "      <td>08:50:35.630002</td>\n",
       "      <td>M</td>\n",
       "      <td>2</td>\n",
       "      <td>10.246170</td>\n",
       "      <td>10.246170</td>\n",
       "      <td>1.672713e+09</td>\n",
       "      <td>10.246170</td>\n",
       "      <td>0.0</td>\n",
       "      <td>10.246170</td>\n",
       "      <td>...</td>\n",
       "      <td>0.0</td>\n",
       "      <td>0.0</td>\n",
       "      <td>NaN</td>\n",
       "      <td>428</td>\n",
       "      <td>54.000000</td>\n",
       "      <td>60.000000</td>\n",
       "      <td>54.0</td>\n",
       "      <td>60.0</td>\n",
       "      <td>54.0</td>\n",
       "      <td>60.0</td>\n",
       "    </tr>\n",
       "    <tr>\n",
       "      <th>11433</th>\n",
       "      <td>08:50:25.840365</td>\n",
       "      <td>08:50:38.240736</td>\n",
       "      <td>e</td>\n",
       "      <td>3</td>\n",
       "      <td>12.400371</td>\n",
       "      <td>12.400371</td>\n",
       "      <td>1.672713e+09</td>\n",
       "      <td>12.400371</td>\n",
       "      <td>0.0</td>\n",
       "      <td>12.400371</td>\n",
       "      <td>...</td>\n",
       "      <td>0.0</td>\n",
       "      <td>0.0</td>\n",
       "      <td>NaN</td>\n",
       "      <td>728</td>\n",
       "      <td>139.000000</td>\n",
       "      <td>0.000000</td>\n",
       "      <td>139.0</td>\n",
       "      <td>NaN</td>\n",
       "      <td>139.0</td>\n",
       "      <td>NaN</td>\n",
       "    </tr>\n",
       "    <tr>\n",
       "      <th>11434</th>\n",
       "      <td>08:50:25.840499</td>\n",
       "      <td>08:50:38.240766</td>\n",
       "      <td>e</td>\n",
       "      <td>4</td>\n",
       "      <td>12.400267</td>\n",
       "      <td>12.400267</td>\n",
       "      <td>1.672713e+09</td>\n",
       "      <td>12.400267</td>\n",
       "      <td>0.0</td>\n",
       "      <td>12.400267</td>\n",
       "      <td>...</td>\n",
       "      <td>0.0</td>\n",
       "      <td>0.0</td>\n",
       "      <td>NaN</td>\n",
       "      <td>864</td>\n",
       "      <td>139.000000</td>\n",
       "      <td>0.000000</td>\n",
       "      <td>139.0</td>\n",
       "      <td>NaN</td>\n",
       "      <td>139.0</td>\n",
       "      <td>NaN</td>\n",
       "    </tr>\n",
       "    <tr>\n",
       "      <th>...</th>\n",
       "      <td>...</td>\n",
       "      <td>...</td>\n",
       "      <td>...</td>\n",
       "      <td>...</td>\n",
       "      <td>...</td>\n",
       "      <td>...</td>\n",
       "      <td>...</td>\n",
       "      <td>...</td>\n",
       "      <td>...</td>\n",
       "      <td>...</td>\n",
       "      <td>...</td>\n",
       "      <td>...</td>\n",
       "      <td>...</td>\n",
       "      <td>...</td>\n",
       "      <td>...</td>\n",
       "      <td>...</td>\n",
       "      <td>...</td>\n",
       "      <td>...</td>\n",
       "      <td>...</td>\n",
       "      <td>...</td>\n",
       "      <td>...</td>\n",
       "    </tr>\n",
       "    <tr>\n",
       "      <th>21441</th>\n",
       "      <td>09:42:50.444184</td>\n",
       "      <td>09:43:04.753334</td>\n",
       "      <td>e</td>\n",
       "      <td>3</td>\n",
       "      <td>14.309150</td>\n",
       "      <td>14.309150</td>\n",
       "      <td>1.672713e+09</td>\n",
       "      <td>14.309150</td>\n",
       "      <td>0.0</td>\n",
       "      <td>14.309150</td>\n",
       "      <td>...</td>\n",
       "      <td>0.0</td>\n",
       "      <td>0.0</td>\n",
       "      <td>S  T</td>\n",
       "      <td>226252</td>\n",
       "      <td>1196.666626</td>\n",
       "      <td>123.526314</td>\n",
       "      <td>6178.0</td>\n",
       "      <td>243.0</td>\n",
       "      <td>66.0</td>\n",
       "      <td>66.0</td>\n",
       "    </tr>\n",
       "    <tr>\n",
       "      <th>21442</th>\n",
       "      <td>09:42:58.887197</td>\n",
       "      <td>09:43:11.241559</td>\n",
       "      <td>e</td>\n",
       "      <td>2</td>\n",
       "      <td>12.354362</td>\n",
       "      <td>12.354362</td>\n",
       "      <td>1.672713e+09</td>\n",
       "      <td>12.354362</td>\n",
       "      <td>0.0</td>\n",
       "      <td>12.354362</td>\n",
       "      <td>...</td>\n",
       "      <td>0.0</td>\n",
       "      <td>0.0</td>\n",
       "      <td>S  T</td>\n",
       "      <td>226580</td>\n",
       "      <td>935.333313</td>\n",
       "      <td>120.933334</td>\n",
       "      <td>6178.0</td>\n",
       "      <td>243.0</td>\n",
       "      <td>66.0</td>\n",
       "      <td>66.0</td>\n",
       "    </tr>\n",
       "    <tr>\n",
       "      <th>21443</th>\n",
       "      <td>09:43:02.247270</td>\n",
       "      <td>09:43:11.124772</td>\n",
       "      <td>e</td>\n",
       "      <td>1</td>\n",
       "      <td>8.877502</td>\n",
       "      <td>8.877502</td>\n",
       "      <td>1.672713e+09</td>\n",
       "      <td>8.877502</td>\n",
       "      <td>0.0</td>\n",
       "      <td>8.877502</td>\n",
       "      <td>...</td>\n",
       "      <td>0.0</td>\n",
       "      <td>0.0</td>\n",
       "      <td>S  T</td>\n",
       "      <td>226908</td>\n",
       "      <td>407.061523</td>\n",
       "      <td>251.208328</td>\n",
       "      <td>6178.0</td>\n",
       "      <td>1620.0</td>\n",
       "      <td>66.0</td>\n",
       "      <td>66.0</td>\n",
       "    </tr>\n",
       "    <tr>\n",
       "      <th>21444</th>\n",
       "      <td>09:43:05.940115</td>\n",
       "      <td>09:43:11.040640</td>\n",
       "      <td>e</td>\n",
       "      <td>3</td>\n",
       "      <td>5.100525</td>\n",
       "      <td>5.100525</td>\n",
       "      <td>1.672713e+09</td>\n",
       "      <td>5.100525</td>\n",
       "      <td>0.0</td>\n",
       "      <td>5.100525</td>\n",
       "      <td>...</td>\n",
       "      <td>0.0</td>\n",
       "      <td>0.0</td>\n",
       "      <td>S  T</td>\n",
       "      <td>227256</td>\n",
       "      <td>916.000000</td>\n",
       "      <td>123.866669</td>\n",
       "      <td>6178.0</td>\n",
       "      <td>243.0</td>\n",
       "      <td>66.0</td>\n",
       "      <td>66.0</td>\n",
       "    </tr>\n",
       "    <tr>\n",
       "      <th>21445</th>\n",
       "      <td>21:34:45.701950</td>\n",
       "      <td>21:34:44.681650</td>\n",
       "      <td></td>\n",
       "      <td>0</td>\n",
       "      <td>1.020300</td>\n",
       "      <td>NaN</td>\n",
       "      <td>NaN</td>\n",
       "      <td>NaN</td>\n",
       "      <td>NaN</td>\n",
       "      <td>NaN</td>\n",
       "      <td>...</td>\n",
       "      <td>0.0</td>\n",
       "      <td>0.0</td>\n",
       "      <td>NaN</td>\n",
       "      <td>227256</td>\n",
       "      <td>0.000000</td>\n",
       "      <td>0.000000</td>\n",
       "      <td>NaN</td>\n",
       "      <td>NaN</td>\n",
       "      <td>NaN</td>\n",
       "      <td>NaN</td>\n",
       "    </tr>\n",
       "  </tbody>\n",
       "</table>\n",
       "<p>10016 rows × 64 columns</p>\n",
       "</div>"
      ],
      "text/plain": [
       "             StartTime         LastTime        Flgs  Seq        Dur  \\\n",
       "11430  21:34:33.203919  21:34:33.203481                0   0.000438   \n",
       "11431  08:50:25.128119  08:50:35.369085   M            1  10.240966   \n",
       "11432  08:50:25.383832  08:50:35.630002   M            2  10.246170   \n",
       "11433  08:50:25.840365  08:50:38.240736   e            3  12.400371   \n",
       "11434  08:50:25.840499  08:50:38.240766   e            4  12.400267   \n",
       "...                ...              ...         ...  ...        ...   \n",
       "21441  09:42:50.444184  09:43:04.753334   e            3  14.309150   \n",
       "21442  09:42:58.887197  09:43:11.241559   e            2  12.354362   \n",
       "21443  09:43:02.247270  09:43:11.124772   e            1   8.877502   \n",
       "21444  09:43:05.940115  09:43:11.040640   e            3   5.100525   \n",
       "21445  21:34:45.701950  21:34:44.681650                0   1.020300   \n",
       "\n",
       "         RunTime      IdleTime       Mean  StdDev        Sum  ...  SynAck  \\\n",
       "11430        NaN           NaN        NaN     NaN        NaN  ...     0.0   \n",
       "11431  10.240966  1.672713e+09  10.240966     0.0  10.240966  ...     0.0   \n",
       "11432  10.246170  1.672713e+09  10.246170     0.0  10.246170  ...     0.0   \n",
       "11433  12.400371  1.672713e+09  12.400371     0.0  12.400371  ...     0.0   \n",
       "11434  12.400267  1.672713e+09  12.400267     0.0  12.400267  ...     0.0   \n",
       "...          ...           ...        ...     ...        ...  ...     ...   \n",
       "21441  14.309150  1.672713e+09  14.309150     0.0  14.309150  ...     0.0   \n",
       "21442  12.354362  1.672713e+09  12.354362     0.0  12.354362  ...     0.0   \n",
       "21443   8.877502  1.672713e+09   8.877502     0.0   8.877502  ...     0.0   \n",
       "21444   5.100525  1.672713e+09   5.100525     0.0   5.100525  ...     0.0   \n",
       "21445        NaN           NaN        NaN     NaN        NaN  ...     0.0   \n",
       "\n",
       "       AckDat   TcpOpt  Offset   sMeanPktSz  dMeanPktSz  sMaxPktSz  dMaxPktSz  \\\n",
       "11430     0.0      NaN       0     0.000000    0.000000        NaN        NaN   \n",
       "11431     0.0      NaN     128    54.000000   60.000000       54.0       60.0   \n",
       "11432     0.0      NaN     428    54.000000   60.000000       54.0       60.0   \n",
       "11433     0.0      NaN     728   139.000000    0.000000      139.0        NaN   \n",
       "11434     0.0      NaN     864   139.000000    0.000000      139.0        NaN   \n",
       "...       ...      ...     ...          ...         ...        ...        ...   \n",
       "21441     0.0     S  T  226252  1196.666626  123.526314     6178.0      243.0   \n",
       "21442     0.0     S  T  226580   935.333313  120.933334     6178.0      243.0   \n",
       "21443     0.0     S  T  226908   407.061523  251.208328     6178.0     1620.0   \n",
       "21444     0.0     S  T  227256   916.000000  123.866669     6178.0      243.0   \n",
       "21445     0.0      NaN  227256     0.000000    0.000000        NaN        NaN   \n",
       "\n",
       "       sMinPktSz dMinPktSz  \n",
       "11430        NaN       NaN  \n",
       "11431       54.0      60.0  \n",
       "11432       54.0      60.0  \n",
       "11433      139.0       NaN  \n",
       "11434      139.0       NaN  \n",
       "...          ...       ...  \n",
       "21441       66.0      66.0  \n",
       "21442       66.0      66.0  \n",
       "21443       66.0      66.0  \n",
       "21444       66.0      66.0  \n",
       "21445        NaN       NaN  \n",
       "\n",
       "[10016 rows x 64 columns]"
      ]
     },
     "execution_count": 7,
     "metadata": {},
     "output_type": "execute_result"
    }
   ],
   "source": [
    "#filas duplicadas en db normal\n",
    "df_normal[df_normal.duplicated()]"
   ]
  },
  {
   "cell_type": "code",
   "execution_count": 8,
   "metadata": {},
   "outputs": [],
   "source": [
    "\"\"\" listar caracteristicas \"\"\"\n",
    "caracteristicas = ['StartTime','LastTime','Flgs','Seq','Dur','RunTime','IdleTime',\n",
    "'Mean','StdDev','Sum','Min','Max','Proto','Sport','Dport','sTos','dTos','sTtl','dTtl',\n",
    "'Cause','TotPkts','SrcPkts','DstPkts','TotBytes','SrcBytes','DstBytes','TotAppByte',\n",
    "'SAppBytes','DAppBytes','PCRatio','Load','SrcLoad','DstLoad','Rate','SrcRate','DstRate','Dir',\n",
    "'SIntPkt','SIntPktAct','SIntPktIdl','DIntPkt','DIntPktAct','DIntPktIdl','SrcJitter','SrcJitAct',\n",
    "'DstJitter','DstJitAct','State','Label','SrcWin','DstWin','SrcTCPBase','DstTCPBase',\n",
    "'TcpRtt','SynAck','AckDat','TcpOpt','Offset','sMeanPktSz','dMeanPktSz','sMaxPktSz','dMaxPktSz',\n",
    "'sMinPktSz','dMinPktSz']"
   ]
  },
  {
   "cell_type": "code",
   "execution_count": 12,
   "metadata": {},
   "outputs": [],
   "source": [
    "\"\"\" funcion para obtener cantidad de datos duplicados por cada atributo\"\"\"\n",
    "def encontrar_duplicados(n_caracteristicas):\n",
    "    for i in n_caracteristicas:\n",
    "        \"\"\"mostrar columna y suma de valores duplicados\"\"\"\n",
    "        print(i,':' ,df_normal.duplicated(i,keep=False).sum())"
   ]
  },
  {
   "cell_type": "code",
   "execution_count": 13,
   "metadata": {},
   "outputs": [
    {
     "name": "stdout",
     "output_type": "stream",
     "text": [
      "StartTime : 20186\n",
      "LastTime : 20236\n",
      "Flgs : 101063\n",
      "Seq : 96946\n",
      "Dur : 70079\n",
      "RunTime : 70111\n",
      "IdleTime : 101066\n",
      "Mean : 70111\n",
      "StdDev : 101066\n",
      "Sum : 70111\n",
      "Min : 70111\n",
      "Max : 70111\n",
      "Proto : 101066\n",
      "Sport : 99203\n",
      "Dport : 100992\n",
      "sTos : 101001\n",
      "dTos : 101066\n",
      "sTtl : 101066\n",
      "dTtl : 101066\n",
      "Cause : 101066\n",
      "TotPkts : 100395\n",
      "SrcPkts : 100646\n",
      "DstPkts : 100589\n",
      "TotBytes : 92355\n",
      "SrcBytes : 96321\n",
      "DstBytes : 94577\n",
      "TotAppByte : 93714\n",
      "SAppBytes : 97125\n",
      "DAppBytes : 95665\n",
      "PCRatio : 90415\n",
      "Load : 72288\n",
      "SrcLoad : 73464\n",
      "DstLoad : 74685\n",
      "Rate : 69932\n",
      "SrcRate : 75961\n",
      "DstRate : 77211\n",
      "Dir : 101066\n",
      "SIntPkt : 72768\n",
      "SIntPktAct : 96673\n",
      "SIntPktIdl : 74031\n",
      "DIntPkt : 74303\n",
      "DIntPktAct : 94477\n",
      "DIntPktIdl : 74318\n",
      "SrcJitter : 75160\n",
      "SrcJitAct : 96206\n",
      "DstJitter : 75328\n",
      "DstJitAct : 95132\n",
      "State : 101066\n",
      "Label : 101066\n",
      "SrcWin : 100522\n",
      "DstWin : 101016\n",
      "SrcTCPBase : 76000\n",
      "DstTCPBase : 75733\n",
      "TcpRtt : 97749\n",
      "SynAck : 97760\n",
      "AckDat : 100970\n",
      "TcpOpt : 101066\n",
      "Offset : 28400\n",
      "sMeanPktSz : 93611\n",
      "dMeanPktSz : 92715\n",
      "sMaxPktSz : 100346\n",
      "dMaxPktSz : 99626\n",
      "sMinPktSz : 101055\n",
      "dMinPktSz : 101031\n"
     ]
    }
   ],
   "source": [
    "encontrar_duplicados(caracteristicas)"
   ]
  },
  {
   "cell_type": "code",
   "execution_count": 10,
   "metadata": {},
   "outputs": [],
   "source": [
    "df_normal = df_normal.drop_duplicates(subset=caracteristicas[2:65],keep=\"last\")"
   ]
  },
  {
   "attachments": {},
   "cell_type": "markdown",
   "metadata": {},
   "source": [
    "### Analizar nomenclaturas"
   ]
  },
  {
   "cell_type": "code",
   "execution_count": 14,
   "metadata": {},
   "outputs": [
    {
     "data": {
      "text/plain": [
       "array(['          ', ' M        ', ' e        ', ' M g      ',\n",
       "       ' M r      ', ' M dS     ', ' e g      ', ' e     A  ',\n",
       "       ' eU       ', ' M d      ', ' e s      ', ' M s      ',\n",
       "       ' e d      ', ' M  S     ', ' M i      ', ' M  D     ',\n",
       "       ' M sD     ', ' M &      ', ' e *      ', ' M *      ',\n",
       "       ' e dD     '], dtype=object)"
      ]
     },
     "execution_count": 14,
     "metadata": {},
     "output_type": "execute_result"
    }
   ],
   "source": [
    "df_normal.Flgs.unique()"
   ]
  }
 ],
 "metadata": {
  "kernelspec": {
   "display_name": "Python 3",
   "language": "python",
   "name": "python3"
  },
  "language_info": {
   "codemirror_mode": {
    "name": "ipython",
    "version": 3
   },
   "file_extension": ".py",
   "mimetype": "text/x-python",
   "name": "python",
   "nbconvert_exporter": "python",
   "pygments_lexer": "ipython3",
   "version": "3.8.10"
  },
  "orig_nbformat": 4,
  "vscode": {
   "interpreter": {
    "hash": "5c3d121086e35f129a20ca7f553230286826dfcc08161000ccf738c6df1a7518"
   }
  }
 },
 "nbformat": 4,
 "nbformat_minor": 2
}
