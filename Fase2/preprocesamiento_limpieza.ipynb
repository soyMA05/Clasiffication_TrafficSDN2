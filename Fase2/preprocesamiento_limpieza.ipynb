{
 "cells": [
  {
   "cell_type": "code",
   "execution_count": 1,
   "metadata": {},
   "outputs": [],
   "source": [
    "#librerias\n",
    "import pandas as pd\n",
    "import numpy as np\n",
    "import matplotlib.pyplot as plt\n",
    "import seaborn as sns"
   ]
  },
  {
   "cell_type": "code",
   "execution_count": 36,
   "metadata": {},
   "outputs": [],
   "source": [
    "\"\"\"importar db normal, DoS y Probe\"\"\"\n",
    "df_normal = pd.read_csv('../../datos_SDN/araData/Normal.csv', low_memory=False)\n",
    "df_dos = pd.read_csv('../../datos_SDN/araData/Dos.csv', low_memory=False)\n",
    "df_probe = pd.read_csv('../../datos_SDN/araData/Probe.csv', low_memory=False)"
   ]
  },
  {
   "attachments": {},
   "cell_type": "markdown",
   "metadata": {},
   "source": [
    "# 1. Limpieza de datos"
   ]
  },
  {
   "attachments": {},
   "cell_type": "markdown",
   "metadata": {},
   "source": [
    "## 1.1 Eliminar datos innecesarios"
   ]
  },
  {
   "attachments": {},
   "cell_type": "markdown",
   "metadata": {},
   "source": [
    "### Columnas"
   ]
  },
  {
   "cell_type": "code",
   "execution_count": 3,
   "metadata": {},
   "outputs": [],
   "source": [
    "\"\"\"definir caractericticas innecesarias\"\"\"\n",
    "caracteristicas_in=['SrcId','Rank','Trans','sDSb','dDSb','sIpId','dIpId','SrcGap','DstGap','dsPkts','ddPkts','dsBytes',\n",
    "'ddBytes','pdsPkt','pddPkt','pdsByte','pddByte','(null)','SrcWin','DstWin','JDelay','LDelay','Bins','Bin', 'SrcTCPBase','DstTCPBase'\n",
    ",'Inode','sPktSz','dPktSz']"
   ]
  },
  {
   "cell_type": "code",
   "execution_count": 4,
   "metadata": {},
   "outputs": [],
   "source": [
    "\"\"\" eliminar de atributos \"\"\"\n",
    "df_normal.drop(columns=caracteristicas_in, axis=1, inplace=True)\n",
    "df_dos.drop(columns=caracteristicas_in, axis=1, inplace=True)\n",
    "df_probe.drop(columns=caracteristicas_in, axis=1, inplace=True)"
   ]
  },
  {
   "cell_type": "code",
   "execution_count": 5,
   "metadata": {},
   "outputs": [
    {
     "name": "stdout",
     "output_type": "stream",
     "text": [
      "(111719, 93) \n",
      " (35030, 93) \n",
      " (49452, 93)\n"
     ]
    }
   ],
   "source": [
    "print(df_normal.shape,'\\n',df_dos.shape,'\\n',df_probe.shape)"
   ]
  },
  {
   "cell_type": "code",
   "execution_count": 6,
   "metadata": {},
   "outputs": [],
   "source": [
    "\"\"\"guardar estados de datos\"\"\"\n",
    "df_normal.to_csv('../../araData/normal.csv',index=False)\n",
    "df_dos.to_csv('../../araData/dos.csv',index=False)\n",
    "df_probe.to_csv('../../araData/probe.csv',index=False)"
   ]
  },
  {
   "attachments": {},
   "cell_type": "markdown",
   "metadata": {},
   "source": [
    "#### Registros innecesarios\n",
    "### Normal"
   ]
  },
  {
   "cell_type": "code",
   "execution_count": 7,
   "metadata": {},
   "outputs": [
    {
     "data": {
      "text/plain": [
       "array(['man', 'tcp', 'udp', 'ipv6-icmp', 'igmp', 'lldp', 'unknown', 'arp',\n",
       "       'icmp', 'rtcp'], dtype=object)"
      ]
     },
     "execution_count": 7,
     "metadata": {},
     "output_type": "execute_result"
    }
   ],
   "source": [
    "\"\"\"verificiar protocolos para trafico normal\"\"\"\n",
    "df_normal.Proto.unique()"
   ]
  },
  {
   "cell_type": "code",
   "execution_count": 15,
   "metadata": {},
   "outputs": [
    {
     "data": {
      "text/html": [
       "<div>\n",
       "<style scoped>\n",
       "    .dataframe tbody tr th:only-of-type {\n",
       "        vertical-align: middle;\n",
       "    }\n",
       "\n",
       "    .dataframe tbody tr th {\n",
       "        vertical-align: top;\n",
       "    }\n",
       "\n",
       "    .dataframe thead th {\n",
       "        text-align: right;\n",
       "    }\n",
       "</style>\n",
       "<table border=\"1\" class=\"dataframe\">\n",
       "  <thead>\n",
       "    <tr style=\"text-align: right;\">\n",
       "      <th></th>\n",
       "      <th>StartTime</th>\n",
       "      <th>LastTime</th>\n",
       "      <th>SrcStartTime</th>\n",
       "      <th>DstStartTime</th>\n",
       "      <th>SrcLastTime</th>\n",
       "      <th>DstLastTime</th>\n",
       "      <th>Seq</th>\n",
       "      <th>Flgs</th>\n",
       "      <th>RunTime</th>\n",
       "      <th>Dur</th>\n",
       "      <th>...</th>\n",
       "      <th>AckDat</th>\n",
       "      <th>TcpOpt</th>\n",
       "      <th>Offset</th>\n",
       "      <th>sMeanPktSz</th>\n",
       "      <th>dMeanPktSz</th>\n",
       "      <th>sMaxPktSz</th>\n",
       "      <th>dMaxPktSz</th>\n",
       "      <th>sMinPktSz</th>\n",
       "      <th>dMinPktSz</th>\n",
       "      <th>Label</th>\n",
       "    </tr>\n",
       "  </thead>\n",
       "  <tbody>\n",
       "    <tr>\n",
       "      <th>0</th>\n",
       "      <td>19:55:39.616135</td>\n",
       "      <td>19:55:39.614701</td>\n",
       "      <td>19:55:39.614701</td>\n",
       "      <td>19:55:39.614701</td>\n",
       "      <td>19:55:39.616135</td>\n",
       "      <td>19:55:39.616135</td>\n",
       "      <td>0</td>\n",
       "      <td></td>\n",
       "      <td>NaN</td>\n",
       "      <td>0.001434</td>\n",
       "      <td>...</td>\n",
       "      <td>0.0</td>\n",
       "      <td>NaN</td>\n",
       "      <td>0</td>\n",
       "      <td>0.0</td>\n",
       "      <td>0.0</td>\n",
       "      <td>NaN</td>\n",
       "      <td>NaN</td>\n",
       "      <td>NaN</td>\n",
       "      <td>NaN</td>\n",
       "      <td>Normal</td>\n",
       "    </tr>\n",
       "    <tr>\n",
       "      <th>1244</th>\n",
       "      <td>19:55:40.620953</td>\n",
       "      <td>19:55:39.614701</td>\n",
       "      <td>19:55:39.614701</td>\n",
       "      <td>19:55:39.614701</td>\n",
       "      <td>19:55:40.620953</td>\n",
       "      <td>19:55:40.620953</td>\n",
       "      <td>0</td>\n",
       "      <td></td>\n",
       "      <td>NaN</td>\n",
       "      <td>1.006252</td>\n",
       "      <td>...</td>\n",
       "      <td>0.0</td>\n",
       "      <td>NaN</td>\n",
       "      <td>247452</td>\n",
       "      <td>0.0</td>\n",
       "      <td>0.0</td>\n",
       "      <td>NaN</td>\n",
       "      <td>NaN</td>\n",
       "      <td>NaN</td>\n",
       "      <td>NaN</td>\n",
       "      <td>Normal</td>\n",
       "    </tr>\n",
       "    <tr>\n",
       "      <th>1245</th>\n",
       "      <td>19:55:45.648495</td>\n",
       "      <td>19:55:45.646908</td>\n",
       "      <td>19:55:45.646908</td>\n",
       "      <td>19:55:45.646908</td>\n",
       "      <td>19:55:45.648495</td>\n",
       "      <td>19:55:45.648495</td>\n",
       "      <td>0</td>\n",
       "      <td></td>\n",
       "      <td>NaN</td>\n",
       "      <td>0.001587</td>\n",
       "      <td>...</td>\n",
       "      <td>0.0</td>\n",
       "      <td>NaN</td>\n",
       "      <td>0</td>\n",
       "      <td>0.0</td>\n",
       "      <td>0.0</td>\n",
       "      <td>NaN</td>\n",
       "      <td>NaN</td>\n",
       "      <td>NaN</td>\n",
       "      <td>NaN</td>\n",
       "      <td>Normal</td>\n",
       "    </tr>\n",
       "    <tr>\n",
       "      <th>1309</th>\n",
       "      <td>09:31:10.141621</td>\n",
       "      <td>09:31:10.141621</td>\n",
       "      <td>09:31:10.141621</td>\n",
       "      <td>19:00:00.000000</td>\n",
       "      <td>09:31:10.141621</td>\n",
       "      <td>19:00:00.000000</td>\n",
       "      <td>16</td>\n",
       "      <td>e</td>\n",
       "      <td>0.000000</td>\n",
       "      <td>0.000000</td>\n",
       "      <td>...</td>\n",
       "      <td>0.0</td>\n",
       "      <td>NaN</td>\n",
       "      <td>19416</td>\n",
       "      <td>70.0</td>\n",
       "      <td>0.0</td>\n",
       "      <td>70.0</td>\n",
       "      <td>NaN</td>\n",
       "      <td>70.0</td>\n",
       "      <td>NaN</td>\n",
       "      <td>Normal</td>\n",
       "    </tr>\n",
       "    <tr>\n",
       "      <th>1335</th>\n",
       "      <td>09:33:51.531326</td>\n",
       "      <td>09:33:51.631684</td>\n",
       "      <td>09:33:51.531326</td>\n",
       "      <td>19:00:00.000000</td>\n",
       "      <td>09:33:51.631684</td>\n",
       "      <td>19:00:00.000000</td>\n",
       "      <td>18</td>\n",
       "      <td>e     A</td>\n",
       "      <td>0.100358</td>\n",
       "      <td>0.100358</td>\n",
       "      <td>...</td>\n",
       "      <td>0.0</td>\n",
       "      <td>NaN</td>\n",
       "      <td>28028</td>\n",
       "      <td>90.0</td>\n",
       "      <td>0.0</td>\n",
       "      <td>90.0</td>\n",
       "      <td>NaN</td>\n",
       "      <td>90.0</td>\n",
       "      <td>NaN</td>\n",
       "      <td>Normal</td>\n",
       "    </tr>\n",
       "    <tr>\n",
       "      <th>...</th>\n",
       "      <td>...</td>\n",
       "      <td>...</td>\n",
       "      <td>...</td>\n",
       "      <td>...</td>\n",
       "      <td>...</td>\n",
       "      <td>...</td>\n",
       "      <td>...</td>\n",
       "      <td>...</td>\n",
       "      <td>...</td>\n",
       "      <td>...</td>\n",
       "      <td>...</td>\n",
       "      <td>...</td>\n",
       "      <td>...</td>\n",
       "      <td>...</td>\n",
       "      <td>...</td>\n",
       "      <td>...</td>\n",
       "      <td>...</td>\n",
       "      <td>...</td>\n",
       "      <td>...</td>\n",
       "      <td>...</td>\n",
       "      <td>...</td>\n",
       "    </tr>\n",
       "    <tr>\n",
       "      <th>111646</th>\n",
       "      <td>14:20:09.429624</td>\n",
       "      <td>14:20:09.429624</td>\n",
       "      <td>14:20:09.429624</td>\n",
       "      <td>19:00:00.000000</td>\n",
       "      <td>14:20:09.429624</td>\n",
       "      <td>19:00:00.000000</td>\n",
       "      <td>9</td>\n",
       "      <td>e     A</td>\n",
       "      <td>0.000000</td>\n",
       "      <td>0.000000</td>\n",
       "      <td>...</td>\n",
       "      <td>0.0</td>\n",
       "      <td>NaN</td>\n",
       "      <td>8304</td>\n",
       "      <td>60.0</td>\n",
       "      <td>0.0</td>\n",
       "      <td>60.0</td>\n",
       "      <td>NaN</td>\n",
       "      <td>60.0</td>\n",
       "      <td>NaN</td>\n",
       "      <td>Normal</td>\n",
       "    </tr>\n",
       "    <tr>\n",
       "      <th>111647</th>\n",
       "      <td>14:20:09.430667</td>\n",
       "      <td>14:20:09.430667</td>\n",
       "      <td>14:20:09.430667</td>\n",
       "      <td>19:00:00.000000</td>\n",
       "      <td>14:20:09.430667</td>\n",
       "      <td>19:00:00.000000</td>\n",
       "      <td>10</td>\n",
       "      <td>e     A</td>\n",
       "      <td>0.000000</td>\n",
       "      <td>0.000000</td>\n",
       "      <td>...</td>\n",
       "      <td>0.0</td>\n",
       "      <td>NaN</td>\n",
       "      <td>8420</td>\n",
       "      <td>60.0</td>\n",
       "      <td>0.0</td>\n",
       "      <td>60.0</td>\n",
       "      <td>NaN</td>\n",
       "      <td>60.0</td>\n",
       "      <td>NaN</td>\n",
       "      <td>Normal</td>\n",
       "    </tr>\n",
       "    <tr>\n",
       "      <th>111648</th>\n",
       "      <td>14:20:09.431118</td>\n",
       "      <td>14:20:09.431118</td>\n",
       "      <td>14:20:09.431118</td>\n",
       "      <td>19:00:00.000000</td>\n",
       "      <td>14:20:09.431118</td>\n",
       "      <td>19:00:00.000000</td>\n",
       "      <td>11</td>\n",
       "      <td>e     A</td>\n",
       "      <td>0.000000</td>\n",
       "      <td>0.000000</td>\n",
       "      <td>...</td>\n",
       "      <td>0.0</td>\n",
       "      <td>NaN</td>\n",
       "      <td>8536</td>\n",
       "      <td>60.0</td>\n",
       "      <td>0.0</td>\n",
       "      <td>60.0</td>\n",
       "      <td>NaN</td>\n",
       "      <td>60.0</td>\n",
       "      <td>NaN</td>\n",
       "      <td>Normal</td>\n",
       "    </tr>\n",
       "    <tr>\n",
       "      <th>111652</th>\n",
       "      <td>14:20:09.648516</td>\n",
       "      <td>14:20:09.648516</td>\n",
       "      <td>14:20:09.648516</td>\n",
       "      <td>19:00:00.000000</td>\n",
       "      <td>14:20:09.648516</td>\n",
       "      <td>19:00:00.000000</td>\n",
       "      <td>15</td>\n",
       "      <td>e     A</td>\n",
       "      <td>0.000000</td>\n",
       "      <td>0.000000</td>\n",
       "      <td>...</td>\n",
       "      <td>0.0</td>\n",
       "      <td>NaN</td>\n",
       "      <td>9108</td>\n",
       "      <td>60.0</td>\n",
       "      <td>0.0</td>\n",
       "      <td>60.0</td>\n",
       "      <td>NaN</td>\n",
       "      <td>60.0</td>\n",
       "      <td>NaN</td>\n",
       "      <td>Normal</td>\n",
       "    </tr>\n",
       "    <tr>\n",
       "      <th>111718</th>\n",
       "      <td>20:30:27.483326</td>\n",
       "      <td>20:30:26.479233</td>\n",
       "      <td>20:30:26.479233</td>\n",
       "      <td>20:30:26.479233</td>\n",
       "      <td>20:30:27.483326</td>\n",
       "      <td>20:30:27.483326</td>\n",
       "      <td>0</td>\n",
       "      <td></td>\n",
       "      <td>NaN</td>\n",
       "      <td>1.004093</td>\n",
       "      <td>...</td>\n",
       "      <td>0.0</td>\n",
       "      <td>NaN</td>\n",
       "      <td>25540</td>\n",
       "      <td>0.0</td>\n",
       "      <td>0.0</td>\n",
       "      <td>NaN</td>\n",
       "      <td>NaN</td>\n",
       "      <td>NaN</td>\n",
       "      <td>NaN</td>\n",
       "      <td>Normal</td>\n",
       "    </tr>\n",
       "  </tbody>\n",
       "</table>\n",
       "<p>11021 rows × 93 columns</p>\n",
       "</div>"
      ],
      "text/plain": [
       "              StartTime         LastTime     SrcStartTime     DstStartTime  \\\n",
       "0       19:55:39.616135  19:55:39.614701  19:55:39.614701  19:55:39.614701   \n",
       "1244    19:55:40.620953  19:55:39.614701  19:55:39.614701  19:55:39.614701   \n",
       "1245    19:55:45.648495  19:55:45.646908  19:55:45.646908  19:55:45.646908   \n",
       "1309    09:31:10.141621  09:31:10.141621  09:31:10.141621  19:00:00.000000   \n",
       "1335    09:33:51.531326  09:33:51.631684  09:33:51.531326  19:00:00.000000   \n",
       "...                 ...              ...              ...              ...   \n",
       "111646  14:20:09.429624  14:20:09.429624  14:20:09.429624  19:00:00.000000   \n",
       "111647  14:20:09.430667  14:20:09.430667  14:20:09.430667  19:00:00.000000   \n",
       "111648  14:20:09.431118  14:20:09.431118  14:20:09.431118  19:00:00.000000   \n",
       "111652  14:20:09.648516  14:20:09.648516  14:20:09.648516  19:00:00.000000   \n",
       "111718  20:30:27.483326  20:30:26.479233  20:30:26.479233  20:30:26.479233   \n",
       "\n",
       "            SrcLastTime      DstLastTime  Seq        Flgs   RunTime       Dur  \\\n",
       "0       19:55:39.616135  19:55:39.616135    0                   NaN  0.001434   \n",
       "1244    19:55:40.620953  19:55:40.620953    0                   NaN  1.006252   \n",
       "1245    19:55:45.648495  19:55:45.648495    0                   NaN  0.001587   \n",
       "1309    09:31:10.141621  19:00:00.000000   16   e          0.000000  0.000000   \n",
       "1335    09:33:51.631684  19:00:00.000000   18   e     A    0.100358  0.100358   \n",
       "...                 ...              ...  ...         ...       ...       ...   \n",
       "111646  14:20:09.429624  19:00:00.000000    9   e     A    0.000000  0.000000   \n",
       "111647  14:20:09.430667  19:00:00.000000   10   e     A    0.000000  0.000000   \n",
       "111648  14:20:09.431118  19:00:00.000000   11   e     A    0.000000  0.000000   \n",
       "111652  14:20:09.648516  19:00:00.000000   15   e     A    0.000000  0.000000   \n",
       "111718  20:30:27.483326  20:30:27.483326    0                   NaN  1.004093   \n",
       "\n",
       "        ...  AckDat  TcpOpt  Offset  sMeanPktSz  dMeanPktSz  sMaxPktSz  \\\n",
       "0       ...     0.0     NaN       0         0.0         0.0        NaN   \n",
       "1244    ...     0.0     NaN  247452         0.0         0.0        NaN   \n",
       "1245    ...     0.0     NaN       0         0.0         0.0        NaN   \n",
       "1309    ...     0.0     NaN   19416        70.0         0.0       70.0   \n",
       "1335    ...     0.0     NaN   28028        90.0         0.0       90.0   \n",
       "...     ...     ...     ...     ...         ...         ...        ...   \n",
       "111646  ...     0.0     NaN    8304        60.0         0.0       60.0   \n",
       "111647  ...     0.0     NaN    8420        60.0         0.0       60.0   \n",
       "111648  ...     0.0     NaN    8536        60.0         0.0       60.0   \n",
       "111652  ...     0.0     NaN    9108        60.0         0.0       60.0   \n",
       "111718  ...     0.0     NaN   25540         0.0         0.0        NaN   \n",
       "\n",
       "        dMaxPktSz sMinPktSz dMinPktSz   Label  \n",
       "0             NaN       NaN       NaN  Normal  \n",
       "1244          NaN       NaN       NaN  Normal  \n",
       "1245          NaN       NaN       NaN  Normal  \n",
       "1309          NaN      70.0       NaN  Normal  \n",
       "1335          NaN      90.0       NaN  Normal  \n",
       "...           ...       ...       ...     ...  \n",
       "111646        NaN      60.0       NaN  Normal  \n",
       "111647        NaN      60.0       NaN  Normal  \n",
       "111648        NaN      60.0       NaN  Normal  \n",
       "111652        NaN      60.0       NaN  Normal  \n",
       "111718        NaN       NaN       NaN  Normal  \n",
       "\n",
       "[11021 rows x 93 columns]"
      ]
     },
     "execution_count": 15,
     "metadata": {},
     "output_type": "execute_result"
    }
   ],
   "source": [
    "\"\"\"mostrar protocolos no L4\"\"\"\n",
    "df_normal[(df_normal.Proto=='man') | (df_normal.Proto=='ipv6-icmp') | (df_normal.Proto=='igmp') \n",
    "| (df_normal.Proto=='lldp') | (df_normal.Proto=='unknown') | (df_normal.Proto=='arp') | (df_normal.Proto=='icmp') \n",
    "| (df_normal.Proto=='rtcp') ]"
   ]
  },
  {
   "cell_type": "code",
   "execution_count": 16,
   "metadata": {},
   "outputs": [],
   "source": [
    "\"\"\"funcion para eliminar datos innecesarios\"\"\"\n",
    "def eliminar_filasvaloresDesconocidos(_dfprincipal:pd.DataFrame, _dfilasConsulta:pd.DataFrame):\n",
    "    filas_eliminar=[]\n",
    "    for index, fila in _dfilasConsulta.iterrows():\n",
    "        filas_eliminar.append(index)\n",
    "        \"\"\"eliminar registros de filas almacenados \"\"\"\n",
    "    _dfprincipal.drop(filas_eliminar, axis=0, inplace=True)"
   ]
  },
  {
   "cell_type": "code",
   "execution_count": 18,
   "metadata": {},
   "outputs": [],
   "source": [
    "\"\"\"eliminacion de protocolos en db normal\"\"\"\n",
    "eliminar_filasvaloresDesconocidos(df_normal, df_normal[(df_normal.Proto=='man') | (df_normal.Proto=='ipv6-icmp') | (df_normal.Proto=='igmp') \n",
    "| (df_normal.Proto=='lldp') | (df_normal.Proto=='unknown') | (df_normal.Proto=='arp') | (df_normal.Proto=='icmp') \n",
    "| (df_normal.Proto=='rtcp') ] )\n"
   ]
  },
  {
   "cell_type": "code",
   "execution_count": 26,
   "metadata": {},
   "outputs": [
    {
     "data": {
      "text/plain": [
       "udp    58727\n",
       "tcp    41971\n",
       "Name: Proto, dtype: int64"
      ]
     },
     "execution_count": 26,
     "metadata": {},
     "output_type": "execute_result"
    }
   ],
   "source": [
    "\"\"\"verificar protocolos de capa 4\"\"\"\n",
    "df_normal.Proto.value_counts()"
   ]
  },
  {
   "attachments": {},
   "cell_type": "markdown",
   "metadata": {},
   "source": [
    "### Probe"
   ]
  },
  {
   "cell_type": "code",
   "execution_count": 21,
   "metadata": {},
   "outputs": [
    {
     "data": {
      "text/plain": [
       "array(['man', 'tcp', 'arp', 'udp', 'icmp', 'lldp', 'ipv6-icmp', 'gmtp',\n",
       "       'cpnx', 'ipcomp', 'unas', 'ipcv', 'sat-mon', 'pup', 'bbn-rcc',\n",
       "       'sep', 'a/n', 'ddp', 'ipip', 'rsvp', 'uti', 'ptp', 'ipv6', 'st2',\n",
       "       'idpr-cmtp', 'mobile', 'isis', 'sm', 'vrrp', 'xns-idp', 'scps',\n",
       "       'tp++', 'l2tp', 'cbt', 'crudp', 'eigrp', 'snp', 'sps', 'prm',\n",
       "       'iso-tp4', 'idrp', 'srp', 'chaos', 'ddx', 'igp', 'ipx-n-ip',\n",
       "       'ipv6-opts', 'gre', 'argus', 'fire', 'xnet', 'wb-expak', 'any',\n",
       "       'leaf-2', 'pvp', 'sun-nd', 'tlsp', 'aes-sp3-d', 'aris', 'iatp',\n",
       "       'dgp', 'sprite-rpc', 'visa', 'emcon', 'sccopmce', 'wb-mon', 'xtp',\n",
       "       'ttp', 'bna', 'ib', 'netblt', 'nvp', 'br-sat-mon', 'mtp', 'crtp',\n",
       "       'hmp', 'ipv6-frag', 'compaq-peer', 'swipe', 'kryptolan', 'rdp',\n",
       "       'larp', 'fc', 'smp', 'skip', 'ip', 'rvd', 'mhrp', 'irtp', 'idpr',\n",
       "       'trunk-2', 'ah', 'cftp', 'encap', 'iso-ip', 'i-nlsp', '3pc', 'stp',\n",
       "       'igmp', 'ipv6-no', 'narp', 'sdrp', 'sat-expak', 'qnx', 'ggp',\n",
       "       'egp', 'il', 'mfe-nsp', 'merit-inp', 'micp', 'ipv6-route',\n",
       "       'pri-enc', 'iplt', 'nsfnet-igp', 'tcf', 'ippc', 'pgm', 'pipe',\n",
       "       'etherip', 'vines', 'mux', 'trunk-1', 'ifmp', 'pnni',\n",
       "       'secure-vmtp', 'cphb', 'dcn', 'leaf-1', 'ax.25', 'ospf', 'vmtp',\n",
       "       'wsn', 'ipnip', 'zero', 'sctp'], dtype=object)"
      ]
     },
     "execution_count": 21,
     "metadata": {},
     "output_type": "execute_result"
    }
   ],
   "source": [
    "\"\"\"verificiar protocolos\"\"\"\n",
    "df_probe.Proto.unique()"
   ]
  },
  {
   "cell_type": "code",
   "execution_count": 28,
   "metadata": {},
   "outputs": [],
   "source": [
    "\"\"\"se elimina todos los protocolos anteriores desconocidos\"\"\"\n",
    "df_probe = df_probe[(df_probe.Proto=='tcp')| (df_probe.Proto=='udp')| (df_probe.Proto=='icmp')| (df_probe.Proto=='unas')]"
   ]
  },
  {
   "cell_type": "code",
   "execution_count": 30,
   "metadata": {},
   "outputs": [
    {
     "data": {
      "text/plain": [
       "tcp     36828\n",
       "udp      5889\n",
       "icmp     5243\n",
       "unas      480\n",
       "Name: Proto, dtype: int64"
      ]
     },
     "execution_count": 30,
     "metadata": {},
     "output_type": "execute_result"
    }
   ],
   "source": [
    "df_probe.Proto.value_counts()"
   ]
  },
  {
   "attachments": {},
   "cell_type": "markdown",
   "metadata": {},
   "source": [
    "### DoS"
   ]
  },
  {
   "cell_type": "code",
   "execution_count": 31,
   "metadata": {},
   "outputs": [
    {
     "data": {
      "text/plain": [
       "array(['man', 'tcp', 'udp', 'ipv6-icmp', 'igmp', 'icmp', 'lldp'],\n",
       "      dtype=object)"
      ]
     },
     "execution_count": 31,
     "metadata": {},
     "output_type": "execute_result"
    }
   ],
   "source": [
    "\"\"\"verificiar protocolos\"\"\"\n",
    "df_dos.Proto.unique()"
   ]
  },
  {
   "cell_type": "code",
   "execution_count": 33,
   "metadata": {},
   "outputs": [],
   "source": [
    "\"\"\"eliminar protocolos\"\"\"\n",
    "df_dos = df_dos[(df_dos.Proto=='tcp')| (df_dos.Proto=='udp')| (df_dos.Proto=='icmp')]"
   ]
  },
  {
   "cell_type": "code",
   "execution_count": 34,
   "metadata": {},
   "outputs": [
    {
     "data": {
      "text/plain": [
       "tcp     34873\n",
       "udp       111\n",
       "icmp        2\n",
       "Name: Proto, dtype: int64"
      ]
     },
     "execution_count": 34,
     "metadata": {},
     "output_type": "execute_result"
    }
   ],
   "source": [
    "df_dos.Proto.value_counts()"
   ]
  },
  {
   "cell_type": "code",
   "execution_count": 35,
   "metadata": {},
   "outputs": [
    {
     "name": "stdout",
     "output_type": "stream",
     "text": [
      "(100698, 93) \n",
      " (34986, 93) \n",
      " (48440, 93)\n"
     ]
    }
   ],
   "source": [
    "print(df_normal.shape,'\\n',df_dos.shape,'\\n',df_probe.shape)"
   ]
  },
  {
   "attachments": {},
   "cell_type": "markdown",
   "metadata": {},
   "source": [
    "## 1.2 Eliminar valores duplicados"
   ]
  },
  {
   "cell_type": "code",
   "execution_count": 39,
   "metadata": {},
   "outputs": [
    {
     "name": "stdout",
     "output_type": "stream",
     "text": [
      "0 0 0\n"
     ]
    }
   ],
   "source": [
    "print(df_normal.duplicated().sum(),df_probe.duplicated().sum(),df_dos.duplicated().sum())"
   ]
  },
  {
   "attachments": {},
   "cell_type": "markdown",
   "metadata": {},
   "source": [
    "## 1.3 Revisar variables Redundantes"
   ]
  }
 ],
 "metadata": {
  "kernelspec": {
   "display_name": "Python 3",
   "language": "python",
   "name": "python3"
  },
  "language_info": {
   "codemirror_mode": {
    "name": "ipython",
    "version": 3
   },
   "file_extension": ".py",
   "mimetype": "text/x-python",
   "name": "python",
   "nbconvert_exporter": "python",
   "pygments_lexer": "ipython3",
   "version": "3.8.10"
  },
  "orig_nbformat": 4,
  "vscode": {
   "interpreter": {
    "hash": "5c3d121086e35f129a20ca7f553230286826dfcc08161000ccf738c6df1a7518"
   }
  }
 },
 "nbformat": 4,
 "nbformat_minor": 2
}
