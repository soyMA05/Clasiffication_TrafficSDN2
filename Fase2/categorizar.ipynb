{
 "cells": [
  {
   "cell_type": "markdown",
   "metadata": {},
   "source": [
    "# Librerias"
   ]
  },
  {
   "cell_type": "code",
   "execution_count": 3,
   "metadata": {},
   "outputs": [],
   "source": [
    "import pandas as pd\n",
    "import numpy as np\n",
    "\"\"\"graficas\"\"\"\n",
    "import matplotlib.pyplot as plt\n",
    "import seaborn as sns\n",
    "\"\"\"\"codificar datos categoricos\"\"\"\n",
    "from sklearn.preprocessing import LabelEncoder, OneHotEncoder\n",
    "from sklearn.compose import ColumnTransformer"
   ]
  },
  {
   "cell_type": "code",
   "execution_count": 20,
   "metadata": {},
   "outputs": [],
   "source": [
    "\"\"\"funcion para eliminar datos innecesarios\"\"\"\n",
    "def eliminar_filasvaloresDesconocidos(_daframe:pd.DataFrame, _dfilasConsulta:pd.DataFrame):\n",
    "    filas_eliminar=[]\n",
    "    for index, fila in _dfilasConsulta.iterrows():\n",
    "        filas_eliminar.append(index)\n",
    "        \"\"\"eliminar registros de filas almacenados \"\"\"\n",
    "    _daframe.drop(filas_eliminar, axis=0, inplace=True)"
   ]
  },
  {
   "attachments": {},
   "cell_type": "markdown",
   "metadata": {},
   "source": [
    "# Importacion de datos"
   ]
  },
  {
   "cell_type": "code",
   "execution_count": 84,
   "metadata": {},
   "outputs": [
    {
     "name": "stdout",
     "output_type": "stream",
     "text": [
      "(94285, 52) (34285, 52) (41062, 52) (41300, 49)\n"
     ]
    }
   ],
   "source": [
    "\"\"\"importando flujos limpios\"\"\"\n",
    "df_normal = pd.read_csv('../../araData/Z/normal_1.7sincategorizar.csv', low_memory=False)\n",
    "df_dos = pd.read_csv('../../araData/Z/dos_1.7sincategorizar.csv', low_memory=False)\n",
    "df_probe = pd.read_csv('../../araData/Z/probe_1.7sincategorizar.csv', low_memory=False)\n",
    "df_ddos = pd.read_csv('../../RING/DB_41_34/ddos_b.csv', low_memory=False)\n",
    "print(df_normal.shape,df_dos.shape,df_probe.shape, df_ddos.shape)"
   ]
  },
  {
   "cell_type": "code",
   "execution_count": 85,
   "metadata": {},
   "outputs": [],
   "source": [
    "df_traffic = pd.concat([df_normal,df_dos, df_probe], axis=0, ignore_index=True)"
   ]
  },
  {
   "cell_type": "code",
   "execution_count": 56,
   "metadata": {},
   "outputs": [
    {
     "name": "stdout",
     "output_type": "stream",
     "text": [
      "<class 'pandas.core.frame.DataFrame'>\n",
      "RangeIndex: 169632 entries, 0 to 169631\n",
      "Data columns (total 52 columns):\n",
      " #   Column      Non-Null Count   Dtype  \n",
      "---  ------      --------------   -----  \n",
      " 0   RunTime     169632 non-null  float64\n",
      " 1   Dur         169632 non-null  float64\n",
      " 2   SrcDur      169632 non-null  float64\n",
      " 3   DstDur      169632 non-null  float64\n",
      " 4   Mean        169632 non-null  float64\n",
      " 5   StdDev      169632 non-null  float64\n",
      " 6   Sum         169632 non-null  float64\n",
      " 7   Min         169632 non-null  float64\n",
      " 8   Max         169632 non-null  float64\n",
      " 9   Dir         169632 non-null  object \n",
      " 10  Proto       169632 non-null  object \n",
      " 11  Dport       169632 non-null  object \n",
      " 12  Cause       169632 non-null  object \n",
      " 13  TotPkts     169632 non-null  int64  \n",
      " 14  SrcPkts     169632 non-null  int64  \n",
      " 15  DstPkts     169632 non-null  int64  \n",
      " 16  TotBytes    169632 non-null  int64  \n",
      " 17  SrcBytes    169632 non-null  int64  \n",
      " 18  DstBytes    169632 non-null  int64  \n",
      " 19  TotAppByte  169632 non-null  int64  \n",
      " 20  SAppBytes   169632 non-null  int64  \n",
      " 21  DAppBytes   169632 non-null  int64  \n",
      " 22  Load        169632 non-null  float64\n",
      " 23  SrcLoad     169632 non-null  float64\n",
      " 24  DstLoad     169632 non-null  float64\n",
      " 25  Loss        169632 non-null  int64  \n",
      " 26  SrcLoss     169632 non-null  int64  \n",
      " 27  DstLoss     169632 non-null  int64  \n",
      " 28  pLoss       169632 non-null  float64\n",
      " 29  pSrcLoss    169632 non-null  float64\n",
      " 30  pDstLoss    169632 non-null  float64\n",
      " 31  Retrans     169632 non-null  int64  \n",
      " 32  SrcRetra    169632 non-null  int64  \n",
      " 33  DstRetra    169632 non-null  int64  \n",
      " 34  pRetran     169632 non-null  float64\n",
      " 35  pSrcRetr    169632 non-null  float64\n",
      " 36  pDstRetr    169632 non-null  float64\n",
      " 37  Rate        169632 non-null  float64\n",
      " 38  SrcRate     169632 non-null  float64\n",
      " 39  DstRate     169632 non-null  float64\n",
      " 40  State       169632 non-null  object \n",
      " 41  TcpRtt      169632 non-null  float64\n",
      " 42  SynAck      169632 non-null  float64\n",
      " 43  AckDat      169632 non-null  float64\n",
      " 44  Offset      169632 non-null  int64  \n",
      " 45  sMeanPktSz  169632 non-null  float64\n",
      " 46  dMeanPktSz  169632 non-null  float64\n",
      " 47  sMaxPktSz   169632 non-null  float64\n",
      " 48  dMaxPktSz   169632 non-null  float64\n",
      " 49  sMinPktSz   169632 non-null  float64\n",
      " 50  dMinPktSz   169632 non-null  float64\n",
      " 51  Label       169632 non-null  object \n",
      "dtypes: float64(30), int64(16), object(6)\n",
      "memory usage: 67.3+ MB\n"
     ]
    }
   ],
   "source": [
    "df_traffic.info(verbose=True)"
   ]
  },
  {
   "cell_type": "code",
   "execution_count": 9,
   "metadata": {},
   "outputs": [
    {
     "name": "stdout",
     "output_type": "stream",
     "text": [
      "<class 'pandas.core.frame.DataFrame'>\n",
      "RangeIndex: 41300 entries, 0 to 41299\n",
      "Data columns (total 49 columns):\n",
      " #   Column      Non-Null Count  Dtype  \n",
      "---  ------      --------------  -----  \n",
      " 0   RunTime     41300 non-null  float64\n",
      " 1   Dur         41300 non-null  float64\n",
      " 2   SrcDur      41300 non-null  float64\n",
      " 3   DstDur      41300 non-null  float64\n",
      " 4   Mean        41300 non-null  float64\n",
      " 5   StdDev      41300 non-null  float64\n",
      " 6   Sum         41300 non-null  float64\n",
      " 7   Min         41300 non-null  float64\n",
      " 8   Max         41300 non-null  float64\n",
      " 9   Proto       41300 non-null  object \n",
      " 10  Dport       41300 non-null  int64  \n",
      " 11  TotPkts     41300 non-null  int64  \n",
      " 12  SrcPkts     41300 non-null  int64  \n",
      " 13  DstPkts     41300 non-null  int64  \n",
      " 14  TotBytes    41300 non-null  int64  \n",
      " 15  SrcBytes    41300 non-null  int64  \n",
      " 16  DstBytes    41300 non-null  int64  \n",
      " 17  TotAppByte  41300 non-null  int64  \n",
      " 18  SAppBytes   41300 non-null  int64  \n",
      " 19  DAppBytes   41300 non-null  int64  \n",
      " 20  Load        41300 non-null  float64\n",
      " 21  SrcLoad     41300 non-null  float64\n",
      " 22  DstLoad     41300 non-null  float64\n",
      " 23  Loss        41300 non-null  int64  \n",
      " 24  SrcLoss     41300 non-null  int64  \n",
      " 25  DstLoss     41300 non-null  int64  \n",
      " 26  pLoss       41300 non-null  float64\n",
      " 27  pSrcLoss    41300 non-null  float64\n",
      " 28  pDstLoss    41300 non-null  float64\n",
      " 29  Retrans     41300 non-null  int64  \n",
      " 30  SrcRetra    41300 non-null  int64  \n",
      " 31  DstRetra    41300 non-null  int64  \n",
      " 32  pRetran     41300 non-null  float64\n",
      " 33  pSrcRetr    41300 non-null  float64\n",
      " 34  pDstRetr    41300 non-null  float64\n",
      " 35  Rate        41300 non-null  float64\n",
      " 36  SrcRate     41300 non-null  float64\n",
      " 37  DstRate     41300 non-null  float64\n",
      " 38  TcpRtt      41300 non-null  float64\n",
      " 39  SynAck      41300 non-null  float64\n",
      " 40  AckDat      41300 non-null  float64\n",
      " 41  Offset      41300 non-null  int64  \n",
      " 42  sMeanPktSz  41300 non-null  float64\n",
      " 43  dMeanPktSz  41300 non-null  float64\n",
      " 44  sMaxPktSz   41300 non-null  float64\n",
      " 45  dMaxPktSz   41300 non-null  float64\n",
      " 46  sMinPktSz   41300 non-null  float64\n",
      " 47  dMinPktSz   41300 non-null  float64\n",
      " 48  Label       41300 non-null  object \n",
      "dtypes: float64(30), int64(17), object(2)\n",
      "memory usage: 15.4+ MB\n"
     ]
    }
   ],
   "source": [
    "df_ddos.info(verbose=True)"
   ]
  },
  {
   "attachments": {},
   "cell_type": "markdown",
   "metadata": {},
   "source": [
    "### Elimino caracteristicas por decision (repeticion, innecesarias)"
   ]
  },
  {
   "cell_type": "code",
   "execution_count": 86,
   "metadata": {},
   "outputs": [],
   "source": [
    "\"\"\"eliminacion de variables de categoricas, continuas\"\"\"\n",
    "df_traffic.drop(columns=['RunTime','Mean','StdDev','Sum','Min','Max','Dir','Cause','State','Retrans','SrcRetra','DstRetra',\n",
    "'pRetran','pSrcRetr','pDstRetr'], axis=1, inplace=True)\n",
    "df_ddos.drop(columns=['RunTime','Mean','StdDev','Sum','Min','Max','Retrans','SrcRetra','DstRetra',\n",
    "'pRetran','pSrcRetr','pDstRetr'], axis=1, inplace=True)"
   ]
  },
  {
   "cell_type": "code",
   "execution_count": 89,
   "metadata": {},
   "outputs": [
    {
     "data": {
      "text/plain": [
       "array(['Dur', 'SrcDur', 'DstDur', 'Proto', 'Dport', 'TotPkts', 'SrcPkts',\n",
       "       'DstPkts', 'TotBytes', 'SrcBytes', 'DstBytes', 'TotAppByte',\n",
       "       'SAppBytes', 'DAppBytes', 'Load', 'SrcLoad', 'DstLoad', 'Loss',\n",
       "       'SrcLoss', 'DstLoss', 'pLoss', 'pSrcLoss', 'pDstLoss', 'Rate',\n",
       "       'SrcRate', 'DstRate', 'TcpRtt', 'SynAck', 'AckDat', 'Offset',\n",
       "       'sMeanPktSz', 'dMeanPktSz', 'sMaxPktSz', 'dMaxPktSz', 'sMinPktSz',\n",
       "       'dMinPktSz', 'Label'], dtype=object)"
      ]
     },
     "execution_count": 89,
     "metadata": {},
     "output_type": "execute_result"
    }
   ],
   "source": [
    "df_traffic.columns.values"
   ]
  },
  {
   "cell_type": "code",
   "execution_count": 90,
   "metadata": {},
   "outputs": [
    {
     "data": {
      "text/plain": [
       "array(['Dur', 'SrcDur', 'DstDur', 'Proto', 'Dport', 'TotPkts', 'SrcPkts',\n",
       "       'DstPkts', 'TotBytes', 'SrcBytes', 'DstBytes', 'TotAppByte',\n",
       "       'SAppBytes', 'DAppBytes', 'Load', 'SrcLoad', 'DstLoad', 'Loss',\n",
       "       'SrcLoss', 'DstLoss', 'pLoss', 'pSrcLoss', 'pDstLoss', 'Rate',\n",
       "       'SrcRate', 'DstRate', 'TcpRtt', 'SynAck', 'AckDat', 'Offset',\n",
       "       'sMeanPktSz', 'dMeanPktSz', 'sMaxPktSz', 'dMaxPktSz', 'sMinPktSz',\n",
       "       'dMinPktSz', 'Label'], dtype=object)"
      ]
     },
     "execution_count": 90,
     "metadata": {},
     "output_type": "execute_result"
    }
   ],
   "source": [
    "df_ddos.columns.values"
   ]
  },
  {
   "cell_type": "code",
   "execution_count": 13,
   "metadata": {},
   "outputs": [
    {
     "name": "stdout",
     "output_type": "stream",
     "text": [
      "(169632, 37) (41300, 37)\n"
     ]
    }
   ],
   "source": [
    "print(df_traffic.shape, df_ddos.shape)"
   ]
  },
  {
   "cell_type": "code",
   "execution_count": 91,
   "metadata": {},
   "outputs": [],
   "source": [
    "df_traffic = pd.concat([df_traffic, df_ddos], axis=0, ignore_index=True)"
   ]
  },
  {
   "cell_type": "code",
   "execution_count": 59,
   "metadata": {},
   "outputs": [
    {
     "data": {
      "text/html": [
       "<div>\n",
       "<style scoped>\n",
       "    .dataframe tbody tr th:only-of-type {\n",
       "        vertical-align: middle;\n",
       "    }\n",
       "\n",
       "    .dataframe tbody tr th {\n",
       "        vertical-align: top;\n",
       "    }\n",
       "\n",
       "    .dataframe thead th {\n",
       "        text-align: right;\n",
       "    }\n",
       "</style>\n",
       "<table border=\"1\" class=\"dataframe\">\n",
       "  <thead>\n",
       "    <tr style=\"text-align: right;\">\n",
       "      <th></th>\n",
       "      <th>Dur</th>\n",
       "      <th>SrcDur</th>\n",
       "      <th>DstDur</th>\n",
       "      <th>Proto</th>\n",
       "      <th>Dport</th>\n",
       "      <th>TotPkts</th>\n",
       "      <th>SrcPkts</th>\n",
       "      <th>DstPkts</th>\n",
       "      <th>TotBytes</th>\n",
       "      <th>SrcBytes</th>\n",
       "      <th>...</th>\n",
       "      <th>SynAck</th>\n",
       "      <th>AckDat</th>\n",
       "      <th>Offset</th>\n",
       "      <th>sMeanPktSz</th>\n",
       "      <th>dMeanPktSz</th>\n",
       "      <th>sMaxPktSz</th>\n",
       "      <th>dMaxPktSz</th>\n",
       "      <th>sMinPktSz</th>\n",
       "      <th>dMinPktSz</th>\n",
       "      <th>Label</th>\n",
       "    </tr>\n",
       "  </thead>\n",
       "  <tbody>\n",
       "    <tr>\n",
       "      <th>0</th>\n",
       "      <td>11.450987</td>\n",
       "      <td>11.449797</td>\n",
       "      <td>11.449333</td>\n",
       "      <td>tcp</td>\n",
       "      <td>https</td>\n",
       "      <td>786</td>\n",
       "      <td>194</td>\n",
       "      <td>592</td>\n",
       "      <td>1983312</td>\n",
       "      <td>12954</td>\n",
       "      <td>...</td>\n",
       "      <td>0.0</td>\n",
       "      <td>0.0</td>\n",
       "      <td>128</td>\n",
       "      <td>66.773193</td>\n",
       "      <td>3328.307373</td>\n",
       "      <td>1348.0</td>\n",
       "      <td>45927.0</td>\n",
       "      <td>54.0</td>\n",
       "      <td>60.0</td>\n",
       "      <td>Normal</td>\n",
       "    </tr>\n",
       "    <tr>\n",
       "      <th>1</th>\n",
       "      <td>12.774145</td>\n",
       "      <td>12.774145</td>\n",
       "      <td>12.772697</td>\n",
       "      <td>tcp</td>\n",
       "      <td>http</td>\n",
       "      <td>8</td>\n",
       "      <td>4</td>\n",
       "      <td>4</td>\n",
       "      <td>456</td>\n",
       "      <td>216</td>\n",
       "      <td>...</td>\n",
       "      <td>0.0</td>\n",
       "      <td>0.0</td>\n",
       "      <td>468</td>\n",
       "      <td>54.000000</td>\n",
       "      <td>60.000000</td>\n",
       "      <td>54.0</td>\n",
       "      <td>60.0</td>\n",
       "      <td>54.0</td>\n",
       "      <td>60.0</td>\n",
       "      <td>Normal</td>\n",
       "    </tr>\n",
       "    <tr>\n",
       "      <th>2</th>\n",
       "      <td>11.265332</td>\n",
       "      <td>11.263568</td>\n",
       "      <td>10.240026</td>\n",
       "      <td>tcp</td>\n",
       "      <td>http</td>\n",
       "      <td>5</td>\n",
       "      <td>3</td>\n",
       "      <td>2</td>\n",
       "      <td>282</td>\n",
       "      <td>162</td>\n",
       "      <td>...</td>\n",
       "      <td>0.0</td>\n",
       "      <td>0.0</td>\n",
       "      <td>768</td>\n",
       "      <td>54.000000</td>\n",
       "      <td>60.000000</td>\n",
       "      <td>54.0</td>\n",
       "      <td>60.0</td>\n",
       "      <td>54.0</td>\n",
       "      <td>60.0</td>\n",
       "      <td>Normal</td>\n",
       "    </tr>\n",
       "    <tr>\n",
       "      <th>3</th>\n",
       "      <td>11.261298</td>\n",
       "      <td>11.259567</td>\n",
       "      <td>10.239794</td>\n",
       "      <td>tcp</td>\n",
       "      <td>http</td>\n",
       "      <td>5</td>\n",
       "      <td>3</td>\n",
       "      <td>2</td>\n",
       "      <td>282</td>\n",
       "      <td>162</td>\n",
       "      <td>...</td>\n",
       "      <td>0.0</td>\n",
       "      <td>0.0</td>\n",
       "      <td>1068</td>\n",
       "      <td>54.000000</td>\n",
       "      <td>60.000000</td>\n",
       "      <td>54.0</td>\n",
       "      <td>60.0</td>\n",
       "      <td>54.0</td>\n",
       "      <td>60.0</td>\n",
       "      <td>Normal</td>\n",
       "    </tr>\n",
       "    <tr>\n",
       "      <th>4</th>\n",
       "      <td>11.261163</td>\n",
       "      <td>11.259556</td>\n",
       "      <td>10.239808</td>\n",
       "      <td>tcp</td>\n",
       "      <td>http</td>\n",
       "      <td>5</td>\n",
       "      <td>3</td>\n",
       "      <td>2</td>\n",
       "      <td>282</td>\n",
       "      <td>162</td>\n",
       "      <td>...</td>\n",
       "      <td>0.0</td>\n",
       "      <td>0.0</td>\n",
       "      <td>1368</td>\n",
       "      <td>54.000000</td>\n",
       "      <td>60.000000</td>\n",
       "      <td>54.0</td>\n",
       "      <td>60.0</td>\n",
       "      <td>54.0</td>\n",
       "      <td>60.0</td>\n",
       "      <td>Normal</td>\n",
       "    </tr>\n",
       "    <tr>\n",
       "      <th>...</th>\n",
       "      <td>...</td>\n",
       "      <td>...</td>\n",
       "      <td>...</td>\n",
       "      <td>...</td>\n",
       "      <td>...</td>\n",
       "      <td>...</td>\n",
       "      <td>...</td>\n",
       "      <td>...</td>\n",
       "      <td>...</td>\n",
       "      <td>...</td>\n",
       "      <td>...</td>\n",
       "      <td>...</td>\n",
       "      <td>...</td>\n",
       "      <td>...</td>\n",
       "      <td>...</td>\n",
       "      <td>...</td>\n",
       "      <td>...</td>\n",
       "      <td>...</td>\n",
       "      <td>...</td>\n",
       "      <td>...</td>\n",
       "      <td>...</td>\n",
       "    </tr>\n",
       "    <tr>\n",
       "      <th>210927</th>\n",
       "      <td>0.000000</td>\n",
       "      <td>0.000000</td>\n",
       "      <td>0.000000</td>\n",
       "      <td>udp</td>\n",
       "      <td>80</td>\n",
       "      <td>1</td>\n",
       "      <td>1</td>\n",
       "      <td>0</td>\n",
       "      <td>42</td>\n",
       "      <td>42</td>\n",
       "      <td>...</td>\n",
       "      <td>0.0</td>\n",
       "      <td>0.0</td>\n",
       "      <td>76635376</td>\n",
       "      <td>42.000000</td>\n",
       "      <td>0.000000</td>\n",
       "      <td>42.0</td>\n",
       "      <td>0.0</td>\n",
       "      <td>42.0</td>\n",
       "      <td>0.0</td>\n",
       "      <td>DDoS</td>\n",
       "    </tr>\n",
       "    <tr>\n",
       "      <th>210928</th>\n",
       "      <td>0.000000</td>\n",
       "      <td>0.000000</td>\n",
       "      <td>0.000000</td>\n",
       "      <td>udp</td>\n",
       "      <td>80</td>\n",
       "      <td>1</td>\n",
       "      <td>1</td>\n",
       "      <td>0</td>\n",
       "      <td>42</td>\n",
       "      <td>42</td>\n",
       "      <td>...</td>\n",
       "      <td>0.0</td>\n",
       "      <td>0.0</td>\n",
       "      <td>144775272</td>\n",
       "      <td>42.000000</td>\n",
       "      <td>0.000000</td>\n",
       "      <td>42.0</td>\n",
       "      <td>0.0</td>\n",
       "      <td>42.0</td>\n",
       "      <td>0.0</td>\n",
       "      <td>DDoS</td>\n",
       "    </tr>\n",
       "    <tr>\n",
       "      <th>210929</th>\n",
       "      <td>0.000000</td>\n",
       "      <td>0.000000</td>\n",
       "      <td>0.000000</td>\n",
       "      <td>udp</td>\n",
       "      <td>80</td>\n",
       "      <td>1</td>\n",
       "      <td>1</td>\n",
       "      <td>0</td>\n",
       "      <td>42</td>\n",
       "      <td>42</td>\n",
       "      <td>...</td>\n",
       "      <td>0.0</td>\n",
       "      <td>0.0</td>\n",
       "      <td>220812784</td>\n",
       "      <td>42.000000</td>\n",
       "      <td>0.000000</td>\n",
       "      <td>42.0</td>\n",
       "      <td>0.0</td>\n",
       "      <td>42.0</td>\n",
       "      <td>0.0</td>\n",
       "      <td>DDoS</td>\n",
       "    </tr>\n",
       "    <tr>\n",
       "      <th>210930</th>\n",
       "      <td>0.000000</td>\n",
       "      <td>0.000000</td>\n",
       "      <td>0.000000</td>\n",
       "      <td>udp</td>\n",
       "      <td>80</td>\n",
       "      <td>1</td>\n",
       "      <td>1</td>\n",
       "      <td>0</td>\n",
       "      <td>42</td>\n",
       "      <td>42</td>\n",
       "      <td>...</td>\n",
       "      <td>0.0</td>\n",
       "      <td>0.0</td>\n",
       "      <td>242456864</td>\n",
       "      <td>42.000000</td>\n",
       "      <td>0.000000</td>\n",
       "      <td>42.0</td>\n",
       "      <td>0.0</td>\n",
       "      <td>42.0</td>\n",
       "      <td>0.0</td>\n",
       "      <td>DDoS</td>\n",
       "    </tr>\n",
       "    <tr>\n",
       "      <th>210931</th>\n",
       "      <td>0.000000</td>\n",
       "      <td>0.000000</td>\n",
       "      <td>0.000000</td>\n",
       "      <td>udp</td>\n",
       "      <td>80</td>\n",
       "      <td>1</td>\n",
       "      <td>1</td>\n",
       "      <td>0</td>\n",
       "      <td>42</td>\n",
       "      <td>42</td>\n",
       "      <td>...</td>\n",
       "      <td>0.0</td>\n",
       "      <td>0.0</td>\n",
       "      <td>21132592</td>\n",
       "      <td>42.000000</td>\n",
       "      <td>0.000000</td>\n",
       "      <td>42.0</td>\n",
       "      <td>0.0</td>\n",
       "      <td>42.0</td>\n",
       "      <td>0.0</td>\n",
       "      <td>DDoS</td>\n",
       "    </tr>\n",
       "  </tbody>\n",
       "</table>\n",
       "<p>210932 rows × 37 columns</p>\n",
       "</div>"
      ],
      "text/plain": [
       "              Dur     SrcDur     DstDur Proto  Dport  TotPkts  SrcPkts  \\\n",
       "0       11.450987  11.449797  11.449333   tcp  https      786      194   \n",
       "1       12.774145  12.774145  12.772697   tcp   http        8        4   \n",
       "2       11.265332  11.263568  10.240026   tcp   http        5        3   \n",
       "3       11.261298  11.259567  10.239794   tcp   http        5        3   \n",
       "4       11.261163  11.259556  10.239808   tcp   http        5        3   \n",
       "...           ...        ...        ...   ...    ...      ...      ...   \n",
       "210927   0.000000   0.000000   0.000000   udp     80        1        1   \n",
       "210928   0.000000   0.000000   0.000000   udp     80        1        1   \n",
       "210929   0.000000   0.000000   0.000000   udp     80        1        1   \n",
       "210930   0.000000   0.000000   0.000000   udp     80        1        1   \n",
       "210931   0.000000   0.000000   0.000000   udp     80        1        1   \n",
       "\n",
       "        DstPkts  TotBytes  SrcBytes  ...  SynAck  AckDat     Offset  \\\n",
       "0           592   1983312     12954  ...     0.0     0.0        128   \n",
       "1             4       456       216  ...     0.0     0.0        468   \n",
       "2             2       282       162  ...     0.0     0.0        768   \n",
       "3             2       282       162  ...     0.0     0.0       1068   \n",
       "4             2       282       162  ...     0.0     0.0       1368   \n",
       "...         ...       ...       ...  ...     ...     ...        ...   \n",
       "210927        0        42        42  ...     0.0     0.0   76635376   \n",
       "210928        0        42        42  ...     0.0     0.0  144775272   \n",
       "210929        0        42        42  ...     0.0     0.0  220812784   \n",
       "210930        0        42        42  ...     0.0     0.0  242456864   \n",
       "210931        0        42        42  ...     0.0     0.0   21132592   \n",
       "\n",
       "        sMeanPktSz   dMeanPktSz  sMaxPktSz  dMaxPktSz  sMinPktSz  dMinPktSz  \\\n",
       "0        66.773193  3328.307373     1348.0    45927.0       54.0       60.0   \n",
       "1        54.000000    60.000000       54.0       60.0       54.0       60.0   \n",
       "2        54.000000    60.000000       54.0       60.0       54.0       60.0   \n",
       "3        54.000000    60.000000       54.0       60.0       54.0       60.0   \n",
       "4        54.000000    60.000000       54.0       60.0       54.0       60.0   \n",
       "...            ...          ...        ...        ...        ...        ...   \n",
       "210927   42.000000     0.000000       42.0        0.0       42.0        0.0   \n",
       "210928   42.000000     0.000000       42.0        0.0       42.0        0.0   \n",
       "210929   42.000000     0.000000       42.0        0.0       42.0        0.0   \n",
       "210930   42.000000     0.000000       42.0        0.0       42.0        0.0   \n",
       "210931   42.000000     0.000000       42.0        0.0       42.0        0.0   \n",
       "\n",
       "         Label  \n",
       "0       Normal  \n",
       "1       Normal  \n",
       "2       Normal  \n",
       "3       Normal  \n",
       "4       Normal  \n",
       "...        ...  \n",
       "210927    DDoS  \n",
       "210928    DDoS  \n",
       "210929    DDoS  \n",
       "210930    DDoS  \n",
       "210931    DDoS  \n",
       "\n",
       "[210932 rows x 37 columns]"
      ]
     },
     "execution_count": 59,
     "metadata": {},
     "output_type": "execute_result"
    }
   ],
   "source": [
    "df_traffic"
   ]
  },
  {
   "attachments": {},
   "cell_type": "markdown",
   "metadata": {},
   "source": [
    "## Codificacion de Variables categóricas"
   ]
  },
  {
   "attachments": {},
   "cell_type": "markdown",
   "metadata": {},
   "source": [
    "### Reemplazar datos de texto a datos numericos (Protocolos)"
   ]
  },
  {
   "cell_type": "code",
   "execution_count": 23,
   "metadata": {},
   "outputs": [
    {
     "data": {
      "text/html": [
       "<div>\n",
       "<style scoped>\n",
       "    .dataframe tbody tr th:only-of-type {\n",
       "        vertical-align: middle;\n",
       "    }\n",
       "\n",
       "    .dataframe tbody tr th {\n",
       "        vertical-align: top;\n",
       "    }\n",
       "\n",
       "    .dataframe thead th {\n",
       "        text-align: right;\n",
       "    }\n",
       "</style>\n",
       "<table border=\"1\" class=\"dataframe\">\n",
       "  <thead>\n",
       "    <tr style=\"text-align: right;\">\n",
       "      <th></th>\n",
       "      <th>Dur</th>\n",
       "      <th>SrcDur</th>\n",
       "      <th>DstDur</th>\n",
       "      <th>Proto</th>\n",
       "      <th>Dport</th>\n",
       "      <th>TotPkts</th>\n",
       "      <th>SrcPkts</th>\n",
       "      <th>DstPkts</th>\n",
       "      <th>TotBytes</th>\n",
       "      <th>SrcBytes</th>\n",
       "      <th>...</th>\n",
       "      <th>SynAck</th>\n",
       "      <th>AckDat</th>\n",
       "      <th>Offset</th>\n",
       "      <th>sMeanPktSz</th>\n",
       "      <th>dMeanPktSz</th>\n",
       "      <th>sMaxPktSz</th>\n",
       "      <th>dMaxPktSz</th>\n",
       "      <th>sMinPktSz</th>\n",
       "      <th>dMinPktSz</th>\n",
       "      <th>Label</th>\n",
       "    </tr>\n",
       "  </thead>\n",
       "  <tbody>\n",
       "    <tr>\n",
       "      <th>24814</th>\n",
       "      <td>0.010069</td>\n",
       "      <td>0.0</td>\n",
       "      <td>0.0</td>\n",
       "      <td>icmp</td>\n",
       "      <td>0x1ecb</td>\n",
       "      <td>2</td>\n",
       "      <td>1</td>\n",
       "      <td>1</td>\n",
       "      <td>84</td>\n",
       "      <td>42</td>\n",
       "      <td>...</td>\n",
       "      <td>0.0</td>\n",
       "      <td>0.0</td>\n",
       "      <td>5797472</td>\n",
       "      <td>42.0</td>\n",
       "      <td>42.0</td>\n",
       "      <td>42.0</td>\n",
       "      <td>42.0</td>\n",
       "      <td>42.0</td>\n",
       "      <td>42.0</td>\n",
       "      <td>Probe</td>\n",
       "    </tr>\n",
       "  </tbody>\n",
       "</table>\n",
       "<p>1 rows × 37 columns</p>\n",
       "</div>"
      ],
      "text/plain": [
       "            Dur  SrcDur  DstDur Proto   Dport  TotPkts  SrcPkts  DstPkts  \\\n",
       "24814  0.010069     0.0     0.0  icmp  0x1ecb        2        1        1   \n",
       "\n",
       "       TotBytes  SrcBytes  ...  SynAck  AckDat   Offset  sMeanPktSz  \\\n",
       "24814        84        42  ...     0.0     0.0  5797472        42.0   \n",
       "\n",
       "       dMeanPktSz  sMaxPktSz  dMaxPktSz  sMinPktSz  dMinPktSz  Label  \n",
       "24814        42.0       42.0       42.0       42.0       42.0  Probe  \n",
       "\n",
       "[1 rows x 37 columns]"
      ]
     },
     "execution_count": 23,
     "metadata": {},
     "output_type": "execute_result"
    }
   ],
   "source": [
    "df_traffic[(df_traffic.Dport==\"0x1ecb\")]"
   ]
  },
  {
   "cell_type": "code",
   "execution_count": 92,
   "metadata": {},
   "outputs": [],
   "source": [
    "eliminar_filasvaloresDesconocidos(df_traffic,df_traffic[(df_traffic.Dport==\"0x1ecb\")])"
   ]
  },
  {
   "cell_type": "code",
   "execution_count": 95,
   "metadata": {},
   "outputs": [
    {
     "data": {
      "text/plain": [
       "6     133328\n",
       "17     77603\n",
       "Name: Proto, dtype: int64"
      ]
     },
     "execution_count": 95,
     "metadata": {},
     "output_type": "execute_result"
    }
   ],
   "source": [
    "df_traffic.Proto.value_counts()"
   ]
  },
  {
   "cell_type": "code",
   "execution_count": 94,
   "metadata": {},
   "outputs": [],
   "source": [
    "df_traffic.Proto.replace({'tcp':6,'udp':17},inplace=True )"
   ]
  },
  {
   "attachments": {},
   "cell_type": "markdown",
   "metadata": {},
   "source": [
    "### Reemplazar datos de texto a datos numericos (Puertos)"
   ]
  },
  {
   "cell_type": "code",
   "execution_count": 96,
   "metadata": {},
   "outputs": [
    {
     "data": {
      "text/plain": [
       "domain    51192\n",
       "80        41272\n",
       "http      36323\n",
       "https     34788\n",
       "6653       5625\n",
       "          ...  \n",
       "48308         1\n",
       "46470         1\n",
       "57706         1\n",
       "53592         1\n",
       "47008         1\n",
       "Name: Dport, Length: 1853, dtype: int64"
      ]
     },
     "execution_count": 96,
     "metadata": {},
     "output_type": "execute_result"
    }
   ],
   "source": [
    "unique_ports = df_traffic.Dport.value_counts()\n",
    "df_traffic.Dport.value_counts()"
   ]
  },
  {
   "cell_type": "code",
   "execution_count": 97,
   "metadata": {},
   "outputs": [],
   "source": [
    "df_traffic.Dport.replace({'domain':53, 'mysql':3306, 'http':80, 'https':443, 'discard':9, 'radius':1812, 'tacacs':49, 'ms-sql-s':1433, 'sip':5060, 'daytime':13, \n",
    "'snmp':161, 'afs3-fileserver':7000, 'svrloc':427, 'kpasswd':464, 'microsoft-ds':445, 'chargen':19, 'ms-sql-m':1434, 'netbios-ssn':139,\n",
    "'gnutella-svc':6346, 'kerberos':88, 'ldap':389, 'time':37, 'sunrpc':111, 'nfs':832, 'kshell':544, 'xmpp-client':5222, 'whois':63, \n",
    "'submissions':465, 'tproxy':3346, 'tcpmux':1, 'ftp-data':20, 'qotd':17, 'rsync':873, 'login':513, 'cisco-sccp':2000, 'rootd':1094, \n",
    "'proofd':1093, 'finger':79, 'afs3-callback':7001, 'snpp':444, 'font-service':7100, 'shell':514, 'afpovertcp':548, 'svn':3690, 'afs3-bos':7007, \n",
    "'kerberos-adm':749, 'socks':1080, 'ipp':631, 'nut':3493, 'postgresql':5432, 'bgp':179, 'radmin-port':4899, 'ldaps':636, 'cvspserver':2401, 'echo':7, \n",
    "'lotusnote':1352, 'sane-port':6566, 'telnets':992, 'bacula-sd':9103, 'afs3-kaserver':7004, 'gris':2135, 'xmpp-server':5269, 'afs3-prserver':7002, \n",
    "'exec':512, 'ftp':21, 'submission':587, 'pop3s':995, 'smux':199, 'ms-wbt-server':3389, 'smtp':25, 'ssh':22, 'auth':113, 'telnet':23, 'imaps':993, \n",
    "'pop3':110, 'rtsp':554, 'printer':515, 'epmap':135, 'bacula-fd':9102, 'ftps':990, 'iscsi-target':3260, 'nntp':119, 'git':9418, 'gsiftp':2811, \n",
    "'daap':3689, 'cmip-man':163, 'bacula-dir':9101, 'klogin':543, 'rmiregistry':1099, 'nntps':563, 'ingreslock':1524, 'gopher':70, \n",
    "'gsigatekeeper':2119, 'netbios-ns':137, 'ntp':123, 'l2f':1701, 'biff':512,'talk':517, 'radius-acct':1813, 'tftp':69, 'netbios-dgm':138, \n",
    "'sa-msg-port':1646, 'ipsec-nat-t':4500, 'route':520, 'syslog':514, 'snmp-trap':2697, 'gnutella-rtr':6347, 'mdns':5353, 'isakmp':500,\n",
    "'ntalk':518, 'asf-rmcp':623, 'icpv2':3130, 'who':513, 'rmtcfg':1236, 'moira-update': 777, 'amandaidx': 10082, 'cfinger': 2003, 'ripd': 2602,\n",
    "'isisd': 2608, 'ircd': 6667, 'iprop':2121, 'ospfd': 2604, 'enbd-cstatd': 5051, 'zope-ftp':8021, 'bgpd':2605, 'imap2': 143, 'http-alt':591, \n",
    "'ospfapi':8899, 'omniorb': 8088, 'poppassd':106, 'spamd': 783, 'sip-tls': 5061, 'hostmon': 5355, 'datametrics': 1645,\n",
    "'route':520, 'rplay' : 5555, 'fsp': 21,'nrpe':5666, 'webmin':10000, 'zebra':346,'48312.0':48312, '6653.0':6653},inplace=True )"
   ]
  },
  {
   "cell_type": "code",
   "execution_count": 27,
   "metadata": {},
   "outputs": [
    {
     "data": {
      "text/plain": [
       "80       77593\n",
       "53       51192\n",
       "443      34788\n",
       "6653      5624\n",
       "1900       699\n",
       "         ...  \n",
       "48308        1\n",
       "57706        1\n",
       "53592        1\n",
       "46470        1\n",
       "47008        1\n",
       "Name: Dport, Length: 1847, dtype: int64"
      ]
     },
     "execution_count": 27,
     "metadata": {},
     "output_type": "execute_result"
    }
   ],
   "source": [
    "unique_ports_2 = df_traffic.Dport.value_counts()\n",
    "df_traffic.Dport.value_counts()"
   ]
  },
  {
   "cell_type": "code",
   "execution_count": 98,
   "metadata": {},
   "outputs": [],
   "source": [
    "\"\"\"cambiar el tipo de dato a las columnas convertidas en datos numericos\"\"\"\n",
    "df_traffic['Dport'] = df_traffic['Dport'].astype('int32')\n",
    "df_traffic['Proto'] = df_traffic['Proto'].astype('int32')"
   ]
  },
  {
   "attachments": {},
   "cell_type": "markdown",
   "metadata": {},
   "source": [
    "### Discretizar Puertos (Conocidos-Registrados-Dinamicos)"
   ]
  },
  {
   "cell_type": "code",
   "execution_count": 99,
   "metadata": {},
   "outputs": [
    {
     "data": {
      "text/plain": [
       "array([443,  80,  80, ...,  80,  80,  80])"
      ]
     },
     "execution_count": 99,
     "metadata": {},
     "output_type": "execute_result"
    }
   ],
   "source": [
    "binning_ports= np.array(df_traffic['Dport'])\n",
    "binning_ports"
   ]
  },
  {
   "cell_type": "code",
   "execution_count": 100,
   "metadata": {},
   "outputs": [],
   "source": [
    "\"\"\"binning de puertos\"\"\"\n",
    "binning_ports = pd.cut(binning_ports, bins=[0, 1023, 49151, 65535], \n",
    "                    labels=[\"aportSystem\",\"bportUser\",\"cportDynamic\"],\n",
    "                    include_lowest=True,\n",
    "                    retbins=True\n",
    "                )"
   ]
  },
  {
   "attachments": {},
   "cell_type": "markdown",
   "metadata": {},
   "source": [
    "### Crear DF de puertos y protocoos "
   ]
  },
  {
   "cell_type": "code",
   "execution_count": 101,
   "metadata": {},
   "outputs": [],
   "source": [
    "\"\"\"creo un df con el binning de puertos\"\"\"\n",
    "df_ports = pd.DataFrame({'dstPort':np.array(binning_ports[0])})"
   ]
  },
  {
   "cell_type": "code",
   "execution_count": 102,
   "metadata": {},
   "outputs": [],
   "source": [
    "\"\"\"creo un df obteniendo los protocolos\"\"\"\n",
    "df_protos = pd.DataFrame({'Protoc':np.array(df_traffic['Proto'])})"
   ]
  },
  {
   "attachments": {},
   "cell_type": "markdown",
   "metadata": {},
   "source": [
    "### Establecer variables categoricas nominales a Protocolos y ordinales a Puertos, ambas se trabajan con One Hot"
   ]
  },
  {
   "attachments": {},
   "cell_type": "markdown",
   "metadata": {},
   "source": [
    "### **Protocolos**"
   ]
  },
  {
   "cell_type": "code",
   "execution_count": 103,
   "metadata": {},
   "outputs": [],
   "source": [
    "\"\"\"codificar protocolo\"\"\"\n",
    "codificador= ColumnTransformer(\n",
    "    [('one_hot_encoder', OneHotEncoder(categories='auto'), ['Protoc'])],\n",
    "    remainder='passthrough'\n",
    "    )\n",
    "\"\"\"codificar puertos segun el rango\"\"\"\n",
    "arr_protos = np.array(codificador.fit_transform(df_protos), dtype=int)"
   ]
  },
  {
   "cell_type": "code",
   "execution_count": 104,
   "metadata": {},
   "outputs": [
    {
     "data": {
      "text/plain": [
       "array(['one_hot_encoder__Protoc_6', 'one_hot_encoder__Protoc_17'],\n",
       "      dtype=object)"
      ]
     },
     "execution_count": 104,
     "metadata": {},
     "output_type": "execute_result"
    }
   ],
   "source": [
    "codificador.get_feature_names_out()"
   ]
  },
  {
   "cell_type": "code",
   "execution_count": 105,
   "metadata": {},
   "outputs": [],
   "source": [
    "df_protos = pd.DataFrame(arr_protos, columns= ['protoTcp', 'protoUdp'])"
   ]
  },
  {
   "attachments": {},
   "cell_type": "markdown",
   "metadata": {},
   "source": [
    "### **Puertos**"
   ]
  },
  {
   "cell_type": "code",
   "execution_count": 106,
   "metadata": {},
   "outputs": [],
   "source": [
    "\"\"\"codificar puertos\"\"\"\n",
    "codificadorports= ColumnTransformer(\n",
    "    [('one_hot_encoder', OneHotEncoder(categories='auto'), ['dstPort'])],\n",
    "    remainder='passthrough'\n",
    "    )\n",
    "\"\"\"codificar puertos segun el rango\"\"\"\n",
    "arr_ports = np.array(codificadorports.fit_transform(df_ports), dtype=int)"
   ]
  },
  {
   "cell_type": "code",
   "execution_count": 107,
   "metadata": {},
   "outputs": [
    {
     "data": {
      "text/plain": [
       "array(['one_hot_encoder__dstPort_aportSystem',\n",
       "       'one_hot_encoder__dstPort_bportUser',\n",
       "       'one_hot_encoder__dstPort_cportDynamic'], dtype=object)"
      ]
     },
     "execution_count": 107,
     "metadata": {},
     "output_type": "execute_result"
    }
   ],
   "source": [
    "codificadorports.get_feature_names_out()"
   ]
  },
  {
   "cell_type": "code",
   "execution_count": 108,
   "metadata": {},
   "outputs": [],
   "source": [
    "df_ports = pd.DataFrame(arr_ports, columns= ['portSystem','portUser','portDynamic'])"
   ]
  },
  {
   "attachments": {},
   "cell_type": "markdown",
   "metadata": {},
   "source": [
    "## Eliminar las columnas del df original que han sido tratadas como variables categoricas"
   ]
  },
  {
   "cell_type": "code",
   "execution_count": 109,
   "metadata": {},
   "outputs": [],
   "source": [
    "\"\"\"eliminar variable categorica Dport\"\"\"\n",
    "df_traffic.drop(columns=['Dport','Proto'], axis=1, inplace=True)"
   ]
  },
  {
   "cell_type": "code",
   "execution_count": 110,
   "metadata": {},
   "outputs": [
    {
     "data": {
      "text/plain": [
       "array(['Dur', 'SrcDur', 'DstDur', 'TotPkts', 'SrcPkts', 'DstPkts',\n",
       "       'TotBytes', 'SrcBytes', 'DstBytes', 'TotAppByte', 'SAppBytes',\n",
       "       'DAppBytes', 'Load', 'SrcLoad', 'DstLoad', 'Loss', 'SrcLoss',\n",
       "       'DstLoss', 'pLoss', 'pSrcLoss', 'pDstLoss', 'Rate', 'SrcRate',\n",
       "       'DstRate', 'TcpRtt', 'SynAck', 'AckDat', 'Offset', 'sMeanPktSz',\n",
       "       'dMeanPktSz', 'sMaxPktSz', 'dMaxPktSz', 'sMinPktSz', 'dMinPktSz',\n",
       "       'Label'], dtype=object)"
      ]
     },
     "execution_count": 110,
     "metadata": {},
     "output_type": "execute_result"
    }
   ],
   "source": [
    "df_traffic.columns.values"
   ]
  },
  {
   "cell_type": "markdown",
   "metadata": {},
   "source": [
    "### Codificar Label como Ordinal (temporal)"
   ]
  },
  {
   "cell_type": "code",
   "execution_count": 111,
   "metadata": {},
   "outputs": [
    {
     "data": {
      "text/plain": [
       "Normal    94285\n",
       "DDoS      41300\n",
       "Probe     41061\n",
       "Dos       34285\n",
       "Name: Label, dtype: int64"
      ]
     },
     "execution_count": 111,
     "metadata": {},
     "output_type": "execute_result"
    }
   ],
   "source": [
    "df_traffic.Label.value_counts()"
   ]
  },
  {
   "cell_type": "code",
   "execution_count": 112,
   "metadata": {},
   "outputs": [],
   "source": [
    "labelencoder_y = LabelEncoder()\n",
    "\"\"\"codificar la variable objetivo\"\"\"\n",
    "df_traffic['Label'] = labelencoder_y.fit_transform(df_traffic['Label'])"
   ]
  },
  {
   "cell_type": "code",
   "execution_count": 113,
   "metadata": {},
   "outputs": [
    {
     "data": {
      "text/plain": [
       "2    94285\n",
       "0    41300\n",
       "3    41061\n",
       "1    34285\n",
       "Name: Label, dtype: int64"
      ]
     },
     "execution_count": 113,
     "metadata": {},
     "output_type": "execute_result"
    }
   ],
   "source": [
    "df_traffic.Label.value_counts()"
   ]
  },
  {
   "attachments": {},
   "cell_type": "markdown",
   "metadata": {},
   "source": [
    "## Concatenar caracteristicas en un solo DF"
   ]
  },
  {
   "cell_type": "code",
   "execution_count": 114,
   "metadata": {},
   "outputs": [],
   "source": [
    "df_protos=df_protos.reset_index(drop=True)\n",
    "df_ports=df_ports.reset_index(drop=True)\n",
    "df_traffic=df_traffic.reset_index(drop=True)"
   ]
  },
  {
   "cell_type": "code",
   "execution_count": 115,
   "metadata": {},
   "outputs": [],
   "source": [
    "df_traffic = pd.concat([df_protos, df_ports, df_traffic], axis=1)"
   ]
  },
  {
   "cell_type": "code",
   "execution_count": 116,
   "metadata": {},
   "outputs": [
    {
     "name": "stdout",
     "output_type": "stream",
     "text": [
      "<class 'pandas.core.frame.DataFrame'>\n",
      "RangeIndex: 210931 entries, 0 to 210930\n",
      "Data columns (total 40 columns):\n",
      " #   Column       Non-Null Count   Dtype  \n",
      "---  ------       --------------   -----  \n",
      " 0   protoTcp     210931 non-null  int32  \n",
      " 1   protoUdp     210931 non-null  int32  \n",
      " 2   portSystem   210931 non-null  int32  \n",
      " 3   portUser     210931 non-null  int32  \n",
      " 4   portDynamic  210931 non-null  int32  \n",
      " 5   Dur          210931 non-null  float64\n",
      " 6   SrcDur       210931 non-null  float64\n",
      " 7   DstDur       210931 non-null  float64\n",
      " 8   TotPkts      210931 non-null  int64  \n",
      " 9   SrcPkts      210931 non-null  int64  \n",
      " 10  DstPkts      210931 non-null  int64  \n",
      " 11  TotBytes     210931 non-null  int64  \n",
      " 12  SrcBytes     210931 non-null  int64  \n",
      " 13  DstBytes     210931 non-null  int64  \n",
      " 14  TotAppByte   210931 non-null  int64  \n",
      " 15  SAppBytes    210931 non-null  int64  \n",
      " 16  DAppBytes    210931 non-null  int64  \n",
      " 17  Load         210931 non-null  float64\n",
      " 18  SrcLoad      210931 non-null  float64\n",
      " 19  DstLoad      210931 non-null  float64\n",
      " 20  Loss         210931 non-null  int64  \n",
      " 21  SrcLoss      210931 non-null  int64  \n",
      " 22  DstLoss      210931 non-null  int64  \n",
      " 23  pLoss        210931 non-null  float64\n",
      " 24  pSrcLoss     210931 non-null  float64\n",
      " 25  pDstLoss     210931 non-null  float64\n",
      " 26  Rate         210931 non-null  float64\n",
      " 27  SrcRate      210931 non-null  float64\n",
      " 28  DstRate      210931 non-null  float64\n",
      " 29  TcpRtt       210931 non-null  float64\n",
      " 30  SynAck       210931 non-null  float64\n",
      " 31  AckDat       210931 non-null  float64\n",
      " 32  Offset       210931 non-null  int64  \n",
      " 33  sMeanPktSz   210931 non-null  float64\n",
      " 34  dMeanPktSz   210931 non-null  float64\n",
      " 35  sMaxPktSz    210931 non-null  float64\n",
      " 36  dMaxPktSz    210931 non-null  float64\n",
      " 37  sMinPktSz    210931 non-null  float64\n",
      " 38  dMinPktSz    210931 non-null  float64\n",
      " 39  Label        210931 non-null  int32  \n",
      "dtypes: float64(21), int32(6), int64(13)\n",
      "memory usage: 59.5 MB\n"
     ]
    }
   ],
   "source": [
    "df_traffic.info(verbose=True)"
   ]
  },
  {
   "attachments": {},
   "cell_type": "markdown",
   "metadata": {},
   "source": [
    "## **Guardar**"
   ]
  },
  {
   "cell_type": "code",
   "execution_count": 117,
   "metadata": {},
   "outputs": [],
   "source": [
    "df_traffic.to_csv('../../araData/Z/Categorizado.csv',index=False)"
   ]
  },
  {
   "attachments": {},
   "cell_type": "markdown",
   "metadata": {},
   "source": [
    "## **Categorizando Botnet**"
   ]
  },
  {
   "cell_type": "code",
   "execution_count": 19,
   "metadata": {},
   "outputs": [],
   "source": [
    "df_botnet = pd.read_csv('../../araData/Z/botnet_1.7sincategorizar.csv', low_memory=False)"
   ]
  },
  {
   "cell_type": "code",
   "execution_count": 8,
   "metadata": {},
   "outputs": [
    {
     "data": {
      "text/plain": [
       "tcp    62175\n",
       "udp     5131\n",
       "Name: Proto, dtype: int64"
      ]
     },
     "execution_count": 8,
     "metadata": {},
     "output_type": "execute_result"
    }
   ],
   "source": [
    "df_botnet[df_botnet.Dur>5].Proto.value_counts()"
   ]
  },
  {
   "cell_type": "code",
   "execution_count": 9,
   "metadata": {},
   "outputs": [],
   "source": [
    "df_botnet = df_botnet[df_botnet.Dur>5]"
   ]
  },
  {
   "cell_type": "code",
   "execution_count": 10,
   "metadata": {},
   "outputs": [
    {
     "name": "stdout",
     "output_type": "stream",
     "text": [
      "<class 'pandas.core.frame.DataFrame'>\n",
      "Int64Index: 67306 entries, 0 to 74143\n",
      "Data columns (total 49 columns):\n",
      " #   Column      Non-Null Count  Dtype  \n",
      "---  ------      --------------  -----  \n",
      " 0   RunTime     67306 non-null  float64\n",
      " 1   Dur         67306 non-null  float64\n",
      " 2   SrcDur      67306 non-null  float64\n",
      " 3   DstDur      67306 non-null  float64\n",
      " 4   Mean        67306 non-null  float64\n",
      " 5   StdDev      67306 non-null  float64\n",
      " 6   Sum         67306 non-null  float64\n",
      " 7   Min         67306 non-null  float64\n",
      " 8   Max         67306 non-null  float64\n",
      " 9   Proto       67306 non-null  object \n",
      " 10  Dport       67306 non-null  object \n",
      " 11  TotPkts     67306 non-null  int64  \n",
      " 12  SrcPkts     67306 non-null  int64  \n",
      " 13  DstPkts     67306 non-null  int64  \n",
      " 14  TotBytes    67306 non-null  int64  \n",
      " 15  SrcBytes    67306 non-null  int64  \n",
      " 16  DstBytes    67306 non-null  int64  \n",
      " 17  TotAppByte  67306 non-null  int64  \n",
      " 18  SAppBytes   67306 non-null  int64  \n",
      " 19  DAppBytes   67306 non-null  int64  \n",
      " 20  Load        67306 non-null  float64\n",
      " 21  SrcLoad     67306 non-null  float64\n",
      " 22  DstLoad     67306 non-null  float64\n",
      " 23  Loss        67306 non-null  int64  \n",
      " 24  SrcLoss     67306 non-null  int64  \n",
      " 25  DstLoss     67306 non-null  int64  \n",
      " 26  pLoss       67306 non-null  float64\n",
      " 27  pSrcLoss    67306 non-null  float64\n",
      " 28  pDstLoss    67306 non-null  float64\n",
      " 29  Retrans     67306 non-null  int64  \n",
      " 30  SrcRetra    67306 non-null  int64  \n",
      " 31  DstRetra    67306 non-null  int64  \n",
      " 32  pRetran     67306 non-null  float64\n",
      " 33  pSrcRetr    67306 non-null  float64\n",
      " 34  pDstRetr    67306 non-null  float64\n",
      " 35  Rate        67306 non-null  float64\n",
      " 36  SrcRate     67306 non-null  float64\n",
      " 37  DstRate     67306 non-null  float64\n",
      " 38  TcpRtt      67306 non-null  float64\n",
      " 39  SynAck      67306 non-null  float64\n",
      " 40  AckDat      67306 non-null  float64\n",
      " 41  Offset      67306 non-null  int64  \n",
      " 42  sMeanPktSz  67306 non-null  float64\n",
      " 43  dMeanPktSz  67306 non-null  float64\n",
      " 44  sMaxPktSz   67294 non-null  float64\n",
      " 45  dMaxPktSz   67306 non-null  float64\n",
      " 46  sMinPktSz   67294 non-null  float64\n",
      " 47  dMinPktSz   67306 non-null  float64\n",
      " 48  Label       67306 non-null  object \n",
      "dtypes: float64(30), int64(16), object(3)\n",
      "memory usage: 25.7+ MB\n"
     ]
    }
   ],
   "source": [
    "df_botnet.info(verbose=True)"
   ]
  },
  {
   "cell_type": "code",
   "execution_count": 20,
   "metadata": {},
   "outputs": [],
   "source": [
    "df_botnet.Proto.replace({'tcp':6,'udp':17},inplace=True )"
   ]
  },
  {
   "cell_type": "code",
   "execution_count": 21,
   "metadata": {},
   "outputs": [
    {
     "data": {
      "text/plain": [
       "smtp     36722\n",
       "http     15362\n",
       "ircd      5215\n",
       "65500     4782\n",
       "3524      3977\n",
       "         ...  \n",
       "1730         1\n",
       "3125         1\n",
       "3749         1\n",
       "4138         1\n",
       "1053         1\n",
       "Name: Dport, Length: 297, dtype: int64"
      ]
     },
     "execution_count": 21,
     "metadata": {},
     "output_type": "execute_result"
    }
   ],
   "source": [
    "unique_ports = df_botnet.Dport.value_counts()\n",
    "df_botnet.Dport.value_counts()"
   ]
  },
  {
   "cell_type": "code",
   "execution_count": 22,
   "metadata": {},
   "outputs": [
    {
     "data": {
      "text/html": [
       "<div>\n",
       "<style scoped>\n",
       "    .dataframe tbody tr th:only-of-type {\n",
       "        vertical-align: middle;\n",
       "    }\n",
       "\n",
       "    .dataframe tbody tr th {\n",
       "        vertical-align: top;\n",
       "    }\n",
       "\n",
       "    .dataframe thead th {\n",
       "        text-align: right;\n",
       "    }\n",
       "</style>\n",
       "<table border=\"1\" class=\"dataframe\">\n",
       "  <thead>\n",
       "    <tr style=\"text-align: right;\">\n",
       "      <th></th>\n",
       "      <th>RunTime</th>\n",
       "      <th>Dur</th>\n",
       "      <th>SrcDur</th>\n",
       "      <th>DstDur</th>\n",
       "      <th>Mean</th>\n",
       "      <th>StdDev</th>\n",
       "      <th>Sum</th>\n",
       "      <th>Min</th>\n",
       "      <th>Max</th>\n",
       "      <th>Proto</th>\n",
       "      <th>...</th>\n",
       "      <th>SynAck</th>\n",
       "      <th>AckDat</th>\n",
       "      <th>Offset</th>\n",
       "      <th>sMeanPktSz</th>\n",
       "      <th>dMeanPktSz</th>\n",
       "      <th>sMaxPktSz</th>\n",
       "      <th>dMaxPktSz</th>\n",
       "      <th>sMinPktSz</th>\n",
       "      <th>dMinPktSz</th>\n",
       "      <th>Label</th>\n",
       "    </tr>\n",
       "  </thead>\n",
       "  <tbody>\n",
       "    <tr>\n",
       "      <th>4</th>\n",
       "      <td>13.535881</td>\n",
       "      <td>13.535881</td>\n",
       "      <td>12.994674</td>\n",
       "      <td>10.016264</td>\n",
       "      <td>13.535881</td>\n",
       "      <td>0.0</td>\n",
       "      <td>13.535881</td>\n",
       "      <td>13.535881</td>\n",
       "      <td>13.535881</td>\n",
       "      <td>6</td>\n",
       "      <td>...</td>\n",
       "      <td>0.611636</td>\n",
       "      <td>0.000260</td>\n",
       "      <td>4960</td>\n",
       "      <td>65.400002</td>\n",
       "      <td>1197.242432</td>\n",
       "      <td>139.0</td>\n",
       "      <td>3126.0</td>\n",
       "      <td>60.0</td>\n",
       "      <td>60.0</td>\n",
       "      <td>Botnet</td>\n",
       "    </tr>\n",
       "    <tr>\n",
       "      <th>6</th>\n",
       "      <td>7.151880</td>\n",
       "      <td>7.151880</td>\n",
       "      <td>6.576822</td>\n",
       "      <td>6.568789</td>\n",
       "      <td>7.151880</td>\n",
       "      <td>0.0</td>\n",
       "      <td>7.151880</td>\n",
       "      <td>7.151880</td>\n",
       "      <td>7.151880</td>\n",
       "      <td>6</td>\n",
       "      <td>...</td>\n",
       "      <td>0.583086</td>\n",
       "      <td>0.000288</td>\n",
       "      <td>9788</td>\n",
       "      <td>70.000000</td>\n",
       "      <td>1477.761963</td>\n",
       "      <td>238.0</td>\n",
       "      <td>2798.0</td>\n",
       "      <td>60.0</td>\n",
       "      <td>60.0</td>\n",
       "      <td>Botnet</td>\n",
       "    </tr>\n",
       "    <tr>\n",
       "      <th>7</th>\n",
       "      <td>9.560683</td>\n",
       "      <td>9.560683</td>\n",
       "      <td>9.243385</td>\n",
       "      <td>6.307532</td>\n",
       "      <td>9.560683</td>\n",
       "      <td>0.0</td>\n",
       "      <td>9.560683</td>\n",
       "      <td>9.560683</td>\n",
       "      <td>9.560683</td>\n",
       "      <td>6</td>\n",
       "      <td>...</td>\n",
       "      <td>0.318434</td>\n",
       "      <td>0.000315</td>\n",
       "      <td>11644</td>\n",
       "      <td>87.199997</td>\n",
       "      <td>61.000000</td>\n",
       "      <td>178.0</td>\n",
       "      <td>62.0</td>\n",
       "      <td>60.0</td>\n",
       "      <td>60.0</td>\n",
       "      <td>Botnet</td>\n",
       "    </tr>\n",
       "    <tr>\n",
       "      <th>8</th>\n",
       "      <td>19.734198</td>\n",
       "      <td>19.734198</td>\n",
       "      <td>19.734198</td>\n",
       "      <td>16.227039</td>\n",
       "      <td>19.734198</td>\n",
       "      <td>0.0</td>\n",
       "      <td>19.734198</td>\n",
       "      <td>19.734198</td>\n",
       "      <td>19.734198</td>\n",
       "      <td>6</td>\n",
       "      <td>...</td>\n",
       "      <td>0.556698</td>\n",
       "      <td>0.000248</td>\n",
       "      <td>13184</td>\n",
       "      <td>65.411766</td>\n",
       "      <td>1155.099976</td>\n",
       "      <td>240.0</td>\n",
       "      <td>2102.0</td>\n",
       "      <td>60.0</td>\n",
       "      <td>60.0</td>\n",
       "      <td>Botnet</td>\n",
       "    </tr>\n",
       "    <tr>\n",
       "      <th>19</th>\n",
       "      <td>19.781158</td>\n",
       "      <td>19.781158</td>\n",
       "      <td>19.780684</td>\n",
       "      <td>19.780895</td>\n",
       "      <td>19.781158</td>\n",
       "      <td>0.0</td>\n",
       "      <td>19.781158</td>\n",
       "      <td>19.781158</td>\n",
       "      <td>19.781158</td>\n",
       "      <td>6</td>\n",
       "      <td>...</td>\n",
       "      <td>0.556698</td>\n",
       "      <td>0.000248</td>\n",
       "      <td>16544</td>\n",
       "      <td>60.000000</td>\n",
       "      <td>1225.911133</td>\n",
       "      <td>60.0</td>\n",
       "      <td>3126.0</td>\n",
       "      <td>60.0</td>\n",
       "      <td>1078.0</td>\n",
       "      <td>Botnet</td>\n",
       "    </tr>\n",
       "    <tr>\n",
       "      <th>...</th>\n",
       "      <td>...</td>\n",
       "      <td>...</td>\n",
       "      <td>...</td>\n",
       "      <td>...</td>\n",
       "      <td>...</td>\n",
       "      <td>...</td>\n",
       "      <td>...</td>\n",
       "      <td>...</td>\n",
       "      <td>...</td>\n",
       "      <td>...</td>\n",
       "      <td>...</td>\n",
       "      <td>...</td>\n",
       "      <td>...</td>\n",
       "      <td>...</td>\n",
       "      <td>...</td>\n",
       "      <td>...</td>\n",
       "      <td>...</td>\n",
       "      <td>...</td>\n",
       "      <td>...</td>\n",
       "      <td>...</td>\n",
       "      <td>...</td>\n",
       "    </tr>\n",
       "    <tr>\n",
       "      <th>74134</th>\n",
       "      <td>9.012573</td>\n",
       "      <td>9.012573</td>\n",
       "      <td>9.012573</td>\n",
       "      <td>0.000000</td>\n",
       "      <td>9.012573</td>\n",
       "      <td>0.0</td>\n",
       "      <td>9.012573</td>\n",
       "      <td>9.012573</td>\n",
       "      <td>9.012573</td>\n",
       "      <td>6</td>\n",
       "      <td>...</td>\n",
       "      <td>0.000000</td>\n",
       "      <td>0.000000</td>\n",
       "      <td>42492864</td>\n",
       "      <td>62.000000</td>\n",
       "      <td>0.000000</td>\n",
       "      <td>62.0</td>\n",
       "      <td>0.0</td>\n",
       "      <td>62.0</td>\n",
       "      <td>0.0</td>\n",
       "      <td>Botnet</td>\n",
       "    </tr>\n",
       "    <tr>\n",
       "      <th>74135</th>\n",
       "      <td>9.013066</td>\n",
       "      <td>9.013066</td>\n",
       "      <td>9.013066</td>\n",
       "      <td>0.000000</td>\n",
       "      <td>9.013066</td>\n",
       "      <td>0.0</td>\n",
       "      <td>9.013066</td>\n",
       "      <td>9.013066</td>\n",
       "      <td>9.013066</td>\n",
       "      <td>6</td>\n",
       "      <td>...</td>\n",
       "      <td>0.000000</td>\n",
       "      <td>0.000000</td>\n",
       "      <td>42495972</td>\n",
       "      <td>62.000000</td>\n",
       "      <td>0.000000</td>\n",
       "      <td>62.0</td>\n",
       "      <td>0.0</td>\n",
       "      <td>62.0</td>\n",
       "      <td>0.0</td>\n",
       "      <td>Botnet</td>\n",
       "    </tr>\n",
       "    <tr>\n",
       "      <th>74136</th>\n",
       "      <td>3.004674</td>\n",
       "      <td>3.004674</td>\n",
       "      <td>3.004674</td>\n",
       "      <td>0.000000</td>\n",
       "      <td>3.004674</td>\n",
       "      <td>0.0</td>\n",
       "      <td>3.004674</td>\n",
       "      <td>3.004674</td>\n",
       "      <td>3.004674</td>\n",
       "      <td>6</td>\n",
       "      <td>...</td>\n",
       "      <td>0.000000</td>\n",
       "      <td>0.000000</td>\n",
       "      <td>42497132</td>\n",
       "      <td>62.000000</td>\n",
       "      <td>0.000000</td>\n",
       "      <td>62.0</td>\n",
       "      <td>0.0</td>\n",
       "      <td>62.0</td>\n",
       "      <td>0.0</td>\n",
       "      <td>Botnet</td>\n",
       "    </tr>\n",
       "    <tr>\n",
       "      <th>74138</th>\n",
       "      <td>3.004579</td>\n",
       "      <td>3.004579</td>\n",
       "      <td>3.004579</td>\n",
       "      <td>0.000000</td>\n",
       "      <td>3.004579</td>\n",
       "      <td>0.0</td>\n",
       "      <td>3.004579</td>\n",
       "      <td>3.004579</td>\n",
       "      <td>3.004579</td>\n",
       "      <td>6</td>\n",
       "      <td>...</td>\n",
       "      <td>0.000000</td>\n",
       "      <td>0.000000</td>\n",
       "      <td>42498156</td>\n",
       "      <td>62.000000</td>\n",
       "      <td>0.000000</td>\n",
       "      <td>62.0</td>\n",
       "      <td>0.0</td>\n",
       "      <td>62.0</td>\n",
       "      <td>0.0</td>\n",
       "      <td>Botnet</td>\n",
       "    </tr>\n",
       "    <tr>\n",
       "      <th>74140</th>\n",
       "      <td>19.143789</td>\n",
       "      <td>19.143789</td>\n",
       "      <td>0.000000</td>\n",
       "      <td>19.143789</td>\n",
       "      <td>19.143789</td>\n",
       "      <td>0.0</td>\n",
       "      <td>19.143789</td>\n",
       "      <td>19.143789</td>\n",
       "      <td>19.143789</td>\n",
       "      <td>6</td>\n",
       "      <td>...</td>\n",
       "      <td>0.051655</td>\n",
       "      <td>0.000377</td>\n",
       "      <td>42502812</td>\n",
       "      <td>0.000000</td>\n",
       "      <td>60.000000</td>\n",
       "      <td>NaN</td>\n",
       "      <td>60.0</td>\n",
       "      <td>NaN</td>\n",
       "      <td>60.0</td>\n",
       "      <td>Botnet</td>\n",
       "    </tr>\n",
       "  </tbody>\n",
       "</table>\n",
       "<p>62974 rows × 49 columns</p>\n",
       "</div>"
      ],
      "text/plain": [
       "         RunTime        Dur     SrcDur     DstDur       Mean  StdDev  \\\n",
       "4      13.535881  13.535881  12.994674  10.016264  13.535881     0.0   \n",
       "6       7.151880   7.151880   6.576822   6.568789   7.151880     0.0   \n",
       "7       9.560683   9.560683   9.243385   6.307532   9.560683     0.0   \n",
       "8      19.734198  19.734198  19.734198  16.227039  19.734198     0.0   \n",
       "19     19.781158  19.781158  19.780684  19.780895  19.781158     0.0   \n",
       "...          ...        ...        ...        ...        ...     ...   \n",
       "74134   9.012573   9.012573   9.012573   0.000000   9.012573     0.0   \n",
       "74135   9.013066   9.013066   9.013066   0.000000   9.013066     0.0   \n",
       "74136   3.004674   3.004674   3.004674   0.000000   3.004674     0.0   \n",
       "74138   3.004579   3.004579   3.004579   0.000000   3.004579     0.0   \n",
       "74140  19.143789  19.143789   0.000000  19.143789  19.143789     0.0   \n",
       "\n",
       "             Sum        Min        Max  Proto  ...    SynAck    AckDat  \\\n",
       "4      13.535881  13.535881  13.535881      6  ...  0.611636  0.000260   \n",
       "6       7.151880   7.151880   7.151880      6  ...  0.583086  0.000288   \n",
       "7       9.560683   9.560683   9.560683      6  ...  0.318434  0.000315   \n",
       "8      19.734198  19.734198  19.734198      6  ...  0.556698  0.000248   \n",
       "19     19.781158  19.781158  19.781158      6  ...  0.556698  0.000248   \n",
       "...          ...        ...        ...    ...  ...       ...       ...   \n",
       "74134   9.012573   9.012573   9.012573      6  ...  0.000000  0.000000   \n",
       "74135   9.013066   9.013066   9.013066      6  ...  0.000000  0.000000   \n",
       "74136   3.004674   3.004674   3.004674      6  ...  0.000000  0.000000   \n",
       "74138   3.004579   3.004579   3.004579      6  ...  0.000000  0.000000   \n",
       "74140  19.143789  19.143789  19.143789      6  ...  0.051655  0.000377   \n",
       "\n",
       "         Offset  sMeanPktSz   dMeanPktSz  sMaxPktSz  dMaxPktSz  sMinPktSz  \\\n",
       "4          4960   65.400002  1197.242432      139.0     3126.0       60.0   \n",
       "6          9788   70.000000  1477.761963      238.0     2798.0       60.0   \n",
       "7         11644   87.199997    61.000000      178.0       62.0       60.0   \n",
       "8         13184   65.411766  1155.099976      240.0     2102.0       60.0   \n",
       "19        16544   60.000000  1225.911133       60.0     3126.0       60.0   \n",
       "...         ...         ...          ...        ...        ...        ...   \n",
       "74134  42492864   62.000000     0.000000       62.0        0.0       62.0   \n",
       "74135  42495972   62.000000     0.000000       62.0        0.0       62.0   \n",
       "74136  42497132   62.000000     0.000000       62.0        0.0       62.0   \n",
       "74138  42498156   62.000000     0.000000       62.0        0.0       62.0   \n",
       "74140  42502812    0.000000    60.000000        NaN       60.0        NaN   \n",
       "\n",
       "       dMinPktSz   Label  \n",
       "4           60.0  Botnet  \n",
       "6           60.0  Botnet  \n",
       "7           60.0  Botnet  \n",
       "8           60.0  Botnet  \n",
       "19        1078.0  Botnet  \n",
       "...          ...     ...  \n",
       "74134        0.0  Botnet  \n",
       "74135        0.0  Botnet  \n",
       "74136        0.0  Botnet  \n",
       "74138        0.0  Botnet  \n",
       "74140       60.0  Botnet  \n",
       "\n",
       "[62974 rows x 49 columns]"
      ]
     },
     "execution_count": 22,
     "metadata": {},
     "output_type": "execute_result"
    }
   ],
   "source": [
    "df_botnet[(df_botnet.Dport=='smtp')  | (df_botnet.Dport=='http')\n",
    "| (df_botnet.Dport=='65500') | (df_botnet.Dport=='3524') | (df_botnet.Dport=='domain')\n",
    "| (df_botnet.Dport=='https')]"
   ]
  },
  {
   "cell_type": "code",
   "execution_count": 23,
   "metadata": {},
   "outputs": [],
   "source": [
    "df_botnet = df_botnet[(df_botnet.Dport=='smtp') | (df_botnet.Dport=='http')\n",
    "| (df_botnet.Dport=='65500') | (df_botnet.Dport=='3524') | (df_botnet.Dport=='domain')\n",
    "| (df_botnet.Dport=='https')]"
   ]
  },
  {
   "cell_type": "code",
   "execution_count": 24,
   "metadata": {},
   "outputs": [],
   "source": [
    "df_botnet.Dport.replace({'domain':53, 'http':80, 'https':443, 'smtp':25},inplace=True )"
   ]
  },
  {
   "cell_type": "code",
   "execution_count": 25,
   "metadata": {},
   "outputs": [
    {
     "data": {
      "text/plain": [
       "25       36722\n",
       "80       15362\n",
       "65500     4782\n",
       "3524      3977\n",
       "53        1135\n",
       "443        996\n",
       "Name: Dport, dtype: int64"
      ]
     },
     "execution_count": 25,
     "metadata": {},
     "output_type": "execute_result"
    }
   ],
   "source": [
    "df_botnet.Dport.value_counts()"
   ]
  },
  {
   "cell_type": "code",
   "execution_count": 26,
   "metadata": {},
   "outputs": [],
   "source": [
    "\"\"\"cambiar el tipo de dato a las columnas convertidas en datos numericos\"\"\"\n",
    "df_botnet['Dport'] = df_botnet['Dport'].astype('int32')\n",
    "df_botnet['Proto'] = df_botnet['Proto'].astype('int32')"
   ]
  },
  {
   "cell_type": "code",
   "execution_count": 27,
   "metadata": {},
   "outputs": [],
   "source": [
    "binning_ports= np.array(df_botnet['Dport'])\n",
    "binning_ports\n",
    "\"\"\"binning de puertos\"\"\"\n",
    "binning_ports = pd.cut(binning_ports, bins=[0, 1023, 49151, 65535], \n",
    "                    labels=[\"aportSystem\",\"bportUser\",\"cportDynamic\"],\n",
    "                    include_lowest=True,\n",
    "                    retbins=True\n",
    "                )\n",
    "\n",
    "\"\"\"creo un df con el binning de puertos\"\"\"\n",
    "df_ports = pd.DataFrame({'dstPort':np.array(binning_ports[0])})\n",
    "\"\"\"creo un df obteniendo los protocolos\"\"\"\n",
    "df_protos = pd.DataFrame({'Protoc':np.array(df_botnet['Proto'])})"
   ]
  },
  {
   "attachments": {},
   "cell_type": "markdown",
   "metadata": {},
   "source": [
    "### **Protocolos**"
   ]
  },
  {
   "cell_type": "code",
   "execution_count": 28,
   "metadata": {},
   "outputs": [
    {
     "data": {
      "text/plain": [
       "array(['one_hot_encoder__Protoc_6', 'one_hot_encoder__Protoc_17'],\n",
       "      dtype=object)"
      ]
     },
     "execution_count": 28,
     "metadata": {},
     "output_type": "execute_result"
    }
   ],
   "source": [
    "\"\"\"codificar protocolo\"\"\"\n",
    "codificador= ColumnTransformer(\n",
    "    [('one_hot_encoder', OneHotEncoder(categories='auto'), ['Protoc'])],\n",
    "    remainder='passthrough'\n",
    "    )\n",
    "\"\"\"codificar puertos segun el rango\"\"\"\n",
    "arr_protos = np.array(codificador.fit_transform(df_protos), dtype=int)\n",
    "\n",
    "codificador.get_feature_names_out()"
   ]
  },
  {
   "cell_type": "code",
   "execution_count": 29,
   "metadata": {},
   "outputs": [],
   "source": [
    "df_protos = pd.DataFrame(arr_protos, columns= ['protoTcp', 'protoUdp'])"
   ]
  },
  {
   "attachments": {},
   "cell_type": "markdown",
   "metadata": {},
   "source": [
    "### **Puertos**"
   ]
  },
  {
   "cell_type": "code",
   "execution_count": 30,
   "metadata": {},
   "outputs": [],
   "source": [
    "\"\"\"codificar puertos\"\"\"\n",
    "codificadorports= ColumnTransformer(\n",
    "    [('one_hot_encoder', OneHotEncoder(categories='auto'), ['dstPort'])],\n",
    "    remainder='passthrough'\n",
    "    )\n",
    "\"\"\"codificar puertos segun el rango\"\"\"\n",
    "arr_ports = np.array(codificadorports.fit_transform(df_ports), dtype=int)\n",
    "codificadorports.get_feature_names_out()\n",
    "\n",
    "df_ports = pd.DataFrame(arr_ports, columns= ['portSystem','portUser','portDynamic'])"
   ]
  },
  {
   "cell_type": "code",
   "execution_count": 31,
   "metadata": {},
   "outputs": [],
   "source": [
    "\"\"\"eliminar variable categorica Dport\"\"\"\n",
    "df_botnet.drop(columns=['Dport','Proto'], axis=1, inplace=True)"
   ]
  },
  {
   "attachments": {},
   "cell_type": "markdown",
   "metadata": {},
   "source": [
    "### **Codificar Label como ordinal**"
   ]
  },
  {
   "cell_type": "code",
   "execution_count": 32,
   "metadata": {},
   "outputs": [],
   "source": [
    "df_botnet.Label.replace({'Botnet':4},inplace=True )"
   ]
  },
  {
   "cell_type": "code",
   "execution_count": 34,
   "metadata": {},
   "outputs": [],
   "source": [
    "df_botnet.drop(columns=['RunTime','Mean','StdDev','Sum','Min','Max','Retrans','SrcRetra','DstRetra',\n",
    "'pRetran','pSrcRetr','pDstRetr'], axis=1, inplace=True)"
   ]
  },
  {
   "cell_type": "code",
   "execution_count": 37,
   "metadata": {},
   "outputs": [
    {
     "name": "stdout",
     "output_type": "stream",
     "text": [
      "<class 'pandas.core.frame.DataFrame'>\n",
      "RangeIndex: 62974 entries, 0 to 62973\n",
      "Data columns (total 40 columns):\n",
      " #   Column       Non-Null Count  Dtype  \n",
      "---  ------       --------------  -----  \n",
      " 0   protoTcp     62974 non-null  int32  \n",
      " 1   protoUdp     62974 non-null  int32  \n",
      " 2   portSystem   62974 non-null  int32  \n",
      " 3   portUser     62974 non-null  int32  \n",
      " 4   portDynamic  62974 non-null  int32  \n",
      " 5   Dur          62974 non-null  float64\n",
      " 6   SrcDur       62974 non-null  float64\n",
      " 7   DstDur       62974 non-null  float64\n",
      " 8   TotPkts      62974 non-null  int64  \n",
      " 9   SrcPkts      62974 non-null  int64  \n",
      " 10  DstPkts      62974 non-null  int64  \n",
      " 11  TotBytes     62974 non-null  int64  \n",
      " 12  SrcBytes     62974 non-null  int64  \n",
      " 13  DstBytes     62974 non-null  int64  \n",
      " 14  TotAppByte   62974 non-null  int64  \n",
      " 15  SAppBytes    62974 non-null  int64  \n",
      " 16  DAppBytes    62974 non-null  int64  \n",
      " 17  Load         62974 non-null  float64\n",
      " 18  SrcLoad      62974 non-null  float64\n",
      " 19  DstLoad      62974 non-null  float64\n",
      " 20  Loss         62974 non-null  int64  \n",
      " 21  SrcLoss      62974 non-null  int64  \n",
      " 22  DstLoss      62974 non-null  int64  \n",
      " 23  pLoss        62974 non-null  float64\n",
      " 24  pSrcLoss     62974 non-null  float64\n",
      " 25  pDstLoss     62974 non-null  float64\n",
      " 26  Rate         62974 non-null  float64\n",
      " 27  SrcRate      62974 non-null  float64\n",
      " 28  DstRate      62974 non-null  float64\n",
      " 29  TcpRtt       62974 non-null  float64\n",
      " 30  SynAck       62974 non-null  float64\n",
      " 31  AckDat       62974 non-null  float64\n",
      " 32  Offset       62974 non-null  int64  \n",
      " 33  sMeanPktSz   62974 non-null  float64\n",
      " 34  dMeanPktSz   62974 non-null  float64\n",
      " 35  sMaxPktSz    62963 non-null  float64\n",
      " 36  dMaxPktSz    62974 non-null  float64\n",
      " 37  sMinPktSz    62963 non-null  float64\n",
      " 38  dMinPktSz    62974 non-null  float64\n",
      " 39  Label        62974 non-null  int64  \n",
      "dtypes: float64(21), int32(5), int64(14)\n",
      "memory usage: 18.0 MB\n"
     ]
    }
   ],
   "source": [
    "df_botnet.info(verbose=True)"
   ]
  },
  {
   "attachments": {},
   "cell_type": "markdown",
   "metadata": {},
   "source": [
    "### **Concatenar todas las caracteristicas en un solo dataset**"
   ]
  },
  {
   "cell_type": "code",
   "execution_count": 36,
   "metadata": {},
   "outputs": [],
   "source": [
    "df_protos=df_protos.reset_index(drop=True)\n",
    "df_ports=df_ports.reset_index(drop=True)\n",
    "df_botnet=df_botnet.reset_index(drop=True)\n",
    "\n",
    "df_botnet = pd.concat([df_protos, df_ports, df_botnet], axis=1)"
   ]
  },
  {
   "attachments": {},
   "cell_type": "markdown",
   "metadata": {},
   "source": [
    "## **Guardar Botnet  Categorizado**"
   ]
  },
  {
   "cell_type": "code",
   "execution_count": 38,
   "metadata": {},
   "outputs": [],
   "source": [
    "df_botnet.to_csv('../../araData/Z/BotnetCategorizado.csv',index=False)"
   ]
  },
  {
   "cell_type": "code",
   "execution_count": 39,
   "metadata": {},
   "outputs": [
    {
     "data": {
      "text/html": [
       "<div>\n",
       "<style scoped>\n",
       "    .dataframe tbody tr th:only-of-type {\n",
       "        vertical-align: middle;\n",
       "    }\n",
       "\n",
       "    .dataframe tbody tr th {\n",
       "        vertical-align: top;\n",
       "    }\n",
       "\n",
       "    .dataframe thead th {\n",
       "        text-align: right;\n",
       "    }\n",
       "</style>\n",
       "<table border=\"1\" class=\"dataframe\">\n",
       "  <thead>\n",
       "    <tr style=\"text-align: right;\">\n",
       "      <th></th>\n",
       "      <th>protoTcp</th>\n",
       "      <th>protoUdp</th>\n",
       "      <th>portSystem</th>\n",
       "      <th>portUser</th>\n",
       "      <th>portDynamic</th>\n",
       "      <th>Dur</th>\n",
       "      <th>SrcDur</th>\n",
       "      <th>DstDur</th>\n",
       "      <th>TotPkts</th>\n",
       "      <th>SrcPkts</th>\n",
       "      <th>...</th>\n",
       "      <th>SynAck</th>\n",
       "      <th>AckDat</th>\n",
       "      <th>Offset</th>\n",
       "      <th>sMeanPktSz</th>\n",
       "      <th>dMeanPktSz</th>\n",
       "      <th>sMaxPktSz</th>\n",
       "      <th>dMaxPktSz</th>\n",
       "      <th>sMinPktSz</th>\n",
       "      <th>dMinPktSz</th>\n",
       "      <th>Label</th>\n",
       "    </tr>\n",
       "  </thead>\n",
       "  <tbody>\n",
       "    <tr>\n",
       "      <th>0</th>\n",
       "      <td>1</td>\n",
       "      <td>0</td>\n",
       "      <td>1</td>\n",
       "      <td>0</td>\n",
       "      <td>0</td>\n",
       "      <td>13.535881</td>\n",
       "      <td>12.994674</td>\n",
       "      <td>10.016264</td>\n",
       "      <td>93</td>\n",
       "      <td>60</td>\n",
       "      <td>...</td>\n",
       "      <td>0.611636</td>\n",
       "      <td>0.000260</td>\n",
       "      <td>4960</td>\n",
       "      <td>65.400002</td>\n",
       "      <td>1197.242432</td>\n",
       "      <td>139.0</td>\n",
       "      <td>3126.0</td>\n",
       "      <td>60.0</td>\n",
       "      <td>60.0</td>\n",
       "      <td>4</td>\n",
       "    </tr>\n",
       "    <tr>\n",
       "      <th>1</th>\n",
       "      <td>1</td>\n",
       "      <td>0</td>\n",
       "      <td>1</td>\n",
       "      <td>0</td>\n",
       "      <td>0</td>\n",
       "      <td>7.151880</td>\n",
       "      <td>6.576822</td>\n",
       "      <td>6.568789</td>\n",
       "      <td>57</td>\n",
       "      <td>36</td>\n",
       "      <td>...</td>\n",
       "      <td>0.583086</td>\n",
       "      <td>0.000288</td>\n",
       "      <td>9788</td>\n",
       "      <td>70.000000</td>\n",
       "      <td>1477.761963</td>\n",
       "      <td>238.0</td>\n",
       "      <td>2798.0</td>\n",
       "      <td>60.0</td>\n",
       "      <td>60.0</td>\n",
       "      <td>4</td>\n",
       "    </tr>\n",
       "    <tr>\n",
       "      <th>2</th>\n",
       "      <td>1</td>\n",
       "      <td>0</td>\n",
       "      <td>1</td>\n",
       "      <td>0</td>\n",
       "      <td>0</td>\n",
       "      <td>9.560683</td>\n",
       "      <td>9.243385</td>\n",
       "      <td>6.307532</td>\n",
       "      <td>12</td>\n",
       "      <td>10</td>\n",
       "      <td>...</td>\n",
       "      <td>0.318434</td>\n",
       "      <td>0.000315</td>\n",
       "      <td>11644</td>\n",
       "      <td>87.199997</td>\n",
       "      <td>61.000000</td>\n",
       "      <td>178.0</td>\n",
       "      <td>62.0</td>\n",
       "      <td>60.0</td>\n",
       "      <td>60.0</td>\n",
       "      <td>4</td>\n",
       "    </tr>\n",
       "    <tr>\n",
       "      <th>3</th>\n",
       "      <td>1</td>\n",
       "      <td>0</td>\n",
       "      <td>1</td>\n",
       "      <td>0</td>\n",
       "      <td>0</td>\n",
       "      <td>19.734198</td>\n",
       "      <td>19.734198</td>\n",
       "      <td>16.227039</td>\n",
       "      <td>108</td>\n",
       "      <td>68</td>\n",
       "      <td>...</td>\n",
       "      <td>0.556698</td>\n",
       "      <td>0.000248</td>\n",
       "      <td>13184</td>\n",
       "      <td>65.411766</td>\n",
       "      <td>1155.099976</td>\n",
       "      <td>240.0</td>\n",
       "      <td>2102.0</td>\n",
       "      <td>60.0</td>\n",
       "      <td>60.0</td>\n",
       "      <td>4</td>\n",
       "    </tr>\n",
       "    <tr>\n",
       "      <th>4</th>\n",
       "      <td>1</td>\n",
       "      <td>0</td>\n",
       "      <td>1</td>\n",
       "      <td>0</td>\n",
       "      <td>0</td>\n",
       "      <td>19.781158</td>\n",
       "      <td>19.780684</td>\n",
       "      <td>19.780895</td>\n",
       "      <td>238</td>\n",
       "      <td>148</td>\n",
       "      <td>...</td>\n",
       "      <td>0.556698</td>\n",
       "      <td>0.000248</td>\n",
       "      <td>16544</td>\n",
       "      <td>60.000000</td>\n",
       "      <td>1225.911133</td>\n",
       "      <td>60.0</td>\n",
       "      <td>3126.0</td>\n",
       "      <td>60.0</td>\n",
       "      <td>1078.0</td>\n",
       "      <td>4</td>\n",
       "    </tr>\n",
       "    <tr>\n",
       "      <th>...</th>\n",
       "      <td>...</td>\n",
       "      <td>...</td>\n",
       "      <td>...</td>\n",
       "      <td>...</td>\n",
       "      <td>...</td>\n",
       "      <td>...</td>\n",
       "      <td>...</td>\n",
       "      <td>...</td>\n",
       "      <td>...</td>\n",
       "      <td>...</td>\n",
       "      <td>...</td>\n",
       "      <td>...</td>\n",
       "      <td>...</td>\n",
       "      <td>...</td>\n",
       "      <td>...</td>\n",
       "      <td>...</td>\n",
       "      <td>...</td>\n",
       "      <td>...</td>\n",
       "      <td>...</td>\n",
       "      <td>...</td>\n",
       "      <td>...</td>\n",
       "    </tr>\n",
       "    <tr>\n",
       "      <th>62969</th>\n",
       "      <td>1</td>\n",
       "      <td>0</td>\n",
       "      <td>1</td>\n",
       "      <td>0</td>\n",
       "      <td>0</td>\n",
       "      <td>9.012573</td>\n",
       "      <td>9.012573</td>\n",
       "      <td>0.000000</td>\n",
       "      <td>6</td>\n",
       "      <td>6</td>\n",
       "      <td>...</td>\n",
       "      <td>0.000000</td>\n",
       "      <td>0.000000</td>\n",
       "      <td>42492864</td>\n",
       "      <td>62.000000</td>\n",
       "      <td>0.000000</td>\n",
       "      <td>62.0</td>\n",
       "      <td>0.0</td>\n",
       "      <td>62.0</td>\n",
       "      <td>0.0</td>\n",
       "      <td>4</td>\n",
       "    </tr>\n",
       "    <tr>\n",
       "      <th>62970</th>\n",
       "      <td>1</td>\n",
       "      <td>0</td>\n",
       "      <td>1</td>\n",
       "      <td>0</td>\n",
       "      <td>0</td>\n",
       "      <td>9.013066</td>\n",
       "      <td>9.013066</td>\n",
       "      <td>0.000000</td>\n",
       "      <td>6</td>\n",
       "      <td>6</td>\n",
       "      <td>...</td>\n",
       "      <td>0.000000</td>\n",
       "      <td>0.000000</td>\n",
       "      <td>42495972</td>\n",
       "      <td>62.000000</td>\n",
       "      <td>0.000000</td>\n",
       "      <td>62.0</td>\n",
       "      <td>0.0</td>\n",
       "      <td>62.0</td>\n",
       "      <td>0.0</td>\n",
       "      <td>4</td>\n",
       "    </tr>\n",
       "    <tr>\n",
       "      <th>62971</th>\n",
       "      <td>1</td>\n",
       "      <td>0</td>\n",
       "      <td>1</td>\n",
       "      <td>0</td>\n",
       "      <td>0</td>\n",
       "      <td>3.004674</td>\n",
       "      <td>3.004674</td>\n",
       "      <td>0.000000</td>\n",
       "      <td>4</td>\n",
       "      <td>4</td>\n",
       "      <td>...</td>\n",
       "      <td>0.000000</td>\n",
       "      <td>0.000000</td>\n",
       "      <td>42497132</td>\n",
       "      <td>62.000000</td>\n",
       "      <td>0.000000</td>\n",
       "      <td>62.0</td>\n",
       "      <td>0.0</td>\n",
       "      <td>62.0</td>\n",
       "      <td>0.0</td>\n",
       "      <td>4</td>\n",
       "    </tr>\n",
       "    <tr>\n",
       "      <th>62972</th>\n",
       "      <td>1</td>\n",
       "      <td>0</td>\n",
       "      <td>1</td>\n",
       "      <td>0</td>\n",
       "      <td>0</td>\n",
       "      <td>3.004579</td>\n",
       "      <td>3.004579</td>\n",
       "      <td>0.000000</td>\n",
       "      <td>4</td>\n",
       "      <td>4</td>\n",
       "      <td>...</td>\n",
       "      <td>0.000000</td>\n",
       "      <td>0.000000</td>\n",
       "      <td>42498156</td>\n",
       "      <td>62.000000</td>\n",
       "      <td>0.000000</td>\n",
       "      <td>62.0</td>\n",
       "      <td>0.0</td>\n",
       "      <td>62.0</td>\n",
       "      <td>0.0</td>\n",
       "      <td>4</td>\n",
       "    </tr>\n",
       "    <tr>\n",
       "      <th>62973</th>\n",
       "      <td>1</td>\n",
       "      <td>0</td>\n",
       "      <td>1</td>\n",
       "      <td>0</td>\n",
       "      <td>0</td>\n",
       "      <td>19.143789</td>\n",
       "      <td>0.000000</td>\n",
       "      <td>19.143789</td>\n",
       "      <td>2</td>\n",
       "      <td>0</td>\n",
       "      <td>...</td>\n",
       "      <td>0.051655</td>\n",
       "      <td>0.000377</td>\n",
       "      <td>42502812</td>\n",
       "      <td>0.000000</td>\n",
       "      <td>60.000000</td>\n",
       "      <td>NaN</td>\n",
       "      <td>60.0</td>\n",
       "      <td>NaN</td>\n",
       "      <td>60.0</td>\n",
       "      <td>4</td>\n",
       "    </tr>\n",
       "  </tbody>\n",
       "</table>\n",
       "<p>62974 rows × 40 columns</p>\n",
       "</div>"
      ],
      "text/plain": [
       "       protoTcp  protoUdp  portSystem  portUser  portDynamic        Dur  \\\n",
       "0             1         0           1         0            0  13.535881   \n",
       "1             1         0           1         0            0   7.151880   \n",
       "2             1         0           1         0            0   9.560683   \n",
       "3             1         0           1         0            0  19.734198   \n",
       "4             1         0           1         0            0  19.781158   \n",
       "...         ...       ...         ...       ...          ...        ...   \n",
       "62969         1         0           1         0            0   9.012573   \n",
       "62970         1         0           1         0            0   9.013066   \n",
       "62971         1         0           1         0            0   3.004674   \n",
       "62972         1         0           1         0            0   3.004579   \n",
       "62973         1         0           1         0            0  19.143789   \n",
       "\n",
       "          SrcDur     DstDur  TotPkts  SrcPkts  ...    SynAck    AckDat  \\\n",
       "0      12.994674  10.016264       93       60  ...  0.611636  0.000260   \n",
       "1       6.576822   6.568789       57       36  ...  0.583086  0.000288   \n",
       "2       9.243385   6.307532       12       10  ...  0.318434  0.000315   \n",
       "3      19.734198  16.227039      108       68  ...  0.556698  0.000248   \n",
       "4      19.780684  19.780895      238      148  ...  0.556698  0.000248   \n",
       "...          ...        ...      ...      ...  ...       ...       ...   \n",
       "62969   9.012573   0.000000        6        6  ...  0.000000  0.000000   \n",
       "62970   9.013066   0.000000        6        6  ...  0.000000  0.000000   \n",
       "62971   3.004674   0.000000        4        4  ...  0.000000  0.000000   \n",
       "62972   3.004579   0.000000        4        4  ...  0.000000  0.000000   \n",
       "62973   0.000000  19.143789        2        0  ...  0.051655  0.000377   \n",
       "\n",
       "         Offset  sMeanPktSz   dMeanPktSz  sMaxPktSz  dMaxPktSz  sMinPktSz  \\\n",
       "0          4960   65.400002  1197.242432      139.0     3126.0       60.0   \n",
       "1          9788   70.000000  1477.761963      238.0     2798.0       60.0   \n",
       "2         11644   87.199997    61.000000      178.0       62.0       60.0   \n",
       "3         13184   65.411766  1155.099976      240.0     2102.0       60.0   \n",
       "4         16544   60.000000  1225.911133       60.0     3126.0       60.0   \n",
       "...         ...         ...          ...        ...        ...        ...   \n",
       "62969  42492864   62.000000     0.000000       62.0        0.0       62.0   \n",
       "62970  42495972   62.000000     0.000000       62.0        0.0       62.0   \n",
       "62971  42497132   62.000000     0.000000       62.0        0.0       62.0   \n",
       "62972  42498156   62.000000     0.000000       62.0        0.0       62.0   \n",
       "62973  42502812    0.000000    60.000000        NaN       60.0        NaN   \n",
       "\n",
       "       dMinPktSz  Label  \n",
       "0           60.0      4  \n",
       "1           60.0      4  \n",
       "2           60.0      4  \n",
       "3           60.0      4  \n",
       "4         1078.0      4  \n",
       "...          ...    ...  \n",
       "62969        0.0      4  \n",
       "62970        0.0      4  \n",
       "62971        0.0      4  \n",
       "62972        0.0      4  \n",
       "62973       60.0      4  \n",
       "\n",
       "[62974 rows x 40 columns]"
      ]
     },
     "execution_count": 39,
     "metadata": {},
     "output_type": "execute_result"
    }
   ],
   "source": [
    "df_botnet"
   ]
  }
 ],
 "metadata": {
  "kernelspec": {
   "display_name": "Python 3",
   "language": "python",
   "name": "python3"
  },
  "language_info": {
   "codemirror_mode": {
    "name": "ipython",
    "version": 3
   },
   "file_extension": ".py",
   "mimetype": "text/x-python",
   "name": "python",
   "nbconvert_exporter": "python",
   "pygments_lexer": "ipython3",
   "version": "3.8.10"
  },
  "orig_nbformat": 4,
  "vscode": {
   "interpreter": {
    "hash": "5c3d121086e35f129a20ca7f553230286826dfcc08161000ccf738c6df1a7518"
   }
  }
 },
 "nbformat": 4,
 "nbformat_minor": 2
}
