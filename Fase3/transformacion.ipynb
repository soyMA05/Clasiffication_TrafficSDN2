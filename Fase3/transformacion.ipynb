{
 "cells": [
  {
   "attachments": {},
   "cell_type": "markdown",
   "metadata": {},
   "source": [
    "# 3. Transformacion de datos"
   ]
  },
  {
   "cell_type": "code",
   "execution_count": 1,
   "metadata": {},
   "outputs": [],
   "source": [
    "import pandas as pd\n",
    "import numpy as np\n",
    "\"\"\"graficas\"\"\"\n",
    "import matplotlib.pyplot as plt\n",
    "import seaborn as sns\n",
    "\"\"\"transformaciones a las columnas de una matriz de datos\"\"\"\n",
    "from sklearn.compose import ColumnTransformer \n",
    "from sklearn.preprocessing import LabelEncoder, OneHotEncoder\n",
    "from sklearn.decomposition import PCA\n",
    "from sklearn.ensemble import ExtraTreesClassifier"
   ]
  },
  {
   "attachments": {},
   "cell_type": "markdown",
   "metadata": {},
   "source": [
    "## 3.1 Analizar muestras"
   ]
  },
  {
   "cell_type": "code",
   "execution_count": 2,
   "metadata": {},
   "outputs": [],
   "source": [
    "\"\"\"importar datos\"\"\"\n",
    "df_normal = pd.read_csv('../../araData/Z/normal_2cat.csv',low_memory=False)\n",
    "df_dos = pd.read_csv('../../araData/Z/dos_2cat.csv',low_memory=False)\n",
    "df_probe = pd.read_csv('../../araData/Z/probe_2cat.csv',low_memory=False)"
   ]
  },
  {
   "cell_type": "code",
   "execution_count": 3,
   "metadata": {},
   "outputs": [
    {
     "data": {
      "text/plain": [
       "'sumar clases'"
      ]
     },
     "execution_count": 3,
     "metadata": {},
     "output_type": "execute_result"
    }
   ],
   "source": [
    "\"\"\"concatenar datos\"\"\"\n",
    "df_traffic = pd.concat([df_dos, df_normal, df_probe], axis=0)\n",
    "\"\"\"sumar clases\"\"\"\n",
    "cantidad = df_traffic['Label'].value_counts().rename_axis('Trafico').reset_index(name='Flujos')"
   ]
  },
  {
   "cell_type": "code",
   "execution_count": 12,
   "metadata": {},
   "outputs": [
    {
     "data": {
      "image/png": "[encoded data removed]",
      "text/plain": [
       "<Figure size 640x480 with 1 Axes>"
      ]
     },
     "metadata": {},
     "output_type": "display_data"
    }
   ],
   "source": [
    "ax = sns.barplot(x='Trafico', y='Flujos', data=cantidad)\n",
    "ax.bar_label(ax.containers[0])\n",
    "plt.savefig('cantidad_clasestrafico.png')\n"
   ]
  },
  {
   "cell_type": "code",
   "execution_count": null,
   "metadata": {},
   "outputs": [],
   "source": [
    "df_traffic.loc[:, df_traffic.dtypes == 'object'] = df_traffic.select_dtypes(['object']).apply(lambda x: x.astype('category'))"
   ]
  },
  {
   "cell_type": "code",
   "execution_count": 5,
   "metadata": {},
   "outputs": [
    {
     "name": "stdout",
     "output_type": "stream",
     "text": [
      "<class 'pandas.core.frame.DataFrame'>\n",
      "Int64Index: 169631 entries, 0 to 41060\n",
      "Data columns (total 49 columns):\n",
      " #   Column      Non-Null Count   Dtype   \n",
      "---  ------      --------------   -----   \n",
      " 0   RunTime     169631 non-null  float64 \n",
      " 1   Dur         169631 non-null  float64 \n",
      " 2   SrcDur      169631 non-null  float64 \n",
      " 3   DstDur      169631 non-null  float64 \n",
      " 4   Mean        169631 non-null  float64 \n",
      " 5   StdDev      169631 non-null  float64 \n",
      " 6   Sum         169631 non-null  float64 \n",
      " 7   Min         169631 non-null  float64 \n",
      " 8   Max         169631 non-null  float64 \n",
      " 9   Proto       169631 non-null  category\n",
      " 10  Dport       169631 non-null  int64   \n",
      " 11  TotPkts     169631 non-null  int64   \n",
      " 12  SrcPkts     169631 non-null  int64   \n",
      " 13  DstPkts     169631 non-null  int64   \n",
      " 14  TotBytes    169631 non-null  int64   \n",
      " 15  SrcBytes    169631 non-null  int64   \n",
      " 16  DstBytes    169631 non-null  int64   \n",
      " 17  TotAppByte  169631 non-null  int64   \n",
      " 18  SAppBytes   169631 non-null  int64   \n",
      " 19  DAppBytes   169631 non-null  int64   \n",
      " 20  Load        169631 non-null  float64 \n",
      " 21  SrcLoad     169631 non-null  float64 \n",
      " 22  DstLoad     169631 non-null  float64 \n",
      " 23  Loss        169631 non-null  int64   \n",
      " 24  SrcLoss     169631 non-null  int64   \n",
      " 25  DstLoss     169631 non-null  int64   \n",
      " 26  pLoss       169631 non-null  float64 \n",
      " 27  pSrcLoss    169631 non-null  float64 \n",
      " 28  pDstLoss    169631 non-null  float64 \n",
      " 29  Retrans     169631 non-null  int64   \n",
      " 30  SrcRetra    169631 non-null  int64   \n",
      " 31  DstRetra    169631 non-null  int64   \n",
      " 32  pRetran     169631 non-null  float64 \n",
      " 33  pSrcRetr    169631 non-null  float64 \n",
      " 34  pDstRetr    169631 non-null  float64 \n",
      " 35  Rate        169631 non-null  float64 \n",
      " 36  SrcRate     169631 non-null  float64 \n",
      " 37  DstRate     169631 non-null  float64 \n",
      " 38  TcpRtt      169631 non-null  float64 \n",
      " 39  SynAck      169631 non-null  float64 \n",
      " 40  AckDat      169631 non-null  float64 \n",
      " 41  Offset      169631 non-null  int64   \n",
      " 42  sMeanPktSz  169631 non-null  float64 \n",
      " 43  dMeanPktSz  169631 non-null  float64 \n",
      " 44  sMaxPktSz   169631 non-null  float64 \n",
      " 45  dMaxPktSz   169631 non-null  float64 \n",
      " 46  sMinPktSz   169631 non-null  float64 \n",
      " 47  dMinPktSz   169631 non-null  float64 \n",
      " 48  Label       169631 non-null  category\n",
      "dtypes: category(2), float64(30), int64(17)\n",
      "memory usage: 62.4 MB\n"
     ]
    }
   ],
   "source": [
    "df_traffic.info(verbose=True)"
   ]
  },
  {
   "cell_type": "code",
   "execution_count": 6,
   "metadata": {},
   "outputs": [
    {
     "data": {
      "text/html": [
       "<div>\n",
       "<style scoped>\n",
       "    .dataframe tbody tr th:only-of-type {\n",
       "        vertical-align: middle;\n",
       "    }\n",
       "\n",
       "    .dataframe tbody tr th {\n",
       "        vertical-align: top;\n",
       "    }\n",
       "\n",
       "    .dataframe thead th {\n",
       "        text-align: right;\n",
       "    }\n",
       "</style>\n",
       "<table border=\"1\" class=\"dataframe\">\n",
       "  <thead>\n",
       "    <tr style=\"text-align: right;\">\n",
       "      <th></th>\n",
       "      <th>RunTime</th>\n",
       "      <th>Dur</th>\n",
       "      <th>SrcDur</th>\n",
       "      <th>DstDur</th>\n",
       "      <th>Mean</th>\n",
       "      <th>StdDev</th>\n",
       "      <th>Sum</th>\n",
       "      <th>Min</th>\n",
       "      <th>Max</th>\n",
       "      <th>Dport</th>\n",
       "      <th>...</th>\n",
       "      <th>TcpRtt</th>\n",
       "      <th>SynAck</th>\n",
       "      <th>AckDat</th>\n",
       "      <th>Offset</th>\n",
       "      <th>sMeanPktSz</th>\n",
       "      <th>dMeanPktSz</th>\n",
       "      <th>sMaxPktSz</th>\n",
       "      <th>dMaxPktSz</th>\n",
       "      <th>sMinPktSz</th>\n",
       "      <th>dMinPktSz</th>\n",
       "    </tr>\n",
       "  </thead>\n",
       "  <tbody>\n",
       "    <tr>\n",
       "      <th>count</th>\n",
       "      <td>169631.000000</td>\n",
       "      <td>169631.000000</td>\n",
       "      <td>169631.000000</td>\n",
       "      <td>169631.000000</td>\n",
       "      <td>169631.000000</td>\n",
       "      <td>169631.0</td>\n",
       "      <td>169631.000000</td>\n",
       "      <td>169631.000000</td>\n",
       "      <td>169631.000000</td>\n",
       "      <td>169631.000000</td>\n",
       "      <td>...</td>\n",
       "      <td>169631.000000</td>\n",
       "      <td>169631.000000</td>\n",
       "      <td>169631.000000</td>\n",
       "      <td>1.696310e+05</td>\n",
       "      <td>169631.000000</td>\n",
       "      <td>169631.000000</td>\n",
       "      <td>169631.000000</td>\n",
       "      <td>169631.000000</td>\n",
       "      <td>169631.000000</td>\n",
       "      <td>169631.000000</td>\n",
       "    </tr>\n",
       "    <tr>\n",
       "      <th>mean</th>\n",
       "      <td>2.443665</td>\n",
       "      <td>2.443665</td>\n",
       "      <td>2.430197</td>\n",
       "      <td>2.145518</td>\n",
       "      <td>2.443665</td>\n",
       "      <td>0.0</td>\n",
       "      <td>2.443665</td>\n",
       "      <td>2.443665</td>\n",
       "      <td>2.443665</td>\n",
       "      <td>2830.834447</td>\n",
       "      <td>...</td>\n",
       "      <td>0.008346</td>\n",
       "      <td>0.004271</td>\n",
       "      <td>0.004075</td>\n",
       "      <td>2.413164e+06</td>\n",
       "      <td>126.283888</td>\n",
       "      <td>302.835647</td>\n",
       "      <td>441.761494</td>\n",
       "      <td>1043.655729</td>\n",
       "      <td>65.597249</td>\n",
       "      <td>139.448391</td>\n",
       "    </tr>\n",
       "    <tr>\n",
       "      <th>std</th>\n",
       "      <td>5.288742</td>\n",
       "      <td>5.288742</td>\n",
       "      <td>5.277424</td>\n",
       "      <td>5.163470</td>\n",
       "      <td>5.288742</td>\n",
       "      <td>0.0</td>\n",
       "      <td>5.288742</td>\n",
       "      <td>5.288742</td>\n",
       "      <td>5.288742</td>\n",
       "      <td>8439.065138</td>\n",
       "      <td>...</td>\n",
       "      <td>0.051548</td>\n",
       "      <td>0.049648</td>\n",
       "      <td>0.015051</td>\n",
       "      <td>2.411302e+06</td>\n",
       "      <td>191.045259</td>\n",
       "      <td>576.902879</td>\n",
       "      <td>1267.661879</td>\n",
       "      <td>4660.406138</td>\n",
       "      <td>16.281150</td>\n",
       "      <td>141.509002</td>\n",
       "    </tr>\n",
       "    <tr>\n",
       "      <th>min</th>\n",
       "      <td>0.000002</td>\n",
       "      <td>0.000002</td>\n",
       "      <td>0.000000</td>\n",
       "      <td>0.000000</td>\n",
       "      <td>0.000002</td>\n",
       "      <td>0.0</td>\n",
       "      <td>0.000002</td>\n",
       "      <td>0.000002</td>\n",
       "      <td>0.000002</td>\n",
       "      <td>1.000000</td>\n",
       "      <td>...</td>\n",
       "      <td>0.000000</td>\n",
       "      <td>0.000000</td>\n",
       "      <td>0.000000</td>\n",
       "      <td>1.280000e+02</td>\n",
       "      <td>0.000000</td>\n",
       "      <td>0.000000</td>\n",
       "      <td>0.000000</td>\n",
       "      <td>0.000000</td>\n",
       "      <td>0.000000</td>\n",
       "      <td>0.000000</td>\n",
       "    </tr>\n",
       "    <tr>\n",
       "      <th>25%</th>\n",
       "      <td>0.003184</td>\n",
       "      <td>0.003184</td>\n",
       "      <td>0.000000</td>\n",
       "      <td>0.000000</td>\n",
       "      <td>0.003184</td>\n",
       "      <td>0.0</td>\n",
       "      <td>0.003184</td>\n",
       "      <td>0.003184</td>\n",
       "      <td>0.003184</td>\n",
       "      <td>53.000000</td>\n",
       "      <td>...</td>\n",
       "      <td>0.000000</td>\n",
       "      <td>0.000000</td>\n",
       "      <td>0.000000</td>\n",
       "      <td>6.335420e+05</td>\n",
       "      <td>64.333336</td>\n",
       "      <td>58.000000</td>\n",
       "      <td>71.000000</td>\n",
       "      <td>58.000000</td>\n",
       "      <td>54.000000</td>\n",
       "      <td>54.000000</td>\n",
       "    </tr>\n",
       "    <tr>\n",
       "      <th>50%</th>\n",
       "      <td>0.007470</td>\n",
       "      <td>0.007470</td>\n",
       "      <td>0.000000</td>\n",
       "      <td>0.000000</td>\n",
       "      <td>0.007470</td>\n",
       "      <td>0.0</td>\n",
       "      <td>0.007470</td>\n",
       "      <td>0.007470</td>\n",
       "      <td>0.007470</td>\n",
       "      <td>80.000000</td>\n",
       "      <td>...</td>\n",
       "      <td>0.000000</td>\n",
       "      <td>0.000000</td>\n",
       "      <td>0.000000</td>\n",
       "      <td>1.619216e+06</td>\n",
       "      <td>75.000000</td>\n",
       "      <td>186.000000</td>\n",
       "      <td>81.000000</td>\n",
       "      <td>311.000000</td>\n",
       "      <td>66.000000</td>\n",
       "      <td>60.000000</td>\n",
       "    </tr>\n",
       "    <tr>\n",
       "      <th>75%</th>\n",
       "      <td>1.038991</td>\n",
       "      <td>1.038991</td>\n",
       "      <td>1.018632</td>\n",
       "      <td>0.058970</td>\n",
       "      <td>1.038991</td>\n",
       "      <td>0.0</td>\n",
       "      <td>1.038991</td>\n",
       "      <td>1.038991</td>\n",
       "      <td>1.038991</td>\n",
       "      <td>749.000000</td>\n",
       "      <td>...</td>\n",
       "      <td>0.006275</td>\n",
       "      <td>0.000009</td>\n",
       "      <td>0.000050</td>\n",
       "      <td>3.389938e+06</td>\n",
       "      <td>107.500000</td>\n",
       "      <td>382.666656</td>\n",
       "      <td>336.000000</td>\n",
       "      <td>543.000000</td>\n",
       "      <td>74.000000</td>\n",
       "      <td>186.000000</td>\n",
       "    </tr>\n",
       "    <tr>\n",
       "      <th>max</th>\n",
       "      <td>19.999998</td>\n",
       "      <td>19.999998</td>\n",
       "      <td>19.999998</td>\n",
       "      <td>19.999998</td>\n",
       "      <td>19.999998</td>\n",
       "      <td>0.0</td>\n",
       "      <td>19.999998</td>\n",
       "      <td>19.999998</td>\n",
       "      <td>19.999998</td>\n",
       "      <td>65389.000000</td>\n",
       "      <td>...</td>\n",
       "      <td>7.028434</td>\n",
       "      <td>7.028434</td>\n",
       "      <td>1.232833</td>\n",
       "      <td>1.042765e+07</td>\n",
       "      <td>4577.167480</td>\n",
       "      <td>47301.550781</td>\n",
       "      <td>65226.000000</td>\n",
       "      <td>65226.000000</td>\n",
       "      <td>1048.000000</td>\n",
       "      <td>1739.000000</td>\n",
       "    </tr>\n",
       "  </tbody>\n",
       "</table>\n",
       "<p>8 rows × 47 columns</p>\n",
       "</div>"
      ],
      "text/plain": [
       "             RunTime            Dur         SrcDur         DstDur  \\\n",
       "count  169631.000000  169631.000000  169631.000000  169631.000000   \n",
       "mean        2.443665       2.443665       2.430197       2.145518   \n",
       "std         5.288742       5.288742       5.277424       5.163470   \n",
       "min         0.000002       0.000002       0.000000       0.000000   \n",
       "25%         0.003184       0.003184       0.000000       0.000000   \n",
       "50%         0.007470       0.007470       0.000000       0.000000   \n",
       "75%         1.038991       1.038991       1.018632       0.058970   \n",
       "max        19.999998      19.999998      19.999998      19.999998   \n",
       "\n",
       "                Mean    StdDev            Sum            Min            Max  \\\n",
       "count  169631.000000  169631.0  169631.000000  169631.000000  169631.000000   \n",
       "mean        2.443665       0.0       2.443665       2.443665       2.443665   \n",
       "std         5.288742       0.0       5.288742       5.288742       5.288742   \n",
       "min         0.000002       0.0       0.000002       0.000002       0.000002   \n",
       "25%         0.003184       0.0       0.003184       0.003184       0.003184   \n",
       "50%         0.007470       0.0       0.007470       0.007470       0.007470   \n",
       "75%         1.038991       0.0       1.038991       1.038991       1.038991   \n",
       "max        19.999998       0.0      19.999998      19.999998      19.999998   \n",
       "\n",
       "               Dport  ...         TcpRtt         SynAck         AckDat  \\\n",
       "count  169631.000000  ...  169631.000000  169631.000000  169631.000000   \n",
       "mean     2830.834447  ...       0.008346       0.004271       0.004075   \n",
       "std      8439.065138  ...       0.051548       0.049648       0.015051   \n",
       "min         1.000000  ...       0.000000       0.000000       0.000000   \n",
       "25%        53.000000  ...       0.000000       0.000000       0.000000   \n",
       "50%        80.000000  ...       0.000000       0.000000       0.000000   \n",
       "75%       749.000000  ...       0.006275       0.000009       0.000050   \n",
       "max     65389.000000  ...       7.028434       7.028434       1.232833   \n",
       "\n",
       "             Offset     sMeanPktSz     dMeanPktSz      sMaxPktSz  \\\n",
       "count  1.696310e+05  169631.000000  169631.000000  169631.000000   \n",
       "mean   2.413164e+06     126.283888     302.835647     441.761494   \n",
       "std    2.411302e+06     191.045259     576.902879    1267.661879   \n",
       "min    1.280000e+02       0.000000       0.000000       0.000000   \n",
       "25%    6.335420e+05      64.333336      58.000000      71.000000   \n",
       "50%    1.619216e+06      75.000000     186.000000      81.000000   \n",
       "75%    3.389938e+06     107.500000     382.666656     336.000000   \n",
       "max    1.042765e+07    4577.167480   47301.550781   65226.000000   \n",
       "\n",
       "           dMaxPktSz      sMinPktSz      dMinPktSz  \n",
       "count  169631.000000  169631.000000  169631.000000  \n",
       "mean     1043.655729      65.597249     139.448391  \n",
       "std      4660.406138      16.281150     141.509002  \n",
       "min         0.000000       0.000000       0.000000  \n",
       "25%        58.000000      54.000000      54.000000  \n",
       "50%       311.000000      66.000000      60.000000  \n",
       "75%       543.000000      74.000000     186.000000  \n",
       "max     65226.000000    1048.000000    1739.000000  \n",
       "\n",
       "[8 rows x 47 columns]"
      ]
     },
     "execution_count": 6,
     "metadata": {},
     "output_type": "execute_result"
    }
   ],
   "source": [
    "df_traffic.describe()"
   ]
  },
  {
   "attachments": {},
   "cell_type": "markdown",
   "metadata": {},
   "source": [
    "## 3.2 Datos Categoricos (parte 2)"
   ]
  },
  {
   "cell_type": "code",
   "execution_count": 8,
   "metadata": {},
   "outputs": [
    {
     "data": {
      "text/plain": [
       "['tcp', 'udp']\n",
       "Categories (2, object): ['tcp', 'udp']"
      ]
     },
     "execution_count": 8,
     "metadata": {},
     "output_type": "execute_result"
    }
   ],
   "source": [
    "df_traffic.Proto.unique()"
   ]
  },
  {
   "cell_type": "code",
   "execution_count": 7,
   "metadata": {},
   "outputs": [
    {
     "data": {
      "text/plain": [
       "['Dos', 'Normal', 'Probe']\n",
       "Categories (3, object): ['Dos', 'Normal', 'Probe']"
      ]
     },
     "execution_count": 7,
     "metadata": {},
     "output_type": "execute_result"
    }
   ],
   "source": [
    "df_traffic.Label.unique()"
   ]
  },
  {
   "cell_type": "code",
   "execution_count": 9,
   "metadata": {},
   "outputs": [
    {
     "name": "stdout",
     "output_type": "stream",
     "text": [
      "\n",
      "\n",
      "Etiquetas numericas de la variable dependiente y: \n",
      "\n",
      " 0        0\n",
      "1        0\n",
      "2        0\n",
      "3        0\n",
      "4        0\n",
      "        ..\n",
      "41056    2\n",
      "41057    2\n",
      "41058    2\n",
      "41059    2\n",
      "41060    2\n",
      "Name: Label, Length: 169631, dtype: int32\n",
      "\n",
      "\n",
      "Etiquetas numericas de la variable independiente x: \n",
      "\n",
      " 0        0\n",
      "1        0\n",
      "2        0\n",
      "3        0\n",
      "4        0\n",
      "        ..\n",
      "41056    0\n",
      "41057    0\n",
      "41058    0\n",
      "41059    0\n",
      "41060    1\n",
      "Name: Proto, Length: 169631, dtype: int32\n"
     ]
    }
   ],
   "source": [
    "\"\"\"CREAR ETIQUETAS NUMERICAS de variable dependiente\"\"\"\n",
    "labelcode = LabelEncoder()\n",
    "df_traffic['Proto']= labelcode.fit_transform(df_traffic['Proto'])\n",
    "df_traffic['Label']= labelcode.fit_transform(df_traffic['Label'])\n",
    "print('\\n\\nEtiquetas numericas de la variable dependiente y: \\n\\n', df_traffic['Label'])\n",
    "print('\\n\\nEtiquetas numericas de la variable independiente x: \\n\\n', df_traffic['Proto'])"
   ]
  },
  {
   "cell_type": "code",
   "execution_count": 10,
   "metadata": {},
   "outputs": [],
   "source": [
    "X = df_traffic.iloc[:,0:48]\n",
    "y = df_traffic.iloc[:,48]"
   ]
  },
  {
   "attachments": {},
   "cell_type": "markdown",
   "metadata": {},
   "source": [
    "## 3.2 Reduccion de caracteristicas"
   ]
  },
  {
   "attachments": {},
   "cell_type": "markdown",
   "metadata": {},
   "source": [
    "Sin Normalizar"
   ]
  },
  {
   "cell_type": "code",
   "execution_count": 11,
   "metadata": {},
   "outputs": [
    {
     "name": "stderr",
     "output_type": "stream",
     "text": [
      "No artists with labels found to put in legend.  Note that artists whose label start with an underscore are ignored when legend() is called with no argument.\n"
     ]
    },
    {
     "name": "stdout",
     "output_type": "stream",
     "text": [
      "[0.03362397 0.02810011 0.03514368 0.05616317 0.02175877 0.\n",
      " 0.03039664 0.03043417 0.0330506  0.16383259 0.07883605 0.02447012\n",
      " 0.01672431 0.02753942 0.01059178 0.01048473 0.02059184 0.01073843\n",
      " 0.01624238 0.01094828 0.00470601 0.00234346 0.00222926 0.00479168\n",
      " 0.00813873 0.00026044 0.01271607 0.01530977 0.00050851 0.\n",
      " 0.         0.         0.         0.         0.         0.00597358\n",
      " 0.00389068 0.00353364 0.00626649 0.00222207 0.03114292 0.07916843\n",
      " 0.01667265 0.0200535  0.0130699  0.0222513  0.0184584  0.06662143]\n"
     ]
    },
    {
     "data": {
      "image/png": "[encoded data removed]",
      "text/plain": [
       "<Figure size 1600x800 with 1 Axes>"
      ]
     },
     "metadata": {},
     "output_type": "display_data"
    },
    {
     "data": {
      "text/plain": [
       "<Figure size 640x480 with 0 Axes>"
      ]
     },
     "metadata": {},
     "output_type": "display_data"
    }
   ],
   "source": [
    "m_extract_features = ExtraTreesClassifier()\n",
    "m_extract_features.fit(X,y)\n",
    "plt.figure(figsize=(16,8))\n",
    "print(m_extract_features.feature_importances_)\n",
    "feat_importances = pd.Series(m_extract_features.feature_importances_, index=X.columns)\n",
    "feat_importances.nlargest(45).plot(kind='barh')\n",
    "plt.xlabel('Caracteristicas', fontsize = 8)\n",
    "plt.ylabel('Porcentaje', fontsize = 8)\n",
    "plt.legend(fontsize=\"small\")\n",
    "plt.show()\n",
    "plt.savefig('ExtraTreesClassifier.png')"
   ]
  },
  {
   "attachments": {},
   "cell_type": "markdown",
   "metadata": {},
   "source": [
    "Normalizado"
   ]
  },
  {
   "cell_type": "code",
   "execution_count": null,
   "metadata": {},
   "outputs": [],
   "source": []
  },
  {
   "cell_type": "code",
   "execution_count": null,
   "metadata": {},
   "outputs": [],
   "source": [
    "def plotStandarization():\n",
    "    fig, (ax1, ax2) = plt.subplots(ncols=2, figsize=(24, 7))\n",
    "    # let's compare the variable distributions before and after scaling\n",
    "\n",
    "    for (label, content) in X.iteritems():\n",
    "        ax1.set_title('Before Scaling')\n",
    "        sns.kdeplot(X[label], ax=ax1, label=label)\n",
    "        leg = ax1.legend(loc=\"upper left\", bbox_to_anchor=[0, 1],\n",
    "                     ncol=2, shadow=True, title=\"Legend\", fancybox=True)\n",
    "    \n",
    "    for (label, content) in X_scaled.iteritems():\n",
    "        ax2.set_title('After Mean Normalisation')\n",
    "        sns.kdeplot(X_scaled[label], ax=ax2, label=label)\n",
    "        leg = ax2.legend(loc=\"upper left\", bbox_to_anchor=[0, 1],\n",
    "                     ncol=2, shadow=True, title=\"Legend\", fancybox=True)\n",
    "\n",
    "    plt.show() "
   ]
  }
 ],
 "metadata": {
  "kernelspec": {
   "display_name": "Python 3",
   "language": "python",
   "name": "python3"
  },
  "language_info": {
   "codemirror_mode": {
    "name": "ipython",
    "version": 3
   },
   "file_extension": ".py",
   "mimetype": "text/x-python",
   "name": "python",
   "nbconvert_exporter": "python",
   "pygments_lexer": "ipython3",
   "version": "3.8.10"
  },
  "orig_nbformat": 4,
  "vscode": {
   "interpreter": {
    "hash": "5c3d121086e35f129a20ca7f553230286826dfcc08161000ccf738c6df1a7518"
   }
  }
 },
 "nbformat": 4,
 "nbformat_minor": 2
}
