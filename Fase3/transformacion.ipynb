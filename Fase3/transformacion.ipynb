{
 "cells": [
  {
   "attachments": {},
   "cell_type": "markdown",
   "metadata": {},
   "source": [
    "# 3. Transformacion de datos"
   ]
  },
  {
   "cell_type": "code",
   "execution_count": 31,
   "metadata": {},
   "outputs": [],
   "source": [
    "import pandas as pd\n",
    "import numpy as np\n",
    "\"\"\"graficas\"\"\"\n",
    "import matplotlib.pyplot as plt\n",
    "import seaborn as sns\n",
    "\"\"\"transformaciones a las columnas de una matriz de datos\"\"\"\n",
    "from sklearn.compose import ColumnTransformer \n",
    "from sklearn.preprocessing import LabelEncoder, OneHotEncoder, RobustScaler\n",
    "from sklearn.decomposition import PCA\n",
    "from sklearn.ensemble import ExtraTreesClassifier"
   ]
  },
  {
   "attachments": {},
   "cell_type": "markdown",
   "metadata": {},
   "source": [
    "## 3.1 Analizar muestras"
   ]
  },
  {
   "cell_type": "code",
   "execution_count": 2,
   "metadata": {},
   "outputs": [],
   "source": [
    "\"\"\"importar datos\"\"\"\n",
    "df_total = pd.read_csv('../../araData/Z/total_3_4.csv',low_memory=False)"
   ]
  },
  {
   "cell_type": "code",
   "execution_count": 3,
   "metadata": {},
   "outputs": [],
   "source": [
    "\"\"\"sumar clases\"\"\"\n",
    "cantidad = df_total['Label'].value_counts().rename_axis('Trafico').reset_index(name='Flujos')"
   ]
  },
  {
   "cell_type": "code",
   "execution_count": 7,
   "metadata": {},
   "outputs": [
    {
     "data": {
      "text/plain": [
       "['Dos', 'Normal', 'Probe']\n",
       "Categories (3, object): ['Dos', 'Normal', 'Probe']"
      ]
     },
     "execution_count": 7,
     "metadata": {},
     "output_type": "execute_result"
    }
   ],
   "source": [
    "df_total.Label.unique()"
   ]
  },
  {
   "cell_type": "code",
   "execution_count": 4,
   "metadata": {},
   "outputs": [
    {
     "data": {
      "image/png": "[encoded data removed]",
      "text/plain": [
       "<Figure size 640x480 with 1 Axes>"
      ]
     },
     "metadata": {},
     "output_type": "display_data"
    }
   ],
   "source": [
    "ax = sns.barplot(x='Trafico', y='Flujos', data=cantidad)\n",
    "ax.bar_label(ax.containers[0])\n",
    "plt.savefig('cantidad_clasestrafico.png')\n"
   ]
  },
  {
   "cell_type": "code",
   "execution_count": 5,
   "metadata": {},
   "outputs": [
    {
     "name": "stdout",
     "output_type": "stream",
     "text": [
      "<class 'pandas.core.frame.DataFrame'>\n",
      "RangeIndex: 169631 entries, 0 to 169630\n",
      "Data columns (total 53 columns):\n",
      " #   Column      Non-Null Count   Dtype  \n",
      "---  ------      --------------   -----  \n",
      " 0   RunTime     169631 non-null  float64\n",
      " 1   Dur         169631 non-null  float64\n",
      " 2   SrcDur      169631 non-null  float64\n",
      " 3   DstDur      169631 non-null  float64\n",
      " 4   Mean        169631 non-null  float64\n",
      " 5   StdDev      169631 non-null  float64\n",
      " 6   Sum         169631 non-null  float64\n",
      " 7   Min         169631 non-null  float64\n",
      " 8   Max         169631 non-null  float64\n",
      " 9   Dport       169631 non-null  int64  \n",
      " 10  TotPkts     169631 non-null  int64  \n",
      " 11  SrcPkts     169631 non-null  int64  \n",
      " 12  DstPkts     169631 non-null  int64  \n",
      " 13  TotBytes    169631 non-null  int64  \n",
      " 14  SrcBytes    169631 non-null  int64  \n",
      " 15  DstBytes    169631 non-null  int64  \n",
      " 16  TotAppByte  169631 non-null  int64  \n",
      " 17  SAppBytes   169631 non-null  int64  \n",
      " 18  DAppBytes   169631 non-null  int64  \n",
      " 19  Load        169631 non-null  float64\n",
      " 20  SrcLoad     169631 non-null  float64\n",
      " 21  DstLoad     169631 non-null  float64\n",
      " 22  Loss        169631 non-null  int64  \n",
      " 23  SrcLoss     169631 non-null  int64  \n",
      " 24  DstLoss     169631 non-null  int64  \n",
      " 25  pLoss       169631 non-null  float64\n",
      " 26  pSrcLoss    169631 non-null  float64\n",
      " 27  pDstLoss    169631 non-null  float64\n",
      " 28  Retrans     169631 non-null  int64  \n",
      " 29  SrcRetra    169631 non-null  int64  \n",
      " 30  DstRetra    169631 non-null  int64  \n",
      " 31  pRetran     169631 non-null  float64\n",
      " 32  pSrcRetr    169631 non-null  float64\n",
      " 33  pDstRetr    169631 non-null  float64\n",
      " 34  Rate        169631 non-null  float64\n",
      " 35  SrcRate     169631 non-null  float64\n",
      " 36  DstRate     169631 non-null  float64\n",
      " 37  TcpRtt      169631 non-null  float64\n",
      " 38  SynAck      169631 non-null  float64\n",
      " 39  AckDat      169631 non-null  float64\n",
      " 40  Offset      169631 non-null  int64  \n",
      " 41  sMeanPktSz  169631 non-null  float64\n",
      " 42  dMeanPktSz  169631 non-null  float64\n",
      " 43  sMaxPktSz   169631 non-null  float64\n",
      " 44  dMaxPktSz   169631 non-null  float64\n",
      " 45  sMinPktSz   169631 non-null  float64\n",
      " 46  dMinPktSz   169631 non-null  float64\n",
      " 47  Label       169631 non-null  int64  \n",
      " 48  Dir_   ->   169631 non-null  int64  \n",
      " 49  Dir_  <->   169631 non-null  int64  \n",
      " 50  Dir_  <?>   169631 non-null  int64  \n",
      " 51  Proto_tcp   169631 non-null  int64  \n",
      " 52  Proto_udp   169631 non-null  int64  \n",
      "dtypes: float64(30), int64(23)\n",
      "memory usage: 68.6 MB\n"
     ]
    }
   ],
   "source": [
    "df_total.info(verbose=True)"
   ]
  },
  {
   "cell_type": "code",
   "execution_count": 7,
   "metadata": {},
   "outputs": [
    {
     "data": {
      "text/html": [
       "<div>\n",
       "<style scoped>\n",
       "    .dataframe tbody tr th:only-of-type {\n",
       "        vertical-align: middle;\n",
       "    }\n",
       "\n",
       "    .dataframe tbody tr th {\n",
       "        vertical-align: top;\n",
       "    }\n",
       "\n",
       "    .dataframe thead th {\n",
       "        text-align: right;\n",
       "    }\n",
       "</style>\n",
       "<table border=\"1\" class=\"dataframe\">\n",
       "  <thead>\n",
       "    <tr style=\"text-align: right;\">\n",
       "      <th></th>\n",
       "      <th>RunTime</th>\n",
       "      <th>Dur</th>\n",
       "      <th>SrcDur</th>\n",
       "      <th>DstDur</th>\n",
       "      <th>Mean</th>\n",
       "      <th>StdDev</th>\n",
       "      <th>Sum</th>\n",
       "      <th>Min</th>\n",
       "      <th>Max</th>\n",
       "      <th>Dport</th>\n",
       "      <th>...</th>\n",
       "      <th>sMaxPktSz</th>\n",
       "      <th>dMaxPktSz</th>\n",
       "      <th>sMinPktSz</th>\n",
       "      <th>dMinPktSz</th>\n",
       "      <th>Label</th>\n",
       "      <th>Dir_   -&gt;</th>\n",
       "      <th>Dir_  &lt;-&gt;</th>\n",
       "      <th>Dir_  &lt;?&gt;</th>\n",
       "      <th>Proto_tcp</th>\n",
       "      <th>Proto_udp</th>\n",
       "    </tr>\n",
       "  </thead>\n",
       "  <tbody>\n",
       "    <tr>\n",
       "      <th>count</th>\n",
       "      <td>169631.000000</td>\n",
       "      <td>169631.000000</td>\n",
       "      <td>169631.000000</td>\n",
       "      <td>169631.000000</td>\n",
       "      <td>169631.000000</td>\n",
       "      <td>169631.0</td>\n",
       "      <td>169631.000000</td>\n",
       "      <td>169631.000000</td>\n",
       "      <td>169631.000000</td>\n",
       "      <td>169631.000000</td>\n",
       "      <td>...</td>\n",
       "      <td>169631.000000</td>\n",
       "      <td>169631.000000</td>\n",
       "      <td>169631.000000</td>\n",
       "      <td>169631.000000</td>\n",
       "      <td>169631.000000</td>\n",
       "      <td>169631.000000</td>\n",
       "      <td>169631.000000</td>\n",
       "      <td>169631.000000</td>\n",
       "      <td>169631.000000</td>\n",
       "      <td>169631.000000</td>\n",
       "    </tr>\n",
       "    <tr>\n",
       "      <th>mean</th>\n",
       "      <td>2.443665</td>\n",
       "      <td>2.443665</td>\n",
       "      <td>2.430197</td>\n",
       "      <td>2.145518</td>\n",
       "      <td>2.443665</td>\n",
       "      <td>0.0</td>\n",
       "      <td>2.443665</td>\n",
       "      <td>2.443665</td>\n",
       "      <td>2.443665</td>\n",
       "      <td>2830.834447</td>\n",
       "      <td>...</td>\n",
       "      <td>441.761494</td>\n",
       "      <td>1043.655729</td>\n",
       "      <td>65.597249</td>\n",
       "      <td>139.448391</td>\n",
       "      <td>1.039946</td>\n",
       "      <td>0.505350</td>\n",
       "      <td>0.299886</td>\n",
       "      <td>0.194764</td>\n",
       "      <td>0.664171</td>\n",
       "      <td>0.335829</td>\n",
       "    </tr>\n",
       "    <tr>\n",
       "      <th>std</th>\n",
       "      <td>5.288742</td>\n",
       "      <td>5.288742</td>\n",
       "      <td>5.277424</td>\n",
       "      <td>5.163470</td>\n",
       "      <td>5.288742</td>\n",
       "      <td>0.0</td>\n",
       "      <td>5.288742</td>\n",
       "      <td>5.288742</td>\n",
       "      <td>5.288742</td>\n",
       "      <td>8439.065138</td>\n",
       "      <td>...</td>\n",
       "      <td>1267.661879</td>\n",
       "      <td>4660.406138</td>\n",
       "      <td>16.281150</td>\n",
       "      <td>141.509002</td>\n",
       "      <td>0.665269</td>\n",
       "      <td>0.499973</td>\n",
       "      <td>0.458209</td>\n",
       "      <td>0.396020</td>\n",
       "      <td>0.472281</td>\n",
       "      <td>0.472281</td>\n",
       "    </tr>\n",
       "    <tr>\n",
       "      <th>min</th>\n",
       "      <td>0.000002</td>\n",
       "      <td>0.000002</td>\n",
       "      <td>0.000000</td>\n",
       "      <td>0.000000</td>\n",
       "      <td>0.000002</td>\n",
       "      <td>0.0</td>\n",
       "      <td>0.000002</td>\n",
       "      <td>0.000002</td>\n",
       "      <td>0.000002</td>\n",
       "      <td>1.000000</td>\n",
       "      <td>...</td>\n",
       "      <td>0.000000</td>\n",
       "      <td>0.000000</td>\n",
       "      <td>0.000000</td>\n",
       "      <td>0.000000</td>\n",
       "      <td>0.000000</td>\n",
       "      <td>0.000000</td>\n",
       "      <td>0.000000</td>\n",
       "      <td>0.000000</td>\n",
       "      <td>0.000000</td>\n",
       "      <td>0.000000</td>\n",
       "    </tr>\n",
       "    <tr>\n",
       "      <th>25%</th>\n",
       "      <td>0.003184</td>\n",
       "      <td>0.003184</td>\n",
       "      <td>0.000000</td>\n",
       "      <td>0.000000</td>\n",
       "      <td>0.003184</td>\n",
       "      <td>0.0</td>\n",
       "      <td>0.003184</td>\n",
       "      <td>0.003184</td>\n",
       "      <td>0.003184</td>\n",
       "      <td>53.000000</td>\n",
       "      <td>...</td>\n",
       "      <td>71.000000</td>\n",
       "      <td>58.000000</td>\n",
       "      <td>54.000000</td>\n",
       "      <td>54.000000</td>\n",
       "      <td>1.000000</td>\n",
       "      <td>0.000000</td>\n",
       "      <td>0.000000</td>\n",
       "      <td>0.000000</td>\n",
       "      <td>0.000000</td>\n",
       "      <td>0.000000</td>\n",
       "    </tr>\n",
       "    <tr>\n",
       "      <th>50%</th>\n",
       "      <td>0.007470</td>\n",
       "      <td>0.007470</td>\n",
       "      <td>0.000000</td>\n",
       "      <td>0.000000</td>\n",
       "      <td>0.007470</td>\n",
       "      <td>0.0</td>\n",
       "      <td>0.007470</td>\n",
       "      <td>0.007470</td>\n",
       "      <td>0.007470</td>\n",
       "      <td>80.000000</td>\n",
       "      <td>...</td>\n",
       "      <td>81.000000</td>\n",
       "      <td>311.000000</td>\n",
       "      <td>66.000000</td>\n",
       "      <td>60.000000</td>\n",
       "      <td>1.000000</td>\n",
       "      <td>1.000000</td>\n",
       "      <td>0.000000</td>\n",
       "      <td>0.000000</td>\n",
       "      <td>1.000000</td>\n",
       "      <td>0.000000</td>\n",
       "    </tr>\n",
       "    <tr>\n",
       "      <th>75%</th>\n",
       "      <td>1.038991</td>\n",
       "      <td>1.038991</td>\n",
       "      <td>1.018632</td>\n",
       "      <td>0.058970</td>\n",
       "      <td>1.038991</td>\n",
       "      <td>0.0</td>\n",
       "      <td>1.038991</td>\n",
       "      <td>1.038991</td>\n",
       "      <td>1.038991</td>\n",
       "      <td>749.000000</td>\n",
       "      <td>...</td>\n",
       "      <td>336.000000</td>\n",
       "      <td>543.000000</td>\n",
       "      <td>74.000000</td>\n",
       "      <td>186.000000</td>\n",
       "      <td>1.000000</td>\n",
       "      <td>1.000000</td>\n",
       "      <td>1.000000</td>\n",
       "      <td>0.000000</td>\n",
       "      <td>1.000000</td>\n",
       "      <td>1.000000</td>\n",
       "    </tr>\n",
       "    <tr>\n",
       "      <th>max</th>\n",
       "      <td>19.999998</td>\n",
       "      <td>19.999998</td>\n",
       "      <td>19.999998</td>\n",
       "      <td>19.999998</td>\n",
       "      <td>19.999998</td>\n",
       "      <td>0.0</td>\n",
       "      <td>19.999998</td>\n",
       "      <td>19.999998</td>\n",
       "      <td>19.999998</td>\n",
       "      <td>65389.000000</td>\n",
       "      <td>...</td>\n",
       "      <td>65226.000000</td>\n",
       "      <td>65226.000000</td>\n",
       "      <td>1048.000000</td>\n",
       "      <td>1739.000000</td>\n",
       "      <td>2.000000</td>\n",
       "      <td>1.000000</td>\n",
       "      <td>1.000000</td>\n",
       "      <td>1.000000</td>\n",
       "      <td>1.000000</td>\n",
       "      <td>1.000000</td>\n",
       "    </tr>\n",
       "  </tbody>\n",
       "</table>\n",
       "<p>8 rows × 53 columns</p>\n",
       "</div>"
      ],
      "text/plain": [
       "             RunTime            Dur         SrcDur         DstDur  \\\n",
       "count  169631.000000  169631.000000  169631.000000  169631.000000   \n",
       "mean        2.443665       2.443665       2.430197       2.145518   \n",
       "std         5.288742       5.288742       5.277424       5.163470   \n",
       "min         0.000002       0.000002       0.000000       0.000000   \n",
       "25%         0.003184       0.003184       0.000000       0.000000   \n",
       "50%         0.007470       0.007470       0.000000       0.000000   \n",
       "75%         1.038991       1.038991       1.018632       0.058970   \n",
       "max        19.999998      19.999998      19.999998      19.999998   \n",
       "\n",
       "                Mean    StdDev            Sum            Min            Max  \\\n",
       "count  169631.000000  169631.0  169631.000000  169631.000000  169631.000000   \n",
       "mean        2.443665       0.0       2.443665       2.443665       2.443665   \n",
       "std         5.288742       0.0       5.288742       5.288742       5.288742   \n",
       "min         0.000002       0.0       0.000002       0.000002       0.000002   \n",
       "25%         0.003184       0.0       0.003184       0.003184       0.003184   \n",
       "50%         0.007470       0.0       0.007470       0.007470       0.007470   \n",
       "75%         1.038991       0.0       1.038991       1.038991       1.038991   \n",
       "max        19.999998       0.0      19.999998      19.999998      19.999998   \n",
       "\n",
       "               Dport  ...      sMaxPktSz      dMaxPktSz      sMinPktSz  \\\n",
       "count  169631.000000  ...  169631.000000  169631.000000  169631.000000   \n",
       "mean     2830.834447  ...     441.761494    1043.655729      65.597249   \n",
       "std      8439.065138  ...    1267.661879    4660.406138      16.281150   \n",
       "min         1.000000  ...       0.000000       0.000000       0.000000   \n",
       "25%        53.000000  ...      71.000000      58.000000      54.000000   \n",
       "50%        80.000000  ...      81.000000     311.000000      66.000000   \n",
       "75%       749.000000  ...     336.000000     543.000000      74.000000   \n",
       "max     65389.000000  ...   65226.000000   65226.000000    1048.000000   \n",
       "\n",
       "           dMinPktSz          Label      Dir_   ->      Dir_  <->  \\\n",
       "count  169631.000000  169631.000000  169631.000000  169631.000000   \n",
       "mean      139.448391       1.039946       0.505350       0.299886   \n",
       "std       141.509002       0.665269       0.499973       0.458209   \n",
       "min         0.000000       0.000000       0.000000       0.000000   \n",
       "25%        54.000000       1.000000       0.000000       0.000000   \n",
       "50%        60.000000       1.000000       1.000000       0.000000   \n",
       "75%       186.000000       1.000000       1.000000       1.000000   \n",
       "max      1739.000000       2.000000       1.000000       1.000000   \n",
       "\n",
       "           Dir_  <?>      Proto_tcp      Proto_udp  \n",
       "count  169631.000000  169631.000000  169631.000000  \n",
       "mean        0.194764       0.664171       0.335829  \n",
       "std         0.396020       0.472281       0.472281  \n",
       "min         0.000000       0.000000       0.000000  \n",
       "25%         0.000000       0.000000       0.000000  \n",
       "50%         0.000000       1.000000       0.000000  \n",
       "75%         0.000000       1.000000       1.000000  \n",
       "max         1.000000       1.000000       1.000000  \n",
       "\n",
       "[8 rows x 53 columns]"
      ]
     },
     "execution_count": 7,
     "metadata": {},
     "output_type": "execute_result"
    }
   ],
   "source": [
    "df_total.describe()"
   ]
  },
  {
   "attachments": {},
   "cell_type": "markdown",
   "metadata": {},
   "source": [
    "## 3.2 Renombrar"
   ]
  },
  {
   "cell_type": "code",
   "execution_count": 18,
   "metadata": {},
   "outputs": [],
   "source": [
    "posicion_col= df_total.pop('Label')"
   ]
  },
  {
   "cell_type": "code",
   "execution_count": 19,
   "metadata": {},
   "outputs": [],
   "source": [
    "df_total.insert(0, 'Label', posicion_col)"
   ]
  },
  {
   "cell_type": "code",
   "execution_count": 20,
   "metadata": {},
   "outputs": [],
   "source": [
    "df_total.rename(columns={'Dir_   ->':'DirUni','Dir_  <->':'DirBid','Dir_  <?>':'DirDescon','Proto_tcp':'TCP','Proto_udp':'UDP'}, inplace=True)"
   ]
  },
  {
   "cell_type": "code",
   "execution_count": 25,
   "metadata": {},
   "outputs": [],
   "source": [
    "X = df_total.iloc[:,1:49]\n",
    "y = df_total.iloc[:,0]"
   ]
  },
  {
   "attachments": {},
   "cell_type": "markdown",
   "metadata": {},
   "source": [
    "## 3.2 Reduccion de caracteristicas"
   ]
  },
  {
   "attachments": {},
   "cell_type": "markdown",
   "metadata": {},
   "source": [
    "Sin Normalizar"
   ]
  },
  {
   "cell_type": "code",
   "execution_count": 26,
   "metadata": {},
   "outputs": [
    {
     "name": "stderr",
     "output_type": "stream",
     "text": [
      "No artists with labels found to put in legend.  Note that artists whose label start with an underscore are ignored when legend() is called with no argument.\n"
     ]
    },
    {
     "name": "stdout",
     "output_type": "stream",
     "text": [
      "[0.0460798  0.04837468 0.05528781 0.05550555 0.         0.08666677\n",
      " 0.01782197 0.02109091 0.01994799 0.00909558 0.01472668 0.01382445\n",
      " 0.00648638 0.01270618 0.00920434 0.00536978 0.00233925 0.00313576\n",
      " 0.00348158 0.008497   0.0002448  0.00876795 0.01349442 0.00045731\n",
      " 0.         0.         0.         0.         0.         0.\n",
      " 0.003788   0.00248299 0.00401089 0.00203879 0.00683116 0.02528626\n",
      " 0.05824268 0.01429195 0.01893319 0.02732915 0.02950125 0.03019505\n",
      " 0.01721808 0.05793316 0.08112979 0.04457028 0.06670592 0.04690446]\n"
     ]
    },
    {
     "data": {
      "image/png": "[encoded data removed]",
      "text/plain": [
       "<Figure size 1600x800 with 1 Axes>"
      ]
     },
     "metadata": {},
     "output_type": "display_data"
    },
    {
     "data": {
      "text/plain": [
       "<Figure size 640x480 with 0 Axes>"
      ]
     },
     "metadata": {},
     "output_type": "display_data"
    }
   ],
   "source": [
    "m_extract_features = ExtraTreesClassifier()\n",
    "m_extract_features.fit(X,y)\n",
    "plt.figure(figsize=(16,8))\n",
    "print(m_extract_features.feature_importances_)\n",
    "feat_importances = pd.Series(m_extract_features.feature_importances_, index=X.columns)\n",
    "feat_importances.nlargest(45).plot(kind='barh')\n",
    "plt.xlabel('Caracteristicas', fontsize = 8)\n",
    "plt.ylabel('Porcentaje', fontsize = 8)\n",
    "plt.legend(fontsize=\"small\")\n",
    "plt.show()\n",
    "plt.savefig('ExtraTreesClassifier.png')"
   ]
  },
  {
   "cell_type": "code",
   "execution_count": 23,
   "metadata": {},
   "outputs": [],
   "source": [
    "df_total.drop(['Mean','Sum','Min','Max'], axis=\"columns\", inplace=True)"
   ]
  },
  {
   "cell_type": "code",
   "execution_count": 32,
   "metadata": {},
   "outputs": [
    {
     "name": "stdout",
     "output_type": "stream",
     "text": [
      "            RunTime   Dur  SrcDur  DstDur  StdDev  Dport  TotPkts  SrcPkts  \\\n",
      "RunTime        1.00  1.00    1.00    0.96     NaN  -0.04     0.15     0.15   \n",
      "Dur            1.00  1.00    1.00    0.96     NaN  -0.04     0.15     0.15   \n",
      "SrcDur         1.00  1.00    1.00    0.96     NaN  -0.04     0.15     0.15   \n",
      "DstDur         0.96  0.96    0.96    1.00     NaN  -0.03     0.15     0.15   \n",
      "StdDev          NaN   NaN     NaN     NaN     NaN    NaN      NaN      NaN   \n",
      "Dport         -0.04 -0.04   -0.04   -0.03     NaN   1.00     0.01     0.01   \n",
      "TotPkts        0.15  0.15    0.15    0.15     NaN   0.01     1.00     0.97   \n",
      "SrcPkts        0.15  0.15    0.15    0.15     NaN   0.01     0.97     1.00   \n",
      "DstPkts        0.15  0.15    0.15    0.15     NaN   0.01     0.98     0.90   \n",
      "TotBytes       0.14  0.14    0.14    0.14     NaN  -0.00     0.69     0.64   \n",
      "SrcBytes       0.10  0.10    0.10    0.10     NaN   0.01     0.74     0.77   \n",
      "DstBytes       0.12  0.12    0.12    0.13     NaN  -0.01     0.52     0.44   \n",
      "TotAppByte     0.13  0.13    0.13    0.13     NaN  -0.00     0.64     0.59   \n",
      "SAppBytes      0.09  0.09    0.09    0.09     NaN   0.01     0.69     0.71   \n",
      "DAppBytes      0.12  0.12    0.12    0.12     NaN  -0.01     0.47     0.40   \n",
      "Load          -0.02 -0.02   -0.02   -0.02     NaN  -0.04     0.15     0.13   \n",
      "SrcLoad       -0.02 -0.02   -0.02   -0.02     NaN  -0.02     0.12     0.12   \n",
      "DstLoad       -0.01 -0.01   -0.01   -0.01     NaN  -0.02     0.03     0.02   \n",
      "Loss           0.13  0.13    0.13    0.00     NaN  -0.05     0.09     0.09   \n",
      "SrcLoss        0.13  0.13    0.13   -0.01     NaN  -0.05     0.09     0.08   \n",
      "DstLoss        0.04  0.04    0.04    0.04     NaN  -0.02     0.05     0.04   \n",
      "pLoss          0.13  0.13    0.13   -0.03     NaN  -0.06    -0.01    -0.01   \n",
      "pSrcLoss       0.11  0.11    0.11   -0.04     NaN  -0.06    -0.01    -0.01   \n",
      "pDstLoss       0.01  0.01    0.01    0.00     NaN  -0.02    -0.00    -0.00   \n",
      "Retrans         NaN   NaN     NaN     NaN     NaN    NaN      NaN      NaN   \n",
      "SrcRetra        NaN   NaN     NaN     NaN     NaN    NaN      NaN      NaN   \n",
      "DstRetra        NaN   NaN     NaN     NaN     NaN    NaN      NaN      NaN   \n",
      "pRetran         NaN   NaN     NaN     NaN     NaN    NaN      NaN      NaN   \n",
      "pSrcRetr        NaN   NaN     NaN     NaN     NaN    NaN      NaN      NaN   \n",
      "pDstRetr        NaN   NaN     NaN     NaN     NaN    NaN      NaN      NaN   \n",
      "Rate          -0.05 -0.05   -0.05   -0.05     NaN  -0.02     0.00     0.00   \n",
      "SrcRate       -0.02 -0.02   -0.02   -0.02     NaN  -0.01     0.02     0.02   \n",
      "DstRate       -0.01 -0.01   -0.01   -0.01     NaN  -0.00     0.00     0.00   \n",
      "TcpRtt         0.08  0.08    0.08    0.06     NaN  -0.05     0.00     0.00   \n",
      "SynAck         0.09  0.09    0.09    0.09     NaN  -0.02     0.01     0.00   \n",
      "AckDat        -0.04 -0.04   -0.04   -0.09     NaN  -0.09    -0.01    -0.01   \n",
      "Offset        -0.23 -0.23   -0.23   -0.22     NaN   0.32    -0.04    -0.04   \n",
      "sMeanPktSz     0.57  0.57    0.57    0.58     NaN  -0.02     0.07     0.06   \n",
      "dMeanPktSz     0.14  0.14    0.14    0.14     NaN  -0.14     0.06     0.05   \n",
      "sMaxPktSz      0.64  0.64    0.64    0.67     NaN   0.03     0.31     0.29   \n",
      "dMaxPktSz      0.21  0.21    0.21    0.21     NaN  -0.06     0.14     0.11   \n",
      "sMinPktSz     -0.11 -0.11   -0.11   -0.17     NaN  -0.21    -0.01    -0.01   \n",
      "dMinPktSz     -0.25 -0.25   -0.25   -0.22     NaN  -0.23    -0.02    -0.03   \n",
      "DirUni         0.08  0.08    0.08    0.03     NaN   0.04    -0.02    -0.02   \n",
      "DirBid        -0.30 -0.30   -0.30   -0.27     NaN  -0.22    -0.04    -0.04   \n",
      "DirDescon      0.25  0.25    0.25    0.28     NaN   0.20     0.07     0.07   \n",
      "TCP            0.30  0.30    0.30    0.30     NaN   0.06     0.04     0.04   \n",
      "UDP           -0.30 -0.30   -0.30   -0.30     NaN  -0.06    -0.04    -0.04   \n",
      "\n",
      "            DstPkts  TotBytes  ...  dMeanPktSz  sMaxPktSz  dMaxPktSz  \\\n",
      "RunTime        0.15      0.14  ...        0.14       0.64       0.21   \n",
      "Dur            0.15      0.14  ...        0.14       0.64       0.21   \n",
      "SrcDur         0.15      0.14  ...        0.14       0.64       0.21   \n",
      "DstDur         0.15      0.14  ...        0.14       0.67       0.21   \n",
      "StdDev          NaN       NaN  ...         NaN        NaN        NaN   \n",
      "Dport          0.01     -0.00  ...       -0.14       0.03      -0.06   \n",
      "TotPkts        0.98      0.69  ...        0.06       0.31       0.14   \n",
      "SrcPkts        0.90      0.64  ...        0.05       0.29       0.11   \n",
      "DstPkts        1.00      0.70  ...        0.08       0.30       0.16   \n",
      "TotBytes       0.70      1.00  ...        0.26       0.21       0.39   \n",
      "SrcBytes       0.68      0.67  ...        0.01       0.28       0.06   \n",
      "DstBytes       0.56      0.94  ...        0.32       0.13       0.46   \n",
      "TotAppByte     0.65      1.00  ...        0.27       0.19       0.40   \n",
      "SAppBytes      0.63      0.65  ...        0.01       0.27       0.05   \n",
      "DAppBytes      0.52      0.92  ...        0.33       0.11       0.47   \n",
      "Load           0.16      0.29  ...        0.27       0.04       0.32   \n",
      "SrcLoad        0.12      0.11  ...        0.00       0.04       0.01   \n",
      "DstLoad        0.03      0.07  ...        0.08       0.00       0.10   \n",
      "Loss           0.09      0.08  ...        0.03       0.01       0.04   \n",
      "SrcLoss        0.08      0.06  ...        0.01       0.01       0.01   \n",
      "DstLoss        0.05      0.09  ...        0.08       0.01       0.09   \n",
      "pLoss         -0.01     -0.01  ...        0.00      -0.02       0.00   \n",
      "pSrcLoss      -0.01     -0.01  ...        0.00      -0.02       0.00   \n",
      "pDstLoss      -0.00     -0.00  ...        0.02      -0.01       0.01   \n",
      "Retrans         NaN       NaN  ...         NaN        NaN        NaN   \n",
      "SrcRetra        NaN       NaN  ...         NaN        NaN        NaN   \n",
      "DstRetra        NaN       NaN  ...         NaN        NaN        NaN   \n",
      "pRetran         NaN       NaN  ...         NaN        NaN        NaN   \n",
      "pSrcRetr        NaN       NaN  ...         NaN        NaN        NaN   \n",
      "pDstRetr        NaN       NaN  ...         NaN        NaN        NaN   \n",
      "Rate           0.00      0.00  ...       -0.02      -0.03      -0.02   \n",
      "SrcRate        0.02      0.01  ...       -0.00      -0.00       0.00   \n",
      "DstRate        0.00      0.00  ...       -0.00      -0.00       0.00   \n",
      "TcpRtt         0.01      0.02  ...        0.05       0.00       0.04   \n",
      "SynAck         0.01      0.03  ...        0.03       0.01       0.04   \n",
      "AckDat        -0.01     -0.01  ...        0.05      -0.04       0.02   \n",
      "Offset        -0.04     -0.04  ...       -0.15      -0.18      -0.08   \n",
      "sMeanPktSz     0.07      0.06  ...       -0.02       0.81       0.00   \n",
      "dMeanPktSz     0.08      0.26  ...        1.00       0.05       0.81   \n",
      "sMaxPktSz      0.30      0.21  ...        0.05       1.00       0.10   \n",
      "dMaxPktSz      0.16      0.39  ...        0.81       0.10       1.00   \n",
      "sMinPktSz     -0.01     -0.03  ...       -0.01      -0.03      -0.09   \n",
      "dMinPktSz     -0.02     -0.01  ...        0.10      -0.15      -0.05   \n",
      "DirUni        -0.01      0.02  ...        0.11      -0.09       0.15   \n",
      "DirBid        -0.04     -0.04  ...        0.03      -0.19      -0.10   \n",
      "DirDescon      0.06      0.02  ...       -0.17       0.33      -0.07   \n",
      "TCP            0.04      0.04  ...        0.01       0.20       0.11   \n",
      "UDP           -0.04     -0.04  ...       -0.01      -0.20      -0.11   \n",
      "\n",
      "            sMinPktSz  dMinPktSz  DirUni  DirBid  DirDescon   TCP   UDP  \n",
      "RunTime         -0.11      -0.25    0.08   -0.30       0.25  0.30 -0.30  \n",
      "Dur             -0.11      -0.25    0.08   -0.30       0.25  0.30 -0.30  \n",
      "SrcDur          -0.11      -0.25    0.08   -0.30       0.25  0.30 -0.30  \n",
      "DstDur          -0.17      -0.22    0.03   -0.27       0.28  0.30 -0.30  \n",
      "StdDev            NaN        NaN     NaN     NaN        NaN   NaN   NaN  \n",
      "Dport           -0.21      -0.23    0.04   -0.22       0.20  0.06 -0.06  \n",
      "TotPkts         -0.01      -0.02   -0.02   -0.04       0.07  0.04 -0.04  \n",
      "SrcPkts         -0.01      -0.03   -0.02   -0.04       0.07  0.04 -0.04  \n",
      "DstPkts         -0.01      -0.02   -0.01   -0.04       0.06  0.04 -0.04  \n",
      "TotBytes        -0.03      -0.01    0.02   -0.04       0.02  0.04 -0.04  \n",
      "SrcBytes        -0.00      -0.02   -0.02   -0.02       0.05  0.02 -0.02  \n",
      "DstBytes        -0.03       0.00    0.03   -0.04      -0.00  0.04 -0.04  \n",
      "TotAppByte      -0.03      -0.00    0.02   -0.04       0.01  0.04 -0.04  \n",
      "SAppBytes       -0.00      -0.02   -0.02   -0.02       0.04  0.02 -0.02  \n",
      "DAppBytes       -0.03       0.00    0.04   -0.03      -0.00  0.04 -0.04  \n",
      "Load            -0.05      -0.07    0.11   -0.08      -0.05  0.09 -0.09  \n",
      "SrcLoad         -0.02      -0.05    0.07   -0.06      -0.02  0.06 -0.06  \n",
      "DstLoad         -0.02      -0.03    0.05   -0.03      -0.02  0.04 -0.04  \n",
      "Loss            -0.00      -0.09    0.16   -0.11      -0.08  0.12 -0.12  \n",
      "SrcLoss          0.00      -0.09    0.16   -0.11      -0.08  0.12 -0.12  \n",
      "DstLoss         -0.02      -0.02    0.05   -0.04      -0.02  0.04 -0.04  \n",
      "pLoss            0.03      -0.11    0.17   -0.12      -0.08  0.13 -0.13  \n",
      "pSrcLoss         0.03      -0.11    0.18   -0.12      -0.09  0.13 -0.13  \n",
      "pDstLoss        -0.01      -0.03    0.06   -0.04      -0.03  0.04 -0.04  \n",
      "Retrans           NaN        NaN     NaN     NaN        NaN   NaN   NaN  \n",
      "SrcRetra          NaN        NaN     NaN     NaN        NaN   NaN   NaN  \n",
      "DstRetra          NaN        NaN     NaN     NaN        NaN   NaN   NaN  \n",
      "pRetran           NaN        NaN     NaN     NaN        NaN   NaN   NaN  \n",
      "pSrcRetr          NaN        NaN     NaN     NaN        NaN   NaN   NaN  \n",
      "pDstRetr          NaN        NaN     NaN     NaN        NaN   NaN   NaN  \n",
      "Rate            -0.01       0.00    0.04   -0.03      -0.01  0.04 -0.04  \n",
      "SrcRate         -0.02      -0.03    0.05   -0.04      -0.02  0.04 -0.04  \n",
      "DstRate         -0.01      -0.01    0.01   -0.01      -0.00  0.01 -0.01  \n",
      "TcpRtt          -0.06      -0.08    0.16   -0.11      -0.08  0.12 -0.12  \n",
      "SynAck          -0.06      -0.04    0.09   -0.06      -0.04  0.06 -0.06  \n",
      "AckDat          -0.00      -0.14    0.27   -0.18      -0.13  0.19 -0.19  \n",
      "Offset          -0.28      -0.26    0.04   -0.26       0.25  0.17 -0.17  \n",
      "sMeanPktSz       0.03      -0.13   -0.06   -0.17       0.27  0.18 -0.18  \n",
      "dMeanPktSz      -0.01       0.10    0.11    0.03      -0.17  0.01 -0.01  \n",
      "sMaxPktSz       -0.03      -0.15   -0.09   -0.19       0.33  0.20 -0.20  \n",
      "dMaxPktSz       -0.09      -0.05    0.15   -0.10      -0.07  0.11 -0.11  \n",
      "sMinPktSz        1.00       0.45   -0.25    0.50      -0.27 -0.51  0.51  \n",
      "dMinPktSz        0.45       1.00   -0.59    0.89      -0.28 -0.79  0.79  \n",
      "DirUni          -0.25      -0.59    1.00   -0.66      -0.50  0.57 -0.57  \n",
      "DirBid           0.50       0.89   -0.66    1.00      -0.32 -0.92  0.92  \n",
      "DirDescon       -0.27      -0.28   -0.50   -0.32       1.00  0.35 -0.35  \n",
      "TCP             -0.51      -0.79    0.57   -0.92       0.35  1.00 -1.00  \n",
      "UDP              0.51       0.79   -0.57    0.92      -0.35 -1.00  1.00  \n",
      "\n",
      "[48 rows x 48 columns]\n"
     ]
    }
   ],
   "source": [
    "Corr_Matrix = round(X.corr(),2)\n",
    "print(Corr_Matrix)"
   ]
  },
  {
   "attachments": {},
   "cell_type": "markdown",
   "metadata": {},
   "source": [
    "Normalizado"
   ]
  },
  {
   "cell_type": "code",
   "execution_count": 30,
   "metadata": {},
   "outputs": [],
   "source": [
    "\"\"\"guardar estados de datos\"\"\"\n",
    "df_total.to_csv('../../araData/Z/transformacion.csv',index=False)"
   ]
  },
  {
   "cell_type": "code",
   "execution_count": 28,
   "metadata": {},
   "outputs": [],
   "source": [
    "x_X = np.array(X)"
   ]
  },
  {
   "cell_type": "code",
   "execution_count": 29,
   "metadata": {},
   "outputs": [
    {
     "ename": "AttributeError",
     "evalue": "'numpy.ndarray' object has no attribute 'iteritems'",
     "output_type": "error",
     "traceback": [
      "\u001b[1;31m---------------------------------------------------------------------------\u001b[0m",
      "\u001b[1;31mAttributeError\u001b[0m                            Traceback (most recent call last)",
      "Cell \u001b[1;32mIn[29], line 4\u001b[0m\n\u001b[0;32m      1\u001b[0m fig, (ax1) \u001b[39m=\u001b[39m plt\u001b[39m.\u001b[39msubplots(ncols\u001b[39m=\u001b[39m\u001b[39m2\u001b[39m, figsize\u001b[39m=\u001b[39m(\u001b[39m24\u001b[39m, \u001b[39m7\u001b[39m))\n\u001b[0;32m      2\u001b[0m     \u001b[39m# let's compare the variable distributions before and after scaling\u001b[39;00m\n\u001b[1;32m----> 4\u001b[0m \u001b[39mfor\u001b[39;00m (label, content) \u001b[39min\u001b[39;00m x_X\u001b[39m.\u001b[39;49miteritems():\n\u001b[0;32m      5\u001b[0m     ax1\u001b[39m.\u001b[39mset_title(\u001b[39m'\u001b[39m\u001b[39mBefore Scaling\u001b[39m\u001b[39m'\u001b[39m)\n\u001b[0;32m      6\u001b[0m     sns\u001b[39m.\u001b[39mkdeplot(x_X[label], ax\u001b[39m=\u001b[39max1, label\u001b[39m=\u001b[39mlabel)\n",
      "\u001b[1;31mAttributeError\u001b[0m: 'numpy.ndarray' object has no attribute 'iteritems'"
     ]
    },
    {
     "data": {
      "image/png": "[encoded data removed]",
      "text/plain": [
       "<Figure size 2400x700 with 2 Axes>"
      ]
     },
     "metadata": {},
     "output_type": "display_data"
    }
   ],
   "source": [
    "fig, (ax1) = plt.subplots(ncols=2, figsize=(24, 7))\n",
    "    # let's compare the variable distributions before and after scaling\n",
    "\n",
    "for (label, content) in x_X.iteritems():\n",
    "    ax1.set_title('Before Scaling')\n",
    "    sns.kdeplot(x_X[label], ax=ax1, label=label)\n",
    "    leg = ax1.legend(loc=\"upper left\", bbox_to_anchor=[0, 1],\n",
    "                    ncol=2, shadow=True, title=\"Legend\", fancybox=True)"
   ]
  },
  {
   "cell_type": "code",
   "execution_count": null,
   "metadata": {},
   "outputs": [],
   "source": [
    "def plotStandarization():\n",
    "    fig, (ax1, ax2) = plt.subplots(ncols=2, figsize=(24, 7))\n",
    "    # let's compare the variable distributions before and after scaling\n",
    "\n",
    "    for (label, content) in X.iteritems():\n",
    "        ax1.set_title('Before Scaling')\n",
    "        sns.kdeplot(X[label], ax=ax1, label=label)\n",
    "        leg = ax1.legend(loc=\"upper left\", bbox_to_anchor=[0, 1],\n",
    "                     ncol=2, shadow=True, title=\"Legend\", fancybox=True)\n",
    "    \n",
    "    for (label, content) in X_scaled.iteritems():\n",
    "        ax2.set_title('After Mean Normalisation')\n",
    "        sns.kdeplot(X_scaled[label], ax=ax2, label=label)\n",
    "        leg = ax2.legend(loc=\"upper left\", bbox_to_anchor=[0, 1],\n",
    "                     ncol=2, shadow=True, title=\"Legend\", fancybox=True)\n",
    "\n",
    "    plt.show() "
   ]
  }
 ],
 "metadata": {
  "kernelspec": {
   "display_name": "Python 3",
   "language": "python",
   "name": "python3"
  },
  "language_info": {
   "codemirror_mode": {
    "name": "ipython",
    "version": 3
   },
   "file_extension": ".py",
   "mimetype": "text/x-python",
   "name": "python",
   "nbconvert_exporter": "python",
   "pygments_lexer": "ipython3",
   "version": "3.8.10 (tags/v3.8.10:3d8993a, May  3 2021, 11:48:03) [MSC v.1928 64 bit (AMD64)]"
  },
  "orig_nbformat": 4,
  "vscode": {
   "interpreter": {
    "hash": "5c3d121086e35f129a20ca7f553230286826dfcc08161000ccf738c6df1a7518"
   }
  }
 },
 "nbformat": 4,
 "nbformat_minor": 2
}
