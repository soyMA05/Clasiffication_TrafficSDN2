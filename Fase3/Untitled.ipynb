{
 "cells": [
  {
   "cell_type": "markdown",
   "id": "0ffc9d62",
   "metadata": {},
   "source": [
    "## Librerías"
   ]
  },
  {
   "cell_type": "code",
   "execution_count": 3,
   "id": "c4641efe",
   "metadata": {},
   "outputs": [],
   "source": [
    "#visualizar datos\n",
    "import pandas as pd\n",
    "#operar con matrices/vectores\n",
    "import numpy as np"
   ]
  },
  {
   "cell_type": "code",
   "execution_count": 16,
   "id": "b50b0f33",
   "metadata": {},
   "outputs": [
    {
     "data": {
      "text/html": [
       "<div>\n",
       "<style scoped>\n",
       "    .dataframe tbody tr th:only-of-type {\n",
       "        vertical-align: middle;\n",
       "    }\n",
       "\n",
       "    .dataframe tbody tr th {\n",
       "        vertical-align: top;\n",
       "    }\n",
       "\n",
       "    .dataframe thead th {\n",
       "        text-align: right;\n",
       "    }\n",
       "</style>\n",
       "<table border=\"1\" class=\"dataframe\">\n",
       "  <thead>\n",
       "    <tr style=\"text-align: right;\">\n",
       "      <th></th>\n",
       "      <th>srcMAC</th>\n",
       "      <th>dstMAC</th>\n",
       "      <th>srcIP</th>\n",
       "      <th>dstIP</th>\n",
       "      <th>srcPort</th>\n",
       "      <th>dstPort</th>\n",
       "      <th>last_seen</th>\n",
       "      <th>Protocol</th>\n",
       "      <th>proto_number</th>\n",
       "      <th>Dur</th>\n",
       "      <th>...</th>\n",
       "      <th>TnBPSrcIP</th>\n",
       "      <th>TnBPDstIP</th>\n",
       "      <th>TnP_PSrcIP</th>\n",
       "      <th>TnP_PDstIP</th>\n",
       "      <th>TnP_PerProto</th>\n",
       "      <th>TnP_Per_Dport</th>\n",
       "      <th>N_IN_Conn_P_DstIP</th>\n",
       "      <th>N_IN_Conn_P_SrcIP</th>\n",
       "      <th>Attack</th>\n",
       "      <th>Category</th>\n",
       "    </tr>\n",
       "  </thead>\n",
       "  <tbody>\n",
       "    <tr>\n",
       "      <th>0</th>\n",
       "      <td>96:08:88:93:C2:97</td>\n",
       "      <td>12:18:AA:C9:5B:C8</td>\n",
       "      <td>10.0.0.10/32</td>\n",
       "      <td>10.0.0.16/32</td>\n",
       "      <td>38238</td>\n",
       "      <td>2000</td>\n",
       "      <td>1589903118345</td>\n",
       "      <td>tcp</td>\n",
       "      <td>6</td>\n",
       "      <td>4.0</td>\n",
       "      <td>...</td>\n",
       "      <td>97565.166667</td>\n",
       "      <td>106434.727273</td>\n",
       "      <td>124.666667</td>\n",
       "      <td>136.0</td>\n",
       "      <td>748.0</td>\n",
       "      <td>115.076923</td>\n",
       "      <td>1.909091</td>\n",
       "      <td>1.909091</td>\n",
       "      <td>0.0</td>\n",
       "      <td>0.0</td>\n",
       "    </tr>\n",
       "    <tr>\n",
       "      <th>1</th>\n",
       "      <td>12:18:AA:C9:5B:C8</td>\n",
       "      <td>B6:9D:A5:D5:F4:5C</td>\n",
       "      <td>10.0.0.16/32</td>\n",
       "      <td>10.0.0.14/32</td>\n",
       "      <td>2000</td>\n",
       "      <td>35376</td>\n",
       "      <td>1589903118345</td>\n",
       "      <td>tcp</td>\n",
       "      <td>6</td>\n",
       "      <td>9.0</td>\n",
       "      <td>...</td>\n",
       "      <td>97565.166667</td>\n",
       "      <td>106434.727273</td>\n",
       "      <td>124.666667</td>\n",
       "      <td>136.0</td>\n",
       "      <td>748.0</td>\n",
       "      <td>115.076923</td>\n",
       "      <td>1.909091</td>\n",
       "      <td>1.909091</td>\n",
       "      <td>0.0</td>\n",
       "      <td>0.0</td>\n",
       "    </tr>\n",
       "    <tr>\n",
       "      <th>2</th>\n",
       "      <td>C6:4B:AB:4D:97:DA</td>\n",
       "      <td>12:18:AA:C9:5B:C8</td>\n",
       "      <td>10.0.0.17/32</td>\n",
       "      <td>10.0.0.16/32</td>\n",
       "      <td>60268</td>\n",
       "      <td>12345</td>\n",
       "      <td>1589903118345</td>\n",
       "      <td>tcp</td>\n",
       "      <td>6</td>\n",
       "      <td>3.0</td>\n",
       "      <td>...</td>\n",
       "      <td>97565.166667</td>\n",
       "      <td>106434.727273</td>\n",
       "      <td>124.666667</td>\n",
       "      <td>136.0</td>\n",
       "      <td>748.0</td>\n",
       "      <td>115.076923</td>\n",
       "      <td>1.909091</td>\n",
       "      <td>1.909091</td>\n",
       "      <td>0.0</td>\n",
       "      <td>0.0</td>\n",
       "    </tr>\n",
       "    <tr>\n",
       "      <th>3</th>\n",
       "      <td>12:18:AA:C9:5B:C8</td>\n",
       "      <td>C6:4B:AB:4D:97:DA</td>\n",
       "      <td>10.0.0.16/32</td>\n",
       "      <td>10.0.0.17/32</td>\n",
       "      <td>12345</td>\n",
       "      <td>60268</td>\n",
       "      <td>1589903118345</td>\n",
       "      <td>tcp</td>\n",
       "      <td>6</td>\n",
       "      <td>3.0</td>\n",
       "      <td>...</td>\n",
       "      <td>97565.166667</td>\n",
       "      <td>106434.727273</td>\n",
       "      <td>124.666667</td>\n",
       "      <td>136.0</td>\n",
       "      <td>748.0</td>\n",
       "      <td>115.076923</td>\n",
       "      <td>1.909091</td>\n",
       "      <td>1.909091</td>\n",
       "      <td>0.0</td>\n",
       "      <td>0.0</td>\n",
       "    </tr>\n",
       "    <tr>\n",
       "      <th>4</th>\n",
       "      <td>12:18:AA:C9:5B:C8</td>\n",
       "      <td>B2:3A:6D:BA:D8:03</td>\n",
       "      <td>10.0.0.16/32</td>\n",
       "      <td>10.0.0.11/32</td>\n",
       "      <td>2000</td>\n",
       "      <td>60756</td>\n",
       "      <td>1589903118345</td>\n",
       "      <td>tcp</td>\n",
       "      <td>6</td>\n",
       "      <td>2.0</td>\n",
       "      <td>...</td>\n",
       "      <td>97565.166667</td>\n",
       "      <td>106434.727273</td>\n",
       "      <td>124.666667</td>\n",
       "      <td>136.0</td>\n",
       "      <td>748.0</td>\n",
       "      <td>115.076923</td>\n",
       "      <td>1.909091</td>\n",
       "      <td>1.909091</td>\n",
       "      <td>0.0</td>\n",
       "      <td>0.0</td>\n",
       "    </tr>\n",
       "  </tbody>\n",
       "</table>\n",
       "<p>5 rows × 33 columns</p>\n",
       "</div>"
      ],
      "text/plain": [
       "              srcMAC             dstMAC         srcIP         dstIP  srcPort  \\\n",
       "0  96:08:88:93:C2:97  12:18:AA:C9:5B:C8  10.0.0.10/32  10.0.0.16/32    38238   \n",
       "1  12:18:AA:C9:5B:C8  B6:9D:A5:D5:F4:5C  10.0.0.16/32  10.0.0.14/32     2000   \n",
       "2  C6:4B:AB:4D:97:DA  12:18:AA:C9:5B:C8  10.0.0.17/32  10.0.0.16/32    60268   \n",
       "3  12:18:AA:C9:5B:C8  C6:4B:AB:4D:97:DA  10.0.0.16/32  10.0.0.17/32    12345   \n",
       "4  12:18:AA:C9:5B:C8  B2:3A:6D:BA:D8:03  10.0.0.16/32  10.0.0.11/32     2000   \n",
       "\n",
       "   dstPort      last_seen Protocol  proto_number  Dur  ...     TnBPSrcIP  \\\n",
       "0     2000  1589903118345      tcp             6  4.0  ...  97565.166667   \n",
       "1    35376  1589903118345      tcp             6  9.0  ...  97565.166667   \n",
       "2    12345  1589903118345      tcp             6  3.0  ...  97565.166667   \n",
       "3    60268  1589903118345      tcp             6  3.0  ...  97565.166667   \n",
       "4    60756  1589903118345      tcp             6  2.0  ...  97565.166667   \n",
       "\n",
       "       TnBPDstIP  TnP_PSrcIP  TnP_PDstIP  TnP_PerProto  TnP_Per_Dport  \\\n",
       "0  106434.727273  124.666667       136.0         748.0     115.076923   \n",
       "1  106434.727273  124.666667       136.0         748.0     115.076923   \n",
       "2  106434.727273  124.666667       136.0         748.0     115.076923   \n",
       "3  106434.727273  124.666667       136.0         748.0     115.076923   \n",
       "4  106434.727273  124.666667       136.0         748.0     115.076923   \n",
       "\n",
       "   N_IN_Conn_P_DstIP  N_IN_Conn_P_SrcIP  Attack  Category  \n",
       "0           1.909091           1.909091     0.0       0.0  \n",
       "1           1.909091           1.909091     0.0       0.0  \n",
       "2           1.909091           1.909091     0.0       0.0  \n",
       "3           1.909091           1.909091     0.0       0.0  \n",
       "4           1.909091           1.909091     0.0       0.0  \n",
       "\n",
       "[5 rows x 33 columns]"
      ]
     },
     "execution_count": 16,
     "metadata": {},
     "output_type": "execute_result"
    }
   ],
   "source": [
    "df = pd.read_csv('ddos1.csv')\n",
    "df.head()"
   ]
  },
  {
   "cell_type": "code",
   "execution_count": 17,
   "id": "f34f9b73",
   "metadata": {},
   "outputs": [
    {
     "name": "stdout",
     "output_type": "stream",
     "text": [
      "<class 'pandas.core.frame.DataFrame'>\n",
      "RangeIndex: 35369 entries, 0 to 35368\n",
      "Data columns (total 33 columns):\n",
      " #   Column             Non-Null Count  Dtype  \n",
      "---  ------             --------------  -----  \n",
      " 0   srcMAC             35369 non-null  object \n",
      " 1   dstMAC             35369 non-null  object \n",
      " 2   srcIP              35369 non-null  object \n",
      " 3   dstIP              35369 non-null  object \n",
      " 4   srcPort            35369 non-null  int64  \n",
      " 5   dstPort            35369 non-null  int64  \n",
      " 6   last_seen          35369 non-null  int64  \n",
      " 7   Protocol           35369 non-null  object \n",
      " 8   proto_number       35369 non-null  int64  \n",
      " 9   Dur                35369 non-null  float64\n",
      " 10  Mean               35369 non-null  float64\n",
      " 11  Stddev             35369 non-null  float64\n",
      " 12  Min                35369 non-null  float64\n",
      " 13  Max                35369 non-null  float64\n",
      " 14  Pkts               35369 non-null  float64\n",
      " 15  Bytes              35368 non-null  float64\n",
      " 16  Spkts              35368 non-null  float64\n",
      " 17  Dpkts              35368 non-null  float64\n",
      " 18  Sbytes             35368 non-null  float64\n",
      " 19  Dbytes             35368 non-null  float64\n",
      " 20  Srate              35368 non-null  float64\n",
      " 21  Drate              35368 non-null  float64\n",
      " 22  Sum                35368 non-null  float64\n",
      " 23  TnBPSrcIP          35368 non-null  float64\n",
      " 24  TnBPDstIP          35368 non-null  float64\n",
      " 25  TnP_PSrcIP         35368 non-null  float64\n",
      " 26  TnP_PDstIP         35368 non-null  float64\n",
      " 27  TnP_PerProto       35368 non-null  float64\n",
      " 28  TnP_Per_Dport      35368 non-null  float64\n",
      " 29  N_IN_Conn_P_DstIP  35368 non-null  float64\n",
      " 30  N_IN_Conn_P_SrcIP  35368 non-null  float64\n",
      " 31  Attack             35368 non-null  float64\n",
      " 32  Category           35368 non-null  float64\n",
      "dtypes: float64(24), int64(4), object(5)\n",
      "memory usage: 8.9+ MB\n"
     ]
    }
   ],
   "source": [
    "df.info(verbose = True)"
   ]
  },
  {
   "cell_type": "code",
   "execution_count": 18,
   "id": "c3b59b25",
   "metadata": {},
   "outputs": [
    {
     "data": {
      "text/plain": [
       "2"
      ]
     },
     "execution_count": 18,
     "metadata": {},
     "output_type": "execute_result"
    }
   ],
   "source": [
    "len(df.Protocol.unique())"
   ]
  },
  {
   "cell_type": "code",
   "execution_count": 19,
   "id": "c9fbe79c",
   "metadata": {},
   "outputs": [
    {
     "data": {
      "text/plain": [
       "array(['tcp', 'udp'], dtype=object)"
      ]
     },
     "execution_count": 19,
     "metadata": {},
     "output_type": "execute_result"
    }
   ],
   "source": [
    "df.Protocol.unique()"
   ]
  },
  {
   "cell_type": "code",
   "execution_count": 10,
   "id": "21a6b73e",
   "metadata": {},
   "outputs": [
    {
     "data": {
      "text/plain": [
       "array(['Normal', 'Reconnaissance', 'Backdoor', 'DoS', 'Exploits',\n",
       "       'Analysis', 'Fuzzers', 'Worms', 'Shellcode', 'Generic'],\n",
       "      dtype=object)"
      ]
     },
     "execution_count": 10,
     "metadata": {},
     "output_type": "execute_result"
    }
   ],
   "source": [
    "df.attack_cat.unique()"
   ]
  }
 ],
 "metadata": {
  "kernelspec": {
   "display_name": "Python 3 (ipykernel)",
   "language": "python",
   "name": "python3"
  },
  "language_info": {
   "codemirror_mode": {
    "name": "ipython",
    "version": 3
   },
   "file_extension": ".py",
   "mimetype": "text/x-python",
   "name": "python",
   "nbconvert_exporter": "python",
   "pygments_lexer": "ipython3",
   "version": "3.9.7"
  }
 },
 "nbformat": 4,
 "nbformat_minor": 5
}
